{
 "cells": [
  {
   "cell_type": "markdown",
   "metadata": {
    "collapsed": false
   },
   "source": [
    "# Mirror Reporting Area Locations\n",
    "\n",
    "Mirrors the Airnow reporting area locations .dat file (https://files.airnowtech.org/airnow/today/reporting_area_locations_V2.dat) and also creates a JSON version of it.\n",
    "\n",
    "Airnow updates the .dat file twice per hour, at 25 and 55 minutes after the hour.  This mirror runs on the hour and half hour.\n",
    "\n",
    "Data sheet is located at https://docs.airnowapi.org/docs/ReportingAreaInformationFactSheet.pdf\n",
    "\n",
    "Reports to stat.createlab.org as `Airnow Reporting Area Locations File - Mirror`."
   ]
  },
  {
   "cell_type": "code",
   "execution_count": 0,
   "metadata": {
    "collapsed": false
   },
   "outputs": [
   ],
   "source": [
    "import json, os, dateutil, re, requests, subprocess, datetime, glob, stat\n",
    "\n",
    "from dateutil import rrule, tz, parser"
   ]
  },
  {
   "cell_type": "code",
   "execution_count": 0,
   "metadata": {
    "collapsed": false
   },
   "outputs": [
   ],
   "source": [
    "# Boilerplate to load utils.ipynb\n",
    "# See https://github.com/CMU-CREATE-Lab/python-utils/blob/master/utils.ipynb\n",
    "\n",
    "\n",
    "def exec_ipynb(filename_or_url):\n",
    "    nb = (requests.get(filename_or_url).json() if re.match(r'https?:', filename_or_url) else json.load(open(filename_or_url)))\n",
    "    if(nb['nbformat'] >= 4):\n",
    "        src = [''.join(cell['source']) for cell in nb['cells'] if cell['cell_type'] == 'code']\n",
    "    else:\n",
    "        src = [''.join(cell['input']) for cell in nb['worksheets'][0]['cells'] if cell['cell_type'] == 'code']\n",
    "\n",
    "    tmpname = '/tmp/%s-%s-%d.py' % (os.path.basename(filename_or_url),\n",
    "                                    datetime.datetime.now().strftime('%Y%m%d%H%M%S%f'),\n",
    "                                    os.getpid())\n",
    "    src = '\\n\\n\\n'.join(src)\n",
    "    open(tmpname, 'w').write(src)\n",
    "    code = compile(src, tmpname, 'exec')\n",
    "    exec(code, globals())\n",
    "\n",
    "\n",
    "exec_ipynb('./python-utils/utils.ipynb')\n",
    "exec_ipynb('./airnow-common.ipynb')"
   ]
  },
  {
   "cell_type": "code",
   "execution_count": 0,
   "metadata": {
    "collapsed": false
   },
   "outputs": [
   ],
   "source": [
    "MIRROR_TIME_PERIOD_SECS = 60 * 30   # every 30 minutes\n",
    "\n",
    "STAT_SERVICE_NAME = 'Airnow Reporting Area Locations File - Mirror'\n",
    "STAT_HOSTNAME = 'hal21'\n",
    "STAT_SHORTNAME = 'airnow-mirror-reporting-area-locations-file'\n",
    "\n",
    "REPORTING_AREA_LOCATIONS_DAT_FILENAME = 'reporting_area_locations_V2.dat'\n",
    "REPORTING_AREA_LOCATIONS_JSON_FILENAME = 'reporting_area_locations.json'"
   ]
  },
  {
   "cell_type": "code",
   "execution_count": 0,
   "metadata": {
    "collapsed": false
   },
   "outputs": [
   ],
   "source": [
    "Stat.set_service(STAT_SERVICE_NAME)"
   ]
  },
  {
   "cell_type": "code",
   "execution_count": 0,
   "metadata": {
    "collapsed": false
   },
   "outputs": [
   ],
   "source": [
    "def jsonify_locations():\n",
    "    field_names = ('name|stateCode|countryCode|forecasts|actionDayName|lat|lng|gmtOffset|hasDST|tzLabel|dstzLabel|twcCode|usaToday|forecastSource').split('|')\n",
    "\n",
    "    reporting_areas = {}\n",
    "\n",
    "    # The file may have non-ASCII characters, in the archaic Original IBM PC 8-bit charset\n",
    "    # known today as Code page 437.  Translate to unicode during read\n",
    "    source = AirnowCommon.DATA_DIRECTORY + '/' + REPORTING_AREA_LOCATIONS_DAT_FILENAME\n",
    "    dest = AirnowCommon.DATA_DIRECTORY + '/' + REPORTING_AREA_LOCATIONS_JSON_FILENAME\n",
    "    data =  open(source, 'r', encoding='cp437').read()\n",
    "\n",
    "    for line in data.split('\\n'):\n",
    "        line = line.strip()\n",
    "        if len(line) == 0:\n",
    "            continue\n",
    "        fields = list(map(lambda s: s.strip(), line.split('|')))    # split on | then strip whitespace from every field\n",
    "        if len(field_names) != len(fields):\n",
    "            Stat.warning('Record has %d field names but %d fields. Skipping.' % (len(field_names), len(fields)), host=STAT_HOSTNAME, shortname=STAT_SHORTNAME)\n",
    "            continue\n",
    "        field_map = dict(zip(field_names, fields))\n",
    "        key = '|'.join((field_map['countryCode'], field_map['stateCode'], field_map['name']))\n",
    "\n",
    "        # delete keys we don't need\n",
    "        field_map.pop('forecasts', None)\n",
    "        field_map.pop('actionDayName', None)\n",
    "        field_map.pop('usaToday', None)\n",
    "        field_map.pop('forecasts', None)\n",
    "        field_map.pop('forecastSource', None)\n",
    "\n",
    "        if field_map['hasDST'] == 'Yes':\n",
    "            field_map['hasDST'] = True\n",
    "        elif field_map['hasDST'] == 'No':\n",
    "            field_map['hasDST'] = False\n",
    "            field_map.pop('dstzLabel', None)  # no point including the daylight savings time label if they don't do DST\n",
    "\n",
    "        # add this site id to the param_to_site_ids map\n",
    "        if key not in reporting_areas:\n",
    "            reporting_areas[key] = field_map\n",
    "        else:\n",
    "            Stat.warning('skipping duplicate key [%s]' % (key), host=STAT_HOSTNAME, shortname=STAT_SHORTNAME)\n",
    "\n",
    "    Stat.debug('Read %d locations from %s' % (len(reporting_areas), source), host=STAT_HOSTNAME, shortname=STAT_SHORTNAME)\n",
    "\n",
    "    # write the JSON file to disk\n",
    "    tmp = dest + '.tmp' + str(os.getpid())\n",
    "    os.makedirs(os.path.dirname(tmp), exist_ok=True)\n",
    "    with open(tmp, 'w') as json_file:\n",
    "        json.dump(reporting_areas, json_file, sort_keys=True)\n",
    "    os.rename(tmp, dest)\n",
    "\n",
    "    # make the JSON file readable by everyone\n",
    "    os.chmod(dest, stat.S_IREAD | stat.S_IWRITE | stat.S_IRGRP | stat.S_IROTH)\n",
    "\n",
    "    # make the JSON file's file stat times match those of the .dat\n",
    "    source_file_stat = os.stat(source)\n",
    "    os.utime(dest, (source_file_stat.st_mtime, source_file_stat.st_mtime))\n",
    "\n",
    "    Stat.info('Successfully created %s ' % REPORTING_AREA_LOCATIONS_JSON_FILENAME, host=STAT_HOSTNAME, shortname=STAT_SHORTNAME)\n",
    "\n",
    "#jsonify_locations()"
   ]
  },
  {
   "cell_type": "code",
   "execution_count": 0,
   "metadata": {
    "collapsed": false
   },
   "outputs": [
   ],
   "source": [
    "def mirror_file():\n",
    "    # Latest file is at https://files.airnowtech.org/airnow/today/reporting_area_locations_V2.dat\n",
    "    (is_new, message, status_code) = AirnowCommon.mirror_airnow_file('today' + '/' + REPORTING_AREA_LOCATIONS_DAT_FILENAME, AirnowCommon.DATA_DIRECTORY + '/' + REPORTING_AREA_LOCATIONS_DAT_FILENAME)\n",
    "\n",
    "    if is_new:\n",
    "        Stat.info(message, host=STAT_HOSTNAME, shortname=STAT_SHORTNAME)\n",
    "        jsonify_locations()\n",
    "    else:\n",
    "        if status_code == 304:\n",
    "            Stat.info(message, host=STAT_HOSTNAME, shortname=STAT_SHORTNAME)\n",
    "        elif status_code < 400:\n",
    "            Stat.info(message, host=STAT_HOSTNAME, shortname=STAT_SHORTNAME)\n",
    "        else:\n",
    "            Stat.warning(message, host=STAT_HOSTNAME, shortname=STAT_SHORTNAME)\n",
    "\n",
    "#mirror_file()"
   ]
  },
  {
   "cell_type": "code",
   "execution_count": 0,
   "metadata": {
    "collapsed": false
   },
   "outputs": [
   ],
   "source": [
    "def mirror():\n",
    "    starting_timestamp = datetime.datetime.now().timestamp()\n",
    "    Stat.info('Mirroring the Airnow %s file...' % REPORTING_AREA_LOCATIONS_DAT_FILENAME, host=STAT_HOSTNAME, shortname=STAT_SHORTNAME)\n",
    "    mirror_file()\n",
    "    elapsed_seconds = datetime.datetime.now().timestamp() - starting_timestamp\n",
    "    Stat.up('Done mirroring the Airnow %s file (elapsed time: %d seconds)' % (REPORTING_AREA_LOCATIONS_DAT_FILENAME, elapsed_seconds), host=STAT_HOSTNAME, shortname=STAT_SHORTNAME, valid_for_secs=MIRROR_TIME_PERIOD_SECS*1.5)\n",
    "\n",
    "def mirror_forever():\n",
    "    while True:\n",
    "        mirror()\n",
    "        sleep_until_next_period(MIRROR_TIME_PERIOD_SECS)\n",
    "\n",
    "mirror_forever()"
   ]
  }
 ],
 "metadata": {
  "kernelspec": {
   "display_name": "Anaconda Python 3",
   "language": "python",
   "name": "anaconda3"
  },
  "language_info": {
   "codemirror_mode": {
    "name": "ipython",
    "version": 3
   },
   "file_extension": ".py",
   "mimetype": "text/x-python",
   "name": "python",
   "nbconvert_exporter": "python",
   "pygments_lexer": "ipython3",
   "version": "3.7.4"
  }
 },
 "nbformat": 4,
 "nbformat_minor": 0
}