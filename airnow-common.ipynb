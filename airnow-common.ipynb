{
 "cells": [
  {
   "cell_type": "markdown",
   "metadata": {
    "collapsed": false
   },
   "source": [
    "# Airnow Common\n",
    "\n",
    "Constants and functions common to the various Airnow scripts."
   ]
  },
  {
   "cell_type": "code",
   "execution_count": 0,
   "metadata": {
    "collapsed": false
   },
   "outputs": [
   ],
   "source": [
    "import os, dateutil, requests, datetime\n",
    "\n",
    "from dateutil import rrule, tz, parser"
   ]
  },
  {
   "cell_type": "code",
   "execution_count": 0,
   "metadata": {
    "collapsed": false
   },
   "outputs": [
   ],
   "source": [
    "class AirnowCommonInstance:\n",
    "    AIRNOW_ROOT_URL = 'https://files.airnowtech.org/airnow/'\n",
    "    DATA_DIRECTORY = '../../airnow-data'\n",
    "\n",
    "    DAILY_AQI_DIRECTORY = DATA_DIRECTORY + '/daily-aqi'\n",
    "    DAILY_AQI_DAT_DIRECTORY = DAILY_AQI_DIRECTORY + '/dat'\n",
    "    DAILY_AQI_JSON_DIRECTORY = DAILY_AQI_DIRECTORY + '/json'\n",
    "\n",
    "    HOURLY_AQI_DIRECTORY = DATA_DIRECTORY + '/hourly-aqi'\n",
    "    HOURLY_AQI_DAT_DIRECTORY = HOURLY_AQI_DIRECTORY + '/dat'\n",
    "    HOURLY_AQI_JSON_DIRECTORY = HOURLY_AQI_DIRECTORY + '/json'\n",
    "\n",
    "    DAILY_VALUES_DIRECTORY = DATA_DIRECTORY + '/daily-values'\n",
    "    DAILY_VALUES_DAT_DIRECTORY = DAILY_VALUES_DIRECTORY + '/dat'\n",
    "\n",
    "    HOURLY_VALUES_DIRECTORY = DATA_DIRECTORY + '/hourly-values'\n",
    "    HOURLY_VALUES_DAT_DIRECTORY = HOURLY_VALUES_DIRECTORY + '/dat'\n",
    "    HOURLY_VALUES_UPLOADED_DIRECTORY = HOURLY_VALUES_DIRECTORY + '/uploaded-to-esdr'\n",
    "\n",
    "    HIGHEST_FIVE_AQI_DIRECTORY = DATA_DIRECTORY + '/highest-five-aqi'\n",
    "    HIGHEST_FIVE_AQI_DAT_DIRECTORY = HIGHEST_FIVE_AQI_DIRECTORY + '/dat'\n",
    "\n",
    "    def directory_from_date(self, dt):\n",
    "        return dt.strftime('%Y/%Y%m%d')\n",
    "\n",
    "    def datetime2epoch(self, dt):\n",
    "        return (dt - datetime.datetime(1970, 1, 1, tzinfo=tz.tzutc())).total_seconds()\n",
    "\n",
    "    # Returns a tuple containing (True, message, HTTP status) if the file was actually mirrored (i.e. both newer than the current version, and successfully downloaded), returns a tuple containing (False, message, HTTP status) otherwise.\n",
    "    def mirror_file_using_modtime(self, src_url, dest):\n",
    "        headers = {}\n",
    "        # If destination already exists, mirror only if newer\n",
    "        try:\n",
    "            filestat = os.stat(dest)\n",
    "            date = time.strftime('%a, %d %b %Y %H:%M:%S GMT', time.gmtime(filestat.st_mtime))\n",
    "            headers['If-Modified-Since'] = date\n",
    "        except:\n",
    "            pass\n",
    "\n",
    "        response = requests.get(src_url, headers=headers)\n",
    "        if response.status_code == 200:\n",
    "            data = response.content\n",
    "\n",
    "            server_modtime = dateutil.parser.parse(response.headers['Last-Modified'])\n",
    "            server_modtime_epoch = self.datetime2epoch(server_modtime)\n",
    "            tmp = dest + '.tmp' + str(os.getpid())\n",
    "            os.makedirs(os.path.dirname(tmp), exist_ok=True)\n",
    "            open(tmp, 'wb').write(data)\n",
    "            os.rename(tmp, dest)\n",
    "            os.utime(dest, (server_modtime_epoch, server_modtime_epoch))\n",
    "            print('Wrote %d bytes to %s' % (len(data), dest))\n",
    "            return (True, 'Successfully mirrored %s to %s (%d bytes)' % (src_url, dest, len(data)), response.status_code)\n",
    "        elif response.status_code == 304:\n",
    "            return (False, 'Local mirror of %s is up to date.  Skipping.' % (src_url), response.status_code)\n",
    "        elif response.status_code == 404:\n",
    "            return (False, 'File %s not found (HTTP %d). Skipping.' % (src_url, response.status_code), response.status_code)\n",
    "        else:\n",
    "            return (False, 'Received status code %d while fetching %s.  Skipping.' % (response.status_code, src_url), response.status_code)\n",
    "\n",
    "    # Mirrors a file from the Airnow server specified by src, assumed to be a path relative to `AirnowCommon.AIRNOW_ROOT_URL`.  Returns True if the file was actually mirrored (i.e. both newer than the current version, and successfully downloaded), returns False otherwise.\n",
    "    def mirror_airnow_file(self, src, dest):\n",
    "        return self.mirror_file_using_modtime(AirnowCommon.AIRNOW_ROOT_URL + src, dest)\n",
    "\n",
    "\n",
    "AirnowCommon = AirnowCommonInstance()"
   ]
  }
 ],
 "metadata": {
  "kernelspec": {
   "display_name": "Anaconda Python3",
   "language": "python",
   "name": "anaconda3"
  },
  "language_info": {
   "codemirror_mode": {
    "name": "ipython",
    "version": 3
   },
   "file_extension": ".py",
   "mimetype": "text/x-python",
   "name": "python",
   "nbconvert_exporter": "python",
   "pygments_lexer": "ipython3",
   "version": "3.7.6"
  }
 },
 "nbformat": 4,
 "nbformat_minor": 4
}