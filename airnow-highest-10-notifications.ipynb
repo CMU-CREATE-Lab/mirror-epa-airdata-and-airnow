{
 "cells": [
  {
   "cell_type": "markdown",
   "metadata": {
    "collapsed": false
   },
   "source": [
    "# Airnow Highest 10 Notifications\n",
    "\n",
    "Runs every five minutes, and sends email notifications to a small set of people whenever a particular set of reporting areas appears in, changes position in, or leaves the Highest 10.  Users and reporting areas of concern are defined in JSON file `highest-10-notifications-config.json`.  Format for that configuration file is like this, where reporting area IDs are found in `reporting_areas.json`:\n",
    "\n",
    "```\n",
    "{\n",
    "   \"alertableReportingAreas\" : {\n",
    "      \"pa003\" : {\n",
    "         \"emails\" : [\"foo@bar.com\"]\n",
    "      },\n",
    "      \"pa005\" : {\n",
    "         \"emails\" : [\"a@z.com\", \"foo@bar.com\"]\n",
    "      }\n",
    "   }\n",
    "}\n",
    "```\n",
    "\n",
    "This script uses SendGrid to send emails and depends on a configuration file named `sendgrid-config.json` in the current directory.  Format for that file is:\n",
    "\n",
    "```\n",
    "{\n",
    "   \"api_key\" : \"YOUR_API_KEY_HERE\"\n",
    "}\n",
    "```\n",
    "\n",
    "Reports to stat.createlab.org as `Airnow Highest Ten - Notifications`."
   ]
  },
  {
   "cell_type": "code",
   "execution_count": 0,
   "metadata": {
    "collapsed": false
   },
   "outputs": [
   ],
   "source": [
    "import json, os, dateutil, re, requests, subprocess, datetime, glob, stat\n",
    "from dateutil import rrule, tz, parser\n",
    "from python_http_client.exceptions import HTTPError\n",
    "\n",
    "# using SendGrid's Python Library\n",
    "# https://github.com/sendgrid/sendgrid-python\n",
    "from sendgrid import *\n",
    "from sendgrid.helpers.mail import Mail, From, To, Subject, PlainTextContent, HtmlContent, SendGridException"
   ]
  },
  {
   "cell_type": "code",
   "execution_count": 0,
   "metadata": {
    "collapsed": false
   },
   "outputs": [
   ],
   "source": [
    "# Boilerplate to load utils.ipynb\n",
    "# See https://github.com/CMU-CREATE-Lab/python-utils/blob/master/utils.ipynb\n",
    "\n",
    "def exec_ipynb(filename_or_url):\n",
    "    nb = (requests.get(filename_or_url).json() if re.match(r'https?:', filename_or_url) else json.load(open(filename_or_url)))\n",
    "    if(nb['nbformat'] >= 4):\n",
    "        src = [''.join(cell['source']) for cell in nb['cells'] if cell['cell_type'] == 'code']\n",
    "    else:\n",
    "        src = [''.join(cell['input']) for cell in nb['worksheets'][0]['cells'] if cell['cell_type'] == 'code']\n",
    "\n",
    "    tmpname = '/tmp/%s-%s-%d.py' % (os.path.basename(filename_or_url),\n",
    "                                    datetime.datetime.now().strftime('%Y%m%d%H%M%S%f'),\n",
    "                                    os.getpid())\n",
    "    src = '\\n\\n\\n'.join(src)\n",
    "    open(tmpname, 'w').write(src)\n",
    "    code = compile(src, tmpname, 'exec')\n",
    "    exec(code, globals())\n",
    "\n",
    "exec_ipynb('./python-utils/utils.ipynb')\n",
    "exec_ipynb('./airnow-common.ipynb')"
   ]
  },
  {
   "cell_type": "code",
   "execution_count": 0,
   "metadata": {
    "collapsed": false
   },
   "outputs": [
   ],
   "source": [
    "STAT_SERVICE_NAME = 'Airnow Highest Ten - Notifications'\n",
    "STAT_HOSTNAME = 'hal21'\n",
    "STAT_SHORTNAME = 'airnow-highest-ten-notifications'\n",
    "\n",
    "RUN_INTERVAL_SECONDS = 60 * 5   # every 5 minutes\n",
    "\n",
    "CONFIG_FILE = './highest-10-notifications-config.json'\n",
    "\n",
    "REPORTING_AREAS_JSON_FILENAME = 'reporting_areas.json'\n",
    "\n",
    "# import the SendGrid config file\n",
    "SENDGRID_CONFIG_FILE = './sendgrid-config.json'\n",
    "SENDGRID_CONFIG = {}\n",
    "with open(SENDGRID_CONFIG_FILE, 'r') as f:\n",
    "    SENDGRID_CONFIG = json.load(f)\n",
    "\n",
    "#print(SENDGRID_CONFIG['api_key'])"
   ]
  },
  {
   "cell_type": "code",
   "execution_count": 0,
   "metadata": {
    "collapsed": false
   },
   "outputs": [
   ],
   "source": [
    "Stat.set_service(STAT_SERVICE_NAME)"
   ]
  },
  {
   "cell_type": "code",
   "execution_count": 0,
   "metadata": {
    "collapsed": false
   },
   "outputs": [
   ],
   "source": [
    "reporting_areas = {}\n",
    "\n",
    "notifications_config = {}\n",
    "\n",
    "previous_rankings_str = \"\"\n",
    "previous_alertable_reporting_area_rankings = {}\n",
    "\n",
    "current_rankings = []"
   ]
  },
  {
   "cell_type": "code",
   "execution_count": 0,
   "metadata": {
    "collapsed": false,
    "scrolled": true
   },
   "outputs": [
   ],
   "source": [
    "def read_reporting_areas():\n",
    "    global reporting_areas\n",
    "    with open(AirnowCommon.DATA_DIRECTORY + '/' + REPORTING_AREAS_JSON_FILENAME, 'r') as f:\n",
    "        reporting_areas = json.load(f)\n",
    "\n",
    "# read_reporting_areas()\n",
    "# print(json.dumps(reporting_areas['pa003'], sort_keys=True, indent=3))"
   ]
  },
  {
   "cell_type": "code",
   "execution_count": 0,
   "metadata": {
    "collapsed": false
   },
   "outputs": [
   ],
   "source": [
    "def get_reporting_area_name(reporting_area_id):\n",
    "    global reporting_areas\n",
    "    if reporting_area_id in reporting_areas:\n",
    "        info = reporting_areas[reporting_area_id]\n",
    "        return info['name'] + ', ' + info['stateCode']\n",
    "\n",
    "    return \"Unknown Reporting Area\"\n",
    "\n",
    "# print(get_reporting_area_name('pa003'))   # Pittsburgh, PA\n",
    "# print(get_reporting_area_name('pa005'))   # Liberty-Clairton Area, PA\n",
    "# print(get_reporting_area_name('ar002'))   # Springdale (Springdale-Fayetteville-Bentonville), AR\n",
    "# print(get_reporting_area_name('bogus'))   # Unknown Reporting Area"
   ]
  },
  {
   "cell_type": "code",
   "execution_count": 0,
   "metadata": {
    "collapsed": false
   },
   "outputs": [
   ],
   "source": [
    "def read_config_file():\n",
    "    global notifications_config\n",
    "    with open(CONFIG_FILE, 'r') as f:\n",
    "        notifications_config = json.load(f)\n",
    "\n",
    "# read_config_file()\n",
    "# print(json.dumps(notifications_config, sort_keys=True, indent=3))"
   ]
  },
  {
   "cell_type": "code",
   "execution_count": 0,
   "metadata": {
    "collapsed": false
   },
   "outputs": [
   ],
   "source": [
    "def is_alertable_reporting_area(reporting_area_id):\n",
    "    global notifications_config\n",
    "    return str(reporting_area_id) in notifications_config['alertableReportingAreas']\n",
    "\n",
    "# print(is_alertable_reporting_area(None))\n",
    "# print(is_alertable_reporting_area(162))\n",
    "# print(is_alertable_reporting_area(\"pa003\"))\n",
    "# print(is_alertable_reporting_area(\"pa005\"))\n",
    "# print(is_alertable_reporting_area(\"bogus\"))"
   ]
  },
  {
   "cell_type": "code",
   "execution_count": 0,
   "metadata": {
    "collapsed": false
   },
   "outputs": [
   ],
   "source": [
    "def get_email_addresses_to_notify_for_reporting_area(reporting_area_id):\n",
    "    global notifications_config\n",
    "    reporting_area_id_str = str(reporting_area_id)\n",
    "    if reporting_area_id_str in notifications_config['alertableReportingAreas']:\n",
    "        return notifications_config['alertableReportingAreas'][reporting_area_id_str]['emails']\n",
    "\n",
    "    return []\n",
    "\n",
    "# print(get_email_addresses_to_notify_for_reporting_area(\"pa003\"))\n",
    "# print(get_email_addresses_to_notify_for_reporting_area(\"pa005\"))\n",
    "# print(get_email_addresses_to_notify_for_reporting_area(\"bogus\"))\n",
    "# print(get_email_addresses_to_notify_for_reporting_area(None))"
   ]
  },
  {
   "cell_type": "code",
   "execution_count": 0,
   "metadata": {
    "collapsed": false
   },
   "outputs": [
   ],
   "source": [
    "def check_current_rankings():\n",
    "    global previous_rankings_str, current_rankings\n",
    "    files = glob.glob(AirnowCommon.HIGHEST_TEN_AQI_DAT_DIRECTORY + '/[0-9]*.dat')\n",
    "    if len(files) == 0:\n",
    "        return None\n",
    "    last_file = sorted(files)[-1]\n",
    "    Stat.debug('Most recent data file is %s' % (last_file), host=STAT_HOSTNAME, shortname=STAT_SHORTNAME)\n",
    "\n",
    "    # reset the current rankings\n",
    "    current_rankings = []\n",
    "\n",
    "    # read last line from file\n",
    "    last_line = None\n",
    "    with open(last_file, 'r') as f:\n",
    "        for line in f:\n",
    "            pass\n",
    "        last_line = line\n",
    "\n",
    "    # now parse the last line\n",
    "    if last_line:\n",
    "        Stat.debug('Most recent rankings: %s' % (last_line), host=STAT_HOSTNAME, shortname=STAT_SHORTNAME)\n",
    "\n",
    "        # Record format example: 1615328699.2068207:1,ca162,341,PM10|2,mo002,262,PM10|3,ca126,187,PM10|4,az012,145,PM10|5,mo011,130,PM10|6,al001,123,PM2.5|7,il001,120,PM2.5|8,il009,120,PM2.5|9,wi002,117,PM2.5|10,nm007,113,PM10\n",
    "        # A colon separates the Unix timestamp from the rankings.  Rankings are pipe delimited and there should typically exist 10 per timestamp.\n",
    "        # A ranking item consists of four comma-delimited values: the rank index [1-10], the Airnow reporting area ID, the AQI, and the parameter\n",
    "        # Note that there's actually no guarantee that there will be exactly 10 rankings.  I've seen cases where there are eleven, and it's possible there could be fewer.\n",
    "        try:\n",
    "            (timestamp, rankings) = last_line.split(':')\n",
    "            timestamp = float(timestamp)\n",
    "\n",
    "            # Do a quickie string comparison to make sure the rankings have actually changed.  If so, then\n",
    "            # we'll do a deeper check later to make sure the alertable rankings have changed, but ignoring\n",
    "            # changes in only AQI.  It's just the rankings we care about.\n",
    "            if rankings == previous_rankings_str:\n",
    "                Stat.debug('Rankings unchanged, nothing to do', host=STAT_HOSTNAME, shortname=STAT_SHORTNAME)\n",
    "            else:\n",
    "                Stat.debug('Rankings have changed, checking for alertable reporting areas', host=STAT_HOSTNAME, shortname=STAT_SHORTNAME)\n",
    "                previous_rankings_str = rankings\n",
    "\n",
    "                # parse the rankings, building a map of reporting_area_id to rank\n",
    "                alertable_reporting_area_rankings = {}\n",
    "                for ranking in rankings.split('|'):\n",
    "                    (rank, reporting_area_id, aqi, parameter) = ranking.split(',')\n",
    "                    rank = int(rank)\n",
    "                    aqi = int(aqi)\n",
    "\n",
    "                    current_rankings.append({\"rank\": rank, \"reporting_area_id\": reporting_area_id, \"reporting_area_name\": get_reporting_area_name(reporting_area_id), \"aqi\": aqi, \"parameter\": parameter})\n",
    "\n",
    "                    # only bother remembering it if it's an alertable reporting area\n",
    "                    if is_alertable_reporting_area(reporting_area_id):\n",
    "                        alertable_reporting_area_rankings[reporting_area_id] = rank\n",
    "\n",
    "                return alertable_reporting_area_rankings\n",
    "\n",
    "        except:\n",
    "            Stat.warning('Failed to parse most recent rankings. Skipping.', host=STAT_HOSTNAME, shortname=STAT_SHORTNAME)\n",
    "\n",
    "    return None\n",
    "\n",
    "#check_current_rankings()"
   ]
  },
  {
   "cell_type": "code",
   "execution_count": 0,
   "metadata": {
    "collapsed": false
   },
   "outputs": [
   ],
   "source": [
    "def build_alerts(alertable_reporting_area_rankings):\n",
    "    global previous_alertable_reporting_area_rankings\n",
    "    alerts_by_reporting_area = {}\n",
    "\n",
    "    if alertable_reporting_area_rankings != None:\n",
    "        # start by checking whether any reporting areas which were previously in the highest 10 have dropped out\n",
    "        for reporting_area_id in previous_alertable_reporting_area_rankings:\n",
    "            if reporting_area_id not in alertable_reporting_area_rankings:\n",
    "                # create a notification that this reporting area has dropped out of the highest 10\n",
    "                reporting_area_name = get_reporting_area_name(reporting_area_id)\n",
    "                alerts_by_reporting_area[reporting_area_id] = {'brief' : \"%s: --> out\" % (reporting_area_name),\n",
    "                                           'verbose' : \"%s is no longer in the Highest Ten\" % (reporting_area_name)}\n",
    "\n",
    "        # now check reporting areas in the current highest 10 to see whether they're new or they have changed rank\n",
    "        for reporting_area_id in alertable_reporting_area_rankings:\n",
    "            reporting_area_name = get_reporting_area_name(reporting_area_id)\n",
    "            current_rank = alertable_reporting_area_rankings[reporting_area_id]\n",
    "            if reporting_area_id in previous_alertable_reporting_area_rankings:\n",
    "                # see whether the rank has changed\n",
    "                previous_rank = previous_alertable_reporting_area_rankings[reporting_area_id]\n",
    "                if previous_rank != current_rank:\n",
    "                    # create an alert that the rank has changed\n",
    "                    alerts_by_reporting_area[reporting_area_id] = {'brief' : \"%s: %d --> %d\" % (reporting_area_name, previous_rank, current_rank),\n",
    "                                               'verbose' : \"%s has changed from rank %d to rank %d\" % (reporting_area_name, previous_rank, current_rank)}\n",
    "            else:\n",
    "                # create a notification that this reporting area is now in the highest 10\n",
    "                alerts_by_reporting_area[reporting_area_id] = {'brief' : \"%s: --> %d\" % (reporting_area_name, current_rank),\n",
    "                                           'verbose' : \"%s has entered at rank %d\" % (reporting_area_name, current_rank)}\n",
    "\n",
    "        previous_alertable_reporting_area_rankings = alertable_reporting_area_rankings\n",
    "\n",
    "    return alerts_by_reporting_area"
   ]
  },
  {
   "cell_type": "code",
   "execution_count": 0,
   "metadata": {
    "collapsed": false,
    "scrolled": true
   },
   "outputs": [
   ],
   "source": [
    "# Generates an ASCII table from the current_rankings global that looks like this:\n",
    "#\n",
    "#    Rank   Reporting Area                         AQI   Pollutant\n",
    "#    ----   ------------------------------------   ---   ---------\n",
    "#       1   Coachella Vly, CA                      196   PM10\n",
    "#       2   Yuma, AZ                               155   PM10\n",
    "#       3   Imperial Valley, CA                    146   PM10\n",
    "#       4   St. Joseph, MO                         131   PM10\n",
    "#       5   Dane/Columbia/Sauk Counties, WI        126   PM2.5\n",
    "#       6   Deming, NM                             113   PM10\n",
    "#       7   Marathon/Taylor Counties, WI           111   PM2.5\n",
    "#       8   Niland, CA                             111   PM10\n",
    "#       9   Milwaukee/South Ozaukee Counties, WI   107   PM2.5\n",
    "#      10   Athens-Clarke County, GA               106   PM2.5\n",
    "#\n",
    "def create_rankings_table():\n",
    "    global current_rankings\n",
    "    RANKINGS_TABLE_HEADERS = ['Rank', 'Reporting Area', 'AQI', 'Pollutant']\n",
    "\n",
    "    # compute the longest reporting area name in the current rankings\n",
    "    longest_name_length = max(list(map(lambda x: len(x['reporting_area_name']), current_rankings)))\n",
    "    reporting_area_column_width = max(len('Reporting Area'), longest_name_length)\n",
    "    num_spaces_after_reporting_area_title = reporting_area_column_width - len('Reporting Area')\n",
    "    table_indent = \" \"*3\n",
    "\n",
    "    table =  table_indent + \"Rank   Reporting Area\" + (\" \"*num_spaces_after_reporting_area_title) + \"   AQI   Pollutant\\n\"\n",
    "    table += table_indent + \"----   --------------\" + (\"-\"*num_spaces_after_reporting_area_title) + \"   ---   ---------\\n\"\n",
    "    for ranking in current_rankings:\n",
    "        spaces_after_name = \" \" * (reporting_area_column_width - len(ranking['reporting_area_name']))\n",
    "        table += table_indent + \"%4d   %s%s   %3d   %s\\n\" % (ranking['rank'], ranking['reporting_area_name'], spaces_after_name, ranking['aqi'], ranking['parameter'])\n",
    "\n",
    "    return table\n",
    "\n",
    "# reporting_areas = {}\n",
    "# notifications_config = {}\n",
    "# previous_rankings_str = \"\"\n",
    "# previous_alertable_reporting_area_rankings = {}\n",
    "# current_rankings = []\n",
    "# read_reporting_areas()\n",
    "# read_config_file()\n",
    "# alertable_reporting_areas_in_highest_ten = check_current_rankings()\n",
    "# print(create_rankings_table())"
   ]
  },
  {
   "cell_type": "code",
   "execution_count": 0,
   "metadata": {
    "collapsed": false,
    "scrolled": true
   },
   "outputs": [
   ],
   "source": [
    "def send_email(to_address, alerts):\n",
    "    global current_rankings\n",
    "    if len(alerts) > 0:\n",
    "        if len(alerts) == 1:\n",
    "            area_or_areas = \"A reporting area\"\n",
    "            has_or_have = \"has\"\n",
    "        else:\n",
    "            area_or_areas = \"Reporting areas\"\n",
    "            has_or_have = \"have\"\n",
    "\n",
    "        email_body = area_or_areas + \" you're watching \"+has_or_have+\" new activity in the Airnow Highest Ten:\\n\\n\"\n",
    "        for alert in alerts:\n",
    "            email_body += \"   %s\\n\" % (alert['verbose'])\n",
    "        email_body += \"\\nThe current rankings are:\\n\\n\"\n",
    "        email_body += create_rankings_table()\n",
    "        email_body += \"\\nView details at https://airstats.createlab.org/highest-ten/\"\n",
    "\n",
    "        from_email = From(\"no-reply@airstats.createlab.org\", \"Airnow Highest Ten Alerts\")\n",
    "        to_email = To(to_address)\n",
    "        subject = Subject('[AHTA] ' + ' | '.join(list(map(lambda alert: alert['brief'], alerts))))\n",
    "        content = PlainTextContent(email_body)\n",
    "\n",
    "        resp = None\n",
    "\n",
    "        try:\n",
    "            message = Mail(from_email=from_email,\n",
    "                           to_emails=to_email,\n",
    "                           subject=subject,\n",
    "                           plain_text_content=content)\n",
    "\n",
    "            sg = SendGridAPIClient(SENDGRID_CONFIG['api_key'])\n",
    "            resp = sg.send(message)\n",
    "            print('Status code [%d] while sending email to [%s]' % (resp.status_code, to_address))\n",
    "\n",
    "            if resp.status_code >= 300:\n",
    "                Stat.warning('Status code [%d] while trying to send email to [%s]' % (resp.status_code, to_address), host=STAT_HOSTNAME, shortname=STAT_SHORTNAME)\n",
    "\n",
    "        except HTTPError as he:\n",
    "            print(he.to_dict)\n",
    "            Stat.warning('HTTPError [%s] while trying to send email to [%s]' % (he, to_address), host=STAT_HOSTNAME, shortname=STAT_SHORTNAME)\n",
    "\n",
    "        except Exception as e:\n",
    "            print(e.message)\n",
    "            Stat.warning('Exception [%s] while trying to send email to [%s]' % (e.message, to_address), host=STAT_HOSTNAME, shortname=STAT_SHORTNAME)\n",
    "\n",
    "        return resp\n",
    "\n",
    "# send_email(\"bartley@cmu.edu\", [{'brief': 'Hidden Valley, AZ: --> 1', 'verbose': 'Hidden Valley, AZ has entered at rank 1'}])\n",
    "# send_email(\"bartley@cmu.edu\", [{'brief': 'Hidden Valley, AZ: --> 1', 'verbose': 'Hidden Valley, AZ has entered at rank 1'}, {'brief': 'Mississippi Gulf Coast, MS: --> 3', 'verbose': 'Mississippi Gulf Coast, MS has entered at rank 3'}])"
   ]
  },
  {
   "cell_type": "code",
   "execution_count": 0,
   "metadata": {
    "collapsed": false
   },
   "outputs": [
   ],
   "source": [
    "def send_alerts(alerts_by_reporting_area):\n",
    "    num_reporting_areas = len(alerts_by_reporting_area)\n",
    "    if (num_reporting_areas > 0):\n",
    "        Stat.debug('Sending alerts for %d reporting %s' % (num_reporting_areas, \"area\" if (num_reporting_areas == 1) else \"areas\"), host=STAT_HOSTNAME, shortname=STAT_SHORTNAME)\n",
    "\n",
    "        alerts_by_email_address = {}\n",
    "        for reporting_area_id in alerts_by_reporting_area:\n",
    "            alert = alerts_by_reporting_area[reporting_area_id]\n",
    "            Stat.debug(\"Reporting Area ID [%s]: %s\" % (reporting_area_id, alert['brief']), host=STAT_HOSTNAME, shortname=STAT_SHORTNAME)\n",
    "            email_addresses = get_email_addresses_to_notify_for_reporting_area(reporting_area_id)\n",
    "            for email_address in email_addresses:\n",
    "                if email_address not in alerts_by_email_address:\n",
    "                    alerts_by_email_address[email_address] = []\n",
    "\n",
    "                alerts_by_email_address[email_address].append(alert)\n",
    "\n",
    "        # send the emails\n",
    "        for email in alerts_by_email_address:\n",
    "            print(\"Sending these alerts to email [%s]:\" % (email))\n",
    "            for alert in alerts_by_email_address[email]:\n",
    "                print(\"   %s\" % alert['brief'])\n",
    "            send_email(email, alerts_by_email_address[email])"
   ]
  },
  {
   "cell_type": "code",
   "execution_count": 0,
   "metadata": {
    "collapsed": false
   },
   "outputs": [
   ],
   "source": [
    "def run():\n",
    "    global current_rankings\n",
    "\n",
    "    Stat.info('Checking Highest 10 for changes which would trigger notifications...', host=STAT_HOSTNAME, shortname=STAT_SHORTNAME)\n",
    "    start_time = time.time()\n",
    "\n",
    "    # reload the reporting area info so we're sure to pick up any changes\n",
    "    read_reporting_areas()\n",
    "\n",
    "    # reload the config file. Do this every run to make it easy to change the set of alertable reporting areas and/or users to notify\n",
    "    read_config_file()\n",
    "\n",
    "    # get a map of alertable reporting areas (if any) in the current highest 10\n",
    "    alertable_reporting_areas_in_highest_ten = check_current_rankings()\n",
    "\n",
    "    if alertable_reporting_areas_in_highest_ten != None:\n",
    "        print(json.dumps(alertable_reporting_areas_in_highest_ten, sort_keys=True, indent=3))\n",
    "\n",
    "        # build alerts\n",
    "        alerts_by_reporting_area = build_alerts(alertable_reporting_areas_in_highest_ten)\n",
    "\n",
    "        # send alerts, if any\n",
    "        send_alerts(alerts_by_reporting_area)\n",
    "    else:\n",
    "        Stat.debug('None of the reporting areas in the highest 10 require notification', host=STAT_HOSTNAME, shortname=STAT_SHORTNAME)\n",
    "\n",
    "    end_time = time.time()\n",
    "    Stat.up('Done with Highest 10 notifications!', details='Took %.1f seconds' % (end_time - start_time), host=STAT_HOSTNAME, shortname=STAT_SHORTNAME, valid_for_secs=RUN_INTERVAL_SECONDS*1.5)\n",
    "\n",
    "def run_forever():\n",
    "    while True:\n",
    "        run()\n",
    "        sleep_until_next_period(RUN_INTERVAL_SECONDS, 1*60)  # start at 1 minutes after the hour\n",
    "\n",
    "run_forever()"
   ]
  }
 ],
 "metadata": {
  "kernelspec": {
   "display_name": "Anaconda Python3",
   "language": "python",
   "name": "anaconda3"
  },
  "language_info": {
   "codemirror_mode": {
    "name": "ipython",
    "version": 3
   },
   "file_extension": ".py",
   "mimetype": "text/x-python",
   "name": "python",
   "nbconvert_exporter": "python",
   "pygments_lexer": "ipython3",
   "version": "3.7.6"
  }
 },
 "nbformat": 4,
 "nbformat_minor": 4
}