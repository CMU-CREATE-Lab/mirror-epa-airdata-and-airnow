{
 "cells": [
  {
   "cell_type": "code",
   "execution_count": 1,
   "metadata": {
    "collapsed": false
   },
   "outputs": [],
   "source": [
    "import datetime, os, time, urllib2\n",
    "from dateutil import tz"
   ]
  },
  {
   "cell_type": "markdown",
   "metadata": {},
   "source": [
    "http://aqsdr1.epa.gov/aqsweb/aqstmp/airdata/download_files.html\n",
    "\n",
    "https://ofmext.epa.gov/AQDMRS/ws/list?name=param&pc=CORE_HAPS&resource=rawData :\n",
    "\n",
    "`12103\tArsenic (TSP) STP\n",
    "12105\tBeryllium (TSP) STP\n",
    "12110\tCadmium (TSP) STP\n",
    "12112\tChromium (TSP) STP\n",
    "12115\tChromium VI (TSP) STP\n",
    "12128\tLead (TSP) STP\n",
    "12132\tManganese (TSP) STP\n",
    "12136\tNickel (TSP) STP\n",
    "14115\tChromium VI (TSP) LC\n",
    "43218\t1,3-Butadiene\n",
    "43502\tFormaldehyde\n",
    "43503\tAcetaldehyde\n",
    "43505\tAcrolein - Unverified\n",
    "43509\tAcrolein - Verified\n",
    "43802\tDichloromethane\n",
    "43803\tChloroform\n",
    "43804\tCarbon tetrachloride\n",
    "43815\tEthylene dichloride\n",
    "43817\tTetrachloroethylene\n",
    "43818\t1,1,2,2-Tetrachloroethane\n",
    "43824\tTrichloroethylene\n",
    "43829\t1,2-Dichloropropane\n",
    "43830\ttrans-1,3-Dichloropropene\n",
    "43831\tcis-1,3-Dichloropropene\n",
    "43843\tEthylene dibromide\n",
    "43860\tVinyl chloride\n",
    "45201\tBenzene\n",
    "82103\tArsenic PM10 STP\n",
    "82105\tBeryllium PM10 STP\n",
    "82110\tCadmium PM10 STP\n",
    "82112\tChromium PM10 STP\n",
    "82128\tLead PM10 STP\n",
    "82132\tManganese PM10 STP\n",
    "82136\tNickel PM10 STP\n",
    "82142\tMercury PM10 STP\n",
    "88103\tArsenic PM2.5 LC\n",
    "88105\tBeryllium PM2.5 LC\n",
    "88110\tCadmium PM2.5 LC\n",
    "88112\tChromium PM2.5 LC\n",
    "88128\tLead PM2.5 LC\n",
    "88132\tManganese PM2.5 LC\n",
    "88136\tNickel PM2.5 LC`"
   ]
  },
  {
   "cell_type": "code",
   "execution_count": 2,
   "metadata": {
    "collapsed": false
   },
   "outputs": [],
   "source": [
    "categories = {'44201': 'Ozone',\n",
    "              '42401': 'SO2',\n",
    "              '42101': 'CO',\n",
    "              '42602': 'NO2',\n",
    "              '88101': 'PM2.5', # federal reference method\n",
    "              '88502': 'PM2.5', # non-FRM\n",
    "              '81102': 'PM10',\n",
    "              'SPEC':  None,\n",
    "              'WIND':  None,\n",
    "              'TEMP':  None,\n",
    "              'PRESS': None,\n",
    "              'RH_DP': None,\n",
    "              'HAPS':  None,\n",
    "              'VOCS':  None,\n",
    "              'LEAD':  'Lead'}\n",
    "\n",
    "years = range(1990, datetime.datetime.utcnow().year + 1)\n",
    "\n",
    "src_dir = 'http://aqsdr1.epa.gov/aqsweb/aqstmp/airdata/'\n",
    "dest_dir = 'EPA-AirData/'\n",
    "\n",
    "# Last-Modified: Thu, 19 Jun 2014 17:28:44 GMT\n",
    "# If-Modified-Since: Thu, 19 Jun 2014 17:28:44 GMT\n",
    "def mirror(src, dest):\n",
    "    headers = {}\n",
    "    try:\n",
    "        dest_timestamp = datetime.datetime.fromtimestamp(os.path.getmtime(dest), tz.tzutc())\n",
    "        headers['If-Modified-Since'] = dest_timestamp.strftime('%a, %d %b %Y %H:%M:%S GMT')\n",
    "    except:\n",
    "        pass\n",
    "    \n",
    "    try:\n",
    "        response = urllib2.urlopen(urllib2.Request(src, headers=headers))\n",
    "        last_modified_str = response.info().getheader('Last-Modified')\n",
    "        last_modified = datetime.datetime.strptime(last_modified_str, \"%a, %d %b %Y %H:%M:%S GMT\")\n",
    "        last_modified_epoch = (last_modified - datetime.datetime(1970, 1, 1)).total_seconds()\n",
    "        data = response.read()\n",
    "    except urllib2.HTTPError, e:\n",
    "        if e.code == 304:\n",
    "            print 'Skipping %s since unmodified' % dest\n",
    "            return\n",
    "        print 'Exception while fetching %s' % src\n",
    "        raise\n",
    "    open(dest + '.tmp', 'w').write(data)\n",
    "    os.utime(dest + '.tmp', (last_modified_epoch, last_modified_epoch))\n",
    "    os.rename(dest + '.tmp', dest)\n",
    "        \n",
    "    printable_modtime = last_modified.strftime('%Y-%m-%d %H:%M:%S')\n",
    "    print 'STATUS(SUCCESS) Mirrored %s (last modtime %s, %d bytes) to %s' % (src, printable_modtime, len(data), dest)"
   ]
  },
  {
   "cell_type": "code",
   "execution_count": null,
   "metadata": {
    "collapsed": false
   },
   "outputs": [],
   "source": [
    "try:\n",
    "    os.mkdir(dest_dir)\n",
    "except:\n",
    "    pass\n",
    "\n",
    "for year in years:\n",
    "    for category in categories:\n",
    "        filename = 'hourly_%s_%d.zip' % (category, year)\n",
    "        mirror(src_dir + filename, dest_dir + filename)"
   ]
  },
  {
   "cell_type": "code",
   "execution_count": null,
   "metadata": {
    "collapsed": false
   },
   "outputs": [],
   "source": []
  }
 ],
 "metadata": {
  "kernelspec": {
   "display_name": "Python 2",
   "language": "python",
   "name": "python2"
  },
  "language_info": {
   "codemirror_mode": {
    "name": "ipython",
    "version": 2
   },
   "file_extension": ".py",
   "mimetype": "text/x-python",
   "name": "python",
   "nbconvert_exporter": "python",
   "pygments_lexer": "ipython2",
   "version": "2.7.11"
  }
 },
 "nbformat": 4,
 "nbformat_minor": 0
}
