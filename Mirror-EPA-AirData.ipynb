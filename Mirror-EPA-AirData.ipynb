{
 "metadata": {
  "name": "",
  "signature": "sha256:cb841033be4aad932858c4233d598403e045a91ef348ea77267a889a05fbbb39"
 },
 "nbformat": 3,
 "nbformat_minor": 0,
 "worksheets": [
  {
   "cells": [
    {
     "cell_type": "code",
     "collapsed": false,
     "input": [
      "import datetime, os, time, urllib2\n",
      "from dateutil import tz"
     ],
     "language": "python",
     "metadata": {},
     "outputs": [],
     "prompt_number": 33
    },
    {
     "cell_type": "code",
     "collapsed": false,
     "input": [
      "categories = {'88101': 'PM2.5 FRM Mass',\n",
      "              '88502': 'PM2.5 non FRM Mass'}\n",
      "\n",
      "years = range(1990, datetime.datetime.utcnow().year + 1)\n",
      "\n",
      "src_dir = 'http://aqsdr1.epa.gov/aqsweb/aqstmp/airdata/'\n",
      "dest_dir = 'EPA-AirData/'\n",
      "\n",
      "# Last-Modified: Thu, 19 Jun 2014 17:28:44 GMT\n",
      "# If-Modified-Since: Thu, 19 Jun 2014 17:28:44 GMT\n",
      "def mirror(src, dest):\n",
      "    headers = {}\n",
      "    try:\n",
      "        dest_timestamp = datetime.datetime.fromtimestamp(os.path.getmtime(dest), tz.tzutc())\n",
      "        headers['If-Modified-Since'] = dest_timestamp.strftime('%a, %d %b %Y %H:%M:%S GMT')\n",
      "    except:\n",
      "        pass\n",
      "    \n",
      "    try:\n",
      "        response = urllib2.urlopen(urllib2.Request(src, headers=headers))\n",
      "        last_modified_str = response.info().getheader('Last-Modified')\n",
      "        last_modified = datetime.datetime.strptime(last_modified_str, \"%a, %d %b %Y %H:%M:%S GMT\")\n",
      "        last_modified_epoch = (last_modified - datetime.datetime(1970, 1, 1)).total_seconds()\n",
      "        data = response.read()\n",
      "    except urllib2.HTTPError, e:\n",
      "        if e.code == 304:\n",
      "            print 'Skipping %s since unmodified' % dest\n",
      "            return\n",
      "        raise\n",
      "    open(dest + '.tmp', 'w').write(data)\n",
      "    os.utime(dest + '.tmp', (last_modified_epoch, last_modified_epoch))\n",
      "    os.rename(dest + '.tmp', dest)\n",
      "        \n",
      "    print 'Mirrored %s (%d bytes) to %s' % (src, len(data), dest)\n",
      "    \n",
      "try:\n",
      "    os.mkdir(dest_dir)\n",
      "except:\n",
      "    pass\n",
      "\n",
      "for year in years:\n",
      "    for category in categories:\n",
      "        filename = 'hourly_%s_%d.zip' % (category, year)\n",
      "        mirror(src_dir + filename, dest_dir + filename)"
     ],
     "language": "python",
     "metadata": {},
     "outputs": [
      {
       "output_type": "stream",
       "stream": "stdout",
       "text": [
        "Skipping EPA-AirData/hourly_88502_1990.zip since unmodified\n",
        "Skipping EPA-AirData/hourly_88101_1990.zip since unmodified"
       ]
      },
      {
       "output_type": "stream",
       "stream": "stdout",
       "text": [
        "\n",
        "Skipping EPA-AirData/hourly_88502_1991.zip since unmodified"
       ]
      },
      {
       "output_type": "stream",
       "stream": "stdout",
       "text": [
        "\n",
        "Skipping EPA-AirData/hourly_88101_1991.zip since unmodified"
       ]
      },
      {
       "output_type": "stream",
       "stream": "stdout",
       "text": [
        "\n",
        "Skipping EPA-AirData/hourly_88502_1992.zip since unmodified"
       ]
      },
      {
       "output_type": "stream",
       "stream": "stdout",
       "text": [
        "\n",
        "Skipping EPA-AirData/hourly_88101_1992.zip since unmodified"
       ]
      },
      {
       "output_type": "stream",
       "stream": "stdout",
       "text": [
        "\n",
        "Skipping EPA-AirData/hourly_88502_1993.zip since unmodified"
       ]
      },
      {
       "output_type": "stream",
       "stream": "stdout",
       "text": [
        "\n",
        "Skipping EPA-AirData/hourly_88101_1993.zip since unmodified"
       ]
      },
      {
       "output_type": "stream",
       "stream": "stdout",
       "text": [
        "\n",
        "Skipping EPA-AirData/hourly_88502_1994.zip since unmodified"
       ]
      },
      {
       "output_type": "stream",
       "stream": "stdout",
       "text": [
        "\n",
        "Skipping EPA-AirData/hourly_88101_1994.zip since unmodified"
       ]
      },
      {
       "output_type": "stream",
       "stream": "stdout",
       "text": [
        "\n",
        "Skipping EPA-AirData/hourly_88502_1995.zip since unmodified"
       ]
      },
      {
       "output_type": "stream",
       "stream": "stdout",
       "text": [
        "\n",
        "Skipping EPA-AirData/hourly_88101_1995.zip since unmodified"
       ]
      },
      {
       "output_type": "stream",
       "stream": "stdout",
       "text": [
        "\n",
        "Skipping EPA-AirData/hourly_88502_1996.zip since unmodified"
       ]
      },
      {
       "output_type": "stream",
       "stream": "stdout",
       "text": [
        "\n",
        "Skipping EPA-AirData/hourly_88101_1996.zip since unmodified"
       ]
      },
      {
       "output_type": "stream",
       "stream": "stdout",
       "text": [
        "\n",
        "Skipping EPA-AirData/hourly_88502_1997.zip since unmodified"
       ]
      },
      {
       "output_type": "stream",
       "stream": "stdout",
       "text": [
        "\n",
        "Skipping EPA-AirData/hourly_88101_1997.zip since unmodified"
       ]
      },
      {
       "output_type": "stream",
       "stream": "stdout",
       "text": [
        "\n",
        "Skipping EPA-AirData/hourly_88502_1998.zip since unmodified"
       ]
      },
      {
       "output_type": "stream",
       "stream": "stdout",
       "text": [
        "\n",
        "Skipping EPA-AirData/hourly_88101_1998.zip since unmodified"
       ]
      },
      {
       "output_type": "stream",
       "stream": "stdout",
       "text": [
        "\n",
        "Skipping EPA-AirData/hourly_88502_1999.zip since unmodified"
       ]
      },
      {
       "output_type": "stream",
       "stream": "stdout",
       "text": [
        "\n",
        "Skipping EPA-AirData/hourly_88101_1999.zip since unmodified"
       ]
      },
      {
       "output_type": "stream",
       "stream": "stdout",
       "text": [
        "\n",
        "Skipping EPA-AirData/hourly_88502_2000.zip since unmodified"
       ]
      },
      {
       "output_type": "stream",
       "stream": "stdout",
       "text": [
        "\n",
        "Skipping EPA-AirData/hourly_88101_2000.zip since unmodified"
       ]
      },
      {
       "output_type": "stream",
       "stream": "stdout",
       "text": [
        "\n",
        "Skipping EPA-AirData/hourly_88502_2001.zip since unmodified"
       ]
      },
      {
       "output_type": "stream",
       "stream": "stdout",
       "text": [
        "\n",
        "Skipping EPA-AirData/hourly_88101_2001.zip since unmodified"
       ]
      },
      {
       "output_type": "stream",
       "stream": "stdout",
       "text": [
        "\n",
        "Skipping EPA-AirData/hourly_88502_2002.zip since unmodified"
       ]
      },
      {
       "output_type": "stream",
       "stream": "stdout",
       "text": [
        "\n",
        "Skipping EPA-AirData/hourly_88101_2002.zip since unmodified"
       ]
      },
      {
       "output_type": "stream",
       "stream": "stdout",
       "text": [
        "\n",
        "Skipping EPA-AirData/hourly_88502_2003.zip since unmodified"
       ]
      },
      {
       "output_type": "stream",
       "stream": "stdout",
       "text": [
        "\n",
        "Skipping EPA-AirData/hourly_88101_2003.zip since unmodified"
       ]
      },
      {
       "output_type": "stream",
       "stream": "stdout",
       "text": [
        "\n",
        "Skipping EPA-AirData/hourly_88502_2004.zip since unmodified"
       ]
      },
      {
       "output_type": "stream",
       "stream": "stdout",
       "text": [
        "\n",
        "Skipping EPA-AirData/hourly_88101_2004.zip since unmodified"
       ]
      },
      {
       "output_type": "stream",
       "stream": "stdout",
       "text": [
        "\n",
        "Skipping EPA-AirData/hourly_88502_2005.zip since unmodified"
       ]
      },
      {
       "output_type": "stream",
       "stream": "stdout",
       "text": [
        "\n",
        "Skipping EPA-AirData/hourly_88101_2005.zip since unmodified"
       ]
      },
      {
       "output_type": "stream",
       "stream": "stdout",
       "text": [
        "\n",
        "Skipping EPA-AirData/hourly_88502_2006.zip since unmodified"
       ]
      },
      {
       "output_type": "stream",
       "stream": "stdout",
       "text": [
        "\n",
        "Skipping EPA-AirData/hourly_88101_2006.zip since unmodified"
       ]
      },
      {
       "output_type": "stream",
       "stream": "stdout",
       "text": [
        "\n",
        "Skipping EPA-AirData/hourly_88502_2007.zip since unmodified"
       ]
      },
      {
       "output_type": "stream",
       "stream": "stdout",
       "text": [
        "\n",
        "Skipping EPA-AirData/hourly_88101_2007.zip since unmodified"
       ]
      },
      {
       "output_type": "stream",
       "stream": "stdout",
       "text": [
        "\n",
        "Skipping EPA-AirData/hourly_88502_2008.zip since unmodified"
       ]
      },
      {
       "output_type": "stream",
       "stream": "stdout",
       "text": [
        "\n",
        "Skipping EPA-AirData/hourly_88101_2008.zip since unmodified"
       ]
      },
      {
       "output_type": "stream",
       "stream": "stdout",
       "text": [
        "\n",
        "Skipping EPA-AirData/hourly_88502_2009.zip since unmodified"
       ]
      },
      {
       "output_type": "stream",
       "stream": "stdout",
       "text": [
        "\n",
        "Skipping EPA-AirData/hourly_88101_2009.zip since unmodified"
       ]
      },
      {
       "output_type": "stream",
       "stream": "stdout",
       "text": [
        "\n",
        "Skipping EPA-AirData/hourly_88502_2010.zip since unmodified"
       ]
      },
      {
       "output_type": "stream",
       "stream": "stdout",
       "text": [
        "\n",
        "Skipping EPA-AirData/hourly_88101_2010.zip since unmodified"
       ]
      },
      {
       "output_type": "stream",
       "stream": "stdout",
       "text": [
        "\n",
        "Skipping EPA-AirData/hourly_88502_2011.zip since unmodified"
       ]
      },
      {
       "output_type": "stream",
       "stream": "stdout",
       "text": [
        "\n",
        "Skipping EPA-AirData/hourly_88101_2011.zip since unmodified"
       ]
      },
      {
       "output_type": "stream",
       "stream": "stdout",
       "text": [
        "\n",
        "Skipping EPA-AirData/hourly_88502_2012.zip since unmodified"
       ]
      },
      {
       "output_type": "stream",
       "stream": "stdout",
       "text": [
        "\n",
        "Skipping EPA-AirData/hourly_88101_2012.zip since unmodified"
       ]
      },
      {
       "output_type": "stream",
       "stream": "stdout",
       "text": [
        "\n",
        "Skipping EPA-AirData/hourly_88502_2013.zip since unmodified"
       ]
      },
      {
       "output_type": "stream",
       "stream": "stdout",
       "text": [
        "\n",
        "Skipping EPA-AirData/hourly_88101_2013.zip since unmodified"
       ]
      },
      {
       "output_type": "stream",
       "stream": "stdout",
       "text": [
        "\n",
        "Skipping EPA-AirData/hourly_88502_2014.zip since unmodified"
       ]
      },
      {
       "output_type": "stream",
       "stream": "stdout",
       "text": [
        "\n",
        "Skipping EPA-AirData/hourly_88101_2014.zip since unmodified"
       ]
      },
      {
       "output_type": "stream",
       "stream": "stdout",
       "text": [
        "\n"
       ]
      }
     ],
     "prompt_number": 40
    },
    {
     "cell_type": "code",
     "collapsed": false,
     "input": [
      "!ls -l EPA-AirData/hourly_88101_2014.zip"
     ],
     "language": "python",
     "metadata": {},
     "outputs": [
      {
       "output_type": "stream",
       "stream": "stdout",
       "text": [
        "-rw-r--r--  1 rsargent  staff  3674950 Jun 19 13:28 EPA-AirData/hourly_88101_2014.zip\r\n"
       ]
      }
     ],
     "prompt_number": 15
    },
    {
     "cell_type": "code",
     "collapsed": false,
     "input": [
      "time.ctime(0).strftime('%Y')"
     ],
     "language": "python",
     "metadata": {},
     "outputs": [
      {
       "ename": "AttributeError",
       "evalue": "'str' object has no attribute 'strftime'",
       "output_type": "pyerr",
       "traceback": [
        "\u001b[0;31m---------------------------------------------------------------------------\u001b[0m\n\u001b[0;31mAttributeError\u001b[0m                            Traceback (most recent call last)",
        "\u001b[0;32m<ipython-input-19-8fe32d211cb5>\u001b[0m in \u001b[0;36m<module>\u001b[0;34m()\u001b[0m\n\u001b[0;32m----> 1\u001b[0;31m \u001b[0mtime\u001b[0m\u001b[0;34m.\u001b[0m\u001b[0mctime\u001b[0m\u001b[0;34m(\u001b[0m\u001b[0;36m0\u001b[0m\u001b[0;34m)\u001b[0m\u001b[0;34m.\u001b[0m\u001b[0mstrftime\u001b[0m\u001b[0;34m(\u001b[0m\u001b[0;34m'%Y'\u001b[0m\u001b[0;34m)\u001b[0m\u001b[0;34m\u001b[0m\u001b[0m\n\u001b[0m",
        "\u001b[0;31mAttributeError\u001b[0m: 'str' object has no attribute 'strftime'"
       ]
      }
     ],
     "prompt_number": 19
    },
    {
     "cell_type": "code",
     "collapsed": false,
     "input": [],
     "language": "python",
     "metadata": {},
     "outputs": []
    }
   ],
   "metadata": {}
  }
 ]
}