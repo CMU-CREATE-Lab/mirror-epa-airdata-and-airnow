{
 "cells": [
  {
   "cell_type": "code",
   "execution_count": 0,
   "metadata": {
    "collapsed": false
   },
   "outputs": [
   ],
   "source": [
    "import datetime, os, requests, time\n",
    "from dateutil import tz\n",
    "\n",
    "# TODO: As of July 2019, this hasn't been working for a while\n",
    "# Complaints of no route to host.  Did the host change?\n",
    "# Have we been blacklisted?\n"
   ]
  },
  {
   "cell_type": "markdown",
   "metadata": {
    "collapsed": false
   },
   "source": [
    "http://aqsdr1.epa.gov/aqsweb/aqstmp/airdata/download_files.html\n",
    "\n",
    "https://ofmext.epa.gov/AQDMRS/ws/list?name=param&pc=CORE_HAPS&resource=rawData :\n",
    "\n",
    "`12103\tArsenic (TSP) STP\n",
    "12105\tBeryllium (TSP) STP\n",
    "12110\tCadmium (TSP) STP\n",
    "12112\tChromium (TSP) STP\n",
    "12115\tChromium VI (TSP) STP\n",
    "12128\tLead (TSP) STP\n",
    "12132\tManganese (TSP) STP\n",
    "12136\tNickel (TSP) STP\n",
    "14115\tChromium VI (TSP) LC\n",
    "43218\t1,3-Butadiene\n",
    "43502\tFormaldehyde\n",
    "43503\tAcetaldehyde\n",
    "43505\tAcrolein - Unverified\n",
    "43509\tAcrolein - Verified\n",
    "43802\tDichloromethane\n",
    "43803\tChloroform\n",
    "43804\tCarbon tetrachloride\n",
    "43815\tEthylene dichloride\n",
    "43817\tTetrachloroethylene\n",
    "43818\t1,1,2,2-Tetrachloroethane\n",
    "43824\tTrichloroethylene\n",
    "43829\t1,2-Dichloropropane\n",
    "43830\ttrans-1,3-Dichloropropene\n",
    "43831\tcis-1,3-Dichloropropene\n",
    "43843\tEthylene dibromide\n",
    "43860\tVinyl chloride\n",
    "45201\tBenzene\n",
    "82103\tArsenic PM10 STP\n",
    "82105\tBeryllium PM10 STP\n",
    "82110\tCadmium PM10 STP\n",
    "82112\tChromium PM10 STP\n",
    "82128\tLead PM10 STP\n",
    "82132\tManganese PM10 STP\n",
    "82136\tNickel PM10 STP\n",
    "82142\tMercury PM10 STP\n",
    "88103\tArsenic PM2.5 LC\n",
    "88105\tBeryllium PM2.5 LC\n",
    "88110\tCadmium PM2.5 LC\n",
    "88112\tChromium PM2.5 LC\n",
    "88128\tLead PM2.5 LC\n",
    "88132\tManganese PM2.5 LC\n",
    "88136\tNickel PM2.5 LC`"
   ]
  },
  {
   "cell_type": "code",
   "execution_count": 0,
   "metadata": {
    "collapsed": false
   },
   "outputs": [
   ],
   "source": [
    "categories = {'44201': 'Ozone',\n",
    "              '42401': 'SO2',\n",
    "              '42101': 'CO',\n",
    "              '42602': 'NO2',\n",
    "              '88101': 'PM2.5', # federal reference method\n",
    "              '88502': 'PM2.5', # non-FRM\n",
    "              '81102': 'PM10',\n",
    "              'SPEC':  None,\n",
    "              'WIND':  None,\n",
    "              'TEMP':  None,\n",
    "              'PRESS': None,\n",
    "              'RH_DP': None,\n",
    "              'HAPS':  None,\n",
    "              'VOCS':  None,\n",
    "              'LEAD':  'Lead'}\n",
    "\n",
    "years = range(1990, datetime.datetime.utcnow().year + 1)\n",
    "\n",
    "src_dir = 'http://aqsdr1.epa.gov/aqsweb/aqstmp/airdata/'\n",
    "dest_dir = 'EPA-AirData/'\n",
    "\n",
    "# Last-Modified: Thu, 19 Jun 2014 17:28:44 GMT\n",
    "# If-Modified-Since: Thu, 19 Jun 2014 17:28:44 GMT\n",
    "def mirror_file_using_modtime(src_url, dest):\n",
    "    headers = {}\n",
    "    # If destination already exists, mirror only if newer\n",
    "    try:\n",
    "        stat = os.stat(dest)\n",
    "        date = time.strftime('%a, %d %b %Y %H:%M:%S GMT', time.gmtime(stat.st_mtime))\n",
    "        headers['If-Modified-Since'] = date\n",
    "    except:\n",
    "        pass\n",
    "    \n",
    "    \n",
    "    response = requests.get(src_url, headers=headers)\n",
    "    if response.status_code == 200:\n",
    "        data = response.content\n",
    "    \n",
    "        server_modtime = dateutil.parser.parse(response.headers['Last-Modified'])\n",
    "        server_modtime_epoch = datetime2epoch(server_modtime)\n",
    "        tmp = dest + '.tmp' + str(os.getpid())\n",
    "        os.makedirs(os.path.dirname(tmp), exist_ok=True)\n",
    "        open(tmp, 'wb').write(data)\n",
    "        os.rename(tmp, dest)\n",
    "        os.utime(dest, (server_modtime_epoch, server_modtime_epoch))\n",
    "        print('Wrote %d bytes to %s' % (len(data), dest))\n",
    "    else:\n",
    "        print('Received status code %d while fetching %s.  Skipping' % (response.status_code, src_url))\n",
    "\n",
    "        "
   ]
  },
  {
   "cell_type": "code",
   "execution_count": 0,
   "metadata": {
    "collapsed": false
   },
   "outputs": [
   ],
   "source": [
    "try:\n",
    "    os.mkdir(dest_dir)\n",
    "except:\n",
    "    pass\n",
    "\n",
    "for year in years:\n",
    "    for category in categories:\n",
    "        filename = 'hourly_%s_%d.zip' % (category, year)\n",
    "        mirror_file_using_modtime(src_dir + filename, dest_dir + filename)"
   ]
  },
  {
   "cell_type": "code",
   "execution_count": 0,
   "metadata": {
    "collapsed": false
   },
   "outputs": [
   ],
   "source": [
   ]
  }
 ],
 "metadata": {
  "kernelspec": {
   "display_name": "Python 3 (Ubuntu Linux)",
   "language": "python",
   "name": "python3"
  },
  "language_info": {
   "codemirror_mode": {
    "name": "ipython",
    "version": 3
   },
   "file_extension": ".py",
   "mimetype": "text/x-python",
   "name": "python",
   "nbconvert_exporter": "python",
   "pygments_lexer": "ipython3",
   "version": "3.6.9"
  }
 },
 "nbformat": 4,
 "nbformat_minor": 0
}