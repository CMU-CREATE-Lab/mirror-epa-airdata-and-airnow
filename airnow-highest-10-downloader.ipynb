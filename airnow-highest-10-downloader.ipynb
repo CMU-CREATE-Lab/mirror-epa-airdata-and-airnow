{
 "cells": [
  {
   "cell_type": "markdown",
   "metadata": {
    "collapsed": false
   },
   "source": [
    "# Airnow Highest 10 Downloader\n",
    "\n",
    "Fetches data from Airnow's [reporting area top ten API](https://airnowgovapi.com/reportingarea/get_top) to obtain and save the highest 10 AQI locations.  Back when it was a Highest Five, Airnow said they updated it hourly, but it often happened more often, so this scraper runs every five minutes.\n",
    "\n",
    "Reports to stat.createlab.org as `Airnow Highest Ten - Downloader`."
   ]
  },
  {
   "cell_type": "code",
   "execution_count": 0,
   "metadata": {
    "collapsed": false
   },
   "outputs": [
   ],
   "source": [
    "import json, os, dateutil, re, requests, subprocess, datetime, glob, stat\n",
    "from dateutil import rrule, tz, parser\n",
    "from sqlitedict import SqliteDict"
   ]
  },
  {
   "cell_type": "code",
   "execution_count": 0,
   "metadata": {
    "collapsed": false
   },
   "outputs": [
   ],
   "source": [
    "# Boilerplate to load utils.ipynb\n",
    "# See https://github.com/CMU-CREATE-Lab/python-utils/blob/master/utils.ipynb\n",
    "\n",
    "def exec_ipynb(filename_or_url):\n",
    "    nb = (requests.get(filename_or_url).json() if re.match(r'https?:', filename_or_url) else json.load(open(filename_or_url)))\n",
    "    if(nb['nbformat'] >= 4):\n",
    "        src = [''.join(cell['source']) for cell in nb['cells'] if cell['cell_type'] == 'code']\n",
    "    else:\n",
    "        src = [''.join(cell['input']) for cell in nb['worksheets'][0]['cells'] if cell['cell_type'] == 'code']\n",
    "\n",
    "    tmpname = '/tmp/%s-%s-%d.py' % (os.path.basename(filename_or_url),\n",
    "                                    datetime.datetime.now().strftime('%Y%m%d%H%M%S%f'),\n",
    "                                    os.getpid())\n",
    "    src = '\\n\\n\\n'.join(src)\n",
    "    open(tmpname, 'w').write(src)\n",
    "    code = compile(src, tmpname, 'exec')\n",
    "    exec(code, globals())\n",
    "\n",
    "exec_ipynb('./python-utils/utils.ipynb')\n",
    "exec_ipynb('./airnow-common.ipynb')"
   ]
  },
  {
   "cell_type": "code",
   "execution_count": 0,
   "metadata": {
    "collapsed": false
   },
   "outputs": [
   ],
   "source": [
    "STAT_SERVICE_NAME = 'Airnow Highest Ten - Downloader'\n",
    "STAT_HOSTNAME = 'hal21'\n",
    "STAT_SHORTNAME = 'airnow-highest-ten-downloader'\n",
    "\n",
    "RUN_INTERVAL_SECONDS = 60 * 5   # every 5 minutes\n",
    "\n",
    "NUM_AQI_VALUES = 10;\n",
    "\n",
    "REPORTING_AREAS_JSON_FILENAME = 'reporting_areas.json'"
   ]
  },
  {
   "cell_type": "code",
   "execution_count": 0,
   "metadata": {
    "collapsed": false
   },
   "outputs": [
   ],
   "source": [
    "Stat.set_service(STAT_SERVICE_NAME)"
   ]
  },
  {
   "cell_type": "code",
   "execution_count": 0,
   "metadata": {
    "collapsed": false
   },
   "outputs": [
   ],
   "source": [
    "def create_reporting_area_lookup_dictionary_key(name, state_code):\n",
    "    return name + '|' + state_code"
   ]
  },
  {
   "cell_type": "code",
   "execution_count": 0,
   "metadata": {
    "collapsed": false
   },
   "outputs": [
   ],
   "source": [
    "def is_non_empty_array(a):\n",
    "    return isinstance(a, list) and len(a) > 0"
   ]
  },
  {
   "cell_type": "code",
   "execution_count": 0,
   "metadata": {
    "collapsed": false
   },
   "outputs": [
   ],
   "source": [
    "# Reads in the REPORTING_AREAS_JSON_FILENAME and builds an in-memory dictionary which maps name|stateCode to reporting area ID.\n",
    "# For example, this item in reporting_areas.json:\n",
    "#\n",
    "#   \"ak006\" : {\n",
    "#      \"countryCode\" : \"US\",\n",
    "#      \"dstzLabel\" : \"ADT\",\n",
    "#      \"gmtOffset\" : \"-9\",\n",
    "#      \"hasDST\" : true,\n",
    "#      \"id\" : \"ak006\",\n",
    "#      \"lat\" : 61.3124,\n",
    "#      \"lng\" : -149.5678,\n",
    "#      \"name\" : \"Eagle River\",\n",
    "#      \"siteIDs\" : [\"020201004\"],\n",
    "#      \"stateCode\" : \"AK\",\n",
    "#      \"tzLabel\" : \"AKT\"\n",
    "#   },\n",
    "#\n",
    "# Will be stored in the dictionary as key \"Eagle River|AK\" with a value of \"ak006\". This dictionary is used for fast lookups\n",
    "# of the reporting areas referenced in the top ten JSON we download from Airnow.  It would have been ideal if they had actually\n",
    "# included the reporting area ID in their JSON, but sometimes the world isn't ideal :-\\  They do include reporting area name,\n",
    "# state code, and lat/long, so we'll use those to lookup reporting area IDs from this in-memory dictionary.\n",
    "\n",
    "reporting_area_lookup_dictionary = {}\n",
    "\n",
    "def build_reporting_area_lookup_dictionary():\n",
    "    global reporting_area_lookup_dictionary\n",
    "\n",
    "    with open(AirnowCommon.DATA_DIRECTORY + '/' + REPORTING_AREAS_JSON_FILENAME, 'r') as f:\n",
    "        reporting_areas_by_id = json.load(f)\n",
    "\n",
    "        for id in reporting_areas_by_id:\n",
    "            reporting_area = reporting_areas_by_id[id]\n",
    "            key = create_reporting_area_lookup_dictionary_key(reporting_area['name'], reporting_area['stateCode'])\n",
    "            reporting_area_lookup_dictionary[key] = id\n",
    "\n",
    "#build_reporting_area_lookup_dictionary()"
   ]
  },
  {
   "cell_type": "code",
   "execution_count": 0,
   "metadata": {
    "collapsed": false,
    "scrolled": true
   },
   "outputs": [
   ],
   "source": [
    "# Gets the JSON from Airnow containing the top ten AQI reporting areas. Note that \"ten\" may not actually\n",
    "# be ten.  I've seen it return 11 records before.  Maybe they're fans of Spinal Tap?\n",
    "def fetch_top_ten():\n",
    "    try:\n",
    "        page = requests.get(\"https://airnowgovapi.com/reportingarea/get_top\", timeout=20)\n",
    "        if (page.status_code >= 200 and page.status_code < 300):\n",
    "            return json.loads(page.text)\n",
    "        else:\n",
    "            Stat.warning(\"Failed to get Airnow home page (HTTP %d)\" % (page.status_code), host=STAT_HOSTNAME, shortname=STAT_SHORTNAME)\n",
    "    except requests.HTTPError as e:\n",
    "        Stat.warning(\"Failed to get Airnow home page (HTTP %d)\" % (e.response.status_code), host=STAT_HOSTNAME, shortname=STAT_SHORTNAME)\n",
    "    except Exception as e:\n",
    "        Stat.warning(\"Failed to get Airnow home page (%s)\" % e, host=STAT_HOSTNAME, shortname=STAT_SHORTNAME)\n",
    "    return None\n",
    "\n",
    "#fetch_top_ten()"
   ]
  },
  {
   "cell_type": "code",
   "execution_count": 0,
   "metadata": {
    "collapsed": false
   },
   "outputs": [
   ],
   "source": [
    "# Tries to find the reporting area (in the in-memory reporting_area_lookup_dictionary) matching the\n",
    "# given name and state code and, if found, returns the ID. Returns None if no match is found.\n",
    "def find_reporting_area_id(name, state_code):\n",
    "    global reporting_area_lookup_dictionary\n",
    "    key = create_reporting_area_lookup_dictionary_key(name, state_code)\n",
    "    if key in reporting_area_lookup_dictionary:\n",
    "        return reporting_area_lookup_dictionary[key]\n",
    "\n",
    "    return None\n",
    "\n",
    "# print(find_reporting_area_id('Birmingham', 'AL'))  # al001\n",
    "# print(find_reporting_area_id('Mono Lake', 'CA'))  # ca225\n",
    "# print(find_reporting_area_id('Springdale (Springdale-Fayetteville-Bentonville)', 'AR'))  # ar002\n",
    "# print(find_reporting_area_id('Bogusville', 'WV'))  # None"
   ]
  },
  {
   "cell_type": "code",
   "execution_count": 0,
   "metadata": {
    "collapsed": false
   },
   "outputs": [
   ],
   "source": [
    "def parse_top_ten(top_ten):\n",
    "    records = []\n",
    "    if is_non_empty_array(top_ten):\n",
    "\n",
    "        # build the in-memory lookup dictionary\n",
    "        build_reporting_area_lookup_dictionary()\n",
    "\n",
    "        # iterate over the items and convert to (rank, reporting_area_id, aqi) tuples\n",
    "        rank = 0\n",
    "        for item in top_ten:\n",
    "            rank += 1\n",
    "            reporting_area_id = find_reporting_area_id(item['reportingArea'], item['stateCode'])\n",
    "            aqi = item['aqi']\n",
    "            parameter = item['parameter']\n",
    "\n",
    "            records.append((rank, reporting_area_id, aqi, parameter))\n",
    "\n",
    "    return records\n",
    "\n",
    "# top_ten = fetch_top_ten()\n",
    "# str(parse_top_ten(top_ten)) # E.g. [(1, 'ca162', 341, 'PM10'), (2, 'mo002', 262, 'PM10'), (3, 'ca126', 187, 'PM10'), ... , (8, 'il009', 120, 'PM2.5'), (9, 'wi002', 117, 'PM2.5'), (10, 'nm007', 113, 'PM10')]"
   ]
  },
  {
   "cell_type": "code",
   "execution_count": 0,
   "metadata": {
    "collapsed": false
   },
   "outputs": [
   ],
   "source": [
    "def stringify_tuple(t):\n",
    "    return ','.join(map(str,t))\n",
    "\n",
    "def stringify_records(r):\n",
    "    return '|'.join(map(stringify_tuple,r))\n",
    "\n",
    "def save_records(sample_timestamp, records):\n",
    "    try:\n",
    "        # build a file path for today's data\n",
    "        filename = datetime.datetime.utcnow().strftime('%Y%m%d.dat')\n",
    "        file_path = AirnowCommon.HIGHEST_TEN_AQI_DAT_DIRECTORY + '/' + filename\n",
    "        print(file_path)\n",
    "\n",
    "        # make sure the directories to the file exist\n",
    "        os.makedirs(os.path.dirname(file_path), exist_ok=True)\n",
    "\n",
    "        # build the line to append (apparently it's safe to just use \\n instead of os.linesep...see https://stackoverflow.com/a/11497391/703200)\n",
    "        line = str(sample_timestamp) + ':' + stringify_records(records) + '\\n'\n",
    "\n",
    "        # append to the file\n",
    "        with open(file_path, \"a\") as data_file:\n",
    "            data_file.write(line)\n",
    "\n",
    "        return True\n",
    "    except:\n",
    "        return False\n",
    "\n",
    "# save_records(time.time(), [(1, 'ca162', 341, 'PM10'), (2, 'mo002', 262, 'PM10'), (3, 'ca126', 187, 'PM10'), (4, 'az012', 145, 'PM10'), (5, 'mo011', 130, 'PM10'), (6, 'al001', 123, 'PM2.5'), (7, 'il001', 120, 'PM2.5'), (8, 'il009', 120, 'PM2.5'), (9, 'wi002', 117, 'PM2.5'), (10, 'nm007', 113, 'PM10')])"
   ]
  },
  {
   "cell_type": "code",
   "execution_count": 0,
   "metadata": {
    "collapsed": false
   },
   "outputs": [
   ],
   "source": [
    "def run():\n",
    "    Stat.info('Downloading highest ten AQI readings from Airnow...', host=STAT_HOSTNAME, shortname=STAT_SHORTNAME)\n",
    "    start_time = time.time()\n",
    "    top_ten = fetch_top_ten()\n",
    "    if is_non_empty_array(top_ten):\n",
    "        records = parse_top_ten(top_ten)\n",
    "        if is_non_empty_array(records):\n",
    "            if save_records(start_time, records):\n",
    "                Stat.info(\"%f: %s\" % (start_time, records), details=\"saved\", host=STAT_HOSTNAME, shortname=STAT_SHORTNAME)\n",
    "            else:\n",
    "                Stat.error(\"%f: %s\" % (start_time, records), details=\"failed to save\", host=STAT_HOSTNAME, shortname=STAT_SHORTNAME)\n",
    "            end_time = time.time()\n",
    "            Stat.up('Done downloading highest ten AQI readings from Airnow', details='Took %.1f seconds' % (end_time - start_time), host=STAT_HOSTNAME, shortname=STAT_SHORTNAME, valid_for_secs=RUN_INTERVAL_SECONDS*1.5)\n",
    "        else:\n",
    "            Stat.down('Failed to parse highest ten AQI readings from Airnow', host=STAT_HOSTNAME, shortname=STAT_SHORTNAME, valid_for_secs=RUN_INTERVAL_SECONDS*1.5)\n",
    "    else:\n",
    "        Stat.down('Failed to fetch highest ten AQI readings from Airnow', host=STAT_HOSTNAME, shortname=STAT_SHORTNAME, valid_for_secs=RUN_INTERVAL_SECONDS*1.5)\n",
    "\n",
    "def run_forever():\n",
    "    while True:\n",
    "        run()\n",
    "        sleep_until_next_period(RUN_INTERVAL_SECONDS)\n",
    "\n",
    "#run()\n",
    "run_forever()"
   ]
  }
 ],
 "metadata": {
  "kernelspec": {
   "display_name": "Anaconda Python3",
   "language": "python",
   "name": "anaconda3"
  },
  "language_info": {
   "codemirror_mode": {
    "name": "ipython",
    "version": 3
   },
   "file_extension": ".py",
   "mimetype": "text/x-python",
   "name": "python",
   "nbconvert_exporter": "python",
   "pygments_lexer": "ipython3",
   "version": "3.7.6"
  }
 },
 "nbformat": 4,
 "nbformat_minor": 4
}