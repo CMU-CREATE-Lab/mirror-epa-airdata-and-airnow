{
 "cells": [
  {
   "cell_type": "markdown",
   "metadata": {
    "collapsed": false
   },
   "source": [
    "# Airnow Monitoring Site ESDR Device Cache\n",
    "\n",
    "Downloads the ESDR devices representing the known Airnow monitoring site locations and caches as a JSON file.  Having a local cache is useful for speeding up uploads.  Used by cocalc scripts, and in user-facing visualizations.\n",
    "\n",
    "Reports to stat.createlab.org as `Airnow Monitoring Site ESDR Device Cache`."
   ]
  },
  {
   "cell_type": "code",
   "execution_count": 0,
   "metadata": {
    "collapsed": false
   },
   "outputs": [
   ],
   "source": [
    "import json, os, dateutil, re, requests, subprocess, datetime, glob, stat\n",
    "\n",
    "from dateutil import rrule, tz, parser"
   ]
  },
  {
   "cell_type": "code",
   "execution_count": 0,
   "metadata": {
    "collapsed": false
   },
   "outputs": [
   ],
   "source": [
    "# Boilerplate to load utils.ipynb\n",
    "# See https://github.com/CMU-CREATE-Lab/python-utils/blob/master/utils.ipynb\n",
    "\n",
    "\n",
    "def exec_ipynb(filename_or_url):\n",
    "    nb = (requests.get(filename_or_url).json() if re.match(r'https?:', filename_or_url) else json.load(open(filename_or_url)))\n",
    "    if(nb['nbformat'] >= 4):\n",
    "        src = [''.join(cell['source']) for cell in nb['cells'] if cell['cell_type'] == 'code']\n",
    "    else:\n",
    "        src = [''.join(cell['input']) for cell in nb['worksheets'][0]['cells'] if cell['cell_type'] == 'code']\n",
    "\n",
    "    tmpname = '/tmp/%s-%s-%d.py' % (os.path.basename(filename_or_url),\n",
    "                                    datetime.datetime.now().strftime('%Y%m%d%H%M%S%f'),\n",
    "                                    os.getpid())\n",
    "    src = '\\n\\n\\n'.join(src)\n",
    "    open(tmpname, 'w').write(src)\n",
    "    code = compile(src, tmpname, 'exec')\n",
    "    exec(code, globals())\n",
    "\n",
    "\n",
    "exec_ipynb('./python-utils/utils.ipynb')\n",
    "exec_ipynb('./python-utils/esdr-library.ipynb')\n",
    "exec_ipynb('./airnow-common.ipynb')"
   ]
  },
  {
   "cell_type": "code",
   "execution_count": 0,
   "metadata": {
    "collapsed": false
   },
   "outputs": [
   ],
   "source": [
    "MIRROR_TIME_PERIOD_SECS = 60 * 5   # every 5 minutes\n",
    "\n",
    "STAT_SERVICE_NAME = 'Airnow Monitoring Site ESDR Device Cache'\n",
    "STAT_HOSTNAME = 'airnow'\n",
    "STAT_SHORTNAME = 'airnow-monitoring-site-esdr-device-cache'\n",
    "\n",
    "ESDR_MONITORING_SITE_LOCATION_DEVICES_JSON_FILENAME = 'esdr_monitoring_site_location_devices.json'"
   ]
  },
  {
   "cell_type": "code",
   "execution_count": 0,
   "metadata": {
    "collapsed": false
   },
   "outputs": [
   ],
   "source": [
    "Stat.set_service(STAT_SERVICE_NAME)"
   ]
  },
  {
   "cell_type": "code",
   "execution_count": 0,
   "metadata": {
    "collapsed": false
   },
   "outputs": [
   ],
   "source": [
    "esdr = None\n",
    "airnow_product = None"
   ]
  },
  {
   "cell_type": "code",
   "execution_count": 0,
   "metadata": {
    "collapsed": false
   },
   "outputs": [
   ],
   "source": [
    "def get_airnow_product():\n",
    "    global esdr, airnow_product\n",
    "    if not esdr:\n",
    "        esdr = Esdr('esdr-auth-airnow-uploader.json', user_agent='esdr-library.py['+STAT_SERVICE_NAME+']')\n",
    "    if not airnow_product:\n",
    "        # esdr.create_product('AirNow', 'AirNow', 'EPA and Sonoma Tech', 'Real-time feeds from EPA/STI AirNow')\n",
    "        airnow_product = esdr.get_product_by_name('AirNow')\n",
    "    return airnow_product\n",
    "\n",
    "def refresh_esdr_monitoring_site_devices_cache():\n",
    "    global esdr, airnow_product\n",
    "    if not esdr:\n",
    "        esdr = Esdr('esdr-auth-airnow-uploader.json', user_agent='esdr-library.py['+STAT_SERVICE_NAME+']')\n",
    "    if not airnow_product:\n",
    "        airnow_product = get_airnow_product()\n",
    "\n",
    "    # get all ESDR devices belonging to the Airnow product, dealing with multiple pages of data if necessary\n",
    "    devices = []\n",
    "    while True:\n",
    "        try:\n",
    "            response = esdr.api('GET', '/api/v1/devices', {'where':'productId='+str(airnow_product['id']), 'fields':'id,name,serialNumber', 'offset':len(devices)})\n",
    "            if 'data' in response and 'rows' in response['data']:\n",
    "                new_rows = response['data']['rows']\n",
    "                devices.extend(new_rows)\n",
    "                if len(devices) == response['data']['totalCount'] or len(new_rows) <= 0:\n",
    "                    break;\n",
    "            else:\n",
    "                raise Exception(\"No data in response when fetching ESDR devices\")\n",
    "        except requests.HTTPError as e:\n",
    "            Stat.warning('Failed to refresh %s due to error: %s' % (ESDR_MONITORING_SITE_LOCATION_DEVICES_JSON_FILENAME, str(e)), host=STAT_HOSTNAME, shortname=STAT_SHORTNAME)\n",
    "            break;\n",
    "        except Exception as e:\n",
    "            Stat.warning('Failed to refresh %s due to error: %s' % (ESDR_MONITORING_SITE_LOCATION_DEVICES_JSON_FILENAME, str(e)), host=STAT_HOSTNAME, shortname=STAT_SHORTNAME)\n",
    "            break;\n",
    "\n",
    "    # create a map, which maps serial number to device id and name\n",
    "    esdr_device_map = {}\n",
    "    for device in devices:\n",
    "        esdr_device_map[device['serialNumber']] = {'id':device['id'], 'name':device['name']}\n",
    "\n",
    "    # now write the JSON file\n",
    "    json_dest = AirnowCommon.DATA_DIRECTORY + '/' + ESDR_MONITORING_SITE_LOCATION_DEVICES_JSON_FILENAME\n",
    "    tmp = json_dest + '.tmp' + str(os.getpid())\n",
    "    os.makedirs(os.path.dirname(tmp), exist_ok=True)\n",
    "    with open(tmp, 'w') as json_file:\n",
    "        json.dump(esdr_device_map, json_file, sort_keys=True)\n",
    "    os.rename(tmp, json_dest)\n",
    "\n",
    "    # make the JSON file readable by everyone\n",
    "    os.chmod(json_dest, stat.S_IREAD | stat.S_IWRITE | stat.S_IRGRP | stat.S_IROTH)\n",
    "\n",
    "    Stat.info('Successfully updated %s ' % ESDR_MONITORING_SITE_LOCATION_DEVICES_JSON_FILENAME, host=STAT_HOSTNAME, shortname=STAT_SHORTNAME)"
   ]
  },
  {
   "cell_type": "code",
   "execution_count": 0,
   "metadata": {
    "collapsed": false
   },
   "outputs": [
   ],
   "source": [
    "def run():\n",
    "    Stat.up('Downloading Airnow monitoring site ESDR devices and caching to %s...' % ESDR_MONITORING_SITE_LOCATION_DEVICES_JSON_FILENAME, host=STAT_HOSTNAME, shortname=STAT_SHORTNAME)\n",
    "    refresh_esdr_monitoring_site_devices_cache()\n",
    "    Stat.up('Done downloading Airnow monitoring site ESDR devices and caching to %s' % ESDR_MONITORING_SITE_LOCATION_DEVICES_JSON_FILENAME, host=STAT_HOSTNAME, shortname=STAT_SHORTNAME)\n",
    "\n",
    "def run_forever():\n",
    "    while True:\n",
    "        run()\n",
    "        sleep_until_next_period(MIRROR_TIME_PERIOD_SECS)\n",
    "\n",
    "run_forever()"
   ]
  }
 ],
 "metadata": {
  "kernelspec": {
   "display_name": "Anaconda Python 3",
   "language": "python",
   "name": "anaconda3"
  },
  "language_info": {
   "codemirror_mode": {
    "name": "ipython",
    "version": 3
   },
   "file_extension": ".py",
   "mimetype": "text/x-python",
   "name": "python",
   "nbconvert_exporter": "python",
   "pygments_lexer": "ipython3",
   "version": "3.7.4"
  }
 },
 "nbformat": 4,
 "nbformat_minor": 0
}