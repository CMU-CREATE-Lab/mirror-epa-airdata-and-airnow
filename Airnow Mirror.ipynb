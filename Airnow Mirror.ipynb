{
 "metadata": {
  "name": "",
  "signature": "sha256:c280ac30906cfcdb057ae580c739e788c82d820b962462c0b3b13ae5897b392c"
 },
 "nbformat": 3,
 "nbformat_minor": 0,
 "worksheets": [
  {
   "cells": [
    {
     "cell_type": "code",
     "collapsed": false,
     "input": [
      "import datetime, ftplib, json, os, re, time, socket\n",
      "from dateutil import rrule, tz"
     ],
     "language": "python",
     "metadata": {},
     "outputs": [],
     "prompt_number": 44
    },
    {
     "cell_type": "code",
     "collapsed": false,
     "input": [
      "auth_file = os.path.expanduser('~/.config/airnow-mirror/auth.json')"
     ],
     "language": "python",
     "metadata": {},
     "outputs": [],
     "prompt_number": 45
    },
    {
     "cell_type": "code",
     "collapsed": false,
     "input": [
      "# Write username and password to auth_file\n",
      "# Fill in your username and password below to set the file up.  Ask Randy for login\n",
      "username = ''\n",
      "password = ''\n",
      "\n",
      "if username and password:\n",
      "    try:\n",
      "        os.makedirs(os.path.dirname(auth_file))\n",
      "    except:\n",
      "        pass\n",
      "    json.dump({'username':username, 'password':password}, open(auth_file, 'w'))\n",
      "    print 'Wrote username and password to %s' % auth_file"
     ],
     "language": "python",
     "metadata": {},
     "outputs": [],
     "prompt_number": 46
    },
    {
     "cell_type": "code",
     "collapsed": false,
     "input": [
      "def ftp_reconnect():\n",
      "    global ftp_connection\n",
      "    while True:\n",
      "        try:\n",
      "            ftp_connection.close()\n",
      "        except:\n",
      "            pass\n",
      "        try:\n",
      "            ftp_connection = ftplib.FTP(host, auth['username'], auth['password'], timeout=180)\n",
      "            break\n",
      "        except ftplib.error_temp:\n",
      "            print 'Temporary error connecting, retrying'\n",
      "            time.sleep(30)\n",
      "    print 'Connected to %s' % host\n",
      "\n",
      "def ftp_modtime(path):\n",
      "    global ftp_connection\n",
      "    while True:\n",
      "        try:\n",
      "            modtime = ftp_connection.sendcmd('MDTM %s' % path)\n",
      "        except ftplib.error_perm:\n",
      "            return None\n",
      "        except (socket.timeout, socket.error):\n",
      "            continue\n",
      "        return datetime.datetime.strptime(modtime[4:16], \"%Y%m%d%H%M%S\").replace(tzinfo=tz.tzutc())\n",
      "\n",
      "def ftp_get(path):\n",
      "    global ftp_connection\n",
      "    # Just in case we hit a race and the file is being updated as we fetch, keep\n",
      "    # looping until modtime is the same before and after we fetch.\n",
      "    # Also loop if we hit a timeout\n",
      "    while True:\n",
      "        try:\n",
      "            modtime = ftp_modtime(path)\n",
      "            blocks = []\n",
      "            def append_contents(block):\n",
      "                blocks.append(block)\n",
      "            ftp_connection.retrbinary('RETR %s' % path, append_contents)\n",
      "            modtime_after = ftp_modtime(path)\n",
      "            if modtime == modtime_after:\n",
      "                contents = ''.join(blocks)\n",
      "                print 'Retrieved %d bytes from %s, modtime %s' % (len(contents), path, modtime)\n",
      "                return (modtime, contents)\n",
      "        except (socket.timeout, socket.error):\n",
      "            print 'Timed out;  reconnecting'\n",
      "            ftp_reconnect()"
     ],
     "language": "python",
     "metadata": {},
     "outputs": [],
     "prompt_number": 47
    },
    {
     "cell_type": "code",
     "collapsed": false,
     "input": [
      "auth = json.load(open(auth_file, 'r'))\n",
      "host = 'ftp.airnowapi.org'\n",
      "ftp_reconnect()"
     ],
     "language": "python",
     "metadata": {},
     "outputs": [
      {
       "output_type": "stream",
       "stream": "stdout",
       "text": [
        "Connected to ftp.airnowapi.org\n"
       ]
      }
     ],
     "prompt_number": 52
    },
    {
     "cell_type": "code",
     "collapsed": false,
     "input": [
      "def mirror_timestamp(timestamp):\n",
      "    filename = timestamp.strftime('%Y%m%d%H.dat')\n",
      "    src = None\n",
      "    for subdir in ['', 'Archive/%04d/' % (timestamp.year + 1), 'Archive/%04d/' % timestamp.year]:\n",
      "        test_src = 'HourlyData/' + subdir + filename\n",
      "        modtime = ftp_modtime(test_src)\n",
      "        if modtime:\n",
      "            src = test_src\n",
      "            break\n",
      "\n",
      "    if not src:\n",
      "        print 'Could not find %s' % filename\n",
      "        return\n",
      "\n",
      "    dest = '%04d/%s' % (timestamp.year, filename)\n",
      "    modtime_epoch = (modtime - datetime.datetime(1970, 1, 1, tzinfo=tz.tzutc())).total_seconds()\n",
      "\n",
      "    try:\n",
      "        stat = os.stat(dest)\n",
      "        if stat.st_mtime != modtime_epoch:\n",
      "            mirror = True\n",
      "            reason = 'modification times do not match'\n",
      "        else:\n",
      "            mirror = False\n",
      "            reason = 'modification times are identical'\n",
      "    except:\n",
      "        mirror = True\n",
      "        reason = 'destination does not exist'\n",
      "\n",
      "    if mirror:\n",
      "        try:\n",
      "            os.makedirs(os.path.dirname(dest))\n",
      "        except:\n",
      "            pass\n",
      "        (modtime, contents) = ftp_get(src)\n",
      "        open(dest + '.tmp', 'w').write(contents)\n",
      "        os.rename(dest + '.tmp', dest)\n",
      "        os.utime(dest, (modtime_epoch, modtime_epoch))\n",
      "        print 'Copied %s (%d bytes, modtime %s) to %s because %s' % (src, len(contents), modtime, dest, reason)\n",
      "    else:\n",
      "        print 'Not copying %s to %s because %s' % (src, dest, reason)"
     ],
     "language": "python",
     "metadata": {},
     "outputs": [],
     "prompt_number": 53
    },
    {
     "cell_type": "code",
     "collapsed": false,
     "input": [
      "start = datetime.datetime(2013, 8, 6, 16)\n",
      "end = datetime.datetime.utcnow()\n",
      "\n",
      "timestamps_to_mirror = list(rrule.rrule(rrule.HOURLY, dtstart=start, until=end))\n",
      "print 'Mirroring %s timestamps, starting %s' % (len(timestamps_to_mirror), start)\n",
      "\n",
      "for timestamp in timestamps_to_mirror:\n",
      "    mirror_timestamp(timestamp)"
     ],
     "language": "python",
     "metadata": {},
     "outputs": [
      {
       "output_type": "stream",
       "stream": "stdout",
       "text": [
        "Mirroring 2793 timestamps, starting 2013-08-06 16:00:00\n",
        "Not copying HourlyData/Archive/2013/2013080616.dat to 2013/2013080616.dat because modification times are identical"
       ]
      },
      {
       "output_type": "stream",
       "stream": "stdout",
       "text": [
        "\n",
        "Not copying HourlyData/Archive/2013/2013080617.dat to 2013/2013080617.dat because modification times are identical"
       ]
      },
      {
       "output_type": "stream",
       "stream": "stdout",
       "text": [
        "\n",
        "Not copying HourlyData/Archive/2013/2013080618.dat to 2013/2013080618.dat because modification times are identical"
       ]
      },
      {
       "output_type": "stream",
       "stream": "stdout",
       "text": [
        "\n",
        "Not copying HourlyData/Archive/2013/2013080619.dat to 2013/2013080619.dat because modification times are identical"
       ]
      },
      {
       "output_type": "stream",
       "stream": "stdout",
       "text": [
        "\n",
        "Not copying HourlyData/Archive/2013/2013080620.dat to 2013/2013080620.dat because modification times are identical"
       ]
      },
      {
       "output_type": "stream",
       "stream": "stdout",
       "text": [
        "\n",
        "Not copying HourlyData/Archive/2013/2013080621.dat to 2013/2013080621.dat because modification times are identical"
       ]
      },
      {
       "output_type": "stream",
       "stream": "stdout",
       "text": [
        "\n",
        "Not copying HourlyData/Archive/2013/2013080622.dat to 2013/2013080622.dat because modification times are identical"
       ]
      },
      {
       "output_type": "stream",
       "stream": "stdout",
       "text": [
        "\n",
        "Not copying HourlyData/Archive/2013/2013080623.dat to 2013/2013080623.dat because modification times are identical"
       ]
      },
      {
       "output_type": "stream",
       "stream": "stdout",
       "text": [
        "\n",
        "Not copying HourlyData/Archive/2013/2013080700.dat to 2013/2013080700.dat because modification times are identical"
       ]
      },
      {
       "output_type": "stream",
       "stream": "stdout",
       "text": [
        "\n",
        "Not copying HourlyData/Archive/2013/2013080701.dat to 2013/2013080701.dat because modification times are identical"
       ]
      },
      {
       "output_type": "stream",
       "stream": "stdout",
       "text": [
        "\n",
        "Not copying HourlyData/Archive/2013/2013080702.dat to 2013/2013080702.dat because modification times are identical"
       ]
      },
      {
       "output_type": "stream",
       "stream": "stdout",
       "text": [
        "\n",
        "Not copying HourlyData/Archive/2013/2013080703.dat to 2013/2013080703.dat because modification times are identical"
       ]
      },
      {
       "output_type": "stream",
       "stream": "stdout",
       "text": [
        "\n",
        "Not copying HourlyData/Archive/2013/2013080704.dat to 2013/2013080704.dat because modification times are identical"
       ]
      },
      {
       "output_type": "stream",
       "stream": "stdout",
       "text": [
        "\n",
        "Not copying HourlyData/Archive/2013/2013080705.dat to 2013/2013080705.dat because modification times are identical"
       ]
      },
      {
       "output_type": "stream",
       "stream": "stdout",
       "text": [
        "\n",
        "Not copying HourlyData/Archive/2013/2013080706.dat to 2013/2013080706.dat because modification times are identical"
       ]
      },
      {
       "output_type": "stream",
       "stream": "stdout",
       "text": [
        "\n",
        "Not copying HourlyData/Archive/2013/2013080707.dat to 2013/2013080707.dat because modification times are identical"
       ]
      },
      {
       "output_type": "stream",
       "stream": "stdout",
       "text": [
        "\n",
        "Not copying HourlyData/Archive/2013/2013080708.dat to 2013/2013080708.dat because modification times are identical"
       ]
      },
      {
       "output_type": "stream",
       "stream": "stdout",
       "text": [
        "\n",
        "Not copying HourlyData/Archive/2013/2013080709.dat to 2013/2013080709.dat because modification times are identical"
       ]
      },
      {
       "output_type": "stream",
       "stream": "stdout",
       "text": [
        "\n",
        "Not copying HourlyData/Archive/2013/2013080710.dat to 2013/2013080710.dat because modification times are identical"
       ]
      },
      {
       "output_type": "stream",
       "stream": "stdout",
       "text": [
        "\n",
        "Not copying HourlyData/Archive/2013/2013080711.dat to 2013/2013080711.dat because modification times are identical"
       ]
      },
      {
       "output_type": "stream",
       "stream": "stdout",
       "text": [
        "\n",
        "Not copying HourlyData/Archive/2013/2013080712.dat to 2013/2013080712.dat because modification times are identical"
       ]
      },
      {
       "output_type": "stream",
       "stream": "stdout",
       "text": [
        "\n",
        "Not copying HourlyData/Archive/2013/2013080713.dat to 2013/2013080713.dat because modification times are identical"
       ]
      },
      {
       "output_type": "stream",
       "stream": "stdout",
       "text": [
        "\n",
        "Not copying HourlyData/Archive/2013/2013080714.dat to 2013/2013080714.dat because modification times are identical"
       ]
      },
      {
       "output_type": "stream",
       "stream": "stdout",
       "text": [
        "\n",
        "Not copying HourlyData/Archive/2013/2013080715.dat to 2013/2013080715.dat because modification times are identical"
       ]
      },
      {
       "output_type": "stream",
       "stream": "stdout",
       "text": [
        "\n",
        "Not copying HourlyData/Archive/2013/2013080716.dat to 2013/2013080716.dat because modification times are identical"
       ]
      },
      {
       "output_type": "stream",
       "stream": "stdout",
       "text": [
        "\n",
        "Not copying HourlyData/Archive/2013/2013080717.dat to 2013/2013080717.dat because modification times are identical"
       ]
      },
      {
       "output_type": "stream",
       "stream": "stdout",
       "text": [
        "\n",
        "Not copying HourlyData/Archive/2013/2013080718.dat to 2013/2013080718.dat because modification times are identical"
       ]
      },
      {
       "output_type": "stream",
       "stream": "stdout",
       "text": [
        "\n",
        "Not copying HourlyData/Archive/2013/2013080719.dat to 2013/2013080719.dat because modification times are identical"
       ]
      },
      {
       "output_type": "stream",
       "stream": "stdout",
       "text": [
        "\n",
        "Not copying HourlyData/Archive/2013/2013080720.dat to 2013/2013080720.dat because modification times are identical"
       ]
      },
      {
       "output_type": "stream",
       "stream": "stdout",
       "text": [
        "\n",
        "Not copying HourlyData/Archive/2013/2013080721.dat to 2013/2013080721.dat because modification times are identical"
       ]
      },
      {
       "output_type": "stream",
       "stream": "stdout",
       "text": [
        "\n",
        "Not copying HourlyData/Archive/2013/2013080722.dat to 2013/2013080722.dat because modification times are identical"
       ]
      },
      {
       "output_type": "stream",
       "stream": "stdout",
       "text": [
        "\n",
        "Not copying HourlyData/Archive/2013/2013080723.dat to 2013/2013080723.dat because modification times are identical"
       ]
      },
      {
       "output_type": "stream",
       "stream": "stdout",
       "text": [
        "\n",
        "Not copying HourlyData/Archive/2013/2013080800.dat to 2013/2013080800.dat because modification times are identical"
       ]
      },
      {
       "output_type": "stream",
       "stream": "stdout",
       "text": [
        "\n",
        "Not copying HourlyData/Archive/2013/2013080801.dat to 2013/2013080801.dat because modification times are identical"
       ]
      },
      {
       "output_type": "stream",
       "stream": "stdout",
       "text": [
        "\n",
        "Not copying HourlyData/Archive/2013/2013080802.dat to 2013/2013080802.dat because modification times are identical"
       ]
      },
      {
       "output_type": "stream",
       "stream": "stdout",
       "text": [
        "\n",
        "Not copying HourlyData/Archive/2013/2013080803.dat to 2013/2013080803.dat because modification times are identical"
       ]
      },
      {
       "output_type": "stream",
       "stream": "stdout",
       "text": [
        "\n",
        "Not copying HourlyData/Archive/2013/2013080804.dat to 2013/2013080804.dat because modification times are identical"
       ]
      },
      {
       "output_type": "stream",
       "stream": "stdout",
       "text": [
        "\n",
        "Not copying HourlyData/Archive/2013/2013080805.dat to 2013/2013080805.dat because modification times are identical"
       ]
      },
      {
       "output_type": "stream",
       "stream": "stdout",
       "text": [
        "\n",
        "Not copying HourlyData/Archive/2013/2013080806.dat to 2013/2013080806.dat because modification times are identical"
       ]
      },
      {
       "output_type": "stream",
       "stream": "stdout",
       "text": [
        "\n",
        "Not copying HourlyData/Archive/2013/2013080807.dat to 2013/2013080807.dat because modification times are identical"
       ]
      },
      {
       "output_type": "stream",
       "stream": "stdout",
       "text": [
        "\n",
        "Not copying HourlyData/Archive/2013/2013080808.dat to 2013/2013080808.dat because modification times are identical"
       ]
      },
      {
       "output_type": "stream",
       "stream": "stdout",
       "text": [
        "\n",
        "Not copying HourlyData/Archive/2013/2013080809.dat to 2013/2013080809.dat because modification times are identical"
       ]
      },
      {
       "output_type": "stream",
       "stream": "stdout",
       "text": [
        "\n",
        "Not copying HourlyData/Archive/2013/2013080810.dat to 2013/2013080810.dat because modification times are identical"
       ]
      },
      {
       "output_type": "stream",
       "stream": "stdout",
       "text": [
        "\n",
        "Not copying HourlyData/Archive/2013/2013080811.dat to 2013/2013080811.dat because modification times are identical"
       ]
      },
      {
       "output_type": "stream",
       "stream": "stdout",
       "text": [
        "\n",
        "Not copying HourlyData/Archive/2013/2013080812.dat to 2013/2013080812.dat because modification times are identical"
       ]
      },
      {
       "output_type": "stream",
       "stream": "stdout",
       "text": [
        "\n",
        "Not copying HourlyData/Archive/2013/2013080813.dat to 2013/2013080813.dat because modification times are identical"
       ]
      },
      {
       "output_type": "stream",
       "stream": "stdout",
       "text": [
        "\n",
        "Not copying HourlyData/Archive/2013/2013080814.dat to 2013/2013080814.dat because modification times are identical"
       ]
      },
      {
       "output_type": "stream",
       "stream": "stdout",
       "text": [
        "\n",
        "Not copying HourlyData/Archive/2013/2013080815.dat to 2013/2013080815.dat because modification times are identical"
       ]
      },
      {
       "output_type": "stream",
       "stream": "stdout",
       "text": [
        "\n",
        "Not copying HourlyData/Archive/2013/2013080816.dat to 2013/2013080816.dat because modification times are identical"
       ]
      },
      {
       "output_type": "stream",
       "stream": "stdout",
       "text": [
        "\n",
        "Not copying HourlyData/Archive/2013/2013080817.dat to 2013/2013080817.dat because modification times are identical"
       ]
      },
      {
       "output_type": "stream",
       "stream": "stdout",
       "text": [
        "\n",
        "Not copying HourlyData/Archive/2013/2013080818.dat to 2013/2013080818.dat because modification times are identical"
       ]
      },
      {
       "output_type": "stream",
       "stream": "stdout",
       "text": [
        "\n",
        "Not copying HourlyData/Archive/2013/2013080819.dat to 2013/2013080819.dat because modification times are identical"
       ]
      },
      {
       "output_type": "stream",
       "stream": "stdout",
       "text": [
        "\n",
        "Not copying HourlyData/Archive/2013/2013080820.dat to 2013/2013080820.dat because modification times are identical"
       ]
      },
      {
       "output_type": "stream",
       "stream": "stdout",
       "text": [
        "\n",
        "Not copying HourlyData/Archive/2013/2013080821.dat to 2013/2013080821.dat because modification times are identical"
       ]
      },
      {
       "output_type": "stream",
       "stream": "stdout",
       "text": [
        "\n",
        "Not copying HourlyData/Archive/2013/2013080822.dat to 2013/2013080822.dat because modification times are identical"
       ]
      },
      {
       "output_type": "stream",
       "stream": "stdout",
       "text": [
        "\n",
        "Not copying HourlyData/Archive/2013/2013080823.dat to 2013/2013080823.dat because modification times are identical"
       ]
      },
      {
       "output_type": "stream",
       "stream": "stdout",
       "text": [
        "\n",
        "Not copying HourlyData/Archive/2013/2013080900.dat to 2013/2013080900.dat because modification times are identical"
       ]
      },
      {
       "output_type": "stream",
       "stream": "stdout",
       "text": [
        "\n",
        "Not copying HourlyData/Archive/2013/2013080901.dat to 2013/2013080901.dat because modification times are identical"
       ]
      },
      {
       "output_type": "stream",
       "stream": "stdout",
       "text": [
        "\n",
        "Not copying HourlyData/Archive/2013/2013080902.dat to 2013/2013080902.dat because modification times are identical"
       ]
      },
      {
       "output_type": "stream",
       "stream": "stdout",
       "text": [
        "\n",
        "Not copying HourlyData/Archive/2013/2013080903.dat to 2013/2013080903.dat because modification times are identical"
       ]
      },
      {
       "output_type": "stream",
       "stream": "stdout",
       "text": [
        "\n",
        "Not copying HourlyData/Archive/2013/2013080904.dat to 2013/2013080904.dat because modification times are identical"
       ]
      },
      {
       "output_type": "stream",
       "stream": "stdout",
       "text": [
        "\n",
        "Not copying HourlyData/Archive/2013/2013080905.dat to 2013/2013080905.dat because modification times are identical"
       ]
      },
      {
       "output_type": "stream",
       "stream": "stdout",
       "text": [
        "\n",
        "Not copying HourlyData/Archive/2013/2013080906.dat to 2013/2013080906.dat because modification times are identical"
       ]
      },
      {
       "output_type": "stream",
       "stream": "stdout",
       "text": [
        "\n",
        "Not copying HourlyData/Archive/2013/2013080907.dat to 2013/2013080907.dat because modification times are identical"
       ]
      },
      {
       "output_type": "stream",
       "stream": "stdout",
       "text": [
        "\n",
        "Not copying HourlyData/Archive/2013/2013080908.dat to 2013/2013080908.dat because modification times are identical"
       ]
      },
      {
       "output_type": "stream",
       "stream": "stdout",
       "text": [
        "\n",
        "Not copying HourlyData/Archive/2013/2013080909.dat to 2013/2013080909.dat because modification times are identical"
       ]
      },
      {
       "output_type": "stream",
       "stream": "stdout",
       "text": [
        "\n",
        "Not copying HourlyData/Archive/2013/2013080910.dat to 2013/2013080910.dat because modification times are identical"
       ]
      },
      {
       "output_type": "stream",
       "stream": "stdout",
       "text": [
        "\n",
        "Not copying HourlyData/Archive/2013/2013080911.dat to 2013/2013080911.dat because modification times are identical"
       ]
      },
      {
       "output_type": "stream",
       "stream": "stdout",
       "text": [
        "\n",
        "Not copying HourlyData/Archive/2013/2013080912.dat to 2013/2013080912.dat because modification times are identical"
       ]
      },
      {
       "output_type": "stream",
       "stream": "stdout",
       "text": [
        "\n",
        "Not copying HourlyData/Archive/2013/2013080913.dat to 2013/2013080913.dat because modification times are identical"
       ]
      },
      {
       "output_type": "stream",
       "stream": "stdout",
       "text": [
        "\n",
        "Not copying HourlyData/Archive/2013/2013080914.dat to 2013/2013080914.dat because modification times are identical"
       ]
      },
      {
       "output_type": "stream",
       "stream": "stdout",
       "text": [
        "\n",
        "Not copying HourlyData/Archive/2013/2013080915.dat to 2013/2013080915.dat because modification times are identical"
       ]
      },
      {
       "output_type": "stream",
       "stream": "stdout",
       "text": [
        "\n",
        "Not copying HourlyData/Archive/2013/2013080916.dat to 2013/2013080916.dat because modification times are identical"
       ]
      },
      {
       "output_type": "stream",
       "stream": "stdout",
       "text": [
        "\n",
        "Not copying HourlyData/Archive/2013/2013080917.dat to 2013/2013080917.dat because modification times are identical"
       ]
      },
      {
       "output_type": "stream",
       "stream": "stdout",
       "text": [
        "\n",
        "Not copying HourlyData/Archive/2013/2013080918.dat to 2013/2013080918.dat because modification times are identical"
       ]
      },
      {
       "output_type": "stream",
       "stream": "stdout",
       "text": [
        "\n",
        "Not copying HourlyData/Archive/2013/2013080919.dat to 2013/2013080919.dat because modification times are identical"
       ]
      },
      {
       "output_type": "stream",
       "stream": "stdout",
       "text": [
        "\n",
        "Not copying HourlyData/Archive/2013/2013080920.dat to 2013/2013080920.dat because modification times are identical"
       ]
      },
      {
       "output_type": "stream",
       "stream": "stdout",
       "text": [
        "\n",
        "Not copying HourlyData/Archive/2013/2013080921.dat to 2013/2013080921.dat because modification times are identical"
       ]
      },
      {
       "output_type": "stream",
       "stream": "stdout",
       "text": [
        "\n",
        "Not copying HourlyData/Archive/2013/2013080922.dat to 2013/2013080922.dat because modification times are identical"
       ]
      },
      {
       "output_type": "stream",
       "stream": "stdout",
       "text": [
        "\n",
        "Not copying HourlyData/Archive/2013/2013080923.dat to 2013/2013080923.dat because modification times are identical"
       ]
      },
      {
       "output_type": "stream",
       "stream": "stdout",
       "text": [
        "\n",
        "Not copying HourlyData/Archive/2013/2013081000.dat to 2013/2013081000.dat because modification times are identical"
       ]
      },
      {
       "output_type": "stream",
       "stream": "stdout",
       "text": [
        "\n",
        "Not copying HourlyData/Archive/2013/2013081001.dat to 2013/2013081001.dat because modification times are identical"
       ]
      },
      {
       "output_type": "stream",
       "stream": "stdout",
       "text": [
        "\n",
        "Not copying HourlyData/Archive/2013/2013081002.dat to 2013/2013081002.dat because modification times are identical"
       ]
      },
      {
       "output_type": "stream",
       "stream": "stdout",
       "text": [
        "\n",
        "Not copying HourlyData/Archive/2013/2013081003.dat to 2013/2013081003.dat because modification times are identical"
       ]
      },
      {
       "output_type": "stream",
       "stream": "stdout",
       "text": [
        "\n",
        "Not copying HourlyData/Archive/2013/2013081004.dat to 2013/2013081004.dat because modification times are identical"
       ]
      },
      {
       "output_type": "stream",
       "stream": "stdout",
       "text": [
        "\n",
        "Not copying HourlyData/Archive/2013/2013081005.dat to 2013/2013081005.dat because modification times are identical"
       ]
      },
      {
       "output_type": "stream",
       "stream": "stdout",
       "text": [
        "\n",
        "Not copying HourlyData/Archive/2013/2013081006.dat to 2013/2013081006.dat because modification times are identical"
       ]
      },
      {
       "output_type": "stream",
       "stream": "stdout",
       "text": [
        "\n",
        "Not copying HourlyData/Archive/2013/2013081007.dat to 2013/2013081007.dat because modification times are identical"
       ]
      },
      {
       "output_type": "stream",
       "stream": "stdout",
       "text": [
        "\n",
        "Not copying HourlyData/Archive/2013/2013081008.dat to 2013/2013081008.dat because modification times are identical"
       ]
      },
      {
       "output_type": "stream",
       "stream": "stdout",
       "text": [
        "\n",
        "Not copying HourlyData/Archive/2013/2013081009.dat to 2013/2013081009.dat because modification times are identical"
       ]
      },
      {
       "output_type": "stream",
       "stream": "stdout",
       "text": [
        "\n",
        "Not copying HourlyData/Archive/2013/2013081010.dat to 2013/2013081010.dat because modification times are identical"
       ]
      },
      {
       "output_type": "stream",
       "stream": "stdout",
       "text": [
        "\n",
        "Not copying HourlyData/Archive/2013/2013081011.dat to 2013/2013081011.dat because modification times are identical"
       ]
      },
      {
       "output_type": "stream",
       "stream": "stdout",
       "text": [
        "\n",
        "Not copying HourlyData/Archive/2013/2013081012.dat to 2013/2013081012.dat because modification times are identical"
       ]
      },
      {
       "output_type": "stream",
       "stream": "stdout",
       "text": [
        "\n",
        "Not copying HourlyData/Archive/2013/2013081013.dat to 2013/2013081013.dat because modification times are identical"
       ]
      },
      {
       "output_type": "stream",
       "stream": "stdout",
       "text": [
        "\n",
        "Not copying HourlyData/Archive/2013/2013081014.dat to 2013/2013081014.dat because modification times are identical"
       ]
      },
      {
       "output_type": "stream",
       "stream": "stdout",
       "text": [
        "\n",
        "Not copying HourlyData/Archive/2013/2013081015.dat to 2013/2013081015.dat because modification times are identical"
       ]
      },
      {
       "output_type": "stream",
       "stream": "stdout",
       "text": [
        "\n",
        "Not copying HourlyData/Archive/2013/2013081016.dat to 2013/2013081016.dat because modification times are identical"
       ]
      },
      {
       "output_type": "stream",
       "stream": "stdout",
       "text": [
        "\n",
        "Not copying HourlyData/Archive/2013/2013081017.dat to 2013/2013081017.dat because modification times are identical"
       ]
      },
      {
       "output_type": "stream",
       "stream": "stdout",
       "text": [
        "\n",
        "Not copying HourlyData/Archive/2013/2013081018.dat to 2013/2013081018.dat because modification times are identical"
       ]
      },
      {
       "output_type": "stream",
       "stream": "stdout",
       "text": [
        "\n",
        "Not copying HourlyData/Archive/2013/2013081019.dat to 2013/2013081019.dat because modification times are identical"
       ]
      },
      {
       "output_type": "stream",
       "stream": "stdout",
       "text": [
        "\n",
        "Not copying HourlyData/Archive/2013/2013081020.dat to 2013/2013081020.dat because modification times are identical"
       ]
      },
      {
       "output_type": "stream",
       "stream": "stdout",
       "text": [
        "\n",
        "Not copying HourlyData/Archive/2013/2013081021.dat to 2013/2013081021.dat because modification times are identical"
       ]
      },
      {
       "output_type": "stream",
       "stream": "stdout",
       "text": [
        "\n",
        "Not copying HourlyData/Archive/2013/2013081022.dat to 2013/2013081022.dat because modification times are identical"
       ]
      },
      {
       "output_type": "stream",
       "stream": "stdout",
       "text": [
        "\n",
        "Not copying HourlyData/Archive/2013/2013081023.dat to 2013/2013081023.dat because modification times are identical"
       ]
      },
      {
       "output_type": "stream",
       "stream": "stdout",
       "text": [
        "\n",
        "Not copying HourlyData/Archive/2013/2013081100.dat to 2013/2013081100.dat because modification times are identical"
       ]
      },
      {
       "output_type": "stream",
       "stream": "stdout",
       "text": [
        "\n",
        "Not copying HourlyData/Archive/2013/2013081101.dat to 2013/2013081101.dat because modification times are identical"
       ]
      },
      {
       "output_type": "stream",
       "stream": "stdout",
       "text": [
        "\n",
        "Not copying HourlyData/Archive/2013/2013081102.dat to 2013/2013081102.dat because modification times are identical"
       ]
      },
      {
       "output_type": "stream",
       "stream": "stdout",
       "text": [
        "\n",
        "Not copying HourlyData/Archive/2013/2013081103.dat to 2013/2013081103.dat because modification times are identical"
       ]
      },
      {
       "output_type": "stream",
       "stream": "stdout",
       "text": [
        "\n",
        "Not copying HourlyData/Archive/2013/2013081104.dat to 2013/2013081104.dat because modification times are identical"
       ]
      },
      {
       "output_type": "stream",
       "stream": "stdout",
       "text": [
        "\n",
        "Not copying HourlyData/Archive/2013/2013081105.dat to 2013/2013081105.dat because modification times are identical"
       ]
      },
      {
       "output_type": "stream",
       "stream": "stdout",
       "text": [
        "\n",
        "Not copying HourlyData/Archive/2013/2013081106.dat to 2013/2013081106.dat because modification times are identical"
       ]
      },
      {
       "output_type": "stream",
       "stream": "stdout",
       "text": [
        "\n",
        "Not copying HourlyData/Archive/2013/2013081107.dat to 2013/2013081107.dat because modification times are identical"
       ]
      },
      {
       "output_type": "stream",
       "stream": "stdout",
       "text": [
        "\n",
        "Not copying HourlyData/Archive/2013/2013081108.dat to 2013/2013081108.dat because modification times are identical"
       ]
      },
      {
       "output_type": "stream",
       "stream": "stdout",
       "text": [
        "\n",
        "Not copying HourlyData/Archive/2013/2013081109.dat to 2013/2013081109.dat because modification times are identical"
       ]
      },
      {
       "output_type": "stream",
       "stream": "stdout",
       "text": [
        "\n",
        "Not copying HourlyData/Archive/2013/2013081110.dat to 2013/2013081110.dat because modification times are identical"
       ]
      },
      {
       "output_type": "stream",
       "stream": "stdout",
       "text": [
        "\n",
        "Not copying HourlyData/Archive/2013/2013081111.dat to 2013/2013081111.dat because modification times are identical"
       ]
      },
      {
       "output_type": "stream",
       "stream": "stdout",
       "text": [
        "\n",
        "Not copying HourlyData/Archive/2013/2013081112.dat to 2013/2013081112.dat because modification times are identical"
       ]
      },
      {
       "output_type": "stream",
       "stream": "stdout",
       "text": [
        "\n",
        "Not copying HourlyData/Archive/2013/2013081113.dat to 2013/2013081113.dat because modification times are identical"
       ]
      },
      {
       "output_type": "stream",
       "stream": "stdout",
       "text": [
        "\n",
        "Not copying HourlyData/Archive/2013/2013081114.dat to 2013/2013081114.dat because modification times are identical"
       ]
      },
      {
       "output_type": "stream",
       "stream": "stdout",
       "text": [
        "\n",
        "Not copying HourlyData/Archive/2013/2013081115.dat to 2013/2013081115.dat because modification times are identical"
       ]
      },
      {
       "output_type": "stream",
       "stream": "stdout",
       "text": [
        "\n",
        "Not copying HourlyData/Archive/2013/2013081116.dat to 2013/2013081116.dat because modification times are identical"
       ]
      },
      {
       "output_type": "stream",
       "stream": "stdout",
       "text": [
        "\n",
        "Not copying HourlyData/Archive/2013/2013081117.dat to 2013/2013081117.dat because modification times are identical"
       ]
      },
      {
       "output_type": "stream",
       "stream": "stdout",
       "text": [
        "\n",
        "Not copying HourlyData/Archive/2013/2013081118.dat to 2013/2013081118.dat because modification times are identical"
       ]
      },
      {
       "output_type": "stream",
       "stream": "stdout",
       "text": [
        "\n",
        "Not copying HourlyData/Archive/2013/2013081119.dat to 2013/2013081119.dat because modification times are identical"
       ]
      },
      {
       "output_type": "stream",
       "stream": "stdout",
       "text": [
        "\n",
        "Not copying HourlyData/Archive/2013/2013081120.dat to 2013/2013081120.dat because modification times are identical"
       ]
      },
      {
       "output_type": "stream",
       "stream": "stdout",
       "text": [
        "\n",
        "Not copying HourlyData/Archive/2013/2013081121.dat to 2013/2013081121.dat because modification times are identical"
       ]
      },
      {
       "output_type": "stream",
       "stream": "stdout",
       "text": [
        "\n",
        "Not copying HourlyData/Archive/2013/2013081122.dat to 2013/2013081122.dat because modification times are identical"
       ]
      },
      {
       "output_type": "stream",
       "stream": "stdout",
       "text": [
        "\n",
        "Not copying HourlyData/Archive/2013/2013081123.dat to 2013/2013081123.dat because modification times are identical"
       ]
      },
      {
       "output_type": "stream",
       "stream": "stdout",
       "text": [
        "\n",
        "Not copying HourlyData/Archive/2013/2013081200.dat to 2013/2013081200.dat because modification times are identical"
       ]
      },
      {
       "output_type": "stream",
       "stream": "stdout",
       "text": [
        "\n",
        "Not copying HourlyData/Archive/2013/2013081201.dat to 2013/2013081201.dat because modification times are identical"
       ]
      },
      {
       "output_type": "stream",
       "stream": "stdout",
       "text": [
        "\n",
        "Not copying HourlyData/Archive/2013/2013081202.dat to 2013/2013081202.dat because modification times are identical"
       ]
      },
      {
       "output_type": "stream",
       "stream": "stdout",
       "text": [
        "\n",
        "Not copying HourlyData/Archive/2013/2013081203.dat to 2013/2013081203.dat because modification times are identical"
       ]
      },
      {
       "output_type": "stream",
       "stream": "stdout",
       "text": [
        "\n",
        "Not copying HourlyData/Archive/2013/2013081204.dat to 2013/2013081204.dat because modification times are identical"
       ]
      },
      {
       "output_type": "stream",
       "stream": "stdout",
       "text": [
        "\n",
        "Not copying HourlyData/Archive/2013/2013081205.dat to 2013/2013081205.dat because modification times are identical"
       ]
      },
      {
       "output_type": "stream",
       "stream": "stdout",
       "text": [
        "\n",
        "Not copying HourlyData/Archive/2013/2013081206.dat to 2013/2013081206.dat because modification times are identical"
       ]
      },
      {
       "output_type": "stream",
       "stream": "stdout",
       "text": [
        "\n",
        "Not copying HourlyData/Archive/2013/2013081207.dat to 2013/2013081207.dat because modification times are identical"
       ]
      },
      {
       "output_type": "stream",
       "stream": "stdout",
       "text": [
        "\n",
        "Not copying HourlyData/Archive/2013/2013081208.dat to 2013/2013081208.dat because modification times are identical"
       ]
      },
      {
       "output_type": "stream",
       "stream": "stdout",
       "text": [
        "\n",
        "Not copying HourlyData/Archive/2013/2013081209.dat to 2013/2013081209.dat because modification times are identical"
       ]
      },
      {
       "output_type": "stream",
       "stream": "stdout",
       "text": [
        "\n",
        "Not copying HourlyData/Archive/2013/2013081210.dat to 2013/2013081210.dat because modification times are identical"
       ]
      },
      {
       "output_type": "stream",
       "stream": "stdout",
       "text": [
        "\n",
        "Not copying HourlyData/Archive/2013/2013081211.dat to 2013/2013081211.dat because modification times are identical"
       ]
      },
      {
       "output_type": "stream",
       "stream": "stdout",
       "text": [
        "\n",
        "Not copying HourlyData/Archive/2013/2013081212.dat to 2013/2013081212.dat because modification times are identical"
       ]
      },
      {
       "output_type": "stream",
       "stream": "stdout",
       "text": [
        "\n",
        "Not copying HourlyData/Archive/2013/2013081213.dat to 2013/2013081213.dat because modification times are identical"
       ]
      },
      {
       "output_type": "stream",
       "stream": "stdout",
       "text": [
        "\n",
        "Not copying HourlyData/Archive/2013/2013081214.dat to 2013/2013081214.dat because modification times are identical"
       ]
      },
      {
       "output_type": "stream",
       "stream": "stdout",
       "text": [
        "\n",
        "Not copying HourlyData/Archive/2013/2013081215.dat to 2013/2013081215.dat because modification times are identical"
       ]
      },
      {
       "output_type": "stream",
       "stream": "stdout",
       "text": [
        "\n",
        "Not copying HourlyData/Archive/2013/2013081216.dat to 2013/2013081216.dat because modification times are identical"
       ]
      },
      {
       "output_type": "stream",
       "stream": "stdout",
       "text": [
        "\n",
        "Not copying HourlyData/Archive/2013/2013081217.dat to 2013/2013081217.dat because modification times are identical"
       ]
      },
      {
       "output_type": "stream",
       "stream": "stdout",
       "text": [
        "\n",
        "Not copying HourlyData/Archive/2013/2013081218.dat to 2013/2013081218.dat because modification times are identical"
       ]
      },
      {
       "output_type": "stream",
       "stream": "stdout",
       "text": [
        "\n",
        "Not copying HourlyData/Archive/2013/2013081219.dat to 2013/2013081219.dat because modification times are identical"
       ]
      },
      {
       "output_type": "stream",
       "stream": "stdout",
       "text": [
        "\n",
        "Not copying HourlyData/Archive/2013/2013081220.dat to 2013/2013081220.dat because modification times are identical"
       ]
      },
      {
       "output_type": "stream",
       "stream": "stdout",
       "text": [
        "\n",
        "Not copying HourlyData/Archive/2013/2013081221.dat to 2013/2013081221.dat because modification times are identical"
       ]
      },
      {
       "output_type": "stream",
       "stream": "stdout",
       "text": [
        "\n",
        "Not copying HourlyData/Archive/2013/2013081222.dat to 2013/2013081222.dat because modification times are identical"
       ]
      },
      {
       "output_type": "stream",
       "stream": "stdout",
       "text": [
        "\n",
        "Not copying HourlyData/Archive/2013/2013081223.dat to 2013/2013081223.dat because modification times are identical"
       ]
      },
      {
       "output_type": "stream",
       "stream": "stdout",
       "text": [
        "\n",
        "Not copying HourlyData/Archive/2013/2013081300.dat to 2013/2013081300.dat because modification times are identical"
       ]
      },
      {
       "output_type": "stream",
       "stream": "stdout",
       "text": [
        "\n",
        "Not copying HourlyData/Archive/2013/2013081301.dat to 2013/2013081301.dat because modification times are identical"
       ]
      },
      {
       "output_type": "stream",
       "stream": "stdout",
       "text": [
        "\n",
        "Not copying HourlyData/Archive/2013/2013081302.dat to 2013/2013081302.dat because modification times are identical"
       ]
      },
      {
       "output_type": "stream",
       "stream": "stdout",
       "text": [
        "\n",
        "Not copying HourlyData/Archive/2013/2013081303.dat to 2013/2013081303.dat because modification times are identical"
       ]
      },
      {
       "output_type": "stream",
       "stream": "stdout",
       "text": [
        "\n",
        "Not copying HourlyData/Archive/2013/2013081304.dat to 2013/2013081304.dat because modification times are identical"
       ]
      },
      {
       "output_type": "stream",
       "stream": "stdout",
       "text": [
        "\n",
        "Not copying HourlyData/Archive/2013/2013081305.dat to 2013/2013081305.dat because modification times are identical"
       ]
      },
      {
       "output_type": "stream",
       "stream": "stdout",
       "text": [
        "\n",
        "Not copying HourlyData/Archive/2013/2013081306.dat to 2013/2013081306.dat because modification times are identical"
       ]
      },
      {
       "output_type": "stream",
       "stream": "stdout",
       "text": [
        "\n",
        "Not copying HourlyData/Archive/2013/2013081307.dat to 2013/2013081307.dat because modification times are identical"
       ]
      },
      {
       "output_type": "stream",
       "stream": "stdout",
       "text": [
        "\n",
        "Not copying HourlyData/Archive/2013/2013081308.dat to 2013/2013081308.dat because modification times are identical"
       ]
      },
      {
       "output_type": "stream",
       "stream": "stdout",
       "text": [
        "\n",
        "Not copying HourlyData/Archive/2013/2013081309.dat to 2013/2013081309.dat because modification times are identical"
       ]
      },
      {
       "output_type": "stream",
       "stream": "stdout",
       "text": [
        "\n",
        "Not copying HourlyData/Archive/2013/2013081310.dat to 2013/2013081310.dat because modification times are identical"
       ]
      },
      {
       "output_type": "stream",
       "stream": "stdout",
       "text": [
        "\n",
        "Not copying HourlyData/Archive/2013/2013081311.dat to 2013/2013081311.dat because modification times are identical"
       ]
      },
      {
       "output_type": "stream",
       "stream": "stdout",
       "text": [
        "\n",
        "Not copying HourlyData/Archive/2013/2013081312.dat to 2013/2013081312.dat because modification times are identical"
       ]
      },
      {
       "output_type": "stream",
       "stream": "stdout",
       "text": [
        "\n",
        "Not copying HourlyData/Archive/2013/2013081313.dat to 2013/2013081313.dat because modification times are identical"
       ]
      },
      {
       "output_type": "stream",
       "stream": "stdout",
       "text": [
        "\n",
        "Not copying HourlyData/Archive/2013/2013081314.dat to 2013/2013081314.dat because modification times are identical"
       ]
      },
      {
       "output_type": "stream",
       "stream": "stdout",
       "text": [
        "\n",
        "Not copying HourlyData/Archive/2013/2013081315.dat to 2013/2013081315.dat because modification times are identical"
       ]
      },
      {
       "output_type": "stream",
       "stream": "stdout",
       "text": [
        "\n",
        "Not copying HourlyData/Archive/2013/2013081316.dat to 2013/2013081316.dat because modification times are identical"
       ]
      },
      {
       "output_type": "stream",
       "stream": "stdout",
       "text": [
        "\n",
        "Not copying HourlyData/Archive/2013/2013081317.dat to 2013/2013081317.dat because modification times are identical"
       ]
      },
      {
       "output_type": "stream",
       "stream": "stdout",
       "text": [
        "\n",
        "Not copying HourlyData/Archive/2013/2013081318.dat to 2013/2013081318.dat because modification times are identical"
       ]
      },
      {
       "output_type": "stream",
       "stream": "stdout",
       "text": [
        "\n",
        "Not copying HourlyData/Archive/2013/2013081319.dat to 2013/2013081319.dat because modification times are identical"
       ]
      },
      {
       "output_type": "stream",
       "stream": "stdout",
       "text": [
        "\n",
        "Not copying HourlyData/Archive/2013/2013081320.dat to 2013/2013081320.dat because modification times are identical"
       ]
      },
      {
       "output_type": "stream",
       "stream": "stdout",
       "text": [
        "\n",
        "Not copying HourlyData/Archive/2013/2013081321.dat to 2013/2013081321.dat because modification times are identical"
       ]
      },
      {
       "output_type": "stream",
       "stream": "stdout",
       "text": [
        "\n",
        "Not copying HourlyData/Archive/2013/2013081322.dat to 2013/2013081322.dat because modification times are identical"
       ]
      },
      {
       "output_type": "stream",
       "stream": "stdout",
       "text": [
        "\n",
        "Not copying HourlyData/Archive/2013/2013081323.dat to 2013/2013081323.dat because modification times are identical"
       ]
      },
      {
       "output_type": "stream",
       "stream": "stdout",
       "text": [
        "\n",
        "Not copying HourlyData/Archive/2013/2013081400.dat to 2013/2013081400.dat because modification times are identical"
       ]
      },
      {
       "output_type": "stream",
       "stream": "stdout",
       "text": [
        "\n",
        "Not copying HourlyData/Archive/2013/2013081401.dat to 2013/2013081401.dat because modification times are identical"
       ]
      },
      {
       "output_type": "stream",
       "stream": "stdout",
       "text": [
        "\n",
        "Not copying HourlyData/Archive/2013/2013081402.dat to 2013/2013081402.dat because modification times are identical"
       ]
      },
      {
       "output_type": "stream",
       "stream": "stdout",
       "text": [
        "\n",
        "Not copying HourlyData/Archive/2013/2013081403.dat to 2013/2013081403.dat because modification times are identical"
       ]
      },
      {
       "output_type": "stream",
       "stream": "stdout",
       "text": [
        "\n",
        "Not copying HourlyData/Archive/2013/2013081404.dat to 2013/2013081404.dat because modification times are identical"
       ]
      },
      {
       "output_type": "stream",
       "stream": "stdout",
       "text": [
        "\n",
        "Not copying HourlyData/Archive/2013/2013081405.dat to 2013/2013081405.dat because modification times are identical"
       ]
      },
      {
       "output_type": "stream",
       "stream": "stdout",
       "text": [
        "\n",
        "Not copying HourlyData/Archive/2013/2013081406.dat to 2013/2013081406.dat because modification times are identical"
       ]
      },
      {
       "output_type": "stream",
       "stream": "stdout",
       "text": [
        "\n",
        "Not copying HourlyData/Archive/2013/2013081407.dat to 2013/2013081407.dat because modification times are identical"
       ]
      },
      {
       "output_type": "stream",
       "stream": "stdout",
       "text": [
        "\n",
        "Not copying HourlyData/Archive/2013/2013081408.dat to 2013/2013081408.dat because modification times are identical"
       ]
      },
      {
       "output_type": "stream",
       "stream": "stdout",
       "text": [
        "\n",
        "Not copying HourlyData/Archive/2013/2013081409.dat to 2013/2013081409.dat because modification times are identical"
       ]
      },
      {
       "output_type": "stream",
       "stream": "stdout",
       "text": [
        "\n",
        "Not copying HourlyData/Archive/2013/2013081410.dat to 2013/2013081410.dat because modification times are identical"
       ]
      },
      {
       "output_type": "stream",
       "stream": "stdout",
       "text": [
        "\n",
        "Not copying HourlyData/Archive/2013/2013081411.dat to 2013/2013081411.dat because modification times are identical"
       ]
      },
      {
       "output_type": "stream",
       "stream": "stdout",
       "text": [
        "\n",
        "Not copying HourlyData/Archive/2013/2013081412.dat to 2013/2013081412.dat because modification times are identical"
       ]
      },
      {
       "output_type": "stream",
       "stream": "stdout",
       "text": [
        "\n",
        "Not copying HourlyData/Archive/2013/2013081413.dat to 2013/2013081413.dat because modification times are identical"
       ]
      },
      {
       "output_type": "stream",
       "stream": "stdout",
       "text": [
        "\n",
        "Not copying HourlyData/Archive/2013/2013081414.dat to 2013/2013081414.dat because modification times are identical"
       ]
      },
      {
       "output_type": "stream",
       "stream": "stdout",
       "text": [
        "\n",
        "Not copying HourlyData/Archive/2013/2013081415.dat to 2013/2013081415.dat because modification times are identical"
       ]
      },
      {
       "output_type": "stream",
       "stream": "stdout",
       "text": [
        "\n",
        "Not copying HourlyData/Archive/2013/2013081416.dat to 2013/2013081416.dat because modification times are identical"
       ]
      },
      {
       "output_type": "stream",
       "stream": "stdout",
       "text": [
        "\n",
        "Not copying HourlyData/Archive/2013/2013081417.dat to 2013/2013081417.dat because modification times are identical"
       ]
      },
      {
       "output_type": "stream",
       "stream": "stdout",
       "text": [
        "\n",
        "Not copying HourlyData/Archive/2013/2013081418.dat to 2013/2013081418.dat because modification times are identical"
       ]
      },
      {
       "output_type": "stream",
       "stream": "stdout",
       "text": [
        "\n",
        "Not copying HourlyData/Archive/2013/2013081419.dat to 2013/2013081419.dat because modification times are identical"
       ]
      },
      {
       "output_type": "stream",
       "stream": "stdout",
       "text": [
        "\n",
        "Not copying HourlyData/Archive/2013/2013081420.dat to 2013/2013081420.dat because modification times are identical"
       ]
      },
      {
       "output_type": "stream",
       "stream": "stdout",
       "text": [
        "\n",
        "Not copying HourlyData/Archive/2013/2013081421.dat to 2013/2013081421.dat because modification times are identical"
       ]
      },
      {
       "output_type": "stream",
       "stream": "stdout",
       "text": [
        "\n",
        "Not copying HourlyData/Archive/2013/2013081422.dat to 2013/2013081422.dat because modification times are identical"
       ]
      },
      {
       "output_type": "stream",
       "stream": "stdout",
       "text": [
        "\n",
        "Not copying HourlyData/Archive/2013/2013081423.dat to 2013/2013081423.dat because modification times are identical"
       ]
      },
      {
       "output_type": "stream",
       "stream": "stdout",
       "text": [
        "\n",
        "Not copying HourlyData/Archive/2013/2013081500.dat to 2013/2013081500.dat because modification times are identical"
       ]
      },
      {
       "output_type": "stream",
       "stream": "stdout",
       "text": [
        "\n",
        "Not copying HourlyData/Archive/2013/2013081501.dat to 2013/2013081501.dat because modification times are identical"
       ]
      },
      {
       "output_type": "stream",
       "stream": "stdout",
       "text": [
        "\n",
        "Not copying HourlyData/Archive/2013/2013081502.dat to 2013/2013081502.dat because modification times are identical"
       ]
      },
      {
       "output_type": "stream",
       "stream": "stdout",
       "text": [
        "\n",
        "Not copying HourlyData/Archive/2013/2013081503.dat to 2013/2013081503.dat because modification times are identical"
       ]
      },
      {
       "output_type": "stream",
       "stream": "stdout",
       "text": [
        "\n",
        "Not copying HourlyData/Archive/2013/2013081504.dat to 2013/2013081504.dat because modification times are identical"
       ]
      },
      {
       "output_type": "stream",
       "stream": "stdout",
       "text": [
        "\n",
        "Not copying HourlyData/Archive/2013/2013081505.dat to 2013/2013081505.dat because modification times are identical"
       ]
      },
      {
       "output_type": "stream",
       "stream": "stdout",
       "text": [
        "\n",
        "Not copying HourlyData/Archive/2013/2013081506.dat to 2013/2013081506.dat because modification times are identical"
       ]
      },
      {
       "output_type": "stream",
       "stream": "stdout",
       "text": [
        "\n",
        "Not copying HourlyData/Archive/2013/2013081507.dat to 2013/2013081507.dat because modification times are identical"
       ]
      },
      {
       "output_type": "stream",
       "stream": "stdout",
       "text": [
        "\n",
        "Not copying HourlyData/Archive/2013/2013081508.dat to 2013/2013081508.dat because modification times are identical"
       ]
      },
      {
       "output_type": "stream",
       "stream": "stdout",
       "text": [
        "\n",
        "Not copying HourlyData/Archive/2013/2013081509.dat to 2013/2013081509.dat because modification times are identical"
       ]
      },
      {
       "output_type": "stream",
       "stream": "stdout",
       "text": [
        "\n",
        "Not copying HourlyData/Archive/2013/2013081510.dat to 2013/2013081510.dat because modification times are identical"
       ]
      },
      {
       "output_type": "stream",
       "stream": "stdout",
       "text": [
        "\n",
        "Not copying HourlyData/Archive/2013/2013081511.dat to 2013/2013081511.dat because modification times are identical"
       ]
      },
      {
       "output_type": "stream",
       "stream": "stdout",
       "text": [
        "\n",
        "Not copying HourlyData/Archive/2013/2013081512.dat to 2013/2013081512.dat because modification times are identical"
       ]
      },
      {
       "output_type": "stream",
       "stream": "stdout",
       "text": [
        "\n",
        "Not copying HourlyData/Archive/2013/2013081513.dat to 2013/2013081513.dat because modification times are identical"
       ]
      },
      {
       "output_type": "stream",
       "stream": "stdout",
       "text": [
        "\n",
        "Not copying HourlyData/Archive/2013/2013081514.dat to 2013/2013081514.dat because modification times are identical"
       ]
      },
      {
       "output_type": "stream",
       "stream": "stdout",
       "text": [
        "\n",
        "Not copying HourlyData/Archive/2013/2013081515.dat to 2013/2013081515.dat because modification times are identical"
       ]
      },
      {
       "output_type": "stream",
       "stream": "stdout",
       "text": [
        "\n",
        "Not copying HourlyData/Archive/2013/2013081516.dat to 2013/2013081516.dat because modification times are identical"
       ]
      },
      {
       "output_type": "stream",
       "stream": "stdout",
       "text": [
        "\n",
        "Not copying HourlyData/Archive/2013/2013081517.dat to 2013/2013081517.dat because modification times are identical"
       ]
      },
      {
       "output_type": "stream",
       "stream": "stdout",
       "text": [
        "\n",
        "Not copying HourlyData/Archive/2013/2013081518.dat to 2013/2013081518.dat because modification times are identical"
       ]
      },
      {
       "output_type": "stream",
       "stream": "stdout",
       "text": [
        "\n",
        "Not copying HourlyData/Archive/2013/2013081519.dat to 2013/2013081519.dat because modification times are identical"
       ]
      },
      {
       "output_type": "stream",
       "stream": "stdout",
       "text": [
        "\n",
        "Not copying HourlyData/Archive/2013/2013081520.dat to 2013/2013081520.dat because modification times are identical"
       ]
      },
      {
       "output_type": "stream",
       "stream": "stdout",
       "text": [
        "\n",
        "Not copying HourlyData/Archive/2013/2013081521.dat to 2013/2013081521.dat because modification times are identical"
       ]
      },
      {
       "output_type": "stream",
       "stream": "stdout",
       "text": [
        "\n",
        "Not copying HourlyData/Archive/2013/2013081522.dat to 2013/2013081522.dat because modification times are identical"
       ]
      },
      {
       "output_type": "stream",
       "stream": "stdout",
       "text": [
        "\n",
        "Not copying HourlyData/Archive/2013/2013081523.dat to 2013/2013081523.dat because modification times are identical"
       ]
      },
      {
       "output_type": "stream",
       "stream": "stdout",
       "text": [
        "\n",
        "Not copying HourlyData/Archive/2013/2013081600.dat to 2013/2013081600.dat because modification times are identical"
       ]
      },
      {
       "output_type": "stream",
       "stream": "stdout",
       "text": [
        "\n",
        "Not copying HourlyData/Archive/2013/2013081601.dat to 2013/2013081601.dat because modification times are identical"
       ]
      },
      {
       "output_type": "stream",
       "stream": "stdout",
       "text": [
        "\n",
        "Not copying HourlyData/Archive/2013/2013081602.dat to 2013/2013081602.dat because modification times are identical"
       ]
      },
      {
       "output_type": "stream",
       "stream": "stdout",
       "text": [
        "\n",
        "Not copying HourlyData/Archive/2013/2013081603.dat to 2013/2013081603.dat because modification times are identical"
       ]
      },
      {
       "output_type": "stream",
       "stream": "stdout",
       "text": [
        "\n",
        "Not copying HourlyData/Archive/2013/2013081604.dat to 2013/2013081604.dat because modification times are identical"
       ]
      },
      {
       "output_type": "stream",
       "stream": "stdout",
       "text": [
        "\n",
        "Not copying HourlyData/Archive/2013/2013081605.dat to 2013/2013081605.dat because modification times are identical"
       ]
      },
      {
       "output_type": "stream",
       "stream": "stdout",
       "text": [
        "\n",
        "Not copying HourlyData/Archive/2013/2013081606.dat to 2013/2013081606.dat because modification times are identical"
       ]
      },
      {
       "output_type": "stream",
       "stream": "stdout",
       "text": [
        "\n",
        "Not copying HourlyData/Archive/2013/2013081607.dat to 2013/2013081607.dat because modification times are identical"
       ]
      },
      {
       "output_type": "stream",
       "stream": "stdout",
       "text": [
        "\n",
        "Not copying HourlyData/Archive/2013/2013081608.dat to 2013/2013081608.dat because modification times are identical"
       ]
      },
      {
       "output_type": "stream",
       "stream": "stdout",
       "text": [
        "\n",
        "Not copying HourlyData/Archive/2013/2013081609.dat to 2013/2013081609.dat because modification times are identical"
       ]
      },
      {
       "output_type": "stream",
       "stream": "stdout",
       "text": [
        "\n",
        "Not copying HourlyData/Archive/2013/2013081610.dat to 2013/2013081610.dat because modification times are identical"
       ]
      },
      {
       "output_type": "stream",
       "stream": "stdout",
       "text": [
        "\n",
        "Not copying HourlyData/Archive/2013/2013081611.dat to 2013/2013081611.dat because modification times are identical"
       ]
      },
      {
       "output_type": "stream",
       "stream": "stdout",
       "text": [
        "\n",
        "Not copying HourlyData/Archive/2013/2013081612.dat to 2013/2013081612.dat because modification times are identical"
       ]
      },
      {
       "output_type": "stream",
       "stream": "stdout",
       "text": [
        "\n",
        "Not copying HourlyData/Archive/2013/2013081613.dat to 2013/2013081613.dat because modification times are identical"
       ]
      },
      {
       "output_type": "stream",
       "stream": "stdout",
       "text": [
        "\n",
        "Not copying HourlyData/Archive/2013/2013081614.dat to 2013/2013081614.dat because modification times are identical"
       ]
      },
      {
       "output_type": "stream",
       "stream": "stdout",
       "text": [
        "\n",
        "Not copying HourlyData/Archive/2013/2013081615.dat to 2013/2013081615.dat because modification times are identical"
       ]
      },
      {
       "output_type": "stream",
       "stream": "stdout",
       "text": [
        "\n",
        "Not copying HourlyData/Archive/2013/2013081616.dat to 2013/2013081616.dat because modification times are identical"
       ]
      },
      {
       "output_type": "stream",
       "stream": "stdout",
       "text": [
        "\n",
        "Not copying HourlyData/Archive/2013/2013081617.dat to 2013/2013081617.dat because modification times are identical"
       ]
      },
      {
       "output_type": "stream",
       "stream": "stdout",
       "text": [
        "\n",
        "Not copying HourlyData/Archive/2013/2013081618.dat to 2013/2013081618.dat because modification times are identical"
       ]
      },
      {
       "output_type": "stream",
       "stream": "stdout",
       "text": [
        "\n",
        "Not copying HourlyData/Archive/2013/2013081619.dat to 2013/2013081619.dat because modification times are identical"
       ]
      },
      {
       "output_type": "stream",
       "stream": "stdout",
       "text": [
        "\n",
        "Not copying HourlyData/Archive/2013/2013081620.dat to 2013/2013081620.dat because modification times are identical"
       ]
      },
      {
       "output_type": "stream",
       "stream": "stdout",
       "text": [
        "\n",
        "Not copying HourlyData/Archive/2013/2013081621.dat to 2013/2013081621.dat because modification times are identical"
       ]
      },
      {
       "output_type": "stream",
       "stream": "stdout",
       "text": [
        "\n",
        "Not copying HourlyData/Archive/2013/2013081622.dat to 2013/2013081622.dat because modification times are identical"
       ]
      },
      {
       "output_type": "stream",
       "stream": "stdout",
       "text": [
        "\n",
        "Not copying HourlyData/Archive/2013/2013081623.dat to 2013/2013081623.dat because modification times are identical"
       ]
      },
      {
       "output_type": "stream",
       "stream": "stdout",
       "text": [
        "\n",
        "Not copying HourlyData/Archive/2013/2013081700.dat to 2013/2013081700.dat because modification times are identical"
       ]
      },
      {
       "output_type": "stream",
       "stream": "stdout",
       "text": [
        "\n",
        "Not copying HourlyData/Archive/2013/2013081701.dat to 2013/2013081701.dat because modification times are identical"
       ]
      },
      {
       "output_type": "stream",
       "stream": "stdout",
       "text": [
        "\n",
        "Not copying HourlyData/Archive/2013/2013081702.dat to 2013/2013081702.dat because modification times are identical"
       ]
      },
      {
       "output_type": "stream",
       "stream": "stdout",
       "text": [
        "\n",
        "Not copying HourlyData/Archive/2013/2013081703.dat to 2013/2013081703.dat because modification times are identical"
       ]
      },
      {
       "output_type": "stream",
       "stream": "stdout",
       "text": [
        "\n",
        "Not copying HourlyData/Archive/2013/2013081704.dat to 2013/2013081704.dat because modification times are identical"
       ]
      },
      {
       "output_type": "stream",
       "stream": "stdout",
       "text": [
        "\n",
        "Not copying HourlyData/Archive/2013/2013081705.dat to 2013/2013081705.dat because modification times are identical"
       ]
      },
      {
       "output_type": "stream",
       "stream": "stdout",
       "text": [
        "\n",
        "Not copying HourlyData/Archive/2013/2013081706.dat to 2013/2013081706.dat because modification times are identical"
       ]
      },
      {
       "output_type": "stream",
       "stream": "stdout",
       "text": [
        "\n",
        "Not copying HourlyData/Archive/2013/2013081707.dat to 2013/2013081707.dat because modification times are identical"
       ]
      },
      {
       "output_type": "stream",
       "stream": "stdout",
       "text": [
        "\n",
        "Not copying HourlyData/Archive/2013/2013081708.dat to 2013/2013081708.dat because modification times are identical"
       ]
      },
      {
       "output_type": "stream",
       "stream": "stdout",
       "text": [
        "\n",
        "Not copying HourlyData/Archive/2013/2013081709.dat to 2013/2013081709.dat because modification times are identical"
       ]
      },
      {
       "output_type": "stream",
       "stream": "stdout",
       "text": [
        "\n",
        "Not copying HourlyData/Archive/2013/2013081710.dat to 2013/2013081710.dat because modification times are identical"
       ]
      },
      {
       "output_type": "stream",
       "stream": "stdout",
       "text": [
        "\n",
        "Not copying HourlyData/Archive/2013/2013081711.dat to 2013/2013081711.dat because modification times are identical"
       ]
      },
      {
       "output_type": "stream",
       "stream": "stdout",
       "text": [
        "\n",
        "Not copying HourlyData/Archive/2013/2013081712.dat to 2013/2013081712.dat because modification times are identical"
       ]
      },
      {
       "output_type": "stream",
       "stream": "stdout",
       "text": [
        "\n",
        "Not copying HourlyData/Archive/2013/2013081713.dat to 2013/2013081713.dat because modification times are identical"
       ]
      },
      {
       "output_type": "stream",
       "stream": "stdout",
       "text": [
        "\n",
        "Not copying HourlyData/Archive/2013/2013081714.dat to 2013/2013081714.dat because modification times are identical"
       ]
      },
      {
       "output_type": "stream",
       "stream": "stdout",
       "text": [
        "\n",
        "Not copying HourlyData/Archive/2013/2013081715.dat to 2013/2013081715.dat because modification times are identical"
       ]
      },
      {
       "output_type": "stream",
       "stream": "stdout",
       "text": [
        "\n",
        "Not copying HourlyData/Archive/2013/2013081716.dat to 2013/2013081716.dat because modification times are identical"
       ]
      },
      {
       "output_type": "stream",
       "stream": "stdout",
       "text": [
        "\n",
        "Not copying HourlyData/Archive/2013/2013081717.dat to 2013/2013081717.dat because modification times are identical"
       ]
      },
      {
       "output_type": "stream",
       "stream": "stdout",
       "text": [
        "\n",
        "Not copying HourlyData/Archive/2013/2013081718.dat to 2013/2013081718.dat because modification times are identical"
       ]
      },
      {
       "output_type": "stream",
       "stream": "stdout",
       "text": [
        "\n",
        "Not copying HourlyData/Archive/2013/2013081719.dat to 2013/2013081719.dat because modification times are identical"
       ]
      },
      {
       "output_type": "stream",
       "stream": "stdout",
       "text": [
        "\n",
        "Not copying HourlyData/Archive/2013/2013081720.dat to 2013/2013081720.dat because modification times are identical"
       ]
      },
      {
       "output_type": "stream",
       "stream": "stdout",
       "text": [
        "\n",
        "Not copying HourlyData/Archive/2013/2013081721.dat to 2013/2013081721.dat because modification times are identical"
       ]
      },
      {
       "output_type": "stream",
       "stream": "stdout",
       "text": [
        "\n",
        "Not copying HourlyData/Archive/2013/2013081722.dat to 2013/2013081722.dat because modification times are identical"
       ]
      },
      {
       "output_type": "stream",
       "stream": "stdout",
       "text": [
        "\n",
        "Not copying HourlyData/Archive/2013/2013081723.dat to 2013/2013081723.dat because modification times are identical"
       ]
      },
      {
       "output_type": "stream",
       "stream": "stdout",
       "text": [
        "\n",
        "Not copying HourlyData/Archive/2013/2013081800.dat to 2013/2013081800.dat because modification times are identical"
       ]
      },
      {
       "output_type": "stream",
       "stream": "stdout",
       "text": [
        "\n",
        "Not copying HourlyData/Archive/2013/2013081801.dat to 2013/2013081801.dat because modification times are identical"
       ]
      },
      {
       "output_type": "stream",
       "stream": "stdout",
       "text": [
        "\n",
        "Not copying HourlyData/Archive/2013/2013081802.dat to 2013/2013081802.dat because modification times are identical"
       ]
      },
      {
       "output_type": "stream",
       "stream": "stdout",
       "text": [
        "\n",
        "Not copying HourlyData/Archive/2013/2013081803.dat to 2013/2013081803.dat because modification times are identical"
       ]
      },
      {
       "output_type": "stream",
       "stream": "stdout",
       "text": [
        "\n",
        "Not copying HourlyData/Archive/2013/2013081804.dat to 2013/2013081804.dat because modification times are identical"
       ]
      },
      {
       "output_type": "stream",
       "stream": "stdout",
       "text": [
        "\n",
        "Not copying HourlyData/Archive/2013/2013081805.dat to 2013/2013081805.dat because modification times are identical"
       ]
      },
      {
       "output_type": "stream",
       "stream": "stdout",
       "text": [
        "\n",
        "Not copying HourlyData/Archive/2013/2013081806.dat to 2013/2013081806.dat because modification times are identical"
       ]
      },
      {
       "output_type": "stream",
       "stream": "stdout",
       "text": [
        "\n",
        "Not copying HourlyData/Archive/2013/2013081807.dat to 2013/2013081807.dat because modification times are identical"
       ]
      },
      {
       "output_type": "stream",
       "stream": "stdout",
       "text": [
        "\n",
        "Not copying HourlyData/Archive/2013/2013081808.dat to 2013/2013081808.dat because modification times are identical"
       ]
      },
      {
       "output_type": "stream",
       "stream": "stdout",
       "text": [
        "\n",
        "Not copying HourlyData/Archive/2013/2013081809.dat to 2013/2013081809.dat because modification times are identical"
       ]
      },
      {
       "output_type": "stream",
       "stream": "stdout",
       "text": [
        "\n",
        "Not copying HourlyData/Archive/2013/2013081810.dat to 2013/2013081810.dat because modification times are identical"
       ]
      },
      {
       "output_type": "stream",
       "stream": "stdout",
       "text": [
        "\n",
        "Not copying HourlyData/Archive/2013/2013081811.dat to 2013/2013081811.dat because modification times are identical"
       ]
      },
      {
       "output_type": "stream",
       "stream": "stdout",
       "text": [
        "\n",
        "Not copying HourlyData/Archive/2013/2013081812.dat to 2013/2013081812.dat because modification times are identical"
       ]
      },
      {
       "output_type": "stream",
       "stream": "stdout",
       "text": [
        "\n",
        "Not copying HourlyData/Archive/2013/2013081813.dat to 2013/2013081813.dat because modification times are identical"
       ]
      },
      {
       "output_type": "stream",
       "stream": "stdout",
       "text": [
        "\n",
        "Not copying HourlyData/Archive/2013/2013081814.dat to 2013/2013081814.dat because modification times are identical"
       ]
      },
      {
       "output_type": "stream",
       "stream": "stdout",
       "text": [
        "\n",
        "Not copying HourlyData/Archive/2013/2013081815.dat to 2013/2013081815.dat because modification times are identical"
       ]
      },
      {
       "output_type": "stream",
       "stream": "stdout",
       "text": [
        "\n",
        "Not copying HourlyData/Archive/2013/2013081816.dat to 2013/2013081816.dat because modification times are identical"
       ]
      },
      {
       "output_type": "stream",
       "stream": "stdout",
       "text": [
        "\n",
        "Not copying HourlyData/Archive/2013/2013081817.dat to 2013/2013081817.dat because modification times are identical"
       ]
      },
      {
       "output_type": "stream",
       "stream": "stdout",
       "text": [
        "\n",
        "Not copying HourlyData/Archive/2013/2013081818.dat to 2013/2013081818.dat because modification times are identical"
       ]
      },
      {
       "output_type": "stream",
       "stream": "stdout",
       "text": [
        "\n",
        "Not copying HourlyData/Archive/2013/2013081819.dat to 2013/2013081819.dat because modification times are identical"
       ]
      },
      {
       "output_type": "stream",
       "stream": "stdout",
       "text": [
        "\n",
        "Not copying HourlyData/Archive/2013/2013081820.dat to 2013/2013081820.dat because modification times are identical"
       ]
      },
      {
       "output_type": "stream",
       "stream": "stdout",
       "text": [
        "\n",
        "Not copying HourlyData/Archive/2013/2013081821.dat to 2013/2013081821.dat because modification times are identical"
       ]
      },
      {
       "output_type": "stream",
       "stream": "stdout",
       "text": [
        "\n",
        "Not copying HourlyData/Archive/2013/2013081822.dat to 2013/2013081822.dat because modification times are identical"
       ]
      },
      {
       "output_type": "stream",
       "stream": "stdout",
       "text": [
        "\n",
        "Not copying HourlyData/Archive/2013/2013081823.dat to 2013/2013081823.dat because modification times are identical"
       ]
      },
      {
       "output_type": "stream",
       "stream": "stdout",
       "text": [
        "\n",
        "Not copying HourlyData/Archive/2013/2013081900.dat to 2013/2013081900.dat because modification times are identical"
       ]
      },
      {
       "output_type": "stream",
       "stream": "stdout",
       "text": [
        "\n",
        "Not copying HourlyData/Archive/2013/2013081901.dat to 2013/2013081901.dat because modification times are identical"
       ]
      },
      {
       "output_type": "stream",
       "stream": "stdout",
       "text": [
        "\n",
        "Not copying HourlyData/Archive/2013/2013081902.dat to 2013/2013081902.dat because modification times are identical"
       ]
      },
      {
       "output_type": "stream",
       "stream": "stdout",
       "text": [
        "\n",
        "Not copying HourlyData/Archive/2013/2013081903.dat to 2013/2013081903.dat because modification times are identical"
       ]
      },
      {
       "output_type": "stream",
       "stream": "stdout",
       "text": [
        "\n",
        "Not copying HourlyData/Archive/2013/2013081904.dat to 2013/2013081904.dat because modification times are identical"
       ]
      },
      {
       "output_type": "stream",
       "stream": "stdout",
       "text": [
        "\n",
        "Not copying HourlyData/Archive/2013/2013081905.dat to 2013/2013081905.dat because modification times are identical"
       ]
      },
      {
       "output_type": "stream",
       "stream": "stdout",
       "text": [
        "\n",
        "Not copying HourlyData/Archive/2013/2013081906.dat to 2013/2013081906.dat because modification times are identical"
       ]
      },
      {
       "output_type": "stream",
       "stream": "stdout",
       "text": [
        "\n",
        "Not copying HourlyData/Archive/2013/2013081907.dat to 2013/2013081907.dat because modification times are identical"
       ]
      },
      {
       "output_type": "stream",
       "stream": "stdout",
       "text": [
        "\n",
        "Not copying HourlyData/Archive/2013/2013081908.dat to 2013/2013081908.dat because modification times are identical"
       ]
      },
      {
       "output_type": "stream",
       "stream": "stdout",
       "text": [
        "\n",
        "Not copying HourlyData/Archive/2013/2013081909.dat to 2013/2013081909.dat because modification times are identical"
       ]
      },
      {
       "output_type": "stream",
       "stream": "stdout",
       "text": [
        "\n",
        "Not copying HourlyData/Archive/2013/2013081910.dat to 2013/2013081910.dat because modification times are identical"
       ]
      },
      {
       "output_type": "stream",
       "stream": "stdout",
       "text": [
        "\n",
        "Not copying HourlyData/Archive/2013/2013081911.dat to 2013/2013081911.dat because modification times are identical"
       ]
      },
      {
       "output_type": "stream",
       "stream": "stdout",
       "text": [
        "\n",
        "Not copying HourlyData/Archive/2013/2013081912.dat to 2013/2013081912.dat because modification times are identical"
       ]
      },
      {
       "output_type": "stream",
       "stream": "stdout",
       "text": [
        "\n",
        "Not copying HourlyData/Archive/2013/2013081913.dat to 2013/2013081913.dat because modification times are identical"
       ]
      },
      {
       "output_type": "stream",
       "stream": "stdout",
       "text": [
        "\n",
        "Not copying HourlyData/Archive/2013/2013081914.dat to 2013/2013081914.dat because modification times are identical"
       ]
      },
      {
       "output_type": "stream",
       "stream": "stdout",
       "text": [
        "\n",
        "Not copying HourlyData/Archive/2013/2013081915.dat to 2013/2013081915.dat because modification times are identical"
       ]
      },
      {
       "output_type": "stream",
       "stream": "stdout",
       "text": [
        "\n",
        "Not copying HourlyData/Archive/2013/2013081916.dat to 2013/2013081916.dat because modification times are identical"
       ]
      },
      {
       "output_type": "stream",
       "stream": "stdout",
       "text": [
        "\n",
        "Not copying HourlyData/Archive/2013/2013081917.dat to 2013/2013081917.dat because modification times are identical"
       ]
      },
      {
       "output_type": "stream",
       "stream": "stdout",
       "text": [
        "\n",
        "Not copying HourlyData/Archive/2013/2013081918.dat to 2013/2013081918.dat because modification times are identical"
       ]
      },
      {
       "output_type": "stream",
       "stream": "stdout",
       "text": [
        "\n",
        "Not copying HourlyData/Archive/2013/2013081919.dat to 2013/2013081919.dat because modification times are identical"
       ]
      },
      {
       "output_type": "stream",
       "stream": "stdout",
       "text": [
        "\n",
        "Not copying HourlyData/Archive/2013/2013081920.dat to 2013/2013081920.dat because modification times are identical"
       ]
      },
      {
       "output_type": "stream",
       "stream": "stdout",
       "text": [
        "\n",
        "Not copying HourlyData/Archive/2013/2013081921.dat to 2013/2013081921.dat because modification times are identical"
       ]
      },
      {
       "output_type": "stream",
       "stream": "stdout",
       "text": [
        "\n",
        "Not copying HourlyData/Archive/2013/2013081922.dat to 2013/2013081922.dat because modification times are identical"
       ]
      },
      {
       "output_type": "stream",
       "stream": "stdout",
       "text": [
        "\n",
        "Not copying HourlyData/Archive/2013/2013081923.dat to 2013/2013081923.dat because modification times are identical"
       ]
      },
      {
       "output_type": "stream",
       "stream": "stdout",
       "text": [
        "\n",
        "Not copying HourlyData/Archive/2013/2013082000.dat to 2013/2013082000.dat because modification times are identical"
       ]
      },
      {
       "output_type": "stream",
       "stream": "stdout",
       "text": [
        "\n",
        "Not copying HourlyData/Archive/2013/2013082001.dat to 2013/2013082001.dat because modification times are identical"
       ]
      },
      {
       "output_type": "stream",
       "stream": "stdout",
       "text": [
        "\n",
        "Not copying HourlyData/Archive/2013/2013082002.dat to 2013/2013082002.dat because modification times are identical"
       ]
      },
      {
       "output_type": "stream",
       "stream": "stdout",
       "text": [
        "\n",
        "Not copying HourlyData/Archive/2013/2013082003.dat to 2013/2013082003.dat because modification times are identical"
       ]
      },
      {
       "output_type": "stream",
       "stream": "stdout",
       "text": [
        "\n",
        "Not copying HourlyData/Archive/2013/2013082004.dat to 2013/2013082004.dat because modification times are identical"
       ]
      },
      {
       "output_type": "stream",
       "stream": "stdout",
       "text": [
        "\n",
        "Not copying HourlyData/Archive/2013/2013082005.dat to 2013/2013082005.dat because modification times are identical"
       ]
      },
      {
       "output_type": "stream",
       "stream": "stdout",
       "text": [
        "\n",
        "Not copying HourlyData/Archive/2013/2013082006.dat to 2013/2013082006.dat because modification times are identical"
       ]
      },
      {
       "output_type": "stream",
       "stream": "stdout",
       "text": [
        "\n",
        "Not copying HourlyData/Archive/2013/2013082007.dat to 2013/2013082007.dat because modification times are identical"
       ]
      },
      {
       "output_type": "stream",
       "stream": "stdout",
       "text": [
        "\n",
        "Not copying HourlyData/Archive/2013/2013082008.dat to 2013/2013082008.dat because modification times are identical"
       ]
      },
      {
       "output_type": "stream",
       "stream": "stdout",
       "text": [
        "\n",
        "Not copying HourlyData/Archive/2013/2013082009.dat to 2013/2013082009.dat because modification times are identical"
       ]
      },
      {
       "output_type": "stream",
       "stream": "stdout",
       "text": [
        "\n",
        "Not copying HourlyData/Archive/2013/2013082010.dat to 2013/2013082010.dat because modification times are identical"
       ]
      },
      {
       "output_type": "stream",
       "stream": "stdout",
       "text": [
        "\n",
        "Not copying HourlyData/Archive/2013/2013082011.dat to 2013/2013082011.dat because modification times are identical"
       ]
      },
      {
       "output_type": "stream",
       "stream": "stdout",
       "text": [
        "\n",
        "Not copying HourlyData/Archive/2013/2013082012.dat to 2013/2013082012.dat because modification times are identical"
       ]
      },
      {
       "output_type": "stream",
       "stream": "stdout",
       "text": [
        "\n",
        "Not copying HourlyData/Archive/2013/2013082013.dat to 2013/2013082013.dat because modification times are identical"
       ]
      },
      {
       "output_type": "stream",
       "stream": "stdout",
       "text": [
        "\n",
        "Not copying HourlyData/Archive/2013/2013082014.dat to 2013/2013082014.dat because modification times are identical"
       ]
      },
      {
       "output_type": "stream",
       "stream": "stdout",
       "text": [
        "\n",
        "Not copying HourlyData/Archive/2013/2013082015.dat to 2013/2013082015.dat because modification times are identical"
       ]
      },
      {
       "output_type": "stream",
       "stream": "stdout",
       "text": [
        "\n",
        "Not copying HourlyData/Archive/2013/2013082016.dat to 2013/2013082016.dat because modification times are identical"
       ]
      },
      {
       "output_type": "stream",
       "stream": "stdout",
       "text": [
        "\n",
        "Not copying HourlyData/Archive/2013/2013082017.dat to 2013/2013082017.dat because modification times are identical"
       ]
      },
      {
       "output_type": "stream",
       "stream": "stdout",
       "text": [
        "\n",
        "Not copying HourlyData/Archive/2013/2013082018.dat to 2013/2013082018.dat because modification times are identical"
       ]
      },
      {
       "output_type": "stream",
       "stream": "stdout",
       "text": [
        "\n",
        "Not copying HourlyData/Archive/2013/2013082019.dat to 2013/2013082019.dat because modification times are identical"
       ]
      },
      {
       "output_type": "stream",
       "stream": "stdout",
       "text": [
        "\n",
        "Not copying HourlyData/Archive/2013/2013082020.dat to 2013/2013082020.dat because modification times are identical"
       ]
      },
      {
       "output_type": "stream",
       "stream": "stdout",
       "text": [
        "\n",
        "Not copying HourlyData/Archive/2013/2013082021.dat to 2013/2013082021.dat because modification times are identical"
       ]
      },
      {
       "output_type": "stream",
       "stream": "stdout",
       "text": [
        "\n",
        "Not copying HourlyData/Archive/2013/2013082022.dat to 2013/2013082022.dat because modification times are identical"
       ]
      },
      {
       "output_type": "stream",
       "stream": "stdout",
       "text": [
        "\n",
        "Not copying HourlyData/Archive/2013/2013082023.dat to 2013/2013082023.dat because modification times are identical"
       ]
      },
      {
       "output_type": "stream",
       "stream": "stdout",
       "text": [
        "\n",
        "Not copying HourlyData/Archive/2013/2013082100.dat to 2013/2013082100.dat because modification times are identical"
       ]
      },
      {
       "output_type": "stream",
       "stream": "stdout",
       "text": [
        "\n",
        "Not copying HourlyData/Archive/2013/2013082101.dat to 2013/2013082101.dat because modification times are identical"
       ]
      },
      {
       "output_type": "stream",
       "stream": "stdout",
       "text": [
        "\n",
        "Not copying HourlyData/Archive/2013/2013082102.dat to 2013/2013082102.dat because modification times are identical"
       ]
      },
      {
       "output_type": "stream",
       "stream": "stdout",
       "text": [
        "\n",
        "Not copying HourlyData/Archive/2013/2013082103.dat to 2013/2013082103.dat because modification times are identical"
       ]
      },
      {
       "output_type": "stream",
       "stream": "stdout",
       "text": [
        "\n",
        "Not copying HourlyData/Archive/2013/2013082104.dat to 2013/2013082104.dat because modification times are identical"
       ]
      },
      {
       "output_type": "stream",
       "stream": "stdout",
       "text": [
        "\n",
        "Not copying HourlyData/Archive/2013/2013082105.dat to 2013/2013082105.dat because modification times are identical"
       ]
      },
      {
       "output_type": "stream",
       "stream": "stdout",
       "text": [
        "\n",
        "Not copying HourlyData/Archive/2013/2013082106.dat to 2013/2013082106.dat because modification times are identical"
       ]
      },
      {
       "output_type": "stream",
       "stream": "stdout",
       "text": [
        "\n",
        "Not copying HourlyData/Archive/2013/2013082107.dat to 2013/2013082107.dat because modification times are identical"
       ]
      },
      {
       "output_type": "stream",
       "stream": "stdout",
       "text": [
        "\n",
        "Not copying HourlyData/Archive/2013/2013082108.dat to 2013/2013082108.dat because modification times are identical"
       ]
      },
      {
       "output_type": "stream",
       "stream": "stdout",
       "text": [
        "\n",
        "Not copying HourlyData/Archive/2013/2013082109.dat to 2013/2013082109.dat because modification times are identical"
       ]
      },
      {
       "output_type": "stream",
       "stream": "stdout",
       "text": [
        "\n",
        "Not copying HourlyData/Archive/2013/2013082110.dat to 2013/2013082110.dat because modification times are identical"
       ]
      },
      {
       "output_type": "stream",
       "stream": "stdout",
       "text": [
        "\n",
        "Not copying HourlyData/Archive/2013/2013082111.dat to 2013/2013082111.dat because modification times are identical"
       ]
      },
      {
       "output_type": "stream",
       "stream": "stdout",
       "text": [
        "\n",
        "Not copying HourlyData/Archive/2013/2013082112.dat to 2013/2013082112.dat because modification times are identical"
       ]
      },
      {
       "output_type": "stream",
       "stream": "stdout",
       "text": [
        "\n",
        "Not copying HourlyData/Archive/2013/2013082113.dat to 2013/2013082113.dat because modification times are identical"
       ]
      },
      {
       "output_type": "stream",
       "stream": "stdout",
       "text": [
        "\n",
        "Not copying HourlyData/Archive/2013/2013082114.dat to 2013/2013082114.dat because modification times are identical"
       ]
      },
      {
       "output_type": "stream",
       "stream": "stdout",
       "text": [
        "\n",
        "Not copying HourlyData/Archive/2013/2013082115.dat to 2013/2013082115.dat because modification times are identical"
       ]
      },
      {
       "output_type": "stream",
       "stream": "stdout",
       "text": [
        "\n",
        "Not copying HourlyData/Archive/2013/2013082116.dat to 2013/2013082116.dat because modification times are identical"
       ]
      },
      {
       "output_type": "stream",
       "stream": "stdout",
       "text": [
        "\n",
        "Not copying HourlyData/Archive/2013/2013082117.dat to 2013/2013082117.dat because modification times are identical"
       ]
      },
      {
       "output_type": "stream",
       "stream": "stdout",
       "text": [
        "\n",
        "Not copying HourlyData/Archive/2013/2013082118.dat to 2013/2013082118.dat because modification times are identical"
       ]
      },
      {
       "output_type": "stream",
       "stream": "stdout",
       "text": [
        "\n",
        "Not copying HourlyData/Archive/2013/2013082119.dat to 2013/2013082119.dat because modification times are identical"
       ]
      },
      {
       "output_type": "stream",
       "stream": "stdout",
       "text": [
        "\n",
        "Not copying HourlyData/Archive/2013/2013082120.dat to 2013/2013082120.dat because modification times are identical"
       ]
      },
      {
       "output_type": "stream",
       "stream": "stdout",
       "text": [
        "\n",
        "Not copying HourlyData/Archive/2013/2013082121.dat to 2013/2013082121.dat because modification times are identical"
       ]
      },
      {
       "output_type": "stream",
       "stream": "stdout",
       "text": [
        "\n",
        "Not copying HourlyData/Archive/2013/2013082122.dat to 2013/2013082122.dat because modification times are identical"
       ]
      },
      {
       "output_type": "stream",
       "stream": "stdout",
       "text": [
        "\n",
        "Not copying HourlyData/Archive/2013/2013082123.dat to 2013/2013082123.dat because modification times are identical"
       ]
      },
      {
       "output_type": "stream",
       "stream": "stdout",
       "text": [
        "\n",
        "Not copying HourlyData/Archive/2013/2013082200.dat to 2013/2013082200.dat because modification times are identical"
       ]
      },
      {
       "output_type": "stream",
       "stream": "stdout",
       "text": [
        "\n",
        "Not copying HourlyData/Archive/2013/2013082201.dat to 2013/2013082201.dat because modification times are identical"
       ]
      },
      {
       "output_type": "stream",
       "stream": "stdout",
       "text": [
        "\n",
        "Not copying HourlyData/Archive/2013/2013082202.dat to 2013/2013082202.dat because modification times are identical"
       ]
      },
      {
       "output_type": "stream",
       "stream": "stdout",
       "text": [
        "\n",
        "Not copying HourlyData/Archive/2013/2013082203.dat to 2013/2013082203.dat because modification times are identical"
       ]
      },
      {
       "output_type": "stream",
       "stream": "stdout",
       "text": [
        "\n",
        "Not copying HourlyData/Archive/2013/2013082204.dat to 2013/2013082204.dat because modification times are identical"
       ]
      },
      {
       "output_type": "stream",
       "stream": "stdout",
       "text": [
        "\n",
        "Not copying HourlyData/Archive/2013/2013082205.dat to 2013/2013082205.dat because modification times are identical"
       ]
      },
      {
       "output_type": "stream",
       "stream": "stdout",
       "text": [
        "\n",
        "Not copying HourlyData/Archive/2013/2013082206.dat to 2013/2013082206.dat because modification times are identical"
       ]
      },
      {
       "output_type": "stream",
       "stream": "stdout",
       "text": [
        "\n",
        "Not copying HourlyData/Archive/2013/2013082207.dat to 2013/2013082207.dat because modification times are identical"
       ]
      },
      {
       "output_type": "stream",
       "stream": "stdout",
       "text": [
        "\n",
        "Not copying HourlyData/Archive/2013/2013082208.dat to 2013/2013082208.dat because modification times are identical"
       ]
      },
      {
       "output_type": "stream",
       "stream": "stdout",
       "text": [
        "\n",
        "Not copying HourlyData/Archive/2013/2013082209.dat to 2013/2013082209.dat because modification times are identical"
       ]
      },
      {
       "output_type": "stream",
       "stream": "stdout",
       "text": [
        "\n",
        "Not copying HourlyData/Archive/2013/2013082210.dat to 2013/2013082210.dat because modification times are identical"
       ]
      },
      {
       "output_type": "stream",
       "stream": "stdout",
       "text": [
        "\n",
        "Not copying HourlyData/Archive/2013/2013082211.dat to 2013/2013082211.dat because modification times are identical"
       ]
      },
      {
       "output_type": "stream",
       "stream": "stdout",
       "text": [
        "\n",
        "Not copying HourlyData/Archive/2013/2013082212.dat to 2013/2013082212.dat because modification times are identical"
       ]
      },
      {
       "output_type": "stream",
       "stream": "stdout",
       "text": [
        "\n",
        "Not copying HourlyData/Archive/2013/2013082213.dat to 2013/2013082213.dat because modification times are identical"
       ]
      },
      {
       "output_type": "stream",
       "stream": "stdout",
       "text": [
        "\n",
        "Not copying HourlyData/Archive/2013/2013082214.dat to 2013/2013082214.dat because modification times are identical"
       ]
      },
      {
       "output_type": "stream",
       "stream": "stdout",
       "text": [
        "\n",
        "Not copying HourlyData/Archive/2013/2013082215.dat to 2013/2013082215.dat because modification times are identical"
       ]
      },
      {
       "output_type": "stream",
       "stream": "stdout",
       "text": [
        "\n",
        "Not copying HourlyData/Archive/2013/2013082216.dat to 2013/2013082216.dat because modification times are identical"
       ]
      },
      {
       "output_type": "stream",
       "stream": "stdout",
       "text": [
        "\n",
        "Not copying HourlyData/Archive/2013/2013082217.dat to 2013/2013082217.dat because modification times are identical"
       ]
      },
      {
       "output_type": "stream",
       "stream": "stdout",
       "text": [
        "\n",
        "Not copying HourlyData/Archive/2013/2013082218.dat to 2013/2013082218.dat because modification times are identical"
       ]
      },
      {
       "output_type": "stream",
       "stream": "stdout",
       "text": [
        "\n",
        "Not copying HourlyData/Archive/2013/2013082219.dat to 2013/2013082219.dat because modification times are identical"
       ]
      },
      {
       "output_type": "stream",
       "stream": "stdout",
       "text": [
        "\n",
        "Not copying HourlyData/Archive/2013/2013082220.dat to 2013/2013082220.dat because modification times are identical"
       ]
      },
      {
       "output_type": "stream",
       "stream": "stdout",
       "text": [
        "\n",
        "Not copying HourlyData/Archive/2013/2013082221.dat to 2013/2013082221.dat because modification times are identical"
       ]
      },
      {
       "output_type": "stream",
       "stream": "stdout",
       "text": [
        "\n",
        "Not copying HourlyData/Archive/2013/2013082222.dat to 2013/2013082222.dat because modification times are identical"
       ]
      },
      {
       "output_type": "stream",
       "stream": "stdout",
       "text": [
        "\n",
        "Not copying HourlyData/Archive/2013/2013082223.dat to 2013/2013082223.dat because modification times are identical"
       ]
      },
      {
       "output_type": "stream",
       "stream": "stdout",
       "text": [
        "\n",
        "Not copying HourlyData/Archive/2013/2013082300.dat to 2013/2013082300.dat because modification times are identical"
       ]
      },
      {
       "output_type": "stream",
       "stream": "stdout",
       "text": [
        "\n",
        "Not copying HourlyData/Archive/2013/2013082301.dat to 2013/2013082301.dat because modification times are identical"
       ]
      },
      {
       "output_type": "stream",
       "stream": "stdout",
       "text": [
        "\n",
        "Not copying HourlyData/Archive/2013/2013082302.dat to 2013/2013082302.dat because modification times are identical"
       ]
      },
      {
       "output_type": "stream",
       "stream": "stdout",
       "text": [
        "\n",
        "Not copying HourlyData/Archive/2013/2013082303.dat to 2013/2013082303.dat because modification times are identical"
       ]
      },
      {
       "output_type": "stream",
       "stream": "stdout",
       "text": [
        "\n",
        "Not copying HourlyData/Archive/2013/2013082304.dat to 2013/2013082304.dat because modification times are identical"
       ]
      },
      {
       "output_type": "stream",
       "stream": "stdout",
       "text": [
        "\n",
        "Not copying HourlyData/Archive/2013/2013082305.dat to 2013/2013082305.dat because modification times are identical"
       ]
      },
      {
       "output_type": "stream",
       "stream": "stdout",
       "text": [
        "\n",
        "Not copying HourlyData/Archive/2013/2013082306.dat to 2013/2013082306.dat because modification times are identical"
       ]
      },
      {
       "output_type": "stream",
       "stream": "stdout",
       "text": [
        "\n",
        "Not copying HourlyData/Archive/2013/2013082307.dat to 2013/2013082307.dat because modification times are identical"
       ]
      },
      {
       "output_type": "stream",
       "stream": "stdout",
       "text": [
        "\n",
        "Not copying HourlyData/Archive/2013/2013082308.dat to 2013/2013082308.dat because modification times are identical"
       ]
      },
      {
       "output_type": "stream",
       "stream": "stdout",
       "text": [
        "\n",
        "Not copying HourlyData/Archive/2013/2013082309.dat to 2013/2013082309.dat because modification times are identical"
       ]
      },
      {
       "output_type": "stream",
       "stream": "stdout",
       "text": [
        "\n",
        "Not copying HourlyData/Archive/2013/2013082310.dat to 2013/2013082310.dat because modification times are identical"
       ]
      },
      {
       "output_type": "stream",
       "stream": "stdout",
       "text": [
        "\n",
        "Not copying HourlyData/Archive/2013/2013082311.dat to 2013/2013082311.dat because modification times are identical"
       ]
      },
      {
       "output_type": "stream",
       "stream": "stdout",
       "text": [
        "\n",
        "Not copying HourlyData/Archive/2013/2013082312.dat to 2013/2013082312.dat because modification times are identical"
       ]
      },
      {
       "output_type": "stream",
       "stream": "stdout",
       "text": [
        "\n",
        "Not copying HourlyData/Archive/2013/2013082313.dat to 2013/2013082313.dat because modification times are identical"
       ]
      },
      {
       "output_type": "stream",
       "stream": "stdout",
       "text": [
        "\n",
        "Not copying HourlyData/Archive/2013/2013082314.dat to 2013/2013082314.dat because modification times are identical"
       ]
      },
      {
       "output_type": "stream",
       "stream": "stdout",
       "text": [
        "\n",
        "Not copying HourlyData/Archive/2013/2013082315.dat to 2013/2013082315.dat because modification times are identical"
       ]
      },
      {
       "output_type": "stream",
       "stream": "stdout",
       "text": [
        "\n",
        "Not copying HourlyData/Archive/2013/2013082316.dat to 2013/2013082316.dat because modification times are identical"
       ]
      },
      {
       "output_type": "stream",
       "stream": "stdout",
       "text": [
        "\n",
        "Not copying HourlyData/Archive/2013/2013082317.dat to 2013/2013082317.dat because modification times are identical"
       ]
      },
      {
       "output_type": "stream",
       "stream": "stdout",
       "text": [
        "\n",
        "Not copying HourlyData/Archive/2013/2013082318.dat to 2013/2013082318.dat because modification times are identical"
       ]
      },
      {
       "output_type": "stream",
       "stream": "stdout",
       "text": [
        "\n",
        "Not copying HourlyData/Archive/2013/2013082319.dat to 2013/2013082319.dat because modification times are identical"
       ]
      },
      {
       "output_type": "stream",
       "stream": "stdout",
       "text": [
        "\n",
        "Not copying HourlyData/Archive/2013/2013082320.dat to 2013/2013082320.dat because modification times are identical"
       ]
      },
      {
       "output_type": "stream",
       "stream": "stdout",
       "text": [
        "\n",
        "Not copying HourlyData/Archive/2013/2013082321.dat to 2013/2013082321.dat because modification times are identical"
       ]
      },
      {
       "output_type": "stream",
       "stream": "stdout",
       "text": [
        "\n",
        "Not copying HourlyData/Archive/2013/2013082322.dat to 2013/2013082322.dat because modification times are identical"
       ]
      },
      {
       "output_type": "stream",
       "stream": "stdout",
       "text": [
        "\n",
        "Not copying HourlyData/Archive/2013/2013082323.dat to 2013/2013082323.dat because modification times are identical"
       ]
      },
      {
       "output_type": "stream",
       "stream": "stdout",
       "text": [
        "\n",
        "Not copying HourlyData/Archive/2013/2013082400.dat to 2013/2013082400.dat because modification times are identical"
       ]
      },
      {
       "output_type": "stream",
       "stream": "stdout",
       "text": [
        "\n",
        "Not copying HourlyData/Archive/2013/2013082401.dat to 2013/2013082401.dat because modification times are identical"
       ]
      },
      {
       "output_type": "stream",
       "stream": "stdout",
       "text": [
        "\n",
        "Not copying HourlyData/Archive/2013/2013082402.dat to 2013/2013082402.dat because modification times are identical"
       ]
      },
      {
       "output_type": "stream",
       "stream": "stdout",
       "text": [
        "\n",
        "Not copying HourlyData/Archive/2013/2013082403.dat to 2013/2013082403.dat because modification times are identical"
       ]
      },
      {
       "output_type": "stream",
       "stream": "stdout",
       "text": [
        "\n",
        "Not copying HourlyData/Archive/2013/2013082404.dat to 2013/2013082404.dat because modification times are identical"
       ]
      },
      {
       "output_type": "stream",
       "stream": "stdout",
       "text": [
        "\n",
        "Not copying HourlyData/Archive/2013/2013082405.dat to 2013/2013082405.dat because modification times are identical"
       ]
      },
      {
       "output_type": "stream",
       "stream": "stdout",
       "text": [
        "\n",
        "Not copying HourlyData/Archive/2013/2013082406.dat to 2013/2013082406.dat because modification times are identical"
       ]
      },
      {
       "output_type": "stream",
       "stream": "stdout",
       "text": [
        "\n",
        "Not copying HourlyData/Archive/2013/2013082407.dat to 2013/2013082407.dat because modification times are identical"
       ]
      },
      {
       "output_type": "stream",
       "stream": "stdout",
       "text": [
        "\n",
        "Not copying HourlyData/Archive/2013/2013082408.dat to 2013/2013082408.dat because modification times are identical"
       ]
      },
      {
       "output_type": "stream",
       "stream": "stdout",
       "text": [
        "\n",
        "Not copying HourlyData/Archive/2013/2013082409.dat to 2013/2013082409.dat because modification times are identical"
       ]
      },
      {
       "output_type": "stream",
       "stream": "stdout",
       "text": [
        "\n",
        "Not copying HourlyData/Archive/2013/2013082410.dat to 2013/2013082410.dat because modification times are identical"
       ]
      },
      {
       "output_type": "stream",
       "stream": "stdout",
       "text": [
        "\n",
        "Not copying HourlyData/Archive/2013/2013082411.dat to 2013/2013082411.dat because modification times are identical"
       ]
      },
      {
       "output_type": "stream",
       "stream": "stdout",
       "text": [
        "\n",
        "Not copying HourlyData/Archive/2013/2013082412.dat to 2013/2013082412.dat because modification times are identical"
       ]
      },
      {
       "output_type": "stream",
       "stream": "stdout",
       "text": [
        "\n",
        "Not copying HourlyData/Archive/2013/2013082413.dat to 2013/2013082413.dat because modification times are identical"
       ]
      },
      {
       "output_type": "stream",
       "stream": "stdout",
       "text": [
        "\n",
        "Not copying HourlyData/Archive/2013/2013082414.dat to 2013/2013082414.dat because modification times are identical"
       ]
      },
      {
       "output_type": "stream",
       "stream": "stdout",
       "text": [
        "\n",
        "Not copying HourlyData/Archive/2013/2013082415.dat to 2013/2013082415.dat because modification times are identical"
       ]
      },
      {
       "output_type": "stream",
       "stream": "stdout",
       "text": [
        "\n",
        "Not copying HourlyData/Archive/2013/2013082416.dat to 2013/2013082416.dat because modification times are identical"
       ]
      },
      {
       "output_type": "stream",
       "stream": "stdout",
       "text": [
        "\n",
        "Not copying HourlyData/Archive/2013/2013082417.dat to 2013/2013082417.dat because modification times are identical"
       ]
      },
      {
       "output_type": "stream",
       "stream": "stdout",
       "text": [
        "\n",
        "Not copying HourlyData/Archive/2013/2013082418.dat to 2013/2013082418.dat because modification times are identical"
       ]
      },
      {
       "output_type": "stream",
       "stream": "stdout",
       "text": [
        "\n",
        "Not copying HourlyData/Archive/2013/2013082419.dat to 2013/2013082419.dat because modification times are identical"
       ]
      },
      {
       "output_type": "stream",
       "stream": "stdout",
       "text": [
        "\n",
        "Not copying HourlyData/Archive/2013/2013082420.dat to 2013/2013082420.dat because modification times are identical"
       ]
      },
      {
       "output_type": "stream",
       "stream": "stdout",
       "text": [
        "\n",
        "Not copying HourlyData/Archive/2013/2013082421.dat to 2013/2013082421.dat because modification times are identical"
       ]
      },
      {
       "output_type": "stream",
       "stream": "stdout",
       "text": [
        "\n",
        "Not copying HourlyData/Archive/2013/2013082422.dat to 2013/2013082422.dat because modification times are identical"
       ]
      },
      {
       "output_type": "stream",
       "stream": "stdout",
       "text": [
        "\n",
        "Not copying HourlyData/Archive/2013/2013082423.dat to 2013/2013082423.dat because modification times are identical"
       ]
      },
      {
       "output_type": "stream",
       "stream": "stdout",
       "text": [
        "\n",
        "Not copying HourlyData/Archive/2013/2013082500.dat to 2013/2013082500.dat because modification times are identical"
       ]
      },
      {
       "output_type": "stream",
       "stream": "stdout",
       "text": [
        "\n",
        "Not copying HourlyData/Archive/2013/2013082501.dat to 2013/2013082501.dat because modification times are identical"
       ]
      },
      {
       "output_type": "stream",
       "stream": "stdout",
       "text": [
        "\n",
        "Not copying HourlyData/Archive/2013/2013082502.dat to 2013/2013082502.dat because modification times are identical"
       ]
      },
      {
       "output_type": "stream",
       "stream": "stdout",
       "text": [
        "\n",
        "Not copying HourlyData/Archive/2013/2013082503.dat to 2013/2013082503.dat because modification times are identical"
       ]
      },
      {
       "output_type": "stream",
       "stream": "stdout",
       "text": [
        "\n",
        "Not copying HourlyData/Archive/2013/2013082504.dat to 2013/2013082504.dat because modification times are identical"
       ]
      },
      {
       "output_type": "stream",
       "stream": "stdout",
       "text": [
        "\n",
        "Not copying HourlyData/Archive/2013/2013082505.dat to 2013/2013082505.dat because modification times are identical"
       ]
      },
      {
       "output_type": "stream",
       "stream": "stdout",
       "text": [
        "\n",
        "Not copying HourlyData/Archive/2013/2013082506.dat to 2013/2013082506.dat because modification times are identical"
       ]
      },
      {
       "output_type": "stream",
       "stream": "stdout",
       "text": [
        "\n",
        "Not copying HourlyData/Archive/2013/2013082507.dat to 2013/2013082507.dat because modification times are identical"
       ]
      },
      {
       "output_type": "stream",
       "stream": "stdout",
       "text": [
        "\n",
        "Not copying HourlyData/Archive/2013/2013082508.dat to 2013/2013082508.dat because modification times are identical"
       ]
      },
      {
       "output_type": "stream",
       "stream": "stdout",
       "text": [
        "\n",
        "Not copying HourlyData/Archive/2013/2013082509.dat to 2013/2013082509.dat because modification times are identical"
       ]
      },
      {
       "output_type": "stream",
       "stream": "stdout",
       "text": [
        "\n",
        "Not copying HourlyData/Archive/2013/2013082510.dat to 2013/2013082510.dat because modification times are identical"
       ]
      },
      {
       "output_type": "stream",
       "stream": "stdout",
       "text": [
        "\n",
        "Not copying HourlyData/Archive/2013/2013082511.dat to 2013/2013082511.dat because modification times are identical"
       ]
      },
      {
       "output_type": "stream",
       "stream": "stdout",
       "text": [
        "\n",
        "Not copying HourlyData/Archive/2013/2013082512.dat to 2013/2013082512.dat because modification times are identical"
       ]
      },
      {
       "output_type": "stream",
       "stream": "stdout",
       "text": [
        "\n",
        "Not copying HourlyData/Archive/2013/2013082513.dat to 2013/2013082513.dat because modification times are identical"
       ]
      },
      {
       "output_type": "stream",
       "stream": "stdout",
       "text": [
        "\n",
        "Not copying HourlyData/Archive/2013/2013082514.dat to 2013/2013082514.dat because modification times are identical"
       ]
      },
      {
       "output_type": "stream",
       "stream": "stdout",
       "text": [
        "\n",
        "Not copying HourlyData/Archive/2013/2013082515.dat to 2013/2013082515.dat because modification times are identical"
       ]
      },
      {
       "output_type": "stream",
       "stream": "stdout",
       "text": [
        "\n",
        "Not copying HourlyData/Archive/2013/2013082516.dat to 2013/2013082516.dat because modification times are identical"
       ]
      },
      {
       "output_type": "stream",
       "stream": "stdout",
       "text": [
        "\n",
        "Not copying HourlyData/Archive/2013/2013082517.dat to 2013/2013082517.dat because modification times are identical"
       ]
      },
      {
       "output_type": "stream",
       "stream": "stdout",
       "text": [
        "\n",
        "Not copying HourlyData/Archive/2013/2013082518.dat to 2013/2013082518.dat because modification times are identical"
       ]
      },
      {
       "output_type": "stream",
       "stream": "stdout",
       "text": [
        "\n",
        "Not copying HourlyData/Archive/2013/2013082519.dat to 2013/2013082519.dat because modification times are identical"
       ]
      },
      {
       "output_type": "stream",
       "stream": "stdout",
       "text": [
        "\n",
        "Not copying HourlyData/Archive/2013/2013082520.dat to 2013/2013082520.dat because modification times are identical"
       ]
      },
      {
       "output_type": "stream",
       "stream": "stdout",
       "text": [
        "\n",
        "Not copying HourlyData/Archive/2013/2013082521.dat to 2013/2013082521.dat because modification times are identical"
       ]
      },
      {
       "output_type": "stream",
       "stream": "stdout",
       "text": [
        "\n",
        "Not copying HourlyData/Archive/2013/2013082522.dat to 2013/2013082522.dat because modification times are identical"
       ]
      },
      {
       "output_type": "stream",
       "stream": "stdout",
       "text": [
        "\n",
        "Not copying HourlyData/Archive/2013/2013082523.dat to 2013/2013082523.dat because modification times are identical"
       ]
      },
      {
       "output_type": "stream",
       "stream": "stdout",
       "text": [
        "\n",
        "Not copying HourlyData/Archive/2013/2013082600.dat to 2013/2013082600.dat because modification times are identical"
       ]
      },
      {
       "output_type": "stream",
       "stream": "stdout",
       "text": [
        "\n",
        "Not copying HourlyData/Archive/2013/2013082601.dat to 2013/2013082601.dat because modification times are identical"
       ]
      },
      {
       "output_type": "stream",
       "stream": "stdout",
       "text": [
        "\n",
        "Not copying HourlyData/Archive/2013/2013082602.dat to 2013/2013082602.dat because modification times are identical"
       ]
      },
      {
       "output_type": "stream",
       "stream": "stdout",
       "text": [
        "\n",
        "Not copying HourlyData/Archive/2013/2013082603.dat to 2013/2013082603.dat because modification times are identical"
       ]
      },
      {
       "output_type": "stream",
       "stream": "stdout",
       "text": [
        "\n",
        "Not copying HourlyData/Archive/2013/2013082604.dat to 2013/2013082604.dat because modification times are identical"
       ]
      },
      {
       "output_type": "stream",
       "stream": "stdout",
       "text": [
        "\n",
        "Not copying HourlyData/Archive/2013/2013082605.dat to 2013/2013082605.dat because modification times are identical"
       ]
      },
      {
       "output_type": "stream",
       "stream": "stdout",
       "text": [
        "\n",
        "Not copying HourlyData/Archive/2013/2013082606.dat to 2013/2013082606.dat because modification times are identical"
       ]
      },
      {
       "output_type": "stream",
       "stream": "stdout",
       "text": [
        "\n",
        "Not copying HourlyData/Archive/2013/2013082607.dat to 2013/2013082607.dat because modification times are identical"
       ]
      },
      {
       "output_type": "stream",
       "stream": "stdout",
       "text": [
        "\n",
        "Not copying HourlyData/Archive/2013/2013082608.dat to 2013/2013082608.dat because modification times are identical"
       ]
      },
      {
       "output_type": "stream",
       "stream": "stdout",
       "text": [
        "\n",
        "Not copying HourlyData/Archive/2013/2013082609.dat to 2013/2013082609.dat because modification times are identical"
       ]
      },
      {
       "output_type": "stream",
       "stream": "stdout",
       "text": [
        "\n",
        "Not copying HourlyData/Archive/2013/2013082610.dat to 2013/2013082610.dat because modification times are identical"
       ]
      },
      {
       "output_type": "stream",
       "stream": "stdout",
       "text": [
        "\n",
        "Not copying HourlyData/Archive/2013/2013082611.dat to 2013/2013082611.dat because modification times are identical"
       ]
      },
      {
       "output_type": "stream",
       "stream": "stdout",
       "text": [
        "\n",
        "Not copying HourlyData/Archive/2013/2013082612.dat to 2013/2013082612.dat because modification times are identical"
       ]
      },
      {
       "output_type": "stream",
       "stream": "stdout",
       "text": [
        "\n",
        "Not copying HourlyData/Archive/2013/2013082613.dat to 2013/2013082613.dat because modification times are identical"
       ]
      },
      {
       "output_type": "stream",
       "stream": "stdout",
       "text": [
        "\n",
        "Not copying HourlyData/Archive/2013/2013082614.dat to 2013/2013082614.dat because modification times are identical"
       ]
      },
      {
       "output_type": "stream",
       "stream": "stdout",
       "text": [
        "\n",
        "Not copying HourlyData/Archive/2013/2013082615.dat to 2013/2013082615.dat because modification times are identical"
       ]
      },
      {
       "output_type": "stream",
       "stream": "stdout",
       "text": [
        "\n",
        "Not copying HourlyData/Archive/2013/2013082616.dat to 2013/2013082616.dat because modification times are identical"
       ]
      },
      {
       "output_type": "stream",
       "stream": "stdout",
       "text": [
        "\n",
        "Not copying HourlyData/Archive/2013/2013082617.dat to 2013/2013082617.dat because modification times are identical"
       ]
      },
      {
       "output_type": "stream",
       "stream": "stdout",
       "text": [
        "\n",
        "Not copying HourlyData/Archive/2013/2013082618.dat to 2013/2013082618.dat because modification times are identical"
       ]
      },
      {
       "output_type": "stream",
       "stream": "stdout",
       "text": [
        "\n",
        "Not copying HourlyData/Archive/2013/2013082619.dat to 2013/2013082619.dat because modification times are identical"
       ]
      },
      {
       "output_type": "stream",
       "stream": "stdout",
       "text": [
        "\n",
        "Not copying HourlyData/Archive/2013/2013082620.dat to 2013/2013082620.dat because modification times are identical"
       ]
      },
      {
       "output_type": "stream",
       "stream": "stdout",
       "text": [
        "\n",
        "Not copying HourlyData/Archive/2013/2013082621.dat to 2013/2013082621.dat because modification times are identical"
       ]
      },
      {
       "output_type": "stream",
       "stream": "stdout",
       "text": [
        "\n",
        "Not copying HourlyData/Archive/2013/2013082622.dat to 2013/2013082622.dat because modification times are identical"
       ]
      },
      {
       "output_type": "stream",
       "stream": "stdout",
       "text": [
        "\n",
        "Not copying HourlyData/Archive/2013/2013082623.dat to 2013/2013082623.dat because modification times are identical"
       ]
      },
      {
       "output_type": "stream",
       "stream": "stdout",
       "text": [
        "\n",
        "Not copying HourlyData/Archive/2013/2013082700.dat to 2013/2013082700.dat because modification times are identical"
       ]
      },
      {
       "output_type": "stream",
       "stream": "stdout",
       "text": [
        "\n",
        "Not copying HourlyData/Archive/2013/2013082701.dat to 2013/2013082701.dat because modification times are identical"
       ]
      },
      {
       "output_type": "stream",
       "stream": "stdout",
       "text": [
        "\n",
        "Not copying HourlyData/Archive/2013/2013082702.dat to 2013/2013082702.dat because modification times are identical"
       ]
      },
      {
       "output_type": "stream",
       "stream": "stdout",
       "text": [
        "\n",
        "Not copying HourlyData/Archive/2013/2013082703.dat to 2013/2013082703.dat because modification times are identical"
       ]
      },
      {
       "output_type": "stream",
       "stream": "stdout",
       "text": [
        "\n",
        "Not copying HourlyData/Archive/2013/2013082704.dat to 2013/2013082704.dat because modification times are identical"
       ]
      },
      {
       "output_type": "stream",
       "stream": "stdout",
       "text": [
        "\n",
        "Not copying HourlyData/Archive/2013/2013082705.dat to 2013/2013082705.dat because modification times are identical"
       ]
      },
      {
       "output_type": "stream",
       "stream": "stdout",
       "text": [
        "\n",
        "Not copying HourlyData/Archive/2013/2013082706.dat to 2013/2013082706.dat because modification times are identical"
       ]
      },
      {
       "output_type": "stream",
       "stream": "stdout",
       "text": [
        "\n",
        "Not copying HourlyData/Archive/2013/2013082707.dat to 2013/2013082707.dat because modification times are identical"
       ]
      },
      {
       "output_type": "stream",
       "stream": "stdout",
       "text": [
        "\n",
        "Not copying HourlyData/Archive/2013/2013082708.dat to 2013/2013082708.dat because modification times are identical"
       ]
      },
      {
       "output_type": "stream",
       "stream": "stdout",
       "text": [
        "\n",
        "Not copying HourlyData/Archive/2013/2013082709.dat to 2013/2013082709.dat because modification times are identical"
       ]
      },
      {
       "output_type": "stream",
       "stream": "stdout",
       "text": [
        "\n",
        "Not copying HourlyData/Archive/2013/2013082710.dat to 2013/2013082710.dat because modification times are identical"
       ]
      },
      {
       "output_type": "stream",
       "stream": "stdout",
       "text": [
        "\n",
        "Not copying HourlyData/Archive/2013/2013082711.dat to 2013/2013082711.dat because modification times are identical"
       ]
      },
      {
       "output_type": "stream",
       "stream": "stdout",
       "text": [
        "\n",
        "Not copying HourlyData/Archive/2013/2013082712.dat to 2013/2013082712.dat because modification times are identical"
       ]
      },
      {
       "output_type": "stream",
       "stream": "stdout",
       "text": [
        "\n",
        "Not copying HourlyData/Archive/2013/2013082713.dat to 2013/2013082713.dat because modification times are identical"
       ]
      },
      {
       "output_type": "stream",
       "stream": "stdout",
       "text": [
        "\n",
        "Not copying HourlyData/Archive/2013/2013082714.dat to 2013/2013082714.dat because modification times are identical"
       ]
      },
      {
       "output_type": "stream",
       "stream": "stdout",
       "text": [
        "\n",
        "Not copying HourlyData/Archive/2013/2013082715.dat to 2013/2013082715.dat because modification times are identical"
       ]
      },
      {
       "output_type": "stream",
       "stream": "stdout",
       "text": [
        "\n",
        "Not copying HourlyData/Archive/2013/2013082716.dat to 2013/2013082716.dat because modification times are identical"
       ]
      },
      {
       "output_type": "stream",
       "stream": "stdout",
       "text": [
        "\n",
        "Not copying HourlyData/Archive/2013/2013082717.dat to 2013/2013082717.dat because modification times are identical"
       ]
      },
      {
       "output_type": "stream",
       "stream": "stdout",
       "text": [
        "\n",
        "Not copying HourlyData/Archive/2013/2013082718.dat to 2013/2013082718.dat because modification times are identical"
       ]
      },
      {
       "output_type": "stream",
       "stream": "stdout",
       "text": [
        "\n",
        "Not copying HourlyData/Archive/2013/2013082719.dat to 2013/2013082719.dat because modification times are identical"
       ]
      },
      {
       "output_type": "stream",
       "stream": "stdout",
       "text": [
        "\n",
        "Not copying HourlyData/Archive/2013/2013082720.dat to 2013/2013082720.dat because modification times are identical"
       ]
      },
      {
       "output_type": "stream",
       "stream": "stdout",
       "text": [
        "\n",
        "Not copying HourlyData/Archive/2013/2013082721.dat to 2013/2013082721.dat because modification times are identical"
       ]
      },
      {
       "output_type": "stream",
       "stream": "stdout",
       "text": [
        "\n",
        "Not copying HourlyData/Archive/2013/2013082722.dat to 2013/2013082722.dat because modification times are identical"
       ]
      },
      {
       "output_type": "stream",
       "stream": "stdout",
       "text": [
        "\n",
        "Not copying HourlyData/Archive/2013/2013082723.dat to 2013/2013082723.dat because modification times are identical"
       ]
      },
      {
       "output_type": "stream",
       "stream": "stdout",
       "text": [
        "\n",
        "Not copying HourlyData/Archive/2013/2013082800.dat to 2013/2013082800.dat because modification times are identical"
       ]
      },
      {
       "output_type": "stream",
       "stream": "stdout",
       "text": [
        "\n",
        "Not copying HourlyData/Archive/2013/2013082801.dat to 2013/2013082801.dat because modification times are identical"
       ]
      },
      {
       "output_type": "stream",
       "stream": "stdout",
       "text": [
        "\n",
        "Not copying HourlyData/Archive/2013/2013082802.dat to 2013/2013082802.dat because modification times are identical"
       ]
      },
      {
       "output_type": "stream",
       "stream": "stdout",
       "text": [
        "\n",
        "Not copying HourlyData/Archive/2013/2013082803.dat to 2013/2013082803.dat because modification times are identical"
       ]
      },
      {
       "output_type": "stream",
       "stream": "stdout",
       "text": [
        "\n",
        "Not copying HourlyData/Archive/2013/2013082804.dat to 2013/2013082804.dat because modification times are identical"
       ]
      },
      {
       "output_type": "stream",
       "stream": "stdout",
       "text": [
        "\n",
        "Not copying HourlyData/Archive/2013/2013082805.dat to 2013/2013082805.dat because modification times are identical"
       ]
      },
      {
       "output_type": "stream",
       "stream": "stdout",
       "text": [
        "\n",
        "Not copying HourlyData/Archive/2013/2013082806.dat to 2013/2013082806.dat because modification times are identical"
       ]
      },
      {
       "output_type": "stream",
       "stream": "stdout",
       "text": [
        "\n",
        "Not copying HourlyData/Archive/2013/2013082807.dat to 2013/2013082807.dat because modification times are identical"
       ]
      },
      {
       "output_type": "stream",
       "stream": "stdout",
       "text": [
        "\n",
        "Not copying HourlyData/Archive/2013/2013082808.dat to 2013/2013082808.dat because modification times are identical"
       ]
      },
      {
       "output_type": "stream",
       "stream": "stdout",
       "text": [
        "\n",
        "Not copying HourlyData/Archive/2013/2013082809.dat to 2013/2013082809.dat because modification times are identical"
       ]
      },
      {
       "output_type": "stream",
       "stream": "stdout",
       "text": [
        "\n",
        "Not copying HourlyData/Archive/2013/2013082810.dat to 2013/2013082810.dat because modification times are identical"
       ]
      },
      {
       "output_type": "stream",
       "stream": "stdout",
       "text": [
        "\n",
        "Not copying HourlyData/Archive/2013/2013082811.dat to 2013/2013082811.dat because modification times are identical"
       ]
      },
      {
       "output_type": "stream",
       "stream": "stdout",
       "text": [
        "\n",
        "Not copying HourlyData/Archive/2013/2013082812.dat to 2013/2013082812.dat because modification times are identical"
       ]
      },
      {
       "output_type": "stream",
       "stream": "stdout",
       "text": [
        "\n",
        "Not copying HourlyData/Archive/2013/2013082813.dat to 2013/2013082813.dat because modification times are identical"
       ]
      },
      {
       "output_type": "stream",
       "stream": "stdout",
       "text": [
        "\n",
        "Not copying HourlyData/Archive/2013/2013082814.dat to 2013/2013082814.dat because modification times are identical"
       ]
      },
      {
       "output_type": "stream",
       "stream": "stdout",
       "text": [
        "\n",
        "Not copying HourlyData/Archive/2013/2013082815.dat to 2013/2013082815.dat because modification times are identical"
       ]
      },
      {
       "output_type": "stream",
       "stream": "stdout",
       "text": [
        "\n",
        "Not copying HourlyData/Archive/2013/2013082816.dat to 2013/2013082816.dat because modification times are identical"
       ]
      },
      {
       "output_type": "stream",
       "stream": "stdout",
       "text": [
        "\n",
        "Not copying HourlyData/Archive/2013/2013082817.dat to 2013/2013082817.dat because modification times are identical"
       ]
      },
      {
       "output_type": "stream",
       "stream": "stdout",
       "text": [
        "\n",
        "Not copying HourlyData/Archive/2013/2013082818.dat to 2013/2013082818.dat because modification times are identical"
       ]
      },
      {
       "output_type": "stream",
       "stream": "stdout",
       "text": [
        "\n",
        "Not copying HourlyData/Archive/2013/2013082819.dat to 2013/2013082819.dat because modification times are identical"
       ]
      },
      {
       "output_type": "stream",
       "stream": "stdout",
       "text": [
        "\n",
        "Not copying HourlyData/Archive/2013/2013082820.dat to 2013/2013082820.dat because modification times are identical"
       ]
      },
      {
       "output_type": "stream",
       "stream": "stdout",
       "text": [
        "\n",
        "Not copying HourlyData/Archive/2013/2013082821.dat to 2013/2013082821.dat because modification times are identical"
       ]
      },
      {
       "output_type": "stream",
       "stream": "stdout",
       "text": [
        "\n",
        "Not copying HourlyData/Archive/2013/2013082822.dat to 2013/2013082822.dat because modification times are identical"
       ]
      },
      {
       "output_type": "stream",
       "stream": "stdout",
       "text": [
        "\n",
        "Not copying HourlyData/Archive/2013/2013082823.dat to 2013/2013082823.dat because modification times are identical"
       ]
      },
      {
       "output_type": "stream",
       "stream": "stdout",
       "text": [
        "\n",
        "Not copying HourlyData/Archive/2013/2013082900.dat to 2013/2013082900.dat because modification times are identical"
       ]
      },
      {
       "output_type": "stream",
       "stream": "stdout",
       "text": [
        "\n",
        "Not copying HourlyData/Archive/2013/2013082901.dat to 2013/2013082901.dat because modification times are identical"
       ]
      },
      {
       "output_type": "stream",
       "stream": "stdout",
       "text": [
        "\n",
        "Not copying HourlyData/Archive/2013/2013082902.dat to 2013/2013082902.dat because modification times are identical"
       ]
      },
      {
       "output_type": "stream",
       "stream": "stdout",
       "text": [
        "\n",
        "Not copying HourlyData/Archive/2013/2013082903.dat to 2013/2013082903.dat because modification times are identical"
       ]
      },
      {
       "output_type": "stream",
       "stream": "stdout",
       "text": [
        "\n",
        "Not copying HourlyData/Archive/2013/2013082904.dat to 2013/2013082904.dat because modification times are identical"
       ]
      },
      {
       "output_type": "stream",
       "stream": "stdout",
       "text": [
        "\n",
        "Not copying HourlyData/Archive/2013/2013082905.dat to 2013/2013082905.dat because modification times are identical"
       ]
      },
      {
       "output_type": "stream",
       "stream": "stdout",
       "text": [
        "\n",
        "Not copying HourlyData/Archive/2013/2013082906.dat to 2013/2013082906.dat because modification times are identical"
       ]
      },
      {
       "output_type": "stream",
       "stream": "stdout",
       "text": [
        "\n",
        "Not copying HourlyData/Archive/2013/2013082907.dat to 2013/2013082907.dat because modification times are identical"
       ]
      },
      {
       "output_type": "stream",
       "stream": "stdout",
       "text": [
        "\n",
        "Not copying HourlyData/Archive/2013/2013082908.dat to 2013/2013082908.dat because modification times are identical"
       ]
      },
      {
       "output_type": "stream",
       "stream": "stdout",
       "text": [
        "\n",
        "Not copying HourlyData/Archive/2013/2013082909.dat to 2013/2013082909.dat because modification times are identical"
       ]
      },
      {
       "output_type": "stream",
       "stream": "stdout",
       "text": [
        "\n",
        "Not copying HourlyData/Archive/2013/2013082910.dat to 2013/2013082910.dat because modification times are identical"
       ]
      },
      {
       "output_type": "stream",
       "stream": "stdout",
       "text": [
        "\n",
        "Not copying HourlyData/Archive/2013/2013082911.dat to 2013/2013082911.dat because modification times are identical"
       ]
      },
      {
       "output_type": "stream",
       "stream": "stdout",
       "text": [
        "\n",
        "Not copying HourlyData/Archive/2013/2013082912.dat to 2013/2013082912.dat because modification times are identical"
       ]
      },
      {
       "output_type": "stream",
       "stream": "stdout",
       "text": [
        "\n",
        "Not copying HourlyData/Archive/2013/2013082913.dat to 2013/2013082913.dat because modification times are identical"
       ]
      },
      {
       "output_type": "stream",
       "stream": "stdout",
       "text": [
        "\n",
        "Not copying HourlyData/Archive/2013/2013082914.dat to 2013/2013082914.dat because modification times are identical"
       ]
      },
      {
       "output_type": "stream",
       "stream": "stdout",
       "text": [
        "\n",
        "Not copying HourlyData/Archive/2013/2013082915.dat to 2013/2013082915.dat because modification times are identical"
       ]
      },
      {
       "output_type": "stream",
       "stream": "stdout",
       "text": [
        "\n",
        "Not copying HourlyData/Archive/2013/2013082916.dat to 2013/2013082916.dat because modification times are identical"
       ]
      },
      {
       "output_type": "stream",
       "stream": "stdout",
       "text": [
        "\n",
        "Not copying HourlyData/Archive/2013/2013082917.dat to 2013/2013082917.dat because modification times are identical"
       ]
      },
      {
       "output_type": "stream",
       "stream": "stdout",
       "text": [
        "\n",
        "Not copying HourlyData/Archive/2013/2013082918.dat to 2013/2013082918.dat because modification times are identical"
       ]
      },
      {
       "output_type": "stream",
       "stream": "stdout",
       "text": [
        "\n",
        "Not copying HourlyData/Archive/2013/2013082919.dat to 2013/2013082919.dat because modification times are identical"
       ]
      },
      {
       "output_type": "stream",
       "stream": "stdout",
       "text": [
        "\n",
        "Not copying HourlyData/Archive/2013/2013082920.dat to 2013/2013082920.dat because modification times are identical"
       ]
      },
      {
       "output_type": "stream",
       "stream": "stdout",
       "text": [
        "\n",
        "Not copying HourlyData/Archive/2013/2013082921.dat to 2013/2013082921.dat because modification times are identical"
       ]
      },
      {
       "output_type": "stream",
       "stream": "stdout",
       "text": [
        "\n",
        "Not copying HourlyData/Archive/2013/2013082922.dat to 2013/2013082922.dat because modification times are identical"
       ]
      },
      {
       "output_type": "stream",
       "stream": "stdout",
       "text": [
        "\n",
        "Not copying HourlyData/Archive/2013/2013082923.dat to 2013/2013082923.dat because modification times are identical"
       ]
      },
      {
       "output_type": "stream",
       "stream": "stdout",
       "text": [
        "\n",
        "Not copying HourlyData/Archive/2013/2013083000.dat to 2013/2013083000.dat because modification times are identical"
       ]
      },
      {
       "output_type": "stream",
       "stream": "stdout",
       "text": [
        "\n",
        "Not copying HourlyData/Archive/2013/2013083001.dat to 2013/2013083001.dat because modification times are identical"
       ]
      },
      {
       "output_type": "stream",
       "stream": "stdout",
       "text": [
        "\n",
        "Not copying HourlyData/Archive/2013/2013083002.dat to 2013/2013083002.dat because modification times are identical"
       ]
      },
      {
       "output_type": "stream",
       "stream": "stdout",
       "text": [
        "\n",
        "Not copying HourlyData/Archive/2013/2013083003.dat to 2013/2013083003.dat because modification times are identical"
       ]
      },
      {
       "output_type": "stream",
       "stream": "stdout",
       "text": [
        "\n",
        "Not copying HourlyData/Archive/2013/2013083004.dat to 2013/2013083004.dat because modification times are identical"
       ]
      },
      {
       "output_type": "stream",
       "stream": "stdout",
       "text": [
        "\n",
        "Not copying HourlyData/Archive/2013/2013083005.dat to 2013/2013083005.dat because modification times are identical"
       ]
      },
      {
       "output_type": "stream",
       "stream": "stdout",
       "text": [
        "\n",
        "Not copying HourlyData/Archive/2013/2013083006.dat to 2013/2013083006.dat because modification times are identical"
       ]
      },
      {
       "output_type": "stream",
       "stream": "stdout",
       "text": [
        "\n",
        "Not copying HourlyData/Archive/2013/2013083007.dat to 2013/2013083007.dat because modification times are identical"
       ]
      },
      {
       "output_type": "stream",
       "stream": "stdout",
       "text": [
        "\n",
        "Not copying HourlyData/Archive/2013/2013083008.dat to 2013/2013083008.dat because modification times are identical"
       ]
      },
      {
       "output_type": "stream",
       "stream": "stdout",
       "text": [
        "\n",
        "Not copying HourlyData/Archive/2013/2013083009.dat to 2013/2013083009.dat because modification times are identical"
       ]
      },
      {
       "output_type": "stream",
       "stream": "stdout",
       "text": [
        "\n",
        "Not copying HourlyData/Archive/2013/2013083010.dat to 2013/2013083010.dat because modification times are identical"
       ]
      },
      {
       "output_type": "stream",
       "stream": "stdout",
       "text": [
        "\n",
        "Not copying HourlyData/Archive/2013/2013083011.dat to 2013/2013083011.dat because modification times are identical"
       ]
      },
      {
       "output_type": "stream",
       "stream": "stdout",
       "text": [
        "\n",
        "Not copying HourlyData/Archive/2013/2013083012.dat to 2013/2013083012.dat because modification times are identical"
       ]
      },
      {
       "output_type": "stream",
       "stream": "stdout",
       "text": [
        "\n",
        "Not copying HourlyData/Archive/2013/2013083013.dat to 2013/2013083013.dat because modification times are identical"
       ]
      },
      {
       "output_type": "stream",
       "stream": "stdout",
       "text": [
        "\n",
        "Not copying HourlyData/Archive/2013/2013083014.dat to 2013/2013083014.dat because modification times are identical"
       ]
      },
      {
       "output_type": "stream",
       "stream": "stdout",
       "text": [
        "\n",
        "Not copying HourlyData/Archive/2013/2013083015.dat to 2013/2013083015.dat because modification times are identical"
       ]
      },
      {
       "output_type": "stream",
       "stream": "stdout",
       "text": [
        "\n",
        "Not copying HourlyData/Archive/2013/2013083016.dat to 2013/2013083016.dat because modification times are identical"
       ]
      },
      {
       "output_type": "stream",
       "stream": "stdout",
       "text": [
        "\n",
        "Not copying HourlyData/Archive/2013/2013083017.dat to 2013/2013083017.dat because modification times are identical"
       ]
      },
      {
       "output_type": "stream",
       "stream": "stdout",
       "text": [
        "\n",
        "Not copying HourlyData/Archive/2013/2013083018.dat to 2013/2013083018.dat because modification times are identical"
       ]
      },
      {
       "output_type": "stream",
       "stream": "stdout",
       "text": [
        "\n",
        "Not copying HourlyData/Archive/2013/2013083019.dat to 2013/2013083019.dat because modification times are identical"
       ]
      },
      {
       "output_type": "stream",
       "stream": "stdout",
       "text": [
        "\n",
        "Not copying HourlyData/Archive/2013/2013083020.dat to 2013/2013083020.dat because modification times are identical"
       ]
      },
      {
       "output_type": "stream",
       "stream": "stdout",
       "text": [
        "\n",
        "Not copying HourlyData/Archive/2013/2013083021.dat to 2013/2013083021.dat because modification times are identical"
       ]
      },
      {
       "output_type": "stream",
       "stream": "stdout",
       "text": [
        "\n",
        "Not copying HourlyData/Archive/2013/2013083022.dat to 2013/2013083022.dat because modification times are identical"
       ]
      },
      {
       "output_type": "stream",
       "stream": "stdout",
       "text": [
        "\n",
        "Not copying HourlyData/Archive/2013/2013083023.dat to 2013/2013083023.dat because modification times are identical"
       ]
      },
      {
       "output_type": "stream",
       "stream": "stdout",
       "text": [
        "\n",
        "Not copying HourlyData/Archive/2013/2013083100.dat to 2013/2013083100.dat because modification times are identical"
       ]
      },
      {
       "output_type": "stream",
       "stream": "stdout",
       "text": [
        "\n",
        "Not copying HourlyData/Archive/2013/2013083101.dat to 2013/2013083101.dat because modification times are identical"
       ]
      },
      {
       "output_type": "stream",
       "stream": "stdout",
       "text": [
        "\n",
        "Not copying HourlyData/Archive/2013/2013083102.dat to 2013/2013083102.dat because modification times are identical"
       ]
      },
      {
       "output_type": "stream",
       "stream": "stdout",
       "text": [
        "\n",
        "Not copying HourlyData/Archive/2013/2013083103.dat to 2013/2013083103.dat because modification times are identical"
       ]
      },
      {
       "output_type": "stream",
       "stream": "stdout",
       "text": [
        "\n",
        "Not copying HourlyData/Archive/2013/2013083104.dat to 2013/2013083104.dat because modification times are identical"
       ]
      },
      {
       "output_type": "stream",
       "stream": "stdout",
       "text": [
        "\n",
        "Not copying HourlyData/Archive/2013/2013083105.dat to 2013/2013083105.dat because modification times are identical"
       ]
      },
      {
       "output_type": "stream",
       "stream": "stdout",
       "text": [
        "\n",
        "Not copying HourlyData/Archive/2013/2013083106.dat to 2013/2013083106.dat because modification times are identical"
       ]
      },
      {
       "output_type": "stream",
       "stream": "stdout",
       "text": [
        "\n",
        "Not copying HourlyData/Archive/2013/2013083107.dat to 2013/2013083107.dat because modification times are identical"
       ]
      },
      {
       "output_type": "stream",
       "stream": "stdout",
       "text": [
        "\n",
        "Not copying HourlyData/Archive/2013/2013083108.dat to 2013/2013083108.dat because modification times are identical"
       ]
      },
      {
       "output_type": "stream",
       "stream": "stdout",
       "text": [
        "\n",
        "Not copying HourlyData/Archive/2013/2013083109.dat to 2013/2013083109.dat because modification times are identical"
       ]
      },
      {
       "output_type": "stream",
       "stream": "stdout",
       "text": [
        "\n",
        "Not copying HourlyData/Archive/2013/2013083110.dat to 2013/2013083110.dat because modification times are identical"
       ]
      },
      {
       "output_type": "stream",
       "stream": "stdout",
       "text": [
        "\n",
        "Not copying HourlyData/Archive/2013/2013083111.dat to 2013/2013083111.dat because modification times are identical"
       ]
      },
      {
       "output_type": "stream",
       "stream": "stdout",
       "text": [
        "\n",
        "Not copying HourlyData/Archive/2013/2013083112.dat to 2013/2013083112.dat because modification times are identical"
       ]
      },
      {
       "output_type": "stream",
       "stream": "stdout",
       "text": [
        "\n",
        "Not copying HourlyData/Archive/2013/2013083113.dat to 2013/2013083113.dat because modification times are identical"
       ]
      },
      {
       "output_type": "stream",
       "stream": "stdout",
       "text": [
        "\n",
        "Not copying HourlyData/Archive/2013/2013083114.dat to 2013/2013083114.dat because modification times are identical"
       ]
      },
      {
       "output_type": "stream",
       "stream": "stdout",
       "text": [
        "\n",
        "Not copying HourlyData/Archive/2013/2013083115.dat to 2013/2013083115.dat because modification times are identical"
       ]
      },
      {
       "output_type": "stream",
       "stream": "stdout",
       "text": [
        "\n",
        "Not copying HourlyData/Archive/2013/2013083116.dat to 2013/2013083116.dat because modification times are identical"
       ]
      },
      {
       "output_type": "stream",
       "stream": "stdout",
       "text": [
        "\n",
        "Not copying HourlyData/Archive/2013/2013083117.dat to 2013/2013083117.dat because modification times are identical"
       ]
      },
      {
       "output_type": "stream",
       "stream": "stdout",
       "text": [
        "\n",
        "Not copying HourlyData/Archive/2013/2013083118.dat to 2013/2013083118.dat because modification times are identical"
       ]
      },
      {
       "output_type": "stream",
       "stream": "stdout",
       "text": [
        "\n",
        "Not copying HourlyData/Archive/2013/2013083119.dat to 2013/2013083119.dat because modification times are identical"
       ]
      },
      {
       "output_type": "stream",
       "stream": "stdout",
       "text": [
        "\n",
        "Not copying HourlyData/Archive/2013/2013083120.dat to 2013/2013083120.dat because modification times are identical"
       ]
      },
      {
       "output_type": "stream",
       "stream": "stdout",
       "text": [
        "\n",
        "Not copying HourlyData/Archive/2013/2013083121.dat to 2013/2013083121.dat because modification times are identical"
       ]
      },
      {
       "output_type": "stream",
       "stream": "stdout",
       "text": [
        "\n",
        "Not copying HourlyData/Archive/2013/2013083122.dat to 2013/2013083122.dat because modification times are identical"
       ]
      },
      {
       "output_type": "stream",
       "stream": "stdout",
       "text": [
        "\n",
        "Not copying HourlyData/Archive/2013/2013083123.dat to 2013/2013083123.dat because modification times are identical"
       ]
      },
      {
       "output_type": "stream",
       "stream": "stdout",
       "text": [
        "\n",
        "Not copying HourlyData/Archive/2013/2013090100.dat to 2013/2013090100.dat because modification times are identical"
       ]
      },
      {
       "output_type": "stream",
       "stream": "stdout",
       "text": [
        "\n",
        "Not copying HourlyData/Archive/2013/2013090101.dat to 2013/2013090101.dat because modification times are identical"
       ]
      },
      {
       "output_type": "stream",
       "stream": "stdout",
       "text": [
        "\n",
        "Not copying HourlyData/Archive/2013/2013090102.dat to 2013/2013090102.dat because modification times are identical"
       ]
      },
      {
       "output_type": "stream",
       "stream": "stdout",
       "text": [
        "\n",
        "Not copying HourlyData/Archive/2013/2013090103.dat to 2013/2013090103.dat because modification times are identical"
       ]
      },
      {
       "output_type": "stream",
       "stream": "stdout",
       "text": [
        "\n",
        "Not copying HourlyData/Archive/2013/2013090104.dat to 2013/2013090104.dat because modification times are identical"
       ]
      },
      {
       "output_type": "stream",
       "stream": "stdout",
       "text": [
        "\n",
        "Not copying HourlyData/Archive/2013/2013090105.dat to 2013/2013090105.dat because modification times are identical"
       ]
      },
      {
       "output_type": "stream",
       "stream": "stdout",
       "text": [
        "\n",
        "Not copying HourlyData/Archive/2013/2013090106.dat to 2013/2013090106.dat because modification times are identical"
       ]
      },
      {
       "output_type": "stream",
       "stream": "stdout",
       "text": [
        "\n",
        "Not copying HourlyData/Archive/2013/2013090107.dat to 2013/2013090107.dat because modification times are identical"
       ]
      },
      {
       "output_type": "stream",
       "stream": "stdout",
       "text": [
        "\n",
        "Not copying HourlyData/Archive/2013/2013090108.dat to 2013/2013090108.dat because modification times are identical"
       ]
      },
      {
       "output_type": "stream",
       "stream": "stdout",
       "text": [
        "\n",
        "Not copying HourlyData/Archive/2013/2013090109.dat to 2013/2013090109.dat because modification times are identical"
       ]
      },
      {
       "output_type": "stream",
       "stream": "stdout",
       "text": [
        "\n",
        "Not copying HourlyData/Archive/2013/2013090110.dat to 2013/2013090110.dat because modification times are identical"
       ]
      },
      {
       "output_type": "stream",
       "stream": "stdout",
       "text": [
        "\n",
        "Not copying HourlyData/Archive/2013/2013090111.dat to 2013/2013090111.dat because modification times are identical"
       ]
      },
      {
       "output_type": "stream",
       "stream": "stdout",
       "text": [
        "\n",
        "Not copying HourlyData/Archive/2013/2013090112.dat to 2013/2013090112.dat because modification times are identical"
       ]
      },
      {
       "output_type": "stream",
       "stream": "stdout",
       "text": [
        "\n",
        "Not copying HourlyData/Archive/2013/2013090113.dat to 2013/2013090113.dat because modification times are identical"
       ]
      },
      {
       "output_type": "stream",
       "stream": "stdout",
       "text": [
        "\n",
        "Not copying HourlyData/Archive/2013/2013090114.dat to 2013/2013090114.dat because modification times are identical"
       ]
      },
      {
       "output_type": "stream",
       "stream": "stdout",
       "text": [
        "\n",
        "Not copying HourlyData/Archive/2013/2013090115.dat to 2013/2013090115.dat because modification times are identical"
       ]
      },
      {
       "output_type": "stream",
       "stream": "stdout",
       "text": [
        "\n",
        "Not copying HourlyData/Archive/2013/2013090116.dat to 2013/2013090116.dat because modification times are identical"
       ]
      },
      {
       "output_type": "stream",
       "stream": "stdout",
       "text": [
        "\n",
        "Not copying HourlyData/Archive/2013/2013090117.dat to 2013/2013090117.dat because modification times are identical"
       ]
      },
      {
       "output_type": "stream",
       "stream": "stdout",
       "text": [
        "\n",
        "Not copying HourlyData/Archive/2013/2013090118.dat to 2013/2013090118.dat because modification times are identical"
       ]
      },
      {
       "output_type": "stream",
       "stream": "stdout",
       "text": [
        "\n",
        "Not copying HourlyData/Archive/2013/2013090119.dat to 2013/2013090119.dat because modification times are identical"
       ]
      },
      {
       "output_type": "stream",
       "stream": "stdout",
       "text": [
        "\n",
        "Not copying HourlyData/Archive/2013/2013090120.dat to 2013/2013090120.dat because modification times are identical"
       ]
      },
      {
       "output_type": "stream",
       "stream": "stdout",
       "text": [
        "\n",
        "Not copying HourlyData/Archive/2013/2013090121.dat to 2013/2013090121.dat because modification times are identical"
       ]
      },
      {
       "output_type": "stream",
       "stream": "stdout",
       "text": [
        "\n",
        "Not copying HourlyData/Archive/2013/2013090122.dat to 2013/2013090122.dat because modification times are identical"
       ]
      },
      {
       "output_type": "stream",
       "stream": "stdout",
       "text": [
        "\n",
        "Not copying HourlyData/Archive/2013/2013090123.dat to 2013/2013090123.dat because modification times are identical"
       ]
      },
      {
       "output_type": "stream",
       "stream": "stdout",
       "text": [
        "\n",
        "Not copying HourlyData/Archive/2013/2013090200.dat to 2013/2013090200.dat because modification times are identical"
       ]
      },
      {
       "output_type": "stream",
       "stream": "stdout",
       "text": [
        "\n",
        "Not copying HourlyData/Archive/2013/2013090201.dat to 2013/2013090201.dat because modification times are identical"
       ]
      },
      {
       "output_type": "stream",
       "stream": "stdout",
       "text": [
        "\n",
        "Not copying HourlyData/Archive/2013/2013090202.dat to 2013/2013090202.dat because modification times are identical"
       ]
      },
      {
       "output_type": "stream",
       "stream": "stdout",
       "text": [
        "\n",
        "Not copying HourlyData/Archive/2013/2013090203.dat to 2013/2013090203.dat because modification times are identical"
       ]
      },
      {
       "output_type": "stream",
       "stream": "stdout",
       "text": [
        "\n",
        "Not copying HourlyData/Archive/2013/2013090204.dat to 2013/2013090204.dat because modification times are identical"
       ]
      },
      {
       "output_type": "stream",
       "stream": "stdout",
       "text": [
        "\n",
        "Not copying HourlyData/Archive/2013/2013090205.dat to 2013/2013090205.dat because modification times are identical"
       ]
      },
      {
       "output_type": "stream",
       "stream": "stdout",
       "text": [
        "\n",
        "Not copying HourlyData/Archive/2013/2013090206.dat to 2013/2013090206.dat because modification times are identical"
       ]
      },
      {
       "output_type": "stream",
       "stream": "stdout",
       "text": [
        "\n",
        "Not copying HourlyData/Archive/2013/2013090207.dat to 2013/2013090207.dat because modification times are identical"
       ]
      },
      {
       "output_type": "stream",
       "stream": "stdout",
       "text": [
        "\n",
        "Not copying HourlyData/Archive/2013/2013090208.dat to 2013/2013090208.dat because modification times are identical"
       ]
      },
      {
       "output_type": "stream",
       "stream": "stdout",
       "text": [
        "\n",
        "Not copying HourlyData/Archive/2013/2013090209.dat to 2013/2013090209.dat because modification times are identical"
       ]
      },
      {
       "output_type": "stream",
       "stream": "stdout",
       "text": [
        "\n",
        "Not copying HourlyData/Archive/2013/2013090210.dat to 2013/2013090210.dat because modification times are identical"
       ]
      },
      {
       "output_type": "stream",
       "stream": "stdout",
       "text": [
        "\n",
        "Not copying HourlyData/Archive/2013/2013090211.dat to 2013/2013090211.dat because modification times are identical"
       ]
      },
      {
       "output_type": "stream",
       "stream": "stdout",
       "text": [
        "\n",
        "Not copying HourlyData/Archive/2013/2013090212.dat to 2013/2013090212.dat because modification times are identical"
       ]
      },
      {
       "output_type": "stream",
       "stream": "stdout",
       "text": [
        "\n",
        "Not copying HourlyData/Archive/2013/2013090213.dat to 2013/2013090213.dat because modification times are identical"
       ]
      },
      {
       "output_type": "stream",
       "stream": "stdout",
       "text": [
        "\n",
        "Not copying HourlyData/Archive/2013/2013090214.dat to 2013/2013090214.dat because modification times are identical"
       ]
      },
      {
       "output_type": "stream",
       "stream": "stdout",
       "text": [
        "\n",
        "Not copying HourlyData/Archive/2013/2013090215.dat to 2013/2013090215.dat because modification times are identical"
       ]
      },
      {
       "output_type": "stream",
       "stream": "stdout",
       "text": [
        "\n",
        "Not copying HourlyData/Archive/2013/2013090216.dat to 2013/2013090216.dat because modification times are identical"
       ]
      },
      {
       "output_type": "stream",
       "stream": "stdout",
       "text": [
        "\n",
        "Not copying HourlyData/Archive/2013/2013090217.dat to 2013/2013090217.dat because modification times are identical"
       ]
      },
      {
       "output_type": "stream",
       "stream": "stdout",
       "text": [
        "\n",
        "Not copying HourlyData/Archive/2013/2013090218.dat to 2013/2013090218.dat because modification times are identical"
       ]
      },
      {
       "output_type": "stream",
       "stream": "stdout",
       "text": [
        "\n",
        "Not copying HourlyData/Archive/2013/2013090219.dat to 2013/2013090219.dat because modification times are identical"
       ]
      },
      {
       "output_type": "stream",
       "stream": "stdout",
       "text": [
        "\n",
        "Not copying HourlyData/Archive/2013/2013090220.dat to 2013/2013090220.dat because modification times are identical"
       ]
      },
      {
       "output_type": "stream",
       "stream": "stdout",
       "text": [
        "\n",
        "Not copying HourlyData/Archive/2013/2013090221.dat to 2013/2013090221.dat because modification times are identical"
       ]
      },
      {
       "output_type": "stream",
       "stream": "stdout",
       "text": [
        "\n",
        "Not copying HourlyData/Archive/2013/2013090222.dat to 2013/2013090222.dat because modification times are identical"
       ]
      },
      {
       "output_type": "stream",
       "stream": "stdout",
       "text": [
        "\n",
        "Not copying HourlyData/Archive/2013/2013090223.dat to 2013/2013090223.dat because modification times are identical"
       ]
      },
      {
       "output_type": "stream",
       "stream": "stdout",
       "text": [
        "\n",
        "Not copying HourlyData/Archive/2013/2013090300.dat to 2013/2013090300.dat because modification times are identical"
       ]
      },
      {
       "output_type": "stream",
       "stream": "stdout",
       "text": [
        "\n",
        "Not copying HourlyData/Archive/2013/2013090301.dat to 2013/2013090301.dat because modification times are identical"
       ]
      },
      {
       "output_type": "stream",
       "stream": "stdout",
       "text": [
        "\n",
        "Not copying HourlyData/Archive/2013/2013090302.dat to 2013/2013090302.dat because modification times are identical"
       ]
      },
      {
       "output_type": "stream",
       "stream": "stdout",
       "text": [
        "\n",
        "Not copying HourlyData/Archive/2013/2013090303.dat to 2013/2013090303.dat because modification times are identical"
       ]
      },
      {
       "output_type": "stream",
       "stream": "stdout",
       "text": [
        "\n",
        "Not copying HourlyData/Archive/2013/2013090304.dat to 2013/2013090304.dat because modification times are identical"
       ]
      },
      {
       "output_type": "stream",
       "stream": "stdout",
       "text": [
        "\n",
        "Not copying HourlyData/Archive/2013/2013090305.dat to 2013/2013090305.dat because modification times are identical"
       ]
      },
      {
       "output_type": "stream",
       "stream": "stdout",
       "text": [
        "\n",
        "Not copying HourlyData/Archive/2013/2013090306.dat to 2013/2013090306.dat because modification times are identical"
       ]
      },
      {
       "output_type": "stream",
       "stream": "stdout",
       "text": [
        "\n",
        "Not copying HourlyData/Archive/2013/2013090307.dat to 2013/2013090307.dat because modification times are identical"
       ]
      },
      {
       "output_type": "stream",
       "stream": "stdout",
       "text": [
        "\n",
        "Not copying HourlyData/Archive/2013/2013090308.dat to 2013/2013090308.dat because modification times are identical"
       ]
      },
      {
       "output_type": "stream",
       "stream": "stdout",
       "text": [
        "\n",
        "Not copying HourlyData/Archive/2013/2013090309.dat to 2013/2013090309.dat because modification times are identical"
       ]
      },
      {
       "output_type": "stream",
       "stream": "stdout",
       "text": [
        "\n",
        "Not copying HourlyData/Archive/2013/2013090310.dat to 2013/2013090310.dat because modification times are identical"
       ]
      },
      {
       "output_type": "stream",
       "stream": "stdout",
       "text": [
        "\n",
        "Not copying HourlyData/Archive/2013/2013090311.dat to 2013/2013090311.dat because modification times are identical"
       ]
      },
      {
       "output_type": "stream",
       "stream": "stdout",
       "text": [
        "\n",
        "Not copying HourlyData/Archive/2013/2013090312.dat to 2013/2013090312.dat because modification times are identical"
       ]
      },
      {
       "output_type": "stream",
       "stream": "stdout",
       "text": [
        "\n",
        "Not copying HourlyData/Archive/2013/2013090313.dat to 2013/2013090313.dat because modification times are identical"
       ]
      },
      {
       "output_type": "stream",
       "stream": "stdout",
       "text": [
        "\n",
        "Not copying HourlyData/Archive/2013/2013090314.dat to 2013/2013090314.dat because modification times are identical"
       ]
      },
      {
       "output_type": "stream",
       "stream": "stdout",
       "text": [
        "\n",
        "Not copying HourlyData/Archive/2013/2013090315.dat to 2013/2013090315.dat because modification times are identical"
       ]
      },
      {
       "output_type": "stream",
       "stream": "stdout",
       "text": [
        "\n",
        "Not copying HourlyData/Archive/2013/2013090316.dat to 2013/2013090316.dat because modification times are identical"
       ]
      },
      {
       "output_type": "stream",
       "stream": "stdout",
       "text": [
        "\n",
        "Not copying HourlyData/Archive/2013/2013090317.dat to 2013/2013090317.dat because modification times are identical"
       ]
      },
      {
       "output_type": "stream",
       "stream": "stdout",
       "text": [
        "\n",
        "Not copying HourlyData/Archive/2013/2013090318.dat to 2013/2013090318.dat because modification times are identical"
       ]
      },
      {
       "output_type": "stream",
       "stream": "stdout",
       "text": [
        "\n",
        "Not copying HourlyData/Archive/2013/2013090319.dat to 2013/2013090319.dat because modification times are identical"
       ]
      },
      {
       "output_type": "stream",
       "stream": "stdout",
       "text": [
        "\n",
        "Not copying HourlyData/Archive/2013/2013090320.dat to 2013/2013090320.dat because modification times are identical"
       ]
      },
      {
       "output_type": "stream",
       "stream": "stdout",
       "text": [
        "\n",
        "Not copying HourlyData/Archive/2013/2013090321.dat to 2013/2013090321.dat because modification times are identical"
       ]
      },
      {
       "output_type": "stream",
       "stream": "stdout",
       "text": [
        "\n",
        "Not copying HourlyData/Archive/2013/2013090322.dat to 2013/2013090322.dat because modification times are identical"
       ]
      },
      {
       "output_type": "stream",
       "stream": "stdout",
       "text": [
        "\n",
        "Not copying HourlyData/Archive/2013/2013090323.dat to 2013/2013090323.dat because modification times are identical"
       ]
      },
      {
       "output_type": "stream",
       "stream": "stdout",
       "text": [
        "\n",
        "Not copying HourlyData/Archive/2013/2013090400.dat to 2013/2013090400.dat because modification times are identical"
       ]
      },
      {
       "output_type": "stream",
       "stream": "stdout",
       "text": [
        "\n",
        "Not copying HourlyData/Archive/2013/2013090401.dat to 2013/2013090401.dat because modification times are identical"
       ]
      },
      {
       "output_type": "stream",
       "stream": "stdout",
       "text": [
        "\n",
        "Not copying HourlyData/Archive/2013/2013090402.dat to 2013/2013090402.dat because modification times are identical"
       ]
      },
      {
       "output_type": "stream",
       "stream": "stdout",
       "text": [
        "\n",
        "Not copying HourlyData/Archive/2013/2013090403.dat to 2013/2013090403.dat because modification times are identical"
       ]
      },
      {
       "output_type": "stream",
       "stream": "stdout",
       "text": [
        "\n",
        "Not copying HourlyData/Archive/2013/2013090404.dat to 2013/2013090404.dat because modification times are identical"
       ]
      },
      {
       "output_type": "stream",
       "stream": "stdout",
       "text": [
        "\n",
        "Not copying HourlyData/Archive/2013/2013090405.dat to 2013/2013090405.dat because modification times are identical"
       ]
      },
      {
       "output_type": "stream",
       "stream": "stdout",
       "text": [
        "\n",
        "Not copying HourlyData/Archive/2013/2013090406.dat to 2013/2013090406.dat because modification times are identical"
       ]
      },
      {
       "output_type": "stream",
       "stream": "stdout",
       "text": [
        "\n",
        "Not copying HourlyData/Archive/2013/2013090407.dat to 2013/2013090407.dat because modification times are identical"
       ]
      },
      {
       "output_type": "stream",
       "stream": "stdout",
       "text": [
        "\n",
        "Not copying HourlyData/Archive/2013/2013090408.dat to 2013/2013090408.dat because modification times are identical"
       ]
      },
      {
       "output_type": "stream",
       "stream": "stdout",
       "text": [
        "\n",
        "Not copying HourlyData/Archive/2013/2013090409.dat to 2013/2013090409.dat because modification times are identical"
       ]
      },
      {
       "output_type": "stream",
       "stream": "stdout",
       "text": [
        "\n",
        "Not copying HourlyData/Archive/2013/2013090410.dat to 2013/2013090410.dat because modification times are identical"
       ]
      },
      {
       "output_type": "stream",
       "stream": "stdout",
       "text": [
        "\n",
        "Not copying HourlyData/Archive/2013/2013090411.dat to 2013/2013090411.dat because modification times are identical"
       ]
      },
      {
       "output_type": "stream",
       "stream": "stdout",
       "text": [
        "\n",
        "Not copying HourlyData/Archive/2013/2013090412.dat to 2013/2013090412.dat because modification times are identical"
       ]
      },
      {
       "output_type": "stream",
       "stream": "stdout",
       "text": [
        "\n",
        "Not copying HourlyData/Archive/2013/2013090413.dat to 2013/2013090413.dat because modification times are identical"
       ]
      },
      {
       "output_type": "stream",
       "stream": "stdout",
       "text": [
        "\n",
        "Not copying HourlyData/Archive/2013/2013090414.dat to 2013/2013090414.dat because modification times are identical"
       ]
      },
      {
       "output_type": "stream",
       "stream": "stdout",
       "text": [
        "\n",
        "Not copying HourlyData/Archive/2013/2013090415.dat to 2013/2013090415.dat because modification times are identical"
       ]
      },
      {
       "output_type": "stream",
       "stream": "stdout",
       "text": [
        "\n",
        "Not copying HourlyData/Archive/2013/2013090416.dat to 2013/2013090416.dat because modification times are identical"
       ]
      },
      {
       "output_type": "stream",
       "stream": "stdout",
       "text": [
        "\n",
        "Not copying HourlyData/Archive/2013/2013090417.dat to 2013/2013090417.dat because modification times are identical"
       ]
      },
      {
       "output_type": "stream",
       "stream": "stdout",
       "text": [
        "\n",
        "Not copying HourlyData/Archive/2013/2013090418.dat to 2013/2013090418.dat because modification times are identical"
       ]
      },
      {
       "output_type": "stream",
       "stream": "stdout",
       "text": [
        "\n",
        "Not copying HourlyData/Archive/2013/2013090419.dat to 2013/2013090419.dat because modification times are identical"
       ]
      },
      {
       "output_type": "stream",
       "stream": "stdout",
       "text": [
        "\n",
        "Not copying HourlyData/Archive/2013/2013090420.dat to 2013/2013090420.dat because modification times are identical"
       ]
      },
      {
       "output_type": "stream",
       "stream": "stdout",
       "text": [
        "\n",
        "Not copying HourlyData/Archive/2013/2013090421.dat to 2013/2013090421.dat because modification times are identical"
       ]
      },
      {
       "output_type": "stream",
       "stream": "stdout",
       "text": [
        "\n",
        "Not copying HourlyData/Archive/2013/2013090422.dat to 2013/2013090422.dat because modification times are identical"
       ]
      },
      {
       "output_type": "stream",
       "stream": "stdout",
       "text": [
        "\n",
        "Not copying HourlyData/Archive/2013/2013090423.dat to 2013/2013090423.dat because modification times are identical"
       ]
      },
      {
       "output_type": "stream",
       "stream": "stdout",
       "text": [
        "\n",
        "Not copying HourlyData/Archive/2013/2013090500.dat to 2013/2013090500.dat because modification times are identical"
       ]
      },
      {
       "output_type": "stream",
       "stream": "stdout",
       "text": [
        "\n",
        "Not copying HourlyData/Archive/2013/2013090501.dat to 2013/2013090501.dat because modification times are identical"
       ]
      },
      {
       "output_type": "stream",
       "stream": "stdout",
       "text": [
        "\n",
        "Not copying HourlyData/Archive/2013/2013090502.dat to 2013/2013090502.dat because modification times are identical"
       ]
      },
      {
       "output_type": "stream",
       "stream": "stdout",
       "text": [
        "\n",
        "Not copying HourlyData/Archive/2013/2013090503.dat to 2013/2013090503.dat because modification times are identical"
       ]
      },
      {
       "output_type": "stream",
       "stream": "stdout",
       "text": [
        "\n",
        "Not copying HourlyData/Archive/2013/2013090504.dat to 2013/2013090504.dat because modification times are identical"
       ]
      },
      {
       "output_type": "stream",
       "stream": "stdout",
       "text": [
        "\n",
        "Not copying HourlyData/Archive/2013/2013090505.dat to 2013/2013090505.dat because modification times are identical"
       ]
      },
      {
       "output_type": "stream",
       "stream": "stdout",
       "text": [
        "\n",
        "Not copying HourlyData/Archive/2013/2013090506.dat to 2013/2013090506.dat because modification times are identical"
       ]
      },
      {
       "output_type": "stream",
       "stream": "stdout",
       "text": [
        "\n",
        "Not copying HourlyData/Archive/2013/2013090507.dat to 2013/2013090507.dat because modification times are identical"
       ]
      },
      {
       "output_type": "stream",
       "stream": "stdout",
       "text": [
        "\n",
        "Not copying HourlyData/Archive/2013/2013090508.dat to 2013/2013090508.dat because modification times are identical"
       ]
      },
      {
       "output_type": "stream",
       "stream": "stdout",
       "text": [
        "\n",
        "Not copying HourlyData/Archive/2013/2013090509.dat to 2013/2013090509.dat because modification times are identical"
       ]
      },
      {
       "output_type": "stream",
       "stream": "stdout",
       "text": [
        "\n",
        "Not copying HourlyData/Archive/2013/2013090510.dat to 2013/2013090510.dat because modification times are identical"
       ]
      },
      {
       "output_type": "stream",
       "stream": "stdout",
       "text": [
        "\n",
        "Not copying HourlyData/Archive/2013/2013090511.dat to 2013/2013090511.dat because modification times are identical"
       ]
      },
      {
       "output_type": "stream",
       "stream": "stdout",
       "text": [
        "\n",
        "Not copying HourlyData/Archive/2013/2013090512.dat to 2013/2013090512.dat because modification times are identical"
       ]
      },
      {
       "output_type": "stream",
       "stream": "stdout",
       "text": [
        "\n",
        "Not copying HourlyData/Archive/2013/2013090513.dat to 2013/2013090513.dat because modification times are identical"
       ]
      },
      {
       "output_type": "stream",
       "stream": "stdout",
       "text": [
        "\n",
        "Not copying HourlyData/Archive/2013/2013090514.dat to 2013/2013090514.dat because modification times are identical"
       ]
      },
      {
       "output_type": "stream",
       "stream": "stdout",
       "text": [
        "\n",
        "Not copying HourlyData/Archive/2013/2013090515.dat to 2013/2013090515.dat because modification times are identical"
       ]
      },
      {
       "output_type": "stream",
       "stream": "stdout",
       "text": [
        "\n",
        "Not copying HourlyData/Archive/2013/2013090516.dat to 2013/2013090516.dat because modification times are identical"
       ]
      },
      {
       "output_type": "stream",
       "stream": "stdout",
       "text": [
        "\n",
        "Not copying HourlyData/Archive/2013/2013090517.dat to 2013/2013090517.dat because modification times are identical"
       ]
      },
      {
       "output_type": "stream",
       "stream": "stdout",
       "text": [
        "\n",
        "Not copying HourlyData/Archive/2013/2013090518.dat to 2013/2013090518.dat because modification times are identical"
       ]
      },
      {
       "output_type": "stream",
       "stream": "stdout",
       "text": [
        "\n",
        "Not copying HourlyData/Archive/2013/2013090519.dat to 2013/2013090519.dat because modification times are identical"
       ]
      },
      {
       "output_type": "stream",
       "stream": "stdout",
       "text": [
        "\n",
        "Not copying HourlyData/Archive/2013/2013090520.dat to 2013/2013090520.dat because modification times are identical"
       ]
      },
      {
       "output_type": "stream",
       "stream": "stdout",
       "text": [
        "\n",
        "Not copying HourlyData/Archive/2013/2013090521.dat to 2013/2013090521.dat because modification times are identical"
       ]
      },
      {
       "output_type": "stream",
       "stream": "stdout",
       "text": [
        "\n",
        "Not copying HourlyData/Archive/2013/2013090522.dat to 2013/2013090522.dat because modification times are identical"
       ]
      },
      {
       "output_type": "stream",
       "stream": "stdout",
       "text": [
        "\n",
        "Not copying HourlyData/Archive/2013/2013090523.dat to 2013/2013090523.dat because modification times are identical"
       ]
      },
      {
       "output_type": "stream",
       "stream": "stdout",
       "text": [
        "\n",
        "Not copying HourlyData/Archive/2013/2013090600.dat to 2013/2013090600.dat because modification times are identical"
       ]
      },
      {
       "output_type": "stream",
       "stream": "stdout",
       "text": [
        "\n",
        "Not copying HourlyData/Archive/2013/2013090601.dat to 2013/2013090601.dat because modification times are identical"
       ]
      },
      {
       "output_type": "stream",
       "stream": "stdout",
       "text": [
        "\n",
        "Not copying HourlyData/Archive/2013/2013090602.dat to 2013/2013090602.dat because modification times are identical"
       ]
      },
      {
       "output_type": "stream",
       "stream": "stdout",
       "text": [
        "\n",
        "Not copying HourlyData/Archive/2013/2013090603.dat to 2013/2013090603.dat because modification times are identical"
       ]
      },
      {
       "output_type": "stream",
       "stream": "stdout",
       "text": [
        "\n",
        "Not copying HourlyData/Archive/2013/2013090604.dat to 2013/2013090604.dat because modification times are identical"
       ]
      },
      {
       "output_type": "stream",
       "stream": "stdout",
       "text": [
        "\n",
        "Not copying HourlyData/Archive/2013/2013090605.dat to 2013/2013090605.dat because modification times are identical"
       ]
      },
      {
       "output_type": "stream",
       "stream": "stdout",
       "text": [
        "\n",
        "Not copying HourlyData/Archive/2013/2013090606.dat to 2013/2013090606.dat because modification times are identical"
       ]
      },
      {
       "output_type": "stream",
       "stream": "stdout",
       "text": [
        "\n",
        "Not copying HourlyData/Archive/2013/2013090607.dat to 2013/2013090607.dat because modification times are identical"
       ]
      },
      {
       "output_type": "stream",
       "stream": "stdout",
       "text": [
        "\n",
        "Not copying HourlyData/Archive/2013/2013090608.dat to 2013/2013090608.dat because modification times are identical"
       ]
      },
      {
       "output_type": "stream",
       "stream": "stdout",
       "text": [
        "\n",
        "Not copying HourlyData/Archive/2013/2013090609.dat to 2013/2013090609.dat because modification times are identical"
       ]
      },
      {
       "output_type": "stream",
       "stream": "stdout",
       "text": [
        "\n",
        "Not copying HourlyData/Archive/2013/2013090610.dat to 2013/2013090610.dat because modification times are identical"
       ]
      },
      {
       "output_type": "stream",
       "stream": "stdout",
       "text": [
        "\n",
        "Not copying HourlyData/Archive/2013/2013090611.dat to 2013/2013090611.dat because modification times are identical"
       ]
      },
      {
       "output_type": "stream",
       "stream": "stdout",
       "text": [
        "\n",
        "Not copying HourlyData/Archive/2013/2013090612.dat to 2013/2013090612.dat because modification times are identical"
       ]
      },
      {
       "output_type": "stream",
       "stream": "stdout",
       "text": [
        "\n",
        "Not copying HourlyData/Archive/2013/2013090613.dat to 2013/2013090613.dat because modification times are identical"
       ]
      },
      {
       "output_type": "stream",
       "stream": "stdout",
       "text": [
        "\n",
        "Not copying HourlyData/Archive/2013/2013090614.dat to 2013/2013090614.dat because modification times are identical"
       ]
      },
      {
       "output_type": "stream",
       "stream": "stdout",
       "text": [
        "\n",
        "Not copying HourlyData/Archive/2013/2013090615.dat to 2013/2013090615.dat because modification times are identical"
       ]
      },
      {
       "output_type": "stream",
       "stream": "stdout",
       "text": [
        "\n",
        "Not copying HourlyData/Archive/2013/2013090616.dat to 2013/2013090616.dat because modification times are identical"
       ]
      },
      {
       "output_type": "stream",
       "stream": "stdout",
       "text": [
        "\n",
        "Not copying HourlyData/Archive/2013/2013090617.dat to 2013/2013090617.dat because modification times are identical"
       ]
      },
      {
       "output_type": "stream",
       "stream": "stdout",
       "text": [
        "\n",
        "Not copying HourlyData/Archive/2013/2013090618.dat to 2013/2013090618.dat because modification times are identical"
       ]
      },
      {
       "output_type": "stream",
       "stream": "stdout",
       "text": [
        "\n",
        "Not copying HourlyData/Archive/2013/2013090619.dat to 2013/2013090619.dat because modification times are identical"
       ]
      },
      {
       "output_type": "stream",
       "stream": "stdout",
       "text": [
        "\n",
        "Not copying HourlyData/Archive/2013/2013090620.dat to 2013/2013090620.dat because modification times are identical"
       ]
      },
      {
       "output_type": "stream",
       "stream": "stdout",
       "text": [
        "\n",
        "Not copying HourlyData/Archive/2013/2013090621.dat to 2013/2013090621.dat because modification times are identical"
       ]
      },
      {
       "output_type": "stream",
       "stream": "stdout",
       "text": [
        "\n",
        "Not copying HourlyData/Archive/2013/2013090622.dat to 2013/2013090622.dat because modification times are identical"
       ]
      },
      {
       "output_type": "stream",
       "stream": "stdout",
       "text": [
        "\n",
        "Not copying HourlyData/Archive/2013/2013090623.dat to 2013/2013090623.dat because modification times are identical"
       ]
      },
      {
       "output_type": "stream",
       "stream": "stdout",
       "text": [
        "\n",
        "Not copying HourlyData/Archive/2013/2013090700.dat to 2013/2013090700.dat because modification times are identical"
       ]
      },
      {
       "output_type": "stream",
       "stream": "stdout",
       "text": [
        "\n",
        "Not copying HourlyData/Archive/2013/2013090701.dat to 2013/2013090701.dat because modification times are identical"
       ]
      },
      {
       "output_type": "stream",
       "stream": "stdout",
       "text": [
        "\n",
        "Not copying HourlyData/Archive/2013/2013090702.dat to 2013/2013090702.dat because modification times are identical"
       ]
      },
      {
       "output_type": "stream",
       "stream": "stdout",
       "text": [
        "\n",
        "Not copying HourlyData/Archive/2013/2013090703.dat to 2013/2013090703.dat because modification times are identical"
       ]
      },
      {
       "output_type": "stream",
       "stream": "stdout",
       "text": [
        "\n",
        "Not copying HourlyData/Archive/2013/2013090704.dat to 2013/2013090704.dat because modification times are identical"
       ]
      },
      {
       "output_type": "stream",
       "stream": "stdout",
       "text": [
        "\n",
        "Not copying HourlyData/Archive/2013/2013090705.dat to 2013/2013090705.dat because modification times are identical"
       ]
      },
      {
       "output_type": "stream",
       "stream": "stdout",
       "text": [
        "\n",
        "Not copying HourlyData/Archive/2013/2013090706.dat to 2013/2013090706.dat because modification times are identical"
       ]
      },
      {
       "output_type": "stream",
       "stream": "stdout",
       "text": [
        "\n",
        "Not copying HourlyData/Archive/2013/2013090707.dat to 2013/2013090707.dat because modification times are identical"
       ]
      },
      {
       "output_type": "stream",
       "stream": "stdout",
       "text": [
        "\n",
        "Not copying HourlyData/Archive/2013/2013090708.dat to 2013/2013090708.dat because modification times are identical"
       ]
      },
      {
       "output_type": "stream",
       "stream": "stdout",
       "text": [
        "\n",
        "Not copying HourlyData/Archive/2013/2013090709.dat to 2013/2013090709.dat because modification times are identical"
       ]
      },
      {
       "output_type": "stream",
       "stream": "stdout",
       "text": [
        "\n",
        "Not copying HourlyData/Archive/2013/2013090710.dat to 2013/2013090710.dat because modification times are identical"
       ]
      },
      {
       "output_type": "stream",
       "stream": "stdout",
       "text": [
        "\n",
        "Not copying HourlyData/Archive/2013/2013090711.dat to 2013/2013090711.dat because modification times are identical"
       ]
      },
      {
       "output_type": "stream",
       "stream": "stdout",
       "text": [
        "\n",
        "Not copying HourlyData/Archive/2013/2013090712.dat to 2013/2013090712.dat because modification times are identical"
       ]
      },
      {
       "output_type": "stream",
       "stream": "stdout",
       "text": [
        "\n",
        "Not copying HourlyData/Archive/2013/2013090713.dat to 2013/2013090713.dat because modification times are identical"
       ]
      },
      {
       "output_type": "stream",
       "stream": "stdout",
       "text": [
        "\n",
        "Not copying HourlyData/Archive/2013/2013090714.dat to 2013/2013090714.dat because modification times are identical"
       ]
      },
      {
       "output_type": "stream",
       "stream": "stdout",
       "text": [
        "\n",
        "Not copying HourlyData/Archive/2013/2013090715.dat to 2013/2013090715.dat because modification times are identical"
       ]
      },
      {
       "output_type": "stream",
       "stream": "stdout",
       "text": [
        "\n",
        "Not copying HourlyData/Archive/2013/2013090716.dat to 2013/2013090716.dat because modification times are identical"
       ]
      },
      {
       "output_type": "stream",
       "stream": "stdout",
       "text": [
        "\n",
        "Not copying HourlyData/Archive/2013/2013090717.dat to 2013/2013090717.dat because modification times are identical"
       ]
      },
      {
       "output_type": "stream",
       "stream": "stdout",
       "text": [
        "\n",
        "Not copying HourlyData/Archive/2013/2013090718.dat to 2013/2013090718.dat because modification times are identical"
       ]
      },
      {
       "output_type": "stream",
       "stream": "stdout",
       "text": [
        "\n",
        "Not copying HourlyData/Archive/2013/2013090719.dat to 2013/2013090719.dat because modification times are identical"
       ]
      },
      {
       "output_type": "stream",
       "stream": "stdout",
       "text": [
        "\n",
        "Not copying HourlyData/Archive/2013/2013090720.dat to 2013/2013090720.dat because modification times are identical"
       ]
      },
      {
       "output_type": "stream",
       "stream": "stdout",
       "text": [
        "\n",
        "Not copying HourlyData/Archive/2013/2013090721.dat to 2013/2013090721.dat because modification times are identical"
       ]
      },
      {
       "output_type": "stream",
       "stream": "stdout",
       "text": [
        "\n",
        "Not copying HourlyData/Archive/2013/2013090722.dat to 2013/2013090722.dat because modification times are identical"
       ]
      },
      {
       "output_type": "stream",
       "stream": "stdout",
       "text": [
        "\n",
        "Not copying HourlyData/Archive/2013/2013090723.dat to 2013/2013090723.dat because modification times are identical"
       ]
      },
      {
       "output_type": "stream",
       "stream": "stdout",
       "text": [
        "\n",
        "Not copying HourlyData/Archive/2013/2013090800.dat to 2013/2013090800.dat because modification times are identical"
       ]
      },
      {
       "output_type": "stream",
       "stream": "stdout",
       "text": [
        "\n",
        "Not copying HourlyData/Archive/2013/2013090801.dat to 2013/2013090801.dat because modification times are identical"
       ]
      },
      {
       "output_type": "stream",
       "stream": "stdout",
       "text": [
        "\n",
        "Not copying HourlyData/Archive/2013/2013090802.dat to 2013/2013090802.dat because modification times are identical"
       ]
      },
      {
       "output_type": "stream",
       "stream": "stdout",
       "text": [
        "\n",
        "Not copying HourlyData/Archive/2013/2013090803.dat to 2013/2013090803.dat because modification times are identical"
       ]
      },
      {
       "output_type": "stream",
       "stream": "stdout",
       "text": [
        "\n",
        "Not copying HourlyData/Archive/2013/2013090804.dat to 2013/2013090804.dat because modification times are identical"
       ]
      },
      {
       "output_type": "stream",
       "stream": "stdout",
       "text": [
        "\n",
        "Not copying HourlyData/Archive/2013/2013090805.dat to 2013/2013090805.dat because modification times are identical"
       ]
      },
      {
       "output_type": "stream",
       "stream": "stdout",
       "text": [
        "\n",
        "Not copying HourlyData/Archive/2013/2013090806.dat to 2013/2013090806.dat because modification times are identical"
       ]
      },
      {
       "output_type": "stream",
       "stream": "stdout",
       "text": [
        "\n",
        "Not copying HourlyData/Archive/2013/2013090807.dat to 2013/2013090807.dat because modification times are identical"
       ]
      },
      {
       "output_type": "stream",
       "stream": "stdout",
       "text": [
        "\n",
        "Not copying HourlyData/Archive/2013/2013090808.dat to 2013/2013090808.dat because modification times are identical"
       ]
      },
      {
       "output_type": "stream",
       "stream": "stdout",
       "text": [
        "\n",
        "Not copying HourlyData/Archive/2013/2013090809.dat to 2013/2013090809.dat because modification times are identical"
       ]
      },
      {
       "output_type": "stream",
       "stream": "stdout",
       "text": [
        "\n",
        "Not copying HourlyData/Archive/2013/2013090810.dat to 2013/2013090810.dat because modification times are identical"
       ]
      },
      {
       "output_type": "stream",
       "stream": "stdout",
       "text": [
        "\n",
        "Not copying HourlyData/Archive/2013/2013090811.dat to 2013/2013090811.dat because modification times are identical"
       ]
      },
      {
       "output_type": "stream",
       "stream": "stdout",
       "text": [
        "\n",
        "Not copying HourlyData/Archive/2013/2013090812.dat to 2013/2013090812.dat because modification times are identical"
       ]
      },
      {
       "output_type": "stream",
       "stream": "stdout",
       "text": [
        "\n",
        "Not copying HourlyData/Archive/2013/2013090813.dat to 2013/2013090813.dat because modification times are identical"
       ]
      },
      {
       "output_type": "stream",
       "stream": "stdout",
       "text": [
        "\n",
        "Not copying HourlyData/Archive/2013/2013090814.dat to 2013/2013090814.dat because modification times are identical"
       ]
      },
      {
       "output_type": "stream",
       "stream": "stdout",
       "text": [
        "\n",
        "Not copying HourlyData/Archive/2013/2013090815.dat to 2013/2013090815.dat because modification times are identical"
       ]
      },
      {
       "output_type": "stream",
       "stream": "stdout",
       "text": [
        "\n",
        "Not copying HourlyData/Archive/2013/2013090816.dat to 2013/2013090816.dat because modification times are identical"
       ]
      },
      {
       "output_type": "stream",
       "stream": "stdout",
       "text": [
        "\n",
        "Not copying HourlyData/Archive/2013/2013090817.dat to 2013/2013090817.dat because modification times are identical"
       ]
      },
      {
       "output_type": "stream",
       "stream": "stdout",
       "text": [
        "\n",
        "Not copying HourlyData/Archive/2013/2013090818.dat to 2013/2013090818.dat because modification times are identical"
       ]
      },
      {
       "output_type": "stream",
       "stream": "stdout",
       "text": [
        "\n",
        "Not copying HourlyData/Archive/2013/2013090819.dat to 2013/2013090819.dat because modification times are identical"
       ]
      },
      {
       "output_type": "stream",
       "stream": "stdout",
       "text": [
        "\n",
        "Not copying HourlyData/Archive/2013/2013090820.dat to 2013/2013090820.dat because modification times are identical"
       ]
      },
      {
       "output_type": "stream",
       "stream": "stdout",
       "text": [
        "\n",
        "Not copying HourlyData/Archive/2013/2013090821.dat to 2013/2013090821.dat because modification times are identical"
       ]
      },
      {
       "output_type": "stream",
       "stream": "stdout",
       "text": [
        "\n",
        "Not copying HourlyData/Archive/2013/2013090822.dat to 2013/2013090822.dat because modification times are identical"
       ]
      },
      {
       "output_type": "stream",
       "stream": "stdout",
       "text": [
        "\n",
        "Not copying HourlyData/Archive/2013/2013090823.dat to 2013/2013090823.dat because modification times are identical"
       ]
      },
      {
       "output_type": "stream",
       "stream": "stdout",
       "text": [
        "\n",
        "Not copying HourlyData/Archive/2013/2013090900.dat to 2013/2013090900.dat because modification times are identical"
       ]
      },
      {
       "output_type": "stream",
       "stream": "stdout",
       "text": [
        "\n",
        "Not copying HourlyData/Archive/2013/2013090901.dat to 2013/2013090901.dat because modification times are identical"
       ]
      },
      {
       "output_type": "stream",
       "stream": "stdout",
       "text": [
        "\n",
        "Not copying HourlyData/Archive/2013/2013090902.dat to 2013/2013090902.dat because modification times are identical"
       ]
      },
      {
       "output_type": "stream",
       "stream": "stdout",
       "text": [
        "\n",
        "Not copying HourlyData/Archive/2013/2013090903.dat to 2013/2013090903.dat because modification times are identical"
       ]
      },
      {
       "output_type": "stream",
       "stream": "stdout",
       "text": [
        "\n",
        "Not copying HourlyData/Archive/2013/2013090904.dat to 2013/2013090904.dat because modification times are identical"
       ]
      },
      {
       "output_type": "stream",
       "stream": "stdout",
       "text": [
        "\n",
        "Not copying HourlyData/Archive/2013/2013090905.dat to 2013/2013090905.dat because modification times are identical"
       ]
      },
      {
       "output_type": "stream",
       "stream": "stdout",
       "text": [
        "\n",
        "Not copying HourlyData/Archive/2013/2013090906.dat to 2013/2013090906.dat because modification times are identical"
       ]
      },
      {
       "output_type": "stream",
       "stream": "stdout",
       "text": [
        "\n",
        "Not copying HourlyData/Archive/2013/2013090907.dat to 2013/2013090907.dat because modification times are identical"
       ]
      },
      {
       "output_type": "stream",
       "stream": "stdout",
       "text": [
        "\n",
        "Not copying HourlyData/Archive/2013/2013090908.dat to 2013/2013090908.dat because modification times are identical"
       ]
      },
      {
       "output_type": "stream",
       "stream": "stdout",
       "text": [
        "\n",
        "Not copying HourlyData/Archive/2013/2013090909.dat to 2013/2013090909.dat because modification times are identical"
       ]
      },
      {
       "output_type": "stream",
       "stream": "stdout",
       "text": [
        "\n",
        "Not copying HourlyData/Archive/2013/2013090910.dat to 2013/2013090910.dat because modification times are identical"
       ]
      },
      {
       "output_type": "stream",
       "stream": "stdout",
       "text": [
        "\n",
        "Not copying HourlyData/Archive/2013/2013090911.dat to 2013/2013090911.dat because modification times are identical"
       ]
      },
      {
       "output_type": "stream",
       "stream": "stdout",
       "text": [
        "\n",
        "Not copying HourlyData/Archive/2013/2013090912.dat to 2013/2013090912.dat because modification times are identical"
       ]
      },
      {
       "output_type": "stream",
       "stream": "stdout",
       "text": [
        "\n",
        "Not copying HourlyData/Archive/2013/2013090913.dat to 2013/2013090913.dat because modification times are identical"
       ]
      },
      {
       "output_type": "stream",
       "stream": "stdout",
       "text": [
        "\n",
        "Not copying HourlyData/Archive/2013/2013090914.dat to 2013/2013090914.dat because modification times are identical"
       ]
      },
      {
       "output_type": "stream",
       "stream": "stdout",
       "text": [
        "\n",
        "Not copying HourlyData/Archive/2013/2013090915.dat to 2013/2013090915.dat because modification times are identical"
       ]
      },
      {
       "output_type": "stream",
       "stream": "stdout",
       "text": [
        "\n",
        "Not copying HourlyData/Archive/2013/2013090916.dat to 2013/2013090916.dat because modification times are identical"
       ]
      },
      {
       "output_type": "stream",
       "stream": "stdout",
       "text": [
        "\n",
        "Not copying HourlyData/Archive/2013/2013090917.dat to 2013/2013090917.dat because modification times are identical"
       ]
      },
      {
       "output_type": "stream",
       "stream": "stdout",
       "text": [
        "\n",
        "Not copying HourlyData/Archive/2013/2013090918.dat to 2013/2013090918.dat because modification times are identical"
       ]
      },
      {
       "output_type": "stream",
       "stream": "stdout",
       "text": [
        "\n",
        "Not copying HourlyData/Archive/2013/2013090919.dat to 2013/2013090919.dat because modification times are identical"
       ]
      },
      {
       "output_type": "stream",
       "stream": "stdout",
       "text": [
        "\n",
        "Not copying HourlyData/Archive/2013/2013090920.dat to 2013/2013090920.dat because modification times are identical"
       ]
      },
      {
       "output_type": "stream",
       "stream": "stdout",
       "text": [
        "\n",
        "Not copying HourlyData/Archive/2013/2013090921.dat to 2013/2013090921.dat because modification times are identical"
       ]
      },
      {
       "output_type": "stream",
       "stream": "stdout",
       "text": [
        "\n",
        "Not copying HourlyData/Archive/2013/2013090922.dat to 2013/2013090922.dat because modification times are identical"
       ]
      },
      {
       "output_type": "stream",
       "stream": "stdout",
       "text": [
        "\n",
        "Not copying HourlyData/Archive/2013/2013090923.dat to 2013/2013090923.dat because modification times are identical"
       ]
      },
      {
       "output_type": "stream",
       "stream": "stdout",
       "text": [
        "\n",
        "Not copying HourlyData/Archive/2013/2013091000.dat to 2013/2013091000.dat because modification times are identical"
       ]
      },
      {
       "output_type": "stream",
       "stream": "stdout",
       "text": [
        "\n",
        "Not copying HourlyData/Archive/2013/2013091001.dat to 2013/2013091001.dat because modification times are identical"
       ]
      },
      {
       "output_type": "stream",
       "stream": "stdout",
       "text": [
        "\n",
        "Not copying HourlyData/Archive/2013/2013091002.dat to 2013/2013091002.dat because modification times are identical"
       ]
      },
      {
       "output_type": "stream",
       "stream": "stdout",
       "text": [
        "\n",
        "Not copying HourlyData/Archive/2013/2013091003.dat to 2013/2013091003.dat because modification times are identical"
       ]
      },
      {
       "output_type": "stream",
       "stream": "stdout",
       "text": [
        "\n",
        "Not copying HourlyData/Archive/2013/2013091004.dat to 2013/2013091004.dat because modification times are identical"
       ]
      },
      {
       "output_type": "stream",
       "stream": "stdout",
       "text": [
        "\n",
        "Not copying HourlyData/Archive/2013/2013091005.dat to 2013/2013091005.dat because modification times are identical"
       ]
      },
      {
       "output_type": "stream",
       "stream": "stdout",
       "text": [
        "\n",
        "Not copying HourlyData/Archive/2013/2013091006.dat to 2013/2013091006.dat because modification times are identical"
       ]
      },
      {
       "output_type": "stream",
       "stream": "stdout",
       "text": [
        "\n",
        "Not copying HourlyData/Archive/2013/2013091007.dat to 2013/2013091007.dat because modification times are identical"
       ]
      },
      {
       "output_type": "stream",
       "stream": "stdout",
       "text": [
        "\n",
        "Not copying HourlyData/Archive/2013/2013091008.dat to 2013/2013091008.dat because modification times are identical"
       ]
      },
      {
       "output_type": "stream",
       "stream": "stdout",
       "text": [
        "\n",
        "Not copying HourlyData/Archive/2013/2013091009.dat to 2013/2013091009.dat because modification times are identical"
       ]
      },
      {
       "output_type": "stream",
       "stream": "stdout",
       "text": [
        "\n",
        "Not copying HourlyData/Archive/2013/2013091010.dat to 2013/2013091010.dat because modification times are identical"
       ]
      },
      {
       "output_type": "stream",
       "stream": "stdout",
       "text": [
        "\n",
        "Not copying HourlyData/Archive/2013/2013091011.dat to 2013/2013091011.dat because modification times are identical"
       ]
      },
      {
       "output_type": "stream",
       "stream": "stdout",
       "text": [
        "\n",
        "Not copying HourlyData/Archive/2013/2013091012.dat to 2013/2013091012.dat because modification times are identical"
       ]
      },
      {
       "output_type": "stream",
       "stream": "stdout",
       "text": [
        "\n",
        "Not copying HourlyData/Archive/2013/2013091013.dat to 2013/2013091013.dat because modification times are identical"
       ]
      },
      {
       "output_type": "stream",
       "stream": "stdout",
       "text": [
        "\n",
        "Not copying HourlyData/Archive/2013/2013091014.dat to 2013/2013091014.dat because modification times are identical"
       ]
      },
      {
       "output_type": "stream",
       "stream": "stdout",
       "text": [
        "\n",
        "Not copying HourlyData/Archive/2013/2013091015.dat to 2013/2013091015.dat because modification times are identical"
       ]
      },
      {
       "output_type": "stream",
       "stream": "stdout",
       "text": [
        "\n",
        "Not copying HourlyData/Archive/2013/2013091016.dat to 2013/2013091016.dat because modification times are identical"
       ]
      },
      {
       "output_type": "stream",
       "stream": "stdout",
       "text": [
        "\n",
        "Not copying HourlyData/Archive/2013/2013091017.dat to 2013/2013091017.dat because modification times are identical"
       ]
      },
      {
       "output_type": "stream",
       "stream": "stdout",
       "text": [
        "\n",
        "Not copying HourlyData/Archive/2013/2013091018.dat to 2013/2013091018.dat because modification times are identical"
       ]
      },
      {
       "output_type": "stream",
       "stream": "stdout",
       "text": [
        "\n",
        "Not copying HourlyData/Archive/2013/2013091019.dat to 2013/2013091019.dat because modification times are identical"
       ]
      },
      {
       "output_type": "stream",
       "stream": "stdout",
       "text": [
        "\n",
        "Not copying HourlyData/Archive/2013/2013091020.dat to 2013/2013091020.dat because modification times are identical"
       ]
      },
      {
       "output_type": "stream",
       "stream": "stdout",
       "text": [
        "\n",
        "Not copying HourlyData/Archive/2013/2013091021.dat to 2013/2013091021.dat because modification times are identical"
       ]
      },
      {
       "output_type": "stream",
       "stream": "stdout",
       "text": [
        "\n",
        "Not copying HourlyData/Archive/2013/2013091022.dat to 2013/2013091022.dat because modification times are identical"
       ]
      },
      {
       "output_type": "stream",
       "stream": "stdout",
       "text": [
        "\n",
        "Not copying HourlyData/Archive/2013/2013091023.dat to 2013/2013091023.dat because modification times are identical"
       ]
      },
      {
       "output_type": "stream",
       "stream": "stdout",
       "text": [
        "\n",
        "Not copying HourlyData/Archive/2013/2013091100.dat to 2013/2013091100.dat because modification times are identical"
       ]
      },
      {
       "output_type": "stream",
       "stream": "stdout",
       "text": [
        "\n",
        "Not copying HourlyData/Archive/2013/2013091101.dat to 2013/2013091101.dat because modification times are identical"
       ]
      },
      {
       "output_type": "stream",
       "stream": "stdout",
       "text": [
        "\n",
        "Not copying HourlyData/Archive/2013/2013091102.dat to 2013/2013091102.dat because modification times are identical"
       ]
      },
      {
       "output_type": "stream",
       "stream": "stdout",
       "text": [
        "\n",
        "Not copying HourlyData/Archive/2013/2013091103.dat to 2013/2013091103.dat because modification times are identical"
       ]
      },
      {
       "output_type": "stream",
       "stream": "stdout",
       "text": [
        "\n",
        "Not copying HourlyData/Archive/2013/2013091104.dat to 2013/2013091104.dat because modification times are identical"
       ]
      },
      {
       "output_type": "stream",
       "stream": "stdout",
       "text": [
        "\n",
        "Not copying HourlyData/Archive/2013/2013091105.dat to 2013/2013091105.dat because modification times are identical"
       ]
      },
      {
       "output_type": "stream",
       "stream": "stdout",
       "text": [
        "\n",
        "Not copying HourlyData/Archive/2013/2013091106.dat to 2013/2013091106.dat because modification times are identical"
       ]
      },
      {
       "output_type": "stream",
       "stream": "stdout",
       "text": [
        "\n",
        "Not copying HourlyData/Archive/2013/2013091107.dat to 2013/2013091107.dat because modification times are identical"
       ]
      },
      {
       "output_type": "stream",
       "stream": "stdout",
       "text": [
        "\n",
        "Not copying HourlyData/Archive/2013/2013091108.dat to 2013/2013091108.dat because modification times are identical"
       ]
      },
      {
       "output_type": "stream",
       "stream": "stdout",
       "text": [
        "\n",
        "Not copying HourlyData/Archive/2013/2013091109.dat to 2013/2013091109.dat because modification times are identical"
       ]
      },
      {
       "output_type": "stream",
       "stream": "stdout",
       "text": [
        "\n",
        "Not copying HourlyData/Archive/2013/2013091110.dat to 2013/2013091110.dat because modification times are identical"
       ]
      },
      {
       "output_type": "stream",
       "stream": "stdout",
       "text": [
        "\n",
        "Not copying HourlyData/Archive/2013/2013091111.dat to 2013/2013091111.dat because modification times are identical"
       ]
      },
      {
       "output_type": "stream",
       "stream": "stdout",
       "text": [
        "\n",
        "Not copying HourlyData/Archive/2013/2013091112.dat to 2013/2013091112.dat because modification times are identical"
       ]
      },
      {
       "output_type": "stream",
       "stream": "stdout",
       "text": [
        "\n",
        "Not copying HourlyData/Archive/2013/2013091113.dat to 2013/2013091113.dat because modification times are identical"
       ]
      },
      {
       "output_type": "stream",
       "stream": "stdout",
       "text": [
        "\n",
        "Not copying HourlyData/Archive/2013/2013091114.dat to 2013/2013091114.dat because modification times are identical"
       ]
      },
      {
       "output_type": "stream",
       "stream": "stdout",
       "text": [
        "\n",
        "Not copying HourlyData/Archive/2013/2013091115.dat to 2013/2013091115.dat because modification times are identical"
       ]
      },
      {
       "output_type": "stream",
       "stream": "stdout",
       "text": [
        "\n",
        "Not copying HourlyData/Archive/2013/2013091116.dat to 2013/2013091116.dat because modification times are identical"
       ]
      },
      {
       "output_type": "stream",
       "stream": "stdout",
       "text": [
        "\n",
        "Not copying HourlyData/Archive/2013/2013091117.dat to 2013/2013091117.dat because modification times are identical"
       ]
      },
      {
       "output_type": "stream",
       "stream": "stdout",
       "text": [
        "\n",
        "Not copying HourlyData/Archive/2013/2013091118.dat to 2013/2013091118.dat because modification times are identical"
       ]
      },
      {
       "output_type": "stream",
       "stream": "stdout",
       "text": [
        "\n",
        "Not copying HourlyData/Archive/2013/2013091119.dat to 2013/2013091119.dat because modification times are identical"
       ]
      },
      {
       "output_type": "stream",
       "stream": "stdout",
       "text": [
        "\n",
        "Not copying HourlyData/Archive/2013/2013091120.dat to 2013/2013091120.dat because modification times are identical"
       ]
      },
      {
       "output_type": "stream",
       "stream": "stdout",
       "text": [
        "\n",
        "Not copying HourlyData/Archive/2013/2013091121.dat to 2013/2013091121.dat because modification times are identical"
       ]
      },
      {
       "output_type": "stream",
       "stream": "stdout",
       "text": [
        "\n",
        "Not copying HourlyData/Archive/2013/2013091122.dat to 2013/2013091122.dat because modification times are identical"
       ]
      },
      {
       "output_type": "stream",
       "stream": "stdout",
       "text": [
        "\n",
        "Not copying HourlyData/Archive/2013/2013091123.dat to 2013/2013091123.dat because modification times are identical"
       ]
      },
      {
       "output_type": "stream",
       "stream": "stdout",
       "text": [
        "\n",
        "Not copying HourlyData/Archive/2013/2013091200.dat to 2013/2013091200.dat because modification times are identical"
       ]
      },
      {
       "output_type": "stream",
       "stream": "stdout",
       "text": [
        "\n",
        "Not copying HourlyData/Archive/2013/2013091201.dat to 2013/2013091201.dat because modification times are identical"
       ]
      },
      {
       "output_type": "stream",
       "stream": "stdout",
       "text": [
        "\n",
        "Not copying HourlyData/Archive/2013/2013091202.dat to 2013/2013091202.dat because modification times are identical"
       ]
      },
      {
       "output_type": "stream",
       "stream": "stdout",
       "text": [
        "\n",
        "Not copying HourlyData/Archive/2013/2013091203.dat to 2013/2013091203.dat because modification times are identical"
       ]
      },
      {
       "output_type": "stream",
       "stream": "stdout",
       "text": [
        "\n",
        "Not copying HourlyData/Archive/2013/2013091204.dat to 2013/2013091204.dat because modification times are identical"
       ]
      },
      {
       "output_type": "stream",
       "stream": "stdout",
       "text": [
        "\n",
        "Not copying HourlyData/Archive/2013/2013091205.dat to 2013/2013091205.dat because modification times are identical"
       ]
      },
      {
       "output_type": "stream",
       "stream": "stdout",
       "text": [
        "\n",
        "Not copying HourlyData/Archive/2013/2013091206.dat to 2013/2013091206.dat because modification times are identical"
       ]
      },
      {
       "output_type": "stream",
       "stream": "stdout",
       "text": [
        "\n",
        "Not copying HourlyData/Archive/2013/2013091207.dat to 2013/2013091207.dat because modification times are identical"
       ]
      },
      {
       "output_type": "stream",
       "stream": "stdout",
       "text": [
        "\n",
        "Not copying HourlyData/Archive/2013/2013091208.dat to 2013/2013091208.dat because modification times are identical"
       ]
      },
      {
       "output_type": "stream",
       "stream": "stdout",
       "text": [
        "\n",
        "Not copying HourlyData/Archive/2013/2013091209.dat to 2013/2013091209.dat because modification times are identical"
       ]
      },
      {
       "output_type": "stream",
       "stream": "stdout",
       "text": [
        "\n",
        "Not copying HourlyData/Archive/2013/2013091210.dat to 2013/2013091210.dat because modification times are identical"
       ]
      },
      {
       "output_type": "stream",
       "stream": "stdout",
       "text": [
        "\n",
        "Not copying HourlyData/Archive/2013/2013091211.dat to 2013/2013091211.dat because modification times are identical"
       ]
      },
      {
       "output_type": "stream",
       "stream": "stdout",
       "text": [
        "\n",
        "Not copying HourlyData/Archive/2013/2013091212.dat to 2013/2013091212.dat because modification times are identical"
       ]
      },
      {
       "output_type": "stream",
       "stream": "stdout",
       "text": [
        "\n",
        "Not copying HourlyData/Archive/2013/2013091213.dat to 2013/2013091213.dat because modification times are identical"
       ]
      },
      {
       "output_type": "stream",
       "stream": "stdout",
       "text": [
        "\n",
        "Not copying HourlyData/Archive/2013/2013091214.dat to 2013/2013091214.dat because modification times are identical"
       ]
      },
      {
       "output_type": "stream",
       "stream": "stdout",
       "text": [
        "\n",
        "Not copying HourlyData/Archive/2013/2013091215.dat to 2013/2013091215.dat because modification times are identical"
       ]
      },
      {
       "output_type": "stream",
       "stream": "stdout",
       "text": [
        "\n",
        "Not copying HourlyData/Archive/2013/2013091216.dat to 2013/2013091216.dat because modification times are identical"
       ]
      },
      {
       "output_type": "stream",
       "stream": "stdout",
       "text": [
        "\n",
        "Not copying HourlyData/Archive/2013/2013091217.dat to 2013/2013091217.dat because modification times are identical"
       ]
      },
      {
       "output_type": "stream",
       "stream": "stdout",
       "text": [
        "\n",
        "Not copying HourlyData/Archive/2013/2013091218.dat to 2013/2013091218.dat because modification times are identical"
       ]
      },
      {
       "output_type": "stream",
       "stream": "stdout",
       "text": [
        "\n",
        "Not copying HourlyData/Archive/2013/2013091219.dat to 2013/2013091219.dat because modification times are identical"
       ]
      },
      {
       "output_type": "stream",
       "stream": "stdout",
       "text": [
        "\n",
        "Not copying HourlyData/Archive/2013/2013091220.dat to 2013/2013091220.dat because modification times are identical"
       ]
      },
      {
       "output_type": "stream",
       "stream": "stdout",
       "text": [
        "\n",
        "Not copying HourlyData/Archive/2013/2013091221.dat to 2013/2013091221.dat because modification times are identical"
       ]
      },
      {
       "output_type": "stream",
       "stream": "stdout",
       "text": [
        "\n",
        "Not copying HourlyData/Archive/2013/2013091222.dat to 2013/2013091222.dat because modification times are identical"
       ]
      },
      {
       "output_type": "stream",
       "stream": "stdout",
       "text": [
        "\n",
        "Not copying HourlyData/Archive/2013/2013091223.dat to 2013/2013091223.dat because modification times are identical"
       ]
      },
      {
       "output_type": "stream",
       "stream": "stdout",
       "text": [
        "\n",
        "Not copying HourlyData/Archive/2013/2013091300.dat to 2013/2013091300.dat because modification times are identical"
       ]
      },
      {
       "output_type": "stream",
       "stream": "stdout",
       "text": [
        "\n",
        "Not copying HourlyData/Archive/2013/2013091301.dat to 2013/2013091301.dat because modification times are identical"
       ]
      },
      {
       "output_type": "stream",
       "stream": "stdout",
       "text": [
        "\n",
        "Not copying HourlyData/Archive/2013/2013091302.dat to 2013/2013091302.dat because modification times are identical"
       ]
      },
      {
       "output_type": "stream",
       "stream": "stdout",
       "text": [
        "\n",
        "Not copying HourlyData/Archive/2013/2013091303.dat to 2013/2013091303.dat because modification times are identical"
       ]
      },
      {
       "output_type": "stream",
       "stream": "stdout",
       "text": [
        "\n",
        "Not copying HourlyData/Archive/2013/2013091304.dat to 2013/2013091304.dat because modification times are identical"
       ]
      },
      {
       "output_type": "stream",
       "stream": "stdout",
       "text": [
        "\n",
        "Not copying HourlyData/Archive/2013/2013091305.dat to 2013/2013091305.dat because modification times are identical"
       ]
      },
      {
       "output_type": "stream",
       "stream": "stdout",
       "text": [
        "\n",
        "Not copying HourlyData/Archive/2013/2013091306.dat to 2013/2013091306.dat because modification times are identical"
       ]
      },
      {
       "output_type": "stream",
       "stream": "stdout",
       "text": [
        "\n",
        "Not copying HourlyData/Archive/2013/2013091307.dat to 2013/2013091307.dat because modification times are identical"
       ]
      },
      {
       "output_type": "stream",
       "stream": "stdout",
       "text": [
        "\n",
        "Not copying HourlyData/Archive/2013/2013091308.dat to 2013/2013091308.dat because modification times are identical"
       ]
      },
      {
       "output_type": "stream",
       "stream": "stdout",
       "text": [
        "\n",
        "Not copying HourlyData/Archive/2013/2013091309.dat to 2013/2013091309.dat because modification times are identical"
       ]
      },
      {
       "output_type": "stream",
       "stream": "stdout",
       "text": [
        "\n",
        "Not copying HourlyData/Archive/2013/2013091310.dat to 2013/2013091310.dat because modification times are identical"
       ]
      },
      {
       "output_type": "stream",
       "stream": "stdout",
       "text": [
        "\n",
        "Not copying HourlyData/Archive/2013/2013091311.dat to 2013/2013091311.dat because modification times are identical"
       ]
      },
      {
       "output_type": "stream",
       "stream": "stdout",
       "text": [
        "\n",
        "Not copying HourlyData/Archive/2013/2013091312.dat to 2013/2013091312.dat because modification times are identical"
       ]
      },
      {
       "output_type": "stream",
       "stream": "stdout",
       "text": [
        "\n",
        "Not copying HourlyData/Archive/2013/2013091313.dat to 2013/2013091313.dat because modification times are identical"
       ]
      },
      {
       "output_type": "stream",
       "stream": "stdout",
       "text": [
        "\n",
        "Not copying HourlyData/Archive/2013/2013091314.dat to 2013/2013091314.dat because modification times are identical"
       ]
      },
      {
       "output_type": "stream",
       "stream": "stdout",
       "text": [
        "\n",
        "Not copying HourlyData/Archive/2013/2013091315.dat to 2013/2013091315.dat because modification times are identical"
       ]
      },
      {
       "output_type": "stream",
       "stream": "stdout",
       "text": [
        "\n",
        "Not copying HourlyData/Archive/2013/2013091316.dat to 2013/2013091316.dat because modification times are identical"
       ]
      },
      {
       "output_type": "stream",
       "stream": "stdout",
       "text": [
        "\n",
        "Not copying HourlyData/Archive/2013/2013091317.dat to 2013/2013091317.dat because modification times are identical"
       ]
      },
      {
       "output_type": "stream",
       "stream": "stdout",
       "text": [
        "\n",
        "Not copying HourlyData/Archive/2013/2013091318.dat to 2013/2013091318.dat because modification times are identical"
       ]
      },
      {
       "output_type": "stream",
       "stream": "stdout",
       "text": [
        "\n",
        "Not copying HourlyData/Archive/2013/2013091319.dat to 2013/2013091319.dat because modification times are identical"
       ]
      },
      {
       "output_type": "stream",
       "stream": "stdout",
       "text": [
        "\n",
        "Not copying HourlyData/Archive/2013/2013091320.dat to 2013/2013091320.dat because modification times are identical"
       ]
      },
      {
       "output_type": "stream",
       "stream": "stdout",
       "text": [
        "\n",
        "Not copying HourlyData/Archive/2013/2013091321.dat to 2013/2013091321.dat because modification times are identical"
       ]
      },
      {
       "output_type": "stream",
       "stream": "stdout",
       "text": [
        "\n",
        "Not copying HourlyData/Archive/2013/2013091322.dat to 2013/2013091322.dat because modification times are identical"
       ]
      },
      {
       "output_type": "stream",
       "stream": "stdout",
       "text": [
        "\n",
        "Not copying HourlyData/Archive/2013/2013091323.dat to 2013/2013091323.dat because modification times are identical"
       ]
      },
      {
       "output_type": "stream",
       "stream": "stdout",
       "text": [
        "\n",
        "Not copying HourlyData/Archive/2013/2013091400.dat to 2013/2013091400.dat because modification times are identical"
       ]
      },
      {
       "output_type": "stream",
       "stream": "stdout",
       "text": [
        "\n",
        "Not copying HourlyData/Archive/2013/2013091401.dat to 2013/2013091401.dat because modification times are identical"
       ]
      },
      {
       "output_type": "stream",
       "stream": "stdout",
       "text": [
        "\n",
        "Not copying HourlyData/Archive/2013/2013091402.dat to 2013/2013091402.dat because modification times are identical"
       ]
      },
      {
       "output_type": "stream",
       "stream": "stdout",
       "text": [
        "\n",
        "Not copying HourlyData/Archive/2013/2013091403.dat to 2013/2013091403.dat because modification times are identical"
       ]
      },
      {
       "output_type": "stream",
       "stream": "stdout",
       "text": [
        "\n",
        "Not copying HourlyData/Archive/2013/2013091404.dat to 2013/2013091404.dat because modification times are identical"
       ]
      },
      {
       "output_type": "stream",
       "stream": "stdout",
       "text": [
        "\n",
        "Not copying HourlyData/Archive/2013/2013091405.dat to 2013/2013091405.dat because modification times are identical"
       ]
      },
      {
       "output_type": "stream",
       "stream": "stdout",
       "text": [
        "\n",
        "Not copying HourlyData/Archive/2013/2013091406.dat to 2013/2013091406.dat because modification times are identical"
       ]
      },
      {
       "output_type": "stream",
       "stream": "stdout",
       "text": [
        "\n",
        "Not copying HourlyData/Archive/2013/2013091407.dat to 2013/2013091407.dat because modification times are identical"
       ]
      },
      {
       "output_type": "stream",
       "stream": "stdout",
       "text": [
        "\n",
        "Not copying HourlyData/Archive/2013/2013091408.dat to 2013/2013091408.dat because modification times are identical"
       ]
      },
      {
       "output_type": "stream",
       "stream": "stdout",
       "text": [
        "\n",
        "Not copying HourlyData/Archive/2013/2013091409.dat to 2013/2013091409.dat because modification times are identical"
       ]
      },
      {
       "output_type": "stream",
       "stream": "stdout",
       "text": [
        "\n",
        "Not copying HourlyData/Archive/2013/2013091410.dat to 2013/2013091410.dat because modification times are identical"
       ]
      },
      {
       "output_type": "stream",
       "stream": "stdout",
       "text": [
        "\n",
        "Not copying HourlyData/Archive/2013/2013091411.dat to 2013/2013091411.dat because modification times are identical"
       ]
      },
      {
       "output_type": "stream",
       "stream": "stdout",
       "text": [
        "\n",
        "Not copying HourlyData/Archive/2013/2013091412.dat to 2013/2013091412.dat because modification times are identical"
       ]
      },
      {
       "output_type": "stream",
       "stream": "stdout",
       "text": [
        "\n",
        "Not copying HourlyData/Archive/2013/2013091413.dat to 2013/2013091413.dat because modification times are identical"
       ]
      },
      {
       "output_type": "stream",
       "stream": "stdout",
       "text": [
        "\n",
        "Not copying HourlyData/Archive/2013/2013091414.dat to 2013/2013091414.dat because modification times are identical"
       ]
      },
      {
       "output_type": "stream",
       "stream": "stdout",
       "text": [
        "\n",
        "Not copying HourlyData/Archive/2013/2013091415.dat to 2013/2013091415.dat because modification times are identical"
       ]
      },
      {
       "output_type": "stream",
       "stream": "stdout",
       "text": [
        "\n",
        "Not copying HourlyData/Archive/2013/2013091416.dat to 2013/2013091416.dat because modification times are identical"
       ]
      },
      {
       "output_type": "stream",
       "stream": "stdout",
       "text": [
        "\n",
        "Not copying HourlyData/Archive/2013/2013091417.dat to 2013/2013091417.dat because modification times are identical"
       ]
      },
      {
       "output_type": "stream",
       "stream": "stdout",
       "text": [
        "\n",
        "Not copying HourlyData/Archive/2013/2013091418.dat to 2013/2013091418.dat because modification times are identical"
       ]
      },
      {
       "output_type": "stream",
       "stream": "stdout",
       "text": [
        "\n",
        "Not copying HourlyData/Archive/2013/2013091419.dat to 2013/2013091419.dat because modification times are identical"
       ]
      },
      {
       "output_type": "stream",
       "stream": "stdout",
       "text": [
        "\n",
        "Not copying HourlyData/Archive/2013/2013091420.dat to 2013/2013091420.dat because modification times are identical"
       ]
      },
      {
       "output_type": "stream",
       "stream": "stdout",
       "text": [
        "\n",
        "Not copying HourlyData/Archive/2013/2013091421.dat to 2013/2013091421.dat because modification times are identical"
       ]
      },
      {
       "output_type": "stream",
       "stream": "stdout",
       "text": [
        "\n",
        "Not copying HourlyData/Archive/2013/2013091422.dat to 2013/2013091422.dat because modification times are identical"
       ]
      },
      {
       "output_type": "stream",
       "stream": "stdout",
       "text": [
        "\n",
        "Not copying HourlyData/Archive/2013/2013091423.dat to 2013/2013091423.dat because modification times are identical"
       ]
      },
      {
       "output_type": "stream",
       "stream": "stdout",
       "text": [
        "\n",
        "Not copying HourlyData/Archive/2013/2013091500.dat to 2013/2013091500.dat because modification times are identical"
       ]
      },
      {
       "output_type": "stream",
       "stream": "stdout",
       "text": [
        "\n",
        "Not copying HourlyData/Archive/2013/2013091501.dat to 2013/2013091501.dat because modification times are identical"
       ]
      },
      {
       "output_type": "stream",
       "stream": "stdout",
       "text": [
        "\n",
        "Not copying HourlyData/Archive/2013/2013091502.dat to 2013/2013091502.dat because modification times are identical"
       ]
      },
      {
       "output_type": "stream",
       "stream": "stdout",
       "text": [
        "\n",
        "Not copying HourlyData/Archive/2013/2013091503.dat to 2013/2013091503.dat because modification times are identical"
       ]
      },
      {
       "output_type": "stream",
       "stream": "stdout",
       "text": [
        "\n",
        "Not copying HourlyData/Archive/2013/2013091504.dat to 2013/2013091504.dat because modification times are identical"
       ]
      },
      {
       "output_type": "stream",
       "stream": "stdout",
       "text": [
        "\n",
        "Not copying HourlyData/Archive/2013/2013091505.dat to 2013/2013091505.dat because modification times are identical"
       ]
      },
      {
       "output_type": "stream",
       "stream": "stdout",
       "text": [
        "\n",
        "Not copying HourlyData/Archive/2013/2013091506.dat to 2013/2013091506.dat because modification times are identical"
       ]
      },
      {
       "output_type": "stream",
       "stream": "stdout",
       "text": [
        "\n",
        "Not copying HourlyData/Archive/2013/2013091507.dat to 2013/2013091507.dat because modification times are identical"
       ]
      },
      {
       "output_type": "stream",
       "stream": "stdout",
       "text": [
        "\n",
        "Not copying HourlyData/Archive/2013/2013091508.dat to 2013/2013091508.dat because modification times are identical"
       ]
      },
      {
       "output_type": "stream",
       "stream": "stdout",
       "text": [
        "\n",
        "Not copying HourlyData/Archive/2013/2013091509.dat to 2013/2013091509.dat because modification times are identical"
       ]
      },
      {
       "output_type": "stream",
       "stream": "stdout",
       "text": [
        "\n",
        "Not copying HourlyData/Archive/2013/2013091510.dat to 2013/2013091510.dat because modification times are identical"
       ]
      },
      {
       "output_type": "stream",
       "stream": "stdout",
       "text": [
        "\n",
        "Not copying HourlyData/Archive/2013/2013091511.dat to 2013/2013091511.dat because modification times are identical"
       ]
      },
      {
       "output_type": "stream",
       "stream": "stdout",
       "text": [
        "\n",
        "Not copying HourlyData/Archive/2013/2013091512.dat to 2013/2013091512.dat because modification times are identical"
       ]
      },
      {
       "output_type": "stream",
       "stream": "stdout",
       "text": [
        "\n",
        "Not copying HourlyData/Archive/2013/2013091513.dat to 2013/2013091513.dat because modification times are identical"
       ]
      },
      {
       "output_type": "stream",
       "stream": "stdout",
       "text": [
        "\n",
        "Not copying HourlyData/Archive/2013/2013091514.dat to 2013/2013091514.dat because modification times are identical"
       ]
      },
      {
       "output_type": "stream",
       "stream": "stdout",
       "text": [
        "\n",
        "Not copying HourlyData/Archive/2013/2013091515.dat to 2013/2013091515.dat because modification times are identical"
       ]
      },
      {
       "output_type": "stream",
       "stream": "stdout",
       "text": [
        "\n",
        "Not copying HourlyData/Archive/2013/2013091516.dat to 2013/2013091516.dat because modification times are identical"
       ]
      },
      {
       "output_type": "stream",
       "stream": "stdout",
       "text": [
        "\n",
        "Not copying HourlyData/Archive/2013/2013091517.dat to 2013/2013091517.dat because modification times are identical"
       ]
      },
      {
       "output_type": "stream",
       "stream": "stdout",
       "text": [
        "\n",
        "Not copying HourlyData/Archive/2013/2013091518.dat to 2013/2013091518.dat because modification times are identical"
       ]
      },
      {
       "output_type": "stream",
       "stream": "stdout",
       "text": [
        "\n",
        "Not copying HourlyData/Archive/2013/2013091519.dat to 2013/2013091519.dat because modification times are identical"
       ]
      },
      {
       "output_type": "stream",
       "stream": "stdout",
       "text": [
        "\n",
        "Not copying HourlyData/Archive/2013/2013091520.dat to 2013/2013091520.dat because modification times are identical"
       ]
      },
      {
       "output_type": "stream",
       "stream": "stdout",
       "text": [
        "\n",
        "Not copying HourlyData/Archive/2013/2013091521.dat to 2013/2013091521.dat because modification times are identical"
       ]
      },
      {
       "output_type": "stream",
       "stream": "stdout",
       "text": [
        "\n",
        "Not copying HourlyData/Archive/2013/2013091522.dat to 2013/2013091522.dat because modification times are identical"
       ]
      },
      {
       "output_type": "stream",
       "stream": "stdout",
       "text": [
        "\n",
        "Not copying HourlyData/Archive/2013/2013091523.dat to 2013/2013091523.dat because modification times are identical"
       ]
      },
      {
       "output_type": "stream",
       "stream": "stdout",
       "text": [
        "\n",
        "Not copying HourlyData/Archive/2013/2013091600.dat to 2013/2013091600.dat because modification times are identical"
       ]
      },
      {
       "output_type": "stream",
       "stream": "stdout",
       "text": [
        "\n",
        "Not copying HourlyData/Archive/2013/2013091601.dat to 2013/2013091601.dat because modification times are identical"
       ]
      },
      {
       "output_type": "stream",
       "stream": "stdout",
       "text": [
        "\n",
        "Not copying HourlyData/Archive/2013/2013091602.dat to 2013/2013091602.dat because modification times are identical"
       ]
      },
      {
       "output_type": "stream",
       "stream": "stdout",
       "text": [
        "\n",
        "Not copying HourlyData/Archive/2013/2013091603.dat to 2013/2013091603.dat because modification times are identical"
       ]
      },
      {
       "output_type": "stream",
       "stream": "stdout",
       "text": [
        "\n",
        "Not copying HourlyData/Archive/2013/2013091604.dat to 2013/2013091604.dat because modification times are identical"
       ]
      },
      {
       "output_type": "stream",
       "stream": "stdout",
       "text": [
        "\n",
        "Not copying HourlyData/Archive/2013/2013091605.dat to 2013/2013091605.dat because modification times are identical"
       ]
      },
      {
       "output_type": "stream",
       "stream": "stdout",
       "text": [
        "\n",
        "Not copying HourlyData/Archive/2013/2013091606.dat to 2013/2013091606.dat because modification times are identical"
       ]
      },
      {
       "output_type": "stream",
       "stream": "stdout",
       "text": [
        "\n",
        "Not copying HourlyData/Archive/2013/2013091607.dat to 2013/2013091607.dat because modification times are identical"
       ]
      },
      {
       "output_type": "stream",
       "stream": "stdout",
       "text": [
        "\n",
        "Not copying HourlyData/Archive/2013/2013091608.dat to 2013/2013091608.dat because modification times are identical"
       ]
      },
      {
       "output_type": "stream",
       "stream": "stdout",
       "text": [
        "\n",
        "Not copying HourlyData/Archive/2013/2013091609.dat to 2013/2013091609.dat because modification times are identical"
       ]
      },
      {
       "output_type": "stream",
       "stream": "stdout",
       "text": [
        "\n",
        "Not copying HourlyData/Archive/2013/2013091610.dat to 2013/2013091610.dat because modification times are identical"
       ]
      },
      {
       "output_type": "stream",
       "stream": "stdout",
       "text": [
        "\n",
        "Not copying HourlyData/Archive/2013/2013091611.dat to 2013/2013091611.dat because modification times are identical"
       ]
      },
      {
       "output_type": "stream",
       "stream": "stdout",
       "text": [
        "\n",
        "Not copying HourlyData/Archive/2013/2013091612.dat to 2013/2013091612.dat because modification times are identical"
       ]
      },
      {
       "output_type": "stream",
       "stream": "stdout",
       "text": [
        "\n",
        "Not copying HourlyData/Archive/2013/2013091613.dat to 2013/2013091613.dat because modification times are identical"
       ]
      },
      {
       "output_type": "stream",
       "stream": "stdout",
       "text": [
        "\n",
        "Not copying HourlyData/Archive/2013/2013091614.dat to 2013/2013091614.dat because modification times are identical"
       ]
      },
      {
       "output_type": "stream",
       "stream": "stdout",
       "text": [
        "\n",
        "Not copying HourlyData/Archive/2013/2013091615.dat to 2013/2013091615.dat because modification times are identical"
       ]
      },
      {
       "output_type": "stream",
       "stream": "stdout",
       "text": [
        "\n",
        "Not copying HourlyData/Archive/2013/2013091616.dat to 2013/2013091616.dat because modification times are identical"
       ]
      },
      {
       "output_type": "stream",
       "stream": "stdout",
       "text": [
        "\n",
        "Not copying HourlyData/Archive/2013/2013091617.dat to 2013/2013091617.dat because modification times are identical"
       ]
      },
      {
       "output_type": "stream",
       "stream": "stdout",
       "text": [
        "\n",
        "Not copying HourlyData/Archive/2013/2013091618.dat to 2013/2013091618.dat because modification times are identical"
       ]
      },
      {
       "output_type": "stream",
       "stream": "stdout",
       "text": [
        "\n",
        "Not copying HourlyData/Archive/2013/2013091619.dat to 2013/2013091619.dat because modification times are identical"
       ]
      },
      {
       "output_type": "stream",
       "stream": "stdout",
       "text": [
        "\n",
        "Not copying HourlyData/Archive/2013/2013091620.dat to 2013/2013091620.dat because modification times are identical"
       ]
      },
      {
       "output_type": "stream",
       "stream": "stdout",
       "text": [
        "\n",
        "Not copying HourlyData/Archive/2013/2013091621.dat to 2013/2013091621.dat because modification times are identical"
       ]
      },
      {
       "output_type": "stream",
       "stream": "stdout",
       "text": [
        "\n",
        "Not copying HourlyData/Archive/2013/2013091622.dat to 2013/2013091622.dat because modification times are identical"
       ]
      },
      {
       "output_type": "stream",
       "stream": "stdout",
       "text": [
        "\n",
        "Not copying HourlyData/Archive/2013/2013091623.dat to 2013/2013091623.dat because modification times are identical"
       ]
      },
      {
       "output_type": "stream",
       "stream": "stdout",
       "text": [
        "\n",
        "Not copying HourlyData/Archive/2013/2013091700.dat to 2013/2013091700.dat because modification times are identical"
       ]
      },
      {
       "output_type": "stream",
       "stream": "stdout",
       "text": [
        "\n",
        "Not copying HourlyData/Archive/2013/2013091701.dat to 2013/2013091701.dat because modification times are identical"
       ]
      },
      {
       "output_type": "stream",
       "stream": "stdout",
       "text": [
        "\n",
        "Not copying HourlyData/Archive/2013/2013091702.dat to 2013/2013091702.dat because modification times are identical"
       ]
      },
      {
       "output_type": "stream",
       "stream": "stdout",
       "text": [
        "\n",
        "Not copying HourlyData/Archive/2013/2013091703.dat to 2013/2013091703.dat because modification times are identical"
       ]
      },
      {
       "output_type": "stream",
       "stream": "stdout",
       "text": [
        "\n",
        "Not copying HourlyData/Archive/2013/2013091704.dat to 2013/2013091704.dat because modification times are identical"
       ]
      },
      {
       "output_type": "stream",
       "stream": "stdout",
       "text": [
        "\n",
        "Not copying HourlyData/Archive/2013/2013091705.dat to 2013/2013091705.dat because modification times are identical"
       ]
      },
      {
       "output_type": "stream",
       "stream": "stdout",
       "text": [
        "\n",
        "Not copying HourlyData/Archive/2013/2013091706.dat to 2013/2013091706.dat because modification times are identical"
       ]
      },
      {
       "output_type": "stream",
       "stream": "stdout",
       "text": [
        "\n",
        "Not copying HourlyData/Archive/2013/2013091707.dat to 2013/2013091707.dat because modification times are identical"
       ]
      },
      {
       "output_type": "stream",
       "stream": "stdout",
       "text": [
        "\n",
        "Not copying HourlyData/Archive/2013/2013091708.dat to 2013/2013091708.dat because modification times are identical"
       ]
      },
      {
       "output_type": "stream",
       "stream": "stdout",
       "text": [
        "\n",
        "Not copying HourlyData/Archive/2013/2013091709.dat to 2013/2013091709.dat because modification times are identical"
       ]
      },
      {
       "output_type": "stream",
       "stream": "stdout",
       "text": [
        "\n",
        "Not copying HourlyData/Archive/2013/2013091710.dat to 2013/2013091710.dat because modification times are identical"
       ]
      },
      {
       "output_type": "stream",
       "stream": "stdout",
       "text": [
        "\n",
        "Not copying HourlyData/Archive/2013/2013091711.dat to 2013/2013091711.dat because modification times are identical"
       ]
      },
      {
       "output_type": "stream",
       "stream": "stdout",
       "text": [
        "\n",
        "Not copying HourlyData/Archive/2013/2013091712.dat to 2013/2013091712.dat because modification times are identical"
       ]
      },
      {
       "output_type": "stream",
       "stream": "stdout",
       "text": [
        "\n",
        "Not copying HourlyData/Archive/2013/2013091713.dat to 2013/2013091713.dat because modification times are identical"
       ]
      },
      {
       "output_type": "stream",
       "stream": "stdout",
       "text": [
        "\n",
        "Not copying HourlyData/Archive/2013/2013091714.dat to 2013/2013091714.dat because modification times are identical"
       ]
      },
      {
       "output_type": "stream",
       "stream": "stdout",
       "text": [
        "\n",
        "Not copying HourlyData/Archive/2013/2013091715.dat to 2013/2013091715.dat because modification times are identical"
       ]
      },
      {
       "output_type": "stream",
       "stream": "stdout",
       "text": [
        "\n",
        "Not copying HourlyData/Archive/2013/2013091716.dat to 2013/2013091716.dat because modification times are identical"
       ]
      },
      {
       "output_type": "stream",
       "stream": "stdout",
       "text": [
        "\n",
        "Not copying HourlyData/Archive/2013/2013091717.dat to 2013/2013091717.dat because modification times are identical"
       ]
      },
      {
       "output_type": "stream",
       "stream": "stdout",
       "text": [
        "\n",
        "Not copying HourlyData/Archive/2013/2013091718.dat to 2013/2013091718.dat because modification times are identical"
       ]
      },
      {
       "output_type": "stream",
       "stream": "stdout",
       "text": [
        "\n",
        "Not copying HourlyData/Archive/2013/2013091719.dat to 2013/2013091719.dat because modification times are identical"
       ]
      },
      {
       "output_type": "stream",
       "stream": "stdout",
       "text": [
        "\n",
        "Not copying HourlyData/Archive/2013/2013091720.dat to 2013/2013091720.dat because modification times are identical"
       ]
      },
      {
       "output_type": "stream",
       "stream": "stdout",
       "text": [
        "\n",
        "Not copying HourlyData/Archive/2013/2013091721.dat to 2013/2013091721.dat because modification times are identical"
       ]
      },
      {
       "output_type": "stream",
       "stream": "stdout",
       "text": [
        "\n",
        "Not copying HourlyData/Archive/2013/2013091722.dat to 2013/2013091722.dat because modification times are identical"
       ]
      },
      {
       "output_type": "stream",
       "stream": "stdout",
       "text": [
        "\n",
        "Not copying HourlyData/Archive/2013/2013091723.dat to 2013/2013091723.dat because modification times are identical"
       ]
      },
      {
       "output_type": "stream",
       "stream": "stdout",
       "text": [
        "\n",
        "Not copying HourlyData/Archive/2013/2013091800.dat to 2013/2013091800.dat because modification times are identical"
       ]
      },
      {
       "output_type": "stream",
       "stream": "stdout",
       "text": [
        "\n",
        "Not copying HourlyData/Archive/2013/2013091801.dat to 2013/2013091801.dat because modification times are identical"
       ]
      },
      {
       "output_type": "stream",
       "stream": "stdout",
       "text": [
        "\n",
        "Not copying HourlyData/Archive/2013/2013091802.dat to 2013/2013091802.dat because modification times are identical"
       ]
      },
      {
       "output_type": "stream",
       "stream": "stdout",
       "text": [
        "\n",
        "Not copying HourlyData/Archive/2013/2013091803.dat to 2013/2013091803.dat because modification times are identical"
       ]
      },
      {
       "output_type": "stream",
       "stream": "stdout",
       "text": [
        "\n",
        "Not copying HourlyData/Archive/2013/2013091804.dat to 2013/2013091804.dat because modification times are identical"
       ]
      },
      {
       "output_type": "stream",
       "stream": "stdout",
       "text": [
        "\n",
        "Not copying HourlyData/Archive/2013/2013091805.dat to 2013/2013091805.dat because modification times are identical"
       ]
      },
      {
       "output_type": "stream",
       "stream": "stdout",
       "text": [
        "\n",
        "Not copying HourlyData/Archive/2013/2013091806.dat to 2013/2013091806.dat because modification times are identical"
       ]
      },
      {
       "output_type": "stream",
       "stream": "stdout",
       "text": [
        "\n",
        "Not copying HourlyData/Archive/2013/2013091807.dat to 2013/2013091807.dat because modification times are identical"
       ]
      },
      {
       "output_type": "stream",
       "stream": "stdout",
       "text": [
        "\n",
        "Not copying HourlyData/Archive/2013/2013091808.dat to 2013/2013091808.dat because modification times are identical"
       ]
      },
      {
       "output_type": "stream",
       "stream": "stdout",
       "text": [
        "\n",
        "Not copying HourlyData/Archive/2013/2013091809.dat to 2013/2013091809.dat because modification times are identical"
       ]
      },
      {
       "output_type": "stream",
       "stream": "stdout",
       "text": [
        "\n",
        "Not copying HourlyData/Archive/2013/2013091810.dat to 2013/2013091810.dat because modification times are identical"
       ]
      },
      {
       "output_type": "stream",
       "stream": "stdout",
       "text": [
        "\n",
        "Not copying HourlyData/Archive/2013/2013091811.dat to 2013/2013091811.dat because modification times are identical"
       ]
      },
      {
       "output_type": "stream",
       "stream": "stdout",
       "text": [
        "\n",
        "Not copying HourlyData/Archive/2013/2013091812.dat to 2013/2013091812.dat because modification times are identical"
       ]
      },
      {
       "output_type": "stream",
       "stream": "stdout",
       "text": [
        "\n",
        "Not copying HourlyData/Archive/2013/2013091813.dat to 2013/2013091813.dat because modification times are identical"
       ]
      },
      {
       "output_type": "stream",
       "stream": "stdout",
       "text": [
        "\n",
        "Not copying HourlyData/Archive/2013/2013091814.dat to 2013/2013091814.dat because modification times are identical"
       ]
      },
      {
       "output_type": "stream",
       "stream": "stdout",
       "text": [
        "\n",
        "Not copying HourlyData/Archive/2013/2013091815.dat to 2013/2013091815.dat because modification times are identical"
       ]
      },
      {
       "output_type": "stream",
       "stream": "stdout",
       "text": [
        "\n",
        "Not copying HourlyData/Archive/2013/2013091816.dat to 2013/2013091816.dat because modification times are identical"
       ]
      },
      {
       "output_type": "stream",
       "stream": "stdout",
       "text": [
        "\n",
        "Not copying HourlyData/Archive/2013/2013091817.dat to 2013/2013091817.dat because modification times are identical"
       ]
      },
      {
       "output_type": "stream",
       "stream": "stdout",
       "text": [
        "\n",
        "Not copying HourlyData/Archive/2013/2013091818.dat to 2013/2013091818.dat because modification times are identical"
       ]
      },
      {
       "output_type": "stream",
       "stream": "stdout",
       "text": [
        "\n",
        "Not copying HourlyData/Archive/2013/2013091819.dat to 2013/2013091819.dat because modification times are identical"
       ]
      },
      {
       "output_type": "stream",
       "stream": "stdout",
       "text": [
        "\n",
        "Not copying HourlyData/Archive/2013/2013091820.dat to 2013/2013091820.dat because modification times are identical"
       ]
      },
      {
       "output_type": "stream",
       "stream": "stdout",
       "text": [
        "\n",
        "Not copying HourlyData/Archive/2013/2013091821.dat to 2013/2013091821.dat because modification times are identical"
       ]
      },
      {
       "output_type": "stream",
       "stream": "stdout",
       "text": [
        "\n",
        "Not copying HourlyData/Archive/2013/2013091822.dat to 2013/2013091822.dat because modification times are identical"
       ]
      },
      {
       "output_type": "stream",
       "stream": "stdout",
       "text": [
        "\n",
        "Not copying HourlyData/Archive/2013/2013091823.dat to 2013/2013091823.dat because modification times are identical"
       ]
      },
      {
       "output_type": "stream",
       "stream": "stdout",
       "text": [
        "\n",
        "Not copying HourlyData/Archive/2013/2013091900.dat to 2013/2013091900.dat because modification times are identical"
       ]
      },
      {
       "output_type": "stream",
       "stream": "stdout",
       "text": [
        "\n",
        "Not copying HourlyData/Archive/2013/2013091901.dat to 2013/2013091901.dat because modification times are identical"
       ]
      },
      {
       "output_type": "stream",
       "stream": "stdout",
       "text": [
        "\n",
        "Not copying HourlyData/Archive/2013/2013091902.dat to 2013/2013091902.dat because modification times are identical"
       ]
      },
      {
       "output_type": "stream",
       "stream": "stdout",
       "text": [
        "\n",
        "Not copying HourlyData/Archive/2013/2013091903.dat to 2013/2013091903.dat because modification times are identical"
       ]
      },
      {
       "output_type": "stream",
       "stream": "stdout",
       "text": [
        "\n",
        "Not copying HourlyData/Archive/2013/2013091904.dat to 2013/2013091904.dat because modification times are identical"
       ]
      },
      {
       "output_type": "stream",
       "stream": "stdout",
       "text": [
        "\n",
        "Not copying HourlyData/Archive/2013/2013091905.dat to 2013/2013091905.dat because modification times are identical"
       ]
      },
      {
       "output_type": "stream",
       "stream": "stdout",
       "text": [
        "\n",
        "Not copying HourlyData/Archive/2013/2013091906.dat to 2013/2013091906.dat because modification times are identical"
       ]
      },
      {
       "output_type": "stream",
       "stream": "stdout",
       "text": [
        "\n",
        "Not copying HourlyData/Archive/2013/2013091907.dat to 2013/2013091907.dat because modification times are identical"
       ]
      },
      {
       "output_type": "stream",
       "stream": "stdout",
       "text": [
        "\n",
        "Not copying HourlyData/Archive/2013/2013091908.dat to 2013/2013091908.dat because modification times are identical"
       ]
      },
      {
       "output_type": "stream",
       "stream": "stdout",
       "text": [
        "\n",
        "Not copying HourlyData/Archive/2013/2013091909.dat to 2013/2013091909.dat because modification times are identical"
       ]
      },
      {
       "output_type": "stream",
       "stream": "stdout",
       "text": [
        "\n",
        "Not copying HourlyData/Archive/2013/2013091910.dat to 2013/2013091910.dat because modification times are identical"
       ]
      },
      {
       "output_type": "stream",
       "stream": "stdout",
       "text": [
        "\n",
        "Not copying HourlyData/Archive/2013/2013091911.dat to 2013/2013091911.dat because modification times are identical"
       ]
      },
      {
       "output_type": "stream",
       "stream": "stdout",
       "text": [
        "\n",
        "Not copying HourlyData/Archive/2013/2013091912.dat to 2013/2013091912.dat because modification times are identical"
       ]
      },
      {
       "output_type": "stream",
       "stream": "stdout",
       "text": [
        "\n",
        "Not copying HourlyData/Archive/2013/2013091913.dat to 2013/2013091913.dat because modification times are identical"
       ]
      },
      {
       "output_type": "stream",
       "stream": "stdout",
       "text": [
        "\n",
        "Not copying HourlyData/Archive/2013/2013091914.dat to 2013/2013091914.dat because modification times are identical"
       ]
      },
      {
       "output_type": "stream",
       "stream": "stdout",
       "text": [
        "\n",
        "Not copying HourlyData/Archive/2013/2013091915.dat to 2013/2013091915.dat because modification times are identical"
       ]
      },
      {
       "output_type": "stream",
       "stream": "stdout",
       "text": [
        "\n",
        "Not copying HourlyData/Archive/2013/2013091916.dat to 2013/2013091916.dat because modification times are identical"
       ]
      },
      {
       "output_type": "stream",
       "stream": "stdout",
       "text": [
        "\n",
        "Not copying HourlyData/Archive/2013/2013091917.dat to 2013/2013091917.dat because modification times are identical"
       ]
      },
      {
       "output_type": "stream",
       "stream": "stdout",
       "text": [
        "\n",
        "Not copying HourlyData/Archive/2013/2013091918.dat to 2013/2013091918.dat because modification times are identical"
       ]
      },
      {
       "output_type": "stream",
       "stream": "stdout",
       "text": [
        "\n",
        "Not copying HourlyData/Archive/2013/2013091919.dat to 2013/2013091919.dat because modification times are identical"
       ]
      },
      {
       "output_type": "stream",
       "stream": "stdout",
       "text": [
        "\n",
        "Not copying HourlyData/Archive/2013/2013091920.dat to 2013/2013091920.dat because modification times are identical"
       ]
      },
      {
       "output_type": "stream",
       "stream": "stdout",
       "text": [
        "\n",
        "Not copying HourlyData/Archive/2013/2013091921.dat to 2013/2013091921.dat because modification times are identical"
       ]
      },
      {
       "output_type": "stream",
       "stream": "stdout",
       "text": [
        "\n",
        "Not copying HourlyData/Archive/2013/2013091922.dat to 2013/2013091922.dat because modification times are identical"
       ]
      },
      {
       "output_type": "stream",
       "stream": "stdout",
       "text": [
        "\n",
        "Not copying HourlyData/Archive/2013/2013091923.dat to 2013/2013091923.dat because modification times are identical"
       ]
      },
      {
       "output_type": "stream",
       "stream": "stdout",
       "text": [
        "\n",
        "Not copying HourlyData/Archive/2013/2013092000.dat to 2013/2013092000.dat because modification times are identical"
       ]
      },
      {
       "output_type": "stream",
       "stream": "stdout",
       "text": [
        "\n",
        "Not copying HourlyData/Archive/2013/2013092001.dat to 2013/2013092001.dat because modification times are identical"
       ]
      },
      {
       "output_type": "stream",
       "stream": "stdout",
       "text": [
        "\n",
        "Not copying HourlyData/Archive/2013/2013092002.dat to 2013/2013092002.dat because modification times are identical"
       ]
      },
      {
       "output_type": "stream",
       "stream": "stdout",
       "text": [
        "\n",
        "Not copying HourlyData/Archive/2013/2013092003.dat to 2013/2013092003.dat because modification times are identical"
       ]
      },
      {
       "output_type": "stream",
       "stream": "stdout",
       "text": [
        "\n",
        "Not copying HourlyData/Archive/2013/2013092004.dat to 2013/2013092004.dat because modification times are identical"
       ]
      },
      {
       "output_type": "stream",
       "stream": "stdout",
       "text": [
        "\n",
        "Not copying HourlyData/Archive/2013/2013092005.dat to 2013/2013092005.dat because modification times are identical"
       ]
      },
      {
       "output_type": "stream",
       "stream": "stdout",
       "text": [
        "\n",
        "Not copying HourlyData/Archive/2013/2013092006.dat to 2013/2013092006.dat because modification times are identical"
       ]
      },
      {
       "output_type": "stream",
       "stream": "stdout",
       "text": [
        "\n",
        "Not copying HourlyData/Archive/2013/2013092007.dat to 2013/2013092007.dat because modification times are identical"
       ]
      },
      {
       "output_type": "stream",
       "stream": "stdout",
       "text": [
        "\n",
        "Not copying HourlyData/Archive/2013/2013092008.dat to 2013/2013092008.dat because modification times are identical"
       ]
      },
      {
       "output_type": "stream",
       "stream": "stdout",
       "text": [
        "\n",
        "Not copying HourlyData/Archive/2013/2013092009.dat to 2013/2013092009.dat because modification times are identical"
       ]
      },
      {
       "output_type": "stream",
       "stream": "stdout",
       "text": [
        "\n",
        "Not copying HourlyData/Archive/2013/2013092010.dat to 2013/2013092010.dat because modification times are identical"
       ]
      },
      {
       "output_type": "stream",
       "stream": "stdout",
       "text": [
        "\n",
        "Not copying HourlyData/Archive/2013/2013092011.dat to 2013/2013092011.dat because modification times are identical"
       ]
      },
      {
       "output_type": "stream",
       "stream": "stdout",
       "text": [
        "\n",
        "Not copying HourlyData/Archive/2013/2013092012.dat to 2013/2013092012.dat because modification times are identical"
       ]
      },
      {
       "output_type": "stream",
       "stream": "stdout",
       "text": [
        "\n",
        "Not copying HourlyData/Archive/2013/2013092013.dat to 2013/2013092013.dat because modification times are identical"
       ]
      },
      {
       "output_type": "stream",
       "stream": "stdout",
       "text": [
        "\n",
        "Not copying HourlyData/Archive/2013/2013092014.dat to 2013/2013092014.dat because modification times are identical"
       ]
      },
      {
       "output_type": "stream",
       "stream": "stdout",
       "text": [
        "\n",
        "Not copying HourlyData/Archive/2013/2013092015.dat to 2013/2013092015.dat because modification times are identical"
       ]
      },
      {
       "output_type": "stream",
       "stream": "stdout",
       "text": [
        "\n",
        "Not copying HourlyData/Archive/2013/2013092016.dat to 2013/2013092016.dat because modification times are identical"
       ]
      },
      {
       "output_type": "stream",
       "stream": "stdout",
       "text": [
        "\n",
        "Not copying HourlyData/Archive/2013/2013092017.dat to 2013/2013092017.dat because modification times are identical"
       ]
      },
      {
       "output_type": "stream",
       "stream": "stdout",
       "text": [
        "\n",
        "Not copying HourlyData/Archive/2013/2013092018.dat to 2013/2013092018.dat because modification times are identical"
       ]
      },
      {
       "output_type": "stream",
       "stream": "stdout",
       "text": [
        "\n",
        "Not copying HourlyData/Archive/2013/2013092019.dat to 2013/2013092019.dat because modification times are identical"
       ]
      },
      {
       "output_type": "stream",
       "stream": "stdout",
       "text": [
        "\n",
        "Not copying HourlyData/Archive/2013/2013092020.dat to 2013/2013092020.dat because modification times are identical"
       ]
      },
      {
       "output_type": "stream",
       "stream": "stdout",
       "text": [
        "\n",
        "Not copying HourlyData/Archive/2013/2013092021.dat to 2013/2013092021.dat because modification times are identical"
       ]
      },
      {
       "output_type": "stream",
       "stream": "stdout",
       "text": [
        "\n",
        "Not copying HourlyData/Archive/2013/2013092022.dat to 2013/2013092022.dat because modification times are identical"
       ]
      },
      {
       "output_type": "stream",
       "stream": "stdout",
       "text": [
        "\n",
        "Not copying HourlyData/Archive/2013/2013092023.dat to 2013/2013092023.dat because modification times are identical"
       ]
      },
      {
       "output_type": "stream",
       "stream": "stdout",
       "text": [
        "\n",
        "Not copying HourlyData/Archive/2013/2013092100.dat to 2013/2013092100.dat because modification times are identical"
       ]
      },
      {
       "output_type": "stream",
       "stream": "stdout",
       "text": [
        "\n",
        "Not copying HourlyData/Archive/2013/2013092101.dat to 2013/2013092101.dat because modification times are identical"
       ]
      },
      {
       "output_type": "stream",
       "stream": "stdout",
       "text": [
        "\n",
        "Not copying HourlyData/Archive/2013/2013092102.dat to 2013/2013092102.dat because modification times are identical"
       ]
      },
      {
       "output_type": "stream",
       "stream": "stdout",
       "text": [
        "\n",
        "Not copying HourlyData/Archive/2013/2013092103.dat to 2013/2013092103.dat because modification times are identical"
       ]
      },
      {
       "output_type": "stream",
       "stream": "stdout",
       "text": [
        "\n",
        "Not copying HourlyData/Archive/2013/2013092104.dat to 2013/2013092104.dat because modification times are identical"
       ]
      },
      {
       "output_type": "stream",
       "stream": "stdout",
       "text": [
        "\n",
        "Not copying HourlyData/Archive/2013/2013092105.dat to 2013/2013092105.dat because modification times are identical"
       ]
      },
      {
       "output_type": "stream",
       "stream": "stdout",
       "text": [
        "\n",
        "Not copying HourlyData/Archive/2013/2013092106.dat to 2013/2013092106.dat because modification times are identical"
       ]
      },
      {
       "output_type": "stream",
       "stream": "stdout",
       "text": [
        "\n",
        "Not copying HourlyData/Archive/2013/2013092107.dat to 2013/2013092107.dat because modification times are identical"
       ]
      },
      {
       "output_type": "stream",
       "stream": "stdout",
       "text": [
        "\n",
        "Not copying HourlyData/Archive/2013/2013092108.dat to 2013/2013092108.dat because modification times are identical"
       ]
      },
      {
       "output_type": "stream",
       "stream": "stdout",
       "text": [
        "\n",
        "Not copying HourlyData/Archive/2013/2013092109.dat to 2013/2013092109.dat because modification times are identical"
       ]
      },
      {
       "output_type": "stream",
       "stream": "stdout",
       "text": [
        "\n",
        "Not copying HourlyData/Archive/2013/2013092110.dat to 2013/2013092110.dat because modification times are identical"
       ]
      },
      {
       "output_type": "stream",
       "stream": "stdout",
       "text": [
        "\n",
        "Not copying HourlyData/Archive/2013/2013092111.dat to 2013/2013092111.dat because modification times are identical"
       ]
      },
      {
       "output_type": "stream",
       "stream": "stdout",
       "text": [
        "\n",
        "Not copying HourlyData/Archive/2013/2013092112.dat to 2013/2013092112.dat because modification times are identical"
       ]
      },
      {
       "output_type": "stream",
       "stream": "stdout",
       "text": [
        "\n",
        "Not copying HourlyData/Archive/2013/2013092113.dat to 2013/2013092113.dat because modification times are identical"
       ]
      },
      {
       "output_type": "stream",
       "stream": "stdout",
       "text": [
        "\n",
        "Not copying HourlyData/Archive/2013/2013092114.dat to 2013/2013092114.dat because modification times are identical"
       ]
      },
      {
       "output_type": "stream",
       "stream": "stdout",
       "text": [
        "\n",
        "Not copying HourlyData/Archive/2013/2013092115.dat to 2013/2013092115.dat because modification times are identical"
       ]
      },
      {
       "output_type": "stream",
       "stream": "stdout",
       "text": [
        "\n",
        "Not copying HourlyData/Archive/2013/2013092116.dat to 2013/2013092116.dat because modification times are identical"
       ]
      },
      {
       "output_type": "stream",
       "stream": "stdout",
       "text": [
        "\n",
        "Not copying HourlyData/Archive/2013/2013092117.dat to 2013/2013092117.dat because modification times are identical"
       ]
      },
      {
       "output_type": "stream",
       "stream": "stdout",
       "text": [
        "\n",
        "Not copying HourlyData/Archive/2013/2013092118.dat to 2013/2013092118.dat because modification times are identical"
       ]
      },
      {
       "output_type": "stream",
       "stream": "stdout",
       "text": [
        "\n",
        "Not copying HourlyData/Archive/2013/2013092119.dat to 2013/2013092119.dat because modification times are identical"
       ]
      },
      {
       "output_type": "stream",
       "stream": "stdout",
       "text": [
        "\n",
        "Not copying HourlyData/Archive/2013/2013092120.dat to 2013/2013092120.dat because modification times are identical"
       ]
      },
      {
       "output_type": "stream",
       "stream": "stdout",
       "text": [
        "\n",
        "Not copying HourlyData/Archive/2013/2013092121.dat to 2013/2013092121.dat because modification times are identical"
       ]
      },
      {
       "output_type": "stream",
       "stream": "stdout",
       "text": [
        "\n",
        "Not copying HourlyData/Archive/2013/2013092122.dat to 2013/2013092122.dat because modification times are identical"
       ]
      },
      {
       "output_type": "stream",
       "stream": "stdout",
       "text": [
        "\n",
        "Not copying HourlyData/Archive/2013/2013092123.dat to 2013/2013092123.dat because modification times are identical"
       ]
      },
      {
       "output_type": "stream",
       "stream": "stdout",
       "text": [
        "\n",
        "Not copying HourlyData/Archive/2013/2013092200.dat to 2013/2013092200.dat because modification times are identical"
       ]
      },
      {
       "output_type": "stream",
       "stream": "stdout",
       "text": [
        "\n",
        "Not copying HourlyData/Archive/2013/2013092201.dat to 2013/2013092201.dat because modification times are identical"
       ]
      },
      {
       "output_type": "stream",
       "stream": "stdout",
       "text": [
        "\n",
        "Not copying HourlyData/Archive/2013/2013092202.dat to 2013/2013092202.dat because modification times are identical"
       ]
      },
      {
       "output_type": "stream",
       "stream": "stdout",
       "text": [
        "\n",
        "Not copying HourlyData/Archive/2013/2013092203.dat to 2013/2013092203.dat because modification times are identical"
       ]
      },
      {
       "output_type": "stream",
       "stream": "stdout",
       "text": [
        "\n",
        "Not copying HourlyData/Archive/2013/2013092204.dat to 2013/2013092204.dat because modification times are identical"
       ]
      },
      {
       "output_type": "stream",
       "stream": "stdout",
       "text": [
        "\n",
        "Not copying HourlyData/Archive/2013/2013092205.dat to 2013/2013092205.dat because modification times are identical"
       ]
      },
      {
       "output_type": "stream",
       "stream": "stdout",
       "text": [
        "\n",
        "Not copying HourlyData/Archive/2013/2013092206.dat to 2013/2013092206.dat because modification times are identical"
       ]
      },
      {
       "output_type": "stream",
       "stream": "stdout",
       "text": [
        "\n",
        "Not copying HourlyData/Archive/2013/2013092207.dat to 2013/2013092207.dat because modification times are identical"
       ]
      },
      {
       "output_type": "stream",
       "stream": "stdout",
       "text": [
        "\n",
        "Not copying HourlyData/Archive/2013/2013092208.dat to 2013/2013092208.dat because modification times are identical"
       ]
      },
      {
       "output_type": "stream",
       "stream": "stdout",
       "text": [
        "\n",
        "Not copying HourlyData/Archive/2013/2013092209.dat to 2013/2013092209.dat because modification times are identical"
       ]
      },
      {
       "output_type": "stream",
       "stream": "stdout",
       "text": [
        "\n",
        "Not copying HourlyData/Archive/2013/2013092210.dat to 2013/2013092210.dat because modification times are identical"
       ]
      },
      {
       "output_type": "stream",
       "stream": "stdout",
       "text": [
        "\n",
        "Not copying HourlyData/Archive/2013/2013092211.dat to 2013/2013092211.dat because modification times are identical"
       ]
      },
      {
       "output_type": "stream",
       "stream": "stdout",
       "text": [
        "\n",
        "Not copying HourlyData/Archive/2013/2013092212.dat to 2013/2013092212.dat because modification times are identical"
       ]
      },
      {
       "output_type": "stream",
       "stream": "stdout",
       "text": [
        "\n",
        "Not copying HourlyData/Archive/2013/2013092213.dat to 2013/2013092213.dat because modification times are identical"
       ]
      },
      {
       "output_type": "stream",
       "stream": "stdout",
       "text": [
        "\n",
        "Not copying HourlyData/Archive/2013/2013092214.dat to 2013/2013092214.dat because modification times are identical"
       ]
      },
      {
       "output_type": "stream",
       "stream": "stdout",
       "text": [
        "\n",
        "Not copying HourlyData/Archive/2013/2013092215.dat to 2013/2013092215.dat because modification times are identical"
       ]
      },
      {
       "output_type": "stream",
       "stream": "stdout",
       "text": [
        "\n",
        "Not copying HourlyData/Archive/2013/2013092216.dat to 2013/2013092216.dat because modification times are identical"
       ]
      },
      {
       "output_type": "stream",
       "stream": "stdout",
       "text": [
        "\n",
        "Not copying HourlyData/Archive/2013/2013092217.dat to 2013/2013092217.dat because modification times are identical"
       ]
      },
      {
       "output_type": "stream",
       "stream": "stdout",
       "text": [
        "\n",
        "Not copying HourlyData/Archive/2013/2013092218.dat to 2013/2013092218.dat because modification times are identical"
       ]
      },
      {
       "output_type": "stream",
       "stream": "stdout",
       "text": [
        "\n",
        "Not copying HourlyData/Archive/2013/2013092219.dat to 2013/2013092219.dat because modification times are identical"
       ]
      },
      {
       "output_type": "stream",
       "stream": "stdout",
       "text": [
        "\n",
        "Not copying HourlyData/Archive/2013/2013092220.dat to 2013/2013092220.dat because modification times are identical"
       ]
      },
      {
       "output_type": "stream",
       "stream": "stdout",
       "text": [
        "\n",
        "Not copying HourlyData/Archive/2013/2013092221.dat to 2013/2013092221.dat because modification times are identical"
       ]
      },
      {
       "output_type": "stream",
       "stream": "stdout",
       "text": [
        "\n",
        "Not copying HourlyData/Archive/2013/2013092222.dat to 2013/2013092222.dat because modification times are identical"
       ]
      },
      {
       "output_type": "stream",
       "stream": "stdout",
       "text": [
        "\n",
        "Not copying HourlyData/Archive/2013/2013092223.dat to 2013/2013092223.dat because modification times are identical"
       ]
      },
      {
       "output_type": "stream",
       "stream": "stdout",
       "text": [
        "\n",
        "Not copying HourlyData/Archive/2013/2013092300.dat to 2013/2013092300.dat because modification times are identical"
       ]
      },
      {
       "output_type": "stream",
       "stream": "stdout",
       "text": [
        "\n",
        "Not copying HourlyData/Archive/2013/2013092301.dat to 2013/2013092301.dat because modification times are identical"
       ]
      },
      {
       "output_type": "stream",
       "stream": "stdout",
       "text": [
        "\n",
        "Not copying HourlyData/Archive/2013/2013092302.dat to 2013/2013092302.dat because modification times are identical"
       ]
      },
      {
       "output_type": "stream",
       "stream": "stdout",
       "text": [
        "\n",
        "Not copying HourlyData/Archive/2013/2013092303.dat to 2013/2013092303.dat because modification times are identical"
       ]
      },
      {
       "output_type": "stream",
       "stream": "stdout",
       "text": [
        "\n",
        "Not copying HourlyData/Archive/2013/2013092304.dat to 2013/2013092304.dat because modification times are identical"
       ]
      },
      {
       "output_type": "stream",
       "stream": "stdout",
       "text": [
        "\n",
        "Not copying HourlyData/Archive/2013/2013092305.dat to 2013/2013092305.dat because modification times are identical"
       ]
      },
      {
       "output_type": "stream",
       "stream": "stdout",
       "text": [
        "\n",
        "Not copying HourlyData/Archive/2013/2013092306.dat to 2013/2013092306.dat because modification times are identical"
       ]
      },
      {
       "output_type": "stream",
       "stream": "stdout",
       "text": [
        "\n",
        "Not copying HourlyData/Archive/2013/2013092307.dat to 2013/2013092307.dat because modification times are identical"
       ]
      },
      {
       "output_type": "stream",
       "stream": "stdout",
       "text": [
        "\n",
        "Not copying HourlyData/Archive/2013/2013092308.dat to 2013/2013092308.dat because modification times are identical"
       ]
      },
      {
       "output_type": "stream",
       "stream": "stdout",
       "text": [
        "\n",
        "Not copying HourlyData/Archive/2013/2013092309.dat to 2013/2013092309.dat because modification times are identical"
       ]
      },
      {
       "output_type": "stream",
       "stream": "stdout",
       "text": [
        "\n",
        "Not copying HourlyData/Archive/2013/2013092310.dat to 2013/2013092310.dat because modification times are identical"
       ]
      },
      {
       "output_type": "stream",
       "stream": "stdout",
       "text": [
        "\n",
        "Not copying HourlyData/Archive/2013/2013092311.dat to 2013/2013092311.dat because modification times are identical"
       ]
      },
      {
       "output_type": "stream",
       "stream": "stdout",
       "text": [
        "\n",
        "Not copying HourlyData/Archive/2013/2013092312.dat to 2013/2013092312.dat because modification times are identical"
       ]
      },
      {
       "output_type": "stream",
       "stream": "stdout",
       "text": [
        "\n",
        "Not copying HourlyData/Archive/2013/2013092313.dat to 2013/2013092313.dat because modification times are identical"
       ]
      },
      {
       "output_type": "stream",
       "stream": "stdout",
       "text": [
        "\n",
        "Not copying HourlyData/Archive/2013/2013092314.dat to 2013/2013092314.dat because modification times are identical"
       ]
      },
      {
       "output_type": "stream",
       "stream": "stdout",
       "text": [
        "\n",
        "Not copying HourlyData/Archive/2013/2013092315.dat to 2013/2013092315.dat because modification times are identical"
       ]
      },
      {
       "output_type": "stream",
       "stream": "stdout",
       "text": [
        "\n",
        "Not copying HourlyData/Archive/2013/2013092316.dat to 2013/2013092316.dat because modification times are identical"
       ]
      },
      {
       "output_type": "stream",
       "stream": "stdout",
       "text": [
        "\n",
        "Not copying HourlyData/Archive/2013/2013092317.dat to 2013/2013092317.dat because modification times are identical"
       ]
      },
      {
       "output_type": "stream",
       "stream": "stdout",
       "text": [
        "\n",
        "Not copying HourlyData/Archive/2013/2013092318.dat to 2013/2013092318.dat because modification times are identical"
       ]
      },
      {
       "output_type": "stream",
       "stream": "stdout",
       "text": [
        "\n",
        "Not copying HourlyData/Archive/2013/2013092319.dat to 2013/2013092319.dat because modification times are identical"
       ]
      },
      {
       "output_type": "stream",
       "stream": "stdout",
       "text": [
        "\n",
        "Not copying HourlyData/Archive/2013/2013092320.dat to 2013/2013092320.dat because modification times are identical"
       ]
      },
      {
       "output_type": "stream",
       "stream": "stdout",
       "text": [
        "\n",
        "Not copying HourlyData/Archive/2013/2013092321.dat to 2013/2013092321.dat because modification times are identical"
       ]
      },
      {
       "output_type": "stream",
       "stream": "stdout",
       "text": [
        "\n",
        "Not copying HourlyData/Archive/2013/2013092322.dat to 2013/2013092322.dat because modification times are identical"
       ]
      },
      {
       "output_type": "stream",
       "stream": "stdout",
       "text": [
        "\n",
        "Not copying HourlyData/Archive/2013/2013092323.dat to 2013/2013092323.dat because modification times are identical"
       ]
      },
      {
       "output_type": "stream",
       "stream": "stdout",
       "text": [
        "\n",
        "Not copying HourlyData/Archive/2013/2013092400.dat to 2013/2013092400.dat because modification times are identical"
       ]
      },
      {
       "output_type": "stream",
       "stream": "stdout",
       "text": [
        "\n",
        "Not copying HourlyData/Archive/2013/2013092401.dat to 2013/2013092401.dat because modification times are identical"
       ]
      },
      {
       "output_type": "stream",
       "stream": "stdout",
       "text": [
        "\n",
        "Not copying HourlyData/Archive/2013/2013092402.dat to 2013/2013092402.dat because modification times are identical"
       ]
      },
      {
       "output_type": "stream",
       "stream": "stdout",
       "text": [
        "\n",
        "Not copying HourlyData/Archive/2013/2013092403.dat to 2013/2013092403.dat because modification times are identical"
       ]
      },
      {
       "output_type": "stream",
       "stream": "stdout",
       "text": [
        "\n",
        "Not copying HourlyData/Archive/2013/2013092404.dat to 2013/2013092404.dat because modification times are identical"
       ]
      },
      {
       "output_type": "stream",
       "stream": "stdout",
       "text": [
        "\n",
        "Not copying HourlyData/Archive/2013/2013092405.dat to 2013/2013092405.dat because modification times are identical"
       ]
      },
      {
       "output_type": "stream",
       "stream": "stdout",
       "text": [
        "\n",
        "Not copying HourlyData/Archive/2013/2013092406.dat to 2013/2013092406.dat because modification times are identical"
       ]
      },
      {
       "output_type": "stream",
       "stream": "stdout",
       "text": [
        "\n",
        "Not copying HourlyData/Archive/2013/2013092407.dat to 2013/2013092407.dat because modification times are identical"
       ]
      },
      {
       "output_type": "stream",
       "stream": "stdout",
       "text": [
        "\n",
        "Not copying HourlyData/Archive/2013/2013092408.dat to 2013/2013092408.dat because modification times are identical"
       ]
      },
      {
       "output_type": "stream",
       "stream": "stdout",
       "text": [
        "\n",
        "Not copying HourlyData/Archive/2013/2013092409.dat to 2013/2013092409.dat because modification times are identical"
       ]
      },
      {
       "output_type": "stream",
       "stream": "stdout",
       "text": [
        "\n",
        "Not copying HourlyData/Archive/2013/2013092410.dat to 2013/2013092410.dat because modification times are identical"
       ]
      },
      {
       "output_type": "stream",
       "stream": "stdout",
       "text": [
        "\n",
        "Not copying HourlyData/Archive/2013/2013092411.dat to 2013/2013092411.dat because modification times are identical"
       ]
      },
      {
       "output_type": "stream",
       "stream": "stdout",
       "text": [
        "\n",
        "Not copying HourlyData/Archive/2013/2013092412.dat to 2013/2013092412.dat because modification times are identical"
       ]
      },
      {
       "output_type": "stream",
       "stream": "stdout",
       "text": [
        "\n",
        "Not copying HourlyData/Archive/2013/2013092413.dat to 2013/2013092413.dat because modification times are identical"
       ]
      },
      {
       "output_type": "stream",
       "stream": "stdout",
       "text": [
        "\n",
        "Not copying HourlyData/Archive/2013/2013092414.dat to 2013/2013092414.dat because modification times are identical"
       ]
      },
      {
       "output_type": "stream",
       "stream": "stdout",
       "text": [
        "\n",
        "Not copying HourlyData/Archive/2013/2013092415.dat to 2013/2013092415.dat because modification times are identical"
       ]
      },
      {
       "output_type": "stream",
       "stream": "stdout",
       "text": [
        "\n",
        "Not copying HourlyData/Archive/2013/2013092416.dat to 2013/2013092416.dat because modification times are identical"
       ]
      },
      {
       "output_type": "stream",
       "stream": "stdout",
       "text": [
        "\n",
        "Not copying HourlyData/Archive/2013/2013092417.dat to 2013/2013092417.dat because modification times are identical"
       ]
      },
      {
       "output_type": "stream",
       "stream": "stdout",
       "text": [
        "\n",
        "Not copying HourlyData/Archive/2013/2013092418.dat to 2013/2013092418.dat because modification times are identical"
       ]
      },
      {
       "output_type": "stream",
       "stream": "stdout",
       "text": [
        "\n",
        "Not copying HourlyData/Archive/2013/2013092419.dat to 2013/2013092419.dat because modification times are identical"
       ]
      },
      {
       "output_type": "stream",
       "stream": "stdout",
       "text": [
        "\n",
        "Not copying HourlyData/Archive/2013/2013092420.dat to 2013/2013092420.dat because modification times are identical"
       ]
      },
      {
       "output_type": "stream",
       "stream": "stdout",
       "text": [
        "\n",
        "Not copying HourlyData/Archive/2013/2013092421.dat to 2013/2013092421.dat because modification times are identical"
       ]
      },
      {
       "output_type": "stream",
       "stream": "stdout",
       "text": [
        "\n",
        "Not copying HourlyData/Archive/2013/2013092422.dat to 2013/2013092422.dat because modification times are identical"
       ]
      },
      {
       "output_type": "stream",
       "stream": "stdout",
       "text": [
        "\n",
        "Not copying HourlyData/Archive/2013/2013092423.dat to 2013/2013092423.dat because modification times are identical"
       ]
      },
      {
       "output_type": "stream",
       "stream": "stdout",
       "text": [
        "\n",
        "Not copying HourlyData/Archive/2013/2013092500.dat to 2013/2013092500.dat because modification times are identical"
       ]
      },
      {
       "output_type": "stream",
       "stream": "stdout",
       "text": [
        "\n",
        "Not copying HourlyData/Archive/2013/2013092501.dat to 2013/2013092501.dat because modification times are identical"
       ]
      },
      {
       "output_type": "stream",
       "stream": "stdout",
       "text": [
        "\n",
        "Not copying HourlyData/Archive/2013/2013092502.dat to 2013/2013092502.dat because modification times are identical"
       ]
      },
      {
       "output_type": "stream",
       "stream": "stdout",
       "text": [
        "\n",
        "Not copying HourlyData/Archive/2013/2013092503.dat to 2013/2013092503.dat because modification times are identical"
       ]
      },
      {
       "output_type": "stream",
       "stream": "stdout",
       "text": [
        "\n",
        "Not copying HourlyData/Archive/2013/2013092504.dat to 2013/2013092504.dat because modification times are identical"
       ]
      },
      {
       "output_type": "stream",
       "stream": "stdout",
       "text": [
        "\n",
        "Not copying HourlyData/Archive/2013/2013092505.dat to 2013/2013092505.dat because modification times are identical"
       ]
      },
      {
       "output_type": "stream",
       "stream": "stdout",
       "text": [
        "\n",
        "Not copying HourlyData/Archive/2013/2013092506.dat to 2013/2013092506.dat because modification times are identical"
       ]
      },
      {
       "output_type": "stream",
       "stream": "stdout",
       "text": [
        "\n",
        "Not copying HourlyData/Archive/2013/2013092507.dat to 2013/2013092507.dat because modification times are identical"
       ]
      },
      {
       "output_type": "stream",
       "stream": "stdout",
       "text": [
        "\n",
        "Not copying HourlyData/Archive/2013/2013092508.dat to 2013/2013092508.dat because modification times are identical"
       ]
      },
      {
       "output_type": "stream",
       "stream": "stdout",
       "text": [
        "\n",
        "Not copying HourlyData/Archive/2013/2013092509.dat to 2013/2013092509.dat because modification times are identical"
       ]
      },
      {
       "output_type": "stream",
       "stream": "stdout",
       "text": [
        "\n",
        "Not copying HourlyData/Archive/2013/2013092510.dat to 2013/2013092510.dat because modification times are identical"
       ]
      },
      {
       "output_type": "stream",
       "stream": "stdout",
       "text": [
        "\n",
        "Not copying HourlyData/Archive/2013/2013092511.dat to 2013/2013092511.dat because modification times are identical"
       ]
      },
      {
       "output_type": "stream",
       "stream": "stdout",
       "text": [
        "\n",
        "Not copying HourlyData/Archive/2013/2013092512.dat to 2013/2013092512.dat because modification times are identical"
       ]
      },
      {
       "output_type": "stream",
       "stream": "stdout",
       "text": [
        "\n",
        "Not copying HourlyData/Archive/2013/2013092513.dat to 2013/2013092513.dat because modification times are identical"
       ]
      },
      {
       "output_type": "stream",
       "stream": "stdout",
       "text": [
        "\n",
        "Not copying HourlyData/Archive/2013/2013092514.dat to 2013/2013092514.dat because modification times are identical"
       ]
      },
      {
       "output_type": "stream",
       "stream": "stdout",
       "text": [
        "\n",
        "Not copying HourlyData/Archive/2013/2013092515.dat to 2013/2013092515.dat because modification times are identical"
       ]
      },
      {
       "output_type": "stream",
       "stream": "stdout",
       "text": [
        "\n",
        "Not copying HourlyData/Archive/2013/2013092516.dat to 2013/2013092516.dat because modification times are identical"
       ]
      },
      {
       "output_type": "stream",
       "stream": "stdout",
       "text": [
        "\n",
        "Not copying HourlyData/Archive/2013/2013092517.dat to 2013/2013092517.dat because modification times are identical"
       ]
      },
      {
       "output_type": "stream",
       "stream": "stdout",
       "text": [
        "\n",
        "Not copying HourlyData/Archive/2013/2013092518.dat to 2013/2013092518.dat because modification times are identical"
       ]
      },
      {
       "output_type": "stream",
       "stream": "stdout",
       "text": [
        "\n",
        "Not copying HourlyData/Archive/2013/2013092519.dat to 2013/2013092519.dat because modification times are identical"
       ]
      },
      {
       "output_type": "stream",
       "stream": "stdout",
       "text": [
        "\n",
        "Not copying HourlyData/Archive/2013/2013092520.dat to 2013/2013092520.dat because modification times are identical"
       ]
      },
      {
       "output_type": "stream",
       "stream": "stdout",
       "text": [
        "\n",
        "Not copying HourlyData/Archive/2013/2013092521.dat to 2013/2013092521.dat because modification times are identical"
       ]
      },
      {
       "output_type": "stream",
       "stream": "stdout",
       "text": [
        "\n",
        "Not copying HourlyData/Archive/2013/2013092522.dat to 2013/2013092522.dat because modification times are identical"
       ]
      },
      {
       "output_type": "stream",
       "stream": "stdout",
       "text": [
        "\n",
        "Not copying HourlyData/Archive/2013/2013092523.dat to 2013/2013092523.dat because modification times are identical"
       ]
      },
      {
       "output_type": "stream",
       "stream": "stdout",
       "text": [
        "\n",
        "Not copying HourlyData/Archive/2013/2013092600.dat to 2013/2013092600.dat because modification times are identical"
       ]
      },
      {
       "output_type": "stream",
       "stream": "stdout",
       "text": [
        "\n",
        "Not copying HourlyData/Archive/2013/2013092601.dat to 2013/2013092601.dat because modification times are identical"
       ]
      },
      {
       "output_type": "stream",
       "stream": "stdout",
       "text": [
        "\n",
        "Not copying HourlyData/Archive/2013/2013092602.dat to 2013/2013092602.dat because modification times are identical"
       ]
      },
      {
       "output_type": "stream",
       "stream": "stdout",
       "text": [
        "\n",
        "Not copying HourlyData/Archive/2013/2013092603.dat to 2013/2013092603.dat because modification times are identical"
       ]
      },
      {
       "output_type": "stream",
       "stream": "stdout",
       "text": [
        "\n",
        "Not copying HourlyData/Archive/2013/2013092604.dat to 2013/2013092604.dat because modification times are identical"
       ]
      },
      {
       "output_type": "stream",
       "stream": "stdout",
       "text": [
        "\n",
        "Not copying HourlyData/Archive/2013/2013092605.dat to 2013/2013092605.dat because modification times are identical"
       ]
      },
      {
       "output_type": "stream",
       "stream": "stdout",
       "text": [
        "\n",
        "Not copying HourlyData/Archive/2013/2013092606.dat to 2013/2013092606.dat because modification times are identical"
       ]
      },
      {
       "output_type": "stream",
       "stream": "stdout",
       "text": [
        "\n",
        "Not copying HourlyData/Archive/2013/2013092607.dat to 2013/2013092607.dat because modification times are identical"
       ]
      },
      {
       "output_type": "stream",
       "stream": "stdout",
       "text": [
        "\n",
        "Not copying HourlyData/Archive/2013/2013092608.dat to 2013/2013092608.dat because modification times are identical"
       ]
      },
      {
       "output_type": "stream",
       "stream": "stdout",
       "text": [
        "\n",
        "Not copying HourlyData/Archive/2013/2013092609.dat to 2013/2013092609.dat because modification times are identical"
       ]
      },
      {
       "output_type": "stream",
       "stream": "stdout",
       "text": [
        "\n",
        "Not copying HourlyData/Archive/2013/2013092610.dat to 2013/2013092610.dat because modification times are identical"
       ]
      },
      {
       "output_type": "stream",
       "stream": "stdout",
       "text": [
        "\n",
        "Not copying HourlyData/Archive/2013/2013092611.dat to 2013/2013092611.dat because modification times are identical"
       ]
      },
      {
       "output_type": "stream",
       "stream": "stdout",
       "text": [
        "\n",
        "Not copying HourlyData/Archive/2013/2013092612.dat to 2013/2013092612.dat because modification times are identical"
       ]
      },
      {
       "output_type": "stream",
       "stream": "stdout",
       "text": [
        "\n",
        "Not copying HourlyData/Archive/2013/2013092613.dat to 2013/2013092613.dat because modification times are identical"
       ]
      },
      {
       "output_type": "stream",
       "stream": "stdout",
       "text": [
        "\n",
        "Not copying HourlyData/Archive/2013/2013092614.dat to 2013/2013092614.dat because modification times are identical"
       ]
      },
      {
       "output_type": "stream",
       "stream": "stdout",
       "text": [
        "\n",
        "Not copying HourlyData/Archive/2013/2013092615.dat to 2013/2013092615.dat because modification times are identical"
       ]
      },
      {
       "output_type": "stream",
       "stream": "stdout",
       "text": [
        "\n",
        "Not copying HourlyData/Archive/2013/2013092616.dat to 2013/2013092616.dat because modification times are identical"
       ]
      },
      {
       "output_type": "stream",
       "stream": "stdout",
       "text": [
        "\n",
        "Not copying HourlyData/Archive/2013/2013092617.dat to 2013/2013092617.dat because modification times are identical"
       ]
      },
      {
       "output_type": "stream",
       "stream": "stdout",
       "text": [
        "\n",
        "Not copying HourlyData/Archive/2013/2013092618.dat to 2013/2013092618.dat because modification times are identical"
       ]
      },
      {
       "output_type": "stream",
       "stream": "stdout",
       "text": [
        "\n",
        "Not copying HourlyData/Archive/2013/2013092619.dat to 2013/2013092619.dat because modification times are identical"
       ]
      },
      {
       "output_type": "stream",
       "stream": "stdout",
       "text": [
        "\n",
        "Not copying HourlyData/Archive/2013/2013092620.dat to 2013/2013092620.dat because modification times are identical"
       ]
      },
      {
       "output_type": "stream",
       "stream": "stdout",
       "text": [
        "\n",
        "Not copying HourlyData/Archive/2013/2013092621.dat to 2013/2013092621.dat because modification times are identical"
       ]
      },
      {
       "output_type": "stream",
       "stream": "stdout",
       "text": [
        "\n",
        "Not copying HourlyData/Archive/2013/2013092622.dat to 2013/2013092622.dat because modification times are identical"
       ]
      },
      {
       "output_type": "stream",
       "stream": "stdout",
       "text": [
        "\n",
        "Not copying HourlyData/Archive/2013/2013092623.dat to 2013/2013092623.dat because modification times are identical"
       ]
      },
      {
       "output_type": "stream",
       "stream": "stdout",
       "text": [
        "\n",
        "Not copying HourlyData/Archive/2013/2013092700.dat to 2013/2013092700.dat because modification times are identical"
       ]
      },
      {
       "output_type": "stream",
       "stream": "stdout",
       "text": [
        "\n",
        "Not copying HourlyData/Archive/2013/2013092701.dat to 2013/2013092701.dat because modification times are identical"
       ]
      },
      {
       "output_type": "stream",
       "stream": "stdout",
       "text": [
        "\n",
        "Not copying HourlyData/Archive/2013/2013092702.dat to 2013/2013092702.dat because modification times are identical"
       ]
      },
      {
       "output_type": "stream",
       "stream": "stdout",
       "text": [
        "\n",
        "Not copying HourlyData/Archive/2013/2013092703.dat to 2013/2013092703.dat because modification times are identical"
       ]
      },
      {
       "output_type": "stream",
       "stream": "stdout",
       "text": [
        "\n",
        "Not copying HourlyData/Archive/2013/2013092704.dat to 2013/2013092704.dat because modification times are identical"
       ]
      },
      {
       "output_type": "stream",
       "stream": "stdout",
       "text": [
        "\n",
        "Not copying HourlyData/Archive/2013/2013092705.dat to 2013/2013092705.dat because modification times are identical"
       ]
      },
      {
       "output_type": "stream",
       "stream": "stdout",
       "text": [
        "\n",
        "Not copying HourlyData/Archive/2013/2013092706.dat to 2013/2013092706.dat because modification times are identical"
       ]
      },
      {
       "output_type": "stream",
       "stream": "stdout",
       "text": [
        "\n",
        "Not copying HourlyData/Archive/2013/2013092707.dat to 2013/2013092707.dat because modification times are identical"
       ]
      },
      {
       "output_type": "stream",
       "stream": "stdout",
       "text": [
        "\n",
        "Not copying HourlyData/Archive/2013/2013092708.dat to 2013/2013092708.dat because modification times are identical"
       ]
      },
      {
       "output_type": "stream",
       "stream": "stdout",
       "text": [
        "\n",
        "Not copying HourlyData/Archive/2013/2013092709.dat to 2013/2013092709.dat because modification times are identical"
       ]
      },
      {
       "output_type": "stream",
       "stream": "stdout",
       "text": [
        "\n",
        "Not copying HourlyData/Archive/2013/2013092710.dat to 2013/2013092710.dat because modification times are identical"
       ]
      },
      {
       "output_type": "stream",
       "stream": "stdout",
       "text": [
        "\n",
        "Not copying HourlyData/Archive/2013/2013092711.dat to 2013/2013092711.dat because modification times are identical"
       ]
      },
      {
       "output_type": "stream",
       "stream": "stdout",
       "text": [
        "\n",
        "Not copying HourlyData/Archive/2013/2013092712.dat to 2013/2013092712.dat because modification times are identical"
       ]
      },
      {
       "output_type": "stream",
       "stream": "stdout",
       "text": [
        "\n",
        "Not copying HourlyData/Archive/2013/2013092713.dat to 2013/2013092713.dat because modification times are identical"
       ]
      },
      {
       "output_type": "stream",
       "stream": "stdout",
       "text": [
        "\n",
        "Not copying HourlyData/Archive/2013/2013092714.dat to 2013/2013092714.dat because modification times are identical"
       ]
      },
      {
       "output_type": "stream",
       "stream": "stdout",
       "text": [
        "\n",
        "Not copying HourlyData/Archive/2013/2013092715.dat to 2013/2013092715.dat because modification times are identical"
       ]
      },
      {
       "output_type": "stream",
       "stream": "stdout",
       "text": [
        "\n",
        "Not copying HourlyData/Archive/2013/2013092716.dat to 2013/2013092716.dat because modification times are identical"
       ]
      },
      {
       "output_type": "stream",
       "stream": "stdout",
       "text": [
        "\n",
        "Not copying HourlyData/Archive/2013/2013092717.dat to 2013/2013092717.dat because modification times are identical"
       ]
      },
      {
       "output_type": "stream",
       "stream": "stdout",
       "text": [
        "\n",
        "Not copying HourlyData/Archive/2013/2013092718.dat to 2013/2013092718.dat because modification times are identical"
       ]
      },
      {
       "output_type": "stream",
       "stream": "stdout",
       "text": [
        "\n",
        "Not copying HourlyData/Archive/2013/2013092719.dat to 2013/2013092719.dat because modification times are identical"
       ]
      },
      {
       "output_type": "stream",
       "stream": "stdout",
       "text": [
        "\n",
        "Not copying HourlyData/Archive/2013/2013092720.dat to 2013/2013092720.dat because modification times are identical"
       ]
      },
      {
       "output_type": "stream",
       "stream": "stdout",
       "text": [
        "\n",
        "Not copying HourlyData/Archive/2013/2013092721.dat to 2013/2013092721.dat because modification times are identical"
       ]
      },
      {
       "output_type": "stream",
       "stream": "stdout",
       "text": [
        "\n",
        "Not copying HourlyData/Archive/2013/2013092722.dat to 2013/2013092722.dat because modification times are identical"
       ]
      },
      {
       "output_type": "stream",
       "stream": "stdout",
       "text": [
        "\n",
        "Not copying HourlyData/Archive/2013/2013092723.dat to 2013/2013092723.dat because modification times are identical"
       ]
      },
      {
       "output_type": "stream",
       "stream": "stdout",
       "text": [
        "\n",
        "Not copying HourlyData/Archive/2013/2013092800.dat to 2013/2013092800.dat because modification times are identical"
       ]
      },
      {
       "output_type": "stream",
       "stream": "stdout",
       "text": [
        "\n",
        "Not copying HourlyData/Archive/2013/2013092801.dat to 2013/2013092801.dat because modification times are identical"
       ]
      },
      {
       "output_type": "stream",
       "stream": "stdout",
       "text": [
        "\n",
        "Not copying HourlyData/Archive/2013/2013092802.dat to 2013/2013092802.dat because modification times are identical"
       ]
      },
      {
       "output_type": "stream",
       "stream": "stdout",
       "text": [
        "\n",
        "Not copying HourlyData/Archive/2013/2013092803.dat to 2013/2013092803.dat because modification times are identical"
       ]
      },
      {
       "output_type": "stream",
       "stream": "stdout",
       "text": [
        "\n",
        "Not copying HourlyData/Archive/2013/2013092804.dat to 2013/2013092804.dat because modification times are identical"
       ]
      },
      {
       "output_type": "stream",
       "stream": "stdout",
       "text": [
        "\n",
        "Not copying HourlyData/Archive/2013/2013092805.dat to 2013/2013092805.dat because modification times are identical"
       ]
      },
      {
       "output_type": "stream",
       "stream": "stdout",
       "text": [
        "\n",
        "Not copying HourlyData/Archive/2013/2013092806.dat to 2013/2013092806.dat because modification times are identical"
       ]
      },
      {
       "output_type": "stream",
       "stream": "stdout",
       "text": [
        "\n",
        "Not copying HourlyData/Archive/2013/2013092807.dat to 2013/2013092807.dat because modification times are identical"
       ]
      },
      {
       "output_type": "stream",
       "stream": "stdout",
       "text": [
        "\n",
        "Not copying HourlyData/Archive/2013/2013092808.dat to 2013/2013092808.dat because modification times are identical"
       ]
      },
      {
       "output_type": "stream",
       "stream": "stdout",
       "text": [
        "\n",
        "Not copying HourlyData/Archive/2013/2013092809.dat to 2013/2013092809.dat because modification times are identical"
       ]
      },
      {
       "output_type": "stream",
       "stream": "stdout",
       "text": [
        "\n",
        "Not copying HourlyData/Archive/2013/2013092810.dat to 2013/2013092810.dat because modification times are identical"
       ]
      },
      {
       "output_type": "stream",
       "stream": "stdout",
       "text": [
        "\n",
        "Not copying HourlyData/Archive/2013/2013092811.dat to 2013/2013092811.dat because modification times are identical"
       ]
      },
      {
       "output_type": "stream",
       "stream": "stdout",
       "text": [
        "\n",
        "Not copying HourlyData/Archive/2013/2013092812.dat to 2013/2013092812.dat because modification times are identical"
       ]
      },
      {
       "output_type": "stream",
       "stream": "stdout",
       "text": [
        "\n",
        "Not copying HourlyData/Archive/2013/2013092813.dat to 2013/2013092813.dat because modification times are identical"
       ]
      },
      {
       "output_type": "stream",
       "stream": "stdout",
       "text": [
        "\n",
        "Not copying HourlyData/Archive/2013/2013092814.dat to 2013/2013092814.dat because modification times are identical"
       ]
      },
      {
       "output_type": "stream",
       "stream": "stdout",
       "text": [
        "\n",
        "Not copying HourlyData/Archive/2013/2013092815.dat to 2013/2013092815.dat because modification times are identical"
       ]
      },
      {
       "output_type": "stream",
       "stream": "stdout",
       "text": [
        "\n",
        "Not copying HourlyData/Archive/2013/2013092816.dat to 2013/2013092816.dat because modification times are identical"
       ]
      },
      {
       "output_type": "stream",
       "stream": "stdout",
       "text": [
        "\n",
        "Not copying HourlyData/Archive/2013/2013092817.dat to 2013/2013092817.dat because modification times are identical"
       ]
      },
      {
       "output_type": "stream",
       "stream": "stdout",
       "text": [
        "\n",
        "Not copying HourlyData/Archive/2013/2013092818.dat to 2013/2013092818.dat because modification times are identical"
       ]
      },
      {
       "output_type": "stream",
       "stream": "stdout",
       "text": [
        "\n",
        "Not copying HourlyData/Archive/2013/2013092819.dat to 2013/2013092819.dat because modification times are identical"
       ]
      },
      {
       "output_type": "stream",
       "stream": "stdout",
       "text": [
        "\n",
        "Not copying HourlyData/Archive/2013/2013092820.dat to 2013/2013092820.dat because modification times are identical"
       ]
      },
      {
       "output_type": "stream",
       "stream": "stdout",
       "text": [
        "\n",
        "Not copying HourlyData/Archive/2013/2013092821.dat to 2013/2013092821.dat because modification times are identical"
       ]
      },
      {
       "output_type": "stream",
       "stream": "stdout",
       "text": [
        "\n",
        "Not copying HourlyData/Archive/2013/2013092822.dat to 2013/2013092822.dat because modification times are identical"
       ]
      },
      {
       "output_type": "stream",
       "stream": "stdout",
       "text": [
        "\n",
        "Not copying HourlyData/Archive/2013/2013092823.dat to 2013/2013092823.dat because modification times are identical"
       ]
      },
      {
       "output_type": "stream",
       "stream": "stdout",
       "text": [
        "\n",
        "Not copying HourlyData/Archive/2013/2013092900.dat to 2013/2013092900.dat because modification times are identical"
       ]
      },
      {
       "output_type": "stream",
       "stream": "stdout",
       "text": [
        "\n",
        "Not copying HourlyData/Archive/2013/2013092901.dat to 2013/2013092901.dat because modification times are identical"
       ]
      },
      {
       "output_type": "stream",
       "stream": "stdout",
       "text": [
        "\n",
        "Not copying HourlyData/Archive/2013/2013092902.dat to 2013/2013092902.dat because modification times are identical"
       ]
      },
      {
       "output_type": "stream",
       "stream": "stdout",
       "text": [
        "\n",
        "Not copying HourlyData/Archive/2013/2013092903.dat to 2013/2013092903.dat because modification times are identical"
       ]
      },
      {
       "output_type": "stream",
       "stream": "stdout",
       "text": [
        "\n",
        "Not copying HourlyData/Archive/2013/2013092904.dat to 2013/2013092904.dat because modification times are identical"
       ]
      },
      {
       "output_type": "stream",
       "stream": "stdout",
       "text": [
        "\n",
        "Not copying HourlyData/Archive/2013/2013092905.dat to 2013/2013092905.dat because modification times are identical"
       ]
      },
      {
       "output_type": "stream",
       "stream": "stdout",
       "text": [
        "\n",
        "Not copying HourlyData/Archive/2013/2013092906.dat to 2013/2013092906.dat because modification times are identical"
       ]
      },
      {
       "output_type": "stream",
       "stream": "stdout",
       "text": [
        "\n",
        "Not copying HourlyData/Archive/2013/2013092907.dat to 2013/2013092907.dat because modification times are identical"
       ]
      },
      {
       "output_type": "stream",
       "stream": "stdout",
       "text": [
        "\n",
        "Not copying HourlyData/Archive/2013/2013092908.dat to 2013/2013092908.dat because modification times are identical"
       ]
      },
      {
       "output_type": "stream",
       "stream": "stdout",
       "text": [
        "\n",
        "Not copying HourlyData/Archive/2013/2013092909.dat to 2013/2013092909.dat because modification times are identical"
       ]
      },
      {
       "output_type": "stream",
       "stream": "stdout",
       "text": [
        "\n",
        "Not copying HourlyData/Archive/2013/2013092910.dat to 2013/2013092910.dat because modification times are identical"
       ]
      },
      {
       "output_type": "stream",
       "stream": "stdout",
       "text": [
        "\n",
        "Not copying HourlyData/Archive/2013/2013092911.dat to 2013/2013092911.dat because modification times are identical"
       ]
      },
      {
       "output_type": "stream",
       "stream": "stdout",
       "text": [
        "\n",
        "Not copying HourlyData/Archive/2013/2013092912.dat to 2013/2013092912.dat because modification times are identical"
       ]
      },
      {
       "output_type": "stream",
       "stream": "stdout",
       "text": [
        "\n",
        "Not copying HourlyData/Archive/2013/2013092913.dat to 2013/2013092913.dat because modification times are identical"
       ]
      },
      {
       "output_type": "stream",
       "stream": "stdout",
       "text": [
        "\n",
        "Not copying HourlyData/Archive/2013/2013092914.dat to 2013/2013092914.dat because modification times are identical"
       ]
      },
      {
       "output_type": "stream",
       "stream": "stdout",
       "text": [
        "\n",
        "Not copying HourlyData/Archive/2013/2013092915.dat to 2013/2013092915.dat because modification times are identical"
       ]
      },
      {
       "output_type": "stream",
       "stream": "stdout",
       "text": [
        "\n",
        "Not copying HourlyData/Archive/2013/2013092916.dat to 2013/2013092916.dat because modification times are identical"
       ]
      },
      {
       "output_type": "stream",
       "stream": "stdout",
       "text": [
        "\n",
        "Not copying HourlyData/Archive/2013/2013092917.dat to 2013/2013092917.dat because modification times are identical"
       ]
      },
      {
       "output_type": "stream",
       "stream": "stdout",
       "text": [
        "\n",
        "Not copying HourlyData/Archive/2013/2013092918.dat to 2013/2013092918.dat because modification times are identical"
       ]
      },
      {
       "output_type": "stream",
       "stream": "stdout",
       "text": [
        "\n",
        "Not copying HourlyData/Archive/2013/2013092919.dat to 2013/2013092919.dat because modification times are identical"
       ]
      },
      {
       "output_type": "stream",
       "stream": "stdout",
       "text": [
        "\n",
        "Not copying HourlyData/Archive/2013/2013092920.dat to 2013/2013092920.dat because modification times are identical"
       ]
      },
      {
       "output_type": "stream",
       "stream": "stdout",
       "text": [
        "\n",
        "Not copying HourlyData/Archive/2013/2013092921.dat to 2013/2013092921.dat because modification times are identical"
       ]
      },
      {
       "output_type": "stream",
       "stream": "stdout",
       "text": [
        "\n",
        "Not copying HourlyData/Archive/2013/2013092922.dat to 2013/2013092922.dat because modification times are identical"
       ]
      },
      {
       "output_type": "stream",
       "stream": "stdout",
       "text": [
        "\n",
        "Not copying HourlyData/Archive/2013/2013092923.dat to 2013/2013092923.dat because modification times are identical"
       ]
      },
      {
       "output_type": "stream",
       "stream": "stdout",
       "text": [
        "\n",
        "Not copying HourlyData/Archive/2013/2013093000.dat to 2013/2013093000.dat because modification times are identical"
       ]
      },
      {
       "output_type": "stream",
       "stream": "stdout",
       "text": [
        "\n",
        "Not copying HourlyData/Archive/2013/2013093001.dat to 2013/2013093001.dat because modification times are identical"
       ]
      },
      {
       "output_type": "stream",
       "stream": "stdout",
       "text": [
        "\n",
        "Not copying HourlyData/Archive/2013/2013093002.dat to 2013/2013093002.dat because modification times are identical"
       ]
      },
      {
       "output_type": "stream",
       "stream": "stdout",
       "text": [
        "\n",
        "Not copying HourlyData/Archive/2013/2013093003.dat to 2013/2013093003.dat because modification times are identical"
       ]
      },
      {
       "output_type": "stream",
       "stream": "stdout",
       "text": [
        "\n",
        "Not copying HourlyData/Archive/2013/2013093004.dat to 2013/2013093004.dat because modification times are identical"
       ]
      },
      {
       "output_type": "stream",
       "stream": "stdout",
       "text": [
        "\n",
        "Not copying HourlyData/Archive/2013/2013093005.dat to 2013/2013093005.dat because modification times are identical"
       ]
      },
      {
       "output_type": "stream",
       "stream": "stdout",
       "text": [
        "\n",
        "Not copying HourlyData/Archive/2013/2013093006.dat to 2013/2013093006.dat because modification times are identical"
       ]
      },
      {
       "output_type": "stream",
       "stream": "stdout",
       "text": [
        "\n",
        "Not copying HourlyData/Archive/2013/2013093007.dat to 2013/2013093007.dat because modification times are identical"
       ]
      },
      {
       "output_type": "stream",
       "stream": "stdout",
       "text": [
        "\n",
        "Not copying HourlyData/Archive/2013/2013093008.dat to 2013/2013093008.dat because modification times are identical"
       ]
      },
      {
       "output_type": "stream",
       "stream": "stdout",
       "text": [
        "\n",
        "Not copying HourlyData/Archive/2013/2013093009.dat to 2013/2013093009.dat because modification times are identical"
       ]
      },
      {
       "output_type": "stream",
       "stream": "stdout",
       "text": [
        "\n",
        "Not copying HourlyData/Archive/2013/2013093010.dat to 2013/2013093010.dat because modification times are identical"
       ]
      },
      {
       "output_type": "stream",
       "stream": "stdout",
       "text": [
        "\n",
        "Not copying HourlyData/Archive/2013/2013093011.dat to 2013/2013093011.dat because modification times are identical"
       ]
      },
      {
       "output_type": "stream",
       "stream": "stdout",
       "text": [
        "\n",
        "Not copying HourlyData/Archive/2013/2013093012.dat to 2013/2013093012.dat because modification times are identical"
       ]
      },
      {
       "output_type": "stream",
       "stream": "stdout",
       "text": [
        "\n",
        "Not copying HourlyData/Archive/2013/2013093013.dat to 2013/2013093013.dat because modification times are identical"
       ]
      },
      {
       "output_type": "stream",
       "stream": "stdout",
       "text": [
        "\n",
        "Not copying HourlyData/Archive/2013/2013093014.dat to 2013/2013093014.dat because modification times are identical"
       ]
      },
      {
       "output_type": "stream",
       "stream": "stdout",
       "text": [
        "\n",
        "Not copying HourlyData/Archive/2013/2013093015.dat to 2013/2013093015.dat because modification times are identical"
       ]
      },
      {
       "output_type": "stream",
       "stream": "stdout",
       "text": [
        "\n",
        "Not copying HourlyData/Archive/2013/2013093016.dat to 2013/2013093016.dat because modification times are identical"
       ]
      },
      {
       "output_type": "stream",
       "stream": "stdout",
       "text": [
        "\n",
        "Not copying HourlyData/Archive/2013/2013093017.dat to 2013/2013093017.dat because modification times are identical"
       ]
      },
      {
       "output_type": "stream",
       "stream": "stdout",
       "text": [
        "\n",
        "Not copying HourlyData/Archive/2013/2013093018.dat to 2013/2013093018.dat because modification times are identical"
       ]
      },
      {
       "output_type": "stream",
       "stream": "stdout",
       "text": [
        "\n",
        "Not copying HourlyData/Archive/2013/2013093019.dat to 2013/2013093019.dat because modification times are identical"
       ]
      },
      {
       "output_type": "stream",
       "stream": "stdout",
       "text": [
        "\n",
        "Not copying HourlyData/Archive/2013/2013093020.dat to 2013/2013093020.dat because modification times are identical"
       ]
      },
      {
       "output_type": "stream",
       "stream": "stdout",
       "text": [
        "\n",
        "Not copying HourlyData/Archive/2013/2013093021.dat to 2013/2013093021.dat because modification times are identical"
       ]
      },
      {
       "output_type": "stream",
       "stream": "stdout",
       "text": [
        "\n",
        "Not copying HourlyData/Archive/2013/2013093022.dat to 2013/2013093022.dat because modification times are identical"
       ]
      },
      {
       "output_type": "stream",
       "stream": "stdout",
       "text": [
        "\n",
        "Not copying HourlyData/Archive/2013/2013093023.dat to 2013/2013093023.dat because modification times are identical"
       ]
      },
      {
       "output_type": "stream",
       "stream": "stdout",
       "text": [
        "\n",
        "Not copying HourlyData/Archive/2013/2013100100.dat to 2013/2013100100.dat because modification times are identical"
       ]
      },
      {
       "output_type": "stream",
       "stream": "stdout",
       "text": [
        "\n",
        "Not copying HourlyData/Archive/2013/2013100101.dat to 2013/2013100101.dat because modification times are identical"
       ]
      },
      {
       "output_type": "stream",
       "stream": "stdout",
       "text": [
        "\n",
        "Not copying HourlyData/Archive/2013/2013100102.dat to 2013/2013100102.dat because modification times are identical"
       ]
      },
      {
       "output_type": "stream",
       "stream": "stdout",
       "text": [
        "\n",
        "Not copying HourlyData/Archive/2013/2013100103.dat to 2013/2013100103.dat because modification times are identical"
       ]
      },
      {
       "output_type": "stream",
       "stream": "stdout",
       "text": [
        "\n",
        "Not copying HourlyData/Archive/2013/2013100104.dat to 2013/2013100104.dat because modification times are identical"
       ]
      },
      {
       "output_type": "stream",
       "stream": "stdout",
       "text": [
        "\n",
        "Not copying HourlyData/Archive/2013/2013100105.dat to 2013/2013100105.dat because modification times are identical"
       ]
      },
      {
       "output_type": "stream",
       "stream": "stdout",
       "text": [
        "\n",
        "Not copying HourlyData/Archive/2013/2013100106.dat to 2013/2013100106.dat because modification times are identical"
       ]
      },
      {
       "output_type": "stream",
       "stream": "stdout",
       "text": [
        "\n",
        "Not copying HourlyData/Archive/2013/2013100107.dat to 2013/2013100107.dat because modification times are identical"
       ]
      },
      {
       "output_type": "stream",
       "stream": "stdout",
       "text": [
        "\n",
        "Not copying HourlyData/Archive/2013/2013100108.dat to 2013/2013100108.dat because modification times are identical"
       ]
      },
      {
       "output_type": "stream",
       "stream": "stdout",
       "text": [
        "\n",
        "Not copying HourlyData/Archive/2013/2013100109.dat to 2013/2013100109.dat because modification times are identical"
       ]
      },
      {
       "output_type": "stream",
       "stream": "stdout",
       "text": [
        "\n",
        "Not copying HourlyData/Archive/2013/2013100110.dat to 2013/2013100110.dat because modification times are identical"
       ]
      },
      {
       "output_type": "stream",
       "stream": "stdout",
       "text": [
        "\n",
        "Not copying HourlyData/Archive/2013/2013100111.dat to 2013/2013100111.dat because modification times are identical"
       ]
      },
      {
       "output_type": "stream",
       "stream": "stdout",
       "text": [
        "\n",
        "Not copying HourlyData/Archive/2013/2013100112.dat to 2013/2013100112.dat because modification times are identical"
       ]
      },
      {
       "output_type": "stream",
       "stream": "stdout",
       "text": [
        "\n",
        "Not copying HourlyData/Archive/2013/2013100113.dat to 2013/2013100113.dat because modification times are identical"
       ]
      },
      {
       "output_type": "stream",
       "stream": "stdout",
       "text": [
        "\n",
        "Not copying HourlyData/Archive/2013/2013100114.dat to 2013/2013100114.dat because modification times are identical"
       ]
      },
      {
       "output_type": "stream",
       "stream": "stdout",
       "text": [
        "\n",
        "Not copying HourlyData/Archive/2013/2013100115.dat to 2013/2013100115.dat because modification times are identical"
       ]
      },
      {
       "output_type": "stream",
       "stream": "stdout",
       "text": [
        "\n",
        "Not copying HourlyData/Archive/2013/2013100116.dat to 2013/2013100116.dat because modification times are identical"
       ]
      },
      {
       "output_type": "stream",
       "stream": "stdout",
       "text": [
        "\n",
        "Not copying HourlyData/Archive/2013/2013100117.dat to 2013/2013100117.dat because modification times are identical"
       ]
      },
      {
       "output_type": "stream",
       "stream": "stdout",
       "text": [
        "\n",
        "Not copying HourlyData/Archive/2013/2013100118.dat to 2013/2013100118.dat because modification times are identical"
       ]
      },
      {
       "output_type": "stream",
       "stream": "stdout",
       "text": [
        "\n",
        "Not copying HourlyData/Archive/2013/2013100119.dat to 2013/2013100119.dat because modification times are identical"
       ]
      },
      {
       "output_type": "stream",
       "stream": "stdout",
       "text": [
        "\n",
        "Not copying HourlyData/Archive/2013/2013100120.dat to 2013/2013100120.dat because modification times are identical"
       ]
      },
      {
       "output_type": "stream",
       "stream": "stdout",
       "text": [
        "\n",
        "Not copying HourlyData/Archive/2013/2013100121.dat to 2013/2013100121.dat because modification times are identical"
       ]
      },
      {
       "output_type": "stream",
       "stream": "stdout",
       "text": [
        "\n",
        "Not copying HourlyData/Archive/2013/2013100122.dat to 2013/2013100122.dat because modification times are identical"
       ]
      },
      {
       "output_type": "stream",
       "stream": "stdout",
       "text": [
        "\n",
        "Not copying HourlyData/Archive/2013/2013100123.dat to 2013/2013100123.dat because modification times are identical"
       ]
      },
      {
       "output_type": "stream",
       "stream": "stdout",
       "text": [
        "\n",
        "Not copying HourlyData/Archive/2013/2013100200.dat to 2013/2013100200.dat because modification times are identical"
       ]
      },
      {
       "output_type": "stream",
       "stream": "stdout",
       "text": [
        "\n",
        "Not copying HourlyData/Archive/2013/2013100201.dat to 2013/2013100201.dat because modification times are identical"
       ]
      },
      {
       "output_type": "stream",
       "stream": "stdout",
       "text": [
        "\n",
        "Not copying HourlyData/Archive/2013/2013100202.dat to 2013/2013100202.dat because modification times are identical"
       ]
      },
      {
       "output_type": "stream",
       "stream": "stdout",
       "text": [
        "\n",
        "Not copying HourlyData/Archive/2013/2013100203.dat to 2013/2013100203.dat because modification times are identical"
       ]
      },
      {
       "output_type": "stream",
       "stream": "stdout",
       "text": [
        "\n",
        "Not copying HourlyData/Archive/2013/2013100204.dat to 2013/2013100204.dat because modification times are identical"
       ]
      },
      {
       "output_type": "stream",
       "stream": "stdout",
       "text": [
        "\n",
        "Not copying HourlyData/Archive/2013/2013100205.dat to 2013/2013100205.dat because modification times are identical"
       ]
      },
      {
       "output_type": "stream",
       "stream": "stdout",
       "text": [
        "\n",
        "Not copying HourlyData/Archive/2013/2013100206.dat to 2013/2013100206.dat because modification times are identical"
       ]
      },
      {
       "output_type": "stream",
       "stream": "stdout",
       "text": [
        "\n",
        "Not copying HourlyData/Archive/2013/2013100207.dat to 2013/2013100207.dat because modification times are identical"
       ]
      },
      {
       "output_type": "stream",
       "stream": "stdout",
       "text": [
        "\n",
        "Not copying HourlyData/Archive/2013/2013100208.dat to 2013/2013100208.dat because modification times are identical"
       ]
      },
      {
       "output_type": "stream",
       "stream": "stdout",
       "text": [
        "\n",
        "Not copying HourlyData/Archive/2013/2013100209.dat to 2013/2013100209.dat because modification times are identical"
       ]
      },
      {
       "output_type": "stream",
       "stream": "stdout",
       "text": [
        "\n",
        "Not copying HourlyData/Archive/2013/2013100210.dat to 2013/2013100210.dat because modification times are identical"
       ]
      },
      {
       "output_type": "stream",
       "stream": "stdout",
       "text": [
        "\n",
        "Not copying HourlyData/Archive/2013/2013100211.dat to 2013/2013100211.dat because modification times are identical"
       ]
      },
      {
       "output_type": "stream",
       "stream": "stdout",
       "text": [
        "\n",
        "Not copying HourlyData/Archive/2013/2013100212.dat to 2013/2013100212.dat because modification times are identical"
       ]
      },
      {
       "output_type": "stream",
       "stream": "stdout",
       "text": [
        "\n",
        "Not copying HourlyData/Archive/2013/2013100213.dat to 2013/2013100213.dat because modification times are identical"
       ]
      },
      {
       "output_type": "stream",
       "stream": "stdout",
       "text": [
        "\n",
        "Not copying HourlyData/Archive/2013/2013100214.dat to 2013/2013100214.dat because modification times are identical"
       ]
      },
      {
       "output_type": "stream",
       "stream": "stdout",
       "text": [
        "\n",
        "Not copying HourlyData/Archive/2013/2013100215.dat to 2013/2013100215.dat because modification times are identical"
       ]
      },
      {
       "output_type": "stream",
       "stream": "stdout",
       "text": [
        "\n",
        "Not copying HourlyData/Archive/2013/2013100216.dat to 2013/2013100216.dat because modification times are identical"
       ]
      },
      {
       "output_type": "stream",
       "stream": "stdout",
       "text": [
        "\n",
        "Not copying HourlyData/Archive/2013/2013100217.dat to 2013/2013100217.dat because modification times are identical"
       ]
      },
      {
       "output_type": "stream",
       "stream": "stdout",
       "text": [
        "\n",
        "Not copying HourlyData/Archive/2013/2013100218.dat to 2013/2013100218.dat because modification times are identical"
       ]
      },
      {
       "output_type": "stream",
       "stream": "stdout",
       "text": [
        "\n",
        "Not copying HourlyData/Archive/2013/2013100219.dat to 2013/2013100219.dat because modification times are identical"
       ]
      },
      {
       "output_type": "stream",
       "stream": "stdout",
       "text": [
        "\n",
        "Not copying HourlyData/Archive/2013/2013100220.dat to 2013/2013100220.dat because modification times are identical"
       ]
      },
      {
       "output_type": "stream",
       "stream": "stdout",
       "text": [
        "\n",
        "Not copying HourlyData/Archive/2013/2013100221.dat to 2013/2013100221.dat because modification times are identical"
       ]
      },
      {
       "output_type": "stream",
       "stream": "stdout",
       "text": [
        "\n",
        "Not copying HourlyData/Archive/2013/2013100222.dat to 2013/2013100222.dat because modification times are identical"
       ]
      },
      {
       "output_type": "stream",
       "stream": "stdout",
       "text": [
        "\n",
        "Not copying HourlyData/Archive/2013/2013100223.dat to 2013/2013100223.dat because modification times are identical"
       ]
      },
      {
       "output_type": "stream",
       "stream": "stdout",
       "text": [
        "\n",
        "Not copying HourlyData/Archive/2013/2013100300.dat to 2013/2013100300.dat because modification times are identical"
       ]
      },
      {
       "output_type": "stream",
       "stream": "stdout",
       "text": [
        "\n",
        "Not copying HourlyData/Archive/2013/2013100301.dat to 2013/2013100301.dat because modification times are identical"
       ]
      },
      {
       "output_type": "stream",
       "stream": "stdout",
       "text": [
        "\n",
        "Not copying HourlyData/Archive/2013/2013100302.dat to 2013/2013100302.dat because modification times are identical"
       ]
      },
      {
       "output_type": "stream",
       "stream": "stdout",
       "text": [
        "\n",
        "Not copying HourlyData/Archive/2013/2013100303.dat to 2013/2013100303.dat because modification times are identical"
       ]
      },
      {
       "output_type": "stream",
       "stream": "stdout",
       "text": [
        "\n",
        "Not copying HourlyData/Archive/2013/2013100304.dat to 2013/2013100304.dat because modification times are identical"
       ]
      },
      {
       "output_type": "stream",
       "stream": "stdout",
       "text": [
        "\n",
        "Not copying HourlyData/Archive/2013/2013100305.dat to 2013/2013100305.dat because modification times are identical"
       ]
      },
      {
       "output_type": "stream",
       "stream": "stdout",
       "text": [
        "\n",
        "Not copying HourlyData/Archive/2013/2013100306.dat to 2013/2013100306.dat because modification times are identical"
       ]
      },
      {
       "output_type": "stream",
       "stream": "stdout",
       "text": [
        "\n",
        "Not copying HourlyData/Archive/2013/2013100307.dat to 2013/2013100307.dat because modification times are identical"
       ]
      },
      {
       "output_type": "stream",
       "stream": "stdout",
       "text": [
        "\n",
        "Not copying HourlyData/Archive/2013/2013100308.dat to 2013/2013100308.dat because modification times are identical"
       ]
      },
      {
       "output_type": "stream",
       "stream": "stdout",
       "text": [
        "\n",
        "Not copying HourlyData/Archive/2013/2013100309.dat to 2013/2013100309.dat because modification times are identical"
       ]
      },
      {
       "output_type": "stream",
       "stream": "stdout",
       "text": [
        "\n",
        "Not copying HourlyData/Archive/2013/2013100310.dat to 2013/2013100310.dat because modification times are identical"
       ]
      },
      {
       "output_type": "stream",
       "stream": "stdout",
       "text": [
        "\n",
        "Not copying HourlyData/Archive/2013/2013100311.dat to 2013/2013100311.dat because modification times are identical"
       ]
      },
      {
       "output_type": "stream",
       "stream": "stdout",
       "text": [
        "\n",
        "Not copying HourlyData/Archive/2013/2013100312.dat to 2013/2013100312.dat because modification times are identical"
       ]
      },
      {
       "output_type": "stream",
       "stream": "stdout",
       "text": [
        "\n",
        "Not copying HourlyData/Archive/2013/2013100313.dat to 2013/2013100313.dat because modification times are identical"
       ]
      },
      {
       "output_type": "stream",
       "stream": "stdout",
       "text": [
        "\n",
        "Not copying HourlyData/Archive/2013/2013100314.dat to 2013/2013100314.dat because modification times are identical"
       ]
      },
      {
       "output_type": "stream",
       "stream": "stdout",
       "text": [
        "\n",
        "Not copying HourlyData/Archive/2013/2013100315.dat to 2013/2013100315.dat because modification times are identical"
       ]
      },
      {
       "output_type": "stream",
       "stream": "stdout",
       "text": [
        "\n",
        "Not copying HourlyData/Archive/2013/2013100316.dat to 2013/2013100316.dat because modification times are identical"
       ]
      },
      {
       "output_type": "stream",
       "stream": "stdout",
       "text": [
        "\n",
        "Not copying HourlyData/Archive/2013/2013100317.dat to 2013/2013100317.dat because modification times are identical"
       ]
      },
      {
       "output_type": "stream",
       "stream": "stdout",
       "text": [
        "\n",
        "Not copying HourlyData/Archive/2013/2013100318.dat to 2013/2013100318.dat because modification times are identical"
       ]
      },
      {
       "output_type": "stream",
       "stream": "stdout",
       "text": [
        "\n",
        "Not copying HourlyData/Archive/2013/2013100319.dat to 2013/2013100319.dat because modification times are identical"
       ]
      },
      {
       "output_type": "stream",
       "stream": "stdout",
       "text": [
        "\n",
        "Not copying HourlyData/Archive/2013/2013100320.dat to 2013/2013100320.dat because modification times are identical"
       ]
      },
      {
       "output_type": "stream",
       "stream": "stdout",
       "text": [
        "\n",
        "Not copying HourlyData/Archive/2013/2013100321.dat to 2013/2013100321.dat because modification times are identical"
       ]
      },
      {
       "output_type": "stream",
       "stream": "stdout",
       "text": [
        "\n",
        "Not copying HourlyData/Archive/2013/2013100322.dat to 2013/2013100322.dat because modification times are identical"
       ]
      },
      {
       "output_type": "stream",
       "stream": "stdout",
       "text": [
        "\n",
        "Not copying HourlyData/Archive/2013/2013100323.dat to 2013/2013100323.dat because modification times are identical"
       ]
      },
      {
       "output_type": "stream",
       "stream": "stdout",
       "text": [
        "\n",
        "Not copying HourlyData/Archive/2013/2013100400.dat to 2013/2013100400.dat because modification times are identical"
       ]
      },
      {
       "output_type": "stream",
       "stream": "stdout",
       "text": [
        "\n",
        "Not copying HourlyData/Archive/2013/2013100401.dat to 2013/2013100401.dat because modification times are identical"
       ]
      },
      {
       "output_type": "stream",
       "stream": "stdout",
       "text": [
        "\n",
        "Not copying HourlyData/Archive/2013/2013100402.dat to 2013/2013100402.dat because modification times are identical"
       ]
      },
      {
       "output_type": "stream",
       "stream": "stdout",
       "text": [
        "\n",
        "Not copying HourlyData/Archive/2013/2013100403.dat to 2013/2013100403.dat because modification times are identical"
       ]
      },
      {
       "output_type": "stream",
       "stream": "stdout",
       "text": [
        "\n",
        "Not copying HourlyData/Archive/2013/2013100404.dat to 2013/2013100404.dat because modification times are identical"
       ]
      },
      {
       "output_type": "stream",
       "stream": "stdout",
       "text": [
        "\n",
        "Not copying HourlyData/Archive/2013/2013100405.dat to 2013/2013100405.dat because modification times are identical"
       ]
      },
      {
       "output_type": "stream",
       "stream": "stdout",
       "text": [
        "\n",
        "Not copying HourlyData/Archive/2013/2013100406.dat to 2013/2013100406.dat because modification times are identical"
       ]
      },
      {
       "output_type": "stream",
       "stream": "stdout",
       "text": [
        "\n",
        "Not copying HourlyData/Archive/2013/2013100407.dat to 2013/2013100407.dat because modification times are identical"
       ]
      },
      {
       "output_type": "stream",
       "stream": "stdout",
       "text": [
        "\n",
        "Not copying HourlyData/Archive/2013/2013100408.dat to 2013/2013100408.dat because modification times are identical"
       ]
      },
      {
       "output_type": "stream",
       "stream": "stdout",
       "text": [
        "\n",
        "Not copying HourlyData/Archive/2013/2013100409.dat to 2013/2013100409.dat because modification times are identical"
       ]
      },
      {
       "output_type": "stream",
       "stream": "stdout",
       "text": [
        "\n",
        "Not copying HourlyData/Archive/2013/2013100410.dat to 2013/2013100410.dat because modification times are identical"
       ]
      },
      {
       "output_type": "stream",
       "stream": "stdout",
       "text": [
        "\n",
        "Not copying HourlyData/Archive/2013/2013100411.dat to 2013/2013100411.dat because modification times are identical"
       ]
      },
      {
       "output_type": "stream",
       "stream": "stdout",
       "text": [
        "\n",
        "Not copying HourlyData/Archive/2013/2013100412.dat to 2013/2013100412.dat because modification times are identical"
       ]
      },
      {
       "output_type": "stream",
       "stream": "stdout",
       "text": [
        "\n",
        "Not copying HourlyData/Archive/2013/2013100413.dat to 2013/2013100413.dat because modification times are identical"
       ]
      },
      {
       "output_type": "stream",
       "stream": "stdout",
       "text": [
        "\n",
        "Not copying HourlyData/Archive/2013/2013100414.dat to 2013/2013100414.dat because modification times are identical"
       ]
      },
      {
       "output_type": "stream",
       "stream": "stdout",
       "text": [
        "\n",
        "Not copying HourlyData/Archive/2013/2013100415.dat to 2013/2013100415.dat because modification times are identical"
       ]
      },
      {
       "output_type": "stream",
       "stream": "stdout",
       "text": [
        "\n",
        "Not copying HourlyData/Archive/2013/2013100416.dat to 2013/2013100416.dat because modification times are identical"
       ]
      },
      {
       "output_type": "stream",
       "stream": "stdout",
       "text": [
        "\n",
        "Not copying HourlyData/Archive/2013/2013100417.dat to 2013/2013100417.dat because modification times are identical"
       ]
      },
      {
       "output_type": "stream",
       "stream": "stdout",
       "text": [
        "\n",
        "Not copying HourlyData/Archive/2013/2013100418.dat to 2013/2013100418.dat because modification times are identical"
       ]
      },
      {
       "output_type": "stream",
       "stream": "stdout",
       "text": [
        "\n",
        "Not copying HourlyData/Archive/2013/2013100419.dat to 2013/2013100419.dat because modification times are identical"
       ]
      },
      {
       "output_type": "stream",
       "stream": "stdout",
       "text": [
        "\n",
        "Not copying HourlyData/Archive/2013/2013100420.dat to 2013/2013100420.dat because modification times are identical"
       ]
      },
      {
       "output_type": "stream",
       "stream": "stdout",
       "text": [
        "\n",
        "Not copying HourlyData/Archive/2013/2013100421.dat to 2013/2013100421.dat because modification times are identical"
       ]
      },
      {
       "output_type": "stream",
       "stream": "stdout",
       "text": [
        "\n",
        "Not copying HourlyData/Archive/2013/2013100422.dat to 2013/2013100422.dat because modification times are identical"
       ]
      },
      {
       "output_type": "stream",
       "stream": "stdout",
       "text": [
        "\n",
        "Not copying HourlyData/Archive/2013/2013100423.dat to 2013/2013100423.dat because modification times are identical"
       ]
      },
      {
       "output_type": "stream",
       "stream": "stdout",
       "text": [
        "\n",
        "Not copying HourlyData/Archive/2013/2013100500.dat to 2013/2013100500.dat because modification times are identical"
       ]
      },
      {
       "output_type": "stream",
       "stream": "stdout",
       "text": [
        "\n",
        "Not copying HourlyData/Archive/2013/2013100501.dat to 2013/2013100501.dat because modification times are identical"
       ]
      },
      {
       "output_type": "stream",
       "stream": "stdout",
       "text": [
        "\n",
        "Not copying HourlyData/Archive/2013/2013100502.dat to 2013/2013100502.dat because modification times are identical"
       ]
      },
      {
       "output_type": "stream",
       "stream": "stdout",
       "text": [
        "\n",
        "Not copying HourlyData/Archive/2013/2013100503.dat to 2013/2013100503.dat because modification times are identical"
       ]
      },
      {
       "output_type": "stream",
       "stream": "stdout",
       "text": [
        "\n",
        "Not copying HourlyData/Archive/2013/2013100504.dat to 2013/2013100504.dat because modification times are identical"
       ]
      },
      {
       "output_type": "stream",
       "stream": "stdout",
       "text": [
        "\n",
        "Not copying HourlyData/Archive/2013/2013100505.dat to 2013/2013100505.dat because modification times are identical"
       ]
      },
      {
       "output_type": "stream",
       "stream": "stdout",
       "text": [
        "\n",
        "Not copying HourlyData/Archive/2013/2013100506.dat to 2013/2013100506.dat because modification times are identical"
       ]
      },
      {
       "output_type": "stream",
       "stream": "stdout",
       "text": [
        "\n",
        "Not copying HourlyData/Archive/2013/2013100507.dat to 2013/2013100507.dat because modification times are identical"
       ]
      },
      {
       "output_type": "stream",
       "stream": "stdout",
       "text": [
        "\n",
        "Not copying HourlyData/Archive/2013/2013100508.dat to 2013/2013100508.dat because modification times are identical"
       ]
      },
      {
       "output_type": "stream",
       "stream": "stdout",
       "text": [
        "\n",
        "Not copying HourlyData/Archive/2013/2013100509.dat to 2013/2013100509.dat because modification times are identical"
       ]
      },
      {
       "output_type": "stream",
       "stream": "stdout",
       "text": [
        "\n",
        "Not copying HourlyData/Archive/2013/2013100510.dat to 2013/2013100510.dat because modification times are identical"
       ]
      },
      {
       "output_type": "stream",
       "stream": "stdout",
       "text": [
        "\n",
        "Not copying HourlyData/Archive/2013/2013100511.dat to 2013/2013100511.dat because modification times are identical"
       ]
      },
      {
       "output_type": "stream",
       "stream": "stdout",
       "text": [
        "\n",
        "Not copying HourlyData/Archive/2013/2013100512.dat to 2013/2013100512.dat because modification times are identical"
       ]
      },
      {
       "output_type": "stream",
       "stream": "stdout",
       "text": [
        "\n",
        "Not copying HourlyData/Archive/2013/2013100513.dat to 2013/2013100513.dat because modification times are identical"
       ]
      },
      {
       "output_type": "stream",
       "stream": "stdout",
       "text": [
        "\n",
        "Not copying HourlyData/Archive/2013/2013100514.dat to 2013/2013100514.dat because modification times are identical"
       ]
      },
      {
       "output_type": "stream",
       "stream": "stdout",
       "text": [
        "\n",
        "Not copying HourlyData/Archive/2013/2013100515.dat to 2013/2013100515.dat because modification times are identical"
       ]
      },
      {
       "output_type": "stream",
       "stream": "stdout",
       "text": [
        "\n",
        "Not copying HourlyData/Archive/2013/2013100516.dat to 2013/2013100516.dat because modification times are identical"
       ]
      },
      {
       "output_type": "stream",
       "stream": "stdout",
       "text": [
        "\n",
        "Not copying HourlyData/Archive/2013/2013100517.dat to 2013/2013100517.dat because modification times are identical"
       ]
      },
      {
       "output_type": "stream",
       "stream": "stdout",
       "text": [
        "\n",
        "Not copying HourlyData/Archive/2013/2013100518.dat to 2013/2013100518.dat because modification times are identical"
       ]
      },
      {
       "output_type": "stream",
       "stream": "stdout",
       "text": [
        "\n",
        "Not copying HourlyData/Archive/2013/2013100519.dat to 2013/2013100519.dat because modification times are identical"
       ]
      },
      {
       "output_type": "stream",
       "stream": "stdout",
       "text": [
        "\n",
        "Not copying HourlyData/Archive/2013/2013100520.dat to 2013/2013100520.dat because modification times are identical"
       ]
      },
      {
       "output_type": "stream",
       "stream": "stdout",
       "text": [
        "\n",
        "Not copying HourlyData/Archive/2013/2013100521.dat to 2013/2013100521.dat because modification times are identical"
       ]
      },
      {
       "output_type": "stream",
       "stream": "stdout",
       "text": [
        "\n",
        "Not copying HourlyData/Archive/2013/2013100522.dat to 2013/2013100522.dat because modification times are identical"
       ]
      },
      {
       "output_type": "stream",
       "stream": "stdout",
       "text": [
        "\n",
        "Not copying HourlyData/Archive/2013/2013100523.dat to 2013/2013100523.dat because modification times are identical"
       ]
      },
      {
       "output_type": "stream",
       "stream": "stdout",
       "text": [
        "\n",
        "Not copying HourlyData/Archive/2013/2013100600.dat to 2013/2013100600.dat because modification times are identical"
       ]
      },
      {
       "output_type": "stream",
       "stream": "stdout",
       "text": [
        "\n",
        "Not copying HourlyData/Archive/2013/2013100601.dat to 2013/2013100601.dat because modification times are identical"
       ]
      },
      {
       "output_type": "stream",
       "stream": "stdout",
       "text": [
        "\n",
        "Not copying HourlyData/Archive/2013/2013100602.dat to 2013/2013100602.dat because modification times are identical"
       ]
      },
      {
       "output_type": "stream",
       "stream": "stdout",
       "text": [
        "\n",
        "Not copying HourlyData/Archive/2013/2013100603.dat to 2013/2013100603.dat because modification times are identical"
       ]
      },
      {
       "output_type": "stream",
       "stream": "stdout",
       "text": [
        "\n",
        "Not copying HourlyData/Archive/2013/2013100604.dat to 2013/2013100604.dat because modification times are identical"
       ]
      },
      {
       "output_type": "stream",
       "stream": "stdout",
       "text": [
        "\n",
        "Not copying HourlyData/Archive/2013/2013100605.dat to 2013/2013100605.dat because modification times are identical"
       ]
      },
      {
       "output_type": "stream",
       "stream": "stdout",
       "text": [
        "\n",
        "Not copying HourlyData/Archive/2013/2013100606.dat to 2013/2013100606.dat because modification times are identical"
       ]
      },
      {
       "output_type": "stream",
       "stream": "stdout",
       "text": [
        "\n",
        "Not copying HourlyData/Archive/2013/2013100607.dat to 2013/2013100607.dat because modification times are identical"
       ]
      },
      {
       "output_type": "stream",
       "stream": "stdout",
       "text": [
        "\n",
        "Not copying HourlyData/Archive/2013/2013100608.dat to 2013/2013100608.dat because modification times are identical"
       ]
      },
      {
       "output_type": "stream",
       "stream": "stdout",
       "text": [
        "\n",
        "Not copying HourlyData/Archive/2013/2013100609.dat to 2013/2013100609.dat because modification times are identical"
       ]
      },
      {
       "output_type": "stream",
       "stream": "stdout",
       "text": [
        "\n",
        "Not copying HourlyData/Archive/2013/2013100610.dat to 2013/2013100610.dat because modification times are identical"
       ]
      },
      {
       "output_type": "stream",
       "stream": "stdout",
       "text": [
        "\n",
        "Not copying HourlyData/Archive/2013/2013100611.dat to 2013/2013100611.dat because modification times are identical"
       ]
      },
      {
       "output_type": "stream",
       "stream": "stdout",
       "text": [
        "\n",
        "Not copying HourlyData/Archive/2013/2013100612.dat to 2013/2013100612.dat because modification times are identical"
       ]
      },
      {
       "output_type": "stream",
       "stream": "stdout",
       "text": [
        "\n",
        "Not copying HourlyData/Archive/2013/2013100613.dat to 2013/2013100613.dat because modification times are identical"
       ]
      },
      {
       "output_type": "stream",
       "stream": "stdout",
       "text": [
        "\n",
        "Not copying HourlyData/Archive/2013/2013100614.dat to 2013/2013100614.dat because modification times are identical"
       ]
      },
      {
       "output_type": "stream",
       "stream": "stdout",
       "text": [
        "\n",
        "Not copying HourlyData/Archive/2013/2013100615.dat to 2013/2013100615.dat because modification times are identical"
       ]
      },
      {
       "output_type": "stream",
       "stream": "stdout",
       "text": [
        "\n",
        "Not copying HourlyData/Archive/2013/2013100616.dat to 2013/2013100616.dat because modification times are identical"
       ]
      },
      {
       "output_type": "stream",
       "stream": "stdout",
       "text": [
        "\n",
        "Not copying HourlyData/Archive/2013/2013100617.dat to 2013/2013100617.dat because modification times are identical"
       ]
      },
      {
       "output_type": "stream",
       "stream": "stdout",
       "text": [
        "\n",
        "Not copying HourlyData/Archive/2013/2013100618.dat to 2013/2013100618.dat because modification times are identical"
       ]
      },
      {
       "output_type": "stream",
       "stream": "stdout",
       "text": [
        "\n",
        "Not copying HourlyData/Archive/2013/2013100619.dat to 2013/2013100619.dat because modification times are identical"
       ]
      },
      {
       "output_type": "stream",
       "stream": "stdout",
       "text": [
        "\n",
        "Not copying HourlyData/Archive/2013/2013100620.dat to 2013/2013100620.dat because modification times are identical"
       ]
      },
      {
       "output_type": "stream",
       "stream": "stdout",
       "text": [
        "\n",
        "Not copying HourlyData/Archive/2013/2013100621.dat to 2013/2013100621.dat because modification times are identical"
       ]
      },
      {
       "output_type": "stream",
       "stream": "stdout",
       "text": [
        "\n",
        "Not copying HourlyData/Archive/2013/2013100622.dat to 2013/2013100622.dat because modification times are identical"
       ]
      },
      {
       "output_type": "stream",
       "stream": "stdout",
       "text": [
        "\n",
        "Not copying HourlyData/Archive/2013/2013100623.dat to 2013/2013100623.dat because modification times are identical"
       ]
      },
      {
       "output_type": "stream",
       "stream": "stdout",
       "text": [
        "\n",
        "Not copying HourlyData/Archive/2013/2013100700.dat to 2013/2013100700.dat because modification times are identical"
       ]
      },
      {
       "output_type": "stream",
       "stream": "stdout",
       "text": [
        "\n",
        "Not copying HourlyData/Archive/2013/2013100701.dat to 2013/2013100701.dat because modification times are identical"
       ]
      },
      {
       "output_type": "stream",
       "stream": "stdout",
       "text": [
        "\n",
        "Not copying HourlyData/Archive/2013/2013100702.dat to 2013/2013100702.dat because modification times are identical"
       ]
      },
      {
       "output_type": "stream",
       "stream": "stdout",
       "text": [
        "\n",
        "Not copying HourlyData/Archive/2013/2013100703.dat to 2013/2013100703.dat because modification times are identical"
       ]
      },
      {
       "output_type": "stream",
       "stream": "stdout",
       "text": [
        "\n",
        "Not copying HourlyData/Archive/2013/2013100704.dat to 2013/2013100704.dat because modification times are identical"
       ]
      },
      {
       "output_type": "stream",
       "stream": "stdout",
       "text": [
        "\n",
        "Not copying HourlyData/Archive/2013/2013100705.dat to 2013/2013100705.dat because modification times are identical"
       ]
      },
      {
       "output_type": "stream",
       "stream": "stdout",
       "text": [
        "\n",
        "Not copying HourlyData/Archive/2013/2013100706.dat to 2013/2013100706.dat because modification times are identical"
       ]
      },
      {
       "output_type": "stream",
       "stream": "stdout",
       "text": [
        "\n",
        "Not copying HourlyData/Archive/2013/2013100707.dat to 2013/2013100707.dat because modification times are identical"
       ]
      },
      {
       "output_type": "stream",
       "stream": "stdout",
       "text": [
        "\n",
        "Not copying HourlyData/Archive/2013/2013100708.dat to 2013/2013100708.dat because modification times are identical"
       ]
      },
      {
       "output_type": "stream",
       "stream": "stdout",
       "text": [
        "\n",
        "Not copying HourlyData/Archive/2013/2013100709.dat to 2013/2013100709.dat because modification times are identical"
       ]
      },
      {
       "output_type": "stream",
       "stream": "stdout",
       "text": [
        "\n",
        "Not copying HourlyData/Archive/2013/2013100710.dat to 2013/2013100710.dat because modification times are identical"
       ]
      },
      {
       "output_type": "stream",
       "stream": "stdout",
       "text": [
        "\n",
        "Not copying HourlyData/Archive/2013/2013100711.dat to 2013/2013100711.dat because modification times are identical"
       ]
      },
      {
       "output_type": "stream",
       "stream": "stdout",
       "text": [
        "\n",
        "Not copying HourlyData/Archive/2013/2013100712.dat to 2013/2013100712.dat because modification times are identical"
       ]
      },
      {
       "output_type": "stream",
       "stream": "stdout",
       "text": [
        "\n",
        "Not copying HourlyData/Archive/2013/2013100713.dat to 2013/2013100713.dat because modification times are identical"
       ]
      },
      {
       "output_type": "stream",
       "stream": "stdout",
       "text": [
        "\n",
        "Not copying HourlyData/Archive/2013/2013100714.dat to 2013/2013100714.dat because modification times are identical"
       ]
      },
      {
       "output_type": "stream",
       "stream": "stdout",
       "text": [
        "\n",
        "Not copying HourlyData/Archive/2013/2013100715.dat to 2013/2013100715.dat because modification times are identical"
       ]
      },
      {
       "output_type": "stream",
       "stream": "stdout",
       "text": [
        "\n",
        "Not copying HourlyData/Archive/2013/2013100716.dat to 2013/2013100716.dat because modification times are identical"
       ]
      },
      {
       "output_type": "stream",
       "stream": "stdout",
       "text": [
        "\n",
        "Not copying HourlyData/Archive/2013/2013100717.dat to 2013/2013100717.dat because modification times are identical"
       ]
      },
      {
       "output_type": "stream",
       "stream": "stdout",
       "text": [
        "\n",
        "Not copying HourlyData/Archive/2013/2013100718.dat to 2013/2013100718.dat because modification times are identical"
       ]
      },
      {
       "output_type": "stream",
       "stream": "stdout",
       "text": [
        "\n",
        "Not copying HourlyData/Archive/2013/2013100719.dat to 2013/2013100719.dat because modification times are identical"
       ]
      },
      {
       "output_type": "stream",
       "stream": "stdout",
       "text": [
        "\n",
        "Not copying HourlyData/Archive/2013/2013100720.dat to 2013/2013100720.dat because modification times are identical"
       ]
      },
      {
       "output_type": "stream",
       "stream": "stdout",
       "text": [
        "\n",
        "Not copying HourlyData/Archive/2013/2013100721.dat to 2013/2013100721.dat because modification times are identical"
       ]
      },
      {
       "output_type": "stream",
       "stream": "stdout",
       "text": [
        "\n",
        "Not copying HourlyData/Archive/2013/2013100722.dat to 2013/2013100722.dat because modification times are identical"
       ]
      },
      {
       "output_type": "stream",
       "stream": "stdout",
       "text": [
        "\n",
        "Not copying HourlyData/Archive/2013/2013100723.dat to 2013/2013100723.dat because modification times are identical"
       ]
      },
      {
       "output_type": "stream",
       "stream": "stdout",
       "text": [
        "\n",
        "Not copying HourlyData/Archive/2013/2013100800.dat to 2013/2013100800.dat because modification times are identical"
       ]
      },
      {
       "output_type": "stream",
       "stream": "stdout",
       "text": [
        "\n",
        "Not copying HourlyData/Archive/2013/2013100801.dat to 2013/2013100801.dat because modification times are identical"
       ]
      },
      {
       "output_type": "stream",
       "stream": "stdout",
       "text": [
        "\n",
        "Not copying HourlyData/Archive/2013/2013100802.dat to 2013/2013100802.dat because modification times are identical"
       ]
      },
      {
       "output_type": "stream",
       "stream": "stdout",
       "text": [
        "\n",
        "Not copying HourlyData/Archive/2013/2013100803.dat to 2013/2013100803.dat because modification times are identical"
       ]
      },
      {
       "output_type": "stream",
       "stream": "stdout",
       "text": [
        "\n",
        "Not copying HourlyData/Archive/2013/2013100804.dat to 2013/2013100804.dat because modification times are identical"
       ]
      },
      {
       "output_type": "stream",
       "stream": "stdout",
       "text": [
        "\n",
        "Not copying HourlyData/Archive/2013/2013100805.dat to 2013/2013100805.dat because modification times are identical"
       ]
      },
      {
       "output_type": "stream",
       "stream": "stdout",
       "text": [
        "\n",
        "Not copying HourlyData/Archive/2013/2013100806.dat to 2013/2013100806.dat because modification times are identical"
       ]
      },
      {
       "output_type": "stream",
       "stream": "stdout",
       "text": [
        "\n",
        "Not copying HourlyData/Archive/2013/2013100807.dat to 2013/2013100807.dat because modification times are identical"
       ]
      },
      {
       "output_type": "stream",
       "stream": "stdout",
       "text": [
        "\n",
        "Not copying HourlyData/Archive/2013/2013100808.dat to 2013/2013100808.dat because modification times are identical"
       ]
      },
      {
       "output_type": "stream",
       "stream": "stdout",
       "text": [
        "\n",
        "Not copying HourlyData/Archive/2013/2013100809.dat to 2013/2013100809.dat because modification times are identical"
       ]
      },
      {
       "output_type": "stream",
       "stream": "stdout",
       "text": [
        "\n",
        "Not copying HourlyData/Archive/2013/2013100810.dat to 2013/2013100810.dat because modification times are identical"
       ]
      },
      {
       "output_type": "stream",
       "stream": "stdout",
       "text": [
        "\n",
        "Not copying HourlyData/Archive/2013/2013100811.dat to 2013/2013100811.dat because modification times are identical"
       ]
      },
      {
       "output_type": "stream",
       "stream": "stdout",
       "text": [
        "\n",
        "Not copying HourlyData/Archive/2013/2013100812.dat to 2013/2013100812.dat because modification times are identical"
       ]
      },
      {
       "output_type": "stream",
       "stream": "stdout",
       "text": [
        "\n",
        "Not copying HourlyData/Archive/2013/2013100813.dat to 2013/2013100813.dat because modification times are identical"
       ]
      },
      {
       "output_type": "stream",
       "stream": "stdout",
       "text": [
        "\n",
        "Not copying HourlyData/Archive/2013/2013100814.dat to 2013/2013100814.dat because modification times are identical"
       ]
      },
      {
       "output_type": "stream",
       "stream": "stdout",
       "text": [
        "\n",
        "Not copying HourlyData/Archive/2013/2013100815.dat to 2013/2013100815.dat because modification times are identical"
       ]
      },
      {
       "output_type": "stream",
       "stream": "stdout",
       "text": [
        "\n",
        "Not copying HourlyData/Archive/2013/2013100816.dat to 2013/2013100816.dat because modification times are identical"
       ]
      },
      {
       "output_type": "stream",
       "stream": "stdout",
       "text": [
        "\n",
        "Not copying HourlyData/Archive/2013/2013100817.dat to 2013/2013100817.dat because modification times are identical"
       ]
      },
      {
       "output_type": "stream",
       "stream": "stdout",
       "text": [
        "\n",
        "Not copying HourlyData/Archive/2013/2013100818.dat to 2013/2013100818.dat because modification times are identical"
       ]
      },
      {
       "output_type": "stream",
       "stream": "stdout",
       "text": [
        "\n",
        "Not copying HourlyData/Archive/2013/2013100819.dat to 2013/2013100819.dat because modification times are identical"
       ]
      },
      {
       "output_type": "stream",
       "stream": "stdout",
       "text": [
        "\n",
        "Not copying HourlyData/Archive/2013/2013100820.dat to 2013/2013100820.dat because modification times are identical"
       ]
      },
      {
       "output_type": "stream",
       "stream": "stdout",
       "text": [
        "\n",
        "Not copying HourlyData/Archive/2013/2013100821.dat to 2013/2013100821.dat because modification times are identical"
       ]
      },
      {
       "output_type": "stream",
       "stream": "stdout",
       "text": [
        "\n",
        "Not copying HourlyData/Archive/2013/2013100822.dat to 2013/2013100822.dat because modification times are identical"
       ]
      },
      {
       "output_type": "stream",
       "stream": "stdout",
       "text": [
        "\n",
        "Not copying HourlyData/Archive/2013/2013100823.dat to 2013/2013100823.dat because modification times are identical"
       ]
      },
      {
       "output_type": "stream",
       "stream": "stdout",
       "text": [
        "\n",
        "Not copying HourlyData/Archive/2013/2013100900.dat to 2013/2013100900.dat because modification times are identical"
       ]
      },
      {
       "output_type": "stream",
       "stream": "stdout",
       "text": [
        "\n",
        "Not copying HourlyData/Archive/2013/2013100901.dat to 2013/2013100901.dat because modification times are identical"
       ]
      },
      {
       "output_type": "stream",
       "stream": "stdout",
       "text": [
        "\n",
        "Not copying HourlyData/Archive/2013/2013100902.dat to 2013/2013100902.dat because modification times are identical"
       ]
      },
      {
       "output_type": "stream",
       "stream": "stdout",
       "text": [
        "\n",
        "Not copying HourlyData/Archive/2013/2013100903.dat to 2013/2013100903.dat because modification times are identical"
       ]
      },
      {
       "output_type": "stream",
       "stream": "stdout",
       "text": [
        "\n",
        "Not copying HourlyData/Archive/2013/2013100904.dat to 2013/2013100904.dat because modification times are identical"
       ]
      },
      {
       "output_type": "stream",
       "stream": "stdout",
       "text": [
        "\n",
        "Not copying HourlyData/Archive/2013/2013100905.dat to 2013/2013100905.dat because modification times are identical"
       ]
      },
      {
       "output_type": "stream",
       "stream": "stdout",
       "text": [
        "\n",
        "Not copying HourlyData/Archive/2013/2013100906.dat to 2013/2013100906.dat because modification times are identical"
       ]
      },
      {
       "output_type": "stream",
       "stream": "stdout",
       "text": [
        "\n",
        "Not copying HourlyData/Archive/2013/2013100907.dat to 2013/2013100907.dat because modification times are identical"
       ]
      },
      {
       "output_type": "stream",
       "stream": "stdout",
       "text": [
        "\n",
        "Not copying HourlyData/Archive/2013/2013100908.dat to 2013/2013100908.dat because modification times are identical"
       ]
      },
      {
       "output_type": "stream",
       "stream": "stdout",
       "text": [
        "\n",
        "Not copying HourlyData/Archive/2013/2013100909.dat to 2013/2013100909.dat because modification times are identical"
       ]
      },
      {
       "output_type": "stream",
       "stream": "stdout",
       "text": [
        "\n",
        "Not copying HourlyData/Archive/2013/2013100910.dat to 2013/2013100910.dat because modification times are identical"
       ]
      },
      {
       "output_type": "stream",
       "stream": "stdout",
       "text": [
        "\n",
        "Not copying HourlyData/Archive/2013/2013100911.dat to 2013/2013100911.dat because modification times are identical"
       ]
      },
      {
       "output_type": "stream",
       "stream": "stdout",
       "text": [
        "\n",
        "Not copying HourlyData/Archive/2013/2013100912.dat to 2013/2013100912.dat because modification times are identical"
       ]
      },
      {
       "output_type": "stream",
       "stream": "stdout",
       "text": [
        "\n",
        "Not copying HourlyData/Archive/2013/2013100913.dat to 2013/2013100913.dat because modification times are identical"
       ]
      },
      {
       "output_type": "stream",
       "stream": "stdout",
       "text": [
        "\n",
        "Not copying HourlyData/Archive/2013/2013100914.dat to 2013/2013100914.dat because modification times are identical"
       ]
      },
      {
       "output_type": "stream",
       "stream": "stdout",
       "text": [
        "\n",
        "Not copying HourlyData/Archive/2013/2013100915.dat to 2013/2013100915.dat because modification times are identical"
       ]
      },
      {
       "output_type": "stream",
       "stream": "stdout",
       "text": [
        "\n",
        "Not copying HourlyData/Archive/2013/2013100916.dat to 2013/2013100916.dat because modification times are identical"
       ]
      },
      {
       "output_type": "stream",
       "stream": "stdout",
       "text": [
        "\n",
        "Not copying HourlyData/Archive/2013/2013100917.dat to 2013/2013100917.dat because modification times are identical"
       ]
      },
      {
       "output_type": "stream",
       "stream": "stdout",
       "text": [
        "\n",
        "Not copying HourlyData/Archive/2013/2013100918.dat to 2013/2013100918.dat because modification times are identical"
       ]
      },
      {
       "output_type": "stream",
       "stream": "stdout",
       "text": [
        "\n",
        "Not copying HourlyData/Archive/2013/2013100919.dat to 2013/2013100919.dat because modification times are identical"
       ]
      },
      {
       "output_type": "stream",
       "stream": "stdout",
       "text": [
        "\n",
        "Not copying HourlyData/Archive/2013/2013100920.dat to 2013/2013100920.dat because modification times are identical"
       ]
      },
      {
       "output_type": "stream",
       "stream": "stdout",
       "text": [
        "\n",
        "Not copying HourlyData/Archive/2013/2013100921.dat to 2013/2013100921.dat because modification times are identical"
       ]
      },
      {
       "output_type": "stream",
       "stream": "stdout",
       "text": [
        "\n",
        "Not copying HourlyData/Archive/2013/2013100922.dat to 2013/2013100922.dat because modification times are identical"
       ]
      },
      {
       "output_type": "stream",
       "stream": "stdout",
       "text": [
        "\n",
        "Not copying HourlyData/Archive/2013/2013100923.dat to 2013/2013100923.dat because modification times are identical"
       ]
      },
      {
       "output_type": "stream",
       "stream": "stdout",
       "text": [
        "\n",
        "Not copying HourlyData/Archive/2013/2013101000.dat to 2013/2013101000.dat because modification times are identical"
       ]
      },
      {
       "output_type": "stream",
       "stream": "stdout",
       "text": [
        "\n",
        "Not copying HourlyData/Archive/2013/2013101001.dat to 2013/2013101001.dat because modification times are identical"
       ]
      },
      {
       "output_type": "stream",
       "stream": "stdout",
       "text": [
        "\n",
        "Not copying HourlyData/Archive/2013/2013101002.dat to 2013/2013101002.dat because modification times are identical"
       ]
      },
      {
       "output_type": "stream",
       "stream": "stdout",
       "text": [
        "\n",
        "Not copying HourlyData/Archive/2013/2013101003.dat to 2013/2013101003.dat because modification times are identical"
       ]
      },
      {
       "output_type": "stream",
       "stream": "stdout",
       "text": [
        "\n",
        "Not copying HourlyData/Archive/2013/2013101004.dat to 2013/2013101004.dat because modification times are identical"
       ]
      },
      {
       "output_type": "stream",
       "stream": "stdout",
       "text": [
        "\n",
        "Not copying HourlyData/Archive/2013/2013101005.dat to 2013/2013101005.dat because modification times are identical"
       ]
      },
      {
       "output_type": "stream",
       "stream": "stdout",
       "text": [
        "\n",
        "Not copying HourlyData/Archive/2013/2013101006.dat to 2013/2013101006.dat because modification times are identical"
       ]
      },
      {
       "output_type": "stream",
       "stream": "stdout",
       "text": [
        "\n",
        "Not copying HourlyData/Archive/2013/2013101007.dat to 2013/2013101007.dat because modification times are identical"
       ]
      },
      {
       "output_type": "stream",
       "stream": "stdout",
       "text": [
        "\n",
        "Not copying HourlyData/Archive/2013/2013101008.dat to 2013/2013101008.dat because modification times are identical"
       ]
      },
      {
       "output_type": "stream",
       "stream": "stdout",
       "text": [
        "\n",
        "Not copying HourlyData/Archive/2013/2013101009.dat to 2013/2013101009.dat because modification times are identical"
       ]
      },
      {
       "output_type": "stream",
       "stream": "stdout",
       "text": [
        "\n",
        "Not copying HourlyData/Archive/2013/2013101010.dat to 2013/2013101010.dat because modification times are identical"
       ]
      },
      {
       "output_type": "stream",
       "stream": "stdout",
       "text": [
        "\n",
        "Not copying HourlyData/Archive/2013/2013101011.dat to 2013/2013101011.dat because modification times are identical"
       ]
      },
      {
       "output_type": "stream",
       "stream": "stdout",
       "text": [
        "\n",
        "Not copying HourlyData/Archive/2013/2013101012.dat to 2013/2013101012.dat because modification times are identical"
       ]
      },
      {
       "output_type": "stream",
       "stream": "stdout",
       "text": [
        "\n",
        "Not copying HourlyData/Archive/2013/2013101013.dat to 2013/2013101013.dat because modification times are identical"
       ]
      },
      {
       "output_type": "stream",
       "stream": "stdout",
       "text": [
        "\n",
        "Not copying HourlyData/Archive/2013/2013101014.dat to 2013/2013101014.dat because modification times are identical"
       ]
      },
      {
       "output_type": "stream",
       "stream": "stdout",
       "text": [
        "\n",
        "Not copying HourlyData/Archive/2013/2013101015.dat to 2013/2013101015.dat because modification times are identical"
       ]
      },
      {
       "output_type": "stream",
       "stream": "stdout",
       "text": [
        "\n",
        "Not copying HourlyData/Archive/2013/2013101016.dat to 2013/2013101016.dat because modification times are identical"
       ]
      },
      {
       "output_type": "stream",
       "stream": "stdout",
       "text": [
        "\n",
        "Not copying HourlyData/Archive/2013/2013101017.dat to 2013/2013101017.dat because modification times are identical"
       ]
      },
      {
       "output_type": "stream",
       "stream": "stdout",
       "text": [
        "\n",
        "Not copying HourlyData/Archive/2013/2013101018.dat to 2013/2013101018.dat because modification times are identical"
       ]
      },
      {
       "output_type": "stream",
       "stream": "stdout",
       "text": [
        "\n",
        "Not copying HourlyData/Archive/2013/2013101019.dat to 2013/2013101019.dat because modification times are identical"
       ]
      },
      {
       "output_type": "stream",
       "stream": "stdout",
       "text": [
        "\n",
        "Not copying HourlyData/Archive/2013/2013101020.dat to 2013/2013101020.dat because modification times are identical"
       ]
      },
      {
       "output_type": "stream",
       "stream": "stdout",
       "text": [
        "\n",
        "Not copying HourlyData/Archive/2013/2013101021.dat to 2013/2013101021.dat because modification times are identical"
       ]
      },
      {
       "output_type": "stream",
       "stream": "stdout",
       "text": [
        "\n",
        "Not copying HourlyData/Archive/2013/2013101022.dat to 2013/2013101022.dat because modification times are identical"
       ]
      },
      {
       "output_type": "stream",
       "stream": "stdout",
       "text": [
        "\n",
        "Not copying HourlyData/Archive/2013/2013101023.dat to 2013/2013101023.dat because modification times are identical"
       ]
      },
      {
       "output_type": "stream",
       "stream": "stdout",
       "text": [
        "\n",
        "Not copying HourlyData/Archive/2013/2013101100.dat to 2013/2013101100.dat because modification times are identical"
       ]
      },
      {
       "output_type": "stream",
       "stream": "stdout",
       "text": [
        "\n",
        "Not copying HourlyData/Archive/2013/2013101101.dat to 2013/2013101101.dat because modification times are identical"
       ]
      },
      {
       "output_type": "stream",
       "stream": "stdout",
       "text": [
        "\n",
        "Not copying HourlyData/Archive/2013/2013101102.dat to 2013/2013101102.dat because modification times are identical"
       ]
      },
      {
       "output_type": "stream",
       "stream": "stdout",
       "text": [
        "\n",
        "Not copying HourlyData/Archive/2013/2013101103.dat to 2013/2013101103.dat because modification times are identical"
       ]
      },
      {
       "output_type": "stream",
       "stream": "stdout",
       "text": [
        "\n",
        "Not copying HourlyData/Archive/2013/2013101104.dat to 2013/2013101104.dat because modification times are identical"
       ]
      },
      {
       "output_type": "stream",
       "stream": "stdout",
       "text": [
        "\n",
        "Not copying HourlyData/Archive/2013/2013101105.dat to 2013/2013101105.dat because modification times are identical"
       ]
      },
      {
       "output_type": "stream",
       "stream": "stdout",
       "text": [
        "\n",
        "Not copying HourlyData/Archive/2013/2013101106.dat to 2013/2013101106.dat because modification times are identical"
       ]
      },
      {
       "output_type": "stream",
       "stream": "stdout",
       "text": [
        "\n",
        "Not copying HourlyData/Archive/2013/2013101107.dat to 2013/2013101107.dat because modification times are identical"
       ]
      },
      {
       "output_type": "stream",
       "stream": "stdout",
       "text": [
        "\n",
        "Not copying HourlyData/Archive/2013/2013101108.dat to 2013/2013101108.dat because modification times are identical"
       ]
      },
      {
       "output_type": "stream",
       "stream": "stdout",
       "text": [
        "\n",
        "Not copying HourlyData/Archive/2013/2013101109.dat to 2013/2013101109.dat because modification times are identical"
       ]
      },
      {
       "output_type": "stream",
       "stream": "stdout",
       "text": [
        "\n",
        "Not copying HourlyData/Archive/2013/2013101110.dat to 2013/2013101110.dat because modification times are identical"
       ]
      },
      {
       "output_type": "stream",
       "stream": "stdout",
       "text": [
        "\n",
        "Not copying HourlyData/Archive/2013/2013101111.dat to 2013/2013101111.dat because modification times are identical"
       ]
      },
      {
       "output_type": "stream",
       "stream": "stdout",
       "text": [
        "\n",
        "Not copying HourlyData/Archive/2013/2013101112.dat to 2013/2013101112.dat because modification times are identical"
       ]
      },
      {
       "output_type": "stream",
       "stream": "stdout",
       "text": [
        "\n",
        "Not copying HourlyData/Archive/2013/2013101113.dat to 2013/2013101113.dat because modification times are identical"
       ]
      },
      {
       "output_type": "stream",
       "stream": "stdout",
       "text": [
        "\n",
        "Not copying HourlyData/Archive/2013/2013101114.dat to 2013/2013101114.dat because modification times are identical"
       ]
      },
      {
       "output_type": "stream",
       "stream": "stdout",
       "text": [
        "\n",
        "Not copying HourlyData/Archive/2013/2013101115.dat to 2013/2013101115.dat because modification times are identical"
       ]
      },
      {
       "output_type": "stream",
       "stream": "stdout",
       "text": [
        "\n",
        "Not copying HourlyData/Archive/2013/2013101116.dat to 2013/2013101116.dat because modification times are identical"
       ]
      },
      {
       "output_type": "stream",
       "stream": "stdout",
       "text": [
        "\n",
        "Not copying HourlyData/Archive/2013/2013101117.dat to 2013/2013101117.dat because modification times are identical"
       ]
      },
      {
       "output_type": "stream",
       "stream": "stdout",
       "text": [
        "\n",
        "Not copying HourlyData/Archive/2013/2013101118.dat to 2013/2013101118.dat because modification times are identical"
       ]
      },
      {
       "output_type": "stream",
       "stream": "stdout",
       "text": [
        "\n",
        "Not copying HourlyData/Archive/2013/2013101119.dat to 2013/2013101119.dat because modification times are identical"
       ]
      },
      {
       "output_type": "stream",
       "stream": "stdout",
       "text": [
        "\n",
        "Not copying HourlyData/Archive/2013/2013101120.dat to 2013/2013101120.dat because modification times are identical"
       ]
      },
      {
       "output_type": "stream",
       "stream": "stdout",
       "text": [
        "\n",
        "Not copying HourlyData/Archive/2013/2013101121.dat to 2013/2013101121.dat because modification times are identical"
       ]
      },
      {
       "output_type": "stream",
       "stream": "stdout",
       "text": [
        "\n",
        "Not copying HourlyData/Archive/2013/2013101122.dat to 2013/2013101122.dat because modification times are identical"
       ]
      },
      {
       "output_type": "stream",
       "stream": "stdout",
       "text": [
        "\n",
        "Not copying HourlyData/Archive/2013/2013101123.dat to 2013/2013101123.dat because modification times are identical"
       ]
      },
      {
       "output_type": "stream",
       "stream": "stdout",
       "text": [
        "\n",
        "Not copying HourlyData/Archive/2013/2013101200.dat to 2013/2013101200.dat because modification times are identical"
       ]
      },
      {
       "output_type": "stream",
       "stream": "stdout",
       "text": [
        "\n",
        "Not copying HourlyData/Archive/2013/2013101201.dat to 2013/2013101201.dat because modification times are identical"
       ]
      },
      {
       "output_type": "stream",
       "stream": "stdout",
       "text": [
        "\n",
        "Not copying HourlyData/Archive/2013/2013101202.dat to 2013/2013101202.dat because modification times are identical"
       ]
      },
      {
       "output_type": "stream",
       "stream": "stdout",
       "text": [
        "\n",
        "Not copying HourlyData/Archive/2013/2013101203.dat to 2013/2013101203.dat because modification times are identical"
       ]
      },
      {
       "output_type": "stream",
       "stream": "stdout",
       "text": [
        "\n",
        "Not copying HourlyData/Archive/2013/2013101204.dat to 2013/2013101204.dat because modification times are identical"
       ]
      },
      {
       "output_type": "stream",
       "stream": "stdout",
       "text": [
        "\n",
        "Not copying HourlyData/Archive/2013/2013101205.dat to 2013/2013101205.dat because modification times are identical"
       ]
      },
      {
       "output_type": "stream",
       "stream": "stdout",
       "text": [
        "\n",
        "Not copying HourlyData/Archive/2013/2013101206.dat to 2013/2013101206.dat because modification times are identical"
       ]
      },
      {
       "output_type": "stream",
       "stream": "stdout",
       "text": [
        "\n",
        "Not copying HourlyData/Archive/2013/2013101207.dat to 2013/2013101207.dat because modification times are identical"
       ]
      },
      {
       "output_type": "stream",
       "stream": "stdout",
       "text": [
        "\n",
        "Not copying HourlyData/Archive/2013/2013101208.dat to 2013/2013101208.dat because modification times are identical"
       ]
      },
      {
       "output_type": "stream",
       "stream": "stdout",
       "text": [
        "\n",
        "Not copying HourlyData/Archive/2013/2013101209.dat to 2013/2013101209.dat because modification times are identical"
       ]
      },
      {
       "output_type": "stream",
       "stream": "stdout",
       "text": [
        "\n",
        "Not copying HourlyData/Archive/2013/2013101210.dat to 2013/2013101210.dat because modification times are identical"
       ]
      },
      {
       "output_type": "stream",
       "stream": "stdout",
       "text": [
        "\n",
        "Not copying HourlyData/Archive/2013/2013101211.dat to 2013/2013101211.dat because modification times are identical"
       ]
      },
      {
       "output_type": "stream",
       "stream": "stdout",
       "text": [
        "\n",
        "Not copying HourlyData/Archive/2013/2013101212.dat to 2013/2013101212.dat because modification times are identical"
       ]
      },
      {
       "output_type": "stream",
       "stream": "stdout",
       "text": [
        "\n",
        "Not copying HourlyData/Archive/2013/2013101213.dat to 2013/2013101213.dat because modification times are identical"
       ]
      },
      {
       "output_type": "stream",
       "stream": "stdout",
       "text": [
        "\n",
        "Not copying HourlyData/Archive/2013/2013101214.dat to 2013/2013101214.dat because modification times are identical"
       ]
      },
      {
       "output_type": "stream",
       "stream": "stdout",
       "text": [
        "\n",
        "Not copying HourlyData/Archive/2013/2013101215.dat to 2013/2013101215.dat because modification times are identical"
       ]
      },
      {
       "output_type": "stream",
       "stream": "stdout",
       "text": [
        "\n",
        "Not copying HourlyData/Archive/2013/2013101216.dat to 2013/2013101216.dat because modification times are identical"
       ]
      },
      {
       "output_type": "stream",
       "stream": "stdout",
       "text": [
        "\n",
        "Not copying HourlyData/Archive/2013/2013101217.dat to 2013/2013101217.dat because modification times are identical"
       ]
      },
      {
       "output_type": "stream",
       "stream": "stdout",
       "text": [
        "\n",
        "Not copying HourlyData/Archive/2013/2013101218.dat to 2013/2013101218.dat because modification times are identical"
       ]
      },
      {
       "output_type": "stream",
       "stream": "stdout",
       "text": [
        "\n",
        "Not copying HourlyData/Archive/2013/2013101219.dat to 2013/2013101219.dat because modification times are identical"
       ]
      },
      {
       "output_type": "stream",
       "stream": "stdout",
       "text": [
        "\n",
        "Not copying HourlyData/Archive/2013/2013101220.dat to 2013/2013101220.dat because modification times are identical"
       ]
      },
      {
       "output_type": "stream",
       "stream": "stdout",
       "text": [
        "\n",
        "Not copying HourlyData/Archive/2013/2013101221.dat to 2013/2013101221.dat because modification times are identical"
       ]
      },
      {
       "output_type": "stream",
       "stream": "stdout",
       "text": [
        "\n",
        "Not copying HourlyData/Archive/2013/2013101222.dat to 2013/2013101222.dat because modification times are identical"
       ]
      },
      {
       "output_type": "stream",
       "stream": "stdout",
       "text": [
        "\n",
        "Not copying HourlyData/Archive/2013/2013101223.dat to 2013/2013101223.dat because modification times are identical"
       ]
      },
      {
       "output_type": "stream",
       "stream": "stdout",
       "text": [
        "\n",
        "Not copying HourlyData/Archive/2013/2013101300.dat to 2013/2013101300.dat because modification times are identical"
       ]
      },
      {
       "output_type": "stream",
       "stream": "stdout",
       "text": [
        "\n",
        "Not copying HourlyData/Archive/2013/2013101301.dat to 2013/2013101301.dat because modification times are identical"
       ]
      },
      {
       "output_type": "stream",
       "stream": "stdout",
       "text": [
        "\n",
        "Not copying HourlyData/Archive/2013/2013101302.dat to 2013/2013101302.dat because modification times are identical"
       ]
      },
      {
       "output_type": "stream",
       "stream": "stdout",
       "text": [
        "\n",
        "Not copying HourlyData/Archive/2013/2013101303.dat to 2013/2013101303.dat because modification times are identical"
       ]
      },
      {
       "output_type": "stream",
       "stream": "stdout",
       "text": [
        "\n",
        "Not copying HourlyData/Archive/2013/2013101304.dat to 2013/2013101304.dat because modification times are identical"
       ]
      },
      {
       "output_type": "stream",
       "stream": "stdout",
       "text": [
        "\n",
        "Not copying HourlyData/Archive/2013/2013101305.dat to 2013/2013101305.dat because modification times are identical"
       ]
      },
      {
       "output_type": "stream",
       "stream": "stdout",
       "text": [
        "\n",
        "Not copying HourlyData/Archive/2013/2013101306.dat to 2013/2013101306.dat because modification times are identical"
       ]
      },
      {
       "output_type": "stream",
       "stream": "stdout",
       "text": [
        "\n",
        "Not copying HourlyData/Archive/2013/2013101307.dat to 2013/2013101307.dat because modification times are identical"
       ]
      },
      {
       "output_type": "stream",
       "stream": "stdout",
       "text": [
        "\n",
        "Not copying HourlyData/Archive/2013/2013101308.dat to 2013/2013101308.dat because modification times are identical"
       ]
      },
      {
       "output_type": "stream",
       "stream": "stdout",
       "text": [
        "\n",
        "Not copying HourlyData/Archive/2013/2013101309.dat to 2013/2013101309.dat because modification times are identical"
       ]
      },
      {
       "output_type": "stream",
       "stream": "stdout",
       "text": [
        "\n",
        "Not copying HourlyData/Archive/2013/2013101310.dat to 2013/2013101310.dat because modification times are identical"
       ]
      },
      {
       "output_type": "stream",
       "stream": "stdout",
       "text": [
        "\n",
        "Not copying HourlyData/Archive/2013/2013101311.dat to 2013/2013101311.dat because modification times are identical"
       ]
      },
      {
       "output_type": "stream",
       "stream": "stdout",
       "text": [
        "\n",
        "Not copying HourlyData/Archive/2013/2013101312.dat to 2013/2013101312.dat because modification times are identical"
       ]
      },
      {
       "output_type": "stream",
       "stream": "stdout",
       "text": [
        "\n",
        "Not copying HourlyData/Archive/2013/2013101313.dat to 2013/2013101313.dat because modification times are identical"
       ]
      },
      {
       "output_type": "stream",
       "stream": "stdout",
       "text": [
        "\n",
        "Not copying HourlyData/Archive/2013/2013101314.dat to 2013/2013101314.dat because modification times are identical"
       ]
      },
      {
       "output_type": "stream",
       "stream": "stdout",
       "text": [
        "\n",
        "Not copying HourlyData/Archive/2013/2013101315.dat to 2013/2013101315.dat because modification times are identical"
       ]
      },
      {
       "output_type": "stream",
       "stream": "stdout",
       "text": [
        "\n",
        "Not copying HourlyData/Archive/2013/2013101316.dat to 2013/2013101316.dat because modification times are identical"
       ]
      },
      {
       "output_type": "stream",
       "stream": "stdout",
       "text": [
        "\n",
        "Not copying HourlyData/Archive/2013/2013101317.dat to 2013/2013101317.dat because modification times are identical"
       ]
      },
      {
       "output_type": "stream",
       "stream": "stdout",
       "text": [
        "\n",
        "Not copying HourlyData/Archive/2013/2013101318.dat to 2013/2013101318.dat because modification times are identical"
       ]
      },
      {
       "output_type": "stream",
       "stream": "stdout",
       "text": [
        "\n",
        "Not copying HourlyData/Archive/2013/2013101319.dat to 2013/2013101319.dat because modification times are identical"
       ]
      },
      {
       "output_type": "stream",
       "stream": "stdout",
       "text": [
        "\n",
        "Not copying HourlyData/Archive/2013/2013101320.dat to 2013/2013101320.dat because modification times are identical"
       ]
      },
      {
       "output_type": "stream",
       "stream": "stdout",
       "text": [
        "\n",
        "Not copying HourlyData/Archive/2013/2013101321.dat to 2013/2013101321.dat because modification times are identical"
       ]
      },
      {
       "output_type": "stream",
       "stream": "stdout",
       "text": [
        "\n",
        "Not copying HourlyData/Archive/2013/2013101322.dat to 2013/2013101322.dat because modification times are identical"
       ]
      },
      {
       "output_type": "stream",
       "stream": "stdout",
       "text": [
        "\n",
        "Not copying HourlyData/Archive/2013/2013101323.dat to 2013/2013101323.dat because modification times are identical"
       ]
      },
      {
       "output_type": "stream",
       "stream": "stdout",
       "text": [
        "\n",
        "Not copying HourlyData/Archive/2013/2013101400.dat to 2013/2013101400.dat because modification times are identical"
       ]
      },
      {
       "output_type": "stream",
       "stream": "stdout",
       "text": [
        "\n",
        "Not copying HourlyData/Archive/2013/2013101401.dat to 2013/2013101401.dat because modification times are identical"
       ]
      },
      {
       "output_type": "stream",
       "stream": "stdout",
       "text": [
        "\n",
        "Not copying HourlyData/Archive/2013/2013101402.dat to 2013/2013101402.dat because modification times are identical"
       ]
      },
      {
       "output_type": "stream",
       "stream": "stdout",
       "text": [
        "\n",
        "Not copying HourlyData/Archive/2013/2013101403.dat to 2013/2013101403.dat because modification times are identical"
       ]
      },
      {
       "output_type": "stream",
       "stream": "stdout",
       "text": [
        "\n",
        "Not copying HourlyData/Archive/2013/2013101404.dat to 2013/2013101404.dat because modification times are identical"
       ]
      },
      {
       "output_type": "stream",
       "stream": "stdout",
       "text": [
        "\n",
        "Not copying HourlyData/Archive/2013/2013101405.dat to 2013/2013101405.dat because modification times are identical"
       ]
      },
      {
       "output_type": "stream",
       "stream": "stdout",
       "text": [
        "\n",
        "Not copying HourlyData/Archive/2013/2013101406.dat to 2013/2013101406.dat because modification times are identical"
       ]
      },
      {
       "output_type": "stream",
       "stream": "stdout",
       "text": [
        "\n",
        "Not copying HourlyData/Archive/2013/2013101407.dat to 2013/2013101407.dat because modification times are identical"
       ]
      },
      {
       "output_type": "stream",
       "stream": "stdout",
       "text": [
        "\n",
        "Not copying HourlyData/Archive/2013/2013101408.dat to 2013/2013101408.dat because modification times are identical"
       ]
      },
      {
       "output_type": "stream",
       "stream": "stdout",
       "text": [
        "\n",
        "Not copying HourlyData/Archive/2013/2013101409.dat to 2013/2013101409.dat because modification times are identical"
       ]
      },
      {
       "output_type": "stream",
       "stream": "stdout",
       "text": [
        "\n",
        "Not copying HourlyData/Archive/2013/2013101410.dat to 2013/2013101410.dat because modification times are identical"
       ]
      },
      {
       "output_type": "stream",
       "stream": "stdout",
       "text": [
        "\n",
        "Not copying HourlyData/Archive/2013/2013101411.dat to 2013/2013101411.dat because modification times are identical"
       ]
      },
      {
       "output_type": "stream",
       "stream": "stdout",
       "text": [
        "\n",
        "Not copying HourlyData/Archive/2013/2013101412.dat to 2013/2013101412.dat because modification times are identical"
       ]
      },
      {
       "output_type": "stream",
       "stream": "stdout",
       "text": [
        "\n",
        "Not copying HourlyData/Archive/2013/2013101413.dat to 2013/2013101413.dat because modification times are identical"
       ]
      },
      {
       "output_type": "stream",
       "stream": "stdout",
       "text": [
        "\n",
        "Not copying HourlyData/Archive/2013/2013101414.dat to 2013/2013101414.dat because modification times are identical"
       ]
      },
      {
       "output_type": "stream",
       "stream": "stdout",
       "text": [
        "\n",
        "Not copying HourlyData/Archive/2013/2013101415.dat to 2013/2013101415.dat because modification times are identical"
       ]
      },
      {
       "output_type": "stream",
       "stream": "stdout",
       "text": [
        "\n",
        "Not copying HourlyData/Archive/2013/2013101416.dat to 2013/2013101416.dat because modification times are identical"
       ]
      },
      {
       "output_type": "stream",
       "stream": "stdout",
       "text": [
        "\n",
        "Not copying HourlyData/Archive/2013/2013101417.dat to 2013/2013101417.dat because modification times are identical"
       ]
      },
      {
       "output_type": "stream",
       "stream": "stdout",
       "text": [
        "\n",
        "Not copying HourlyData/Archive/2013/2013101418.dat to 2013/2013101418.dat because modification times are identical"
       ]
      },
      {
       "output_type": "stream",
       "stream": "stdout",
       "text": [
        "\n",
        "Not copying HourlyData/Archive/2013/2013101419.dat to 2013/2013101419.dat because modification times are identical"
       ]
      },
      {
       "output_type": "stream",
       "stream": "stdout",
       "text": [
        "\n",
        "Not copying HourlyData/Archive/2013/2013101420.dat to 2013/2013101420.dat because modification times are identical"
       ]
      },
      {
       "output_type": "stream",
       "stream": "stdout",
       "text": [
        "\n",
        "Not copying HourlyData/Archive/2013/2013101421.dat to 2013/2013101421.dat because modification times are identical"
       ]
      },
      {
       "output_type": "stream",
       "stream": "stdout",
       "text": [
        "\n",
        "Not copying HourlyData/Archive/2013/2013101422.dat to 2013/2013101422.dat because modification times are identical"
       ]
      },
      {
       "output_type": "stream",
       "stream": "stdout",
       "text": [
        "\n",
        "Not copying HourlyData/Archive/2013/2013101423.dat to 2013/2013101423.dat because modification times are identical"
       ]
      },
      {
       "output_type": "stream",
       "stream": "stdout",
       "text": [
        "\n",
        "Not copying HourlyData/Archive/2013/2013101500.dat to 2013/2013101500.dat because modification times are identical"
       ]
      },
      {
       "output_type": "stream",
       "stream": "stdout",
       "text": [
        "\n",
        "Not copying HourlyData/Archive/2013/2013101501.dat to 2013/2013101501.dat because modification times are identical"
       ]
      },
      {
       "output_type": "stream",
       "stream": "stdout",
       "text": [
        "\n",
        "Not copying HourlyData/Archive/2013/2013101502.dat to 2013/2013101502.dat because modification times are identical"
       ]
      },
      {
       "output_type": "stream",
       "stream": "stdout",
       "text": [
        "\n",
        "Not copying HourlyData/Archive/2013/2013101503.dat to 2013/2013101503.dat because modification times are identical"
       ]
      },
      {
       "output_type": "stream",
       "stream": "stdout",
       "text": [
        "\n",
        "Not copying HourlyData/Archive/2013/2013101504.dat to 2013/2013101504.dat because modification times are identical"
       ]
      },
      {
       "output_type": "stream",
       "stream": "stdout",
       "text": [
        "\n",
        "Not copying HourlyData/Archive/2013/2013101505.dat to 2013/2013101505.dat because modification times are identical"
       ]
      },
      {
       "output_type": "stream",
       "stream": "stdout",
       "text": [
        "\n",
        "Not copying HourlyData/Archive/2013/2013101506.dat to 2013/2013101506.dat because modification times are identical"
       ]
      },
      {
       "output_type": "stream",
       "stream": "stdout",
       "text": [
        "\n",
        "Not copying HourlyData/Archive/2013/2013101507.dat to 2013/2013101507.dat because modification times are identical"
       ]
      },
      {
       "output_type": "stream",
       "stream": "stdout",
       "text": [
        "\n",
        "Not copying HourlyData/Archive/2013/2013101508.dat to 2013/2013101508.dat because modification times are identical"
       ]
      },
      {
       "output_type": "stream",
       "stream": "stdout",
       "text": [
        "\n",
        "Not copying HourlyData/Archive/2013/2013101509.dat to 2013/2013101509.dat because modification times are identical"
       ]
      },
      {
       "output_type": "stream",
       "stream": "stdout",
       "text": [
        "\n",
        "Not copying HourlyData/Archive/2013/2013101510.dat to 2013/2013101510.dat because modification times are identical"
       ]
      },
      {
       "output_type": "stream",
       "stream": "stdout",
       "text": [
        "\n",
        "Not copying HourlyData/Archive/2013/2013101511.dat to 2013/2013101511.dat because modification times are identical"
       ]
      },
      {
       "output_type": "stream",
       "stream": "stdout",
       "text": [
        "\n",
        "Not copying HourlyData/Archive/2013/2013101512.dat to 2013/2013101512.dat because modification times are identical"
       ]
      },
      {
       "output_type": "stream",
       "stream": "stdout",
       "text": [
        "\n",
        "Not copying HourlyData/Archive/2013/2013101513.dat to 2013/2013101513.dat because modification times are identical"
       ]
      },
      {
       "output_type": "stream",
       "stream": "stdout",
       "text": [
        "\n",
        "Not copying HourlyData/Archive/2013/2013101514.dat to 2013/2013101514.dat because modification times are identical"
       ]
      },
      {
       "output_type": "stream",
       "stream": "stdout",
       "text": [
        "\n",
        "Not copying HourlyData/Archive/2013/2013101515.dat to 2013/2013101515.dat because modification times are identical"
       ]
      },
      {
       "output_type": "stream",
       "stream": "stdout",
       "text": [
        "\n",
        "Not copying HourlyData/Archive/2013/2013101516.dat to 2013/2013101516.dat because modification times are identical"
       ]
      },
      {
       "output_type": "stream",
       "stream": "stdout",
       "text": [
        "\n",
        "Not copying HourlyData/Archive/2013/2013101517.dat to 2013/2013101517.dat because modification times are identical"
       ]
      },
      {
       "output_type": "stream",
       "stream": "stdout",
       "text": [
        "\n",
        "Not copying HourlyData/Archive/2013/2013101518.dat to 2013/2013101518.dat because modification times are identical"
       ]
      },
      {
       "output_type": "stream",
       "stream": "stdout",
       "text": [
        "\n",
        "Not copying HourlyData/Archive/2013/2013101519.dat to 2013/2013101519.dat because modification times are identical"
       ]
      },
      {
       "output_type": "stream",
       "stream": "stdout",
       "text": [
        "\n",
        "Not copying HourlyData/Archive/2013/2013101520.dat to 2013/2013101520.dat because modification times are identical"
       ]
      },
      {
       "output_type": "stream",
       "stream": "stdout",
       "text": [
        "\n",
        "Not copying HourlyData/Archive/2013/2013101521.dat to 2013/2013101521.dat because modification times are identical"
       ]
      },
      {
       "output_type": "stream",
       "stream": "stdout",
       "text": [
        "\n",
        "Not copying HourlyData/Archive/2013/2013101522.dat to 2013/2013101522.dat because modification times are identical"
       ]
      },
      {
       "output_type": "stream",
       "stream": "stdout",
       "text": [
        "\n",
        "Not copying HourlyData/Archive/2013/2013101523.dat to 2013/2013101523.dat because modification times are identical"
       ]
      },
      {
       "output_type": "stream",
       "stream": "stdout",
       "text": [
        "\n",
        "Not copying HourlyData/Archive/2013/2013101600.dat to 2013/2013101600.dat because modification times are identical"
       ]
      },
      {
       "output_type": "stream",
       "stream": "stdout",
       "text": [
        "\n",
        "Not copying HourlyData/Archive/2013/2013101601.dat to 2013/2013101601.dat because modification times are identical"
       ]
      },
      {
       "output_type": "stream",
       "stream": "stdout",
       "text": [
        "\n",
        "Not copying HourlyData/Archive/2013/2013101602.dat to 2013/2013101602.dat because modification times are identical"
       ]
      },
      {
       "output_type": "stream",
       "stream": "stdout",
       "text": [
        "\n",
        "Not copying HourlyData/Archive/2013/2013101603.dat to 2013/2013101603.dat because modification times are identical"
       ]
      },
      {
       "output_type": "stream",
       "stream": "stdout",
       "text": [
        "\n",
        "Not copying HourlyData/Archive/2013/2013101604.dat to 2013/2013101604.dat because modification times are identical"
       ]
      },
      {
       "output_type": "stream",
       "stream": "stdout",
       "text": [
        "\n",
        "Not copying HourlyData/Archive/2013/2013101605.dat to 2013/2013101605.dat because modification times are identical"
       ]
      },
      {
       "output_type": "stream",
       "stream": "stdout",
       "text": [
        "\n",
        "Not copying HourlyData/Archive/2013/2013101606.dat to 2013/2013101606.dat because modification times are identical"
       ]
      },
      {
       "output_type": "stream",
       "stream": "stdout",
       "text": [
        "\n",
        "Not copying HourlyData/Archive/2013/2013101607.dat to 2013/2013101607.dat because modification times are identical"
       ]
      },
      {
       "output_type": "stream",
       "stream": "stdout",
       "text": [
        "\n",
        "Not copying HourlyData/Archive/2013/2013101608.dat to 2013/2013101608.dat because modification times are identical"
       ]
      },
      {
       "output_type": "stream",
       "stream": "stdout",
       "text": [
        "\n",
        "Not copying HourlyData/Archive/2013/2013101609.dat to 2013/2013101609.dat because modification times are identical"
       ]
      },
      {
       "output_type": "stream",
       "stream": "stdout",
       "text": [
        "\n",
        "Not copying HourlyData/Archive/2013/2013101610.dat to 2013/2013101610.dat because modification times are identical"
       ]
      },
      {
       "output_type": "stream",
       "stream": "stdout",
       "text": [
        "\n",
        "Not copying HourlyData/Archive/2013/2013101611.dat to 2013/2013101611.dat because modification times are identical"
       ]
      },
      {
       "output_type": "stream",
       "stream": "stdout",
       "text": [
        "\n",
        "Not copying HourlyData/Archive/2013/2013101612.dat to 2013/2013101612.dat because modification times are identical"
       ]
      },
      {
       "output_type": "stream",
       "stream": "stdout",
       "text": [
        "\n",
        "Not copying HourlyData/Archive/2013/2013101613.dat to 2013/2013101613.dat because modification times are identical"
       ]
      },
      {
       "output_type": "stream",
       "stream": "stdout",
       "text": [
        "\n",
        "Not copying HourlyData/Archive/2013/2013101614.dat to 2013/2013101614.dat because modification times are identical"
       ]
      },
      {
       "output_type": "stream",
       "stream": "stdout",
       "text": [
        "\n",
        "Not copying HourlyData/Archive/2013/2013101615.dat to 2013/2013101615.dat because modification times are identical"
       ]
      },
      {
       "output_type": "stream",
       "stream": "stdout",
       "text": [
        "\n",
        "Not copying HourlyData/Archive/2013/2013101616.dat to 2013/2013101616.dat because modification times are identical"
       ]
      },
      {
       "output_type": "stream",
       "stream": "stdout",
       "text": [
        "\n",
        "Not copying HourlyData/Archive/2013/2013101617.dat to 2013/2013101617.dat because modification times are identical"
       ]
      },
      {
       "output_type": "stream",
       "stream": "stdout",
       "text": [
        "\n",
        "Not copying HourlyData/Archive/2013/2013101618.dat to 2013/2013101618.dat because modification times are identical"
       ]
      },
      {
       "output_type": "stream",
       "stream": "stdout",
       "text": [
        "\n",
        "Not copying HourlyData/Archive/2013/2013101619.dat to 2013/2013101619.dat because modification times are identical"
       ]
      },
      {
       "output_type": "stream",
       "stream": "stdout",
       "text": [
        "\n",
        "Not copying HourlyData/Archive/2013/2013101620.dat to 2013/2013101620.dat because modification times are identical"
       ]
      },
      {
       "output_type": "stream",
       "stream": "stdout",
       "text": [
        "\n",
        "Not copying HourlyData/Archive/2013/2013101621.dat to 2013/2013101621.dat because modification times are identical"
       ]
      },
      {
       "output_type": "stream",
       "stream": "stdout",
       "text": [
        "\n",
        "Not copying HourlyData/Archive/2013/2013101622.dat to 2013/2013101622.dat because modification times are identical"
       ]
      },
      {
       "output_type": "stream",
       "stream": "stdout",
       "text": [
        "\n",
        "Not copying HourlyData/Archive/2013/2013101623.dat to 2013/2013101623.dat because modification times are identical"
       ]
      },
      {
       "output_type": "stream",
       "stream": "stdout",
       "text": [
        "\n",
        "Not copying HourlyData/Archive/2013/2013101700.dat to 2013/2013101700.dat because modification times are identical"
       ]
      },
      {
       "output_type": "stream",
       "stream": "stdout",
       "text": [
        "\n",
        "Not copying HourlyData/Archive/2013/2013101701.dat to 2013/2013101701.dat because modification times are identical"
       ]
      },
      {
       "output_type": "stream",
       "stream": "stdout",
       "text": [
        "\n",
        "Not copying HourlyData/Archive/2013/2013101702.dat to 2013/2013101702.dat because modification times are identical"
       ]
      },
      {
       "output_type": "stream",
       "stream": "stdout",
       "text": [
        "\n",
        "Not copying HourlyData/Archive/2013/2013101703.dat to 2013/2013101703.dat because modification times are identical"
       ]
      },
      {
       "output_type": "stream",
       "stream": "stdout",
       "text": [
        "\n",
        "Not copying HourlyData/Archive/2013/2013101704.dat to 2013/2013101704.dat because modification times are identical"
       ]
      },
      {
       "output_type": "stream",
       "stream": "stdout",
       "text": [
        "\n",
        "Not copying HourlyData/Archive/2013/2013101705.dat to 2013/2013101705.dat because modification times are identical"
       ]
      },
      {
       "output_type": "stream",
       "stream": "stdout",
       "text": [
        "\n",
        "Not copying HourlyData/Archive/2013/2013101706.dat to 2013/2013101706.dat because modification times are identical"
       ]
      },
      {
       "output_type": "stream",
       "stream": "stdout",
       "text": [
        "\n",
        "Not copying HourlyData/Archive/2013/2013101707.dat to 2013/2013101707.dat because modification times are identical"
       ]
      },
      {
       "output_type": "stream",
       "stream": "stdout",
       "text": [
        "\n",
        "Not copying HourlyData/Archive/2013/2013101708.dat to 2013/2013101708.dat because modification times are identical"
       ]
      },
      {
       "output_type": "stream",
       "stream": "stdout",
       "text": [
        "\n",
        "Not copying HourlyData/Archive/2013/2013101709.dat to 2013/2013101709.dat because modification times are identical"
       ]
      },
      {
       "output_type": "stream",
       "stream": "stdout",
       "text": [
        "\n",
        "Not copying HourlyData/Archive/2013/2013101710.dat to 2013/2013101710.dat because modification times are identical"
       ]
      },
      {
       "output_type": "stream",
       "stream": "stdout",
       "text": [
        "\n",
        "Not copying HourlyData/Archive/2013/2013101711.dat to 2013/2013101711.dat because modification times are identical"
       ]
      },
      {
       "output_type": "stream",
       "stream": "stdout",
       "text": [
        "\n",
        "Not copying HourlyData/Archive/2013/2013101712.dat to 2013/2013101712.dat because modification times are identical"
       ]
      },
      {
       "output_type": "stream",
       "stream": "stdout",
       "text": [
        "\n",
        "Not copying HourlyData/Archive/2013/2013101713.dat to 2013/2013101713.dat because modification times are identical"
       ]
      },
      {
       "output_type": "stream",
       "stream": "stdout",
       "text": [
        "\n",
        "Not copying HourlyData/Archive/2013/2013101714.dat to 2013/2013101714.dat because modification times are identical"
       ]
      },
      {
       "output_type": "stream",
       "stream": "stdout",
       "text": [
        "\n",
        "Not copying HourlyData/Archive/2013/2013101715.dat to 2013/2013101715.dat because modification times are identical"
       ]
      },
      {
       "output_type": "stream",
       "stream": "stdout",
       "text": [
        "\n",
        "Not copying HourlyData/Archive/2013/2013101716.dat to 2013/2013101716.dat because modification times are identical"
       ]
      },
      {
       "output_type": "stream",
       "stream": "stdout",
       "text": [
        "\n",
        "Not copying HourlyData/Archive/2013/2013101717.dat to 2013/2013101717.dat because modification times are identical"
       ]
      },
      {
       "output_type": "stream",
       "stream": "stdout",
       "text": [
        "\n",
        "Not copying HourlyData/Archive/2013/2013101718.dat to 2013/2013101718.dat because modification times are identical"
       ]
      },
      {
       "output_type": "stream",
       "stream": "stdout",
       "text": [
        "\n",
        "Not copying HourlyData/Archive/2013/2013101719.dat to 2013/2013101719.dat because modification times are identical"
       ]
      },
      {
       "output_type": "stream",
       "stream": "stdout",
       "text": [
        "\n",
        "Not copying HourlyData/Archive/2013/2013101720.dat to 2013/2013101720.dat because modification times are identical"
       ]
      },
      {
       "output_type": "stream",
       "stream": "stdout",
       "text": [
        "\n",
        "Not copying HourlyData/Archive/2013/2013101721.dat to 2013/2013101721.dat because modification times are identical"
       ]
      },
      {
       "output_type": "stream",
       "stream": "stdout",
       "text": [
        "\n",
        "Not copying HourlyData/Archive/2013/2013101722.dat to 2013/2013101722.dat because modification times are identical"
       ]
      },
      {
       "output_type": "stream",
       "stream": "stdout",
       "text": [
        "\n",
        "Not copying HourlyData/Archive/2013/2013101723.dat to 2013/2013101723.dat because modification times are identical"
       ]
      },
      {
       "output_type": "stream",
       "stream": "stdout",
       "text": [
        "\n",
        "Not copying HourlyData/Archive/2013/2013101800.dat to 2013/2013101800.dat because modification times are identical"
       ]
      },
      {
       "output_type": "stream",
       "stream": "stdout",
       "text": [
        "\n",
        "Not copying HourlyData/Archive/2013/2013101801.dat to 2013/2013101801.dat because modification times are identical"
       ]
      },
      {
       "output_type": "stream",
       "stream": "stdout",
       "text": [
        "\n",
        "Not copying HourlyData/Archive/2013/2013101802.dat to 2013/2013101802.dat because modification times are identical"
       ]
      },
      {
       "output_type": "stream",
       "stream": "stdout",
       "text": [
        "\n",
        "Not copying HourlyData/Archive/2013/2013101803.dat to 2013/2013101803.dat because modification times are identical"
       ]
      },
      {
       "output_type": "stream",
       "stream": "stdout",
       "text": [
        "\n",
        "Not copying HourlyData/Archive/2013/2013101804.dat to 2013/2013101804.dat because modification times are identical"
       ]
      },
      {
       "output_type": "stream",
       "stream": "stdout",
       "text": [
        "\n",
        "Not copying HourlyData/Archive/2013/2013101805.dat to 2013/2013101805.dat because modification times are identical"
       ]
      },
      {
       "output_type": "stream",
       "stream": "stdout",
       "text": [
        "\n",
        "Not copying HourlyData/Archive/2013/2013101806.dat to 2013/2013101806.dat because modification times are identical"
       ]
      },
      {
       "output_type": "stream",
       "stream": "stdout",
       "text": [
        "\n",
        "Not copying HourlyData/Archive/2013/2013101807.dat to 2013/2013101807.dat because modification times are identical"
       ]
      },
      {
       "output_type": "stream",
       "stream": "stdout",
       "text": [
        "\n",
        "Not copying HourlyData/Archive/2013/2013101808.dat to 2013/2013101808.dat because modification times are identical"
       ]
      },
      {
       "output_type": "stream",
       "stream": "stdout",
       "text": [
        "\n",
        "Not copying HourlyData/Archive/2013/2013101809.dat to 2013/2013101809.dat because modification times are identical"
       ]
      },
      {
       "output_type": "stream",
       "stream": "stdout",
       "text": [
        "\n",
        "Not copying HourlyData/Archive/2013/2013101810.dat to 2013/2013101810.dat because modification times are identical"
       ]
      },
      {
       "output_type": "stream",
       "stream": "stdout",
       "text": [
        "\n",
        "Not copying HourlyData/Archive/2013/2013101811.dat to 2013/2013101811.dat because modification times are identical"
       ]
      },
      {
       "output_type": "stream",
       "stream": "stdout",
       "text": [
        "\n",
        "Not copying HourlyData/Archive/2013/2013101812.dat to 2013/2013101812.dat because modification times are identical"
       ]
      },
      {
       "output_type": "stream",
       "stream": "stdout",
       "text": [
        "\n",
        "Not copying HourlyData/Archive/2013/2013101813.dat to 2013/2013101813.dat because modification times are identical"
       ]
      },
      {
       "output_type": "stream",
       "stream": "stdout",
       "text": [
        "\n",
        "Not copying HourlyData/Archive/2013/2013101814.dat to 2013/2013101814.dat because modification times are identical"
       ]
      },
      {
       "output_type": "stream",
       "stream": "stdout",
       "text": [
        "\n",
        "Not copying HourlyData/Archive/2013/2013101815.dat to 2013/2013101815.dat because modification times are identical"
       ]
      },
      {
       "output_type": "stream",
       "stream": "stdout",
       "text": [
        "\n",
        "Not copying HourlyData/Archive/2013/2013101816.dat to 2013/2013101816.dat because modification times are identical"
       ]
      },
      {
       "output_type": "stream",
       "stream": "stdout",
       "text": [
        "\n",
        "Not copying HourlyData/Archive/2013/2013101817.dat to 2013/2013101817.dat because modification times are identical"
       ]
      },
      {
       "output_type": "stream",
       "stream": "stdout",
       "text": [
        "\n",
        "Not copying HourlyData/Archive/2013/2013101818.dat to 2013/2013101818.dat because modification times are identical"
       ]
      },
      {
       "output_type": "stream",
       "stream": "stdout",
       "text": [
        "\n",
        "Not copying HourlyData/Archive/2013/2013101819.dat to 2013/2013101819.dat because modification times are identical"
       ]
      },
      {
       "output_type": "stream",
       "stream": "stdout",
       "text": [
        "\n",
        "Not copying HourlyData/Archive/2013/2013101820.dat to 2013/2013101820.dat because modification times are identical"
       ]
      },
      {
       "output_type": "stream",
       "stream": "stdout",
       "text": [
        "\n",
        "Not copying HourlyData/Archive/2013/2013101821.dat to 2013/2013101821.dat because modification times are identical"
       ]
      },
      {
       "output_type": "stream",
       "stream": "stdout",
       "text": [
        "\n",
        "Not copying HourlyData/Archive/2013/2013101822.dat to 2013/2013101822.dat because modification times are identical"
       ]
      },
      {
       "output_type": "stream",
       "stream": "stdout",
       "text": [
        "\n",
        "Not copying HourlyData/Archive/2013/2013101823.dat to 2013/2013101823.dat because modification times are identical"
       ]
      },
      {
       "output_type": "stream",
       "stream": "stdout",
       "text": [
        "\n",
        "Not copying HourlyData/Archive/2013/2013101900.dat to 2013/2013101900.dat because modification times are identical"
       ]
      },
      {
       "output_type": "stream",
       "stream": "stdout",
       "text": [
        "\n",
        "Not copying HourlyData/Archive/2013/2013101901.dat to 2013/2013101901.dat because modification times are identical"
       ]
      },
      {
       "output_type": "stream",
       "stream": "stdout",
       "text": [
        "\n",
        "Not copying HourlyData/Archive/2013/2013101902.dat to 2013/2013101902.dat because modification times are identical"
       ]
      },
      {
       "output_type": "stream",
       "stream": "stdout",
       "text": [
        "\n",
        "Not copying HourlyData/Archive/2013/2013101903.dat to 2013/2013101903.dat because modification times are identical"
       ]
      },
      {
       "output_type": "stream",
       "stream": "stdout",
       "text": [
        "\n",
        "Not copying HourlyData/Archive/2013/2013101904.dat to 2013/2013101904.dat because modification times are identical"
       ]
      },
      {
       "output_type": "stream",
       "stream": "stdout",
       "text": [
        "\n",
        "Not copying HourlyData/Archive/2013/2013101905.dat to 2013/2013101905.dat because modification times are identical"
       ]
      },
      {
       "output_type": "stream",
       "stream": "stdout",
       "text": [
        "\n",
        "Not copying HourlyData/Archive/2013/2013101906.dat to 2013/2013101906.dat because modification times are identical"
       ]
      },
      {
       "output_type": "stream",
       "stream": "stdout",
       "text": [
        "\n",
        "Not copying HourlyData/Archive/2013/2013101907.dat to 2013/2013101907.dat because modification times are identical"
       ]
      },
      {
       "output_type": "stream",
       "stream": "stdout",
       "text": [
        "\n",
        "Not copying HourlyData/Archive/2013/2013101908.dat to 2013/2013101908.dat because modification times are identical"
       ]
      },
      {
       "output_type": "stream",
       "stream": "stdout",
       "text": [
        "\n",
        "Not copying HourlyData/Archive/2013/2013101909.dat to 2013/2013101909.dat because modification times are identical"
       ]
      },
      {
       "output_type": "stream",
       "stream": "stdout",
       "text": [
        "\n",
        "Not copying HourlyData/Archive/2013/2013101910.dat to 2013/2013101910.dat because modification times are identical"
       ]
      },
      {
       "output_type": "stream",
       "stream": "stdout",
       "text": [
        "\n",
        "Not copying HourlyData/Archive/2013/2013101911.dat to 2013/2013101911.dat because modification times are identical"
       ]
      },
      {
       "output_type": "stream",
       "stream": "stdout",
       "text": [
        "\n",
        "Not copying HourlyData/Archive/2013/2013101912.dat to 2013/2013101912.dat because modification times are identical"
       ]
      },
      {
       "output_type": "stream",
       "stream": "stdout",
       "text": [
        "\n",
        "Not copying HourlyData/Archive/2013/2013101913.dat to 2013/2013101913.dat because modification times are identical"
       ]
      },
      {
       "output_type": "stream",
       "stream": "stdout",
       "text": [
        "\n",
        "Not copying HourlyData/Archive/2013/2013101914.dat to 2013/2013101914.dat because modification times are identical"
       ]
      },
      {
       "output_type": "stream",
       "stream": "stdout",
       "text": [
        "\n",
        "Not copying HourlyData/Archive/2013/2013101915.dat to 2013/2013101915.dat because modification times are identical"
       ]
      },
      {
       "output_type": "stream",
       "stream": "stdout",
       "text": [
        "\n",
        "Not copying HourlyData/Archive/2013/2013101916.dat to 2013/2013101916.dat because modification times are identical"
       ]
      },
      {
       "output_type": "stream",
       "stream": "stdout",
       "text": [
        "\n",
        "Not copying HourlyData/Archive/2013/2013101917.dat to 2013/2013101917.dat because modification times are identical"
       ]
      },
      {
       "output_type": "stream",
       "stream": "stdout",
       "text": [
        "\n",
        "Not copying HourlyData/Archive/2013/2013101918.dat to 2013/2013101918.dat because modification times are identical"
       ]
      },
      {
       "output_type": "stream",
       "stream": "stdout",
       "text": [
        "\n",
        "Not copying HourlyData/Archive/2013/2013101919.dat to 2013/2013101919.dat because modification times are identical"
       ]
      },
      {
       "output_type": "stream",
       "stream": "stdout",
       "text": [
        "\n",
        "Not copying HourlyData/Archive/2013/2013101920.dat to 2013/2013101920.dat because modification times are identical"
       ]
      },
      {
       "output_type": "stream",
       "stream": "stdout",
       "text": [
        "\n",
        "Not copying HourlyData/Archive/2013/2013101921.dat to 2013/2013101921.dat because modification times are identical"
       ]
      },
      {
       "output_type": "stream",
       "stream": "stdout",
       "text": [
        "\n",
        "Not copying HourlyData/Archive/2013/2013101922.dat to 2013/2013101922.dat because modification times are identical"
       ]
      },
      {
       "output_type": "stream",
       "stream": "stdout",
       "text": [
        "\n",
        "Not copying HourlyData/Archive/2013/2013101923.dat to 2013/2013101923.dat because modification times are identical"
       ]
      },
      {
       "output_type": "stream",
       "stream": "stdout",
       "text": [
        "\n",
        "Not copying HourlyData/Archive/2013/2013102000.dat to 2013/2013102000.dat because modification times are identical"
       ]
      },
      {
       "output_type": "stream",
       "stream": "stdout",
       "text": [
        "\n",
        "Not copying HourlyData/Archive/2013/2013102001.dat to 2013/2013102001.dat because modification times are identical"
       ]
      },
      {
       "output_type": "stream",
       "stream": "stdout",
       "text": [
        "\n",
        "Not copying HourlyData/Archive/2013/2013102002.dat to 2013/2013102002.dat because modification times are identical"
       ]
      },
      {
       "output_type": "stream",
       "stream": "stdout",
       "text": [
        "\n",
        "Not copying HourlyData/Archive/2013/2013102003.dat to 2013/2013102003.dat because modification times are identical"
       ]
      },
      {
       "output_type": "stream",
       "stream": "stdout",
       "text": [
        "\n",
        "Not copying HourlyData/Archive/2013/2013102004.dat to 2013/2013102004.dat because modification times are identical"
       ]
      },
      {
       "output_type": "stream",
       "stream": "stdout",
       "text": [
        "\n",
        "Not copying HourlyData/Archive/2013/2013102005.dat to 2013/2013102005.dat because modification times are identical"
       ]
      },
      {
       "output_type": "stream",
       "stream": "stdout",
       "text": [
        "\n",
        "Not copying HourlyData/Archive/2013/2013102006.dat to 2013/2013102006.dat because modification times are identical"
       ]
      },
      {
       "output_type": "stream",
       "stream": "stdout",
       "text": [
        "\n",
        "Not copying HourlyData/Archive/2013/2013102007.dat to 2013/2013102007.dat because modification times are identical"
       ]
      },
      {
       "output_type": "stream",
       "stream": "stdout",
       "text": [
        "\n",
        "Not copying HourlyData/Archive/2013/2013102008.dat to 2013/2013102008.dat because modification times are identical"
       ]
      },
      {
       "output_type": "stream",
       "stream": "stdout",
       "text": [
        "\n",
        "Not copying HourlyData/Archive/2013/2013102009.dat to 2013/2013102009.dat because modification times are identical"
       ]
      },
      {
       "output_type": "stream",
       "stream": "stdout",
       "text": [
        "\n",
        "Not copying HourlyData/Archive/2013/2013102010.dat to 2013/2013102010.dat because modification times are identical"
       ]
      },
      {
       "output_type": "stream",
       "stream": "stdout",
       "text": [
        "\n",
        "Not copying HourlyData/Archive/2013/2013102011.dat to 2013/2013102011.dat because modification times are identical"
       ]
      },
      {
       "output_type": "stream",
       "stream": "stdout",
       "text": [
        "\n",
        "Not copying HourlyData/Archive/2013/2013102012.dat to 2013/2013102012.dat because modification times are identical"
       ]
      },
      {
       "output_type": "stream",
       "stream": "stdout",
       "text": [
        "\n",
        "Not copying HourlyData/Archive/2013/2013102013.dat to 2013/2013102013.dat because modification times are identical"
       ]
      },
      {
       "output_type": "stream",
       "stream": "stdout",
       "text": [
        "\n",
        "Not copying HourlyData/Archive/2013/2013102014.dat to 2013/2013102014.dat because modification times are identical"
       ]
      },
      {
       "output_type": "stream",
       "stream": "stdout",
       "text": [
        "\n",
        "Not copying HourlyData/Archive/2013/2013102015.dat to 2013/2013102015.dat because modification times are identical"
       ]
      },
      {
       "output_type": "stream",
       "stream": "stdout",
       "text": [
        "\n",
        "Not copying HourlyData/Archive/2013/2013102016.dat to 2013/2013102016.dat because modification times are identical"
       ]
      },
      {
       "output_type": "stream",
       "stream": "stdout",
       "text": [
        "\n",
        "Not copying HourlyData/Archive/2013/2013102017.dat to 2013/2013102017.dat because modification times are identical"
       ]
      },
      {
       "output_type": "stream",
       "stream": "stdout",
       "text": [
        "\n",
        "Not copying HourlyData/Archive/2013/2013102018.dat to 2013/2013102018.dat because modification times are identical"
       ]
      },
      {
       "output_type": "stream",
       "stream": "stdout",
       "text": [
        "\n",
        "Not copying HourlyData/Archive/2013/2013102019.dat to 2013/2013102019.dat because modification times are identical"
       ]
      },
      {
       "output_type": "stream",
       "stream": "stdout",
       "text": [
        "\n",
        "Not copying HourlyData/Archive/2013/2013102020.dat to 2013/2013102020.dat because modification times are identical"
       ]
      },
      {
       "output_type": "stream",
       "stream": "stdout",
       "text": [
        "\n",
        "Not copying HourlyData/Archive/2013/2013102021.dat to 2013/2013102021.dat because modification times are identical"
       ]
      },
      {
       "output_type": "stream",
       "stream": "stdout",
       "text": [
        "\n",
        "Not copying HourlyData/Archive/2013/2013102022.dat to 2013/2013102022.dat because modification times are identical"
       ]
      },
      {
       "output_type": "stream",
       "stream": "stdout",
       "text": [
        "\n",
        "Not copying HourlyData/Archive/2013/2013102023.dat to 2013/2013102023.dat because modification times are identical"
       ]
      },
      {
       "output_type": "stream",
       "stream": "stdout",
       "text": [
        "\n",
        "Not copying HourlyData/Archive/2013/2013102100.dat to 2013/2013102100.dat because modification times are identical"
       ]
      },
      {
       "output_type": "stream",
       "stream": "stdout",
       "text": [
        "\n",
        "Not copying HourlyData/Archive/2013/2013102101.dat to 2013/2013102101.dat because modification times are identical"
       ]
      },
      {
       "output_type": "stream",
       "stream": "stdout",
       "text": [
        "\n",
        "Not copying HourlyData/Archive/2013/2013102102.dat to 2013/2013102102.dat because modification times are identical"
       ]
      },
      {
       "output_type": "stream",
       "stream": "stdout",
       "text": [
        "\n",
        "Not copying HourlyData/Archive/2013/2013102103.dat to 2013/2013102103.dat because modification times are identical"
       ]
      },
      {
       "output_type": "stream",
       "stream": "stdout",
       "text": [
        "\n",
        "Not copying HourlyData/Archive/2013/2013102104.dat to 2013/2013102104.dat because modification times are identical"
       ]
      },
      {
       "output_type": "stream",
       "stream": "stdout",
       "text": [
        "\n",
        "Not copying HourlyData/Archive/2013/2013102105.dat to 2013/2013102105.dat because modification times are identical"
       ]
      },
      {
       "output_type": "stream",
       "stream": "stdout",
       "text": [
        "\n",
        "Not copying HourlyData/Archive/2013/2013102106.dat to 2013/2013102106.dat because modification times are identical"
       ]
      },
      {
       "output_type": "stream",
       "stream": "stdout",
       "text": [
        "\n",
        "Not copying HourlyData/Archive/2013/2013102107.dat to 2013/2013102107.dat because modification times are identical"
       ]
      },
      {
       "output_type": "stream",
       "stream": "stdout",
       "text": [
        "\n",
        "Not copying HourlyData/Archive/2013/2013102108.dat to 2013/2013102108.dat because modification times are identical"
       ]
      },
      {
       "output_type": "stream",
       "stream": "stdout",
       "text": [
        "\n",
        "Not copying HourlyData/Archive/2013/2013102109.dat to 2013/2013102109.dat because modification times are identical"
       ]
      },
      {
       "output_type": "stream",
       "stream": "stdout",
       "text": [
        "\n",
        "Not copying HourlyData/Archive/2013/2013102110.dat to 2013/2013102110.dat because modification times are identical"
       ]
      },
      {
       "output_type": "stream",
       "stream": "stdout",
       "text": [
        "\n",
        "Not copying HourlyData/Archive/2013/2013102111.dat to 2013/2013102111.dat because modification times are identical"
       ]
      },
      {
       "output_type": "stream",
       "stream": "stdout",
       "text": [
        "\n",
        "Not copying HourlyData/Archive/2013/2013102112.dat to 2013/2013102112.dat because modification times are identical"
       ]
      },
      {
       "output_type": "stream",
       "stream": "stdout",
       "text": [
        "\n",
        "Not copying HourlyData/Archive/2013/2013102113.dat to 2013/2013102113.dat because modification times are identical"
       ]
      },
      {
       "output_type": "stream",
       "stream": "stdout",
       "text": [
        "\n",
        "Not copying HourlyData/Archive/2013/2013102114.dat to 2013/2013102114.dat because modification times are identical"
       ]
      },
      {
       "output_type": "stream",
       "stream": "stdout",
       "text": [
        "\n",
        "Not copying HourlyData/Archive/2013/2013102115.dat to 2013/2013102115.dat because modification times are identical"
       ]
      },
      {
       "output_type": "stream",
       "stream": "stdout",
       "text": [
        "\n",
        "Not copying HourlyData/Archive/2013/2013102116.dat to 2013/2013102116.dat because modification times are identical"
       ]
      },
      {
       "output_type": "stream",
       "stream": "stdout",
       "text": [
        "\n",
        "Not copying HourlyData/Archive/2013/2013102117.dat to 2013/2013102117.dat because modification times are identical"
       ]
      },
      {
       "output_type": "stream",
       "stream": "stdout",
       "text": [
        "\n",
        "Not copying HourlyData/Archive/2013/2013102118.dat to 2013/2013102118.dat because modification times are identical"
       ]
      },
      {
       "output_type": "stream",
       "stream": "stdout",
       "text": [
        "\n",
        "Not copying HourlyData/Archive/2013/2013102119.dat to 2013/2013102119.dat because modification times are identical"
       ]
      },
      {
       "output_type": "stream",
       "stream": "stdout",
       "text": [
        "\n",
        "Not copying HourlyData/Archive/2013/2013102120.dat to 2013/2013102120.dat because modification times are identical"
       ]
      },
      {
       "output_type": "stream",
       "stream": "stdout",
       "text": [
        "\n",
        "Not copying HourlyData/Archive/2013/2013102121.dat to 2013/2013102121.dat because modification times are identical"
       ]
      },
      {
       "output_type": "stream",
       "stream": "stdout",
       "text": [
        "\n",
        "Not copying HourlyData/Archive/2013/2013102122.dat to 2013/2013102122.dat because modification times are identical"
       ]
      },
      {
       "output_type": "stream",
       "stream": "stdout",
       "text": [
        "\n",
        "Not copying HourlyData/Archive/2013/2013102123.dat to 2013/2013102123.dat because modification times are identical"
       ]
      },
      {
       "output_type": "stream",
       "stream": "stdout",
       "text": [
        "\n",
        "Not copying HourlyData/Archive/2013/2013102200.dat to 2013/2013102200.dat because modification times are identical"
       ]
      },
      {
       "output_type": "stream",
       "stream": "stdout",
       "text": [
        "\n",
        "Not copying HourlyData/Archive/2013/2013102201.dat to 2013/2013102201.dat because modification times are identical"
       ]
      },
      {
       "output_type": "stream",
       "stream": "stdout",
       "text": [
        "\n",
        "Not copying HourlyData/Archive/2013/2013102202.dat to 2013/2013102202.dat because modification times are identical"
       ]
      },
      {
       "output_type": "stream",
       "stream": "stdout",
       "text": [
        "\n",
        "Not copying HourlyData/Archive/2013/2013102203.dat to 2013/2013102203.dat because modification times are identical"
       ]
      },
      {
       "output_type": "stream",
       "stream": "stdout",
       "text": [
        "\n",
        "Not copying HourlyData/Archive/2013/2013102204.dat to 2013/2013102204.dat because modification times are identical"
       ]
      },
      {
       "output_type": "stream",
       "stream": "stdout",
       "text": [
        "\n",
        "Not copying HourlyData/Archive/2013/2013102205.dat to 2013/2013102205.dat because modification times are identical"
       ]
      },
      {
       "output_type": "stream",
       "stream": "stdout",
       "text": [
        "\n",
        "Not copying HourlyData/Archive/2013/2013102206.dat to 2013/2013102206.dat because modification times are identical"
       ]
      },
      {
       "output_type": "stream",
       "stream": "stdout",
       "text": [
        "\n",
        "Not copying HourlyData/Archive/2013/2013102207.dat to 2013/2013102207.dat because modification times are identical"
       ]
      },
      {
       "output_type": "stream",
       "stream": "stdout",
       "text": [
        "\n",
        "Not copying HourlyData/Archive/2013/2013102208.dat to 2013/2013102208.dat because modification times are identical"
       ]
      },
      {
       "output_type": "stream",
       "stream": "stdout",
       "text": [
        "\n",
        "Not copying HourlyData/Archive/2013/2013102209.dat to 2013/2013102209.dat because modification times are identical"
       ]
      },
      {
       "output_type": "stream",
       "stream": "stdout",
       "text": [
        "\n",
        "Not copying HourlyData/Archive/2013/2013102210.dat to 2013/2013102210.dat because modification times are identical"
       ]
      },
      {
       "output_type": "stream",
       "stream": "stdout",
       "text": [
        "\n",
        "Not copying HourlyData/Archive/2013/2013102211.dat to 2013/2013102211.dat because modification times are identical"
       ]
      },
      {
       "output_type": "stream",
       "stream": "stdout",
       "text": [
        "\n",
        "Not copying HourlyData/Archive/2013/2013102212.dat to 2013/2013102212.dat because modification times are identical"
       ]
      },
      {
       "output_type": "stream",
       "stream": "stdout",
       "text": [
        "\n",
        "Not copying HourlyData/Archive/2013/2013102213.dat to 2013/2013102213.dat because modification times are identical"
       ]
      },
      {
       "output_type": "stream",
       "stream": "stdout",
       "text": [
        "\n",
        "Not copying HourlyData/Archive/2013/2013102214.dat to 2013/2013102214.dat because modification times are identical"
       ]
      },
      {
       "output_type": "stream",
       "stream": "stdout",
       "text": [
        "\n",
        "Not copying HourlyData/Archive/2013/2013102215.dat to 2013/2013102215.dat because modification times are identical"
       ]
      },
      {
       "output_type": "stream",
       "stream": "stdout",
       "text": [
        "\n",
        "Not copying HourlyData/Archive/2013/2013102216.dat to 2013/2013102216.dat because modification times are identical"
       ]
      },
      {
       "output_type": "stream",
       "stream": "stdout",
       "text": [
        "\n",
        "Not copying HourlyData/Archive/2013/2013102217.dat to 2013/2013102217.dat because modification times are identical"
       ]
      },
      {
       "output_type": "stream",
       "stream": "stdout",
       "text": [
        "\n",
        "Not copying HourlyData/Archive/2013/2013102218.dat to 2013/2013102218.dat because modification times are identical"
       ]
      },
      {
       "output_type": "stream",
       "stream": "stdout",
       "text": [
        "\n",
        "Not copying HourlyData/Archive/2013/2013102219.dat to 2013/2013102219.dat because modification times are identical"
       ]
      },
      {
       "output_type": "stream",
       "stream": "stdout",
       "text": [
        "\n",
        "Not copying HourlyData/Archive/2013/2013102220.dat to 2013/2013102220.dat because modification times are identical"
       ]
      },
      {
       "output_type": "stream",
       "stream": "stdout",
       "text": [
        "\n",
        "Not copying HourlyData/Archive/2013/2013102221.dat to 2013/2013102221.dat because modification times are identical"
       ]
      },
      {
       "output_type": "stream",
       "stream": "stdout",
       "text": [
        "\n",
        "Not copying HourlyData/Archive/2013/2013102222.dat to 2013/2013102222.dat because modification times are identical"
       ]
      },
      {
       "output_type": "stream",
       "stream": "stdout",
       "text": [
        "\n",
        "Not copying HourlyData/Archive/2013/2013102223.dat to 2013/2013102223.dat because modification times are identical"
       ]
      },
      {
       "output_type": "stream",
       "stream": "stdout",
       "text": [
        "\n",
        "Not copying HourlyData/Archive/2013/2013102300.dat to 2013/2013102300.dat because modification times are identical"
       ]
      },
      {
       "output_type": "stream",
       "stream": "stdout",
       "text": [
        "\n",
        "Not copying HourlyData/Archive/2013/2013102301.dat to 2013/2013102301.dat because modification times are identical"
       ]
      },
      {
       "output_type": "stream",
       "stream": "stdout",
       "text": [
        "\n",
        "Not copying HourlyData/Archive/2013/2013102302.dat to 2013/2013102302.dat because modification times are identical"
       ]
      },
      {
       "output_type": "stream",
       "stream": "stdout",
       "text": [
        "\n",
        "Not copying HourlyData/Archive/2013/2013102303.dat to 2013/2013102303.dat because modification times are identical"
       ]
      },
      {
       "output_type": "stream",
       "stream": "stdout",
       "text": [
        "\n",
        "Not copying HourlyData/Archive/2013/2013102304.dat to 2013/2013102304.dat because modification times are identical"
       ]
      },
      {
       "output_type": "stream",
       "stream": "stdout",
       "text": [
        "\n",
        "Not copying HourlyData/Archive/2013/2013102305.dat to 2013/2013102305.dat because modification times are identical"
       ]
      },
      {
       "output_type": "stream",
       "stream": "stdout",
       "text": [
        "\n",
        "Not copying HourlyData/Archive/2013/2013102306.dat to 2013/2013102306.dat because modification times are identical"
       ]
      },
      {
       "output_type": "stream",
       "stream": "stdout",
       "text": [
        "\n",
        "Not copying HourlyData/Archive/2013/2013102307.dat to 2013/2013102307.dat because modification times are identical"
       ]
      },
      {
       "output_type": "stream",
       "stream": "stdout",
       "text": [
        "\n",
        "Not copying HourlyData/Archive/2013/2013102308.dat to 2013/2013102308.dat because modification times are identical"
       ]
      },
      {
       "output_type": "stream",
       "stream": "stdout",
       "text": [
        "\n",
        "Not copying HourlyData/Archive/2013/2013102309.dat to 2013/2013102309.dat because modification times are identical"
       ]
      },
      {
       "output_type": "stream",
       "stream": "stdout",
       "text": [
        "\n",
        "Not copying HourlyData/Archive/2013/2013102310.dat to 2013/2013102310.dat because modification times are identical"
       ]
      },
      {
       "output_type": "stream",
       "stream": "stdout",
       "text": [
        "\n",
        "Not copying HourlyData/Archive/2013/2013102311.dat to 2013/2013102311.dat because modification times are identical"
       ]
      },
      {
       "output_type": "stream",
       "stream": "stdout",
       "text": [
        "\n",
        "Not copying HourlyData/Archive/2013/2013102312.dat to 2013/2013102312.dat because modification times are identical"
       ]
      },
      {
       "output_type": "stream",
       "stream": "stdout",
       "text": [
        "\n",
        "Not copying HourlyData/Archive/2013/2013102313.dat to 2013/2013102313.dat because modification times are identical"
       ]
      },
      {
       "output_type": "stream",
       "stream": "stdout",
       "text": [
        "\n",
        "Not copying HourlyData/Archive/2013/2013102314.dat to 2013/2013102314.dat because modification times are identical"
       ]
      },
      {
       "output_type": "stream",
       "stream": "stdout",
       "text": [
        "\n",
        "Not copying HourlyData/Archive/2013/2013102315.dat to 2013/2013102315.dat because modification times are identical"
       ]
      },
      {
       "output_type": "stream",
       "stream": "stdout",
       "text": [
        "\n",
        "Not copying HourlyData/Archive/2013/2013102316.dat to 2013/2013102316.dat because modification times are identical"
       ]
      },
      {
       "output_type": "stream",
       "stream": "stdout",
       "text": [
        "\n",
        "Not copying HourlyData/Archive/2013/2013102317.dat to 2013/2013102317.dat because modification times are identical"
       ]
      },
      {
       "output_type": "stream",
       "stream": "stdout",
       "text": [
        "\n",
        "Not copying HourlyData/Archive/2013/2013102318.dat to 2013/2013102318.dat because modification times are identical"
       ]
      },
      {
       "output_type": "stream",
       "stream": "stdout",
       "text": [
        "\n",
        "Not copying HourlyData/Archive/2013/2013102319.dat to 2013/2013102319.dat because modification times are identical"
       ]
      },
      {
       "output_type": "stream",
       "stream": "stdout",
       "text": [
        "\n",
        "Not copying HourlyData/Archive/2013/2013102320.dat to 2013/2013102320.dat because modification times are identical"
       ]
      },
      {
       "output_type": "stream",
       "stream": "stdout",
       "text": [
        "\n",
        "Not copying HourlyData/Archive/2013/2013102321.dat to 2013/2013102321.dat because modification times are identical"
       ]
      },
      {
       "output_type": "stream",
       "stream": "stdout",
       "text": [
        "\n",
        "Not copying HourlyData/Archive/2013/2013102322.dat to 2013/2013102322.dat because modification times are identical"
       ]
      },
      {
       "output_type": "stream",
       "stream": "stdout",
       "text": [
        "\n",
        "Not copying HourlyData/Archive/2013/2013102323.dat to 2013/2013102323.dat because modification times are identical"
       ]
      },
      {
       "output_type": "stream",
       "stream": "stdout",
       "text": [
        "\n",
        "Not copying HourlyData/Archive/2013/2013102400.dat to 2013/2013102400.dat because modification times are identical"
       ]
      },
      {
       "output_type": "stream",
       "stream": "stdout",
       "text": [
        "\n",
        "Not copying HourlyData/Archive/2013/2013102401.dat to 2013/2013102401.dat because modification times are identical"
       ]
      },
      {
       "output_type": "stream",
       "stream": "stdout",
       "text": [
        "\n",
        "Not copying HourlyData/Archive/2013/2013102402.dat to 2013/2013102402.dat because modification times are identical"
       ]
      },
      {
       "output_type": "stream",
       "stream": "stdout",
       "text": [
        "\n",
        "Not copying HourlyData/Archive/2013/2013102403.dat to 2013/2013102403.dat because modification times are identical"
       ]
      },
      {
       "output_type": "stream",
       "stream": "stdout",
       "text": [
        "\n",
        "Not copying HourlyData/Archive/2013/2013102404.dat to 2013/2013102404.dat because modification times are identical"
       ]
      },
      {
       "output_type": "stream",
       "stream": "stdout",
       "text": [
        "\n",
        "Not copying HourlyData/Archive/2013/2013102405.dat to 2013/2013102405.dat because modification times are identical"
       ]
      },
      {
       "output_type": "stream",
       "stream": "stdout",
       "text": [
        "\n",
        "Not copying HourlyData/Archive/2013/2013102406.dat to 2013/2013102406.dat because modification times are identical"
       ]
      },
      {
       "output_type": "stream",
       "stream": "stdout",
       "text": [
        "\n",
        "Not copying HourlyData/Archive/2013/2013102407.dat to 2013/2013102407.dat because modification times are identical"
       ]
      },
      {
       "output_type": "stream",
       "stream": "stdout",
       "text": [
        "\n",
        "Not copying HourlyData/Archive/2013/2013102408.dat to 2013/2013102408.dat because modification times are identical"
       ]
      },
      {
       "output_type": "stream",
       "stream": "stdout",
       "text": [
        "\n",
        "Not copying HourlyData/Archive/2013/2013102409.dat to 2013/2013102409.dat because modification times are identical"
       ]
      },
      {
       "output_type": "stream",
       "stream": "stdout",
       "text": [
        "\n",
        "Not copying HourlyData/Archive/2013/2013102410.dat to 2013/2013102410.dat because modification times are identical"
       ]
      },
      {
       "output_type": "stream",
       "stream": "stdout",
       "text": [
        "\n",
        "Not copying HourlyData/Archive/2013/2013102411.dat to 2013/2013102411.dat because modification times are identical"
       ]
      },
      {
       "output_type": "stream",
       "stream": "stdout",
       "text": [
        "\n",
        "Not copying HourlyData/Archive/2013/2013102412.dat to 2013/2013102412.dat because modification times are identical"
       ]
      },
      {
       "output_type": "stream",
       "stream": "stdout",
       "text": [
        "\n",
        "Not copying HourlyData/Archive/2013/2013102413.dat to 2013/2013102413.dat because modification times are identical"
       ]
      },
      {
       "output_type": "stream",
       "stream": "stdout",
       "text": [
        "\n",
        "Not copying HourlyData/Archive/2013/2013102414.dat to 2013/2013102414.dat because modification times are identical"
       ]
      },
      {
       "output_type": "stream",
       "stream": "stdout",
       "text": [
        "\n",
        "Not copying HourlyData/Archive/2013/2013102415.dat to 2013/2013102415.dat because modification times are identical"
       ]
      },
      {
       "output_type": "stream",
       "stream": "stdout",
       "text": [
        "\n",
        "Not copying HourlyData/Archive/2013/2013102416.dat to 2013/2013102416.dat because modification times are identical"
       ]
      },
      {
       "output_type": "stream",
       "stream": "stdout",
       "text": [
        "\n",
        "Not copying HourlyData/Archive/2013/2013102417.dat to 2013/2013102417.dat because modification times are identical"
       ]
      },
      {
       "output_type": "stream",
       "stream": "stdout",
       "text": [
        "\n",
        "Not copying HourlyData/Archive/2013/2013102418.dat to 2013/2013102418.dat because modification times are identical"
       ]
      },
      {
       "output_type": "stream",
       "stream": "stdout",
       "text": [
        "\n",
        "Not copying HourlyData/Archive/2013/2013102419.dat to 2013/2013102419.dat because modification times are identical"
       ]
      },
      {
       "output_type": "stream",
       "stream": "stdout",
       "text": [
        "\n",
        "Not copying HourlyData/Archive/2013/2013102420.dat to 2013/2013102420.dat because modification times are identical"
       ]
      },
      {
       "output_type": "stream",
       "stream": "stdout",
       "text": [
        "\n",
        "Not copying HourlyData/Archive/2013/2013102421.dat to 2013/2013102421.dat because modification times are identical"
       ]
      },
      {
       "output_type": "stream",
       "stream": "stdout",
       "text": [
        "\n",
        "Not copying HourlyData/Archive/2013/2013102422.dat to 2013/2013102422.dat because modification times are identical"
       ]
      },
      {
       "output_type": "stream",
       "stream": "stdout",
       "text": [
        "\n",
        "Not copying HourlyData/Archive/2013/2013102423.dat to 2013/2013102423.dat because modification times are identical"
       ]
      },
      {
       "output_type": "stream",
       "stream": "stdout",
       "text": [
        "\n",
        "Not copying HourlyData/Archive/2013/2013102500.dat to 2013/2013102500.dat because modification times are identical"
       ]
      },
      {
       "output_type": "stream",
       "stream": "stdout",
       "text": [
        "\n",
        "Not copying HourlyData/Archive/2013/2013102501.dat to 2013/2013102501.dat because modification times are identical"
       ]
      },
      {
       "output_type": "stream",
       "stream": "stdout",
       "text": [
        "\n",
        "Not copying HourlyData/Archive/2013/2013102502.dat to 2013/2013102502.dat because modification times are identical"
       ]
      },
      {
       "output_type": "stream",
       "stream": "stdout",
       "text": [
        "\n",
        "Not copying HourlyData/Archive/2013/2013102503.dat to 2013/2013102503.dat because modification times are identical"
       ]
      },
      {
       "output_type": "stream",
       "stream": "stdout",
       "text": [
        "\n",
        "Not copying HourlyData/Archive/2013/2013102504.dat to 2013/2013102504.dat because modification times are identical"
       ]
      },
      {
       "output_type": "stream",
       "stream": "stdout",
       "text": [
        "\n",
        "Not copying HourlyData/Archive/2013/2013102505.dat to 2013/2013102505.dat because modification times are identical"
       ]
      },
      {
       "output_type": "stream",
       "stream": "stdout",
       "text": [
        "\n",
        "Not copying HourlyData/Archive/2013/2013102506.dat to 2013/2013102506.dat because modification times are identical"
       ]
      },
      {
       "output_type": "stream",
       "stream": "stdout",
       "text": [
        "\n",
        "Not copying HourlyData/Archive/2013/2013102507.dat to 2013/2013102507.dat because modification times are identical"
       ]
      },
      {
       "output_type": "stream",
       "stream": "stdout",
       "text": [
        "\n",
        "Not copying HourlyData/Archive/2013/2013102508.dat to 2013/2013102508.dat because modification times are identical"
       ]
      },
      {
       "output_type": "stream",
       "stream": "stdout",
       "text": [
        "\n",
        "Not copying HourlyData/Archive/2013/2013102509.dat to 2013/2013102509.dat because modification times are identical"
       ]
      },
      {
       "output_type": "stream",
       "stream": "stdout",
       "text": [
        "\n",
        "Not copying HourlyData/Archive/2013/2013102510.dat to 2013/2013102510.dat because modification times are identical"
       ]
      },
      {
       "output_type": "stream",
       "stream": "stdout",
       "text": [
        "\n",
        "Not copying HourlyData/Archive/2013/2013102511.dat to 2013/2013102511.dat because modification times are identical"
       ]
      },
      {
       "output_type": "stream",
       "stream": "stdout",
       "text": [
        "\n",
        "Not copying HourlyData/Archive/2013/2013102512.dat to 2013/2013102512.dat because modification times are identical"
       ]
      },
      {
       "output_type": "stream",
       "stream": "stdout",
       "text": [
        "\n",
        "Not copying HourlyData/Archive/2013/2013102513.dat to 2013/2013102513.dat because modification times are identical"
       ]
      },
      {
       "output_type": "stream",
       "stream": "stdout",
       "text": [
        "\n",
        "Not copying HourlyData/Archive/2013/2013102514.dat to 2013/2013102514.dat because modification times are identical"
       ]
      },
      {
       "output_type": "stream",
       "stream": "stdout",
       "text": [
        "\n",
        "Not copying HourlyData/Archive/2013/2013102515.dat to 2013/2013102515.dat because modification times are identical"
       ]
      },
      {
       "output_type": "stream",
       "stream": "stdout",
       "text": [
        "\n",
        "Not copying HourlyData/Archive/2013/2013102516.dat to 2013/2013102516.dat because modification times are identical"
       ]
      },
      {
       "output_type": "stream",
       "stream": "stdout",
       "text": [
        "\n",
        "Not copying HourlyData/Archive/2013/2013102517.dat to 2013/2013102517.dat because modification times are identical"
       ]
      },
      {
       "output_type": "stream",
       "stream": "stdout",
       "text": [
        "\n",
        "Not copying HourlyData/Archive/2013/2013102518.dat to 2013/2013102518.dat because modification times are identical"
       ]
      },
      {
       "output_type": "stream",
       "stream": "stdout",
       "text": [
        "\n",
        "Not copying HourlyData/Archive/2013/2013102519.dat to 2013/2013102519.dat because modification times are identical"
       ]
      },
      {
       "output_type": "stream",
       "stream": "stdout",
       "text": [
        "\n",
        "Not copying HourlyData/Archive/2013/2013102520.dat to 2013/2013102520.dat because modification times are identical"
       ]
      },
      {
       "output_type": "stream",
       "stream": "stdout",
       "text": [
        "\n",
        "Not copying HourlyData/Archive/2013/2013102521.dat to 2013/2013102521.dat because modification times are identical"
       ]
      },
      {
       "output_type": "stream",
       "stream": "stdout",
       "text": [
        "\n",
        "Not copying HourlyData/Archive/2013/2013102522.dat to 2013/2013102522.dat because modification times are identical"
       ]
      },
      {
       "output_type": "stream",
       "stream": "stdout",
       "text": [
        "\n",
        "Not copying HourlyData/Archive/2013/2013102523.dat to 2013/2013102523.dat because modification times are identical"
       ]
      },
      {
       "output_type": "stream",
       "stream": "stdout",
       "text": [
        "\n",
        "Not copying HourlyData/Archive/2013/2013102600.dat to 2013/2013102600.dat because modification times are identical"
       ]
      },
      {
       "output_type": "stream",
       "stream": "stdout",
       "text": [
        "\n",
        "Not copying HourlyData/Archive/2013/2013102601.dat to 2013/2013102601.dat because modification times are identical"
       ]
      },
      {
       "output_type": "stream",
       "stream": "stdout",
       "text": [
        "\n",
        "Not copying HourlyData/Archive/2013/2013102602.dat to 2013/2013102602.dat because modification times are identical"
       ]
      },
      {
       "output_type": "stream",
       "stream": "stdout",
       "text": [
        "\n",
        "Not copying HourlyData/Archive/2013/2013102603.dat to 2013/2013102603.dat because modification times are identical"
       ]
      },
      {
       "output_type": "stream",
       "stream": "stdout",
       "text": [
        "\n",
        "Not copying HourlyData/Archive/2013/2013102604.dat to 2013/2013102604.dat because modification times are identical"
       ]
      },
      {
       "output_type": "stream",
       "stream": "stdout",
       "text": [
        "\n",
        "Not copying HourlyData/Archive/2013/2013102605.dat to 2013/2013102605.dat because modification times are identical"
       ]
      },
      {
       "output_type": "stream",
       "stream": "stdout",
       "text": [
        "\n",
        "Not copying HourlyData/Archive/2013/2013102606.dat to 2013/2013102606.dat because modification times are identical"
       ]
      },
      {
       "output_type": "stream",
       "stream": "stdout",
       "text": [
        "\n",
        "Not copying HourlyData/Archive/2013/2013102607.dat to 2013/2013102607.dat because modification times are identical"
       ]
      },
      {
       "output_type": "stream",
       "stream": "stdout",
       "text": [
        "\n",
        "Not copying HourlyData/Archive/2013/2013102608.dat to 2013/2013102608.dat because modification times are identical"
       ]
      },
      {
       "output_type": "stream",
       "stream": "stdout",
       "text": [
        "\n",
        "Not copying HourlyData/Archive/2013/2013102609.dat to 2013/2013102609.dat because modification times are identical"
       ]
      },
      {
       "output_type": "stream",
       "stream": "stdout",
       "text": [
        "\n",
        "Not copying HourlyData/Archive/2013/2013102610.dat to 2013/2013102610.dat because modification times are identical"
       ]
      },
      {
       "output_type": "stream",
       "stream": "stdout",
       "text": [
        "\n",
        "Not copying HourlyData/Archive/2013/2013102611.dat to 2013/2013102611.dat because modification times are identical"
       ]
      },
      {
       "output_type": "stream",
       "stream": "stdout",
       "text": [
        "\n",
        "Not copying HourlyData/Archive/2013/2013102612.dat to 2013/2013102612.dat because modification times are identical"
       ]
      },
      {
       "output_type": "stream",
       "stream": "stdout",
       "text": [
        "\n",
        "Not copying HourlyData/Archive/2013/2013102613.dat to 2013/2013102613.dat because modification times are identical"
       ]
      },
      {
       "output_type": "stream",
       "stream": "stdout",
       "text": [
        "\n",
        "Not copying HourlyData/Archive/2013/2013102614.dat to 2013/2013102614.dat because modification times are identical"
       ]
      },
      {
       "output_type": "stream",
       "stream": "stdout",
       "text": [
        "\n",
        "Not copying HourlyData/Archive/2013/2013102615.dat to 2013/2013102615.dat because modification times are identical"
       ]
      },
      {
       "output_type": "stream",
       "stream": "stdout",
       "text": [
        "\n",
        "Not copying HourlyData/Archive/2013/2013102616.dat to 2013/2013102616.dat because modification times are identical"
       ]
      },
      {
       "output_type": "stream",
       "stream": "stdout",
       "text": [
        "\n",
        "Not copying HourlyData/Archive/2013/2013102617.dat to 2013/2013102617.dat because modification times are identical"
       ]
      },
      {
       "output_type": "stream",
       "stream": "stdout",
       "text": [
        "\n",
        "Not copying HourlyData/Archive/2013/2013102618.dat to 2013/2013102618.dat because modification times are identical"
       ]
      },
      {
       "output_type": "stream",
       "stream": "stdout",
       "text": [
        "\n",
        "Not copying HourlyData/Archive/2013/2013102619.dat to 2013/2013102619.dat because modification times are identical"
       ]
      },
      {
       "output_type": "stream",
       "stream": "stdout",
       "text": [
        "\n",
        "Not copying HourlyData/Archive/2013/2013102620.dat to 2013/2013102620.dat because modification times are identical"
       ]
      },
      {
       "output_type": "stream",
       "stream": "stdout",
       "text": [
        "\n",
        "Not copying HourlyData/Archive/2013/2013102621.dat to 2013/2013102621.dat because modification times are identical"
       ]
      },
      {
       "output_type": "stream",
       "stream": "stdout",
       "text": [
        "\n",
        "Not copying HourlyData/Archive/2013/2013102622.dat to 2013/2013102622.dat because modification times are identical"
       ]
      },
      {
       "output_type": "stream",
       "stream": "stdout",
       "text": [
        "\n",
        "Not copying HourlyData/Archive/2013/2013102623.dat to 2013/2013102623.dat because modification times are identical"
       ]
      },
      {
       "output_type": "stream",
       "stream": "stdout",
       "text": [
        "\n",
        "Not copying HourlyData/Archive/2013/2013102700.dat to 2013/2013102700.dat because modification times are identical"
       ]
      },
      {
       "output_type": "stream",
       "stream": "stdout",
       "text": [
        "\n",
        "Not copying HourlyData/Archive/2013/2013102701.dat to 2013/2013102701.dat because modification times are identical"
       ]
      },
      {
       "output_type": "stream",
       "stream": "stdout",
       "text": [
        "\n",
        "Not copying HourlyData/Archive/2013/2013102702.dat to 2013/2013102702.dat because modification times are identical"
       ]
      },
      {
       "output_type": "stream",
       "stream": "stdout",
       "text": [
        "\n",
        "Not copying HourlyData/Archive/2013/2013102703.dat to 2013/2013102703.dat because modification times are identical"
       ]
      },
      {
       "output_type": "stream",
       "stream": "stdout",
       "text": [
        "\n",
        "Not copying HourlyData/Archive/2013/2013102704.dat to 2013/2013102704.dat because modification times are identical"
       ]
      },
      {
       "output_type": "stream",
       "stream": "stdout",
       "text": [
        "\n",
        "Not copying HourlyData/Archive/2013/2013102705.dat to 2013/2013102705.dat because modification times are identical"
       ]
      },
      {
       "output_type": "stream",
       "stream": "stdout",
       "text": [
        "\n",
        "Not copying HourlyData/Archive/2013/2013102706.dat to 2013/2013102706.dat because modification times are identical"
       ]
      },
      {
       "output_type": "stream",
       "stream": "stdout",
       "text": [
        "\n",
        "Not copying HourlyData/Archive/2013/2013102707.dat to 2013/2013102707.dat because modification times are identical"
       ]
      },
      {
       "output_type": "stream",
       "stream": "stdout",
       "text": [
        "\n",
        "Not copying HourlyData/Archive/2013/2013102708.dat to 2013/2013102708.dat because modification times are identical"
       ]
      },
      {
       "output_type": "stream",
       "stream": "stdout",
       "text": [
        "\n",
        "Not copying HourlyData/Archive/2013/2013102709.dat to 2013/2013102709.dat because modification times are identical"
       ]
      },
      {
       "output_type": "stream",
       "stream": "stdout",
       "text": [
        "\n",
        "Not copying HourlyData/Archive/2013/2013102710.dat to 2013/2013102710.dat because modification times are identical"
       ]
      },
      {
       "output_type": "stream",
       "stream": "stdout",
       "text": [
        "\n",
        "Not copying HourlyData/Archive/2013/2013102711.dat to 2013/2013102711.dat because modification times are identical"
       ]
      },
      {
       "output_type": "stream",
       "stream": "stdout",
       "text": [
        "\n",
        "Not copying HourlyData/Archive/2013/2013102712.dat to 2013/2013102712.dat because modification times are identical"
       ]
      },
      {
       "output_type": "stream",
       "stream": "stdout",
       "text": [
        "\n",
        "Not copying HourlyData/Archive/2013/2013102713.dat to 2013/2013102713.dat because modification times are identical"
       ]
      },
      {
       "output_type": "stream",
       "stream": "stdout",
       "text": [
        "\n",
        "Not copying HourlyData/Archive/2013/2013102714.dat to 2013/2013102714.dat because modification times are identical"
       ]
      },
      {
       "output_type": "stream",
       "stream": "stdout",
       "text": [
        "\n",
        "Not copying HourlyData/Archive/2013/2013102715.dat to 2013/2013102715.dat because modification times are identical"
       ]
      },
      {
       "output_type": "stream",
       "stream": "stdout",
       "text": [
        "\n",
        "Not copying HourlyData/Archive/2013/2013102716.dat to 2013/2013102716.dat because modification times are identical"
       ]
      },
      {
       "output_type": "stream",
       "stream": "stdout",
       "text": [
        "\n",
        "Not copying HourlyData/Archive/2013/2013102717.dat to 2013/2013102717.dat because modification times are identical"
       ]
      },
      {
       "output_type": "stream",
       "stream": "stdout",
       "text": [
        "\n",
        "Not copying HourlyData/Archive/2013/2013102718.dat to 2013/2013102718.dat because modification times are identical"
       ]
      },
      {
       "output_type": "stream",
       "stream": "stdout",
       "text": [
        "\n",
        "Not copying HourlyData/Archive/2013/2013102719.dat to 2013/2013102719.dat because modification times are identical"
       ]
      },
      {
       "output_type": "stream",
       "stream": "stdout",
       "text": [
        "\n",
        "Not copying HourlyData/Archive/2013/2013102720.dat to 2013/2013102720.dat because modification times are identical"
       ]
      },
      {
       "output_type": "stream",
       "stream": "stdout",
       "text": [
        "\n",
        "Not copying HourlyData/Archive/2013/2013102721.dat to 2013/2013102721.dat because modification times are identical"
       ]
      },
      {
       "output_type": "stream",
       "stream": "stdout",
       "text": [
        "\n",
        "Not copying HourlyData/Archive/2013/2013102722.dat to 2013/2013102722.dat because modification times are identical"
       ]
      },
      {
       "output_type": "stream",
       "stream": "stdout",
       "text": [
        "\n",
        "Not copying HourlyData/Archive/2013/2013102723.dat to 2013/2013102723.dat because modification times are identical"
       ]
      },
      {
       "output_type": "stream",
       "stream": "stdout",
       "text": [
        "\n",
        "Not copying HourlyData/Archive/2013/2013102800.dat to 2013/2013102800.dat because modification times are identical"
       ]
      },
      {
       "output_type": "stream",
       "stream": "stdout",
       "text": [
        "\n",
        "Not copying HourlyData/Archive/2013/2013102801.dat to 2013/2013102801.dat because modification times are identical"
       ]
      },
      {
       "output_type": "stream",
       "stream": "stdout",
       "text": [
        "\n",
        "Not copying HourlyData/Archive/2013/2013102802.dat to 2013/2013102802.dat because modification times are identical"
       ]
      },
      {
       "output_type": "stream",
       "stream": "stdout",
       "text": [
        "\n",
        "Not copying HourlyData/Archive/2013/2013102803.dat to 2013/2013102803.dat because modification times are identical"
       ]
      },
      {
       "output_type": "stream",
       "stream": "stdout",
       "text": [
        "\n",
        "Not copying HourlyData/Archive/2013/2013102804.dat to 2013/2013102804.dat because modification times are identical"
       ]
      },
      {
       "output_type": "stream",
       "stream": "stdout",
       "text": [
        "\n",
        "Not copying HourlyData/Archive/2013/2013102805.dat to 2013/2013102805.dat because modification times are identical"
       ]
      },
      {
       "output_type": "stream",
       "stream": "stdout",
       "text": [
        "\n",
        "Not copying HourlyData/Archive/2013/2013102806.dat to 2013/2013102806.dat because modification times are identical"
       ]
      },
      {
       "output_type": "stream",
       "stream": "stdout",
       "text": [
        "\n",
        "Not copying HourlyData/Archive/2013/2013102807.dat to 2013/2013102807.dat because modification times are identical"
       ]
      },
      {
       "output_type": "stream",
       "stream": "stdout",
       "text": [
        "\n",
        "Not copying HourlyData/Archive/2013/2013102808.dat to 2013/2013102808.dat because modification times are identical"
       ]
      },
      {
       "output_type": "stream",
       "stream": "stdout",
       "text": [
        "\n",
        "Not copying HourlyData/Archive/2013/2013102809.dat to 2013/2013102809.dat because modification times are identical"
       ]
      },
      {
       "output_type": "stream",
       "stream": "stdout",
       "text": [
        "\n",
        "Not copying HourlyData/Archive/2013/2013102810.dat to 2013/2013102810.dat because modification times are identical"
       ]
      },
      {
       "output_type": "stream",
       "stream": "stdout",
       "text": [
        "\n",
        "Not copying HourlyData/Archive/2013/2013102811.dat to 2013/2013102811.dat because modification times are identical"
       ]
      },
      {
       "output_type": "stream",
       "stream": "stdout",
       "text": [
        "\n",
        "Not copying HourlyData/Archive/2013/2013102812.dat to 2013/2013102812.dat because modification times are identical"
       ]
      },
      {
       "output_type": "stream",
       "stream": "stdout",
       "text": [
        "\n",
        "Not copying HourlyData/Archive/2013/2013102813.dat to 2013/2013102813.dat because modification times are identical"
       ]
      },
      {
       "output_type": "stream",
       "stream": "stdout",
       "text": [
        "\n",
        "Not copying HourlyData/Archive/2013/2013102814.dat to 2013/2013102814.dat because modification times are identical"
       ]
      },
      {
       "output_type": "stream",
       "stream": "stdout",
       "text": [
        "\n",
        "Not copying HourlyData/Archive/2013/2013102815.dat to 2013/2013102815.dat because modification times are identical"
       ]
      },
      {
       "output_type": "stream",
       "stream": "stdout",
       "text": [
        "\n",
        "Not copying HourlyData/Archive/2013/2013102816.dat to 2013/2013102816.dat because modification times are identical"
       ]
      },
      {
       "output_type": "stream",
       "stream": "stdout",
       "text": [
        "\n",
        "Not copying HourlyData/Archive/2013/2013102817.dat to 2013/2013102817.dat because modification times are identical"
       ]
      },
      {
       "output_type": "stream",
       "stream": "stdout",
       "text": [
        "\n",
        "Not copying HourlyData/Archive/2013/2013102818.dat to 2013/2013102818.dat because modification times are identical"
       ]
      },
      {
       "output_type": "stream",
       "stream": "stdout",
       "text": [
        "\n",
        "Not copying HourlyData/Archive/2013/2013102819.dat to 2013/2013102819.dat because modification times are identical"
       ]
      },
      {
       "output_type": "stream",
       "stream": "stdout",
       "text": [
        "\n",
        "Not copying HourlyData/Archive/2013/2013102820.dat to 2013/2013102820.dat because modification times are identical"
       ]
      },
      {
       "output_type": "stream",
       "stream": "stdout",
       "text": [
        "\n",
        "Not copying HourlyData/Archive/2013/2013102821.dat to 2013/2013102821.dat because modification times are identical"
       ]
      },
      {
       "output_type": "stream",
       "stream": "stdout",
       "text": [
        "\n",
        "Not copying HourlyData/Archive/2013/2013102822.dat to 2013/2013102822.dat because modification times are identical"
       ]
      },
      {
       "output_type": "stream",
       "stream": "stdout",
       "text": [
        "\n",
        "Not copying HourlyData/Archive/2013/2013102823.dat to 2013/2013102823.dat because modification times are identical"
       ]
      },
      {
       "output_type": "stream",
       "stream": "stdout",
       "text": [
        "\n",
        "Not copying HourlyData/Archive/2013/2013102900.dat to 2013/2013102900.dat because modification times are identical"
       ]
      },
      {
       "output_type": "stream",
       "stream": "stdout",
       "text": [
        "\n",
        "Not copying HourlyData/Archive/2013/2013102901.dat to 2013/2013102901.dat because modification times are identical"
       ]
      },
      {
       "output_type": "stream",
       "stream": "stdout",
       "text": [
        "\n",
        "Not copying HourlyData/Archive/2013/2013102902.dat to 2013/2013102902.dat because modification times are identical"
       ]
      },
      {
       "output_type": "stream",
       "stream": "stdout",
       "text": [
        "\n",
        "Not copying HourlyData/Archive/2013/2013102903.dat to 2013/2013102903.dat because modification times are identical"
       ]
      },
      {
       "output_type": "stream",
       "stream": "stdout",
       "text": [
        "\n",
        "Not copying HourlyData/Archive/2013/2013102904.dat to 2013/2013102904.dat because modification times are identical"
       ]
      },
      {
       "output_type": "stream",
       "stream": "stdout",
       "text": [
        "\n",
        "Not copying HourlyData/Archive/2013/2013102905.dat to 2013/2013102905.dat because modification times are identical"
       ]
      },
      {
       "output_type": "stream",
       "stream": "stdout",
       "text": [
        "\n",
        "Not copying HourlyData/Archive/2013/2013102906.dat to 2013/2013102906.dat because modification times are identical"
       ]
      },
      {
       "output_type": "stream",
       "stream": "stdout",
       "text": [
        "\n",
        "Not copying HourlyData/Archive/2013/2013102907.dat to 2013/2013102907.dat because modification times are identical"
       ]
      },
      {
       "output_type": "stream",
       "stream": "stdout",
       "text": [
        "\n",
        "Not copying HourlyData/Archive/2013/2013102908.dat to 2013/2013102908.dat because modification times are identical"
       ]
      },
      {
       "output_type": "stream",
       "stream": "stdout",
       "text": [
        "\n",
        "Not copying HourlyData/Archive/2013/2013102909.dat to 2013/2013102909.dat because modification times are identical"
       ]
      },
      {
       "output_type": "stream",
       "stream": "stdout",
       "text": [
        "\n",
        "Not copying HourlyData/Archive/2013/2013102910.dat to 2013/2013102910.dat because modification times are identical"
       ]
      },
      {
       "output_type": "stream",
       "stream": "stdout",
       "text": [
        "\n",
        "Not copying HourlyData/Archive/2013/2013102911.dat to 2013/2013102911.dat because modification times are identical"
       ]
      },
      {
       "output_type": "stream",
       "stream": "stdout",
       "text": [
        "\n",
        "Not copying HourlyData/Archive/2013/2013102912.dat to 2013/2013102912.dat because modification times are identical"
       ]
      },
      {
       "output_type": "stream",
       "stream": "stdout",
       "text": [
        "\n",
        "Not copying HourlyData/Archive/2013/2013102913.dat to 2013/2013102913.dat because modification times are identical"
       ]
      },
      {
       "output_type": "stream",
       "stream": "stdout",
       "text": [
        "\n",
        "Not copying HourlyData/Archive/2013/2013102914.dat to 2013/2013102914.dat because modification times are identical"
       ]
      },
      {
       "output_type": "stream",
       "stream": "stdout",
       "text": [
        "\n",
        "Not copying HourlyData/Archive/2013/2013102915.dat to 2013/2013102915.dat because modification times are identical"
       ]
      },
      {
       "output_type": "stream",
       "stream": "stdout",
       "text": [
        "\n",
        "Not copying HourlyData/Archive/2013/2013102916.dat to 2013/2013102916.dat because modification times are identical"
       ]
      },
      {
       "output_type": "stream",
       "stream": "stdout",
       "text": [
        "\n",
        "Not copying HourlyData/Archive/2013/2013102917.dat to 2013/2013102917.dat because modification times are identical"
       ]
      },
      {
       "output_type": "stream",
       "stream": "stdout",
       "text": [
        "\n",
        "Not copying HourlyData/Archive/2013/2013102918.dat to 2013/2013102918.dat because modification times are identical"
       ]
      },
      {
       "output_type": "stream",
       "stream": "stdout",
       "text": [
        "\n",
        "Not copying HourlyData/Archive/2013/2013102919.dat to 2013/2013102919.dat because modification times are identical"
       ]
      },
      {
       "output_type": "stream",
       "stream": "stdout",
       "text": [
        "\n",
        "Not copying HourlyData/Archive/2013/2013102920.dat to 2013/2013102920.dat because modification times are identical"
       ]
      },
      {
       "output_type": "stream",
       "stream": "stdout",
       "text": [
        "\n",
        "Not copying HourlyData/Archive/2013/2013102921.dat to 2013/2013102921.dat because modification times are identical"
       ]
      },
      {
       "output_type": "stream",
       "stream": "stdout",
       "text": [
        "\n",
        "Not copying HourlyData/Archive/2013/2013102922.dat to 2013/2013102922.dat because modification times are identical"
       ]
      },
      {
       "output_type": "stream",
       "stream": "stdout",
       "text": [
        "\n",
        "Not copying HourlyData/Archive/2013/2013102923.dat to 2013/2013102923.dat because modification times are identical"
       ]
      },
      {
       "output_type": "stream",
       "stream": "stdout",
       "text": [
        "\n",
        "Not copying HourlyData/Archive/2013/2013103000.dat to 2013/2013103000.dat because modification times are identical"
       ]
      },
      {
       "output_type": "stream",
       "stream": "stdout",
       "text": [
        "\n",
        "Not copying HourlyData/Archive/2013/2013103001.dat to 2013/2013103001.dat because modification times are identical"
       ]
      },
      {
       "output_type": "stream",
       "stream": "stdout",
       "text": [
        "\n",
        "Not copying HourlyData/Archive/2013/2013103002.dat to 2013/2013103002.dat because modification times are identical"
       ]
      },
      {
       "output_type": "stream",
       "stream": "stdout",
       "text": [
        "\n",
        "Not copying HourlyData/Archive/2013/2013103003.dat to 2013/2013103003.dat because modification times are identical"
       ]
      },
      {
       "output_type": "stream",
       "stream": "stdout",
       "text": [
        "\n",
        "Not copying HourlyData/Archive/2013/2013103004.dat to 2013/2013103004.dat because modification times are identical"
       ]
      },
      {
       "output_type": "stream",
       "stream": "stdout",
       "text": [
        "\n",
        "Not copying HourlyData/Archive/2013/2013103005.dat to 2013/2013103005.dat because modification times are identical"
       ]
      },
      {
       "output_type": "stream",
       "stream": "stdout",
       "text": [
        "\n",
        "Not copying HourlyData/Archive/2013/2013103006.dat to 2013/2013103006.dat because modification times are identical"
       ]
      },
      {
       "output_type": "stream",
       "stream": "stdout",
       "text": [
        "\n",
        "Not copying HourlyData/Archive/2013/2013103007.dat to 2013/2013103007.dat because modification times are identical"
       ]
      },
      {
       "output_type": "stream",
       "stream": "stdout",
       "text": [
        "\n",
        "Not copying HourlyData/Archive/2013/2013103008.dat to 2013/2013103008.dat because modification times are identical"
       ]
      },
      {
       "output_type": "stream",
       "stream": "stdout",
       "text": [
        "\n",
        "Not copying HourlyData/Archive/2013/2013103009.dat to 2013/2013103009.dat because modification times are identical"
       ]
      },
      {
       "output_type": "stream",
       "stream": "stdout",
       "text": [
        "\n",
        "Not copying HourlyData/Archive/2013/2013103010.dat to 2013/2013103010.dat because modification times are identical"
       ]
      },
      {
       "output_type": "stream",
       "stream": "stdout",
       "text": [
        "\n",
        "Not copying HourlyData/Archive/2013/2013103011.dat to 2013/2013103011.dat because modification times are identical"
       ]
      },
      {
       "output_type": "stream",
       "stream": "stdout",
       "text": [
        "\n",
        "Not copying HourlyData/Archive/2013/2013103012.dat to 2013/2013103012.dat because modification times are identical"
       ]
      },
      {
       "output_type": "stream",
       "stream": "stdout",
       "text": [
        "\n",
        "Not copying HourlyData/Archive/2013/2013103013.dat to 2013/2013103013.dat because modification times are identical"
       ]
      },
      {
       "output_type": "stream",
       "stream": "stdout",
       "text": [
        "\n",
        "Not copying HourlyData/Archive/2013/2013103014.dat to 2013/2013103014.dat because modification times are identical"
       ]
      },
      {
       "output_type": "stream",
       "stream": "stdout",
       "text": [
        "\n",
        "Not copying HourlyData/Archive/2013/2013103015.dat to 2013/2013103015.dat because modification times are identical"
       ]
      },
      {
       "output_type": "stream",
       "stream": "stdout",
       "text": [
        "\n",
        "Not copying HourlyData/Archive/2013/2013103016.dat to 2013/2013103016.dat because modification times are identical"
       ]
      },
      {
       "output_type": "stream",
       "stream": "stdout",
       "text": [
        "\n",
        "Not copying HourlyData/Archive/2013/2013103017.dat to 2013/2013103017.dat because modification times are identical"
       ]
      },
      {
       "output_type": "stream",
       "stream": "stdout",
       "text": [
        "\n",
        "Not copying HourlyData/Archive/2013/2013103018.dat to 2013/2013103018.dat because modification times are identical"
       ]
      },
      {
       "output_type": "stream",
       "stream": "stdout",
       "text": [
        "\n",
        "Not copying HourlyData/Archive/2013/2013103019.dat to 2013/2013103019.dat because modification times are identical"
       ]
      },
      {
       "output_type": "stream",
       "stream": "stdout",
       "text": [
        "\n",
        "Not copying HourlyData/Archive/2013/2013103020.dat to 2013/2013103020.dat because modification times are identical"
       ]
      },
      {
       "output_type": "stream",
       "stream": "stdout",
       "text": [
        "\n",
        "Not copying HourlyData/Archive/2013/2013103021.dat to 2013/2013103021.dat because modification times are identical"
       ]
      },
      {
       "output_type": "stream",
       "stream": "stdout",
       "text": [
        "\n",
        "Not copying HourlyData/Archive/2013/2013103022.dat to 2013/2013103022.dat because modification times are identical"
       ]
      },
      {
       "output_type": "stream",
       "stream": "stdout",
       "text": [
        "\n",
        "Not copying HourlyData/Archive/2013/2013103023.dat to 2013/2013103023.dat because modification times are identical"
       ]
      },
      {
       "output_type": "stream",
       "stream": "stdout",
       "text": [
        "\n",
        "Not copying HourlyData/Archive/2013/2013103100.dat to 2013/2013103100.dat because modification times are identical"
       ]
      },
      {
       "output_type": "stream",
       "stream": "stdout",
       "text": [
        "\n",
        "Not copying HourlyData/Archive/2013/2013103101.dat to 2013/2013103101.dat because modification times are identical"
       ]
      },
      {
       "output_type": "stream",
       "stream": "stdout",
       "text": [
        "\n",
        "Not copying HourlyData/Archive/2013/2013103102.dat to 2013/2013103102.dat because modification times are identical"
       ]
      },
      {
       "output_type": "stream",
       "stream": "stdout",
       "text": [
        "\n",
        "Not copying HourlyData/Archive/2013/2013103103.dat to 2013/2013103103.dat because modification times are identical"
       ]
      },
      {
       "output_type": "stream",
       "stream": "stdout",
       "text": [
        "\n",
        "Not copying HourlyData/Archive/2013/2013103104.dat to 2013/2013103104.dat because modification times are identical"
       ]
      },
      {
       "output_type": "stream",
       "stream": "stdout",
       "text": [
        "\n",
        "Not copying HourlyData/Archive/2013/2013103105.dat to 2013/2013103105.dat because modification times are identical"
       ]
      },
      {
       "output_type": "stream",
       "stream": "stdout",
       "text": [
        "\n",
        "Not copying HourlyData/Archive/2013/2013103106.dat to 2013/2013103106.dat because modification times are identical"
       ]
      },
      {
       "output_type": "stream",
       "stream": "stdout",
       "text": [
        "\n",
        "Not copying HourlyData/Archive/2013/2013103107.dat to 2013/2013103107.dat because modification times are identical"
       ]
      },
      {
       "output_type": "stream",
       "stream": "stdout",
       "text": [
        "\n",
        "Not copying HourlyData/Archive/2013/2013103108.dat to 2013/2013103108.dat because modification times are identical"
       ]
      },
      {
       "output_type": "stream",
       "stream": "stdout",
       "text": [
        "\n",
        "Not copying HourlyData/Archive/2013/2013103109.dat to 2013/2013103109.dat because modification times are identical"
       ]
      },
      {
       "output_type": "stream",
       "stream": "stdout",
       "text": [
        "\n",
        "Not copying HourlyData/Archive/2013/2013103110.dat to 2013/2013103110.dat because modification times are identical"
       ]
      },
      {
       "output_type": "stream",
       "stream": "stdout",
       "text": [
        "\n",
        "Not copying HourlyData/Archive/2013/2013103111.dat to 2013/2013103111.dat because modification times are identical"
       ]
      },
      {
       "output_type": "stream",
       "stream": "stdout",
       "text": [
        "\n",
        "Not copying HourlyData/Archive/2013/2013103112.dat to 2013/2013103112.dat because modification times are identical"
       ]
      },
      {
       "output_type": "stream",
       "stream": "stdout",
       "text": [
        "\n",
        "Not copying HourlyData/Archive/2013/2013103113.dat to 2013/2013103113.dat because modification times are identical"
       ]
      },
      {
       "output_type": "stream",
       "stream": "stdout",
       "text": [
        "\n",
        "Not copying HourlyData/Archive/2013/2013103114.dat to 2013/2013103114.dat because modification times are identical"
       ]
      },
      {
       "output_type": "stream",
       "stream": "stdout",
       "text": [
        "\n",
        "Not copying HourlyData/Archive/2013/2013103115.dat to 2013/2013103115.dat because modification times are identical"
       ]
      },
      {
       "output_type": "stream",
       "stream": "stdout",
       "text": [
        "\n",
        "Not copying HourlyData/Archive/2013/2013103116.dat to 2013/2013103116.dat because modification times are identical"
       ]
      },
      {
       "output_type": "stream",
       "stream": "stdout",
       "text": [
        "\n",
        "Not copying HourlyData/Archive/2013/2013103117.dat to 2013/2013103117.dat because modification times are identical"
       ]
      },
      {
       "output_type": "stream",
       "stream": "stdout",
       "text": [
        "\n",
        "Not copying HourlyData/Archive/2013/2013103118.dat to 2013/2013103118.dat because modification times are identical"
       ]
      },
      {
       "output_type": "stream",
       "stream": "stdout",
       "text": [
        "\n",
        "Not copying HourlyData/Archive/2013/2013103119.dat to 2013/2013103119.dat because modification times are identical"
       ]
      },
      {
       "output_type": "stream",
       "stream": "stdout",
       "text": [
        "\n",
        "Not copying HourlyData/Archive/2013/2013103120.dat to 2013/2013103120.dat because modification times are identical"
       ]
      },
      {
       "output_type": "stream",
       "stream": "stdout",
       "text": [
        "\n",
        "Not copying HourlyData/Archive/2013/2013103121.dat to 2013/2013103121.dat because modification times are identical"
       ]
      },
      {
       "output_type": "stream",
       "stream": "stdout",
       "text": [
        "\n",
        "Not copying HourlyData/Archive/2013/2013103122.dat to 2013/2013103122.dat because modification times are identical"
       ]
      },
      {
       "output_type": "stream",
       "stream": "stdout",
       "text": [
        "\n",
        "Not copying HourlyData/Archive/2013/2013103123.dat to 2013/2013103123.dat because modification times are identical"
       ]
      },
      {
       "output_type": "stream",
       "stream": "stdout",
       "text": [
        "\n",
        "Not copying HourlyData/Archive/2013/2013110100.dat to 2013/2013110100.dat because modification times are identical"
       ]
      },
      {
       "output_type": "stream",
       "stream": "stdout",
       "text": [
        "\n",
        "Not copying HourlyData/Archive/2013/2013110101.dat to 2013/2013110101.dat because modification times are identical"
       ]
      },
      {
       "output_type": "stream",
       "stream": "stdout",
       "text": [
        "\n",
        "Not copying HourlyData/Archive/2013/2013110102.dat to 2013/2013110102.dat because modification times are identical"
       ]
      },
      {
       "output_type": "stream",
       "stream": "stdout",
       "text": [
        "\n",
        "Not copying HourlyData/Archive/2013/2013110103.dat to 2013/2013110103.dat because modification times are identical"
       ]
      },
      {
       "output_type": "stream",
       "stream": "stdout",
       "text": [
        "\n",
        "Not copying HourlyData/Archive/2013/2013110104.dat to 2013/2013110104.dat because modification times are identical"
       ]
      },
      {
       "output_type": "stream",
       "stream": "stdout",
       "text": [
        "\n",
        "Not copying HourlyData/Archive/2013/2013110105.dat to 2013/2013110105.dat because modification times are identical"
       ]
      },
      {
       "output_type": "stream",
       "stream": "stdout",
       "text": [
        "\n",
        "Not copying HourlyData/Archive/2013/2013110106.dat to 2013/2013110106.dat because modification times are identical"
       ]
      },
      {
       "output_type": "stream",
       "stream": "stdout",
       "text": [
        "\n",
        "Not copying HourlyData/Archive/2013/2013110107.dat to 2013/2013110107.dat because modification times are identical"
       ]
      },
      {
       "output_type": "stream",
       "stream": "stdout",
       "text": [
        "\n",
        "Not copying HourlyData/Archive/2013/2013110108.dat to 2013/2013110108.dat because modification times are identical"
       ]
      },
      {
       "output_type": "stream",
       "stream": "stdout",
       "text": [
        "\n",
        "Not copying HourlyData/Archive/2013/2013110109.dat to 2013/2013110109.dat because modification times are identical"
       ]
      },
      {
       "output_type": "stream",
       "stream": "stdout",
       "text": [
        "\n",
        "Not copying HourlyData/Archive/2013/2013110110.dat to 2013/2013110110.dat because modification times are identical"
       ]
      },
      {
       "output_type": "stream",
       "stream": "stdout",
       "text": [
        "\n",
        "Not copying HourlyData/Archive/2013/2013110111.dat to 2013/2013110111.dat because modification times are identical"
       ]
      },
      {
       "output_type": "stream",
       "stream": "stdout",
       "text": [
        "\n",
        "Not copying HourlyData/Archive/2013/2013110112.dat to 2013/2013110112.dat because modification times are identical"
       ]
      },
      {
       "output_type": "stream",
       "stream": "stdout",
       "text": [
        "\n",
        "Not copying HourlyData/Archive/2013/2013110113.dat to 2013/2013110113.dat because modification times are identical"
       ]
      },
      {
       "output_type": "stream",
       "stream": "stdout",
       "text": [
        "\n",
        "Not copying HourlyData/Archive/2013/2013110114.dat to 2013/2013110114.dat because modification times are identical"
       ]
      },
      {
       "output_type": "stream",
       "stream": "stdout",
       "text": [
        "\n",
        "Not copying HourlyData/Archive/2013/2013110115.dat to 2013/2013110115.dat because modification times are identical"
       ]
      },
      {
       "output_type": "stream",
       "stream": "stdout",
       "text": [
        "\n",
        "Not copying HourlyData/Archive/2013/2013110116.dat to 2013/2013110116.dat because modification times are identical"
       ]
      },
      {
       "output_type": "stream",
       "stream": "stdout",
       "text": [
        "\n",
        "Not copying HourlyData/Archive/2013/2013110117.dat to 2013/2013110117.dat because modification times are identical"
       ]
      },
      {
       "output_type": "stream",
       "stream": "stdout",
       "text": [
        "\n",
        "Not copying HourlyData/Archive/2013/2013110118.dat to 2013/2013110118.dat because modification times are identical"
       ]
      },
      {
       "output_type": "stream",
       "stream": "stdout",
       "text": [
        "\n",
        "Not copying HourlyData/Archive/2013/2013110119.dat to 2013/2013110119.dat because modification times are identical"
       ]
      },
      {
       "output_type": "stream",
       "stream": "stdout",
       "text": [
        "\n",
        "Not copying HourlyData/Archive/2013/2013110120.dat to 2013/2013110120.dat because modification times are identical"
       ]
      },
      {
       "output_type": "stream",
       "stream": "stdout",
       "text": [
        "\n",
        "Not copying HourlyData/Archive/2013/2013110121.dat to 2013/2013110121.dat because modification times are identical"
       ]
      },
      {
       "output_type": "stream",
       "stream": "stdout",
       "text": [
        "\n",
        "Not copying HourlyData/Archive/2013/2013110122.dat to 2013/2013110122.dat because modification times are identical"
       ]
      },
      {
       "output_type": "stream",
       "stream": "stdout",
       "text": [
        "\n",
        "Not copying HourlyData/Archive/2013/2013110123.dat to 2013/2013110123.dat because modification times are identical"
       ]
      },
      {
       "output_type": "stream",
       "stream": "stdout",
       "text": [
        "\n",
        "Not copying HourlyData/Archive/2013/2013110200.dat to 2013/2013110200.dat because modification times are identical"
       ]
      },
      {
       "output_type": "stream",
       "stream": "stdout",
       "text": [
        "\n",
        "Not copying HourlyData/Archive/2013/2013110201.dat to 2013/2013110201.dat because modification times are identical"
       ]
      },
      {
       "output_type": "stream",
       "stream": "stdout",
       "text": [
        "\n",
        "Not copying HourlyData/Archive/2013/2013110202.dat to 2013/2013110202.dat because modification times are identical"
       ]
      },
      {
       "output_type": "stream",
       "stream": "stdout",
       "text": [
        "\n",
        "Not copying HourlyData/Archive/2013/2013110203.dat to 2013/2013110203.dat because modification times are identical"
       ]
      },
      {
       "output_type": "stream",
       "stream": "stdout",
       "text": [
        "\n",
        "Not copying HourlyData/Archive/2013/2013110204.dat to 2013/2013110204.dat because modification times are identical"
       ]
      },
      {
       "output_type": "stream",
       "stream": "stdout",
       "text": [
        "\n",
        "Not copying HourlyData/Archive/2013/2013110205.dat to 2013/2013110205.dat because modification times are identical"
       ]
      },
      {
       "output_type": "stream",
       "stream": "stdout",
       "text": [
        "\n",
        "Not copying HourlyData/Archive/2013/2013110206.dat to 2013/2013110206.dat because modification times are identical"
       ]
      },
      {
       "output_type": "stream",
       "stream": "stdout",
       "text": [
        "\n",
        "Not copying HourlyData/Archive/2013/2013110207.dat to 2013/2013110207.dat because modification times are identical"
       ]
      },
      {
       "output_type": "stream",
       "stream": "stdout",
       "text": [
        "\n",
        "Not copying HourlyData/Archive/2013/2013110208.dat to 2013/2013110208.dat because modification times are identical"
       ]
      },
      {
       "output_type": "stream",
       "stream": "stdout",
       "text": [
        "\n",
        "Not copying HourlyData/Archive/2013/2013110209.dat to 2013/2013110209.dat because modification times are identical"
       ]
      },
      {
       "output_type": "stream",
       "stream": "stdout",
       "text": [
        "\n",
        "Not copying HourlyData/Archive/2013/2013110210.dat to 2013/2013110210.dat because modification times are identical"
       ]
      },
      {
       "output_type": "stream",
       "stream": "stdout",
       "text": [
        "\n",
        "Not copying HourlyData/Archive/2013/2013110211.dat to 2013/2013110211.dat because modification times are identical"
       ]
      },
      {
       "output_type": "stream",
       "stream": "stdout",
       "text": [
        "\n",
        "Not copying HourlyData/Archive/2013/2013110212.dat to 2013/2013110212.dat because modification times are identical"
       ]
      },
      {
       "output_type": "stream",
       "stream": "stdout",
       "text": [
        "\n",
        "Not copying HourlyData/Archive/2013/2013110213.dat to 2013/2013110213.dat because modification times are identical"
       ]
      },
      {
       "output_type": "stream",
       "stream": "stdout",
       "text": [
        "\n",
        "Not copying HourlyData/Archive/2013/2013110214.dat to 2013/2013110214.dat because modification times are identical"
       ]
      },
      {
       "output_type": "stream",
       "stream": "stdout",
       "text": [
        "\n",
        "Not copying HourlyData/Archive/2013/2013110215.dat to 2013/2013110215.dat because modification times are identical"
       ]
      },
      {
       "output_type": "stream",
       "stream": "stdout",
       "text": [
        "\n",
        "Not copying HourlyData/Archive/2013/2013110216.dat to 2013/2013110216.dat because modification times are identical"
       ]
      },
      {
       "output_type": "stream",
       "stream": "stdout",
       "text": [
        "\n",
        "Not copying HourlyData/Archive/2013/2013110217.dat to 2013/2013110217.dat because modification times are identical"
       ]
      },
      {
       "output_type": "stream",
       "stream": "stdout",
       "text": [
        "\n",
        "Not copying HourlyData/Archive/2013/2013110218.dat to 2013/2013110218.dat because modification times are identical"
       ]
      },
      {
       "output_type": "stream",
       "stream": "stdout",
       "text": [
        "\n",
        "Not copying HourlyData/Archive/2013/2013110219.dat to 2013/2013110219.dat because modification times are identical"
       ]
      },
      {
       "output_type": "stream",
       "stream": "stdout",
       "text": [
        "\n",
        "Not copying HourlyData/Archive/2013/2013110220.dat to 2013/2013110220.dat because modification times are identical"
       ]
      },
      {
       "output_type": "stream",
       "stream": "stdout",
       "text": [
        "\n",
        "Not copying HourlyData/Archive/2013/2013110221.dat to 2013/2013110221.dat because modification times are identical"
       ]
      },
      {
       "output_type": "stream",
       "stream": "stdout",
       "text": [
        "\n",
        "Not copying HourlyData/Archive/2013/2013110222.dat to 2013/2013110222.dat because modification times are identical"
       ]
      },
      {
       "output_type": "stream",
       "stream": "stdout",
       "text": [
        "\n",
        "Not copying HourlyData/Archive/2013/2013110223.dat to 2013/2013110223.dat because modification times are identical"
       ]
      },
      {
       "output_type": "stream",
       "stream": "stdout",
       "text": [
        "\n",
        "Not copying HourlyData/Archive/2013/2013110300.dat to 2013/2013110300.dat because modification times are identical"
       ]
      },
      {
       "output_type": "stream",
       "stream": "stdout",
       "text": [
        "\n",
        "Not copying HourlyData/Archive/2013/2013110301.dat to 2013/2013110301.dat because modification times are identical"
       ]
      },
      {
       "output_type": "stream",
       "stream": "stdout",
       "text": [
        "\n",
        "Not copying HourlyData/Archive/2013/2013110302.dat to 2013/2013110302.dat because modification times are identical"
       ]
      },
      {
       "output_type": "stream",
       "stream": "stdout",
       "text": [
        "\n",
        "Not copying HourlyData/Archive/2013/2013110303.dat to 2013/2013110303.dat because modification times are identical"
       ]
      },
      {
       "output_type": "stream",
       "stream": "stdout",
       "text": [
        "\n",
        "Not copying HourlyData/Archive/2013/2013110304.dat to 2013/2013110304.dat because modification times are identical"
       ]
      },
      {
       "output_type": "stream",
       "stream": "stdout",
       "text": [
        "\n",
        "Not copying HourlyData/Archive/2013/2013110305.dat to 2013/2013110305.dat because modification times are identical"
       ]
      },
      {
       "output_type": "stream",
       "stream": "stdout",
       "text": [
        "\n",
        "Not copying HourlyData/Archive/2013/2013110306.dat to 2013/2013110306.dat because modification times are identical"
       ]
      },
      {
       "output_type": "stream",
       "stream": "stdout",
       "text": [
        "\n",
        "Not copying HourlyData/Archive/2013/2013110307.dat to 2013/2013110307.dat because modification times are identical"
       ]
      },
      {
       "output_type": "stream",
       "stream": "stdout",
       "text": [
        "\n",
        "Not copying HourlyData/Archive/2013/2013110308.dat to 2013/2013110308.dat because modification times are identical"
       ]
      },
      {
       "output_type": "stream",
       "stream": "stdout",
       "text": [
        "\n",
        "Not copying HourlyData/Archive/2013/2013110309.dat to 2013/2013110309.dat because modification times are identical"
       ]
      },
      {
       "output_type": "stream",
       "stream": "stdout",
       "text": [
        "\n",
        "Not copying HourlyData/Archive/2013/2013110310.dat to 2013/2013110310.dat because modification times are identical"
       ]
      },
      {
       "output_type": "stream",
       "stream": "stdout",
       "text": [
        "\n",
        "Not copying HourlyData/Archive/2013/2013110311.dat to 2013/2013110311.dat because modification times are identical"
       ]
      },
      {
       "output_type": "stream",
       "stream": "stdout",
       "text": [
        "\n",
        "Not copying HourlyData/Archive/2013/2013110312.dat to 2013/2013110312.dat because modification times are identical"
       ]
      },
      {
       "output_type": "stream",
       "stream": "stdout",
       "text": [
        "\n",
        "Not copying HourlyData/Archive/2013/2013110313.dat to 2013/2013110313.dat because modification times are identical"
       ]
      },
      {
       "output_type": "stream",
       "stream": "stdout",
       "text": [
        "\n",
        "Not copying HourlyData/Archive/2013/2013110314.dat to 2013/2013110314.dat because modification times are identical"
       ]
      },
      {
       "output_type": "stream",
       "stream": "stdout",
       "text": [
        "\n",
        "Not copying HourlyData/Archive/2013/2013110315.dat to 2013/2013110315.dat because modification times are identical"
       ]
      },
      {
       "output_type": "stream",
       "stream": "stdout",
       "text": [
        "\n",
        "Not copying HourlyData/Archive/2013/2013110316.dat to 2013/2013110316.dat because modification times are identical"
       ]
      },
      {
       "output_type": "stream",
       "stream": "stdout",
       "text": [
        "\n",
        "Not copying HourlyData/Archive/2013/2013110317.dat to 2013/2013110317.dat because modification times are identical"
       ]
      },
      {
       "output_type": "stream",
       "stream": "stdout",
       "text": [
        "\n",
        "Not copying HourlyData/Archive/2013/2013110318.dat to 2013/2013110318.dat because modification times are identical"
       ]
      },
      {
       "output_type": "stream",
       "stream": "stdout",
       "text": [
        "\n",
        "Not copying HourlyData/Archive/2013/2013110319.dat to 2013/2013110319.dat because modification times are identical"
       ]
      },
      {
       "output_type": "stream",
       "stream": "stdout",
       "text": [
        "\n",
        "Not copying HourlyData/Archive/2013/2013110320.dat to 2013/2013110320.dat because modification times are identical"
       ]
      },
      {
       "output_type": "stream",
       "stream": "stdout",
       "text": [
        "\n",
        "Not copying HourlyData/Archive/2013/2013110321.dat to 2013/2013110321.dat because modification times are identical"
       ]
      },
      {
       "output_type": "stream",
       "stream": "stdout",
       "text": [
        "\n",
        "Not copying HourlyData/Archive/2013/2013110322.dat to 2013/2013110322.dat because modification times are identical"
       ]
      },
      {
       "output_type": "stream",
       "stream": "stdout",
       "text": [
        "\n",
        "Not copying HourlyData/Archive/2013/2013110323.dat to 2013/2013110323.dat because modification times are identical"
       ]
      },
      {
       "output_type": "stream",
       "stream": "stdout",
       "text": [
        "\n",
        "Not copying HourlyData/Archive/2013/2013110400.dat to 2013/2013110400.dat because modification times are identical"
       ]
      },
      {
       "output_type": "stream",
       "stream": "stdout",
       "text": [
        "\n",
        "Not copying HourlyData/Archive/2013/2013110401.dat to 2013/2013110401.dat because modification times are identical"
       ]
      },
      {
       "output_type": "stream",
       "stream": "stdout",
       "text": [
        "\n",
        "Not copying HourlyData/Archive/2013/2013110402.dat to 2013/2013110402.dat because modification times are identical"
       ]
      },
      {
       "output_type": "stream",
       "stream": "stdout",
       "text": [
        "\n",
        "Not copying HourlyData/Archive/2013/2013110403.dat to 2013/2013110403.dat because modification times are identical"
       ]
      },
      {
       "output_type": "stream",
       "stream": "stdout",
       "text": [
        "\n",
        "Not copying HourlyData/Archive/2013/2013110404.dat to 2013/2013110404.dat because modification times are identical"
       ]
      },
      {
       "output_type": "stream",
       "stream": "stdout",
       "text": [
        "\n",
        "Not copying HourlyData/Archive/2013/2013110405.dat to 2013/2013110405.dat because modification times are identical"
       ]
      },
      {
       "output_type": "stream",
       "stream": "stdout",
       "text": [
        "\n",
        "Not copying HourlyData/Archive/2013/2013110406.dat to 2013/2013110406.dat because modification times are identical"
       ]
      },
      {
       "output_type": "stream",
       "stream": "stdout",
       "text": [
        "\n",
        "Not copying HourlyData/Archive/2013/2013110407.dat to 2013/2013110407.dat because modification times are identical"
       ]
      },
      {
       "output_type": "stream",
       "stream": "stdout",
       "text": [
        "\n",
        "Not copying HourlyData/Archive/2013/2013110408.dat to 2013/2013110408.dat because modification times are identical"
       ]
      },
      {
       "output_type": "stream",
       "stream": "stdout",
       "text": [
        "\n",
        "Not copying HourlyData/Archive/2013/2013110409.dat to 2013/2013110409.dat because modification times are identical"
       ]
      },
      {
       "output_type": "stream",
       "stream": "stdout",
       "text": [
        "\n",
        "Not copying HourlyData/Archive/2013/2013110410.dat to 2013/2013110410.dat because modification times are identical"
       ]
      },
      {
       "output_type": "stream",
       "stream": "stdout",
       "text": [
        "\n",
        "Not copying HourlyData/Archive/2013/2013110411.dat to 2013/2013110411.dat because modification times are identical"
       ]
      },
      {
       "output_type": "stream",
       "stream": "stdout",
       "text": [
        "\n",
        "Not copying HourlyData/Archive/2013/2013110412.dat to 2013/2013110412.dat because modification times are identical"
       ]
      },
      {
       "output_type": "stream",
       "stream": "stdout",
       "text": [
        "\n",
        "Not copying HourlyData/Archive/2013/2013110413.dat to 2013/2013110413.dat because modification times are identical"
       ]
      },
      {
       "output_type": "stream",
       "stream": "stdout",
       "text": [
        "\n",
        "Not copying HourlyData/Archive/2013/2013110414.dat to 2013/2013110414.dat because modification times are identical"
       ]
      },
      {
       "output_type": "stream",
       "stream": "stdout",
       "text": [
        "\n",
        "Not copying HourlyData/Archive/2013/2013110415.dat to 2013/2013110415.dat because modification times are identical"
       ]
      },
      {
       "output_type": "stream",
       "stream": "stdout",
       "text": [
        "\n",
        "Not copying HourlyData/Archive/2013/2013110416.dat to 2013/2013110416.dat because modification times are identical"
       ]
      },
      {
       "output_type": "stream",
       "stream": "stdout",
       "text": [
        "\n",
        "Not copying HourlyData/Archive/2013/2013110417.dat to 2013/2013110417.dat because modification times are identical"
       ]
      },
      {
       "output_type": "stream",
       "stream": "stdout",
       "text": [
        "\n",
        "Not copying HourlyData/Archive/2013/2013110418.dat to 2013/2013110418.dat because modification times are identical"
       ]
      },
      {
       "output_type": "stream",
       "stream": "stdout",
       "text": [
        "\n",
        "Not copying HourlyData/Archive/2013/2013110419.dat to 2013/2013110419.dat because modification times are identical"
       ]
      },
      {
       "output_type": "stream",
       "stream": "stdout",
       "text": [
        "\n",
        "Not copying HourlyData/Archive/2013/2013110420.dat to 2013/2013110420.dat because modification times are identical"
       ]
      },
      {
       "output_type": "stream",
       "stream": "stdout",
       "text": [
        "\n",
        "Not copying HourlyData/Archive/2013/2013110421.dat to 2013/2013110421.dat because modification times are identical"
       ]
      },
      {
       "output_type": "stream",
       "stream": "stdout",
       "text": [
        "\n",
        "Not copying HourlyData/Archive/2013/2013110422.dat to 2013/2013110422.dat because modification times are identical"
       ]
      },
      {
       "output_type": "stream",
       "stream": "stdout",
       "text": [
        "\n",
        "Not copying HourlyData/Archive/2013/2013110423.dat to 2013/2013110423.dat because modification times are identical"
       ]
      },
      {
       "output_type": "stream",
       "stream": "stdout",
       "text": [
        "\n",
        "Not copying HourlyData/Archive/2013/2013110500.dat to 2013/2013110500.dat because modification times are identical"
       ]
      },
      {
       "output_type": "stream",
       "stream": "stdout",
       "text": [
        "\n",
        "Not copying HourlyData/Archive/2013/2013110501.dat to 2013/2013110501.dat because modification times are identical"
       ]
      },
      {
       "output_type": "stream",
       "stream": "stdout",
       "text": [
        "\n",
        "Not copying HourlyData/Archive/2013/2013110502.dat to 2013/2013110502.dat because modification times are identical"
       ]
      },
      {
       "output_type": "stream",
       "stream": "stdout",
       "text": [
        "\n",
        "Not copying HourlyData/Archive/2013/2013110503.dat to 2013/2013110503.dat because modification times are identical"
       ]
      },
      {
       "output_type": "stream",
       "stream": "stdout",
       "text": [
        "\n",
        "Not copying HourlyData/Archive/2013/2013110504.dat to 2013/2013110504.dat because modification times are identical"
       ]
      },
      {
       "output_type": "stream",
       "stream": "stdout",
       "text": [
        "\n",
        "Not copying HourlyData/Archive/2013/2013110505.dat to 2013/2013110505.dat because modification times are identical"
       ]
      },
      {
       "output_type": "stream",
       "stream": "stdout",
       "text": [
        "\n",
        "Not copying HourlyData/Archive/2013/2013110506.dat to 2013/2013110506.dat because modification times are identical"
       ]
      },
      {
       "output_type": "stream",
       "stream": "stdout",
       "text": [
        "\n",
        "Not copying HourlyData/Archive/2013/2013110507.dat to 2013/2013110507.dat because modification times are identical"
       ]
      },
      {
       "output_type": "stream",
       "stream": "stdout",
       "text": [
        "\n",
        "Not copying HourlyData/Archive/2013/2013110508.dat to 2013/2013110508.dat because modification times are identical"
       ]
      },
      {
       "output_type": "stream",
       "stream": "stdout",
       "text": [
        "\n",
        "Not copying HourlyData/Archive/2013/2013110509.dat to 2013/2013110509.dat because modification times are identical"
       ]
      },
      {
       "output_type": "stream",
       "stream": "stdout",
       "text": [
        "\n",
        "Not copying HourlyData/Archive/2013/2013110510.dat to 2013/2013110510.dat because modification times are identical"
       ]
      },
      {
       "output_type": "stream",
       "stream": "stdout",
       "text": [
        "\n",
        "Not copying HourlyData/Archive/2013/2013110511.dat to 2013/2013110511.dat because modification times are identical"
       ]
      },
      {
       "output_type": "stream",
       "stream": "stdout",
       "text": [
        "\n",
        "Not copying HourlyData/Archive/2013/2013110512.dat to 2013/2013110512.dat because modification times are identical"
       ]
      },
      {
       "output_type": "stream",
       "stream": "stdout",
       "text": [
        "\n",
        "Not copying HourlyData/Archive/2013/2013110513.dat to 2013/2013110513.dat because modification times are identical"
       ]
      },
      {
       "output_type": "stream",
       "stream": "stdout",
       "text": [
        "\n",
        "Not copying HourlyData/Archive/2013/2013110514.dat to 2013/2013110514.dat because modification times are identical"
       ]
      },
      {
       "output_type": "stream",
       "stream": "stdout",
       "text": [
        "\n",
        "Not copying HourlyData/Archive/2013/2013110515.dat to 2013/2013110515.dat because modification times are identical"
       ]
      },
      {
       "output_type": "stream",
       "stream": "stdout",
       "text": [
        "\n",
        "Not copying HourlyData/Archive/2013/2013110516.dat to 2013/2013110516.dat because modification times are identical"
       ]
      },
      {
       "output_type": "stream",
       "stream": "stdout",
       "text": [
        "\n",
        "Not copying HourlyData/Archive/2013/2013110517.dat to 2013/2013110517.dat because modification times are identical"
       ]
      },
      {
       "output_type": "stream",
       "stream": "stdout",
       "text": [
        "\n",
        "Not copying HourlyData/Archive/2013/2013110518.dat to 2013/2013110518.dat because modification times are identical"
       ]
      },
      {
       "output_type": "stream",
       "stream": "stdout",
       "text": [
        "\n",
        "Not copying HourlyData/Archive/2013/2013110519.dat to 2013/2013110519.dat because modification times are identical"
       ]
      },
      {
       "output_type": "stream",
       "stream": "stdout",
       "text": [
        "\n",
        "Not copying HourlyData/Archive/2013/2013110520.dat to 2013/2013110520.dat because modification times are identical"
       ]
      },
      {
       "output_type": "stream",
       "stream": "stdout",
       "text": [
        "\n",
        "Not copying HourlyData/Archive/2013/2013110521.dat to 2013/2013110521.dat because modification times are identical"
       ]
      },
      {
       "output_type": "stream",
       "stream": "stdout",
       "text": [
        "\n",
        "Not copying HourlyData/Archive/2013/2013110522.dat to 2013/2013110522.dat because modification times are identical"
       ]
      },
      {
       "output_type": "stream",
       "stream": "stdout",
       "text": [
        "\n",
        "Not copying HourlyData/Archive/2013/2013110523.dat to 2013/2013110523.dat because modification times are identical"
       ]
      },
      {
       "output_type": "stream",
       "stream": "stdout",
       "text": [
        "\n",
        "Not copying HourlyData/Archive/2013/2013110600.dat to 2013/2013110600.dat because modification times are identical"
       ]
      },
      {
       "output_type": "stream",
       "stream": "stdout",
       "text": [
        "\n",
        "Not copying HourlyData/Archive/2013/2013110601.dat to 2013/2013110601.dat because modification times are identical"
       ]
      },
      {
       "output_type": "stream",
       "stream": "stdout",
       "text": [
        "\n",
        "Not copying HourlyData/Archive/2013/2013110602.dat to 2013/2013110602.dat because modification times are identical"
       ]
      },
      {
       "output_type": "stream",
       "stream": "stdout",
       "text": [
        "\n",
        "Not copying HourlyData/Archive/2013/2013110603.dat to 2013/2013110603.dat because modification times are identical"
       ]
      },
      {
       "output_type": "stream",
       "stream": "stdout",
       "text": [
        "\n",
        "Not copying HourlyData/Archive/2013/2013110604.dat to 2013/2013110604.dat because modification times are identical"
       ]
      },
      {
       "output_type": "stream",
       "stream": "stdout",
       "text": [
        "\n",
        "Not copying HourlyData/Archive/2013/2013110605.dat to 2013/2013110605.dat because modification times are identical"
       ]
      },
      {
       "output_type": "stream",
       "stream": "stdout",
       "text": [
        "\n",
        "Not copying HourlyData/Archive/2013/2013110606.dat to 2013/2013110606.dat because modification times are identical"
       ]
      },
      {
       "output_type": "stream",
       "stream": "stdout",
       "text": [
        "\n",
        "Not copying HourlyData/Archive/2013/2013110607.dat to 2013/2013110607.dat because modification times are identical"
       ]
      },
      {
       "output_type": "stream",
       "stream": "stdout",
       "text": [
        "\n",
        "Not copying HourlyData/Archive/2013/2013110608.dat to 2013/2013110608.dat because modification times are identical"
       ]
      },
      {
       "output_type": "stream",
       "stream": "stdout",
       "text": [
        "\n",
        "Not copying HourlyData/Archive/2013/2013110609.dat to 2013/2013110609.dat because modification times are identical"
       ]
      },
      {
       "output_type": "stream",
       "stream": "stdout",
       "text": [
        "\n",
        "Not copying HourlyData/Archive/2013/2013110610.dat to 2013/2013110610.dat because modification times are identical"
       ]
      },
      {
       "output_type": "stream",
       "stream": "stdout",
       "text": [
        "\n",
        "Not copying HourlyData/Archive/2013/2013110611.dat to 2013/2013110611.dat because modification times are identical"
       ]
      },
      {
       "output_type": "stream",
       "stream": "stdout",
       "text": [
        "\n",
        "Not copying HourlyData/Archive/2013/2013110612.dat to 2013/2013110612.dat because modification times are identical"
       ]
      },
      {
       "output_type": "stream",
       "stream": "stdout",
       "text": [
        "\n",
        "Not copying HourlyData/Archive/2013/2013110613.dat to 2013/2013110613.dat because modification times are identical"
       ]
      },
      {
       "output_type": "stream",
       "stream": "stdout",
       "text": [
        "\n",
        "Not copying HourlyData/Archive/2013/2013110614.dat to 2013/2013110614.dat because modification times are identical"
       ]
      },
      {
       "output_type": "stream",
       "stream": "stdout",
       "text": [
        "\n",
        "Not copying HourlyData/Archive/2013/2013110615.dat to 2013/2013110615.dat because modification times are identical"
       ]
      },
      {
       "output_type": "stream",
       "stream": "stdout",
       "text": [
        "\n",
        "Not copying HourlyData/Archive/2013/2013110616.dat to 2013/2013110616.dat because modification times are identical"
       ]
      },
      {
       "output_type": "stream",
       "stream": "stdout",
       "text": [
        "\n",
        "Not copying HourlyData/Archive/2013/2013110617.dat to 2013/2013110617.dat because modification times are identical"
       ]
      },
      {
       "output_type": "stream",
       "stream": "stdout",
       "text": [
        "\n",
        "Not copying HourlyData/Archive/2013/2013110618.dat to 2013/2013110618.dat because modification times are identical"
       ]
      },
      {
       "output_type": "stream",
       "stream": "stdout",
       "text": [
        "\n",
        "Not copying HourlyData/Archive/2013/2013110619.dat to 2013/2013110619.dat because modification times are identical"
       ]
      },
      {
       "output_type": "stream",
       "stream": "stdout",
       "text": [
        "\n",
        "Not copying HourlyData/Archive/2013/2013110620.dat to 2013/2013110620.dat because modification times are identical"
       ]
      },
      {
       "output_type": "stream",
       "stream": "stdout",
       "text": [
        "\n",
        "Not copying HourlyData/Archive/2013/2013110621.dat to 2013/2013110621.dat because modification times are identical"
       ]
      },
      {
       "output_type": "stream",
       "stream": "stdout",
       "text": [
        "\n",
        "Not copying HourlyData/Archive/2013/2013110622.dat to 2013/2013110622.dat because modification times are identical"
       ]
      },
      {
       "output_type": "stream",
       "stream": "stdout",
       "text": [
        "\n",
        "Not copying HourlyData/Archive/2013/2013110623.dat to 2013/2013110623.dat because modification times are identical"
       ]
      },
      {
       "output_type": "stream",
       "stream": "stdout",
       "text": [
        "\n",
        "Not copying HourlyData/Archive/2013/2013110700.dat to 2013/2013110700.dat because modification times are identical"
       ]
      },
      {
       "output_type": "stream",
       "stream": "stdout",
       "text": [
        "\n",
        "Not copying HourlyData/Archive/2013/2013110701.dat to 2013/2013110701.dat because modification times are identical"
       ]
      },
      {
       "output_type": "stream",
       "stream": "stdout",
       "text": [
        "\n",
        "Not copying HourlyData/Archive/2013/2013110702.dat to 2013/2013110702.dat because modification times are identical"
       ]
      },
      {
       "output_type": "stream",
       "stream": "stdout",
       "text": [
        "\n",
        "Not copying HourlyData/Archive/2013/2013110703.dat to 2013/2013110703.dat because modification times are identical"
       ]
      },
      {
       "output_type": "stream",
       "stream": "stdout",
       "text": [
        "\n",
        "Not copying HourlyData/Archive/2013/2013110704.dat to 2013/2013110704.dat because modification times are identical"
       ]
      },
      {
       "output_type": "stream",
       "stream": "stdout",
       "text": [
        "\n",
        "Not copying HourlyData/Archive/2013/2013110705.dat to 2013/2013110705.dat because modification times are identical"
       ]
      },
      {
       "output_type": "stream",
       "stream": "stdout",
       "text": [
        "\n",
        "Not copying HourlyData/Archive/2013/2013110706.dat to 2013/2013110706.dat because modification times are identical"
       ]
      },
      {
       "output_type": "stream",
       "stream": "stdout",
       "text": [
        "\n",
        "Not copying HourlyData/Archive/2013/2013110707.dat to 2013/2013110707.dat because modification times are identical"
       ]
      },
      {
       "output_type": "stream",
       "stream": "stdout",
       "text": [
        "\n",
        "Not copying HourlyData/Archive/2013/2013110708.dat to 2013/2013110708.dat because modification times are identical"
       ]
      },
      {
       "output_type": "stream",
       "stream": "stdout",
       "text": [
        "\n",
        "Not copying HourlyData/Archive/2013/2013110709.dat to 2013/2013110709.dat because modification times are identical"
       ]
      },
      {
       "output_type": "stream",
       "stream": "stdout",
       "text": [
        "\n",
        "Not copying HourlyData/Archive/2013/2013110710.dat to 2013/2013110710.dat because modification times are identical"
       ]
      },
      {
       "output_type": "stream",
       "stream": "stdout",
       "text": [
        "\n",
        "Not copying HourlyData/Archive/2013/2013110711.dat to 2013/2013110711.dat because modification times are identical"
       ]
      },
      {
       "output_type": "stream",
       "stream": "stdout",
       "text": [
        "\n",
        "Not copying HourlyData/Archive/2013/2013110712.dat to 2013/2013110712.dat because modification times are identical"
       ]
      },
      {
       "output_type": "stream",
       "stream": "stdout",
       "text": [
        "\n",
        "Not copying HourlyData/Archive/2013/2013110713.dat to 2013/2013110713.dat because modification times are identical"
       ]
      },
      {
       "output_type": "stream",
       "stream": "stdout",
       "text": [
        "\n",
        "Not copying HourlyData/Archive/2013/2013110714.dat to 2013/2013110714.dat because modification times are identical"
       ]
      },
      {
       "output_type": "stream",
       "stream": "stdout",
       "text": [
        "\n",
        "Not copying HourlyData/Archive/2013/2013110715.dat to 2013/2013110715.dat because modification times are identical"
       ]
      },
      {
       "output_type": "stream",
       "stream": "stdout",
       "text": [
        "\n",
        "Not copying HourlyData/Archive/2013/2013110716.dat to 2013/2013110716.dat because modification times are identical"
       ]
      },
      {
       "output_type": "stream",
       "stream": "stdout",
       "text": [
        "\n",
        "Not copying HourlyData/Archive/2013/2013110717.dat to 2013/2013110717.dat because modification times are identical"
       ]
      },
      {
       "output_type": "stream",
       "stream": "stdout",
       "text": [
        "\n",
        "Not copying HourlyData/Archive/2013/2013110718.dat to 2013/2013110718.dat because modification times are identical"
       ]
      },
      {
       "output_type": "stream",
       "stream": "stdout",
       "text": [
        "\n",
        "Not copying HourlyData/Archive/2013/2013110719.dat to 2013/2013110719.dat because modification times are identical"
       ]
      },
      {
       "output_type": "stream",
       "stream": "stdout",
       "text": [
        "\n",
        "Not copying HourlyData/Archive/2013/2013110720.dat to 2013/2013110720.dat because modification times are identical"
       ]
      },
      {
       "output_type": "stream",
       "stream": "stdout",
       "text": [
        "\n",
        "Not copying HourlyData/Archive/2013/2013110721.dat to 2013/2013110721.dat because modification times are identical"
       ]
      },
      {
       "output_type": "stream",
       "stream": "stdout",
       "text": [
        "\n",
        "Not copying HourlyData/Archive/2013/2013110722.dat to 2013/2013110722.dat because modification times are identical"
       ]
      },
      {
       "output_type": "stream",
       "stream": "stdout",
       "text": [
        "\n",
        "Not copying HourlyData/Archive/2013/2013110723.dat to 2013/2013110723.dat because modification times are identical"
       ]
      },
      {
       "output_type": "stream",
       "stream": "stdout",
       "text": [
        "\n",
        "Not copying HourlyData/Archive/2013/2013110800.dat to 2013/2013110800.dat because modification times are identical"
       ]
      },
      {
       "output_type": "stream",
       "stream": "stdout",
       "text": [
        "\n",
        "Not copying HourlyData/Archive/2013/2013110801.dat to 2013/2013110801.dat because modification times are identical"
       ]
      },
      {
       "output_type": "stream",
       "stream": "stdout",
       "text": [
        "\n",
        "Not copying HourlyData/Archive/2013/2013110802.dat to 2013/2013110802.dat because modification times are identical"
       ]
      },
      {
       "output_type": "stream",
       "stream": "stdout",
       "text": [
        "\n",
        "Not copying HourlyData/Archive/2013/2013110803.dat to 2013/2013110803.dat because modification times are identical"
       ]
      },
      {
       "output_type": "stream",
       "stream": "stdout",
       "text": [
        "\n",
        "Not copying HourlyData/Archive/2013/2013110804.dat to 2013/2013110804.dat because modification times are identical"
       ]
      },
      {
       "output_type": "stream",
       "stream": "stdout",
       "text": [
        "\n",
        "Not copying HourlyData/Archive/2013/2013110805.dat to 2013/2013110805.dat because modification times are identical"
       ]
      },
      {
       "output_type": "stream",
       "stream": "stdout",
       "text": [
        "\n",
        "Not copying HourlyData/Archive/2013/2013110806.dat to 2013/2013110806.dat because modification times are identical"
       ]
      },
      {
       "output_type": "stream",
       "stream": "stdout",
       "text": [
        "\n",
        "Not copying HourlyData/Archive/2013/2013110807.dat to 2013/2013110807.dat because modification times are identical"
       ]
      },
      {
       "output_type": "stream",
       "stream": "stdout",
       "text": [
        "\n",
        "Not copying HourlyData/Archive/2013/2013110808.dat to 2013/2013110808.dat because modification times are identical"
       ]
      },
      {
       "output_type": "stream",
       "stream": "stdout",
       "text": [
        "\n",
        "Not copying HourlyData/Archive/2013/2013110809.dat to 2013/2013110809.dat because modification times are identical"
       ]
      },
      {
       "output_type": "stream",
       "stream": "stdout",
       "text": [
        "\n",
        "Not copying HourlyData/Archive/2013/2013110810.dat to 2013/2013110810.dat because modification times are identical"
       ]
      },
      {
       "output_type": "stream",
       "stream": "stdout",
       "text": [
        "\n",
        "Not copying HourlyData/Archive/2013/2013110811.dat to 2013/2013110811.dat because modification times are identical"
       ]
      },
      {
       "output_type": "stream",
       "stream": "stdout",
       "text": [
        "\n",
        "Not copying HourlyData/Archive/2013/2013110812.dat to 2013/2013110812.dat because modification times are identical"
       ]
      },
      {
       "output_type": "stream",
       "stream": "stdout",
       "text": [
        "\n",
        "Not copying HourlyData/Archive/2013/2013110813.dat to 2013/2013110813.dat because modification times are identical"
       ]
      },
      {
       "output_type": "stream",
       "stream": "stdout",
       "text": [
        "\n",
        "Not copying HourlyData/Archive/2013/2013110814.dat to 2013/2013110814.dat because modification times are identical"
       ]
      },
      {
       "output_type": "stream",
       "stream": "stdout",
       "text": [
        "\n",
        "Not copying HourlyData/Archive/2013/2013110815.dat to 2013/2013110815.dat because modification times are identical"
       ]
      },
      {
       "output_type": "stream",
       "stream": "stdout",
       "text": [
        "\n",
        "Not copying HourlyData/Archive/2013/2013110816.dat to 2013/2013110816.dat because modification times are identical"
       ]
      },
      {
       "output_type": "stream",
       "stream": "stdout",
       "text": [
        "\n",
        "Not copying HourlyData/Archive/2013/2013110817.dat to 2013/2013110817.dat because modification times are identical"
       ]
      },
      {
       "output_type": "stream",
       "stream": "stdout",
       "text": [
        "\n",
        "Not copying HourlyData/Archive/2013/2013110818.dat to 2013/2013110818.dat because modification times are identical"
       ]
      },
      {
       "output_type": "stream",
       "stream": "stdout",
       "text": [
        "\n",
        "Retrieved 431781 bytes from HourlyData/Archive/2013/2013110819.dat, modtime 2013-11-18 17:00:06+00:00"
       ]
      },
      {
       "output_type": "stream",
       "stream": "stdout",
       "text": [
        "\n",
        "Copied HourlyData/Archive/2013/2013110819.dat (431781 bytes, modtime 2013-11-18 17:00:06+00:00) to 2013/2013110819.dat because destination does not exist\n",
        "Retrieved 431579 bytes from HourlyData/Archive/2013/2013110820.dat, modtime 2013-11-18 17:00:06+00:00"
       ]
      },
      {
       "output_type": "stream",
       "stream": "stdout",
       "text": [
        "\n",
        "Copied HourlyData/Archive/2013/2013110820.dat (431579 bytes, modtime 2013-11-18 17:00:06+00:00) to 2013/2013110820.dat because destination does not exist\n",
        "Retrieved 433358 bytes from HourlyData/Archive/2013/2013110821.dat, modtime 2013-11-18 17:00:06+00:00"
       ]
      },
      {
       "output_type": "stream",
       "stream": "stdout",
       "text": [
        "\n",
        "Copied HourlyData/Archive/2013/2013110821.dat (433358 bytes, modtime 2013-11-18 17:00:06+00:00) to 2013/2013110821.dat because destination does not exist\n",
        "Retrieved 433127 bytes from HourlyData/Archive/2013/2013110822.dat, modtime 2013-11-18 17:00:06+00:00"
       ]
      },
      {
       "output_type": "stream",
       "stream": "stdout",
       "text": [
        "\n",
        "Copied HourlyData/Archive/2013/2013110822.dat (433127 bytes, modtime 2013-11-18 17:00:06+00:00) to 2013/2013110822.dat because destination does not exist\n",
        "Retrieved 432954 bytes from HourlyData/Archive/2013/2013110823.dat, modtime 2013-11-18 17:00:06+00:00"
       ]
      },
      {
       "output_type": "stream",
       "stream": "stdout",
       "text": [
        "\n",
        "Copied HourlyData/Archive/2013/2013110823.dat (432954 bytes, modtime 2013-11-18 17:00:06+00:00) to 2013/2013110823.dat because destination does not exist\n",
        "Retrieved 435136 bytes from HourlyData/Archive/2013/2013110900.dat, modtime 2013-11-18 17:00:06+00:00"
       ]
      },
      {
       "output_type": "stream",
       "stream": "stdout",
       "text": [
        "\n",
        "Copied HourlyData/Archive/2013/2013110900.dat (435136 bytes, modtime 2013-11-18 17:00:06+00:00) to 2013/2013110900.dat because destination does not exist\n",
        "Retrieved 426577 bytes from HourlyData/Archive/2013/2013110901.dat, modtime 2013-11-18 17:00:06+00:00"
       ]
      },
      {
       "output_type": "stream",
       "stream": "stdout",
       "text": [
        "\n",
        "Copied HourlyData/Archive/2013/2013110901.dat (426577 bytes, modtime 2013-11-18 17:00:06+00:00) to 2013/2013110901.dat because destination does not exist\n",
        "Retrieved 426050 bytes from HourlyData/Archive/2013/2013110902.dat, modtime 2013-11-18 17:00:06+00:00"
       ]
      },
      {
       "output_type": "stream",
       "stream": "stdout",
       "text": [
        "\n",
        "Copied HourlyData/Archive/2013/2013110902.dat (426050 bytes, modtime 2013-11-18 17:00:06+00:00) to 2013/2013110902.dat because destination does not exist\n",
        "Retrieved 424717 bytes from HourlyData/Archive/2013/2013110903.dat, modtime 2013-11-18 17:00:06+00:00"
       ]
      },
      {
       "output_type": "stream",
       "stream": "stdout",
       "text": [
        "\n",
        "Copied HourlyData/Archive/2013/2013110903.dat (424717 bytes, modtime 2013-11-18 17:00:06+00:00) to 2013/2013110903.dat because destination does not exist\n",
        "Retrieved 418336 bytes from HourlyData/Archive/2013/2013110904.dat, modtime 2013-11-18 17:00:06+00:00"
       ]
      },
      {
       "output_type": "stream",
       "stream": "stdout",
       "text": [
        "\n",
        "Copied HourlyData/Archive/2013/2013110904.dat (418336 bytes, modtime 2013-11-18 17:00:06+00:00) to 2013/2013110904.dat because destination does not exist\n",
        "Retrieved 420236 bytes from HourlyData/Archive/2013/2013110905.dat, modtime 2013-11-18 17:00:06+00:00"
       ]
      },
      {
       "output_type": "stream",
       "stream": "stdout",
       "text": [
        "\n",
        "Copied HourlyData/Archive/2013/2013110905.dat (420236 bytes, modtime 2013-11-18 17:00:06+00:00) to 2013/2013110905.dat because destination does not exist\n",
        "Retrieved 423262 bytes from HourlyData/Archive/2013/2013110906.dat, modtime 2013-11-18 17:00:06+00:00"
       ]
      },
      {
       "output_type": "stream",
       "stream": "stdout",
       "text": [
        "\n",
        "Copied HourlyData/Archive/2013/2013110906.dat (423262 bytes, modtime 2013-11-18 17:00:06+00:00) to 2013/2013110906.dat because destination does not exist\n",
        "Retrieved 423117 bytes from HourlyData/Archive/2013/2013110907.dat, modtime 2013-11-18 17:00:06+00:00"
       ]
      },
      {
       "output_type": "stream",
       "stream": "stdout",
       "text": [
        "\n",
        "Copied HourlyData/Archive/2013/2013110907.dat (423117 bytes, modtime 2013-11-18 17:00:06+00:00) to 2013/2013110907.dat because destination does not exist\n",
        "Retrieved 424887 bytes from HourlyData/Archive/2013/2013110908.dat, modtime 2013-11-18 17:00:06+00:00"
       ]
      },
      {
       "output_type": "stream",
       "stream": "stdout",
       "text": [
        "\n",
        "Copied HourlyData/Archive/2013/2013110908.dat (424887 bytes, modtime 2013-11-18 17:00:06+00:00) to 2013/2013110908.dat because destination does not exist\n",
        "Retrieved 423472 bytes from HourlyData/Archive/2013/2013110909.dat, modtime 2013-11-18 17:00:06+00:00"
       ]
      },
      {
       "output_type": "stream",
       "stream": "stdout",
       "text": [
        "\n",
        "Copied HourlyData/Archive/2013/2013110909.dat (423472 bytes, modtime 2013-11-18 17:00:06+00:00) to 2013/2013110909.dat because destination does not exist\n",
        "Retrieved 425201 bytes from HourlyData/Archive/2013/2013110910.dat, modtime 2013-11-18 17:00:06+00:00"
       ]
      },
      {
       "output_type": "stream",
       "stream": "stdout",
       "text": [
        "\n",
        "Copied HourlyData/Archive/2013/2013110910.dat (425201 bytes, modtime 2013-11-18 17:00:06+00:00) to 2013/2013110910.dat because destination does not exist\n",
        "Retrieved 421590 bytes from HourlyData/Archive/2013/2013110911.dat, modtime 2013-11-18 17:00:06+00:00"
       ]
      },
      {
       "output_type": "stream",
       "stream": "stdout",
       "text": [
        "\n",
        "Copied HourlyData/Archive/2013/2013110911.dat (421590 bytes, modtime 2013-11-18 17:00:06+00:00) to 2013/2013110911.dat because destination does not exist\n",
        "Retrieved 417382 bytes from HourlyData/Archive/2013/2013110912.dat, modtime 2013-11-18 17:00:06+00:00"
       ]
      },
      {
       "output_type": "stream",
       "stream": "stdout",
       "text": [
        "\n",
        "Copied HourlyData/Archive/2013/2013110912.dat (417382 bytes, modtime 2013-11-18 17:00:06+00:00) to 2013/2013110912.dat because destination does not exist\n",
        "Retrieved 426769 bytes from HourlyData/Archive/2013/2013110913.dat, modtime 2013-11-18 17:00:06+00:00"
       ]
      },
      {
       "output_type": "stream",
       "stream": "stdout",
       "text": [
        "\n",
        "Copied HourlyData/Archive/2013/2013110913.dat (426769 bytes, modtime 2013-11-18 17:00:06+00:00) to 2013/2013110913.dat because destination does not exist\n",
        "Retrieved 428903 bytes from HourlyData/Archive/2013/2013110914.dat, modtime 2013-11-18 17:00:06+00:00"
       ]
      },
      {
       "output_type": "stream",
       "stream": "stdout",
       "text": [
        "\n",
        "Copied HourlyData/Archive/2013/2013110914.dat (428903 bytes, modtime 2013-11-18 17:00:06+00:00) to 2013/2013110914.dat because destination does not exist\n",
        "Retrieved 427142 bytes from HourlyData/Archive/2013/2013110915.dat, modtime 2013-11-18 17:00:06+00:00"
       ]
      },
      {
       "output_type": "stream",
       "stream": "stdout",
       "text": [
        "\n",
        "Copied HourlyData/Archive/2013/2013110915.dat (427142 bytes, modtime 2013-11-18 17:00:06+00:00) to 2013/2013110915.dat because destination does not exist\n",
        "Retrieved 426844 bytes from HourlyData/Archive/2013/2013110916.dat, modtime 2013-11-18 17:00:06+00:00"
       ]
      },
      {
       "output_type": "stream",
       "stream": "stdout",
       "text": [
        "\n",
        "Copied HourlyData/Archive/2013/2013110916.dat (426844 bytes, modtime 2013-11-18 17:00:06+00:00) to 2013/2013110916.dat because destination does not exist\n",
        "Retrieved 421284 bytes from HourlyData/Archive/2013/2013110917.dat, modtime 2013-11-19 17:00:06+00:00"
       ]
      },
      {
       "output_type": "stream",
       "stream": "stdout",
       "text": [
        "\n",
        "Copied HourlyData/Archive/2013/2013110917.dat (421284 bytes, modtime 2013-11-19 17:00:06+00:00) to 2013/2013110917.dat because destination does not exist\n",
        "Retrieved 422537 bytes from HourlyData/Archive/2013/2013110918.dat, modtime 2013-11-19 17:00:06+00:00"
       ]
      },
      {
       "output_type": "stream",
       "stream": "stdout",
       "text": [
        "\n",
        "Copied HourlyData/Archive/2013/2013110918.dat (422537 bytes, modtime 2013-11-19 17:00:06+00:00) to 2013/2013110918.dat because destination does not exist\n",
        "Retrieved 422547 bytes from HourlyData/Archive/2013/2013110919.dat, modtime 2013-11-19 17:00:06+00:00"
       ]
      },
      {
       "output_type": "stream",
       "stream": "stdout",
       "text": [
        "\n",
        "Copied HourlyData/Archive/2013/2013110919.dat (422547 bytes, modtime 2013-11-19 17:00:06+00:00) to 2013/2013110919.dat because destination does not exist\n",
        "Retrieved 422921 bytes from HourlyData/Archive/2013/2013110920.dat, modtime 2013-11-19 17:00:06+00:00"
       ]
      },
      {
       "output_type": "stream",
       "stream": "stdout",
       "text": [
        "\n",
        "Copied HourlyData/Archive/2013/2013110920.dat (422921 bytes, modtime 2013-11-19 17:00:06+00:00) to 2013/2013110920.dat because destination does not exist\n",
        "Retrieved 421231 bytes from HourlyData/Archive/2013/2013110921.dat, modtime 2013-11-19 17:00:06+00:00"
       ]
      },
      {
       "output_type": "stream",
       "stream": "stdout",
       "text": [
        "\n",
        "Copied HourlyData/Archive/2013/2013110921.dat (421231 bytes, modtime 2013-11-19 17:00:06+00:00) to 2013/2013110921.dat because destination does not exist\n",
        "Retrieved 422770 bytes from HourlyData/Archive/2013/2013110922.dat, modtime 2013-11-19 17:00:06+00:00"
       ]
      },
      {
       "output_type": "stream",
       "stream": "stdout",
       "text": [
        "\n",
        "Copied HourlyData/Archive/2013/2013110922.dat (422770 bytes, modtime 2013-11-19 17:00:06+00:00) to 2013/2013110922.dat because destination does not exist\n",
        "Retrieved 422388 bytes from HourlyData/Archive/2013/2013110923.dat, modtime 2013-11-19 17:00:06+00:00"
       ]
      },
      {
       "output_type": "stream",
       "stream": "stdout",
       "text": [
        "\n",
        "Copied HourlyData/Archive/2013/2013110923.dat (422388 bytes, modtime 2013-11-19 17:00:06+00:00) to 2013/2013110923.dat because destination does not exist\n",
        "Retrieved 423340 bytes from HourlyData/Archive/2013/2013111000.dat, modtime 2013-11-19 17:00:06+00:00"
       ]
      },
      {
       "output_type": "stream",
       "stream": "stdout",
       "text": [
        "\n",
        "Copied HourlyData/Archive/2013/2013111000.dat (423340 bytes, modtime 2013-11-19 17:00:06+00:00) to 2013/2013111000.dat because destination does not exist\n",
        "Retrieved 420006 bytes from HourlyData/Archive/2013/2013111001.dat, modtime 2013-11-19 17:00:06+00:00"
       ]
      },
      {
       "output_type": "stream",
       "stream": "stdout",
       "text": [
        "\n",
        "Copied HourlyData/Archive/2013/2013111001.dat (420006 bytes, modtime 2013-11-19 17:00:06+00:00) to 2013/2013111001.dat because destination does not exist\n",
        "Retrieved 419974 bytes from HourlyData/Archive/2013/2013111002.dat, modtime 2013-11-19 17:00:06+00:00"
       ]
      },
      {
       "output_type": "stream",
       "stream": "stdout",
       "text": [
        "\n",
        "Copied HourlyData/Archive/2013/2013111002.dat (419974 bytes, modtime 2013-11-19 17:00:06+00:00) to 2013/2013111002.dat because destination does not exist\n",
        "Retrieved 415490 bytes from HourlyData/Archive/2013/2013111003.dat, modtime 2013-11-19 17:00:06+00:00"
       ]
      },
      {
       "output_type": "stream",
       "stream": "stdout",
       "text": [
        "\n",
        "Copied HourlyData/Archive/2013/2013111003.dat (415490 bytes, modtime 2013-11-19 17:00:06+00:00) to 2013/2013111003.dat because destination does not exist\n",
        "Retrieved 401753 bytes from HourlyData/Archive/2013/2013111004.dat, modtime 2013-11-19 17:00:06+00:00"
       ]
      },
      {
       "output_type": "stream",
       "stream": "stdout",
       "text": [
        "\n",
        "Copied HourlyData/Archive/2013/2013111004.dat (401753 bytes, modtime 2013-11-19 17:00:06+00:00) to 2013/2013111004.dat because destination does not exist\n",
        "Retrieved 410848 bytes from HourlyData/Archive/2013/2013111005.dat, modtime 2013-11-19 17:00:06+00:00"
       ]
      },
      {
       "output_type": "stream",
       "stream": "stdout",
       "text": [
        "\n",
        "Copied HourlyData/Archive/2013/2013111005.dat (410848 bytes, modtime 2013-11-19 17:00:06+00:00) to 2013/2013111005.dat because destination does not exist\n",
        "Retrieved 413876 bytes from HourlyData/Archive/2013/2013111006.dat, modtime 2013-11-19 17:00:06+00:00"
       ]
      },
      {
       "output_type": "stream",
       "stream": "stdout",
       "text": [
        "\n",
        "Copied HourlyData/Archive/2013/2013111006.dat (413876 bytes, modtime 2013-11-19 17:00:06+00:00) to 2013/2013111006.dat because destination does not exist\n",
        "Retrieved 410982 bytes from HourlyData/Archive/2013/2013111007.dat, modtime 2013-11-19 17:00:06+00:00"
       ]
      },
      {
       "output_type": "stream",
       "stream": "stdout",
       "text": [
        "\n",
        "Copied HourlyData/Archive/2013/2013111007.dat (410982 bytes, modtime 2013-11-19 17:00:06+00:00) to 2013/2013111007.dat because destination does not exist\n",
        "Retrieved 414495 bytes from HourlyData/Archive/2013/2013111008.dat, modtime 2013-11-19 17:00:06+00:00"
       ]
      },
      {
       "output_type": "stream",
       "stream": "stdout",
       "text": [
        "\n",
        "Copied HourlyData/Archive/2013/2013111008.dat (414495 bytes, modtime 2013-11-19 17:00:06+00:00) to 2013/2013111008.dat because destination does not exist\n",
        "Retrieved 416245 bytes from HourlyData/Archive/2013/2013111009.dat, modtime 2013-11-19 17:00:06+00:00"
       ]
      },
      {
       "output_type": "stream",
       "stream": "stdout",
       "text": [
        "\n",
        "Copied HourlyData/Archive/2013/2013111009.dat (416245 bytes, modtime 2013-11-19 17:00:06+00:00) to 2013/2013111009.dat because destination does not exist\n",
        "Retrieved 416612 bytes from HourlyData/Archive/2013/2013111010.dat, modtime 2013-11-19 17:00:06+00:00"
       ]
      },
      {
       "output_type": "stream",
       "stream": "stdout",
       "text": [
        "\n",
        "Copied HourlyData/Archive/2013/2013111010.dat (416612 bytes, modtime 2013-11-19 17:00:06+00:00) to 2013/2013111010.dat because destination does not exist\n",
        "Retrieved 413082 bytes from HourlyData/Archive/2013/2013111011.dat, modtime 2013-11-19 17:00:06+00:00"
       ]
      },
      {
       "output_type": "stream",
       "stream": "stdout",
       "text": [
        "\n",
        "Copied HourlyData/Archive/2013/2013111011.dat (413082 bytes, modtime 2013-11-19 17:00:06+00:00) to 2013/2013111011.dat because destination does not exist\n",
        "Retrieved 411463 bytes from HourlyData/Archive/2013/2013111012.dat, modtime 2013-11-19 17:00:06+00:00"
       ]
      },
      {
       "output_type": "stream",
       "stream": "stdout",
       "text": [
        "\n",
        "Copied HourlyData/Archive/2013/2013111012.dat (411463 bytes, modtime 2013-11-19 17:00:06+00:00) to 2013/2013111012.dat because destination does not exist\n",
        "Retrieved 420014 bytes from HourlyData/Archive/2013/2013111013.dat, modtime 2013-11-19 17:00:06+00:00"
       ]
      },
      {
       "output_type": "stream",
       "stream": "stdout",
       "text": [
        "\n",
        "Copied HourlyData/Archive/2013/2013111013.dat (420014 bytes, modtime 2013-11-19 17:00:06+00:00) to 2013/2013111013.dat because destination does not exist\n",
        "Retrieved 421039 bytes from HourlyData/Archive/2013/2013111014.dat, modtime 2013-11-19 17:00:06+00:00"
       ]
      },
      {
       "output_type": "stream",
       "stream": "stdout",
       "text": [
        "\n",
        "Copied HourlyData/Archive/2013/2013111014.dat (421039 bytes, modtime 2013-11-19 17:00:06+00:00) to 2013/2013111014.dat because destination does not exist\n",
        "Retrieved 421129 bytes from HourlyData/Archive/2013/2013111015.dat, modtime 2013-11-19 17:00:06+00:00"
       ]
      },
      {
       "output_type": "stream",
       "stream": "stdout",
       "text": [
        "\n",
        "Copied HourlyData/Archive/2013/2013111015.dat (421129 bytes, modtime 2013-11-19 17:00:06+00:00) to 2013/2013111015.dat because destination does not exist\n",
        "Retrieved 419882 bytes from HourlyData/Archive/2013/2013111016.dat, modtime 2013-11-19 17:00:06+00:00"
       ]
      },
      {
       "output_type": "stream",
       "stream": "stdout",
       "text": [
        "\n",
        "Copied HourlyData/Archive/2013/2013111016.dat (419882 bytes, modtime 2013-11-19 17:00:06+00:00) to 2013/2013111016.dat because destination does not exist\n",
        "Retrieved 418188 bytes from HourlyData/Archive/2013/2013111017.dat, modtime 2013-11-20 17:00:06+00:00"
       ]
      },
      {
       "output_type": "stream",
       "stream": "stdout",
       "text": [
        "\n",
        "Copied HourlyData/Archive/2013/2013111017.dat (418188 bytes, modtime 2013-11-20 17:00:06+00:00) to 2013/2013111017.dat because destination does not exist\n",
        "Retrieved 419400 bytes from HourlyData/Archive/2013/2013111018.dat, modtime 2013-11-20 17:00:06+00:00"
       ]
      },
      {
       "output_type": "stream",
       "stream": "stdout",
       "text": [
        "\n",
        "Copied HourlyData/Archive/2013/2013111018.dat (419400 bytes, modtime 2013-11-20 17:00:06+00:00) to 2013/2013111018.dat because destination does not exist\n",
        "Retrieved 418803 bytes from HourlyData/Archive/2013/2013111019.dat, modtime 2013-11-20 17:00:06+00:00"
       ]
      },
      {
       "output_type": "stream",
       "stream": "stdout",
       "text": [
        "\n",
        "Copied HourlyData/Archive/2013/2013111019.dat (418803 bytes, modtime 2013-11-20 17:00:06+00:00) to 2013/2013111019.dat because destination does not exist\n",
        "Retrieved 419632 bytes from HourlyData/Archive/2013/2013111020.dat, modtime 2013-11-20 17:00:06+00:00"
       ]
      },
      {
       "output_type": "stream",
       "stream": "stdout",
       "text": [
        "\n",
        "Copied HourlyData/Archive/2013/2013111020.dat (419632 bytes, modtime 2013-11-20 17:00:06+00:00) to 2013/2013111020.dat because destination does not exist\n",
        "Retrieved 418767 bytes from HourlyData/Archive/2013/2013111021.dat, modtime 2013-11-20 17:00:06+00:00"
       ]
      },
      {
       "output_type": "stream",
       "stream": "stdout",
       "text": [
        "\n",
        "Copied HourlyData/Archive/2013/2013111021.dat (418767 bytes, modtime 2013-11-20 17:00:06+00:00) to 2013/2013111021.dat because destination does not exist\n",
        "Retrieved 413917 bytes from HourlyData/Archive/2013/2013111022.dat, modtime 2013-11-20 17:00:06+00:00"
       ]
      },
      {
       "output_type": "stream",
       "stream": "stdout",
       "text": [
        "\n",
        "Copied HourlyData/Archive/2013/2013111022.dat (413917 bytes, modtime 2013-11-20 17:00:06+00:00) to 2013/2013111022.dat because destination does not exist\n",
        "Retrieved 418312 bytes from HourlyData/Archive/2013/2013111023.dat, modtime 2013-11-20 17:00:06+00:00"
       ]
      },
      {
       "output_type": "stream",
       "stream": "stdout",
       "text": [
        "\n",
        "Copied HourlyData/Archive/2013/2013111023.dat (418312 bytes, modtime 2013-11-20 17:00:06+00:00) to 2013/2013111023.dat because destination does not exist\n",
        "Retrieved 426005 bytes from HourlyData/Archive/2013/2013111100.dat, modtime 2013-11-20 17:00:06+00:00"
       ]
      },
      {
       "output_type": "stream",
       "stream": "stdout",
       "text": [
        "\n",
        "Copied HourlyData/Archive/2013/2013111100.dat (426005 bytes, modtime 2013-11-20 17:00:06+00:00) to 2013/2013111100.dat because destination does not exist\n",
        "Retrieved 426343 bytes from HourlyData/Archive/2013/2013111101.dat, modtime 2013-11-20 17:00:06+00:00"
       ]
      },
      {
       "output_type": "stream",
       "stream": "stdout",
       "text": [
        "\n",
        "Copied HourlyData/Archive/2013/2013111101.dat (426343 bytes, modtime 2013-11-20 17:00:06+00:00) to 2013/2013111101.dat because destination does not exist\n",
        "Retrieved 426578 bytes from HourlyData/Archive/2013/2013111102.dat, modtime 2013-11-20 17:00:06+00:00"
       ]
      },
      {
       "output_type": "stream",
       "stream": "stdout",
       "text": [
        "\n",
        "Copied HourlyData/Archive/2013/2013111102.dat (426578 bytes, modtime 2013-11-20 17:00:06+00:00) to 2013/2013111102.dat because destination does not exist\n",
        "Retrieved 421338 bytes from HourlyData/Archive/2013/2013111103.dat, modtime 2013-11-20 17:00:06+00:00"
       ]
      },
      {
       "output_type": "stream",
       "stream": "stdout",
       "text": [
        "\n",
        "Copied HourlyData/Archive/2013/2013111103.dat (421338 bytes, modtime 2013-11-20 17:00:06+00:00) to 2013/2013111103.dat because destination does not exist\n",
        "Retrieved 414884 bytes from HourlyData/Archive/2013/2013111104.dat, modtime 2013-11-20 17:00:06+00:00"
       ]
      },
      {
       "output_type": "stream",
       "stream": "stdout",
       "text": [
        "\n",
        "Copied HourlyData/Archive/2013/2013111104.dat (414884 bytes, modtime 2013-11-20 17:00:06+00:00) to 2013/2013111104.dat because destination does not exist\n",
        "Retrieved 420944 bytes from HourlyData/Archive/2013/2013111105.dat, modtime 2013-11-20 17:00:06+00:00"
       ]
      },
      {
       "output_type": "stream",
       "stream": "stdout",
       "text": [
        "\n",
        "Copied HourlyData/Archive/2013/2013111105.dat (420944 bytes, modtime 2013-11-20 17:00:06+00:00) to 2013/2013111105.dat because destination does not exist\n",
        "Retrieved 423575 bytes from HourlyData/Archive/2013/2013111106.dat, modtime 2013-11-20 17:00:06+00:00"
       ]
      },
      {
       "output_type": "stream",
       "stream": "stdout",
       "text": [
        "\n",
        "Copied HourlyData/Archive/2013/2013111106.dat (423575 bytes, modtime 2013-11-20 17:00:06+00:00) to 2013/2013111106.dat because destination does not exist\n",
        "Retrieved 418290 bytes from HourlyData/Archive/2013/2013111107.dat, modtime 2013-11-20 17:00:06+00:00"
       ]
      },
      {
       "output_type": "stream",
       "stream": "stdout",
       "text": [
        "\n",
        "Copied HourlyData/Archive/2013/2013111107.dat (418290 bytes, modtime 2013-11-20 17:00:06+00:00) to 2013/2013111107.dat because destination does not exist\n",
        "Retrieved 417731 bytes from HourlyData/Archive/2013/2013111108.dat, modtime 2013-11-20 17:00:06+00:00"
       ]
      },
      {
       "output_type": "stream",
       "stream": "stdout",
       "text": [
        "\n",
        "Copied HourlyData/Archive/2013/2013111108.dat (417731 bytes, modtime 2013-11-20 17:00:06+00:00) to 2013/2013111108.dat because destination does not exist\n",
        "Retrieved 420567 bytes from HourlyData/Archive/2013/2013111109.dat, modtime 2013-11-20 17:00:06+00:00"
       ]
      },
      {
       "output_type": "stream",
       "stream": "stdout",
       "text": [
        "\n",
        "Copied HourlyData/Archive/2013/2013111109.dat (420567 bytes, modtime 2013-11-20 17:00:06+00:00) to 2013/2013111109.dat because destination does not exist\n",
        "Retrieved 422211 bytes from HourlyData/Archive/2013/2013111110.dat, modtime 2013-11-20 17:00:06+00:00"
       ]
      },
      {
       "output_type": "stream",
       "stream": "stdout",
       "text": [
        "\n",
        "Copied HourlyData/Archive/2013/2013111110.dat (422211 bytes, modtime 2013-11-20 17:00:06+00:00) to 2013/2013111110.dat because destination does not exist\n",
        "Retrieved 420945 bytes from HourlyData/Archive/2013/2013111111.dat, modtime 2013-11-20 17:00:06+00:00"
       ]
      },
      {
       "output_type": "stream",
       "stream": "stdout",
       "text": [
        "\n",
        "Copied HourlyData/Archive/2013/2013111111.dat (420945 bytes, modtime 2013-11-20 17:00:06+00:00) to 2013/2013111111.dat because destination does not exist\n",
        "Retrieved 417542 bytes from HourlyData/Archive/2013/2013111112.dat, modtime 2013-11-20 17:00:06+00:00"
       ]
      },
      {
       "output_type": "stream",
       "stream": "stdout",
       "text": [
        "\n",
        "Copied HourlyData/Archive/2013/2013111112.dat (417542 bytes, modtime 2013-11-20 17:00:06+00:00) to 2013/2013111112.dat because destination does not exist\n",
        "Retrieved 426564 bytes from HourlyData/Archive/2013/2013111113.dat, modtime 2013-11-20 17:00:06+00:00"
       ]
      },
      {
       "output_type": "stream",
       "stream": "stdout",
       "text": [
        "\n",
        "Copied HourlyData/Archive/2013/2013111113.dat (426564 bytes, modtime 2013-11-20 17:00:06+00:00) to 2013/2013111113.dat because destination does not exist\n",
        "Retrieved 427328 bytes from HourlyData/Archive/2013/2013111114.dat, modtime 2013-11-20 17:00:06+00:00"
       ]
      },
      {
       "output_type": "stream",
       "stream": "stdout",
       "text": [
        "\n",
        "Copied HourlyData/Archive/2013/2013111114.dat (427328 bytes, modtime 2013-11-20 17:00:06+00:00) to 2013/2013111114.dat because destination does not exist\n",
        "Retrieved 428459 bytes from HourlyData/Archive/2013/2013111115.dat, modtime 2013-11-20 17:00:06+00:00"
       ]
      },
      {
       "output_type": "stream",
       "stream": "stdout",
       "text": [
        "\n",
        "Copied HourlyData/Archive/2013/2013111115.dat (428459 bytes, modtime 2013-11-20 17:00:06+00:00) to 2013/2013111115.dat because destination does not exist\n",
        "Retrieved 426698 bytes from HourlyData/Archive/2013/2013111116.dat, modtime 2013-11-20 17:00:06+00:00"
       ]
      },
      {
       "output_type": "stream",
       "stream": "stdout",
       "text": [
        "\n",
        "Copied HourlyData/Archive/2013/2013111116.dat (426698 bytes, modtime 2013-11-20 17:00:06+00:00) to 2013/2013111116.dat because destination does not exist\n",
        "Retrieved 427794 bytes from HourlyData/Archive/2013/2013111117.dat, modtime 2013-11-21 17:00:06+00:00"
       ]
      },
      {
       "output_type": "stream",
       "stream": "stdout",
       "text": [
        "\n",
        "Copied HourlyData/Archive/2013/2013111117.dat (427794 bytes, modtime 2013-11-21 17:00:06+00:00) to 2013/2013111117.dat because destination does not exist\n",
        "Retrieved 427351 bytes from HourlyData/Archive/2013/2013111118.dat, modtime 2013-11-21 17:00:06+00:00"
       ]
      },
      {
       "output_type": "stream",
       "stream": "stdout",
       "text": [
        "\n",
        "Copied HourlyData/Archive/2013/2013111118.dat (427351 bytes, modtime 2013-11-21 17:00:06+00:00) to 2013/2013111118.dat because destination does not exist\n",
        "Retrieved 427523 bytes from HourlyData/Archive/2013/2013111119.dat, modtime 2013-11-21 17:00:06+00:00"
       ]
      },
      {
       "output_type": "stream",
       "stream": "stdout",
       "text": [
        "\n",
        "Copied HourlyData/Archive/2013/2013111119.dat (427523 bytes, modtime 2013-11-21 17:00:06+00:00) to 2013/2013111119.dat because destination does not exist\n",
        "Retrieved 428117 bytes from HourlyData/Archive/2013/2013111120.dat, modtime 2013-11-21 17:00:06+00:00"
       ]
      },
      {
       "output_type": "stream",
       "stream": "stdout",
       "text": [
        "\n",
        "Copied HourlyData/Archive/2013/2013111120.dat (428117 bytes, modtime 2013-11-21 17:00:06+00:00) to 2013/2013111120.dat because destination does not exist\n",
        "Retrieved 426674 bytes from HourlyData/Archive/2013/2013111121.dat, modtime 2013-11-21 17:00:06+00:00"
       ]
      },
      {
       "output_type": "stream",
       "stream": "stdout",
       "text": [
        "\n",
        "Copied HourlyData/Archive/2013/2013111121.dat (426674 bytes, modtime 2013-11-21 17:00:06+00:00) to 2013/2013111121.dat because destination does not exist\n",
        "Retrieved 426211 bytes from HourlyData/Archive/2013/2013111122.dat, modtime 2013-11-21 17:00:06+00:00"
       ]
      },
      {
       "output_type": "stream",
       "stream": "stdout",
       "text": [
        "\n",
        "Copied HourlyData/Archive/2013/2013111122.dat (426211 bytes, modtime 2013-11-21 17:00:06+00:00) to 2013/2013111122.dat because destination does not exist\n",
        "Retrieved 427008 bytes from HourlyData/Archive/2013/2013111123.dat, modtime 2013-11-21 17:00:06+00:00"
       ]
      },
      {
       "output_type": "stream",
       "stream": "stdout",
       "text": [
        "\n",
        "Copied HourlyData/Archive/2013/2013111123.dat (427008 bytes, modtime 2013-11-21 17:00:06+00:00) to 2013/2013111123.dat because destination does not exist\n",
        "Retrieved 429271 bytes from HourlyData/Archive/2013/2013111200.dat, modtime 2013-11-21 17:00:06+00:00"
       ]
      },
      {
       "output_type": "stream",
       "stream": "stdout",
       "text": [
        "\n",
        "Copied HourlyData/Archive/2013/2013111200.dat (429271 bytes, modtime 2013-11-21 17:00:06+00:00) to 2013/2013111200.dat because destination does not exist\n",
        "Retrieved 428389 bytes from HourlyData/Archive/2013/2013111201.dat, modtime 2013-11-21 17:00:06+00:00"
       ]
      },
      {
       "output_type": "stream",
       "stream": "stdout",
       "text": [
        "\n",
        "Copied HourlyData/Archive/2013/2013111201.dat (428389 bytes, modtime 2013-11-21 17:00:06+00:00) to 2013/2013111201.dat because destination does not exist\n",
        "Retrieved 428483 bytes from HourlyData/Archive/2013/2013111202.dat, modtime 2013-11-21 17:00:06+00:00"
       ]
      },
      {
       "output_type": "stream",
       "stream": "stdout",
       "text": [
        "\n",
        "Copied HourlyData/Archive/2013/2013111202.dat (428483 bytes, modtime 2013-11-21 17:00:06+00:00) to 2013/2013111202.dat because destination does not exist\n",
        "Retrieved 424871 bytes from HourlyData/Archive/2013/2013111203.dat, modtime 2013-11-21 17:00:06+00:00"
       ]
      },
      {
       "output_type": "stream",
       "stream": "stdout",
       "text": [
        "\n",
        "Copied HourlyData/Archive/2013/2013111203.dat (424871 bytes, modtime 2013-11-21 17:00:06+00:00) to 2013/2013111203.dat because destination does not exist\n",
        "Retrieved 416168 bytes from HourlyData/Archive/2013/2013111204.dat, modtime 2013-11-21 17:00:06+00:00"
       ]
      },
      {
       "output_type": "stream",
       "stream": "stdout",
       "text": [
        "\n",
        "Copied HourlyData/Archive/2013/2013111204.dat (416168 bytes, modtime 2013-11-21 17:00:06+00:00) to 2013/2013111204.dat because destination does not exist\n",
        "Retrieved 426015 bytes from HourlyData/Archive/2013/2013111205.dat, modtime 2013-11-21 17:00:06+00:00"
       ]
      },
      {
       "output_type": "stream",
       "stream": "stdout",
       "text": [
        "\n",
        "Copied HourlyData/Archive/2013/2013111205.dat (426015 bytes, modtime 2013-11-21 17:00:06+00:00) to 2013/2013111205.dat because destination does not exist\n",
        "Retrieved 428092 bytes from HourlyData/Archive/2013/2013111206.dat, modtime 2013-11-21 17:00:06+00:00"
       ]
      },
      {
       "output_type": "stream",
       "stream": "stdout",
       "text": [
        "\n",
        "Copied HourlyData/Archive/2013/2013111206.dat (428092 bytes, modtime 2013-11-21 17:00:06+00:00) to 2013/2013111206.dat because destination does not exist\n",
        "Retrieved 429340 bytes from HourlyData/Archive/2013/2013111207.dat, modtime 2013-11-21 17:00:06+00:00"
       ]
      },
      {
       "output_type": "stream",
       "stream": "stdout",
       "text": [
        "\n",
        "Copied HourlyData/Archive/2013/2013111207.dat (429340 bytes, modtime 2013-11-21 17:00:06+00:00) to 2013/2013111207.dat because destination does not exist\n",
        "Retrieved 429097 bytes from HourlyData/Archive/2013/2013111208.dat, modtime 2013-11-21 17:00:06+00:00"
       ]
      },
      {
       "output_type": "stream",
       "stream": "stdout",
       "text": [
        "\n",
        "Copied HourlyData/Archive/2013/2013111208.dat (429097 bytes, modtime 2013-11-21 17:00:06+00:00) to 2013/2013111208.dat because destination does not exist\n",
        "Retrieved 430771 bytes from HourlyData/Archive/2013/2013111209.dat, modtime 2013-11-21 17:00:06+00:00"
       ]
      },
      {
       "output_type": "stream",
       "stream": "stdout",
       "text": [
        "\n",
        "Copied HourlyData/Archive/2013/2013111209.dat (430771 bytes, modtime 2013-11-21 17:00:06+00:00) to 2013/2013111209.dat because destination does not exist\n",
        "Retrieved 432517 bytes from HourlyData/Archive/2013/2013111210.dat, modtime 2013-11-21 17:00:06+00:00"
       ]
      },
      {
       "output_type": "stream",
       "stream": "stdout",
       "text": [
        "\n",
        "Copied HourlyData/Archive/2013/2013111210.dat (432517 bytes, modtime 2013-11-21 17:00:06+00:00) to 2013/2013111210.dat because destination does not exist\n",
        "Retrieved 427375 bytes from HourlyData/Archive/2013/2013111211.dat, modtime 2013-11-21 17:00:06+00:00"
       ]
      },
      {
       "output_type": "stream",
       "stream": "stdout",
       "text": [
        "\n",
        "Copied HourlyData/Archive/2013/2013111211.dat (427375 bytes, modtime 2013-11-21 17:00:06+00:00) to 2013/2013111211.dat because destination does not exist\n",
        "Retrieved 424109 bytes from HourlyData/Archive/2013/2013111212.dat, modtime 2013-11-21 17:00:06+00:00"
       ]
      },
      {
       "output_type": "stream",
       "stream": "stdout",
       "text": [
        "\n",
        "Copied HourlyData/Archive/2013/2013111212.dat (424109 bytes, modtime 2013-11-21 17:00:06+00:00) to 2013/2013111212.dat because destination does not exist\n",
        "Retrieved 431280 bytes from HourlyData/Archive/2013/2013111213.dat, modtime 2013-11-21 17:00:06+00:00"
       ]
      },
      {
       "output_type": "stream",
       "stream": "stdout",
       "text": [
        "\n",
        "Copied HourlyData/Archive/2013/2013111213.dat (431280 bytes, modtime 2013-11-21 17:00:06+00:00) to 2013/2013111213.dat because destination does not exist\n",
        "Retrieved 431668 bytes from HourlyData/Archive/2013/2013111214.dat, modtime 2013-11-21 17:00:06+00:00"
       ]
      },
      {
       "output_type": "stream",
       "stream": "stdout",
       "text": [
        "\n",
        "Copied HourlyData/Archive/2013/2013111214.dat (431668 bytes, modtime 2013-11-21 17:00:06+00:00) to 2013/2013111214.dat because destination does not exist\n",
        "Retrieved 424698 bytes from HourlyData/Archive/2013/2013111215.dat, modtime 2013-11-21 17:00:06+00:00"
       ]
      },
      {
       "output_type": "stream",
       "stream": "stdout",
       "text": [
        "\n",
        "Copied HourlyData/Archive/2013/2013111215.dat (424698 bytes, modtime 2013-11-21 17:00:06+00:00) to 2013/2013111215.dat because destination does not exist\n",
        "Retrieved 423691 bytes from HourlyData/Archive/2013/2013111216.dat, modtime 2013-11-21 17:00:06+00:00"
       ]
      },
      {
       "output_type": "stream",
       "stream": "stdout",
       "text": [
        "\n",
        "Copied HourlyData/Archive/2013/2013111216.dat (423691 bytes, modtime 2013-11-21 17:00:06+00:00) to 2013/2013111216.dat because destination does not exist\n",
        "Retrieved 419812 bytes from HourlyData/Archive/2013/2013111217.dat, modtime 2013-11-22 17:00:06+00:00"
       ]
      },
      {
       "output_type": "stream",
       "stream": "stdout",
       "text": [
        "\n",
        "Copied HourlyData/Archive/2013/2013111217.dat (419812 bytes, modtime 2013-11-22 17:00:06+00:00) to 2013/2013111217.dat because destination does not exist\n",
        "Retrieved 419863 bytes from HourlyData/Archive/2013/2013111218.dat, modtime 2013-11-22 17:00:06+00:00"
       ]
      },
      {
       "output_type": "stream",
       "stream": "stdout",
       "text": [
        "\n",
        "Copied HourlyData/Archive/2013/2013111218.dat (419863 bytes, modtime 2013-11-22 17:00:06+00:00) to 2013/2013111218.dat because destination does not exist\n",
        "Retrieved 421601 bytes from HourlyData/Archive/2013/2013111219.dat, modtime 2013-11-22 17:00:06+00:00"
       ]
      },
      {
       "output_type": "stream",
       "stream": "stdout",
       "text": [
        "\n",
        "Copied HourlyData/Archive/2013/2013111219.dat (421601 bytes, modtime 2013-11-22 17:00:06+00:00) to 2013/2013111219.dat because destination does not exist\n",
        "Retrieved 424589 bytes from HourlyData/Archive/2013/2013111220.dat, modtime 2013-11-22 17:00:06+00:00"
       ]
      },
      {
       "output_type": "stream",
       "stream": "stdout",
       "text": [
        "\n",
        "Copied HourlyData/Archive/2013/2013111220.dat (424589 bytes, modtime 2013-11-22 17:00:06+00:00) to 2013/2013111220.dat because destination does not exist\n",
        "Retrieved 424608 bytes from HourlyData/Archive/2013/2013111221.dat, modtime 2013-11-22 17:00:06+00:00"
       ]
      },
      {
       "output_type": "stream",
       "stream": "stdout",
       "text": [
        "\n",
        "Copied HourlyData/Archive/2013/2013111221.dat (424608 bytes, modtime 2013-11-22 17:00:06+00:00) to 2013/2013111221.dat because destination does not exist\n",
        "Retrieved 427520 bytes from HourlyData/Archive/2013/2013111222.dat, modtime 2013-11-22 17:00:06+00:00"
       ]
      },
      {
       "output_type": "stream",
       "stream": "stdout",
       "text": [
        "\n",
        "Copied HourlyData/Archive/2013/2013111222.dat (427520 bytes, modtime 2013-11-22 17:00:06+00:00) to 2013/2013111222.dat because destination does not exist\n",
        "Retrieved 428482 bytes from HourlyData/Archive/2013/2013111223.dat, modtime 2013-11-22 17:00:06+00:00"
       ]
      },
      {
       "output_type": "stream",
       "stream": "stdout",
       "text": [
        "\n",
        "Copied HourlyData/Archive/2013/2013111223.dat (428482 bytes, modtime 2013-11-22 17:00:06+00:00) to 2013/2013111223.dat because destination does not exist\n",
        "Retrieved 430450 bytes from HourlyData/Archive/2013/2013111300.dat, modtime 2013-11-22 17:00:06+00:00"
       ]
      },
      {
       "output_type": "stream",
       "stream": "stdout",
       "text": [
        "\n",
        "Copied HourlyData/Archive/2013/2013111300.dat (430450 bytes, modtime 2013-11-22 17:00:06+00:00) to 2013/2013111300.dat because destination does not exist\n",
        "Retrieved 430380 bytes from HourlyData/Archive/2013/2013111301.dat, modtime 2013-11-22 17:00:06+00:00"
       ]
      },
      {
       "output_type": "stream",
       "stream": "stdout",
       "text": [
        "\n",
        "Copied HourlyData/Archive/2013/2013111301.dat (430380 bytes, modtime 2013-11-22 17:00:06+00:00) to 2013/2013111301.dat because destination does not exist\n",
        "Retrieved 431669 bytes from HourlyData/Archive/2013/2013111302.dat, modtime 2013-11-22 17:00:06+00:00"
       ]
      },
      {
       "output_type": "stream",
       "stream": "stdout",
       "text": [
        "\n",
        "Copied HourlyData/Archive/2013/2013111302.dat (431669 bytes, modtime 2013-11-22 17:00:06+00:00) to 2013/2013111302.dat because destination does not exist\n",
        "Retrieved 427748 bytes from HourlyData/Archive/2013/2013111303.dat, modtime 2013-11-22 17:00:06+00:00"
       ]
      },
      {
       "output_type": "stream",
       "stream": "stdout",
       "text": [
        "\n",
        "Copied HourlyData/Archive/2013/2013111303.dat (427748 bytes, modtime 2013-11-22 17:00:06+00:00) to 2013/2013111303.dat because destination does not exist\n",
        "Retrieved 414055 bytes from HourlyData/Archive/2013/2013111304.dat, modtime 2013-11-22 17:00:06+00:00"
       ]
      },
      {
       "output_type": "stream",
       "stream": "stdout",
       "text": [
        "\n",
        "Copied HourlyData/Archive/2013/2013111304.dat (414055 bytes, modtime 2013-11-22 17:00:06+00:00) to 2013/2013111304.dat because destination does not exist\n",
        "Retrieved 425516 bytes from HourlyData/Archive/2013/2013111305.dat, modtime 2013-11-22 17:00:06+00:00"
       ]
      },
      {
       "output_type": "stream",
       "stream": "stdout",
       "text": [
        "\n",
        "Copied HourlyData/Archive/2013/2013111305.dat (425516 bytes, modtime 2013-11-22 17:00:06+00:00) to 2013/2013111305.dat because destination does not exist\n",
        "Retrieved 428501 bytes from HourlyData/Archive/2013/2013111306.dat, modtime 2013-11-22 17:00:06+00:00"
       ]
      },
      {
       "output_type": "stream",
       "stream": "stdout",
       "text": [
        "\n",
        "Copied HourlyData/Archive/2013/2013111306.dat (428501 bytes, modtime 2013-11-22 17:00:06+00:00) to 2013/2013111306.dat because destination does not exist\n",
        "Retrieved 427484 bytes from HourlyData/Archive/2013/2013111307.dat, modtime 2013-11-22 17:00:06+00:00"
       ]
      },
      {
       "output_type": "stream",
       "stream": "stdout",
       "text": [
        "\n",
        "Copied HourlyData/Archive/2013/2013111307.dat (427484 bytes, modtime 2013-11-22 17:00:06+00:00) to 2013/2013111307.dat because destination does not exist\n",
        "Retrieved 429510 bytes from HourlyData/Archive/2013/2013111308.dat, modtime 2013-11-22 17:00:06+00:00"
       ]
      },
      {
       "output_type": "stream",
       "stream": "stdout",
       "text": [
        "\n",
        "Copied HourlyData/Archive/2013/2013111308.dat (429510 bytes, modtime 2013-11-22 17:00:06+00:00) to 2013/2013111308.dat because destination does not exist\n",
        "Retrieved 427946 bytes from HourlyData/Archive/2013/2013111309.dat, modtime 2013-11-22 17:00:06+00:00"
       ]
      },
      {
       "output_type": "stream",
       "stream": "stdout",
       "text": [
        "\n",
        "Copied HourlyData/Archive/2013/2013111309.dat (427946 bytes, modtime 2013-11-22 17:00:06+00:00) to 2013/2013111309.dat because destination does not exist\n",
        "Retrieved 430526 bytes from HourlyData/Archive/2013/2013111310.dat, modtime 2013-11-22 17:00:06+00:00"
       ]
      },
      {
       "output_type": "stream",
       "stream": "stdout",
       "text": [
        "\n",
        "Copied HourlyData/Archive/2013/2013111310.dat (430526 bytes, modtime 2013-11-22 17:00:06+00:00) to 2013/2013111310.dat because destination does not exist\n",
        "Retrieved 427185 bytes from HourlyData/Archive/2013/2013111311.dat, modtime 2013-11-22 17:00:06+00:00"
       ]
      },
      {
       "output_type": "stream",
       "stream": "stdout",
       "text": [
        "\n",
        "Copied HourlyData/Archive/2013/2013111311.dat (427185 bytes, modtime 2013-11-22 17:00:06+00:00) to 2013/2013111311.dat because destination does not exist\n",
        "Retrieved 421771 bytes from HourlyData/Archive/2013/2013111312.dat, modtime 2013-11-22 17:00:06+00:00"
       ]
      },
      {
       "output_type": "stream",
       "stream": "stdout",
       "text": [
        "\n",
        "Copied HourlyData/Archive/2013/2013111312.dat (421771 bytes, modtime 2013-11-22 17:00:06+00:00) to 2013/2013111312.dat because destination does not exist\n",
        "Retrieved 430797 bytes from HourlyData/Archive/2013/2013111313.dat, modtime 2013-11-22 17:00:06+00:00"
       ]
      },
      {
       "output_type": "stream",
       "stream": "stdout",
       "text": [
        "\n",
        "Copied HourlyData/Archive/2013/2013111313.dat (430797 bytes, modtime 2013-11-22 17:00:06+00:00) to 2013/2013111313.dat because destination does not exist\n",
        "Retrieved 428747 bytes from HourlyData/Archive/2013/2013111314.dat, modtime 2013-11-22 17:00:06+00:00"
       ]
      },
      {
       "output_type": "stream",
       "stream": "stdout",
       "text": [
        "\n",
        "Copied HourlyData/Archive/2013/2013111314.dat (428747 bytes, modtime 2013-11-22 17:00:06+00:00) to 2013/2013111314.dat because destination does not exist\n",
        "Retrieved 424892 bytes from HourlyData/Archive/2013/2013111315.dat, modtime 2013-11-22 17:00:06+00:00"
       ]
      },
      {
       "output_type": "stream",
       "stream": "stdout",
       "text": [
        "\n",
        "Copied HourlyData/Archive/2013/2013111315.dat (424892 bytes, modtime 2013-11-22 17:00:06+00:00) to 2013/2013111315.dat because destination does not exist\n",
        "Retrieved 424153 bytes from HourlyData/Archive/2013/2013111316.dat, modtime 2013-11-22 17:00:06+00:00"
       ]
      },
      {
       "output_type": "stream",
       "stream": "stdout",
       "text": [
        "\n",
        "Copied HourlyData/Archive/2013/2013111316.dat (424153 bytes, modtime 2013-11-22 17:00:06+00:00) to 2013/2013111316.dat because destination does not exist\n",
        "Retrieved 422425 bytes from HourlyData/Archive/2013/2013111317.dat, modtime 2013-11-25 17:00:06+00:00"
       ]
      },
      {
       "output_type": "stream",
       "stream": "stdout",
       "text": [
        "\n",
        "Copied HourlyData/Archive/2013/2013111317.dat (422425 bytes, modtime 2013-11-25 17:00:06+00:00) to 2013/2013111317.dat because destination does not exist\n",
        "Retrieved 421045 bytes from HourlyData/Archive/2013/2013111318.dat, modtime 2013-11-25 17:00:06+00:00"
       ]
      },
      {
       "output_type": "stream",
       "stream": "stdout",
       "text": [
        "\n",
        "Copied HourlyData/Archive/2013/2013111318.dat (421045 bytes, modtime 2013-11-25 17:00:06+00:00) to 2013/2013111318.dat because destination does not exist\n",
        "Retrieved 424043 bytes from HourlyData/Archive/2013/2013111319.dat, modtime 2013-11-25 17:00:06+00:00"
       ]
      },
      {
       "output_type": "stream",
       "stream": "stdout",
       "text": [
        "\n",
        "Copied HourlyData/Archive/2013/2013111319.dat (424043 bytes, modtime 2013-11-25 17:00:06+00:00) to 2013/2013111319.dat because destination does not exist\n",
        "Retrieved 425995 bytes from HourlyData/Archive/2013/2013111320.dat, modtime 2013-11-25 17:00:06+00:00"
       ]
      },
      {
       "output_type": "stream",
       "stream": "stdout",
       "text": [
        "\n",
        "Copied HourlyData/Archive/2013/2013111320.dat (425995 bytes, modtime 2013-11-25 17:00:06+00:00) to 2013/2013111320.dat because destination does not exist\n",
        "Retrieved 428625 bytes from HourlyData/Archive/2013/2013111321.dat, modtime 2013-11-25 17:00:06+00:00"
       ]
      },
      {
       "output_type": "stream",
       "stream": "stdout",
       "text": [
        "\n",
        "Copied HourlyData/Archive/2013/2013111321.dat (428625 bytes, modtime 2013-11-25 17:00:06+00:00) to 2013/2013111321.dat because destination does not exist\n",
        "Retrieved 428485 bytes from HourlyData/Archive/2013/2013111322.dat, modtime 2013-11-25 17:00:06+00:00"
       ]
      },
      {
       "output_type": "stream",
       "stream": "stdout",
       "text": [
        "\n",
        "Copied HourlyData/Archive/2013/2013111322.dat (428485 bytes, modtime 2013-11-25 17:00:06+00:00) to 2013/2013111322.dat because destination does not exist\n",
        "Retrieved 425473 bytes from HourlyData/Archive/2013/2013111323.dat, modtime 2013-11-25 17:00:06+00:00"
       ]
      },
      {
       "output_type": "stream",
       "stream": "stdout",
       "text": [
        "\n",
        "Copied HourlyData/Archive/2013/2013111323.dat (425473 bytes, modtime 2013-11-25 17:00:06+00:00) to 2013/2013111323.dat because destination does not exist\n",
        "Retrieved 431706 bytes from HourlyData/Archive/2013/2013111400.dat, modtime 2013-11-25 17:00:06+00:00"
       ]
      },
      {
       "output_type": "stream",
       "stream": "stdout",
       "text": [
        "\n",
        "Copied HourlyData/Archive/2013/2013111400.dat (431706 bytes, modtime 2013-11-25 17:00:06+00:00) to 2013/2013111400.dat because destination does not exist\n",
        "Retrieved 430813 bytes from HourlyData/Archive/2013/2013111401.dat, modtime 2013-11-25 17:00:06+00:00"
       ]
      },
      {
       "output_type": "stream",
       "stream": "stdout",
       "text": [
        "\n",
        "Copied HourlyData/Archive/2013/2013111401.dat (430813 bytes, modtime 2013-11-25 17:00:06+00:00) to 2013/2013111401.dat because destination does not exist\n",
        "Retrieved 430852 bytes from HourlyData/Archive/2013/2013111402.dat, modtime 2013-11-25 17:00:06+00:00"
       ]
      },
      {
       "output_type": "stream",
       "stream": "stdout",
       "text": [
        "\n",
        "Copied HourlyData/Archive/2013/2013111402.dat (430852 bytes, modtime 2013-11-25 17:00:06+00:00) to 2013/2013111402.dat because destination does not exist\n",
        "Retrieved 427903 bytes from HourlyData/Archive/2013/2013111403.dat, modtime 2013-11-25 17:00:06+00:00"
       ]
      },
      {
       "output_type": "stream",
       "stream": "stdout",
       "text": [
        "\n",
        "Copied HourlyData/Archive/2013/2013111403.dat (427903 bytes, modtime 2013-11-25 17:00:06+00:00) to 2013/2013111403.dat because destination does not exist\n",
        "Retrieved 409472 bytes from HourlyData/Archive/2013/2013111404.dat, modtime 2013-11-25 17:00:06+00:00"
       ]
      },
      {
       "output_type": "stream",
       "stream": "stdout",
       "text": [
        "\n",
        "Copied HourlyData/Archive/2013/2013111404.dat (409472 bytes, modtime 2013-11-25 17:00:06+00:00) to 2013/2013111404.dat because destination does not exist\n",
        "Retrieved 428632 bytes from HourlyData/Archive/2013/2013111405.dat, modtime 2013-11-25 17:00:06+00:00"
       ]
      },
      {
       "output_type": "stream",
       "stream": "stdout",
       "text": [
        "\n",
        "Copied HourlyData/Archive/2013/2013111405.dat (428632 bytes, modtime 2013-11-25 17:00:06+00:00) to 2013/2013111405.dat because destination does not exist\n",
        "Retrieved 427602 bytes from HourlyData/Archive/2013/2013111406.dat, modtime 2013-11-25 17:00:06+00:00"
       ]
      },
      {
       "output_type": "stream",
       "stream": "stdout",
       "text": [
        "\n",
        "Copied HourlyData/Archive/2013/2013111406.dat (427602 bytes, modtime 2013-11-25 17:00:06+00:00) to 2013/2013111406.dat because destination does not exist\n",
        "Retrieved 424995 bytes from HourlyData/Archive/2013/2013111407.dat, modtime 2013-11-25 17:00:06+00:00"
       ]
      },
      {
       "output_type": "stream",
       "stream": "stdout",
       "text": [
        "\n",
        "Copied HourlyData/Archive/2013/2013111407.dat (424995 bytes, modtime 2013-11-25 17:00:06+00:00) to 2013/2013111407.dat because destination does not exist\n",
        "Retrieved 427751 bytes from HourlyData/Archive/2013/2013111408.dat, modtime 2013-11-25 17:00:06+00:00"
       ]
      },
      {
       "output_type": "stream",
       "stream": "stdout",
       "text": [
        "\n",
        "Copied HourlyData/Archive/2013/2013111408.dat (427751 bytes, modtime 2013-11-25 17:00:06+00:00) to 2013/2013111408.dat because destination does not exist\n",
        "Retrieved 425137 bytes from HourlyData/Archive/2013/2013111409.dat, modtime 2013-11-25 17:00:06+00:00"
       ]
      },
      {
       "output_type": "stream",
       "stream": "stdout",
       "text": [
        "\n",
        "Copied HourlyData/Archive/2013/2013111409.dat (425137 bytes, modtime 2013-11-25 17:00:06+00:00) to 2013/2013111409.dat because destination does not exist\n",
        "Retrieved 425464 bytes from HourlyData/Archive/2013/2013111410.dat, modtime 2013-11-25 17:00:06+00:00"
       ]
      },
      {
       "output_type": "stream",
       "stream": "stdout",
       "text": [
        "\n",
        "Copied HourlyData/Archive/2013/2013111410.dat (425464 bytes, modtime 2013-11-25 17:00:06+00:00) to 2013/2013111410.dat because destination does not exist\n",
        "Retrieved 425849 bytes from HourlyData/Archive/2013/2013111411.dat, modtime 2013-11-25 17:00:06+00:00"
       ]
      },
      {
       "output_type": "stream",
       "stream": "stdout",
       "text": [
        "\n",
        "Copied HourlyData/Archive/2013/2013111411.dat (425849 bytes, modtime 2013-11-25 17:00:06+00:00) to 2013/2013111411.dat because destination does not exist\n",
        "Retrieved 422432 bytes from HourlyData/Archive/2013/2013111412.dat, modtime 2013-11-25 17:00:06+00:00"
       ]
      },
      {
       "output_type": "stream",
       "stream": "stdout",
       "text": [
        "\n",
        "Copied HourlyData/Archive/2013/2013111412.dat (422432 bytes, modtime 2013-11-25 17:00:06+00:00) to 2013/2013111412.dat because destination does not exist\n",
        "Retrieved 430863 bytes from HourlyData/Archive/2013/2013111413.dat, modtime 2013-11-25 17:00:06+00:00"
       ]
      },
      {
       "output_type": "stream",
       "stream": "stdout",
       "text": [
        "\n",
        "Copied HourlyData/Archive/2013/2013111413.dat (430863 bytes, modtime 2013-11-25 17:00:06+00:00) to 2013/2013111413.dat because destination does not exist\n",
        "Retrieved 429173 bytes from HourlyData/Archive/2013/2013111414.dat, modtime 2013-11-25 17:00:06+00:00"
       ]
      },
      {
       "output_type": "stream",
       "stream": "stdout",
       "text": [
        "\n",
        "Copied HourlyData/Archive/2013/2013111414.dat (429173 bytes, modtime 2013-11-25 17:00:06+00:00) to 2013/2013111414.dat because destination does not exist\n",
        "Retrieved 425963 bytes from HourlyData/Archive/2013/2013111415.dat, modtime 2013-11-25 17:00:06+00:00"
       ]
      },
      {
       "output_type": "stream",
       "stream": "stdout",
       "text": [
        "\n",
        "Copied HourlyData/Archive/2013/2013111415.dat (425963 bytes, modtime 2013-11-25 17:00:06+00:00) to 2013/2013111415.dat because destination does not exist\n",
        "Retrieved 424220 bytes from HourlyData/Archive/2013/2013111416.dat, modtime 2013-11-25 17:00:06+00:00"
       ]
      },
      {
       "output_type": "stream",
       "stream": "stdout",
       "text": [
        "\n",
        "Copied HourlyData/Archive/2013/2013111416.dat (424220 bytes, modtime 2013-11-25 17:00:06+00:00) to 2013/2013111416.dat because destination does not exist\n",
        "Retrieved 420667 bytes from HourlyData/Archive/2013/2013111417.dat, modtime 2013-11-25 17:00:06+00:00"
       ]
      },
      {
       "output_type": "stream",
       "stream": "stdout",
       "text": [
        "\n",
        "Copied HourlyData/Archive/2013/2013111417.dat (420667 bytes, modtime 2013-11-25 17:00:06+00:00) to 2013/2013111417.dat because destination does not exist\n",
        "Retrieved 424242 bytes from HourlyData/Archive/2013/2013111418.dat, modtime 2013-11-25 17:00:06+00:00"
       ]
      },
      {
       "output_type": "stream",
       "stream": "stdout",
       "text": [
        "\n",
        "Copied HourlyData/Archive/2013/2013111418.dat (424242 bytes, modtime 2013-11-25 17:00:06+00:00) to 2013/2013111418.dat because destination does not exist\n",
        "Retrieved 422721 bytes from HourlyData/Archive/2013/2013111419.dat, modtime 2013-11-25 17:00:06+00:00"
       ]
      },
      {
       "output_type": "stream",
       "stream": "stdout",
       "text": [
        "\n",
        "Copied HourlyData/Archive/2013/2013111419.dat (422721 bytes, modtime 2013-11-25 17:00:06+00:00) to 2013/2013111419.dat because destination does not exist\n",
        "Retrieved 424230 bytes from HourlyData/Archive/2013/2013111420.dat, modtime 2013-11-25 17:00:06+00:00"
       ]
      },
      {
       "output_type": "stream",
       "stream": "stdout",
       "text": [
        "\n",
        "Copied HourlyData/Archive/2013/2013111420.dat (424230 bytes, modtime 2013-11-25 17:00:06+00:00) to 2013/2013111420.dat because destination does not exist\n",
        "Retrieved 425219 bytes from HourlyData/Archive/2013/2013111421.dat, modtime 2013-11-25 17:00:06+00:00"
       ]
      },
      {
       "output_type": "stream",
       "stream": "stdout",
       "text": [
        "\n",
        "Copied HourlyData/Archive/2013/2013111421.dat (425219 bytes, modtime 2013-11-25 17:00:06+00:00) to 2013/2013111421.dat because destination does not exist\n",
        "Retrieved 425495 bytes from HourlyData/Archive/2013/2013111422.dat, modtime 2013-11-25 17:00:06+00:00"
       ]
      },
      {
       "output_type": "stream",
       "stream": "stdout",
       "text": [
        "\n",
        "Copied HourlyData/Archive/2013/2013111422.dat (425495 bytes, modtime 2013-11-25 17:00:06+00:00) to 2013/2013111422.dat because destination does not exist\n",
        "Retrieved 422231 bytes from HourlyData/Archive/2013/2013111423.dat, modtime 2013-11-25 17:00:06+00:00"
       ]
      },
      {
       "output_type": "stream",
       "stream": "stdout",
       "text": [
        "\n",
        "Copied HourlyData/Archive/2013/2013111423.dat (422231 bytes, modtime 2013-11-25 17:00:06+00:00) to 2013/2013111423.dat because destination does not exist\n",
        "Retrieved 428272 bytes from HourlyData/Archive/2013/2013111500.dat, modtime 2013-11-25 17:00:06+00:00"
       ]
      },
      {
       "output_type": "stream",
       "stream": "stdout",
       "text": [
        "\n",
        "Copied HourlyData/Archive/2013/2013111500.dat (428272 bytes, modtime 2013-11-25 17:00:06+00:00) to 2013/2013111500.dat because destination does not exist\n",
        "Retrieved 428192 bytes from HourlyData/Archive/2013/2013111501.dat, modtime 2013-11-25 17:00:06+00:00"
       ]
      },
      {
       "output_type": "stream",
       "stream": "stdout",
       "text": [
        "\n",
        "Copied HourlyData/Archive/2013/2013111501.dat (428192 bytes, modtime 2013-11-25 17:00:06+00:00) to 2013/2013111501.dat because destination does not exist\n",
        "Retrieved 428088 bytes from HourlyData/Archive/2013/2013111502.dat, modtime 2013-11-25 17:00:06+00:00"
       ]
      },
      {
       "output_type": "stream",
       "stream": "stdout",
       "text": [
        "\n",
        "Copied HourlyData/Archive/2013/2013111502.dat (428088 bytes, modtime 2013-11-25 17:00:06+00:00) to 2013/2013111502.dat because destination does not exist\n",
        "Retrieved 423885 bytes from HourlyData/Archive/2013/2013111503.dat, modtime 2013-11-25 17:00:06+00:00"
       ]
      },
      {
       "output_type": "stream",
       "stream": "stdout",
       "text": [
        "\n",
        "Copied HourlyData/Archive/2013/2013111503.dat (423885 bytes, modtime 2013-11-25 17:00:06+00:00) to 2013/2013111503.dat because destination does not exist\n",
        "Retrieved 411192 bytes from HourlyData/Archive/2013/2013111504.dat, modtime 2013-11-25 17:00:06+00:00"
       ]
      },
      {
       "output_type": "stream",
       "stream": "stdout",
       "text": [
        "\n",
        "Copied HourlyData/Archive/2013/2013111504.dat (411192 bytes, modtime 2013-11-25 17:00:06+00:00) to 2013/2013111504.dat because destination does not exist\n",
        "Retrieved 424980 bytes from HourlyData/Archive/2013/2013111505.dat, modtime 2013-11-25 17:00:06+00:00"
       ]
      },
      {
       "output_type": "stream",
       "stream": "stdout",
       "text": [
        "\n",
        "Copied HourlyData/Archive/2013/2013111505.dat (424980 bytes, modtime 2013-11-25 17:00:06+00:00) to 2013/2013111505.dat because destination does not exist\n",
        "Retrieved 422986 bytes from HourlyData/Archive/2013/2013111506.dat, modtime 2013-11-25 17:00:06+00:00"
       ]
      },
      {
       "output_type": "stream",
       "stream": "stdout",
       "text": [
        "\n",
        "Copied HourlyData/Archive/2013/2013111506.dat (422986 bytes, modtime 2013-11-25 17:00:06+00:00) to 2013/2013111506.dat because destination does not exist\n",
        "Retrieved 422311 bytes from HourlyData/Archive/2013/2013111507.dat, modtime 2013-11-25 17:00:06+00:00"
       ]
      },
      {
       "output_type": "stream",
       "stream": "stdout",
       "text": [
        "\n",
        "Copied HourlyData/Archive/2013/2013111507.dat (422311 bytes, modtime 2013-11-25 17:00:06+00:00) to 2013/2013111507.dat because destination does not exist\n",
        "Retrieved 426407 bytes from HourlyData/Archive/2013/2013111508.dat, modtime 2013-11-25 17:00:06+00:00"
       ]
      },
      {
       "output_type": "stream",
       "stream": "stdout",
       "text": [
        "\n",
        "Copied HourlyData/Archive/2013/2013111508.dat (426407 bytes, modtime 2013-11-25 17:00:06+00:00) to 2013/2013111508.dat because destination does not exist\n",
        "Retrieved 423806 bytes from HourlyData/Archive/2013/2013111509.dat, modtime 2013-11-25 17:00:06+00:00"
       ]
      },
      {
       "output_type": "stream",
       "stream": "stdout",
       "text": [
        "\n",
        "Copied HourlyData/Archive/2013/2013111509.dat (423806 bytes, modtime 2013-11-25 17:00:06+00:00) to 2013/2013111509.dat because destination does not exist\n",
        "Retrieved 426540 bytes from HourlyData/Archive/2013/2013111510.dat, modtime 2013-11-25 17:00:06+00:00"
       ]
      },
      {
       "output_type": "stream",
       "stream": "stdout",
       "text": [
        "\n",
        "Copied HourlyData/Archive/2013/2013111510.dat (426540 bytes, modtime 2013-11-25 17:00:06+00:00) to 2013/2013111510.dat because destination does not exist\n",
        "Retrieved 422553 bytes from HourlyData/Archive/2013/2013111511.dat, modtime 2013-11-25 17:00:06+00:00"
       ]
      },
      {
       "output_type": "stream",
       "stream": "stdout",
       "text": [
        "\n",
        "Copied HourlyData/Archive/2013/2013111511.dat (422553 bytes, modtime 2013-11-25 17:00:06+00:00) to 2013/2013111511.dat because destination does not exist\n",
        "Retrieved 419053 bytes from HourlyData/Archive/2013/2013111512.dat, modtime 2013-11-25 17:00:06+00:00"
       ]
      },
      {
       "output_type": "stream",
       "stream": "stdout",
       "text": [
        "\n",
        "Copied HourlyData/Archive/2013/2013111512.dat (419053 bytes, modtime 2013-11-25 17:00:06+00:00) to 2013/2013111512.dat because destination does not exist\n",
        "Retrieved 428574 bytes from HourlyData/Archive/2013/2013111513.dat, modtime 2013-11-25 17:00:06+00:00"
       ]
      },
      {
       "output_type": "stream",
       "stream": "stdout",
       "text": [
        "\n",
        "Copied HourlyData/Archive/2013/2013111513.dat (428574 bytes, modtime 2013-11-25 17:00:06+00:00) to 2013/2013111513.dat because destination does not exist\n",
        "Retrieved 428275 bytes from HourlyData/Archive/2013/2013111514.dat, modtime 2013-11-25 17:00:06+00:00"
       ]
      },
      {
       "output_type": "stream",
       "stream": "stdout",
       "text": [
        "\n",
        "Copied HourlyData/Archive/2013/2013111514.dat (428275 bytes, modtime 2013-11-25 17:00:06+00:00) to 2013/2013111514.dat because destination does not exist\n",
        "Retrieved 426793 bytes from HourlyData/Archive/2013/2013111515.dat, modtime 2013-11-25 17:00:06+00:00"
       ]
      },
      {
       "output_type": "stream",
       "stream": "stdout",
       "text": [
        "\n",
        "Copied HourlyData/Archive/2013/2013111515.dat (426793 bytes, modtime 2013-11-25 17:00:06+00:00) to 2013/2013111515.dat because destination does not exist\n",
        "Retrieved 425990 bytes from HourlyData/Archive/2013/2013111516.dat, modtime 2013-11-25 17:00:06+00:00"
       ]
      },
      {
       "output_type": "stream",
       "stream": "stdout",
       "text": [
        "\n",
        "Copied HourlyData/Archive/2013/2013111516.dat (425990 bytes, modtime 2013-11-25 17:00:06+00:00) to 2013/2013111516.dat because destination does not exist\n",
        "Retrieved 422506 bytes from HourlyData/Archive/2013/2013111517.dat, modtime 2013-11-25 17:00:06+00:00"
       ]
      },
      {
       "output_type": "stream",
       "stream": "stdout",
       "text": [
        "\n",
        "Copied HourlyData/Archive/2013/2013111517.dat (422506 bytes, modtime 2013-11-25 17:00:06+00:00) to 2013/2013111517.dat because destination does not exist\n",
        "Retrieved 418484 bytes from HourlyData/Archive/2013/2013111518.dat, modtime 2013-11-25 17:00:06+00:00"
       ]
      },
      {
       "output_type": "stream",
       "stream": "stdout",
       "text": [
        "\n",
        "Copied HourlyData/Archive/2013/2013111518.dat (418484 bytes, modtime 2013-11-25 17:00:06+00:00) to 2013/2013111518.dat because destination does not exist\n",
        "Retrieved 423598 bytes from HourlyData/Archive/2013/2013111519.dat, modtime 2013-11-25 17:00:06+00:00"
       ]
      },
      {
       "output_type": "stream",
       "stream": "stdout",
       "text": [
        "\n",
        "Copied HourlyData/Archive/2013/2013111519.dat (423598 bytes, modtime 2013-11-25 17:00:06+00:00) to 2013/2013111519.dat because destination does not exist\n",
        "Retrieved 424088 bytes from HourlyData/Archive/2013/2013111520.dat, modtime 2013-11-25 17:00:06+00:00"
       ]
      },
      {
       "output_type": "stream",
       "stream": "stdout",
       "text": [
        "\n",
        "Copied HourlyData/Archive/2013/2013111520.dat (424088 bytes, modtime 2013-11-25 17:00:06+00:00) to 2013/2013111520.dat because destination does not exist\n",
        "Retrieved 424540 bytes from HourlyData/Archive/2013/2013111521.dat, modtime 2013-11-25 17:00:06+00:00"
       ]
      },
      {
       "output_type": "stream",
       "stream": "stdout",
       "text": [
        "\n",
        "Copied HourlyData/Archive/2013/2013111521.dat (424540 bytes, modtime 2013-11-25 17:00:06+00:00) to 2013/2013111521.dat because destination does not exist\n",
        "Retrieved 425995 bytes from HourlyData/Archive/2013/2013111522.dat, modtime 2013-11-25 17:00:06+00:00"
       ]
      },
      {
       "output_type": "stream",
       "stream": "stdout",
       "text": [
        "\n",
        "Copied HourlyData/Archive/2013/2013111522.dat (425995 bytes, modtime 2013-11-25 17:00:06+00:00) to 2013/2013111522.dat because destination does not exist\n",
        "Retrieved 427089 bytes from HourlyData/Archive/2013/2013111523.dat, modtime 2013-11-25 17:00:06+00:00"
       ]
      },
      {
       "output_type": "stream",
       "stream": "stdout",
       "text": [
        "\n",
        "Copied HourlyData/Archive/2013/2013111523.dat (427089 bytes, modtime 2013-11-25 17:00:06+00:00) to 2013/2013111523.dat because destination does not exist\n",
        "Retrieved 427772 bytes from HourlyData/Archive/2013/2013111600.dat, modtime 2013-11-25 17:00:06+00:00"
       ]
      },
      {
       "output_type": "stream",
       "stream": "stdout",
       "text": [
        "\n",
        "Copied HourlyData/Archive/2013/2013111600.dat (427772 bytes, modtime 2013-11-25 17:00:06+00:00) to 2013/2013111600.dat because destination does not exist\n",
        "Retrieved 427590 bytes from HourlyData/Archive/2013/2013111601.dat, modtime 2013-11-25 17:00:06+00:00"
       ]
      },
      {
       "output_type": "stream",
       "stream": "stdout",
       "text": [
        "\n",
        "Copied HourlyData/Archive/2013/2013111601.dat (427590 bytes, modtime 2013-11-25 17:00:06+00:00) to 2013/2013111601.dat because destination does not exist\n",
        "Retrieved 425816 bytes from HourlyData/Archive/2013/2013111602.dat, modtime 2013-11-25 17:00:06+00:00"
       ]
      },
      {
       "output_type": "stream",
       "stream": "stdout",
       "text": [
        "\n",
        "Copied HourlyData/Archive/2013/2013111602.dat (425816 bytes, modtime 2013-11-25 17:00:06+00:00) to 2013/2013111602.dat because destination does not exist\n",
        "Retrieved 421778 bytes from HourlyData/Archive/2013/2013111603.dat, modtime 2013-11-25 17:00:06+00:00"
       ]
      },
      {
       "output_type": "stream",
       "stream": "stdout",
       "text": [
        "\n",
        "Copied HourlyData/Archive/2013/2013111603.dat (421778 bytes, modtime 2013-11-25 17:00:06+00:00) to 2013/2013111603.dat because destination does not exist\n",
        "Retrieved 411644 bytes from HourlyData/Archive/2013/2013111604.dat, modtime 2013-11-25 17:00:06+00:00"
       ]
      },
      {
       "output_type": "stream",
       "stream": "stdout",
       "text": [
        "\n",
        "Copied HourlyData/Archive/2013/2013111604.dat (411644 bytes, modtime 2013-11-25 17:00:06+00:00) to 2013/2013111604.dat because destination does not exist\n",
        "Retrieved 422216 bytes from HourlyData/Archive/2013/2013111605.dat, modtime 2013-11-25 17:00:06+00:00"
       ]
      },
      {
       "output_type": "stream",
       "stream": "stdout",
       "text": [
        "\n",
        "Copied HourlyData/Archive/2013/2013111605.dat (422216 bytes, modtime 2013-11-25 17:00:06+00:00) to 2013/2013111605.dat because destination does not exist\n",
        "Retrieved 421421 bytes from HourlyData/Archive/2013/2013111606.dat, modtime 2013-11-25 17:00:06+00:00"
       ]
      },
      {
       "output_type": "stream",
       "stream": "stdout",
       "text": [
        "\n",
        "Copied HourlyData/Archive/2013/2013111606.dat (421421 bytes, modtime 2013-11-25 17:00:06+00:00) to 2013/2013111606.dat because destination does not exist\n",
        "Retrieved 419025 bytes from HourlyData/Archive/2013/2013111607.dat, modtime 2013-11-25 17:00:06+00:00"
       ]
      },
      {
       "output_type": "stream",
       "stream": "stdout",
       "text": [
        "\n",
        "Copied HourlyData/Archive/2013/2013111607.dat (419025 bytes, modtime 2013-11-25 17:00:06+00:00) to 2013/2013111607.dat because destination does not exist\n",
        "Retrieved 422769 bytes from HourlyData/Archive/2013/2013111608.dat, modtime 2013-11-25 17:00:06+00:00"
       ]
      },
      {
       "output_type": "stream",
       "stream": "stdout",
       "text": [
        "\n",
        "Copied HourlyData/Archive/2013/2013111608.dat (422769 bytes, modtime 2013-11-25 17:00:06+00:00) to 2013/2013111608.dat because destination does not exist\n",
        "Retrieved 420865 bytes from HourlyData/Archive/2013/2013111609.dat, modtime 2013-11-25 17:00:06+00:00"
       ]
      },
      {
       "output_type": "stream",
       "stream": "stdout",
       "text": [
        "\n",
        "Copied HourlyData/Archive/2013/2013111609.dat (420865 bytes, modtime 2013-11-25 17:00:06+00:00) to 2013/2013111609.dat because destination does not exist\n",
        "Retrieved 422251 bytes from HourlyData/Archive/2013/2013111610.dat, modtime 2013-11-25 17:00:06+00:00"
       ]
      },
      {
       "output_type": "stream",
       "stream": "stdout",
       "text": [
        "\n",
        "Copied HourlyData/Archive/2013/2013111610.dat (422251 bytes, modtime 2013-11-25 17:00:06+00:00) to 2013/2013111610.dat because destination does not exist\n",
        "Retrieved 417998 bytes from HourlyData/Archive/2013/2013111611.dat, modtime 2013-11-25 17:00:06+00:00"
       ]
      },
      {
       "output_type": "stream",
       "stream": "stdout",
       "text": [
        "\n",
        "Copied HourlyData/Archive/2013/2013111611.dat (417998 bytes, modtime 2013-11-25 17:00:06+00:00) to 2013/2013111611.dat because destination does not exist\n",
        "Retrieved 414058 bytes from HourlyData/Archive/2013/2013111612.dat, modtime 2013-11-25 17:00:06+00:00"
       ]
      },
      {
       "output_type": "stream",
       "stream": "stdout",
       "text": [
        "\n",
        "Copied HourlyData/Archive/2013/2013111612.dat (414058 bytes, modtime 2013-11-25 17:00:06+00:00) to 2013/2013111612.dat because destination does not exist\n",
        "Retrieved 424326 bytes from HourlyData/Archive/2013/2013111613.dat, modtime 2013-11-25 17:00:06+00:00"
       ]
      },
      {
       "output_type": "stream",
       "stream": "stdout",
       "text": [
        "\n",
        "Copied HourlyData/Archive/2013/2013111613.dat (424326 bytes, modtime 2013-11-25 17:00:06+00:00) to 2013/2013111613.dat because destination does not exist\n",
        "Retrieved 425785 bytes from HourlyData/Archive/2013/2013111614.dat, modtime 2013-11-25 17:00:06+00:00"
       ]
      },
      {
       "output_type": "stream",
       "stream": "stdout",
       "text": [
        "\n",
        "Copied HourlyData/Archive/2013/2013111614.dat (425785 bytes, modtime 2013-11-25 17:00:06+00:00) to 2013/2013111614.dat because destination does not exist\n",
        "Retrieved 426487 bytes from HourlyData/Archive/2013/2013111615.dat, modtime 2013-11-25 17:00:06+00:00"
       ]
      },
      {
       "output_type": "stream",
       "stream": "stdout",
       "text": [
        "\n",
        "Copied HourlyData/Archive/2013/2013111615.dat (426487 bytes, modtime 2013-11-25 17:00:06+00:00) to 2013/2013111615.dat because destination does not exist\n",
        "Retrieved 426056 bytes from HourlyData/Archive/2013/2013111616.dat, modtime 2013-11-25 17:00:06+00:00"
       ]
      },
      {
       "output_type": "stream",
       "stream": "stdout",
       "text": [
        "\n",
        "Copied HourlyData/Archive/2013/2013111616.dat (426056 bytes, modtime 2013-11-25 17:00:06+00:00) to 2013/2013111616.dat because destination does not exist\n",
        "Retrieved 423284 bytes from HourlyData/Archive/2013/2013111617.dat, modtime 2013-11-26 17:00:06+00:00"
       ]
      },
      {
       "output_type": "stream",
       "stream": "stdout",
       "text": [
        "\n",
        "Copied HourlyData/Archive/2013/2013111617.dat (423284 bytes, modtime 2013-11-26 17:00:06+00:00) to 2013/2013111617.dat because destination does not exist\n",
        "Retrieved 423851 bytes from HourlyData/Archive/2013/2013111618.dat, modtime 2013-11-26 17:00:06+00:00"
       ]
      },
      {
       "output_type": "stream",
       "stream": "stdout",
       "text": [
        "\n",
        "Copied HourlyData/Archive/2013/2013111618.dat (423851 bytes, modtime 2013-11-26 17:00:06+00:00) to 2013/2013111618.dat because destination does not exist\n",
        "Retrieved 423886 bytes from HourlyData/Archive/2013/2013111619.dat, modtime 2013-11-26 17:00:06+00:00"
       ]
      },
      {
       "output_type": "stream",
       "stream": "stdout",
       "text": [
        "\n",
        "Copied HourlyData/Archive/2013/2013111619.dat (423886 bytes, modtime 2013-11-26 17:00:06+00:00) to 2013/2013111619.dat because destination does not exist\n",
        "Retrieved 423658 bytes from HourlyData/Archive/2013/2013111620.dat, modtime 2013-11-26 17:00:06+00:00"
       ]
      },
      {
       "output_type": "stream",
       "stream": "stdout",
       "text": [
        "\n",
        "Copied HourlyData/Archive/2013/2013111620.dat (423658 bytes, modtime 2013-11-26 17:00:06+00:00) to 2013/2013111620.dat because destination does not exist\n",
        "Retrieved 423760 bytes from HourlyData/Archive/2013/2013111621.dat, modtime 2013-11-26 17:00:06+00:00"
       ]
      },
      {
       "output_type": "stream",
       "stream": "stdout",
       "text": [
        "\n",
        "Copied HourlyData/Archive/2013/2013111621.dat (423760 bytes, modtime 2013-11-26 17:00:06+00:00) to 2013/2013111621.dat because destination does not exist\n",
        "Retrieved 422132 bytes from HourlyData/Archive/2013/2013111622.dat, modtime 2013-11-26 17:00:06+00:00"
       ]
      },
      {
       "output_type": "stream",
       "stream": "stdout",
       "text": [
        "\n",
        "Copied HourlyData/Archive/2013/2013111622.dat (422132 bytes, modtime 2013-11-26 17:00:06+00:00) to 2013/2013111622.dat because destination does not exist\n",
        "Retrieved 423033 bytes from HourlyData/Archive/2013/2013111623.dat, modtime 2013-11-26 17:00:06+00:00"
       ]
      },
      {
       "output_type": "stream",
       "stream": "stdout",
       "text": [
        "\n",
        "Copied HourlyData/Archive/2013/2013111623.dat (423033 bytes, modtime 2013-11-26 17:00:06+00:00) to 2013/2013111623.dat because destination does not exist\n",
        "Retrieved 424914 bytes from HourlyData/Archive/2013/2013111700.dat, modtime 2013-11-26 17:00:06+00:00"
       ]
      },
      {
       "output_type": "stream",
       "stream": "stdout",
       "text": [
        "\n",
        "Copied HourlyData/Archive/2013/2013111700.dat (424914 bytes, modtime 2013-11-26 17:00:06+00:00) to 2013/2013111700.dat because destination does not exist\n",
        "Retrieved 422764 bytes from HourlyData/Archive/2013/2013111701.dat, modtime 2013-11-26 17:00:06+00:00"
       ]
      },
      {
       "output_type": "stream",
       "stream": "stdout",
       "text": [
        "\n",
        "Copied HourlyData/Archive/2013/2013111701.dat (422764 bytes, modtime 2013-11-26 17:00:06+00:00) to 2013/2013111701.dat because destination does not exist\n",
        "Retrieved 422831 bytes from HourlyData/Archive/2013/2013111702.dat, modtime 2013-11-26 17:00:06+00:00"
       ]
      },
      {
       "output_type": "stream",
       "stream": "stdout",
       "text": [
        "\n",
        "Copied HourlyData/Archive/2013/2013111702.dat (422831 bytes, modtime 2013-11-26 17:00:06+00:00) to 2013/2013111702.dat because destination does not exist\n",
        "Retrieved 420111 bytes from HourlyData/Archive/2013/2013111703.dat, modtime 2013-11-26 17:00:06+00:00"
       ]
      },
      {
       "output_type": "stream",
       "stream": "stdout",
       "text": [
        "\n",
        "Copied HourlyData/Archive/2013/2013111703.dat (420111 bytes, modtime 2013-11-26 17:00:06+00:00) to 2013/2013111703.dat because destination does not exist\n",
        "Retrieved 400330 bytes from HourlyData/Archive/2013/2013111704.dat, modtime 2013-11-26 17:00:06+00:00"
       ]
      },
      {
       "output_type": "stream",
       "stream": "stdout",
       "text": [
        "\n",
        "Copied HourlyData/Archive/2013/2013111704.dat (400330 bytes, modtime 2013-11-26 17:00:06+00:00) to 2013/2013111704.dat because destination does not exist\n",
        "Retrieved 420066 bytes from HourlyData/Archive/2013/2013111705.dat, modtime 2013-11-26 17:00:06+00:00"
       ]
      },
      {
       "output_type": "stream",
       "stream": "stdout",
       "text": [
        "\n",
        "Copied HourlyData/Archive/2013/2013111705.dat (420066 bytes, modtime 2013-11-26 17:00:06+00:00) to 2013/2013111705.dat because destination does not exist\n",
        "Retrieved 418528 bytes from HourlyData/Archive/2013/2013111706.dat, modtime 2013-11-26 17:00:06+00:00"
       ]
      },
      {
       "output_type": "stream",
       "stream": "stdout",
       "text": [
        "\n",
        "Copied HourlyData/Archive/2013/2013111706.dat (418528 bytes, modtime 2013-11-26 17:00:06+00:00) to 2013/2013111706.dat because destination does not exist\n",
        "Retrieved 414552 bytes from HourlyData/Archive/2013/2013111707.dat, modtime 2013-11-26 17:00:06+00:00"
       ]
      },
      {
       "output_type": "stream",
       "stream": "stdout",
       "text": [
        "\n",
        "Copied HourlyData/Archive/2013/2013111707.dat (414552 bytes, modtime 2013-11-26 17:00:06+00:00) to 2013/2013111707.dat because destination does not exist\n",
        "Retrieved 422256 bytes from HourlyData/Archive/2013/2013111708.dat, modtime 2013-11-26 17:00:06+00:00"
       ]
      },
      {
       "output_type": "stream",
       "stream": "stdout",
       "text": [
        "\n",
        "Copied HourlyData/Archive/2013/2013111708.dat (422256 bytes, modtime 2013-11-26 17:00:06+00:00) to 2013/2013111708.dat because destination does not exist\n",
        "Retrieved 420479 bytes from HourlyData/Archive/2013/2013111709.dat, modtime 2013-11-26 17:00:06+00:00"
       ]
      },
      {
       "output_type": "stream",
       "stream": "stdout",
       "text": [
        "\n",
        "Copied HourlyData/Archive/2013/2013111709.dat (420479 bytes, modtime 2013-11-26 17:00:06+00:00) to 2013/2013111709.dat because destination does not exist\n",
        "Retrieved 421941 bytes from HourlyData/Archive/2013/2013111710.dat, modtime 2013-11-26 17:00:06+00:00"
       ]
      },
      {
       "output_type": "stream",
       "stream": "stdout",
       "text": [
        "\n",
        "Copied HourlyData/Archive/2013/2013111710.dat (421941 bytes, modtime 2013-11-26 17:00:06+00:00) to 2013/2013111710.dat because destination does not exist\n",
        "Retrieved 421313 bytes from HourlyData/Archive/2013/2013111711.dat, modtime 2013-11-26 17:00:06+00:00"
       ]
      },
      {
       "output_type": "stream",
       "stream": "stdout",
       "text": [
        "\n",
        "Copied HourlyData/Archive/2013/2013111711.dat (421313 bytes, modtime 2013-11-26 17:00:06+00:00) to 2013/2013111711.dat because destination does not exist\n",
        "Retrieved 416225 bytes from HourlyData/Archive/2013/2013111712.dat, modtime 2013-11-26 17:00:06+00:00"
       ]
      },
      {
       "output_type": "stream",
       "stream": "stdout",
       "text": [
        "\n",
        "Copied HourlyData/Archive/2013/2013111712.dat (416225 bytes, modtime 2013-11-26 17:00:06+00:00) to 2013/2013111712.dat because destination does not exist\n",
        "Retrieved 426539 bytes from HourlyData/Archive/2013/2013111713.dat, modtime 2013-11-26 17:00:06+00:00"
       ]
      },
      {
       "output_type": "stream",
       "stream": "stdout",
       "text": [
        "\n",
        "Copied HourlyData/Archive/2013/2013111713.dat (426539 bytes, modtime 2013-11-26 17:00:06+00:00) to 2013/2013111713.dat because destination does not exist\n",
        "Retrieved 426804 bytes from HourlyData/Archive/2013/2013111714.dat, modtime 2013-11-26 17:00:06+00:00"
       ]
      },
      {
       "output_type": "stream",
       "stream": "stdout",
       "text": [
        "\n",
        "Copied HourlyData/Archive/2013/2013111714.dat (426804 bytes, modtime 2013-11-26 17:00:06+00:00) to 2013/2013111714.dat because destination does not exist\n",
        "Retrieved 425682 bytes from HourlyData/Archive/2013/2013111715.dat, modtime 2013-11-26 17:00:06+00:00"
       ]
      },
      {
       "output_type": "stream",
       "stream": "stdout",
       "text": [
        "\n",
        "Copied HourlyData/Archive/2013/2013111715.dat (425682 bytes, modtime 2013-11-26 17:00:06+00:00) to 2013/2013111715.dat because destination does not exist\n",
        "Retrieved 428500 bytes from HourlyData/Archive/2013/2013111716.dat, modtime 2013-11-26 17:00:06+00:00"
       ]
      },
      {
       "output_type": "stream",
       "stream": "stdout",
       "text": [
        "\n",
        "Copied HourlyData/Archive/2013/2013111716.dat (428500 bytes, modtime 2013-11-26 17:00:06+00:00) to 2013/2013111716.dat because destination does not exist\n",
        "Retrieved 428346 bytes from HourlyData/Archive/2013/2013111717.dat, modtime 2013-11-27 17:00:06+00:00"
       ]
      },
      {
       "output_type": "stream",
       "stream": "stdout",
       "text": [
        "\n",
        "Copied HourlyData/Archive/2013/2013111717.dat (428346 bytes, modtime 2013-11-27 17:00:06+00:00) to 2013/2013111717.dat because destination does not exist\n",
        "Retrieved 428199 bytes from HourlyData/Archive/2013/2013111718.dat, modtime 2013-11-27 17:00:06+00:00"
       ]
      },
      {
       "output_type": "stream",
       "stream": "stdout",
       "text": [
        "\n",
        "Copied HourlyData/Archive/2013/2013111718.dat (428199 bytes, modtime 2013-11-27 17:00:06+00:00) to 2013/2013111718.dat because destination does not exist\n",
        "Retrieved 428390 bytes from HourlyData/Archive/2013/2013111719.dat, modtime 2013-11-27 17:00:06+00:00"
       ]
      },
      {
       "output_type": "stream",
       "stream": "stdout",
       "text": [
        "\n",
        "Copied HourlyData/Archive/2013/2013111719.dat (428390 bytes, modtime 2013-11-27 17:00:06+00:00) to 2013/2013111719.dat because destination does not exist\n",
        "Retrieved 427821 bytes from HourlyData/Archive/2013/2013111720.dat, modtime 2013-11-27 17:00:06+00:00"
       ]
      },
      {
       "output_type": "stream",
       "stream": "stdout",
       "text": [
        "\n",
        "Copied HourlyData/Archive/2013/2013111720.dat (427821 bytes, modtime 2013-11-27 17:00:06+00:00) to 2013/2013111720.dat because destination does not exist\n",
        "Retrieved 429031 bytes from HourlyData/Archive/2013/2013111721.dat, modtime 2013-11-27 17:00:06+00:00"
       ]
      },
      {
       "output_type": "stream",
       "stream": "stdout",
       "text": [
        "\n",
        "Copied HourlyData/Archive/2013/2013111721.dat (429031 bytes, modtime 2013-11-27 17:00:06+00:00) to 2013/2013111721.dat because destination does not exist\n",
        "Retrieved 429582 bytes from HourlyData/Archive/2013/2013111722.dat, modtime 2013-11-27 17:00:06+00:00"
       ]
      },
      {
       "output_type": "stream",
       "stream": "stdout",
       "text": [
        "\n",
        "Copied HourlyData/Archive/2013/2013111722.dat (429582 bytes, modtime 2013-11-27 17:00:06+00:00) to 2013/2013111722.dat because destination does not exist\n",
        "Retrieved 427732 bytes from HourlyData/Archive/2013/2013111723.dat, modtime 2013-11-27 17:00:06+00:00"
       ]
      },
      {
       "output_type": "stream",
       "stream": "stdout",
       "text": [
        "\n",
        "Copied HourlyData/Archive/2013/2013111723.dat (427732 bytes, modtime 2013-11-27 17:00:06+00:00) to 2013/2013111723.dat because destination does not exist\n",
        "Retrieved 428139 bytes from HourlyData/Archive/2013/2013111800.dat, modtime 2013-11-27 17:00:06+00:00"
       ]
      },
      {
       "output_type": "stream",
       "stream": "stdout",
       "text": [
        "\n",
        "Copied HourlyData/Archive/2013/2013111800.dat (428139 bytes, modtime 2013-11-27 17:00:06+00:00) to 2013/2013111800.dat because destination does not exist\n",
        "Retrieved 427345 bytes from HourlyData/Archive/2013/2013111801.dat, modtime 2013-11-27 17:00:06+00:00"
       ]
      },
      {
       "output_type": "stream",
       "stream": "stdout",
       "text": [
        "\n",
        "Copied HourlyData/Archive/2013/2013111801.dat (427345 bytes, modtime 2013-11-27 17:00:06+00:00) to 2013/2013111801.dat because destination does not exist\n",
        "Retrieved 427930 bytes from HourlyData/Archive/2013/2013111802.dat, modtime 2013-11-27 17:00:06+00:00"
       ]
      },
      {
       "output_type": "stream",
       "stream": "stdout",
       "text": [
        "\n",
        "Copied HourlyData/Archive/2013/2013111802.dat (427930 bytes, modtime 2013-11-27 17:00:06+00:00) to 2013/2013111802.dat because destination does not exist\n",
        "Retrieved 422975 bytes from HourlyData/Archive/2013/2013111803.dat, modtime 2013-11-27 17:00:06+00:00"
       ]
      },
      {
       "output_type": "stream",
       "stream": "stdout",
       "text": [
        "\n",
        "Copied HourlyData/Archive/2013/2013111803.dat (422975 bytes, modtime 2013-11-27 17:00:06+00:00) to 2013/2013111803.dat because destination does not exist\n",
        "Retrieved 412371 bytes from HourlyData/Archive/2013/2013111804.dat, modtime 2013-11-27 17:00:06+00:00"
       ]
      },
      {
       "output_type": "stream",
       "stream": "stdout",
       "text": [
        "\n",
        "Copied HourlyData/Archive/2013/2013111804.dat (412371 bytes, modtime 2013-11-27 17:00:06+00:00) to 2013/2013111804.dat because destination does not exist\n",
        "Retrieved 424313 bytes from HourlyData/Archive/2013/2013111805.dat, modtime 2013-11-27 17:00:06+00:00"
       ]
      },
      {
       "output_type": "stream",
       "stream": "stdout",
       "text": [
        "\n",
        "Copied HourlyData/Archive/2013/2013111805.dat (424313 bytes, modtime 2013-11-27 17:00:06+00:00) to 2013/2013111805.dat because destination does not exist\n",
        "Retrieved 421772 bytes from HourlyData/Archive/2013/2013111806.dat, modtime 2013-11-27 17:00:06+00:00"
       ]
      },
      {
       "output_type": "stream",
       "stream": "stdout",
       "text": [
        "\n",
        "Copied HourlyData/Archive/2013/2013111806.dat (421772 bytes, modtime 2013-11-27 17:00:06+00:00) to 2013/2013111806.dat because destination does not exist\n",
        "Retrieved 416568 bytes from HourlyData/Archive/2013/2013111807.dat, modtime 2013-11-27 17:00:06+00:00"
       ]
      },
      {
       "output_type": "stream",
       "stream": "stdout",
       "text": [
        "\n",
        "Copied HourlyData/Archive/2013/2013111807.dat (416568 bytes, modtime 2013-11-27 17:00:06+00:00) to 2013/2013111807.dat because destination does not exist\n",
        "Retrieved 420144 bytes from HourlyData/Archive/2013/2013111808.dat, modtime 2013-11-27 17:00:06+00:00"
       ]
      },
      {
       "output_type": "stream",
       "stream": "stdout",
       "text": [
        "\n",
        "Copied HourlyData/Archive/2013/2013111808.dat (420144 bytes, modtime 2013-11-27 17:00:06+00:00) to 2013/2013111808.dat because destination does not exist\n",
        "Retrieved 422325 bytes from HourlyData/Archive/2013/2013111809.dat, modtime 2013-11-27 17:00:06+00:00"
       ]
      },
      {
       "output_type": "stream",
       "stream": "stdout",
       "text": [
        "\n",
        "Copied HourlyData/Archive/2013/2013111809.dat (422325 bytes, modtime 2013-11-27 17:00:06+00:00) to 2013/2013111809.dat because destination does not exist\n",
        "Retrieved 422416 bytes from HourlyData/Archive/2013/2013111810.dat, modtime 2013-11-27 17:00:06+00:00"
       ]
      },
      {
       "output_type": "stream",
       "stream": "stdout",
       "text": [
        "\n",
        "Copied HourlyData/Archive/2013/2013111810.dat (422416 bytes, modtime 2013-11-27 17:00:06+00:00) to 2013/2013111810.dat because destination does not exist\n",
        "Retrieved 419207 bytes from HourlyData/Archive/2013/2013111811.dat, modtime 2013-11-27 17:00:06+00:00"
       ]
      },
      {
       "output_type": "stream",
       "stream": "stdout",
       "text": [
        "\n",
        "Copied HourlyData/Archive/2013/2013111811.dat (419207 bytes, modtime 2013-11-27 17:00:06+00:00) to 2013/2013111811.dat because destination does not exist\n",
        "Retrieved 417361 bytes from HourlyData/Archive/2013/2013111812.dat, modtime 2013-11-27 17:00:06+00:00"
       ]
      },
      {
       "output_type": "stream",
       "stream": "stdout",
       "text": [
        "\n",
        "Copied HourlyData/Archive/2013/2013111812.dat (417361 bytes, modtime 2013-11-27 17:00:06+00:00) to 2013/2013111812.dat because destination does not exist\n",
        "Retrieved 427109 bytes from HourlyData/Archive/2013/2013111813.dat, modtime 2013-11-27 17:00:06+00:00"
       ]
      },
      {
       "output_type": "stream",
       "stream": "stdout",
       "text": [
        "\n",
        "Copied HourlyData/Archive/2013/2013111813.dat (427109 bytes, modtime 2013-11-27 17:00:06+00:00) to 2013/2013111813.dat because destination does not exist\n",
        "Retrieved 426729 bytes from HourlyData/Archive/2013/2013111814.dat, modtime 2013-11-27 17:00:06+00:00"
       ]
      },
      {
       "output_type": "stream",
       "stream": "stdout",
       "text": [
        "\n",
        "Copied HourlyData/Archive/2013/2013111814.dat (426729 bytes, modtime 2013-11-27 17:00:06+00:00) to 2013/2013111814.dat because destination does not exist\n",
        "Retrieved 423421 bytes from HourlyData/Archive/2013/2013111815.dat, modtime 2013-11-27 17:00:06+00:00"
       ]
      },
      {
       "output_type": "stream",
       "stream": "stdout",
       "text": [
        "\n",
        "Copied HourlyData/Archive/2013/2013111815.dat (423421 bytes, modtime 2013-11-27 17:00:06+00:00) to 2013/2013111815.dat because destination does not exist\n",
        "Retrieved 423346 bytes from HourlyData/Archive/2013/2013111816.dat, modtime 2013-11-27 17:00:06+00:00"
       ]
      },
      {
       "output_type": "stream",
       "stream": "stdout",
       "text": [
        "\n",
        "Copied HourlyData/Archive/2013/2013111816.dat (423346 bytes, modtime 2013-11-27 17:00:06+00:00) to 2013/2013111816.dat because destination does not exist\n",
        "Retrieved 421097 bytes from HourlyData/Archive/2013/2013111817.dat, modtime 2013-11-28 17:00:06+00:00"
       ]
      },
      {
       "output_type": "stream",
       "stream": "stdout",
       "text": [
        "\n",
        "Copied HourlyData/Archive/2013/2013111817.dat (421097 bytes, modtime 2013-11-28 17:00:06+00:00) to 2013/2013111817.dat because destination does not exist\n",
        "Retrieved 422262 bytes from HourlyData/Archive/2013/2013111818.dat, modtime 2013-11-28 17:00:06+00:00"
       ]
      },
      {
       "output_type": "stream",
       "stream": "stdout",
       "text": [
        "\n",
        "Copied HourlyData/Archive/2013/2013111818.dat (422262 bytes, modtime 2013-11-28 17:00:06+00:00) to 2013/2013111818.dat because destination does not exist\n",
        "Retrieved 421391 bytes from HourlyData/Archive/2013/2013111819.dat, modtime 2013-11-28 17:00:06+00:00"
       ]
      },
      {
       "output_type": "stream",
       "stream": "stdout",
       "text": [
        "\n",
        "Copied HourlyData/Archive/2013/2013111819.dat (421391 bytes, modtime 2013-11-28 17:00:06+00:00) to 2013/2013111819.dat because destination does not exist\n",
        "Retrieved 423253 bytes from HourlyData/Archive/2013/2013111820.dat, modtime 2013-11-28 17:00:06+00:00"
       ]
      },
      {
       "output_type": "stream",
       "stream": "stdout",
       "text": [
        "\n",
        "Copied HourlyData/Archive/2013/2013111820.dat (423253 bytes, modtime 2013-11-28 17:00:06+00:00) to 2013/2013111820.dat because destination does not exist\n",
        "Retrieved 423178 bytes from HourlyData/Archive/2013/2013111821.dat, modtime 2013-11-28 17:00:06+00:00"
       ]
      },
      {
       "output_type": "stream",
       "stream": "stdout",
       "text": [
        "\n",
        "Copied HourlyData/Archive/2013/2013111821.dat (423178 bytes, modtime 2013-11-28 17:00:06+00:00) to 2013/2013111821.dat because destination does not exist\n",
        "Retrieved 421633 bytes from HourlyData/Archive/2013/2013111822.dat, modtime 2013-11-28 17:00:06+00:00"
       ]
      },
      {
       "output_type": "stream",
       "stream": "stdout",
       "text": [
        "\n",
        "Copied HourlyData/Archive/2013/2013111822.dat (421633 bytes, modtime 2013-11-28 17:00:06+00:00) to 2013/2013111822.dat because destination does not exist\n",
        "Retrieved 422803 bytes from HourlyData/Archive/2013/2013111823.dat, modtime 2013-11-28 17:00:06+00:00"
       ]
      },
      {
       "output_type": "stream",
       "stream": "stdout",
       "text": [
        "\n",
        "Copied HourlyData/Archive/2013/2013111823.dat (422803 bytes, modtime 2013-11-28 17:00:06+00:00) to 2013/2013111823.dat because destination does not exist\n",
        "Retrieved 429424 bytes from HourlyData/Archive/2013/2013111900.dat, modtime 2013-11-28 17:00:06+00:00"
       ]
      },
      {
       "output_type": "stream",
       "stream": "stdout",
       "text": [
        "\n",
        "Copied HourlyData/Archive/2013/2013111900.dat (429424 bytes, modtime 2013-11-28 17:00:06+00:00) to 2013/2013111900.dat because destination does not exist\n",
        "Retrieved 430262 bytes from HourlyData/Archive/2013/2013111901.dat, modtime 2013-11-28 17:00:06+00:00"
       ]
      },
      {
       "output_type": "stream",
       "stream": "stdout",
       "text": [
        "\n",
        "Copied HourlyData/Archive/2013/2013111901.dat (430262 bytes, modtime 2013-11-28 17:00:06+00:00) to 2013/2013111901.dat because destination does not exist\n",
        "Retrieved 428857 bytes from HourlyData/Archive/2013/2013111902.dat, modtime 2013-11-28 17:00:06+00:00"
       ]
      },
      {
       "output_type": "stream",
       "stream": "stdout",
       "text": [
        "\n",
        "Copied HourlyData/Archive/2013/2013111902.dat (428857 bytes, modtime 2013-11-28 17:00:06+00:00) to 2013/2013111902.dat because destination does not exist\n",
        "Retrieved 424932 bytes from HourlyData/Archive/2013/2013111903.dat, modtime 2013-11-28 17:00:06+00:00"
       ]
      },
      {
       "output_type": "stream",
       "stream": "stdout",
       "text": [
        "\n",
        "Copied HourlyData/Archive/2013/2013111903.dat (424932 bytes, modtime 2013-11-28 17:00:06+00:00) to 2013/2013111903.dat because destination does not exist\n",
        "Retrieved 414735 bytes from HourlyData/Archive/2013/2013111904.dat, modtime 2013-11-28 17:00:06+00:00"
       ]
      },
      {
       "output_type": "stream",
       "stream": "stdout",
       "text": [
        "\n",
        "Copied HourlyData/Archive/2013/2013111904.dat (414735 bytes, modtime 2013-11-28 17:00:06+00:00) to 2013/2013111904.dat because destination does not exist\n",
        "Retrieved 427909 bytes from HourlyData/Archive/2013/2013111905.dat, modtime 2013-11-28 17:00:06+00:00"
       ]
      },
      {
       "output_type": "stream",
       "stream": "stdout",
       "text": [
        "\n",
        "Copied HourlyData/Archive/2013/2013111905.dat (427909 bytes, modtime 2013-11-28 17:00:06+00:00) to 2013/2013111905.dat because destination does not exist\n",
        "Retrieved 423849 bytes from HourlyData/Archive/2013/2013111906.dat, modtime 2013-11-28 17:00:06+00:00"
       ]
      },
      {
       "output_type": "stream",
       "stream": "stdout",
       "text": [
        "\n",
        "Copied HourlyData/Archive/2013/2013111906.dat (423849 bytes, modtime 2013-11-28 17:00:06+00:00) to 2013/2013111906.dat because destination does not exist\n",
        "Retrieved 424812 bytes from HourlyData/Archive/2013/2013111907.dat, modtime 2013-11-28 17:00:06+00:00"
       ]
      },
      {
       "output_type": "stream",
       "stream": "stdout",
       "text": [
        "\n",
        "Copied HourlyData/Archive/2013/2013111907.dat (424812 bytes, modtime 2013-11-28 17:00:06+00:00) to 2013/2013111907.dat because destination does not exist\n",
        "Retrieved 427763 bytes from HourlyData/Archive/2013/2013111908.dat, modtime 2013-11-28 17:00:06+00:00"
       ]
      },
      {
       "output_type": "stream",
       "stream": "stdout",
       "text": [
        "\n",
        "Copied HourlyData/Archive/2013/2013111908.dat (427763 bytes, modtime 2013-11-28 17:00:06+00:00) to 2013/2013111908.dat because destination does not exist\n",
        "Retrieved 426650 bytes from HourlyData/Archive/2013/2013111909.dat, modtime 2013-11-28 17:00:06+00:00"
       ]
      },
      {
       "output_type": "stream",
       "stream": "stdout",
       "text": [
        "\n",
        "Copied HourlyData/Archive/2013/2013111909.dat (426650 bytes, modtime 2013-11-28 17:00:06+00:00) to 2013/2013111909.dat because destination does not exist\n",
        "Retrieved 427091 bytes from HourlyData/Archive/2013/2013111910.dat, modtime 2013-11-28 17:00:06+00:00"
       ]
      },
      {
       "output_type": "stream",
       "stream": "stdout",
       "text": [
        "\n",
        "Copied HourlyData/Archive/2013/2013111910.dat (427091 bytes, modtime 2013-11-28 17:00:06+00:00) to 2013/2013111910.dat because destination does not exist\n",
        "Retrieved 422189 bytes from HourlyData/Archive/2013/2013111911.dat, modtime 2013-11-28 17:00:06+00:00"
       ]
      },
      {
       "output_type": "stream",
       "stream": "stdout",
       "text": [
        "\n",
        "Copied HourlyData/Archive/2013/2013111911.dat (422189 bytes, modtime 2013-11-28 17:00:06+00:00) to 2013/2013111911.dat because destination does not exist\n",
        "Retrieved 418875 bytes from HourlyData/Archive/2013/2013111912.dat, modtime 2013-11-28 17:00:06+00:00"
       ]
      },
      {
       "output_type": "stream",
       "stream": "stdout",
       "text": [
        "\n",
        "Copied HourlyData/Archive/2013/2013111912.dat (418875 bytes, modtime 2013-11-28 17:00:06+00:00) to 2013/2013111912.dat because destination does not exist\n",
        "Retrieved 426746 bytes from HourlyData/Archive/2013/2013111913.dat, modtime 2013-11-28 17:00:06+00:00"
       ]
      },
      {
       "output_type": "stream",
       "stream": "stdout",
       "text": [
        "\n",
        "Copied HourlyData/Archive/2013/2013111913.dat (426746 bytes, modtime 2013-11-28 17:00:06+00:00) to 2013/2013111913.dat because destination does not exist\n",
        "Retrieved 426214 bytes from HourlyData/Archive/2013/2013111914.dat, modtime 2013-11-28 17:00:06+00:00"
       ]
      },
      {
       "output_type": "stream",
       "stream": "stdout",
       "text": [
        "\n",
        "Copied HourlyData/Archive/2013/2013111914.dat (426214 bytes, modtime 2013-11-28 17:00:06+00:00) to 2013/2013111914.dat because destination does not exist\n",
        "Retrieved 421706 bytes from HourlyData/Archive/2013/2013111915.dat, modtime 2013-11-28 17:00:06+00:00"
       ]
      },
      {
       "output_type": "stream",
       "stream": "stdout",
       "text": [
        "\n",
        "Copied HourlyData/Archive/2013/2013111915.dat (421706 bytes, modtime 2013-11-28 17:00:06+00:00) to 2013/2013111915.dat because destination does not exist\n",
        "Retrieved 418832 bytes from HourlyData/Archive/2013/2013111916.dat, modtime 2013-11-28 17:00:06+00:00"
       ]
      },
      {
       "output_type": "stream",
       "stream": "stdout",
       "text": [
        "\n",
        "Copied HourlyData/Archive/2013/2013111916.dat (418832 bytes, modtime 2013-11-28 17:00:06+00:00) to 2013/2013111916.dat because destination does not exist\n",
        "Retrieved 414999 bytes from HourlyData/Archive/2013/2013111917.dat, modtime 2013-11-29 17:00:06+00:00"
       ]
      },
      {
       "output_type": "stream",
       "stream": "stdout",
       "text": [
        "\n",
        "Copied HourlyData/Archive/2013/2013111917.dat (414999 bytes, modtime 2013-11-29 17:00:06+00:00) to 2013/2013111917.dat because destination does not exist\n",
        "Retrieved 417451 bytes from HourlyData/Archive/2013/2013111918.dat, modtime 2013-11-29 17:00:06+00:00"
       ]
      },
      {
       "output_type": "stream",
       "stream": "stdout",
       "text": [
        "\n",
        "Copied HourlyData/Archive/2013/2013111918.dat (417451 bytes, modtime 2013-11-29 17:00:06+00:00) to 2013/2013111918.dat because destination does not exist\n",
        "Retrieved 422710 bytes from HourlyData/Archive/2013/2013111919.dat, modtime 2013-11-29 17:00:06+00:00"
       ]
      },
      {
       "output_type": "stream",
       "stream": "stdout",
       "text": [
        "\n",
        "Copied HourlyData/Archive/2013/2013111919.dat (422710 bytes, modtime 2013-11-29 17:00:06+00:00) to 2013/2013111919.dat because destination does not exist\n",
        "Retrieved 421906 bytes from HourlyData/Archive/2013/2013111920.dat, modtime 2013-11-29 17:00:06+00:00"
       ]
      },
      {
       "output_type": "stream",
       "stream": "stdout",
       "text": [
        "\n",
        "Copied HourlyData/Archive/2013/2013111920.dat (421906 bytes, modtime 2013-11-29 17:00:06+00:00) to 2013/2013111920.dat because destination does not exist\n",
        "Retrieved 421808 bytes from HourlyData/Archive/2013/2013111921.dat, modtime 2013-11-29 17:00:06+00:00"
       ]
      },
      {
       "output_type": "stream",
       "stream": "stdout",
       "text": [
        "\n",
        "Copied HourlyData/Archive/2013/2013111921.dat (421808 bytes, modtime 2013-11-29 17:00:06+00:00) to 2013/2013111921.dat because destination does not exist\n",
        "Retrieved 422126 bytes from HourlyData/Archive/2013/2013111922.dat, modtime 2013-11-29 17:00:06+00:00"
       ]
      },
      {
       "output_type": "stream",
       "stream": "stdout",
       "text": [
        "\n",
        "Copied HourlyData/Archive/2013/2013111922.dat (422126 bytes, modtime 2013-11-29 17:00:06+00:00) to 2013/2013111922.dat because destination does not exist\n",
        "Retrieved 422594 bytes from HourlyData/Archive/2013/2013111923.dat, modtime 2013-11-29 17:00:06+00:00"
       ]
      },
      {
       "output_type": "stream",
       "stream": "stdout",
       "text": [
        "\n",
        "Copied HourlyData/Archive/2013/2013111923.dat (422594 bytes, modtime 2013-11-29 17:00:06+00:00) to 2013/2013111923.dat because destination does not exist\n",
        "Retrieved 423721 bytes from HourlyData/Archive/2013/2013112000.dat, modtime 2013-11-29 17:00:06+00:00"
       ]
      },
      {
       "output_type": "stream",
       "stream": "stdout",
       "text": [
        "\n",
        "Copied HourlyData/Archive/2013/2013112000.dat (423721 bytes, modtime 2013-11-29 17:00:06+00:00) to 2013/2013112000.dat because destination does not exist\n",
        "Retrieved 424414 bytes from HourlyData/Archive/2013/2013112001.dat, modtime 2013-11-29 17:00:06+00:00"
       ]
      },
      {
       "output_type": "stream",
       "stream": "stdout",
       "text": [
        "\n",
        "Copied HourlyData/Archive/2013/2013112001.dat (424414 bytes, modtime 2013-11-29 17:00:06+00:00) to 2013/2013112001.dat because destination does not exist\n",
        "Retrieved 419002 bytes from HourlyData/Archive/2013/2013112002.dat, modtime 2013-11-29 17:00:06+00:00"
       ]
      },
      {
       "output_type": "stream",
       "stream": "stdout",
       "text": [
        "\n",
        "Copied HourlyData/Archive/2013/2013112002.dat (419002 bytes, modtime 2013-11-29 17:00:06+00:00) to 2013/2013112002.dat because destination does not exist\n",
        "Retrieved 421300 bytes from HourlyData/Archive/2013/2013112003.dat, modtime 2013-11-29 17:00:06+00:00"
       ]
      },
      {
       "output_type": "stream",
       "stream": "stdout",
       "text": [
        "\n",
        "Copied HourlyData/Archive/2013/2013112003.dat (421300 bytes, modtime 2013-11-29 17:00:06+00:00) to 2013/2013112003.dat because destination does not exist\n",
        "Retrieved 406800 bytes from HourlyData/Archive/2013/2013112004.dat, modtime 2013-11-29 17:00:06+00:00"
       ]
      },
      {
       "output_type": "stream",
       "stream": "stdout",
       "text": [
        "\n",
        "Copied HourlyData/Archive/2013/2013112004.dat (406800 bytes, modtime 2013-11-29 17:00:06+00:00) to 2013/2013112004.dat because destination does not exist\n",
        "Retrieved 412538 bytes from HourlyData/Archive/2013/2013112005.dat, modtime 2013-11-29 17:00:06+00:00"
       ]
      },
      {
       "output_type": "stream",
       "stream": "stdout",
       "text": [
        "\n",
        "Copied HourlyData/Archive/2013/2013112005.dat (412538 bytes, modtime 2013-11-29 17:00:06+00:00) to 2013/2013112005.dat because destination does not exist\n",
        "Retrieved 420770 bytes from HourlyData/Archive/2013/2013112006.dat, modtime 2013-11-29 17:00:06+00:00"
       ]
      },
      {
       "output_type": "stream",
       "stream": "stdout",
       "text": [
        "\n",
        "Copied HourlyData/Archive/2013/2013112006.dat (420770 bytes, modtime 2013-11-29 17:00:06+00:00) to 2013/2013112006.dat because destination does not exist\n",
        "Retrieved 418876 bytes from HourlyData/Archive/2013/2013112007.dat, modtime 2013-11-29 17:00:06+00:00"
       ]
      },
      {
       "output_type": "stream",
       "stream": "stdout",
       "text": [
        "\n",
        "Copied HourlyData/Archive/2013/2013112007.dat (418876 bytes, modtime 2013-11-29 17:00:06+00:00) to 2013/2013112007.dat because destination does not exist\n",
        "Retrieved 421726 bytes from HourlyData/Archive/2013/2013112008.dat, modtime 2013-11-29 17:00:06+00:00"
       ]
      },
      {
       "output_type": "stream",
       "stream": "stdout",
       "text": [
        "\n",
        "Copied HourlyData/Archive/2013/2013112008.dat (421726 bytes, modtime 2013-11-29 17:00:06+00:00) to 2013/2013112008.dat because destination does not exist\n",
        "Retrieved 418379 bytes from HourlyData/Archive/2013/2013112009.dat, modtime 2013-11-29 17:00:06+00:00"
       ]
      },
      {
       "output_type": "stream",
       "stream": "stdout",
       "text": [
        "\n",
        "Copied HourlyData/Archive/2013/2013112009.dat (418379 bytes, modtime 2013-11-29 17:00:06+00:00) to 2013/2013112009.dat because destination does not exist\n",
        "Retrieved 419327 bytes from HourlyData/Archive/2013/2013112010.dat, modtime 2013-11-29 17:00:06+00:00"
       ]
      },
      {
       "output_type": "stream",
       "stream": "stdout",
       "text": [
        "\n",
        "Copied HourlyData/Archive/2013/2013112010.dat (419327 bytes, modtime 2013-11-29 17:00:06+00:00) to 2013/2013112010.dat because destination does not exist\n",
        "Retrieved 417914 bytes from HourlyData/Archive/2013/2013112011.dat, modtime 2013-11-29 17:00:06+00:00"
       ]
      },
      {
       "output_type": "stream",
       "stream": "stdout",
       "text": [
        "\n",
        "Copied HourlyData/Archive/2013/2013112011.dat (417914 bytes, modtime 2013-11-29 17:00:06+00:00) to 2013/2013112011.dat because destination does not exist\n",
        "Retrieved 415930 bytes from HourlyData/Archive/2013/2013112012.dat, modtime 2013-11-29 17:00:06+00:00"
       ]
      },
      {
       "output_type": "stream",
       "stream": "stdout",
       "text": [
        "\n",
        "Copied HourlyData/Archive/2013/2013112012.dat (415930 bytes, modtime 2013-11-29 17:00:06+00:00) to 2013/2013112012.dat because destination does not exist\n",
        "Retrieved 422122 bytes from HourlyData/Archive/2013/2013112013.dat, modtime 2013-11-29 17:00:06+00:00"
       ]
      },
      {
       "output_type": "stream",
       "stream": "stdout",
       "text": [
        "\n",
        "Copied HourlyData/Archive/2013/2013112013.dat (422122 bytes, modtime 2013-11-29 17:00:06+00:00) to 2013/2013112013.dat because destination does not exist\n",
        "Retrieved 420911 bytes from HourlyData/Archive/2013/2013112014.dat, modtime 2013-11-29 17:00:06+00:00"
       ]
      },
      {
       "output_type": "stream",
       "stream": "stdout",
       "text": [
        "\n",
        "Copied HourlyData/Archive/2013/2013112014.dat (420911 bytes, modtime 2013-11-29 17:00:06+00:00) to 2013/2013112014.dat because destination does not exist\n",
        "Retrieved 417846 bytes from HourlyData/Archive/2013/2013112015.dat, modtime 2013-11-29 17:00:06+00:00"
       ]
      },
      {
       "output_type": "stream",
       "stream": "stdout",
       "text": [
        "\n",
        "Copied HourlyData/Archive/2013/2013112015.dat (417846 bytes, modtime 2013-11-29 17:00:06+00:00) to 2013/2013112015.dat because destination does not exist\n",
        "Retrieved 416701 bytes from HourlyData/Archive/2013/2013112016.dat, modtime 2013-11-29 17:00:06+00:00"
       ]
      },
      {
       "output_type": "stream",
       "stream": "stdout",
       "text": [
        "\n",
        "Copied HourlyData/Archive/2013/2013112016.dat (416701 bytes, modtime 2013-11-29 17:00:06+00:00) to 2013/2013112016.dat because destination does not exist\n",
        "Retrieved 411878 bytes from HourlyData/Archive/2013/2013112017.dat, modtime 2013-12-02 17:00:06+00:00"
       ]
      },
      {
       "output_type": "stream",
       "stream": "stdout",
       "text": [
        "\n",
        "Copied HourlyData/Archive/2013/2013112017.dat (411878 bytes, modtime 2013-12-02 17:00:06+00:00) to 2013/2013112017.dat because destination does not exist\n",
        "Retrieved 419607 bytes from HourlyData/Archive/2013/2013112018.dat, modtime 2013-12-02 17:00:06+00:00"
       ]
      },
      {
       "output_type": "stream",
       "stream": "stdout",
       "text": [
        "\n",
        "Copied HourlyData/Archive/2013/2013112018.dat (419607 bytes, modtime 2013-12-02 17:00:06+00:00) to 2013/2013112018.dat because destination does not exist\n",
        "Retrieved 421523 bytes from HourlyData/Archive/2013/2013112019.dat, modtime 2013-12-02 17:00:06+00:00"
       ]
      },
      {
       "output_type": "stream",
       "stream": "stdout",
       "text": [
        "\n",
        "Copied HourlyData/Archive/2013/2013112019.dat (421523 bytes, modtime 2013-12-02 17:00:06+00:00) to 2013/2013112019.dat because destination does not exist\n",
        "Retrieved 422407 bytes from HourlyData/Archive/2013/2013112020.dat, modtime 2013-12-02 17:00:06+00:00"
       ]
      },
      {
       "output_type": "stream",
       "stream": "stdout",
       "text": [
        "\n",
        "Copied HourlyData/Archive/2013/2013112020.dat (422407 bytes, modtime 2013-12-02 17:00:06+00:00) to 2013/2013112020.dat because destination does not exist\n",
        "Retrieved 422515 bytes from HourlyData/Archive/2013/2013112021.dat, modtime 2013-12-02 17:00:06+00:00"
       ]
      },
      {
       "output_type": "stream",
       "stream": "stdout",
       "text": [
        "\n",
        "Copied HourlyData/Archive/2013/2013112021.dat (422515 bytes, modtime 2013-12-02 17:00:06+00:00) to 2013/2013112021.dat because destination does not exist\n",
        "Retrieved 422287 bytes from HourlyData/Archive/2013/2013112022.dat, modtime 2013-12-02 17:00:06+00:00"
       ]
      },
      {
       "output_type": "stream",
       "stream": "stdout",
       "text": [
        "\n",
        "Copied HourlyData/Archive/2013/2013112022.dat (422287 bytes, modtime 2013-12-02 17:00:06+00:00) to 2013/2013112022.dat because destination does not exist\n",
        "Retrieved 424028 bytes from HourlyData/Archive/2013/2013112023.dat, modtime 2013-12-02 17:00:06+00:00"
       ]
      },
      {
       "output_type": "stream",
       "stream": "stdout",
       "text": [
        "\n",
        "Copied HourlyData/Archive/2013/2013112023.dat (424028 bytes, modtime 2013-12-02 17:00:06+00:00) to 2013/2013112023.dat because destination does not exist\n",
        "Retrieved 425471 bytes from HourlyData/Archive/2013/2013112100.dat, modtime 2013-12-02 17:00:06+00:00"
       ]
      },
      {
       "output_type": "stream",
       "stream": "stdout",
       "text": [
        "\n",
        "Copied HourlyData/Archive/2013/2013112100.dat (425471 bytes, modtime 2013-12-02 17:00:06+00:00) to 2013/2013112100.dat because destination does not exist\n",
        "Retrieved 424487 bytes from HourlyData/Archive/2013/2013112101.dat, modtime 2013-12-02 17:00:06+00:00"
       ]
      },
      {
       "output_type": "stream",
       "stream": "stdout",
       "text": [
        "\n",
        "Copied HourlyData/Archive/2013/2013112101.dat (424487 bytes, modtime 2013-12-02 17:00:06+00:00) to 2013/2013112101.dat because destination does not exist\n",
        "Retrieved 424293 bytes from HourlyData/Archive/2013/2013112102.dat, modtime 2013-12-02 17:00:06+00:00"
       ]
      },
      {
       "output_type": "stream",
       "stream": "stdout",
       "text": [
        "\n",
        "Copied HourlyData/Archive/2013/2013112102.dat (424293 bytes, modtime 2013-12-02 17:00:06+00:00) to 2013/2013112102.dat because destination does not exist\n",
        "Retrieved 420935 bytes from HourlyData/Archive/2013/2013112103.dat, modtime 2013-12-02 17:00:06+00:00"
       ]
      },
      {
       "output_type": "stream",
       "stream": "stdout",
       "text": [
        "\n",
        "Copied HourlyData/Archive/2013/2013112103.dat (420935 bytes, modtime 2013-12-02 17:00:06+00:00) to 2013/2013112103.dat because destination does not exist\n",
        "Retrieved 409358 bytes from HourlyData/Archive/2013/2013112104.dat, modtime 2013-12-02 17:00:06+00:00"
       ]
      },
      {
       "output_type": "stream",
       "stream": "stdout",
       "text": [
        "\n",
        "Copied HourlyData/Archive/2013/2013112104.dat (409358 bytes, modtime 2013-12-02 17:00:06+00:00) to 2013/2013112104.dat because destination does not exist\n",
        "Retrieved 424328 bytes from HourlyData/Archive/2013/2013112105.dat, modtime 2013-12-02 17:00:06+00:00"
       ]
      },
      {
       "output_type": "stream",
       "stream": "stdout",
       "text": [
        "\n",
        "Copied HourlyData/Archive/2013/2013112105.dat (424328 bytes, modtime 2013-12-02 17:00:06+00:00) to 2013/2013112105.dat because destination does not exist\n",
        "Retrieved 422021 bytes from HourlyData/Archive/2013/2013112106.dat, modtime 2013-12-02 17:00:06+00:00"
       ]
      },
      {
       "output_type": "stream",
       "stream": "stdout",
       "text": [
        "\n",
        "Copied HourlyData/Archive/2013/2013112106.dat (422021 bytes, modtime 2013-12-02 17:00:06+00:00) to 2013/2013112106.dat because destination does not exist\n",
        "Retrieved 418544 bytes from HourlyData/Archive/2013/2013112107.dat, modtime 2013-12-02 17:00:06+00:00"
       ]
      },
      {
       "output_type": "stream",
       "stream": "stdout",
       "text": [
        "\n",
        "Copied HourlyData/Archive/2013/2013112107.dat (418544 bytes, modtime 2013-12-02 17:00:06+00:00) to 2013/2013112107.dat because destination does not exist\n",
        "Retrieved 422884 bytes from HourlyData/Archive/2013/2013112108.dat, modtime 2013-12-02 17:00:06+00:00"
       ]
      },
      {
       "output_type": "stream",
       "stream": "stdout",
       "text": [
        "\n",
        "Copied HourlyData/Archive/2013/2013112108.dat (422884 bytes, modtime 2013-12-02 17:00:06+00:00) to 2013/2013112108.dat because destination does not exist\n",
        "Retrieved 421189 bytes from HourlyData/Archive/2013/2013112109.dat, modtime 2013-12-02 17:00:06+00:00"
       ]
      },
      {
       "output_type": "stream",
       "stream": "stdout",
       "text": [
        "\n",
        "Copied HourlyData/Archive/2013/2013112109.dat (421189 bytes, modtime 2013-12-02 17:00:06+00:00) to 2013/2013112109.dat because destination does not exist\n",
        "Retrieved 423019 bytes from HourlyData/Archive/2013/2013112110.dat, modtime 2013-12-02 17:00:06+00:00"
       ]
      },
      {
       "output_type": "stream",
       "stream": "stdout",
       "text": [
        "\n",
        "Copied HourlyData/Archive/2013/2013112110.dat (423019 bytes, modtime 2013-12-02 17:00:06+00:00) to 2013/2013112110.dat because destination does not exist\n",
        "Retrieved 421162 bytes from HourlyData/Archive/2013/2013112111.dat, modtime 2013-12-02 17:00:06+00:00"
       ]
      },
      {
       "output_type": "stream",
       "stream": "stdout",
       "text": [
        "\n",
        "Copied HourlyData/Archive/2013/2013112111.dat (421162 bytes, modtime 2013-12-02 17:00:06+00:00) to 2013/2013112111.dat because destination does not exist\n",
        "Retrieved 415437 bytes from HourlyData/Archive/2013/2013112112.dat, modtime 2013-12-02 17:00:06+00:00"
       ]
      },
      {
       "output_type": "stream",
       "stream": "stdout",
       "text": [
        "\n",
        "Copied HourlyData/Archive/2013/2013112112.dat (415437 bytes, modtime 2013-12-02 17:00:06+00:00) to 2013/2013112112.dat because destination does not exist\n",
        "Retrieved 424715 bytes from HourlyData/Archive/2013/2013112113.dat, modtime 2013-12-02 17:00:06+00:00"
       ]
      },
      {
       "output_type": "stream",
       "stream": "stdout",
       "text": [
        "\n",
        "Copied HourlyData/Archive/2013/2013112113.dat (424715 bytes, modtime 2013-12-02 17:00:06+00:00) to 2013/2013112113.dat because destination does not exist\n",
        "Retrieved 422705 bytes from HourlyData/Archive/2013/2013112114.dat, modtime 2013-12-02 17:00:06+00:00"
       ]
      },
      {
       "output_type": "stream",
       "stream": "stdout",
       "text": [
        "\n",
        "Copied HourlyData/Archive/2013/2013112114.dat (422705 bytes, modtime 2013-12-02 17:00:06+00:00) to 2013/2013112114.dat because destination does not exist\n",
        "Retrieved 421123 bytes from HourlyData/Archive/2013/2013112115.dat, modtime 2013-12-02 17:00:06+00:00"
       ]
      },
      {
       "output_type": "stream",
       "stream": "stdout",
       "text": [
        "\n",
        "Copied HourlyData/Archive/2013/2013112115.dat (421123 bytes, modtime 2013-12-02 17:00:06+00:00) to 2013/2013112115.dat because destination does not exist\n",
        "Retrieved 420487 bytes from HourlyData/Archive/2013/2013112116.dat, modtime 2013-12-02 17:00:06+00:00"
       ]
      },
      {
       "output_type": "stream",
       "stream": "stdout",
       "text": [
        "\n",
        "Copied HourlyData/Archive/2013/2013112116.dat (420487 bytes, modtime 2013-12-02 17:00:06+00:00) to 2013/2013112116.dat because destination does not exist\n",
        "Retrieved 419391 bytes from HourlyData/Archive/2013/2013112117.dat, modtime 2013-12-02 17:00:06+00:00"
       ]
      },
      {
       "output_type": "stream",
       "stream": "stdout",
       "text": [
        "\n",
        "Copied HourlyData/Archive/2013/2013112117.dat (419391 bytes, modtime 2013-12-02 17:00:06+00:00) to 2013/2013112117.dat because destination does not exist\n",
        "Retrieved 419552 bytes from HourlyData/Archive/2013/2013112118.dat, modtime 2013-12-02 17:00:06+00:00"
       ]
      },
      {
       "output_type": "stream",
       "stream": "stdout",
       "text": [
        "\n",
        "Copied HourlyData/Archive/2013/2013112118.dat (419552 bytes, modtime 2013-12-02 17:00:06+00:00) to 2013/2013112118.dat because destination does not exist\n",
        "Retrieved 420990 bytes from HourlyData/Archive/2013/2013112119.dat, modtime 2013-12-02 17:00:06+00:00"
       ]
      },
      {
       "output_type": "stream",
       "stream": "stdout",
       "text": [
        "\n",
        "Copied HourlyData/Archive/2013/2013112119.dat (420990 bytes, modtime 2013-12-02 17:00:06+00:00) to 2013/2013112119.dat because destination does not exist\n",
        "Retrieved 424993 bytes from HourlyData/Archive/2013/2013112120.dat, modtime 2013-12-02 17:00:06+00:00"
       ]
      },
      {
       "output_type": "stream",
       "stream": "stdout",
       "text": [
        "\n",
        "Copied HourlyData/Archive/2013/2013112120.dat (424993 bytes, modtime 2013-12-02 17:00:06+00:00) to 2013/2013112120.dat because destination does not exist\n",
        "Retrieved 424581 bytes from HourlyData/Archive/2013/2013112121.dat, modtime 2013-12-02 17:00:06+00:00"
       ]
      },
      {
       "output_type": "stream",
       "stream": "stdout",
       "text": [
        "\n",
        "Copied HourlyData/Archive/2013/2013112121.dat (424581 bytes, modtime 2013-12-02 17:00:06+00:00) to 2013/2013112121.dat because destination does not exist\n",
        "Retrieved 425579 bytes from HourlyData/Archive/2013/2013112122.dat, modtime 2013-12-02 17:00:06+00:00"
       ]
      },
      {
       "output_type": "stream",
       "stream": "stdout",
       "text": [
        "\n",
        "Copied HourlyData/Archive/2013/2013112122.dat (425579 bytes, modtime 2013-12-02 17:00:06+00:00) to 2013/2013112122.dat because destination does not exist\n",
        "Retrieved 425948 bytes from HourlyData/Archive/2013/2013112123.dat, modtime 2013-12-02 17:00:06+00:00"
       ]
      },
      {
       "output_type": "stream",
       "stream": "stdout",
       "text": [
        "\n",
        "Copied HourlyData/Archive/2013/2013112123.dat (425948 bytes, modtime 2013-12-02 17:00:06+00:00) to 2013/2013112123.dat because destination does not exist\n",
        "Retrieved 427519 bytes from HourlyData/Archive/2013/2013112200.dat, modtime 2013-12-02 17:00:06+00:00"
       ]
      },
      {
       "output_type": "stream",
       "stream": "stdout",
       "text": [
        "\n",
        "Copied HourlyData/Archive/2013/2013112200.dat (427519 bytes, modtime 2013-12-02 17:00:06+00:00) to 2013/2013112200.dat because destination does not exist\n",
        "Retrieved 427505 bytes from HourlyData/Archive/2013/2013112201.dat, modtime 2013-12-02 17:00:06+00:00"
       ]
      },
      {
       "output_type": "stream",
       "stream": "stdout",
       "text": [
        "\n",
        "Copied HourlyData/Archive/2013/2013112201.dat (427505 bytes, modtime 2013-12-02 17:00:06+00:00) to 2013/2013112201.dat because destination does not exist\n",
        "Retrieved 426269 bytes from HourlyData/Archive/2013/2013112202.dat, modtime 2013-12-02 17:00:06+00:00"
       ]
      },
      {
       "output_type": "stream",
       "stream": "stdout",
       "text": [
        "\n",
        "Copied HourlyData/Archive/2013/2013112202.dat (426269 bytes, modtime 2013-12-02 17:00:06+00:00) to 2013/2013112202.dat because destination does not exist\n",
        "Retrieved 420770 bytes from HourlyData/Archive/2013/2013112203.dat, modtime 2013-12-02 17:00:06+00:00"
       ]
      },
      {
       "output_type": "stream",
       "stream": "stdout",
       "text": [
        "\n",
        "Copied HourlyData/Archive/2013/2013112203.dat (420770 bytes, modtime 2013-12-02 17:00:06+00:00) to 2013/2013112203.dat because destination does not exist\n",
        "Retrieved 410699 bytes from HourlyData/Archive/2013/2013112204.dat, modtime 2013-12-02 17:00:06+00:00"
       ]
      },
      {
       "output_type": "stream",
       "stream": "stdout",
       "text": [
        "\n",
        "Copied HourlyData/Archive/2013/2013112204.dat (410699 bytes, modtime 2013-12-02 17:00:06+00:00) to 2013/2013112204.dat because destination does not exist\n",
        "Retrieved 424210 bytes from HourlyData/Archive/2013/2013112205.dat, modtime 2013-12-02 17:00:06+00:00"
       ]
      },
      {
       "output_type": "stream",
       "stream": "stdout",
       "text": [
        "\n",
        "Copied HourlyData/Archive/2013/2013112205.dat (424210 bytes, modtime 2013-12-02 17:00:06+00:00) to 2013/2013112205.dat because destination does not exist\n",
        "Retrieved 421703 bytes from HourlyData/Archive/2013/2013112206.dat, modtime 2013-12-02 17:00:06+00:00"
       ]
      },
      {
       "output_type": "stream",
       "stream": "stdout",
       "text": [
        "\n",
        "Copied HourlyData/Archive/2013/2013112206.dat (421703 bytes, modtime 2013-12-02 17:00:06+00:00) to 2013/2013112206.dat because destination does not exist\n",
        "Retrieved 419505 bytes from HourlyData/Archive/2013/2013112207.dat, modtime 2013-12-02 17:00:06+00:00"
       ]
      },
      {
       "output_type": "stream",
       "stream": "stdout",
       "text": [
        "\n",
        "Copied HourlyData/Archive/2013/2013112207.dat (419505 bytes, modtime 2013-12-02 17:00:06+00:00) to 2013/2013112207.dat because destination does not exist\n",
        "Retrieved 421339 bytes from HourlyData/Archive/2013/2013112208.dat, modtime 2013-12-02 17:00:06+00:00"
       ]
      },
      {
       "output_type": "stream",
       "stream": "stdout",
       "text": [
        "\n",
        "Copied HourlyData/Archive/2013/2013112208.dat (421339 bytes, modtime 2013-12-02 17:00:06+00:00) to 2013/2013112208.dat because destination does not exist\n",
        "Retrieved 419035 bytes from HourlyData/Archive/2013/2013112209.dat, modtime 2013-12-02 17:00:06+00:00"
       ]
      },
      {
       "output_type": "stream",
       "stream": "stdout",
       "text": [
        "\n",
        "Copied HourlyData/Archive/2013/2013112209.dat (419035 bytes, modtime 2013-12-02 17:00:06+00:00) to 2013/2013112209.dat because destination does not exist\n",
        "Retrieved 422803 bytes from HourlyData/Archive/2013/2013112210.dat, modtime 2013-12-02 17:00:06+00:00"
       ]
      },
      {
       "output_type": "stream",
       "stream": "stdout",
       "text": [
        "\n",
        "Copied HourlyData/Archive/2013/2013112210.dat (422803 bytes, modtime 2013-12-02 17:00:06+00:00) to 2013/2013112210.dat because destination does not exist\n",
        "Retrieved 419590 bytes from HourlyData/Archive/2013/2013112211.dat, modtime 2013-12-02 17:00:06+00:00"
       ]
      },
      {
       "output_type": "stream",
       "stream": "stdout",
       "text": [
        "\n",
        "Copied HourlyData/Archive/2013/2013112211.dat (419590 bytes, modtime 2013-12-02 17:00:06+00:00) to 2013/2013112211.dat because destination does not exist\n",
        "Retrieved 415895 bytes from HourlyData/Archive/2013/2013112212.dat, modtime 2013-12-02 17:00:06+00:00"
       ]
      },
      {
       "output_type": "stream",
       "stream": "stdout",
       "text": [
        "\n",
        "Copied HourlyData/Archive/2013/2013112212.dat (415895 bytes, modtime 2013-12-02 17:00:06+00:00) to 2013/2013112212.dat because destination does not exist\n",
        "Retrieved 423454 bytes from HourlyData/Archive/2013/2013112213.dat, modtime 2013-12-02 17:00:06+00:00"
       ]
      },
      {
       "output_type": "stream",
       "stream": "stdout",
       "text": [
        "\n",
        "Copied HourlyData/Archive/2013/2013112213.dat (423454 bytes, modtime 2013-12-02 17:00:06+00:00) to 2013/2013112213.dat because destination does not exist\n",
        "Retrieved 423852 bytes from HourlyData/Archive/2013/2013112214.dat, modtime 2013-12-02 17:00:06+00:00"
       ]
      },
      {
       "output_type": "stream",
       "stream": "stdout",
       "text": [
        "\n",
        "Copied HourlyData/Archive/2013/2013112214.dat (423852 bytes, modtime 2013-12-02 17:00:06+00:00) to 2013/2013112214.dat because destination does not exist\n",
        "Retrieved 422079 bytes from HourlyData/Archive/2013/2013112215.dat, modtime 2013-12-02 17:00:06+00:00"
       ]
      },
      {
       "output_type": "stream",
       "stream": "stdout",
       "text": [
        "\n",
        "Copied HourlyData/Archive/2013/2013112215.dat (422079 bytes, modtime 2013-12-02 17:00:06+00:00) to 2013/2013112215.dat because destination does not exist\n",
        "Retrieved 420914 bytes from HourlyData/Archive/2013/2013112216.dat, modtime 2013-12-02 17:00:06+00:00"
       ]
      },
      {
       "output_type": "stream",
       "stream": "stdout",
       "text": [
        "\n",
        "Copied HourlyData/Archive/2013/2013112216.dat (420914 bytes, modtime 2013-12-02 17:00:06+00:00) to 2013/2013112216.dat because destination does not exist\n",
        "Retrieved 422986 bytes from HourlyData/Archive/2013/2013112217.dat, modtime 2013-12-02 17:00:06+00:00"
       ]
      },
      {
       "output_type": "stream",
       "stream": "stdout",
       "text": [
        "\n",
        "Copied HourlyData/Archive/2013/2013112217.dat (422986 bytes, modtime 2013-12-02 17:00:06+00:00) to 2013/2013112217.dat because destination does not exist\n",
        "Retrieved 419011 bytes from HourlyData/Archive/2013/2013112218.dat, modtime 2013-12-02 17:00:06+00:00"
       ]
      },
      {
       "output_type": "stream",
       "stream": "stdout",
       "text": [
        "\n",
        "Copied HourlyData/Archive/2013/2013112218.dat (419011 bytes, modtime 2013-12-02 17:00:06+00:00) to 2013/2013112218.dat because destination does not exist\n",
        "Retrieved 424851 bytes from HourlyData/Archive/2013/2013112219.dat, modtime 2013-12-02 17:00:06+00:00"
       ]
      },
      {
       "output_type": "stream",
       "stream": "stdout",
       "text": [
        "\n",
        "Copied HourlyData/Archive/2013/2013112219.dat (424851 bytes, modtime 2013-12-02 17:00:06+00:00) to 2013/2013112219.dat because destination does not exist\n",
        "Retrieved 422713 bytes from HourlyData/Archive/2013/2013112220.dat, modtime 2013-12-02 17:00:06+00:00"
       ]
      },
      {
       "output_type": "stream",
       "stream": "stdout",
       "text": [
        "\n",
        "Copied HourlyData/Archive/2013/2013112220.dat (422713 bytes, modtime 2013-12-02 17:00:06+00:00) to 2013/2013112220.dat because destination does not exist\n",
        "Retrieved 422427 bytes from HourlyData/Archive/2013/2013112221.dat, modtime 2013-12-02 17:00:06+00:00"
       ]
      },
      {
       "output_type": "stream",
       "stream": "stdout",
       "text": [
        "\n",
        "Copied HourlyData/Archive/2013/2013112221.dat (422427 bytes, modtime 2013-12-02 17:00:06+00:00) to 2013/2013112221.dat because destination does not exist\n",
        "Retrieved 421864 bytes from HourlyData/Archive/2013/2013112222.dat, modtime 2013-12-02 17:00:06+00:00"
       ]
      },
      {
       "output_type": "stream",
       "stream": "stdout",
       "text": [
        "\n",
        "Copied HourlyData/Archive/2013/2013112222.dat (421864 bytes, modtime 2013-12-02 17:00:06+00:00) to 2013/2013112222.dat because destination does not exist\n",
        "Retrieved 422187 bytes from HourlyData/Archive/2013/2013112223.dat, modtime 2013-12-02 17:00:06+00:00"
       ]
      },
      {
       "output_type": "stream",
       "stream": "stdout",
       "text": [
        "\n",
        "Copied HourlyData/Archive/2013/2013112223.dat (422187 bytes, modtime 2013-12-02 17:00:06+00:00) to 2013/2013112223.dat because destination does not exist\n",
        "Retrieved 422474 bytes from HourlyData/Archive/2013/2013112300.dat, modtime 2013-12-02 17:00:06+00:00"
       ]
      },
      {
       "output_type": "stream",
       "stream": "stdout",
       "text": [
        "\n",
        "Copied HourlyData/Archive/2013/2013112300.dat (422474 bytes, modtime 2013-12-02 17:00:06+00:00) to 2013/2013112300.dat because destination does not exist\n",
        "Retrieved 423836 bytes from HourlyData/Archive/2013/2013112301.dat, modtime 2013-12-02 17:00:06+00:00"
       ]
      },
      {
       "output_type": "stream",
       "stream": "stdout",
       "text": [
        "\n",
        "Copied HourlyData/Archive/2013/2013112301.dat (423836 bytes, modtime 2013-12-02 17:00:06+00:00) to 2013/2013112301.dat because destination does not exist\n",
        "Retrieved 422707 bytes from HourlyData/Archive/2013/2013112302.dat, modtime 2013-12-02 17:00:06+00:00"
       ]
      },
      {
       "output_type": "stream",
       "stream": "stdout",
       "text": [
        "\n",
        "Copied HourlyData/Archive/2013/2013112302.dat (422707 bytes, modtime 2013-12-02 17:00:06+00:00) to 2013/2013112302.dat because destination does not exist\n",
        "Retrieved 419301 bytes from HourlyData/Archive/2013/2013112303.dat, modtime 2013-12-02 17:00:06+00:00"
       ]
      },
      {
       "output_type": "stream",
       "stream": "stdout",
       "text": [
        "\n",
        "Copied HourlyData/Archive/2013/2013112303.dat (419301 bytes, modtime 2013-12-02 17:00:06+00:00) to 2013/2013112303.dat because destination does not exist\n",
        "Retrieved 406964 bytes from HourlyData/Archive/2013/2013112304.dat, modtime 2013-12-02 17:00:06+00:00"
       ]
      },
      {
       "output_type": "stream",
       "stream": "stdout",
       "text": [
        "\n",
        "Copied HourlyData/Archive/2013/2013112304.dat (406964 bytes, modtime 2013-12-02 17:00:06+00:00) to 2013/2013112304.dat because destination does not exist\n",
        "Retrieved 418319 bytes from HourlyData/Archive/2013/2013112305.dat, modtime 2013-12-02 17:00:06+00:00"
       ]
      },
      {
       "output_type": "stream",
       "stream": "stdout",
       "text": [
        "\n",
        "Copied HourlyData/Archive/2013/2013112305.dat (418319 bytes, modtime 2013-12-02 17:00:06+00:00) to 2013/2013112305.dat because destination does not exist\n",
        "Retrieved 416948 bytes from HourlyData/Archive/2013/2013112306.dat, modtime 2013-12-02 17:00:06+00:00"
       ]
      },
      {
       "output_type": "stream",
       "stream": "stdout",
       "text": [
        "\n",
        "Copied HourlyData/Archive/2013/2013112306.dat (416948 bytes, modtime 2013-12-02 17:00:06+00:00) to 2013/2013112306.dat because destination does not exist\n",
        "Retrieved 414896 bytes from HourlyData/Archive/2013/2013112307.dat, modtime 2013-12-02 17:00:06+00:00"
       ]
      },
      {
       "output_type": "stream",
       "stream": "stdout",
       "text": [
        "\n",
        "Copied HourlyData/Archive/2013/2013112307.dat (414896 bytes, modtime 2013-12-02 17:00:06+00:00) to 2013/2013112307.dat because destination does not exist\n",
        "Retrieved 417487 bytes from HourlyData/Archive/2013/2013112308.dat, modtime 2013-12-02 17:00:06+00:00"
       ]
      },
      {
       "output_type": "stream",
       "stream": "stdout",
       "text": [
        "\n",
        "Copied HourlyData/Archive/2013/2013112308.dat (417487 bytes, modtime 2013-12-02 17:00:06+00:00) to 2013/2013112308.dat because destination does not exist\n",
        "Retrieved 414387 bytes from HourlyData/Archive/2013/2013112309.dat, modtime 2013-12-02 17:00:06+00:00"
       ]
      },
      {
       "output_type": "stream",
       "stream": "stdout",
       "text": [
        "\n",
        "Copied HourlyData/Archive/2013/2013112309.dat (414387 bytes, modtime 2013-12-02 17:00:06+00:00) to 2013/2013112309.dat because destination does not exist\n",
        "Retrieved 415186 bytes from HourlyData/Archive/2013/2013112310.dat, modtime 2013-12-02 17:00:06+00:00"
       ]
      },
      {
       "output_type": "stream",
       "stream": "stdout",
       "text": [
        "\n",
        "Copied HourlyData/Archive/2013/2013112310.dat (415186 bytes, modtime 2013-12-02 17:00:06+00:00) to 2013/2013112310.dat because destination does not exist\n",
        "Retrieved 414753 bytes from HourlyData/Archive/2013/2013112311.dat, modtime 2013-12-02 17:00:06+00:00"
       ]
      },
      {
       "output_type": "stream",
       "stream": "stdout",
       "text": [
        "\n",
        "Copied HourlyData/Archive/2013/2013112311.dat (414753 bytes, modtime 2013-12-02 17:00:06+00:00) to 2013/2013112311.dat because destination does not exist\n",
        "Retrieved 410453 bytes from HourlyData/Archive/2013/2013112312.dat, modtime 2013-12-02 17:00:06+00:00"
       ]
      },
      {
       "output_type": "stream",
       "stream": "stdout",
       "text": [
        "\n",
        "Copied HourlyData/Archive/2013/2013112312.dat (410453 bytes, modtime 2013-12-02 17:00:06+00:00) to 2013/2013112312.dat because destination does not exist\n",
        "Retrieved 419902 bytes from HourlyData/Archive/2013/2013112313.dat, modtime 2013-12-02 17:00:06+00:00"
       ]
      },
      {
       "output_type": "stream",
       "stream": "stdout",
       "text": [
        "\n",
        "Copied HourlyData/Archive/2013/2013112313.dat (419902 bytes, modtime 2013-12-02 17:00:06+00:00) to 2013/2013112313.dat because destination does not exist\n",
        "Retrieved 421320 bytes from HourlyData/Archive/2013/2013112314.dat, modtime 2013-12-02 17:00:06+00:00"
       ]
      },
      {
       "output_type": "stream",
       "stream": "stdout",
       "text": [
        "\n",
        "Copied HourlyData/Archive/2013/2013112314.dat (421320 bytes, modtime 2013-12-02 17:00:06+00:00) to 2013/2013112314.dat because destination does not exist\n",
        "Retrieved 420810 bytes from HourlyData/Archive/2013/2013112315.dat, modtime 2013-12-02 17:00:06+00:00"
       ]
      },
      {
       "output_type": "stream",
       "stream": "stdout",
       "text": [
        "\n",
        "Copied HourlyData/Archive/2013/2013112315.dat (420810 bytes, modtime 2013-12-02 17:00:06+00:00) to 2013/2013112315.dat because destination does not exist\n",
        "Retrieved 420678 bytes from HourlyData/Archive/2013/2013112316.dat, modtime 2013-12-02 17:00:06+00:00"
       ]
      },
      {
       "output_type": "stream",
       "stream": "stdout",
       "text": [
        "\n",
        "Copied HourlyData/Archive/2013/2013112316.dat (420678 bytes, modtime 2013-12-02 17:00:06+00:00) to 2013/2013112316.dat because destination does not exist\n",
        "Retrieved 419166 bytes from HourlyData/Archive/2013/2013112317.dat, modtime 2013-12-03 17:00:06+00:00"
       ]
      },
      {
       "output_type": "stream",
       "stream": "stdout",
       "text": [
        "\n",
        "Copied HourlyData/Archive/2013/2013112317.dat (419166 bytes, modtime 2013-12-03 17:00:06+00:00) to 2013/2013112317.dat because destination does not exist\n",
        "Retrieved 419411 bytes from HourlyData/Archive/2013/2013112318.dat, modtime 2013-12-03 17:00:06+00:00"
       ]
      },
      {
       "output_type": "stream",
       "stream": "stdout",
       "text": [
        "\n",
        "Copied HourlyData/Archive/2013/2013112318.dat (419411 bytes, modtime 2013-12-03 17:00:06+00:00) to 2013/2013112318.dat because destination does not exist\n",
        "Retrieved 419394 bytes from HourlyData/Archive/2013/2013112319.dat, modtime 2013-12-03 17:00:06+00:00"
       ]
      },
      {
       "output_type": "stream",
       "stream": "stdout",
       "text": [
        "\n",
        "Copied HourlyData/Archive/2013/2013112319.dat (419394 bytes, modtime 2013-12-03 17:00:06+00:00) to 2013/2013112319.dat because destination does not exist\n",
        "Retrieved 418936 bytes from HourlyData/Archive/2013/2013112320.dat, modtime 2013-12-03 17:00:06+00:00"
       ]
      },
      {
       "output_type": "stream",
       "stream": "stdout",
       "text": [
        "\n",
        "Copied HourlyData/Archive/2013/2013112320.dat (418936 bytes, modtime 2013-12-03 17:00:06+00:00) to 2013/2013112320.dat because destination does not exist\n",
        "Retrieved 419126 bytes from HourlyData/Archive/2013/2013112321.dat, modtime 2013-12-03 17:00:06+00:00"
       ]
      },
      {
       "output_type": "stream",
       "stream": "stdout",
       "text": [
        "\n",
        "Copied HourlyData/Archive/2013/2013112321.dat (419126 bytes, modtime 2013-12-03 17:00:06+00:00) to 2013/2013112321.dat because destination does not exist\n",
        "Retrieved 419553 bytes from HourlyData/Archive/2013/2013112322.dat, modtime 2013-12-03 17:00:06+00:00"
       ]
      },
      {
       "output_type": "stream",
       "stream": "stdout",
       "text": [
        "\n",
        "Copied HourlyData/Archive/2013/2013112322.dat (419553 bytes, modtime 2013-12-03 17:00:06+00:00) to 2013/2013112322.dat because destination does not exist\n",
        "Retrieved 418385 bytes from HourlyData/Archive/2013/2013112323.dat, modtime 2013-12-03 17:00:06+00:00"
       ]
      },
      {
       "output_type": "stream",
       "stream": "stdout",
       "text": [
        "\n",
        "Copied HourlyData/Archive/2013/2013112323.dat (418385 bytes, modtime 2013-12-03 17:00:06+00:00) to 2013/2013112323.dat because destination does not exist\n",
        "Retrieved 421948 bytes from HourlyData/Archive/2013/2013112400.dat, modtime 2013-12-03 17:00:06+00:00"
       ]
      },
      {
       "output_type": "stream",
       "stream": "stdout",
       "text": [
        "\n",
        "Copied HourlyData/Archive/2013/2013112400.dat (421948 bytes, modtime 2013-12-03 17:00:06+00:00) to 2013/2013112400.dat because destination does not exist\n",
        "Retrieved 420339 bytes from HourlyData/Archive/2013/2013112401.dat, modtime 2013-12-03 17:00:06+00:00"
       ]
      },
      {
       "output_type": "stream",
       "stream": "stdout",
       "text": [
        "\n",
        "Copied HourlyData/Archive/2013/2013112401.dat (420339 bytes, modtime 2013-12-03 17:00:06+00:00) to 2013/2013112401.dat because destination does not exist\n",
        "Retrieved 421608 bytes from HourlyData/Archive/2013/2013112402.dat, modtime 2013-12-03 17:00:06+00:00"
       ]
      },
      {
       "output_type": "stream",
       "stream": "stdout",
       "text": [
        "\n",
        "Copied HourlyData/Archive/2013/2013112402.dat (421608 bytes, modtime 2013-12-03 17:00:06+00:00) to 2013/2013112402.dat because destination does not exist\n",
        "Retrieved 416585 bytes from HourlyData/Archive/2013/2013112403.dat, modtime 2013-12-03 17:00:06+00:00"
       ]
      },
      {
       "output_type": "stream",
       "stream": "stdout",
       "text": [
        "\n",
        "Copied HourlyData/Archive/2013/2013112403.dat (416585 bytes, modtime 2013-12-03 17:00:06+00:00) to 2013/2013112403.dat because destination does not exist\n",
        "Retrieved 396187 bytes from HourlyData/Archive/2013/2013112404.dat, modtime 2013-12-03 17:00:06+00:00"
       ]
      },
      {
       "output_type": "stream",
       "stream": "stdout",
       "text": [
        "\n",
        "Copied HourlyData/Archive/2013/2013112404.dat (396187 bytes, modtime 2013-12-03 17:00:06+00:00) to 2013/2013112404.dat because destination does not exist\n",
        "Retrieved 404135 bytes from HourlyData/Archive/2013/2013112405.dat, modtime 2013-12-03 17:00:06+00:00"
       ]
      },
      {
       "output_type": "stream",
       "stream": "stdout",
       "text": [
        "\n",
        "Copied HourlyData/Archive/2013/2013112405.dat (404135 bytes, modtime 2013-12-03 17:00:06+00:00) to 2013/2013112405.dat because destination does not exist\n",
        "Retrieved 416112 bytes from HourlyData/Archive/2013/2013112406.dat, modtime 2013-12-03 17:00:06+00:00"
       ]
      },
      {
       "output_type": "stream",
       "stream": "stdout",
       "text": [
        "\n",
        "Copied HourlyData/Archive/2013/2013112406.dat (416112 bytes, modtime 2013-12-03 17:00:06+00:00) to 2013/2013112406.dat because destination does not exist\n",
        "Retrieved 411558 bytes from HourlyData/Archive/2013/2013112407.dat, modtime 2013-12-03 17:00:06+00:00"
       ]
      },
      {
       "output_type": "stream",
       "stream": "stdout",
       "text": [
        "\n",
        "Copied HourlyData/Archive/2013/2013112407.dat (411558 bytes, modtime 2013-12-03 17:00:06+00:00) to 2013/2013112407.dat because destination does not exist\n",
        "Retrieved 417707 bytes from HourlyData/Archive/2013/2013112408.dat, modtime 2013-12-03 17:00:06+00:00"
       ]
      },
      {
       "output_type": "stream",
       "stream": "stdout",
       "text": [
        "\n",
        "Copied HourlyData/Archive/2013/2013112408.dat (417707 bytes, modtime 2013-12-03 17:00:06+00:00) to 2013/2013112408.dat because destination does not exist\n",
        "Retrieved 418510 bytes from HourlyData/Archive/2013/2013112409.dat, modtime 2013-12-03 17:00:06+00:00"
       ]
      },
      {
       "output_type": "stream",
       "stream": "stdout",
       "text": [
        "\n",
        "Copied HourlyData/Archive/2013/2013112409.dat (418510 bytes, modtime 2013-12-03 17:00:06+00:00) to 2013/2013112409.dat because destination does not exist\n",
        "Retrieved 419672 bytes from HourlyData/Archive/2013/2013112410.dat, modtime 2013-12-03 17:00:06+00:00"
       ]
      },
      {
       "output_type": "stream",
       "stream": "stdout",
       "text": [
        "\n",
        "Copied HourlyData/Archive/2013/2013112410.dat (419672 bytes, modtime 2013-12-03 17:00:06+00:00) to 2013/2013112410.dat because destination does not exist\n",
        "Retrieved 415261 bytes from HourlyData/Archive/2013/2013112411.dat, modtime 2013-12-03 17:00:06+00:00"
       ]
      },
      {
       "output_type": "stream",
       "stream": "stdout",
       "text": [
        "\n",
        "Copied HourlyData/Archive/2013/2013112411.dat (415261 bytes, modtime 2013-12-03 17:00:06+00:00) to 2013/2013112411.dat because destination does not exist\n",
        "Retrieved 412693 bytes from HourlyData/Archive/2013/2013112412.dat, modtime 2013-12-03 17:00:06+00:00"
       ]
      },
      {
       "output_type": "stream",
       "stream": "stdout",
       "text": [
        "\n",
        "Copied HourlyData/Archive/2013/2013112412.dat (412693 bytes, modtime 2013-12-03 17:00:06+00:00) to 2013/2013112412.dat because destination does not exist\n",
        "Retrieved 421341 bytes from HourlyData/Archive/2013/2013112413.dat, modtime 2013-12-03 17:00:06+00:00"
       ]
      },
      {
       "output_type": "stream",
       "stream": "stdout",
       "text": [
        "\n",
        "Copied HourlyData/Archive/2013/2013112413.dat (421341 bytes, modtime 2013-12-03 17:00:06+00:00) to 2013/2013112413.dat because destination does not exist\n",
        "Retrieved 422406 bytes from HourlyData/Archive/2013/2013112414.dat, modtime 2013-12-03 17:00:06+00:00"
       ]
      },
      {
       "output_type": "stream",
       "stream": "stdout",
       "text": [
        "\n",
        "Copied HourlyData/Archive/2013/2013112414.dat (422406 bytes, modtime 2013-12-03 17:00:06+00:00) to 2013/2013112414.dat because destination does not exist\n",
        "Retrieved 421780 bytes from HourlyData/Archive/2013/2013112415.dat, modtime 2013-12-03 17:00:06+00:00"
       ]
      },
      {
       "output_type": "stream",
       "stream": "stdout",
       "text": [
        "\n",
        "Copied HourlyData/Archive/2013/2013112415.dat (421780 bytes, modtime 2013-12-03 17:00:06+00:00) to 2013/2013112415.dat because destination does not exist\n",
        "Retrieved 423465 bytes from HourlyData/Archive/2013/2013112416.dat, modtime 2013-12-03 17:00:06+00:00"
       ]
      },
      {
       "output_type": "stream",
       "stream": "stdout",
       "text": [
        "\n",
        "Copied HourlyData/Archive/2013/2013112416.dat (423465 bytes, modtime 2013-12-03 17:00:06+00:00) to 2013/2013112416.dat because destination does not exist\n",
        "Retrieved 424198 bytes from HourlyData/Archive/2013/2013112417.dat, modtime 2013-12-04 17:00:06+00:00"
       ]
      },
      {
       "output_type": "stream",
       "stream": "stdout",
       "text": [
        "\n",
        "Copied HourlyData/Archive/2013/2013112417.dat (424198 bytes, modtime 2013-12-04 17:00:06+00:00) to 2013/2013112417.dat because destination does not exist\n",
        "Retrieved 423541 bytes from HourlyData/Archive/2013/2013112418.dat, modtime 2013-12-04 17:00:06+00:00"
       ]
      },
      {
       "output_type": "stream",
       "stream": "stdout",
       "text": [
        "\n",
        "Copied HourlyData/Archive/2013/2013112418.dat (423541 bytes, modtime 2013-12-04 17:00:06+00:00) to 2013/2013112418.dat because destination does not exist\n",
        "Retrieved 424458 bytes from HourlyData/Archive/2013/2013112419.dat, modtime 2013-12-04 17:00:06+00:00"
       ]
      },
      {
       "output_type": "stream",
       "stream": "stdout",
       "text": [
        "\n",
        "Copied HourlyData/Archive/2013/2013112419.dat (424458 bytes, modtime 2013-12-04 17:00:06+00:00) to 2013/2013112419.dat because destination does not exist\n",
        "Retrieved 423072 bytes from HourlyData/Archive/2013/2013112420.dat, modtime 2013-12-04 17:00:06+00:00"
       ]
      },
      {
       "output_type": "stream",
       "stream": "stdout",
       "text": [
        "\n",
        "Copied HourlyData/Archive/2013/2013112420.dat (423072 bytes, modtime 2013-12-04 17:00:06+00:00) to 2013/2013112420.dat because destination does not exist\n",
        "Retrieved 423501 bytes from HourlyData/Archive/2013/2013112421.dat, modtime 2013-12-04 17:00:06+00:00"
       ]
      },
      {
       "output_type": "stream",
       "stream": "stdout",
       "text": [
        "\n",
        "Copied HourlyData/Archive/2013/2013112421.dat (423501 bytes, modtime 2013-12-04 17:00:06+00:00) to 2013/2013112421.dat because destination does not exist\n",
        "Retrieved 421070 bytes from HourlyData/Archive/2013/2013112422.dat, modtime 2013-12-04 17:00:06+00:00"
       ]
      },
      {
       "output_type": "stream",
       "stream": "stdout",
       "text": [
        "\n",
        "Copied HourlyData/Archive/2013/2013112422.dat (421070 bytes, modtime 2013-12-04 17:00:06+00:00) to 2013/2013112422.dat because destination does not exist\n",
        "Retrieved 423906 bytes from HourlyData/Archive/2013/2013112423.dat, modtime 2013-12-04 17:00:06+00:00"
       ]
      },
      {
       "output_type": "stream",
       "stream": "stdout",
       "text": [
        "\n",
        "Copied HourlyData/Archive/2013/2013112423.dat (423906 bytes, modtime 2013-12-04 17:00:06+00:00) to 2013/2013112423.dat because destination does not exist\n",
        "Retrieved 424531 bytes from HourlyData/Archive/2013/2013112500.dat, modtime 2013-12-04 17:00:06+00:00"
       ]
      },
      {
       "output_type": "stream",
       "stream": "stdout",
       "text": [
        "\n",
        "Copied HourlyData/Archive/2013/2013112500.dat (424531 bytes, modtime 2013-12-04 17:00:06+00:00) to 2013/2013112500.dat because destination does not exist\n",
        "Retrieved 423952 bytes from HourlyData/Archive/2013/2013112501.dat, modtime 2013-12-04 17:00:06+00:00"
       ]
      },
      {
       "output_type": "stream",
       "stream": "stdout",
       "text": [
        "\n",
        "Copied HourlyData/Archive/2013/2013112501.dat (423952 bytes, modtime 2013-12-04 17:00:06+00:00) to 2013/2013112501.dat because destination does not exist\n",
        "Retrieved 422615 bytes from HourlyData/Archive/2013/2013112502.dat, modtime 2013-12-04 17:00:06+00:00"
       ]
      },
      {
       "output_type": "stream",
       "stream": "stdout",
       "text": [
        "\n",
        "Copied HourlyData/Archive/2013/2013112502.dat (422615 bytes, modtime 2013-12-04 17:00:06+00:00) to 2013/2013112502.dat because destination does not exist\n",
        "Retrieved 420575 bytes from HourlyData/Archive/2013/2013112503.dat, modtime 2013-12-04 17:00:06+00:00"
       ]
      },
      {
       "output_type": "stream",
       "stream": "stdout",
       "text": [
        "\n",
        "Copied HourlyData/Archive/2013/2013112503.dat (420575 bytes, modtime 2013-12-04 17:00:06+00:00) to 2013/2013112503.dat because destination does not exist\n",
        "Retrieved 410379 bytes from HourlyData/Archive/2013/2013112504.dat, modtime 2013-12-04 17:00:06+00:00"
       ]
      },
      {
       "output_type": "stream",
       "stream": "stdout",
       "text": [
        "\n",
        "Copied HourlyData/Archive/2013/2013112504.dat (410379 bytes, modtime 2013-12-04 17:00:06+00:00) to 2013/2013112504.dat because destination does not exist\n",
        "Retrieved 422672 bytes from HourlyData/Archive/2013/2013112505.dat, modtime 2013-12-04 17:00:06+00:00"
       ]
      },
      {
       "output_type": "stream",
       "stream": "stdout",
       "text": [
        "\n",
        "Copied HourlyData/Archive/2013/2013112505.dat (422672 bytes, modtime 2013-12-04 17:00:06+00:00) to 2013/2013112505.dat because destination does not exist\n",
        "Retrieved 420057 bytes from HourlyData/Archive/2013/2013112506.dat, modtime 2013-12-04 17:00:06+00:00"
       ]
      },
      {
       "output_type": "stream",
       "stream": "stdout",
       "text": [
        "\n",
        "Copied HourlyData/Archive/2013/2013112506.dat (420057 bytes, modtime 2013-12-04 17:00:06+00:00) to 2013/2013112506.dat because destination does not exist\n",
        "Retrieved 412397 bytes from HourlyData/Archive/2013/2013112507.dat, modtime 2013-12-04 17:00:06+00:00"
       ]
      },
      {
       "output_type": "stream",
       "stream": "stdout",
       "text": [
        "\n",
        "Copied HourlyData/Archive/2013/2013112507.dat (412397 bytes, modtime 2013-12-04 17:00:06+00:00) to 2013/2013112507.dat because destination does not exist\n",
        "Retrieved 417869 bytes from HourlyData/Archive/2013/2013112508.dat, modtime 2013-12-04 17:00:06+00:00"
       ]
      },
      {
       "output_type": "stream",
       "stream": "stdout",
       "text": [
        "\n",
        "Copied HourlyData/Archive/2013/2013112508.dat (417869 bytes, modtime 2013-12-04 17:00:06+00:00) to 2013/2013112508.dat because destination does not exist\n",
        "Retrieved 419071 bytes from HourlyData/Archive/2013/2013112509.dat, modtime 2013-12-04 17:00:06+00:00"
       ]
      },
      {
       "output_type": "stream",
       "stream": "stdout",
       "text": [
        "\n",
        "Copied HourlyData/Archive/2013/2013112509.dat (419071 bytes, modtime 2013-12-04 17:00:06+00:00) to 2013/2013112509.dat because destination does not exist\n",
        "Retrieved 419260 bytes from HourlyData/Archive/2013/2013112510.dat, modtime 2013-12-04 17:00:06+00:00"
       ]
      },
      {
       "output_type": "stream",
       "stream": "stdout",
       "text": [
        "\n",
        "Copied HourlyData/Archive/2013/2013112510.dat (419260 bytes, modtime 2013-12-04 17:00:06+00:00) to 2013/2013112510.dat because destination does not exist\n",
        "Retrieved 414101 bytes from HourlyData/Archive/2013/2013112511.dat, modtime 2013-12-04 17:00:06+00:00"
       ]
      },
      {
       "output_type": "stream",
       "stream": "stdout",
       "text": [
        "\n",
        "Copied HourlyData/Archive/2013/2013112511.dat (414101 bytes, modtime 2013-12-04 17:00:06+00:00) to 2013/2013112511.dat because destination does not exist\n",
        "Retrieved 410505 bytes from HourlyData/Archive/2013/2013112512.dat, modtime 2013-12-04 17:00:06+00:00"
       ]
      },
      {
       "output_type": "stream",
       "stream": "stdout",
       "text": [
        "\n",
        "Copied HourlyData/Archive/2013/2013112512.dat (410505 bytes, modtime 2013-12-04 17:00:06+00:00) to 2013/2013112512.dat because destination does not exist\n",
        "Retrieved 419186 bytes from HourlyData/Archive/2013/2013112513.dat, modtime 2013-12-04 17:00:06+00:00"
       ]
      },
      {
       "output_type": "stream",
       "stream": "stdout",
       "text": [
        "\n",
        "Copied HourlyData/Archive/2013/2013112513.dat (419186 bytes, modtime 2013-12-04 17:00:06+00:00) to 2013/2013112513.dat because destination does not exist\n",
        "Retrieved 416822 bytes from HourlyData/Archive/2013/2013112514.dat, modtime 2013-12-04 17:00:06+00:00"
       ]
      },
      {
       "output_type": "stream",
       "stream": "stdout",
       "text": [
        "\n",
        "Copied HourlyData/Archive/2013/2013112514.dat (416822 bytes, modtime 2013-12-04 17:00:06+00:00) to 2013/2013112514.dat because destination does not exist\n",
        "Retrieved 416659 bytes from HourlyData/Archive/2013/2013112515.dat, modtime 2013-12-04 17:00:06+00:00"
       ]
      },
      {
       "output_type": "stream",
       "stream": "stdout",
       "text": [
        "\n",
        "Copied HourlyData/Archive/2013/2013112515.dat (416659 bytes, modtime 2013-12-04 17:00:06+00:00) to 2013/2013112515.dat because destination does not exist\n",
        "Retrieved 415368 bytes from HourlyData/Archive/2013/2013112516.dat, modtime 2013-12-04 17:00:06+00:00"
       ]
      },
      {
       "output_type": "stream",
       "stream": "stdout",
       "text": [
        "\n",
        "Copied HourlyData/Archive/2013/2013112516.dat (415368 bytes, modtime 2013-12-04 17:00:06+00:00) to 2013/2013112516.dat because destination does not exist\n",
        "Retrieved 416689 bytes from HourlyData/Archive/2013/2013112517.dat, modtime 2013-12-05 17:00:06+00:00"
       ]
      },
      {
       "output_type": "stream",
       "stream": "stdout",
       "text": [
        "\n",
        "Copied HourlyData/Archive/2013/2013112517.dat (416689 bytes, modtime 2013-12-05 17:00:06+00:00) to 2013/2013112517.dat because destination does not exist\n",
        "Retrieved 415678 bytes from HourlyData/Archive/2013/2013112518.dat, modtime 2013-12-05 17:00:06+00:00"
       ]
      },
      {
       "output_type": "stream",
       "stream": "stdout",
       "text": [
        "\n",
        "Copied HourlyData/Archive/2013/2013112518.dat (415678 bytes, modtime 2013-12-05 17:00:06+00:00) to 2013/2013112518.dat because destination does not exist\n",
        "Retrieved 415759 bytes from HourlyData/Archive/2013/2013112519.dat, modtime 2013-12-05 17:00:06+00:00"
       ]
      },
      {
       "output_type": "stream",
       "stream": "stdout",
       "text": [
        "\n",
        "Copied HourlyData/Archive/2013/2013112519.dat (415759 bytes, modtime 2013-12-05 17:00:06+00:00) to 2013/2013112519.dat because destination does not exist\n",
        "Retrieved 417227 bytes from HourlyData/Archive/2013/2013112520.dat, modtime 2013-12-05 17:00:06+00:00"
       ]
      },
      {
       "output_type": "stream",
       "stream": "stdout",
       "text": [
        "\n",
        "Copied HourlyData/Archive/2013/2013112520.dat (417227 bytes, modtime 2013-12-05 17:00:06+00:00) to 2013/2013112520.dat because destination does not exist\n",
        "Retrieved 414705 bytes from HourlyData/Archive/2013/2013112521.dat, modtime 2013-12-05 17:00:06+00:00"
       ]
      },
      {
       "output_type": "stream",
       "stream": "stdout",
       "text": [
        "\n",
        "Copied HourlyData/Archive/2013/2013112521.dat (414705 bytes, modtime 2013-12-05 17:00:06+00:00) to 2013/2013112521.dat because destination does not exist\n",
        "Retrieved 420339 bytes from HourlyData/Archive/2013/2013112522.dat, modtime 2013-12-05 17:00:06+00:00"
       ]
      },
      {
       "output_type": "stream",
       "stream": "stdout",
       "text": [
        "\n",
        "Copied HourlyData/Archive/2013/2013112522.dat (420339 bytes, modtime 2013-12-05 17:00:06+00:00) to 2013/2013112522.dat because destination does not exist\n",
        "Retrieved 424377 bytes from HourlyData/Archive/2013/2013112523.dat, modtime 2013-12-05 17:00:06+00:00"
       ]
      },
      {
       "output_type": "stream",
       "stream": "stdout",
       "text": [
        "\n",
        "Copied HourlyData/Archive/2013/2013112523.dat (424377 bytes, modtime 2013-12-05 17:00:06+00:00) to 2013/2013112523.dat because destination does not exist\n",
        "Retrieved 425632 bytes from HourlyData/Archive/2013/2013112600.dat, modtime 2013-12-05 17:00:06+00:00"
       ]
      },
      {
       "output_type": "stream",
       "stream": "stdout",
       "text": [
        "\n",
        "Copied HourlyData/Archive/2013/2013112600.dat (425632 bytes, modtime 2013-12-05 17:00:06+00:00) to 2013/2013112600.dat because destination does not exist\n",
        "Retrieved 423740 bytes from HourlyData/Archive/2013/2013112601.dat, modtime 2013-12-05 17:00:06+00:00"
       ]
      },
      {
       "output_type": "stream",
       "stream": "stdout",
       "text": [
        "\n",
        "Copied HourlyData/Archive/2013/2013112601.dat (423740 bytes, modtime 2013-12-05 17:00:06+00:00) to 2013/2013112601.dat because destination does not exist\n",
        "Retrieved 424276 bytes from HourlyData/Archive/2013/2013112602.dat, modtime 2013-12-05 17:00:06+00:00"
       ]
      },
      {
       "output_type": "stream",
       "stream": "stdout",
       "text": [
        "\n",
        "Copied HourlyData/Archive/2013/2013112602.dat (424276 bytes, modtime 2013-12-05 17:00:06+00:00) to 2013/2013112602.dat because destination does not exist\n",
        "Retrieved 422059 bytes from HourlyData/Archive/2013/2013112603.dat, modtime 2013-12-05 17:00:06+00:00"
       ]
      },
      {
       "output_type": "stream",
       "stream": "stdout",
       "text": [
        "\n",
        "Copied HourlyData/Archive/2013/2013112603.dat (422059 bytes, modtime 2013-12-05 17:00:06+00:00) to 2013/2013112603.dat because destination does not exist\n",
        "Retrieved 410202 bytes from HourlyData/Archive/2013/2013112604.dat, modtime 2013-12-05 17:00:06+00:00"
       ]
      },
      {
       "output_type": "stream",
       "stream": "stdout",
       "text": [
        "\n",
        "Copied HourlyData/Archive/2013/2013112604.dat (410202 bytes, modtime 2013-12-05 17:00:06+00:00) to 2013/2013112604.dat because destination does not exist\n",
        "Retrieved 424163 bytes from HourlyData/Archive/2013/2013112605.dat, modtime 2013-12-05 17:00:06+00:00"
       ]
      },
      {
       "output_type": "stream",
       "stream": "stdout",
       "text": [
        "\n",
        "Copied HourlyData/Archive/2013/2013112605.dat (424163 bytes, modtime 2013-12-05 17:00:06+00:00) to 2013/2013112605.dat because destination does not exist\n",
        "Retrieved 421181 bytes from HourlyData/Archive/2013/2013112606.dat, modtime 2013-12-05 17:00:06+00:00"
       ]
      },
      {
       "output_type": "stream",
       "stream": "stdout",
       "text": [
        "\n",
        "Copied HourlyData/Archive/2013/2013112606.dat (421181 bytes, modtime 2013-12-05 17:00:06+00:00) to 2013/2013112606.dat because destination does not exist\n",
        "Retrieved 419464 bytes from HourlyData/Archive/2013/2013112607.dat, modtime 2013-12-05 17:00:06+00:00"
       ]
      },
      {
       "output_type": "stream",
       "stream": "stdout",
       "text": [
        "\n",
        "Copied HourlyData/Archive/2013/2013112607.dat (419464 bytes, modtime 2013-12-05 17:00:06+00:00) to 2013/2013112607.dat because destination does not exist\n",
        "Retrieved 422182 bytes from HourlyData/Archive/2013/2013112608.dat, modtime 2013-12-05 17:00:06+00:00"
       ]
      },
      {
       "output_type": "stream",
       "stream": "stdout",
       "text": [
        "\n",
        "Copied HourlyData/Archive/2013/2013112608.dat (422182 bytes, modtime 2013-12-05 17:00:06+00:00) to 2013/2013112608.dat because destination does not exist\n",
        "Retrieved 418984 bytes from HourlyData/Archive/2013/2013112609.dat, modtime 2013-12-05 17:00:06+00:00"
       ]
      },
      {
       "output_type": "stream",
       "stream": "stdout",
       "text": [
        "\n",
        "Copied HourlyData/Archive/2013/2013112609.dat (418984 bytes, modtime 2013-12-05 17:00:06+00:00) to 2013/2013112609.dat because destination does not exist\n",
        "Retrieved 419038 bytes from HourlyData/Archive/2013/2013112610.dat, modtime 2013-12-05 17:00:06+00:00"
       ]
      },
      {
       "output_type": "stream",
       "stream": "stdout",
       "text": [
        "\n",
        "Copied HourlyData/Archive/2013/2013112610.dat (419038 bytes, modtime 2013-12-05 17:00:06+00:00) to 2013/2013112610.dat because destination does not exist\n",
        "Retrieved 418839 bytes from HourlyData/Archive/2013/2013112611.dat, modtime 2013-12-05 17:00:06+00:00"
       ]
      },
      {
       "output_type": "stream",
       "stream": "stdout",
       "text": [
        "\n",
        "Copied HourlyData/Archive/2013/2013112611.dat (418839 bytes, modtime 2013-12-05 17:00:06+00:00) to 2013/2013112611.dat because destination does not exist\n",
        "Retrieved 415724 bytes from HourlyData/Archive/2013/2013112612.dat, modtime 2013-12-05 17:00:06+00:00"
       ]
      },
      {
       "output_type": "stream",
       "stream": "stdout",
       "text": [
        "\n",
        "Copied HourlyData/Archive/2013/2013112612.dat (415724 bytes, modtime 2013-12-05 17:00:06+00:00) to 2013/2013112612.dat because destination does not exist\n",
        "Retrieved 424971 bytes from HourlyData/Archive/2013/2013112613.dat, modtime 2013-12-05 17:00:06+00:00"
       ]
      },
      {
       "output_type": "stream",
       "stream": "stdout",
       "text": [
        "\n",
        "Copied HourlyData/Archive/2013/2013112613.dat (424971 bytes, modtime 2013-12-05 17:00:06+00:00) to 2013/2013112613.dat because destination does not exist\n",
        "Retrieved 423922 bytes from HourlyData/Archive/2013/2013112614.dat, modtime 2013-12-05 17:00:06+00:00"
       ]
      },
      {
       "output_type": "stream",
       "stream": "stdout",
       "text": [
        "\n",
        "Copied HourlyData/Archive/2013/2013112614.dat (423922 bytes, modtime 2013-12-05 17:00:06+00:00) to 2013/2013112614.dat because destination does not exist\n",
        "Retrieved 416530 bytes from HourlyData/Archive/2013/2013112615.dat, modtime 2013-12-05 17:00:06+00:00"
       ]
      },
      {
       "output_type": "stream",
       "stream": "stdout",
       "text": [
        "\n",
        "Copied HourlyData/Archive/2013/2013112615.dat (416530 bytes, modtime 2013-12-05 17:00:06+00:00) to 2013/2013112615.dat because destination does not exist\n",
        "Retrieved 418923 bytes from HourlyData/Archive/2013/2013112616.dat, modtime 2013-12-05 17:00:06+00:00"
       ]
      },
      {
       "output_type": "stream",
       "stream": "stdout",
       "text": [
        "\n",
        "Copied HourlyData/Archive/2013/2013112616.dat (418923 bytes, modtime 2013-12-05 17:00:06+00:00) to 2013/2013112616.dat because destination does not exist\n",
        "Retrieved 417174 bytes from HourlyData/Archive/2013/2013112617.dat, modtime 2013-12-06 17:00:06+00:00"
       ]
      },
      {
       "output_type": "stream",
       "stream": "stdout",
       "text": [
        "\n",
        "Copied HourlyData/Archive/2013/2013112617.dat (417174 bytes, modtime 2013-12-06 17:00:06+00:00) to 2013/2013112617.dat because destination does not exist\n",
        "Retrieved 417098 bytes from HourlyData/Archive/2013/2013112618.dat, modtime 2013-12-06 17:00:06+00:00"
       ]
      },
      {
       "output_type": "stream",
       "stream": "stdout",
       "text": [
        "\n",
        "Copied HourlyData/Archive/2013/2013112618.dat (417098 bytes, modtime 2013-12-06 17:00:06+00:00) to 2013/2013112618.dat because destination does not exist\n",
        "Retrieved 418484 bytes from HourlyData/Archive/2013/2013112619.dat, modtime 2013-12-06 17:00:06+00:00"
       ]
      },
      {
       "output_type": "stream",
       "stream": "stdout",
       "text": [
        "\n",
        "Copied HourlyData/Archive/2013/2013112619.dat (418484 bytes, modtime 2013-12-06 17:00:06+00:00) to 2013/2013112619.dat because destination does not exist\n",
        "Retrieved 420945 bytes from HourlyData/Archive/2013/2013112620.dat, modtime 2013-12-06 17:00:06+00:00"
       ]
      },
      {
       "output_type": "stream",
       "stream": "stdout",
       "text": [
        "\n",
        "Copied HourlyData/Archive/2013/2013112620.dat (420945 bytes, modtime 2013-12-06 17:00:06+00:00) to 2013/2013112620.dat because destination does not exist\n",
        "Retrieved 423245 bytes from HourlyData/Archive/2013/2013112621.dat, modtime 2013-12-06 17:00:06+00:00"
       ]
      },
      {
       "output_type": "stream",
       "stream": "stdout",
       "text": [
        "\n",
        "Copied HourlyData/Archive/2013/2013112621.dat (423245 bytes, modtime 2013-12-06 17:00:06+00:00) to 2013/2013112621.dat because destination does not exist\n",
        "Retrieved 422360 bytes from HourlyData/Archive/2013/2013112622.dat, modtime 2013-12-06 17:00:06+00:00"
       ]
      },
      {
       "output_type": "stream",
       "stream": "stdout",
       "text": [
        "\n",
        "Copied HourlyData/Archive/2013/2013112622.dat (422360 bytes, modtime 2013-12-06 17:00:06+00:00) to 2013/2013112622.dat because destination does not exist\n",
        "Retrieved 423640 bytes from HourlyData/Archive/2013/2013112623.dat, modtime 2013-12-06 17:00:06+00:00"
       ]
      },
      {
       "output_type": "stream",
       "stream": "stdout",
       "text": [
        "\n",
        "Copied HourlyData/Archive/2013/2013112623.dat (423640 bytes, modtime 2013-12-06 17:00:06+00:00) to 2013/2013112623.dat because destination does not exist\n",
        "Retrieved 424538 bytes from HourlyData/Archive/2013/2013112700.dat, modtime 2013-12-06 17:00:06+00:00"
       ]
      },
      {
       "output_type": "stream",
       "stream": "stdout",
       "text": [
        "\n",
        "Copied HourlyData/Archive/2013/2013112700.dat (424538 bytes, modtime 2013-12-06 17:00:06+00:00) to 2013/2013112700.dat because destination does not exist\n",
        "Retrieved 425333 bytes from HourlyData/Archive/2013/2013112701.dat, modtime 2013-12-06 17:00:06+00:00"
       ]
      },
      {
       "output_type": "stream",
       "stream": "stdout",
       "text": [
        "\n",
        "Copied HourlyData/Archive/2013/2013112701.dat (425333 bytes, modtime 2013-12-06 17:00:06+00:00) to 2013/2013112701.dat because destination does not exist\n",
        "Retrieved 424404 bytes from HourlyData/Archive/2013/2013112702.dat, modtime 2013-12-06 17:00:06+00:00"
       ]
      },
      {
       "output_type": "stream",
       "stream": "stdout",
       "text": [
        "\n",
        "Copied HourlyData/Archive/2013/2013112702.dat (424404 bytes, modtime 2013-12-06 17:00:06+00:00) to 2013/2013112702.dat because destination does not exist\n",
        "Retrieved 422275 bytes from HourlyData/Archive/2013/2013112703.dat, modtime 2013-12-06 17:00:06+00:00"
       ]
      },
      {
       "output_type": "stream",
       "stream": "stdout",
       "text": [
        "\n",
        "Copied HourlyData/Archive/2013/2013112703.dat (422275 bytes, modtime 2013-12-06 17:00:06+00:00) to 2013/2013112703.dat because destination does not exist\n",
        "Retrieved 411856 bytes from HourlyData/Archive/2013/2013112704.dat, modtime 2013-12-06 17:00:06+00:00"
       ]
      },
      {
       "output_type": "stream",
       "stream": "stdout",
       "text": [
        "\n",
        "Copied HourlyData/Archive/2013/2013112704.dat (411856 bytes, modtime 2013-12-06 17:00:06+00:00) to 2013/2013112704.dat because destination does not exist\n",
        "Retrieved 422354 bytes from HourlyData/Archive/2013/2013112705.dat, modtime 2013-12-06 17:00:06+00:00"
       ]
      },
      {
       "output_type": "stream",
       "stream": "stdout",
       "text": [
        "\n",
        "Copied HourlyData/Archive/2013/2013112705.dat (422354 bytes, modtime 2013-12-06 17:00:06+00:00) to 2013/2013112705.dat because destination does not exist\n",
        "Retrieved 421142 bytes from HourlyData/Archive/2013/2013112706.dat, modtime 2013-12-06 17:00:06+00:00"
       ]
      },
      {
       "output_type": "stream",
       "stream": "stdout",
       "text": [
        "\n",
        "Copied HourlyData/Archive/2013/2013112706.dat (421142 bytes, modtime 2013-12-06 17:00:06+00:00) to 2013/2013112706.dat because destination does not exist\n",
        "Retrieved 418320 bytes from HourlyData/Archive/2013/2013112707.dat, modtime 2013-12-06 17:00:06+00:00"
       ]
      },
      {
       "output_type": "stream",
       "stream": "stdout",
       "text": [
        "\n",
        "Copied HourlyData/Archive/2013/2013112707.dat (418320 bytes, modtime 2013-12-06 17:00:06+00:00) to 2013/2013112707.dat because destination does not exist\n",
        "Retrieved 422466 bytes from HourlyData/Archive/2013/2013112708.dat, modtime 2013-12-06 17:00:06+00:00"
       ]
      },
      {
       "output_type": "stream",
       "stream": "stdout",
       "text": [
        "\n",
        "Copied HourlyData/Archive/2013/2013112708.dat (422466 bytes, modtime 2013-12-06 17:00:06+00:00) to 2013/2013112708.dat because destination does not exist\n",
        "Retrieved 421930 bytes from HourlyData/Archive/2013/2013112709.dat, modtime 2013-12-06 17:00:06+00:00"
       ]
      },
      {
       "output_type": "stream",
       "stream": "stdout",
       "text": [
        "\n",
        "Copied HourlyData/Archive/2013/2013112709.dat (421930 bytes, modtime 2013-12-06 17:00:06+00:00) to 2013/2013112709.dat because destination does not exist\n",
        "Retrieved 424041 bytes from HourlyData/Archive/2013/2013112710.dat, modtime 2013-12-06 17:00:06+00:00"
       ]
      },
      {
       "output_type": "stream",
       "stream": "stdout",
       "text": [
        "\n",
        "Copied HourlyData/Archive/2013/2013112710.dat (424041 bytes, modtime 2013-12-06 17:00:06+00:00) to 2013/2013112710.dat because destination does not exist\n",
        "Retrieved 420198 bytes from HourlyData/Archive/2013/2013112711.dat, modtime 2013-12-06 17:00:06+00:00"
       ]
      },
      {
       "output_type": "stream",
       "stream": "stdout",
       "text": [
        "\n",
        "Copied HourlyData/Archive/2013/2013112711.dat (420198 bytes, modtime 2013-12-06 17:00:06+00:00) to 2013/2013112711.dat because destination does not exist\n",
        "Retrieved 417374 bytes from HourlyData/Archive/2013/2013112712.dat, modtime 2013-12-06 17:00:06+00:00"
       ]
      },
      {
       "output_type": "stream",
       "stream": "stdout",
       "text": [
        "\n",
        "Copied HourlyData/Archive/2013/2013112712.dat (417374 bytes, modtime 2013-12-06 17:00:06+00:00) to 2013/2013112712.dat because destination does not exist\n",
        "Retrieved 425278 bytes from HourlyData/Archive/2013/2013112713.dat, modtime 2013-12-06 17:00:06+00:00"
       ]
      },
      {
       "output_type": "stream",
       "stream": "stdout",
       "text": [
        "\n",
        "Copied HourlyData/Archive/2013/2013112713.dat (425278 bytes, modtime 2013-12-06 17:00:06+00:00) to 2013/2013112713.dat because destination does not exist\n",
        "Retrieved 423334 bytes from HourlyData/Archive/2013/2013112714.dat, modtime 2013-12-06 17:00:06+00:00"
       ]
      },
      {
       "output_type": "stream",
       "stream": "stdout",
       "text": [
        "\n",
        "Copied HourlyData/Archive/2013/2013112714.dat (423334 bytes, modtime 2013-12-06 17:00:06+00:00) to 2013/2013112714.dat because destination does not exist\n",
        "Retrieved 422088 bytes from HourlyData/Archive/2013/2013112715.dat, modtime 2013-12-06 17:00:06+00:00"
       ]
      },
      {
       "output_type": "stream",
       "stream": "stdout",
       "text": [
        "\n",
        "Copied HourlyData/Archive/2013/2013112715.dat (422088 bytes, modtime 2013-12-06 17:00:06+00:00) to 2013/2013112715.dat because destination does not exist\n",
        "Retrieved 419389 bytes from HourlyData/Archive/2013/2013112716.dat, modtime 2013-12-06 17:00:06+00:00"
       ]
      },
      {
       "output_type": "stream",
       "stream": "stdout",
       "text": [
        "\n",
        "Copied HourlyData/Archive/2013/2013112716.dat (419389 bytes, modtime 2013-12-06 17:00:06+00:00) to 2013/2013112716.dat because destination does not exist\n",
        "Retrieved 418901 bytes from HourlyData/Archive/2013/2013112717.dat, modtime 2013-12-09 17:00:06+00:00"
       ]
      },
      {
       "output_type": "stream",
       "stream": "stdout",
       "text": [
        "\n",
        "Copied HourlyData/Archive/2013/2013112717.dat (418901 bytes, modtime 2013-12-09 17:00:06+00:00) to 2013/2013112717.dat because destination does not exist\n",
        "Retrieved 420150 bytes from HourlyData/Archive/2013/2013112718.dat, modtime 2013-12-09 17:00:06+00:00"
       ]
      },
      {
       "output_type": "stream",
       "stream": "stdout",
       "text": [
        "\n",
        "Copied HourlyData/Archive/2013/2013112718.dat (420150 bytes, modtime 2013-12-09 17:00:06+00:00) to 2013/2013112718.dat because destination does not exist\n",
        "Retrieved 416978 bytes from HourlyData/Archive/2013/2013112719.dat, modtime 2013-12-09 17:00:06+00:00"
       ]
      },
      {
       "output_type": "stream",
       "stream": "stdout",
       "text": [
        "\n",
        "Copied HourlyData/Archive/2013/2013112719.dat (416978 bytes, modtime 2013-12-09 17:00:06+00:00) to 2013/2013112719.dat because destination does not exist\n",
        "Retrieved 420564 bytes from HourlyData/Archive/2013/2013112720.dat, modtime 2013-12-09 17:00:06+00:00"
       ]
      },
      {
       "output_type": "stream",
       "stream": "stdout",
       "text": [
        "\n",
        "Copied HourlyData/Archive/2013/2013112720.dat (420564 bytes, modtime 2013-12-09 17:00:06+00:00) to 2013/2013112720.dat because destination does not exist\n",
        "Retrieved 419849 bytes from HourlyData/Archive/2013/2013112721.dat, modtime 2013-12-09 17:00:06+00:00"
       ]
      },
      {
       "output_type": "stream",
       "stream": "stdout",
       "text": [
        "\n",
        "Copied HourlyData/Archive/2013/2013112721.dat (419849 bytes, modtime 2013-12-09 17:00:06+00:00) to 2013/2013112721.dat because destination does not exist\n",
        "Retrieved 421188 bytes from HourlyData/Archive/2013/2013112722.dat, modtime 2013-12-09 17:00:06+00:00"
       ]
      },
      {
       "output_type": "stream",
       "stream": "stdout",
       "text": [
        "\n",
        "Copied HourlyData/Archive/2013/2013112722.dat (421188 bytes, modtime 2013-12-09 17:00:06+00:00) to 2013/2013112722.dat because destination does not exist\n",
        "Retrieved 420942 bytes from HourlyData/Archive/2013/2013112723.dat, modtime 2013-12-09 17:00:06+00:00"
       ]
      },
      {
       "output_type": "stream",
       "stream": "stdout",
       "text": [
        "\n",
        "Copied HourlyData/Archive/2013/2013112723.dat (420942 bytes, modtime 2013-12-09 17:00:06+00:00) to 2013/2013112723.dat because destination does not exist\n",
        "Retrieved 421293 bytes from HourlyData/Archive/2013/2013112800.dat, modtime 2013-12-09 17:00:06+00:00"
       ]
      },
      {
       "output_type": "stream",
       "stream": "stdout",
       "text": [
        "\n",
        "Copied HourlyData/Archive/2013/2013112800.dat (421293 bytes, modtime 2013-12-09 17:00:06+00:00) to 2013/2013112800.dat because destination does not exist\n",
        "Retrieved 420663 bytes from HourlyData/Archive/2013/2013112801.dat, modtime 2013-12-09 17:00:06+00:00"
       ]
      },
      {
       "output_type": "stream",
       "stream": "stdout",
       "text": [
        "\n",
        "Copied HourlyData/Archive/2013/2013112801.dat (420663 bytes, modtime 2013-12-09 17:00:06+00:00) to 2013/2013112801.dat because destination does not exist\n",
        "Retrieved 420357 bytes from HourlyData/Archive/2013/2013112802.dat, modtime 2013-12-09 17:00:06+00:00"
       ]
      },
      {
       "output_type": "stream",
       "stream": "stdout",
       "text": [
        "\n",
        "Copied HourlyData/Archive/2013/2013112802.dat (420357 bytes, modtime 2013-12-09 17:00:06+00:00) to 2013/2013112802.dat because destination does not exist\n",
        "Retrieved 416553 bytes from HourlyData/Archive/2013/2013112803.dat, modtime 2013-12-09 17:00:06+00:00"
       ]
      },
      {
       "output_type": "stream",
       "stream": "stdout",
       "text": [
        "\n",
        "Copied HourlyData/Archive/2013/2013112803.dat (416553 bytes, modtime 2013-12-09 17:00:06+00:00) to 2013/2013112803.dat because destination does not exist\n",
        "Retrieved 400160 bytes from HourlyData/Archive/2013/2013112804.dat, modtime 2013-12-09 17:00:06+00:00"
       ]
      },
      {
       "output_type": "stream",
       "stream": "stdout",
       "text": [
        "\n",
        "Copied HourlyData/Archive/2013/2013112804.dat (400160 bytes, modtime 2013-12-09 17:00:06+00:00) to 2013/2013112804.dat because destination does not exist\n",
        "Retrieved 417641 bytes from HourlyData/Archive/2013/2013112805.dat, modtime 2013-12-09 17:00:06+00:00"
       ]
      },
      {
       "output_type": "stream",
       "stream": "stdout",
       "text": [
        "\n",
        "Copied HourlyData/Archive/2013/2013112805.dat (417641 bytes, modtime 2013-12-09 17:00:06+00:00) to 2013/2013112805.dat because destination does not exist\n",
        "Retrieved 416693 bytes from HourlyData/Archive/2013/2013112806.dat, modtime 2013-12-09 17:00:06+00:00"
       ]
      },
      {
       "output_type": "stream",
       "stream": "stdout",
       "text": [
        "\n",
        "Copied HourlyData/Archive/2013/2013112806.dat (416693 bytes, modtime 2013-12-09 17:00:06+00:00) to 2013/2013112806.dat because destination does not exist\n",
        "Retrieved 411402 bytes from HourlyData/Archive/2013/2013112807.dat, modtime 2013-12-09 17:00:06+00:00"
       ]
      },
      {
       "output_type": "stream",
       "stream": "stdout",
       "text": [
        "\n",
        "Copied HourlyData/Archive/2013/2013112807.dat (411402 bytes, modtime 2013-12-09 17:00:06+00:00) to 2013/2013112807.dat because destination does not exist\n",
        "Retrieved 417577 bytes from HourlyData/Archive/2013/2013112808.dat, modtime 2013-12-09 17:00:06+00:00"
       ]
      },
      {
       "output_type": "stream",
       "stream": "stdout",
       "text": [
        "\n",
        "Copied HourlyData/Archive/2013/2013112808.dat (417577 bytes, modtime 2013-12-09 17:00:06+00:00) to 2013/2013112808.dat because destination does not exist\n",
        "Retrieved 415755 bytes from HourlyData/Archive/2013/2013112809.dat, modtime 2013-12-09 17:00:06+00:00"
       ]
      },
      {
       "output_type": "stream",
       "stream": "stdout",
       "text": [
        "\n",
        "Copied HourlyData/Archive/2013/2013112809.dat (415755 bytes, modtime 2013-12-09 17:00:06+00:00) to 2013/2013112809.dat because destination does not exist\n",
        "Retrieved 416943 bytes from HourlyData/Archive/2013/2013112810.dat, modtime 2013-12-09 17:00:06+00:00"
       ]
      },
      {
       "output_type": "stream",
       "stream": "stdout",
       "text": [
        "\n",
        "Copied HourlyData/Archive/2013/2013112810.dat (416943 bytes, modtime 2013-12-09 17:00:06+00:00) to 2013/2013112810.dat because destination does not exist\n",
        "Retrieved 413809 bytes from HourlyData/Archive/2013/2013112811.dat, modtime 2013-12-09 17:00:06+00:00"
       ]
      },
      {
       "output_type": "stream",
       "stream": "stdout",
       "text": [
        "\n",
        "Copied HourlyData/Archive/2013/2013112811.dat (413809 bytes, modtime 2013-12-09 17:00:06+00:00) to 2013/2013112811.dat because destination does not exist\n",
        "Retrieved 410512 bytes from HourlyData/Archive/2013/2013112812.dat, modtime 2013-12-09 17:00:06+00:00"
       ]
      },
      {
       "output_type": "stream",
       "stream": "stdout",
       "text": [
        "\n",
        "Copied HourlyData/Archive/2013/2013112812.dat (410512 bytes, modtime 2013-12-09 17:00:06+00:00) to 2013/2013112812.dat because destination does not exist\n",
        "Retrieved 419574 bytes from HourlyData/Archive/2013/2013112813.dat, modtime 2013-12-09 17:00:06+00:00"
       ]
      },
      {
       "output_type": "stream",
       "stream": "stdout",
       "text": [
        "\n",
        "Copied HourlyData/Archive/2013/2013112813.dat (419574 bytes, modtime 2013-12-09 17:00:06+00:00) to 2013/2013112813.dat because destination does not exist\n",
        "Retrieved 420237 bytes from HourlyData/Archive/2013/2013112814.dat, modtime 2013-12-09 17:00:06+00:00"
       ]
      },
      {
       "output_type": "stream",
       "stream": "stdout",
       "text": [
        "\n",
        "Copied HourlyData/Archive/2013/2013112814.dat (420237 bytes, modtime 2013-12-09 17:00:06+00:00) to 2013/2013112814.dat because destination does not exist\n",
        "Retrieved 418769 bytes from HourlyData/Archive/2013/2013112815.dat, modtime 2013-12-09 17:00:06+00:00"
       ]
      },
      {
       "output_type": "stream",
       "stream": "stdout",
       "text": [
        "\n",
        "Copied HourlyData/Archive/2013/2013112815.dat (418769 bytes, modtime 2013-12-09 17:00:06+00:00) to 2013/2013112815.dat because destination does not exist\n",
        "Retrieved 418205 bytes from HourlyData/Archive/2013/2013112816.dat, modtime 2013-12-09 17:00:06+00:00"
       ]
      },
      {
       "output_type": "stream",
       "stream": "stdout",
       "text": [
        "\n",
        "Copied HourlyData/Archive/2013/2013112816.dat (418205 bytes, modtime 2013-12-09 17:00:06+00:00) to 2013/2013112816.dat because destination does not exist\n",
        "Retrieved 417540 bytes from HourlyData/Archive/2013/2013112817.dat, modtime 2013-12-09 17:00:06+00:00"
       ]
      },
      {
       "output_type": "stream",
       "stream": "stdout",
       "text": [
        "\n",
        "Copied HourlyData/Archive/2013/2013112817.dat (417540 bytes, modtime 2013-12-09 17:00:06+00:00) to 2013/2013112817.dat because destination does not exist\n",
        "Retrieved 417004 bytes from HourlyData/Archive/2013/2013112818.dat, modtime 2013-12-09 17:00:06+00:00"
       ]
      },
      {
       "output_type": "stream",
       "stream": "stdout",
       "text": [
        "\n",
        "Copied HourlyData/Archive/2013/2013112818.dat (417004 bytes, modtime 2013-12-09 17:00:06+00:00) to 2013/2013112818.dat because destination does not exist\n",
        "Retrieved 418044 bytes from HourlyData/Archive/2013/2013112819.dat, modtime 2013-12-09 17:00:06+00:00"
       ]
      },
      {
       "output_type": "stream",
       "stream": "stdout",
       "text": [
        "\n",
        "Copied HourlyData/Archive/2013/2013112819.dat (418044 bytes, modtime 2013-12-09 17:00:06+00:00) to 2013/2013112819.dat because destination does not exist\n",
        "Retrieved 417120 bytes from HourlyData/Archive/2013/2013112820.dat, modtime 2013-12-09 17:00:06+00:00"
       ]
      },
      {
       "output_type": "stream",
       "stream": "stdout",
       "text": [
        "\n",
        "Copied HourlyData/Archive/2013/2013112820.dat (417120 bytes, modtime 2013-12-09 17:00:06+00:00) to 2013/2013112820.dat because destination does not exist\n",
        "Retrieved 416440 bytes from HourlyData/Archive/2013/2013112821.dat, modtime 2013-12-09 17:00:06+00:00"
       ]
      },
      {
       "output_type": "stream",
       "stream": "stdout",
       "text": [
        "\n",
        "Copied HourlyData/Archive/2013/2013112821.dat (416440 bytes, modtime 2013-12-09 17:00:06+00:00) to 2013/2013112821.dat because destination does not exist\n",
        "Retrieved 413007 bytes from HourlyData/Archive/2013/2013112822.dat, modtime 2013-12-09 17:00:06+00:00"
       ]
      },
      {
       "output_type": "stream",
       "stream": "stdout",
       "text": [
        "\n",
        "Copied HourlyData/Archive/2013/2013112822.dat (413007 bytes, modtime 2013-12-09 17:00:06+00:00) to 2013/2013112822.dat because destination does not exist\n",
        "Retrieved 414086 bytes from HourlyData/Archive/2013/2013112823.dat, modtime 2013-12-09 17:00:06+00:00"
       ]
      },
      {
       "output_type": "stream",
       "stream": "stdout",
       "text": [
        "\n",
        "Copied HourlyData/Archive/2013/2013112823.dat (414086 bytes, modtime 2013-12-09 17:00:06+00:00) to 2013/2013112823.dat because destination does not exist\n",
        "Retrieved 414244 bytes from HourlyData/Archive/2013/2013112900.dat, modtime 2013-12-09 17:00:06+00:00"
       ]
      },
      {
       "output_type": "stream",
       "stream": "stdout",
       "text": [
        "\n",
        "Copied HourlyData/Archive/2013/2013112900.dat (414244 bytes, modtime 2013-12-09 17:00:06+00:00) to 2013/2013112900.dat because destination does not exist\n",
        "Retrieved 413781 bytes from HourlyData/Archive/2013/2013112901.dat, modtime 2013-12-09 17:00:06+00:00"
       ]
      },
      {
       "output_type": "stream",
       "stream": "stdout",
       "text": [
        "\n",
        "Copied HourlyData/Archive/2013/2013112901.dat (413781 bytes, modtime 2013-12-09 17:00:06+00:00) to 2013/2013112901.dat because destination does not exist\n",
        "Retrieved 413278 bytes from HourlyData/Archive/2013/2013112902.dat, modtime 2013-12-09 17:00:06+00:00"
       ]
      },
      {
       "output_type": "stream",
       "stream": "stdout",
       "text": [
        "\n",
        "Copied HourlyData/Archive/2013/2013112902.dat (413278 bytes, modtime 2013-12-09 17:00:06+00:00) to 2013/2013112902.dat because destination does not exist\n",
        "Retrieved 408292 bytes from HourlyData/Archive/2013/2013112903.dat, modtime 2013-12-09 17:00:06+00:00"
       ]
      },
      {
       "output_type": "stream",
       "stream": "stdout",
       "text": [
        "\n",
        "Copied HourlyData/Archive/2013/2013112903.dat (408292 bytes, modtime 2013-12-09 17:00:06+00:00) to 2013/2013112903.dat because destination does not exist\n",
        "Retrieved 394122 bytes from HourlyData/Archive/2013/2013112904.dat, modtime 2013-12-09 17:00:06+00:00"
       ]
      },
      {
       "output_type": "stream",
       "stream": "stdout",
       "text": [
        "\n",
        "Copied HourlyData/Archive/2013/2013112904.dat (394122 bytes, modtime 2013-12-09 17:00:06+00:00) to 2013/2013112904.dat because destination does not exist\n",
        "Retrieved 411938 bytes from HourlyData/Archive/2013/2013112905.dat, modtime 2013-12-09 17:00:06+00:00"
       ]
      },
      {
       "output_type": "stream",
       "stream": "stdout",
       "text": [
        "\n",
        "Copied HourlyData/Archive/2013/2013112905.dat (411938 bytes, modtime 2013-12-09 17:00:06+00:00) to 2013/2013112905.dat because destination does not exist\n",
        "Retrieved 410120 bytes from HourlyData/Archive/2013/2013112906.dat, modtime 2013-12-09 17:00:06+00:00"
       ]
      },
      {
       "output_type": "stream",
       "stream": "stdout",
       "text": [
        "\n",
        "Copied HourlyData/Archive/2013/2013112906.dat (410120 bytes, modtime 2013-12-09 17:00:06+00:00) to 2013/2013112906.dat because destination does not exist\n",
        "Retrieved 407634 bytes from HourlyData/Archive/2013/2013112907.dat, modtime 2013-12-09 17:00:06+00:00"
       ]
      },
      {
       "output_type": "stream",
       "stream": "stdout",
       "text": [
        "\n",
        "Copied HourlyData/Archive/2013/2013112907.dat (407634 bytes, modtime 2013-12-09 17:00:06+00:00) to 2013/2013112907.dat because destination does not exist\n",
        "Retrieved 410186 bytes from HourlyData/Archive/2013/2013112908.dat, modtime 2013-12-09 17:00:06+00:00"
       ]
      },
      {
       "output_type": "stream",
       "stream": "stdout",
       "text": [
        "\n",
        "Copied HourlyData/Archive/2013/2013112908.dat (410186 bytes, modtime 2013-12-09 17:00:06+00:00) to 2013/2013112908.dat because destination does not exist\n",
        "Retrieved 397408 bytes from HourlyData/Archive/2013/2013112909.dat, modtime 2013-12-09 17:00:06+00:00"
       ]
      },
      {
       "output_type": "stream",
       "stream": "stdout",
       "text": [
        "\n",
        "Copied HourlyData/Archive/2013/2013112909.dat (397408 bytes, modtime 2013-12-09 17:00:06+00:00) to 2013/2013112909.dat because destination does not exist\n",
        "Retrieved 409280 bytes from HourlyData/Archive/2013/2013112910.dat, modtime 2013-12-09 17:00:06+00:00"
       ]
      },
      {
       "output_type": "stream",
       "stream": "stdout",
       "text": [
        "\n",
        "Copied HourlyData/Archive/2013/2013112910.dat (409280 bytes, modtime 2013-12-09 17:00:06+00:00) to 2013/2013112910.dat because destination does not exist\n",
        "Retrieved 407922 bytes from HourlyData/Archive/2013/2013112911.dat, modtime 2013-12-09 17:00:06+00:00"
       ]
      },
      {
       "output_type": "stream",
       "stream": "stdout",
       "text": [
        "\n",
        "Copied HourlyData/Archive/2013/2013112911.dat (407922 bytes, modtime 2013-12-09 17:00:06+00:00) to 2013/2013112911.dat because destination does not exist\n",
        "Retrieved 403972 bytes from HourlyData/Archive/2013/2013112912.dat, modtime 2013-12-09 17:00:06+00:00"
       ]
      },
      {
       "output_type": "stream",
       "stream": "stdout",
       "text": [
        "\n",
        "Copied HourlyData/Archive/2013/2013112912.dat (403972 bytes, modtime 2013-12-09 17:00:06+00:00) to 2013/2013112912.dat because destination does not exist\n",
        "Retrieved 413374 bytes from HourlyData/Archive/2013/2013112913.dat, modtime 2013-12-09 17:00:06+00:00"
       ]
      },
      {
       "output_type": "stream",
       "stream": "stdout",
       "text": [
        "\n",
        "Copied HourlyData/Archive/2013/2013112913.dat (413374 bytes, modtime 2013-12-09 17:00:06+00:00) to 2013/2013112913.dat because destination does not exist\n",
        "Retrieved 412858 bytes from HourlyData/Archive/2013/2013112914.dat, modtime 2013-12-09 17:00:06+00:00"
       ]
      },
      {
       "output_type": "stream",
       "stream": "stdout",
       "text": [
        "\n",
        "Copied HourlyData/Archive/2013/2013112914.dat (412858 bytes, modtime 2013-12-09 17:00:06+00:00) to 2013/2013112914.dat because destination does not exist\n",
        "Retrieved 412205 bytes from HourlyData/Archive/2013/2013112915.dat, modtime 2013-12-09 17:00:06+00:00"
       ]
      },
      {
       "output_type": "stream",
       "stream": "stdout",
       "text": [
        "\n",
        "Copied HourlyData/Archive/2013/2013112915.dat (412205 bytes, modtime 2013-12-09 17:00:06+00:00) to 2013/2013112915.dat because destination does not exist\n",
        "Retrieved 412694 bytes from HourlyData/Archive/2013/2013112916.dat, modtime 2013-12-09 17:00:06+00:00"
       ]
      },
      {
       "output_type": "stream",
       "stream": "stdout",
       "text": [
        "\n",
        "Copied HourlyData/Archive/2013/2013112916.dat (412694 bytes, modtime 2013-12-09 17:00:06+00:00) to 2013/2013112916.dat because destination does not exist\n",
        "Retrieved 411819 bytes from HourlyData/Archive/2013/2013112917.dat, modtime 2013-12-09 17:00:06+00:00"
       ]
      },
      {
       "output_type": "stream",
       "stream": "stdout",
       "text": [
        "\n",
        "Copied HourlyData/Archive/2013/2013112917.dat (411819 bytes, modtime 2013-12-09 17:00:06+00:00) to 2013/2013112917.dat because destination does not exist\n",
        "Retrieved 411957 bytes from HourlyData/Archive/2013/2013112918.dat, modtime 2013-12-09 17:00:06+00:00"
       ]
      },
      {
       "output_type": "stream",
       "stream": "stdout",
       "text": [
        "\n",
        "Copied HourlyData/Archive/2013/2013112918.dat (411957 bytes, modtime 2013-12-09 17:00:06+00:00) to 2013/2013112918.dat because destination does not exist\n",
        "Retrieved 412529 bytes from HourlyData/Archive/2013/2013112919.dat, modtime 2013-12-09 17:00:06+00:00"
       ]
      },
      {
       "output_type": "stream",
       "stream": "stdout",
       "text": [
        "\n",
        "Copied HourlyData/Archive/2013/2013112919.dat (412529 bytes, modtime 2013-12-09 17:00:06+00:00) to 2013/2013112919.dat because destination does not exist\n",
        "Retrieved 413781 bytes from HourlyData/Archive/2013/2013112920.dat, modtime 2013-12-09 17:00:06+00:00"
       ]
      },
      {
       "output_type": "stream",
       "stream": "stdout",
       "text": [
        "\n",
        "Copied HourlyData/Archive/2013/2013112920.dat (413781 bytes, modtime 2013-12-09 17:00:06+00:00) to 2013/2013112920.dat because destination does not exist\n",
        "Retrieved 414341 bytes from HourlyData/Archive/2013/2013112921.dat, modtime 2013-12-09 17:00:06+00:00"
       ]
      },
      {
       "output_type": "stream",
       "stream": "stdout",
       "text": [
        "\n",
        "Copied HourlyData/Archive/2013/2013112921.dat (414341 bytes, modtime 2013-12-09 17:00:06+00:00) to 2013/2013112921.dat because destination does not exist\n",
        "Retrieved 413086 bytes from HourlyData/Archive/2013/2013112922.dat, modtime 2013-12-09 17:00:06+00:00"
       ]
      },
      {
       "output_type": "stream",
       "stream": "stdout",
       "text": [
        "\n",
        "Copied HourlyData/Archive/2013/2013112922.dat (413086 bytes, modtime 2013-12-09 17:00:06+00:00) to 2013/2013112922.dat because destination does not exist\n",
        "Retrieved 413024 bytes from HourlyData/Archive/2013/2013112923.dat, modtime 2013-12-09 17:00:06+00:00"
       ]
      },
      {
       "output_type": "stream",
       "stream": "stdout",
       "text": [
        "\n",
        "Copied HourlyData/Archive/2013/2013112923.dat (413024 bytes, modtime 2013-12-09 17:00:06+00:00) to 2013/2013112923.dat because destination does not exist\n",
        "Retrieved 419232 bytes from HourlyData/Archive/2013/2013113000.dat, modtime 2013-12-09 17:00:06+00:00"
       ]
      },
      {
       "output_type": "stream",
       "stream": "stdout",
       "text": [
        "\n",
        "Copied HourlyData/Archive/2013/2013113000.dat (419232 bytes, modtime 2013-12-09 17:00:06+00:00) to 2013/2013113000.dat because destination does not exist\n",
        "Retrieved 418251 bytes from HourlyData/Archive/2013/2013113001.dat, modtime 2013-12-09 17:00:06+00:00"
       ]
      },
      {
       "output_type": "stream",
       "stream": "stdout",
       "text": [
        "\n",
        "Copied HourlyData/Archive/2013/2013113001.dat (418251 bytes, modtime 2013-12-09 17:00:06+00:00) to 2013/2013113001.dat because destination does not exist\n",
        "Retrieved 409416 bytes from HourlyData/Archive/2013/2013113002.dat, modtime 2013-12-09 17:00:06+00:00"
       ]
      },
      {
       "output_type": "stream",
       "stream": "stdout",
       "text": [
        "\n",
        "Copied HourlyData/Archive/2013/2013113002.dat (409416 bytes, modtime 2013-12-09 17:00:06+00:00) to 2013/2013113002.dat because destination does not exist\n",
        "Retrieved 404196 bytes from HourlyData/Archive/2013/2013113003.dat, modtime 2013-12-09 17:00:06+00:00"
       ]
      },
      {
       "output_type": "stream",
       "stream": "stdout",
       "text": [
        "\n",
        "Copied HourlyData/Archive/2013/2013113003.dat (404196 bytes, modtime 2013-12-09 17:00:06+00:00) to 2013/2013113003.dat because destination does not exist\n",
        "Retrieved 398312 bytes from HourlyData/Archive/2013/2013113004.dat, modtime 2013-12-09 17:00:06+00:00"
       ]
      },
      {
       "output_type": "stream",
       "stream": "stdout",
       "text": [
        "\n",
        "Copied HourlyData/Archive/2013/2013113004.dat (398312 bytes, modtime 2013-12-09 17:00:06+00:00) to 2013/2013113004.dat because destination does not exist\n",
        "Retrieved 406902 bytes from HourlyData/Archive/2013/2013113005.dat, modtime 2013-12-09 17:00:06+00:00"
       ]
      },
      {
       "output_type": "stream",
       "stream": "stdout",
       "text": [
        "\n",
        "Copied HourlyData/Archive/2013/2013113005.dat (406902 bytes, modtime 2013-12-09 17:00:06+00:00) to 2013/2013113005.dat because destination does not exist\n",
        "Retrieved 404218 bytes from HourlyData/Archive/2013/2013113006.dat, modtime 2013-12-09 17:00:06+00:00"
       ]
      },
      {
       "output_type": "stream",
       "stream": "stdout",
       "text": [
        "\n",
        "Copied HourlyData/Archive/2013/2013113006.dat (404218 bytes, modtime 2013-12-09 17:00:06+00:00) to 2013/2013113006.dat because destination does not exist\n",
        "Retrieved 403082 bytes from HourlyData/Archive/2013/2013113007.dat, modtime 2013-12-09 17:00:06+00:00"
       ]
      },
      {
       "output_type": "stream",
       "stream": "stdout",
       "text": [
        "\n",
        "Copied HourlyData/Archive/2013/2013113007.dat (403082 bytes, modtime 2013-12-09 17:00:06+00:00) to 2013/2013113007.dat because destination does not exist\n",
        "Retrieved 400317 bytes from HourlyData/Archive/2013/2013113008.dat, modtime 2013-12-09 17:00:06+00:00"
       ]
      },
      {
       "output_type": "stream",
       "stream": "stdout",
       "text": [
        "\n",
        "Copied HourlyData/Archive/2013/2013113008.dat (400317 bytes, modtime 2013-12-09 17:00:06+00:00) to 2013/2013113008.dat because destination does not exist\n",
        "Retrieved 405213 bytes from HourlyData/Archive/2013/2013113009.dat, modtime 2013-12-09 17:00:06+00:00"
       ]
      },
      {
       "output_type": "stream",
       "stream": "stdout",
       "text": [
        "\n",
        "Copied HourlyData/Archive/2013/2013113009.dat (405213 bytes, modtime 2013-12-09 17:00:06+00:00) to 2013/2013113009.dat because destination does not exist\n",
        "Retrieved 405981 bytes from HourlyData/Archive/2013/2013113010.dat, modtime 2013-12-09 17:00:06+00:00"
       ]
      },
      {
       "output_type": "stream",
       "stream": "stdout",
       "text": [
        "\n",
        "Copied HourlyData/Archive/2013/2013113010.dat (405981 bytes, modtime 2013-12-09 17:00:06+00:00) to 2013/2013113010.dat because destination does not exist\n",
        "Retrieved 400940 bytes from HourlyData/Archive/2013/2013113011.dat, modtime 2013-12-09 17:00:06+00:00"
       ]
      },
      {
       "output_type": "stream",
       "stream": "stdout",
       "text": [
        "\n",
        "Copied HourlyData/Archive/2013/2013113011.dat (400940 bytes, modtime 2013-12-09 17:00:06+00:00) to 2013/2013113011.dat because destination does not exist\n",
        "Retrieved 398998 bytes from HourlyData/Archive/2013/2013113012.dat, modtime 2013-12-09 17:00:06+00:00"
       ]
      },
      {
       "output_type": "stream",
       "stream": "stdout",
       "text": [
        "\n",
        "Copied HourlyData/Archive/2013/2013113012.dat (398998 bytes, modtime 2013-12-09 17:00:06+00:00) to 2013/2013113012.dat because destination does not exist\n",
        "Retrieved 407655 bytes from HourlyData/Archive/2013/2013113013.dat, modtime 2013-12-09 17:00:06+00:00"
       ]
      },
      {
       "output_type": "stream",
       "stream": "stdout",
       "text": [
        "\n",
        "Copied HourlyData/Archive/2013/2013113013.dat (407655 bytes, modtime 2013-12-09 17:00:06+00:00) to 2013/2013113013.dat because destination does not exist\n",
        "Retrieved 408376 bytes from HourlyData/Archive/2013/2013113014.dat, modtime 2013-12-09 17:00:06+00:00"
       ]
      },
      {
       "output_type": "stream",
       "stream": "stdout",
       "text": [
        "\n",
        "Copied HourlyData/Archive/2013/2013113014.dat (408376 bytes, modtime 2013-12-09 17:00:06+00:00) to 2013/2013113014.dat because destination does not exist\n",
        "Retrieved 408714 bytes from HourlyData/Archive/2013/2013113015.dat, modtime 2013-12-09 17:00:06+00:00"
       ]
      },
      {
       "output_type": "stream",
       "stream": "stdout",
       "text": [
        "\n",
        "Copied HourlyData/Archive/2013/2013113015.dat (408714 bytes, modtime 2013-12-09 17:00:06+00:00) to 2013/2013113015.dat because destination does not exist\n",
        "Retrieved 409293 bytes from HourlyData/Archive/2013/2013113016.dat, modtime 2013-12-09 17:00:06+00:00"
       ]
      },
      {
       "output_type": "stream",
       "stream": "stdout",
       "text": [
        "\n",
        "Copied HourlyData/Archive/2013/2013113016.dat (409293 bytes, modtime 2013-12-09 17:00:06+00:00) to 2013/2013113016.dat because destination does not exist\n",
        "Retrieved 410265 bytes from HourlyData/Archive/2013/2013113017.dat, modtime 2013-12-10 17:00:06+00:00"
       ]
      },
      {
       "output_type": "stream",
       "stream": "stdout",
       "text": [
        "\n",
        "Copied HourlyData/Archive/2013/2013113017.dat (410265 bytes, modtime 2013-12-10 17:00:06+00:00) to 2013/2013113017.dat because destination does not exist\n",
        "Retrieved 410771 bytes from HourlyData/Archive/2013/2013113018.dat, modtime 2013-12-10 17:00:06+00:00"
       ]
      },
      {
       "output_type": "stream",
       "stream": "stdout",
       "text": [
        "\n",
        "Copied HourlyData/Archive/2013/2013113018.dat (410771 bytes, modtime 2013-12-10 17:00:06+00:00) to 2013/2013113018.dat because destination does not exist\n",
        "Retrieved 411560 bytes from HourlyData/Archive/2013/2013113019.dat, modtime 2013-12-10 17:00:06+00:00"
       ]
      },
      {
       "output_type": "stream",
       "stream": "stdout",
       "text": [
        "\n",
        "Copied HourlyData/Archive/2013/2013113019.dat (411560 bytes, modtime 2013-12-10 17:00:06+00:00) to 2013/2013113019.dat because destination does not exist\n",
        "Retrieved 411231 bytes from HourlyData/Archive/2013/2013113020.dat, modtime 2013-12-10 17:00:06+00:00"
       ]
      },
      {
       "output_type": "stream",
       "stream": "stdout",
       "text": [
        "\n",
        "Copied HourlyData/Archive/2013/2013113020.dat (411231 bytes, modtime 2013-12-10 17:00:06+00:00) to 2013/2013113020.dat because destination does not exist\n",
        "Retrieved 410707 bytes from HourlyData/Archive/2013/2013113021.dat, modtime 2013-12-10 17:00:06+00:00"
       ]
      },
      {
       "output_type": "stream",
       "stream": "stdout",
       "text": [
        "\n",
        "Copied HourlyData/Archive/2013/2013113021.dat (410707 bytes, modtime 2013-12-10 17:00:06+00:00) to 2013/2013113021.dat because destination does not exist\n",
        "Retrieved 411452 bytes from HourlyData/Archive/2013/2013113022.dat, modtime 2013-12-10 17:00:06+00:00"
       ]
      },
      {
       "output_type": "stream",
       "stream": "stdout",
       "text": [
        "\n",
        "Copied HourlyData/Archive/2013/2013113022.dat (411452 bytes, modtime 2013-12-10 17:00:06+00:00) to 2013/2013113022.dat because destination does not exist\n",
        "Retrieved 411552 bytes from HourlyData/Archive/2013/2013113023.dat, modtime 2013-12-10 17:00:06+00:00"
       ]
      },
      {
       "output_type": "stream",
       "stream": "stdout",
       "text": [
        "\n",
        "Copied HourlyData/Archive/2013/2013113023.dat (411552 bytes, modtime 2013-12-10 17:00:06+00:00) to 2013/2013113023.dat because destination does not exist\n",
        "Not copying HourlyData/Archive/2013/2013120100.dat to 2013/2013120100.dat because modification times are identical"
       ]
      },
      {
       "output_type": "stream",
       "stream": "stdout",
       "text": [
        "\n"
       ]
      }
     ],
     "prompt_number": 54
    },
    {
     "cell_type": "code",
     "collapsed": false,
     "input": [],
     "language": "python",
     "metadata": {},
     "outputs": []
    },
    {
     "cell_type": "code",
     "collapsed": false,
     "input": [],
     "language": "python",
     "metadata": {},
     "outputs": []
    }
   ],
   "metadata": {}
  }
 ]
}