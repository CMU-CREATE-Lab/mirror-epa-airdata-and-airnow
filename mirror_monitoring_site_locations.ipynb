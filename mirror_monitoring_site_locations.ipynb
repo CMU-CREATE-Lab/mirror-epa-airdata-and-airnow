{
 "cells": [
  {
   "cell_type": "markdown",
   "metadata": {
    "collapsed": false
   },
   "source": [
    "# Mirror Monitoring Site Locations\n",
    "\n",
    "Mirrors the Airnow monitoring site locations .dat file (https://files.airnowtech.org/airnow/today/monitoring_site_locations.dat) and also creates a JSON version of it.\n",
    "\n",
    "Reports to stat.createlab.org as `Airnow Monitoring Site Locations File - Mirror`."
   ]
  },
  {
   "cell_type": "code",
   "execution_count": 77,
   "metadata": {
    "collapsed": false
   },
   "outputs": [
   ],
   "source": [
    "import json, os, dateutil, re, requests, subprocess, datetime, glob, stat\n",
    "\n",
    "from dateutil import rrule, tz, parser"
   ]
  },
  {
   "cell_type": "code",
   "execution_count": 78,
   "metadata": {
    "collapsed": false
   },
   "outputs": [
   ],
   "source": [
    "# Boilerplate to load utils.ipynb\n",
    "# See https://github.com/CMU-CREATE-Lab/python-utils/blob/master/utils.ipynb\n",
    "\n",
    "\n",
    "def exec_ipynb(filename_or_url):\n",
    "    nb = (requests.get(filename_or_url).json() if re.match(r'https?:', filename_or_url) else json.load(open(filename_or_url)))\n",
    "    if(nb['nbformat'] >= 4):\n",
    "        src = [''.join(cell['source']) for cell in nb['cells'] if cell['cell_type'] == 'code']\n",
    "    else:\n",
    "        src = [''.join(cell['input']) for cell in nb['worksheets'][0]['cells'] if cell['cell_type'] == 'code']\n",
    "\n",
    "    tmpname = '/tmp/%s-%s-%d.py' % (os.path.basename(filename_or_url),\n",
    "                                    datetime.datetime.now().strftime('%Y%m%d%H%M%S%f'),\n",
    "                                    os.getpid())\n",
    "    src = '\\n\\n\\n'.join(src)\n",
    "    open(tmpname, 'w').write(src)\n",
    "    code = compile(src, tmpname, 'exec')\n",
    "    exec(code, globals())\n",
    "\n",
    "\n",
    "exec_ipynb('./python-utils/utils.ipynb')\n",
    "exec_ipynb('./airnow-common.ipynb')"
   ]
  },
  {
   "cell_type": "code",
   "execution_count": 79,
   "metadata": {
    "collapsed": false
   },
   "outputs": [
   ],
   "source": [
    "MIRROR_TIME_PERIOD_SECS = 60 * 15   # every 15 minutes\n",
    "STAT_SERVICE_NAME = 'Airnow Monitoring Site Locations File - Mirror'\n",
    "STAT_HOSTNAME = 'airnow'\n",
    "STAT_SHORTNAME = 'airnow-mirror-monitoring-site-locations-file'\n",
    "\n",
    "MONITORING_SITE_LOCATIONS_DAT_FILENAME = 'monitoring_site_locations.dat'\n",
    "MONITORING_SITE_LOCATIONS_JSON_FILENAME = 'monitoring_site_locations.json'"
   ]
  },
  {
   "cell_type": "code",
   "execution_count": 80,
   "metadata": {
    "collapsed": false
   },
   "outputs": [
   ],
   "source": [
    "Stat.set_service(STAT_SERVICE_NAME)"
   ]
  },
  {
   "cell_type": "code",
   "execution_count": 81,
   "metadata": {
    "collapsed": false
   },
   "outputs": [
   ],
   "source": [
    "def jsonify_monitoring_site_locations():\n",
    "    field_names = ('AQSID|parameter name|site code|site name|status|' +\n",
    "                   'agency id|agency name|EPA region|latitude|longitude|' +\n",
    "                   'elevation|GMT offset|country code|CMSA code|CMSA name|' +\n",
    "                   'MSA code|MSA name|state code|state name|county code|' +\n",
    "                   'county name|city code|city name').split('|')\n",
    "\n",
    "    sites_and_params = {'sites': {}, 'param_to_site_ids': {}}\n",
    "\n",
    "    # monitoring_site_locations.dat has non-ASCII characters, in the archaic Original IBM PC 8-bit charset\n",
    "    # known today as Code page 437.  Translate to unicode during read\n",
    "    source = AirnowCommon.DATA_DIRECTORY + '/' + MONITORING_SITE_LOCATIONS_DAT_FILENAME\n",
    "    dest = AirnowCommon.DATA_DIRECTORY + '/' + MONITORING_SITE_LOCATIONS_JSON_FILENAME\n",
    "    data =  open(source, 'r', encoding='cp437').read()\n",
    "    # Test: 000050121 is PARC OCÉANIE\n",
    "\n",
    "    for line in data.split('\\n'):\n",
    "        line = line.strip()\n",
    "        if len(line) == 0:\n",
    "            continue\n",
    "        fields = line.strip().split('|')\n",
    "        if len(field_names) != len(fields):\n",
    "            Stat.warning('Monitoring site has %d field names but %d fields. Skipping.' % (len(field_names), len(fields)), host=STAT_HOSTNAME, shortname=STAT_SHORTNAME)\n",
    "            continue\n",
    "        channel_info = dict(zip(field_names, fields))\n",
    "        aqsid = channel_info['AQSID']\n",
    "        parameter = channel_info['parameter name']\n",
    "\n",
    "        # add this site id to the param_to_site_ids map\n",
    "        if parameter not in sites_and_params['param_to_site_ids']:\n",
    "            sites_and_params['param_to_site_ids'][parameter] = []\n",
    "        if aqsid not in sites_and_params['param_to_site_ids'][parameter]:\n",
    "            sites_and_params['param_to_site_ids'][parameter].append(aqsid)\n",
    "\n",
    "        # add this site to the sites map\n",
    "        if aqsid not in sites_and_params['sites']:\n",
    "            # remove the \"parameter name\" key from the dictionary, because we'll store it in a parameters list instead\n",
    "            del channel_info['parameter name']\n",
    "            sites_and_params['sites'][aqsid] = channel_info\n",
    "            sites_and_params['sites'][aqsid]['parameters'] = []\n",
    "\n",
    "        if parameter in sites_and_params['sites'][aqsid]['parameters']:\n",
    "            Stat.warning('Skipping duplicate in monitoring_site_locations: %s:%s' % (aqsid, parameter), host=STAT_HOSTNAME, shortname=STAT_SHORTNAME)\n",
    "        else:\n",
    "            sites_and_params['sites'][aqsid]['parameters'].append(parameter)\n",
    "\n",
    "    Stat.debug('Read %d sites and %d params from %s' % (len(sites_and_params['sites']),\n",
    "                                                        len(sites_and_params['param_to_site_ids']),\n",
    "                                                        source),\n",
    "               host=STAT_HOSTNAME, shortname=STAT_SHORTNAME)\n",
    "\n",
    "    # write the JSON file to disk\n",
    "    tmp = dest + '.tmp' + str(os.getpid())\n",
    "    os.makedirs(os.path.dirname(tmp), exist_ok=True)\n",
    "    with open(tmp, 'w') as json_file:\n",
    "        json.dump(sites_and_params, json_file, sort_keys=True)\n",
    "    os.rename(tmp, dest)\n",
    "\n",
    "    # make the JSON file readable by everyone\n",
    "    os.chmod(dest, stat.S_IREAD | stat.S_IWRITE | stat.S_IRGRP | stat.S_IROTH)\n",
    "\n",
    "    # make the JSON file's file stat times match those of the .dat\n",
    "    source_file_stat = os.stat(source)\n",
    "    os.utime(dest, (source_file_stat.st_mtime, source_file_stat.st_mtime))\n",
    "\n",
    "    Stat.info('Successfully created %s ' % MONITORING_SITE_LOCATIONS_JSON_FILENAME, host=STAT_HOSTNAME, shortname=STAT_SHORTNAME)\n",
    "\n",
    "\n",
    "#jsonify_monitoring_site_locations()"
   ]
  },
  {
   "cell_type": "code",
   "execution_count": 84,
   "metadata": {
    "collapsed": false
   },
   "outputs": [
    {
     "name": "stdout",
     "output_type": "stream",
     "text": [
      "Local mirror of https://files.airnowtech.org/airnow/today/monitoring_site_locations.dat is up to date.  Skipping.\n"
     ]
    }
   ],
   "source": [
    "def mirror_monitoring_site_locations():\n",
    "    # Latest file is at https://files.airnowtech.org/airnow/today/monitoring_site_locations.dat\n",
    "    (is_new, message, status_code) = AirnowCommon.mirror_airnow_file('today' + '/' + MONITORING_SITE_LOCATIONS_DAT_FILENAME, AirnowCommon.DATA_DIRECTORY + '/' + MONITORING_SITE_LOCATIONS_DAT_FILENAME)\n",
    "\n",
    "    if is_new:\n",
    "        Stat.info(message, host=STAT_HOSTNAME, shortname=STAT_SHORTNAME)\n",
    "        jsonify_monitoring_site_locations()\n",
    "    else:\n",
    "        if status_code == 304:\n",
    "            print(message)   # use print instead of Stat to reduce noise to stat.createlab.org\n",
    "            Stat.info(message, host=STAT_HOSTNAME, shortname=STAT_SHORTNAME)\n",
    "        elif status_code < 400:\n",
    "            Stat.info(message, host=STAT_HOSTNAME, shortname=STAT_SHORTNAME)\n",
    "        else:\n",
    "            Stat.warning(message, host=STAT_HOSTNAME, shortname=STAT_SHORTNAME)\n",
    "\n",
    "mirror_monitoring_site_locations()"
   ]
  },
  {
   "cell_type": "code",
   "execution_count": 86,
   "metadata": {
    "collapsed": false
   },
   "outputs": [
    {
     "name": "stdout",
     "output_type": "stream",
     "text": [
      "Stat.log up Airnow Monitoring Site Locations File - Mirror airnow Mirroring the Airnow monitoring_site_locations.dat file... None\n"
     ]
    },
    {
     "name": "stdout",
     "output_type": "stream",
     "text": [
      "Local mirror of https://files.airnowtech.org/airnow/today/monitoring_site_locations.dat is up to date.  Skipping.\n",
      "Stat.log up Airnow Monitoring Site Locations File - Mirror airnow Done mirroring the Airnow monitoring_site_locations.dat file None\n"
     ]
    }
   ],
   "source": [
    "def mirror():\n",
    "    Stat.up('Mirroring the Airnow %s file...' % MONITORING_SITE_LOCATIONS_DAT_FILENAME, host=STAT_HOSTNAME, shortname=STAT_SHORTNAME)\n",
    "    mirror_monitoring_site_locations()\n",
    "    Stat.up('Done mirroring the Airnow %s file' % MONITORING_SITE_LOCATIONS_DAT_FILENAME, host=STAT_HOSTNAME, shortname=STAT_SHORTNAME, valid_for_secs=MIRROR_TIME_PERIOD_SECS*1.5)\n",
    "\n",
    "def mirror_forever():\n",
    "    while True:\n",
    "        mirror()\n",
    "        sleep_until_next_period(MIRROR_TIME_PERIOD_SECS)\n",
    "\n",
    "#mirror_forever()\n",
    "mirror()"
   ]
  },
  {
   "cell_type": "code",
   "execution_count": 0,
   "metadata": {
    "collapsed": false
   },
   "outputs": [
   ],
   "source": [
   ]
  }
 ],
 "metadata": {
  "kernelspec": {
   "display_name": "Anaconda Python 3",
   "language": "python",
   "name": "anaconda3"
  },
  "language_info": {
   "codemirror_mode": {
    "name": "ipython",
    "version": 3
   },
   "file_extension": ".py",
   "mimetype": "text/x-python",
   "name": "python",
   "nbconvert_exporter": "python",
   "pygments_lexer": "ipython3",
   "version": "3.7.4"
  }
 },
 "nbformat": 4,
 "nbformat_minor": 0
}