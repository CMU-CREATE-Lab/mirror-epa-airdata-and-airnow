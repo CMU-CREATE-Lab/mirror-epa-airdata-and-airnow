{
 "cells": [
  {
   "cell_type": "markdown",
   "metadata": {
    "collapsed": false
   },
   "source": [
    "# Airnow Highest 5 Notifications\n",
    "\n",
    "Runs every five minutes, and sends email notifications to a small set of people whenever a particular set of cities appears in, changes position in, or leaves the Highest 5.  Users and cites of concern are defined in JSON file `highest-5-notifications-config.json`.  Format for that configuration file is like this, where city IDs are the Airnow City IDs found in `airnow_city_id_to_city_info.json`:\n",
    "\n",
    "```\n",
    "{\n",
    "   \"alertable_cities\" : {\n",
    "      \"162\" : {\n",
    "         \"emails\" : [\"foo@bar.com\"]\n",
    "      },\n",
    "      \"164\" : {\n",
    "         \"emails\" : [\"a@z.com\", \"foo@bar.com\"]\n",
    "      }\n",
    "   }\n",
    "}\n",
    "```\n",
    "\n",
    "This script uses MailGun to send emails and depends on a configuration file named `mailgun-config.json` in the current directory.  Format for that file is:\n",
    "\n",
    "```\n",
    "{\n",
    "   \"api_key\" : \"YOUR_API_KEY_HERE\",\n",
    "   \"domain_name\" : \"YOUR_DOMAIN_NAME_HERE\"\n",
    "}\n",
    "```\n",
    "\n",
    "Reports to stat.createlab.org as `Airnow Highest Five - Notifications`.\n",
    "\n",
    "Airnow's docs for the highest 5 are here: https://airnow.gov/index.cfm?action=airnow.news_item&newsitemid=103"
   ]
  },
  {
   "cell_type": "code",
   "execution_count": 0,
   "metadata": {
    "collapsed": false
   },
   "outputs": [
   ],
   "source": [
    "import json, os, dateutil, re, requests, subprocess, datetime, glob, stat\n",
    "from dateutil import rrule, tz, parser"
   ]
  },
  {
   "cell_type": "code",
   "execution_count": 0,
   "metadata": {
    "collapsed": false
   },
   "outputs": [
   ],
   "source": [
    "# Boilerplate to load utils.ipynb\n",
    "# See https://github.com/CMU-CREATE-Lab/python-utils/blob/master/utils.ipynb\n",
    "\n",
    "def exec_ipynb(filename_or_url):\n",
    "    nb = (requests.get(filename_or_url).json() if re.match(r'https?:', filename_or_url) else json.load(open(filename_or_url)))\n",
    "    if(nb['nbformat'] >= 4):\n",
    "        src = [''.join(cell['source']) for cell in nb['cells'] if cell['cell_type'] == 'code']\n",
    "    else:\n",
    "        src = [''.join(cell['input']) for cell in nb['worksheets'][0]['cells'] if cell['cell_type'] == 'code']\n",
    "\n",
    "    tmpname = '/tmp/%s-%s-%d.py' % (os.path.basename(filename_or_url),\n",
    "                                    datetime.datetime.now().strftime('%Y%m%d%H%M%S%f'),\n",
    "                                    os.getpid())\n",
    "    src = '\\n\\n\\n'.join(src)\n",
    "    open(tmpname, 'w').write(src)\n",
    "    code = compile(src, tmpname, 'exec')\n",
    "    exec(code, globals())\n",
    "\n",
    "exec_ipynb('./python-utils/utils.ipynb')\n",
    "exec_ipynb('./airnow-common.ipynb')"
   ]
  },
  {
   "cell_type": "code",
   "execution_count": 0,
   "metadata": {
    "collapsed": false
   },
   "outputs": [
   ],
   "source": [
    "STAT_SERVICE_NAME = 'Airnow Highest Five - Notifications'\n",
    "STAT_HOSTNAME = 'hal21'\n",
    "STAT_SHORTNAME = 'airnow-highest-five-notifications'\n",
    "\n",
    "RUN_INTERVAL_SECONDS = 60 * 5   # every 5 minutes\n",
    "\n",
    "CONFIG_FILE = './highest-5-notifications-config.json'\n",
    "\n",
    "CITY_INFO_JSON_FILE = AirnowCommon.HIGHEST_FIVE_AQI_DIRECTORY + '/airnow_city_id_to_city_info.json'\n",
    "\n",
    "MAILGUN_CONFIG_FILE = './mailgun-config.json'\n",
    "MAILGUN_CONFIG = {}\n",
    "with open(MAILGUN_CONFIG_FILE, 'r') as f:\n",
    "    MAILGUN_CONFIG = json.load(f)"
   ]
  },
  {
   "cell_type": "code",
   "execution_count": 0,
   "metadata": {
    "collapsed": false
   },
   "outputs": [
   ],
   "source": [
    "Stat.set_service(STAT_SERVICE_NAME)"
   ]
  },
  {
   "cell_type": "code",
   "execution_count": 0,
   "metadata": {
    "collapsed": false
   },
   "outputs": [
   ],
   "source": [
    "city_info = {}\n",
    "\n",
    "notifications_config = {}\n",
    "\n",
    "previous_rankings_str = \"\"\n",
    "previous_alertable_city_rankings = {}\n",
    "\n",
    "current_rankings = []"
   ]
  },
  {
   "cell_type": "code",
   "execution_count": 0,
   "metadata": {
    "collapsed": false,
    "scrolled": true
   },
   "outputs": [
   ],
   "source": [
    "def read_city_info():\n",
    "    global city_info\n",
    "    with open(CITY_INFO_JSON_FILE, 'r') as f:\n",
    "        city_info = json.load(f)\n",
    "\n",
    "# read_city_info()\n",
    "# print(json.dumps(city_info, sort_keys=True, indent=3))"
   ]
  },
  {
   "cell_type": "code",
   "execution_count": 0,
   "metadata": {
    "collapsed": false
   },
   "outputs": [
   ],
   "source": [
    "def get_city_and_state(city_id):\n",
    "    global city_info\n",
    "    city_id = str(city_id)\n",
    "    if city_id in city_info:\n",
    "        info = city_info[city_id]\n",
    "        return info['city'] + ', ' + info['state']\n",
    "\n",
    "    return \"Unknown City\"\n",
    "\n",
    "# get_city_and_state(162)\n",
    "# get_city_and_state(\"162\")"
   ]
  },
  {
   "cell_type": "code",
   "execution_count": 0,
   "metadata": {
    "collapsed": false
   },
   "outputs": [
   ],
   "source": [
    "def read_config_file():\n",
    "    global notifications_config\n",
    "    with open(CONFIG_FILE, 'r') as f:\n",
    "        notifications_config = json.load(f)\n",
    "\n",
    "#read_config_file()\n",
    "#print(json.dumps(notifications_config, sort_keys=True, indent=3))"
   ]
  },
  {
   "cell_type": "code",
   "execution_count": 0,
   "metadata": {
    "collapsed": false
   },
   "outputs": [
   ],
   "source": [
    "def is_alertable_city(city_id):\n",
    "    global notifications_config\n",
    "    return str(city_id) in notifications_config['alertable_cities']\n",
    "\n",
    "# print(is_alertable_city(None))\n",
    "# print(is_alertable_city(162))\n",
    "# print(is_alertable_city(\"162\"))"
   ]
  },
  {
   "cell_type": "code",
   "execution_count": 0,
   "metadata": {
    "collapsed": false
   },
   "outputs": [
   ],
   "source": [
    "def get_email_addresses_to_notify_for_city(city_id):\n",
    "    global notifications_config\n",
    "    city_id_str = str(city_id)\n",
    "    if city_id_str in notifications_config['alertable_cities']:\n",
    "        return notifications_config['alertable_cities'][city_id_str]['emails']\n",
    "\n",
    "    return []\n",
    "\n",
    "# get_email_addresses_to_notify_for_city(\"162\")"
   ]
  },
  {
   "cell_type": "code",
   "execution_count": 0,
   "metadata": {
    "collapsed": false
   },
   "outputs": [
   ],
   "source": [
    "def check_current_highest_five():\n",
    "    global previous_rankings_str, current_rankings\n",
    "    files = glob.glob(AirnowCommon.HIGHEST_FIVE_AQI_DAT_DIRECTORY + '/[0-9]*.dat')\n",
    "    if len(files) == 0:\n",
    "        return None\n",
    "    last_file = sorted(files)[-1]\n",
    "    Stat.debug('Most recent data file is %s' % (last_file), host=STAT_HOSTNAME, shortname=STAT_SHORTNAME)\n",
    "\n",
    "    # reset the current rankings\n",
    "    current_rankings = []\n",
    "\n",
    "    # read last line from file\n",
    "    last_line = None\n",
    "    with open(last_file, 'r') as f:\n",
    "        for line in f:\n",
    "            pass\n",
    "        last_line = line\n",
    "\n",
    "    # now parse the last line\n",
    "    if last_line:\n",
    "        Stat.debug('Most recent rankings: %s' % (last_line), host=STAT_HOSTNAME, shortname=STAT_SHORTNAME)\n",
    "\n",
    "        # Record format example: 1583863202.348545:1,235,111|2,809,93|3,789,91|4,946,86|5,230,81\n",
    "        # A colon separates the Unix timestamp from the rankings.  Rankings are pipe delimited and there should exist 5 per timestamp.\n",
    "        # A ranking item consists of three comma-delimited values: the rank index [1-5], the Airnow city ID, and the AQI\n",
    "        try:\n",
    "            (timestamp, rankings) = last_line.split(':')\n",
    "            timestamp = float(timestamp)\n",
    "\n",
    "            # Do a quickie string comparison to make sure the rankings have actually changed.  If so, then\n",
    "            # we'll do a deeper check later to make sure the alertable rankings have changed, but ignoring\n",
    "            # changes in only AQI.  It's just the rankings we care about.\n",
    "            if rankings == previous_rankings_str:\n",
    "                Stat.debug('Rankings unchanged, nothing to do', host=STAT_HOSTNAME, shortname=STAT_SHORTNAME)\n",
    "            else:\n",
    "                Stat.debug('Rankings have changed, checking for alertable cities', host=STAT_HOSTNAME, shortname=STAT_SHORTNAME)\n",
    "                previous_rankings_str = rankings\n",
    "\n",
    "                # parse the rankings, building a map of city_id to rank\n",
    "                alertable_city_rankings = {}\n",
    "                for ranking in rankings.split('|'):\n",
    "                    (rank, city_id, aqi) = map(int,ranking.split(','))\n",
    "\n",
    "                    current_rankings.append({\"rank\": rank, \"city_id\": city_id, \"city_name\": get_city_and_state(city_id), \"aqi\": aqi})\n",
    "\n",
    "                    # only bother remembering it if it's an alertable city\n",
    "                    if is_alertable_city(city_id):\n",
    "                        alertable_city_rankings[city_id] = rank\n",
    "\n",
    "                return alertable_city_rankings\n",
    "\n",
    "        except:\n",
    "            Stat.warning('Failed to parse most recent rankings. Skipping.', host=STAT_HOSTNAME, shortname=STAT_SHORTNAME)\n",
    "\n",
    "    return None"
   ]
  },
  {
   "cell_type": "code",
   "execution_count": 0,
   "metadata": {
    "collapsed": false
   },
   "outputs": [
   ],
   "source": [
    "def build_alerts(alertable_city_rankings):\n",
    "    global previous_alertable_city_rankings\n",
    "    alerts_by_city = {}\n",
    "\n",
    "    if alertable_cities_in_highest_five != None:\n",
    "        # start by checking whether any cities which were previously in the highest 5 have dropped out\n",
    "        for city_id in previous_alertable_city_rankings:\n",
    "            if city_id not in alertable_city_rankings:\n",
    "                # create a notification that this city has dropped out of the highest 5\n",
    "                city_name = get_city_and_state(city_id)\n",
    "                alerts_by_city[city_id] = {'brief' : \"%s: --> out\" % (city_name),\n",
    "                                           'verbose' : \"%s is no longer in the Highest Five\" % (city_name)}\n",
    "\n",
    "        # now check cities in the current highest 5 to see whether they're new or they have changed rank\n",
    "        for city_id in alertable_city_rankings:\n",
    "            city_name = get_city_and_state(city_id)\n",
    "            current_rank = alertable_city_rankings[city_id]\n",
    "            if city_id in previous_alertable_city_rankings:\n",
    "                # see whether the rank has changed\n",
    "                previous_rank = previous_alertable_city_rankings[city_id]\n",
    "                if previous_rank != current_rank:\n",
    "                    # create an alert that the rank has changed\n",
    "                    alerts_by_city[city_id] = {'brief' : \"%s: %d --> %d\" % (city_name, previous_rank, current_rank),\n",
    "                                               'verbose' : \"%s has changed from rank %d to rank %d\" % (city_name, previous_rank, current_rank)}\n",
    "            else:\n",
    "                # create a notification that this city is now in the highest 5\n",
    "                alerts_by_city[city_id] = {'brief' : \"%s: --> %d\" % (city_name, current_rank),\n",
    "                                           'verbose' : \"%s has entered at rank %d\" % (city_name, current_rank)}\n",
    "\n",
    "        previous_alertable_city_rankings = alertable_city_rankings\n",
    "\n",
    "    return alerts_by_city"
   ]
  },
  {
   "cell_type": "code",
   "execution_count": 0,
   "metadata": {
    "collapsed": false
   },
   "outputs": [
   ],
   "source": [
    "def send_email(to_address, alerts):\n",
    "    global current_rankings\n",
    "    if len(alerts) > 0:\n",
    "        if len(alerts) == 1:\n",
    "            city_or_cities = \"A city\"\n",
    "            has_or_have = \"has\"\n",
    "        else:\n",
    "            city_or_cities = \"Cities\"\n",
    "            has_or_have = \"have\"\n",
    "\n",
    "        email_body = city_or_cities + \" you're watching \"+has_or_have+\" new activity in the Airnow Highest Five:\\n\\n\"\n",
    "        for alert in alerts:\n",
    "            email_body += \"   %s\\n\" % (alert['verbose'])\n",
    "        email_body += \"\\nThe current rankings are:\\n\\n\"\n",
    "        for ranking in current_rankings:\n",
    "            email_body += \"   %d: %s   (AQI %d)\\n\" % (ranking['rank'], ranking['city_name'], ranking['aqi'])\n",
    "        email_body += \"\\nView details at https://airstats.createlab.org/highest-five/\"\n",
    "\n",
    "        return requests.post(\n",
    "            \"https://api.mailgun.net/v3/\"+MAILGUN_CONFIG['domain_name']+\"/messages\",\n",
    "            auth=(\"api\", MAILGUN_CONFIG['api_key']),\n",
    "            data={\"from\": \"Airnow Highest Five Alerts <mailgun@\"+MAILGUN_CONFIG['domain_name']+\">\",\n",
    "                  \"to\": [to_address],\n",
    "                  \"subject\": '[AHFA] ' + ' | '.join(list(map(lambda alert: alert['brief'], alerts))),\n",
    "                  \"text\": email_body})\n",
    "\n",
    "# send_email(\"bartley@cmu.edu\", [{'brief': 'Hidden Valley, AZ: --> 1', 'verbose': 'Hidden Valley, AZ has entered at rank 1'}])\n",
    "# send_email(\"bartley@cmu.edu\", [{'brief': 'Hidden Valley, AZ: --> 1', 'verbose': 'Hidden Valley, AZ has entered at rank 1'}, {'brief': 'Mississippi Gulf Coast, MS: --> 3', 'verbose': 'Mississippi Gulf Coast, MS has entered at rank 3'}])"
   ]
  },
  {
   "cell_type": "code",
   "execution_count": 0,
   "metadata": {
    "collapsed": false
   },
   "outputs": [
   ],
   "source": [
    "def send_alerts(alerts_by_city):\n",
    "    num_cities = len(alerts_by_city)\n",
    "    if (num_cities > 0):\n",
    "        Stat.debug('Sending alerts for %d %s' % (num_cities, \"city\" if (num_cities == 1) else \"cities\"), host=STAT_HOSTNAME, shortname=STAT_SHORTNAME)\n",
    "\n",
    "        alerts_by_email_address = {}\n",
    "        for city_id in alerts_by_city:\n",
    "            alert = alerts_by_city[city_id]\n",
    "            Stat.debug(\"City ID [%s]: %s\" % (city_id, alert['brief']), host=STAT_HOSTNAME, shortname=STAT_SHORTNAME)\n",
    "            email_addresses = get_email_addresses_to_notify_for_city(city_id)\n",
    "            for email_address in email_addresses:\n",
    "                if email_address not in alerts_by_email_address:\n",
    "                    alerts_by_email_address[email_address] = []\n",
    "\n",
    "                alerts_by_email_address[email_address].append(alert)\n",
    "\n",
    "        # send the emails\n",
    "        for email in alerts_by_email_address:\n",
    "            print(\"Sending these alerts to email [%s]:\" % (email))\n",
    "            for alert in alerts_by_email_address[email]:\n",
    "                print(\"   %s\" % alert['brief'])\n",
    "            send_email(email, alerts_by_email_address[email])"
   ]
  },
  {
   "cell_type": "code",
   "execution_count": 0,
   "metadata": {
    "collapsed": false
   },
   "outputs": [
   ],
   "source": [
    "def run():\n",
    "    global current_rankings\n",
    "\n",
    "    Stat.info('Checking Highest 5 for changes which would trigger notifications...', host=STAT_HOSTNAME, shortname=STAT_SHORTNAME)\n",
    "    start_time = time.time()\n",
    "\n",
    "    # reload the city info so we're sure to pick up any changes\n",
    "    read_city_info()\n",
    "\n",
    "    # reload the config file. Do this every run to make it easy to change the set of alertable cities and/or users to notify\n",
    "    read_config_file()\n",
    "\n",
    "    # get a map of alertable cities (if any) in the current highest five\n",
    "    alertable_cities_in_highest_five = check_current_highest_five()\n",
    "\n",
    "    if alertable_cities_in_highest_five != None:\n",
    "        print(json.dumps(alertable_cities_in_highest_five, sort_keys=True, indent=3))\n",
    "\n",
    "        # build alerts\n",
    "        alerts_by_city = build_alerts(alertable_cities_in_highest_five)\n",
    "\n",
    "        # send alerts, if any\n",
    "        send_alerts(alerts_by_city)\n",
    "    else:\n",
    "        Stat.debug('None of the cities in the highest 5 require notification', host=STAT_HOSTNAME, shortname=STAT_SHORTNAME)\n",
    "\n",
    "    end_time = time.time()\n",
    "    Stat.up('Done with highest five notifications!', details='Took %.1f seconds' % (end_time - start_time), host=STAT_HOSTNAME, shortname=STAT_SHORTNAME, valid_for_secs=RUN_INTERVAL_SECONDS*1.5)\n",
    "\n",
    "def run_forever():\n",
    "    while True:\n",
    "        run()\n",
    "        sleep_until_next_period(RUN_INTERVAL_SECONDS, 1*60)  # start at 1 minutes after the hour\n",
    "\n",
    "run_forever()"
   ]
  }
 ],
 "metadata": {
  "kernelspec": {
   "display_name": "Anaconda Python 3",
   "language": "python",
   "name": "anaconda3"
  },
  "language_info": {
   "codemirror_mode": {
    "name": "ipython",
    "version": 3
   },
   "file_extension": ".py",
   "mimetype": "text/x-python",
   "name": "python",
   "nbconvert_exporter": "python",
   "pygments_lexer": "ipython3",
   "version": "3.7.4"
  }
 },
 "nbformat": 4,
 "nbformat_minor": 0
}