{
 "cells": [
  {
   "cell_type": "markdown",
   "metadata": {
    "collapsed": false
   },
   "source": [
    "Upload AirNow data\n",
    "------------------\n",
    "\n",
    "Processes the Airnow hourly data files located in `./AirNow` and uploads to ESDR.\n",
    "\n",
    "Reports to stat.createlab.org as `UploadAirnowToEsdr`\n",
    "\n",
    "[Format documentation](http://www.airnowapi.org/docs/HourlyDataFactSheet.pdf)"
   ]
  },
  {
   "cell_type": "code",
   "execution_count": 2,
   "metadata": {
    "collapsed": false
   },
   "outputs": [
   ],
   "source": [
    "import json, os, dateutil, re, requests, subprocess, datetime, glob, stat, codecs, sys\n",
    "\n",
    "from dateutil import rrule, tz, parser"
   ]
  },
  {
   "cell_type": "code",
   "execution_count": 3,
   "metadata": {
    "collapsed": false
   },
   "outputs": [
   ],
   "source": [
    "# Boilerplate to load utils.ipynb\n",
    "# See https://github.com/CMU-CREATE-Lab/python-utils/blob/master/utils.ipynb\n",
    "\n",
    "\n",
    "def exec_ipynb(filename_or_url):\n",
    "    nb = (requests.get(filename_or_url).json() if re.match(r'https?:', filename_or_url) else json.load(open(filename_or_url)))\n",
    "    if(nb['nbformat'] >= 4):\n",
    "        src = [''.join(cell['source']) for cell in nb['cells'] if cell['cell_type'] == 'code']\n",
    "    else:\n",
    "        src = [''.join(cell['input']) for cell in nb['worksheets'][0]['cells'] if cell['cell_type'] == 'code']\n",
    "\n",
    "    tmpname = '/tmp/%s-%s-%d.py' % (os.path.basename(filename_or_url),\n",
    "                                    datetime.datetime.now().strftime('%Y%m%d%H%M%S%f'),\n",
    "                                    os.getpid())\n",
    "    src = '\\n\\n\\n'.join(src)\n",
    "    open(tmpname, 'w').write(src)\n",
    "    code = compile(src, tmpname, 'exec')\n",
    "    exec(code, globals())\n",
    "\n",
    "\n",
    "exec_ipynb('./python-utils/utils.ipynb')\n",
    "exec_ipynb('./python-utils/esdr-library.ipynb')\n",
    "exec_ipynb('./airnow-common.ipynb')"
   ]
  },
  {
   "cell_type": "code",
   "execution_count": 4,
   "metadata": {
    "collapsed": false
   },
   "outputs": [
   ],
   "source": [
    "STAT_SERVICE_NAME = 'UploadAirnowToEsdr'\n",
    "STAT_HOSTNAME = 'airnow'\n",
    "STAT_SHORTNAME = 'airnow-hourly-data-upload'\n",
    "\n",
    "MIRROR_TIME_PERIOD_SECS = 60 * 30 # every 30 minutes\n",
    "\n",
    "ESDR_MONITORING_SITE_LOCATION_DEVICES_JSON_FILENAME = 'esdr_monitoring_site_location_devices.json'"
   ]
  },
  {
   "cell_type": "code",
   "execution_count": 5,
   "metadata": {
    "collapsed": false
   },
   "outputs": [
   ],
   "source": [
    "Stat.set_service(STAT_SERVICE_NAME)"
   ]
  },
  {
   "cell_type": "code",
   "execution_count": 6,
   "metadata": {
    "collapsed": false
   },
   "outputs": [
   ],
   "source": [
    "# Accumulate data from multiple files\n",
    "# Assumes accumulation in time order\n",
    "accumulated = {}\n",
    "accumulated_files = {}\n",
    "\n",
    "def clear_accumulated():\n",
    "    global accumulated, accumulated_files\n",
    "    accumulated = {}\n",
    "    accumulated_files = {}\n",
    "\n",
    "def accumulate_airnow_file(src):\n",
    "    print('Accumulating airnow file %s' % src)\n",
    "    src_epoch_timestamp = os.path.getmtime(src)\n",
    "    dt = datetime.datetime.strptime(os.path.basename(src), '%Y%m%d%H.dat')\n",
    "    # Offset epoch_time by 1800 seconds to be in middle of hour-long sample\n",
    "    epoch_time = (dt - datetime.datetime(1970, 1, 1)).total_seconds() + 1800\n",
    "\n",
    "    nsamples = 0\n",
    "\n",
    "    with open(src, 'r', encoding='cp437') as airnow:\n",
    "        lineno = 0\n",
    "        error_count = 0\n",
    "        for record in airnow:\n",
    "            lineno += 1\n",
    "            try:\n",
    "                (_, _, id, _, _, type, units, value, _) = record.split('|')\n",
    "            except:\n",
    "                sys.stderr.write('Problem parsing %s line %d, skipping\\n' % (src, lineno))\n",
    "                sys.stderr.write('Line \"%s\"\\n' % record)\n",
    "                error_count += 1\n",
    "            type = re.sub(r'\\W', '_', type) # Replace non-word chars with _;  e.g. PM2.5 becomes PM2_5\n",
    "\n",
    "            if not id in accumulated:\n",
    "                accumulated[id] = {}\n",
    "\n",
    "            if not type in accumulated[id]:\n",
    "                accumulated[id][type] = []\n",
    "\n",
    "            accumulated[id][type].append([epoch_time, float(value)])\n",
    "            nsamples += 1\n",
    "        if error_count > 5:\n",
    "            raise Exception('Too many parse errors (%d) reading %s, aborting' % (error_count, src))\n",
    "\n",
    "    if error_count > 0:\n",
    "        Stat.warning('Read %d records from %s (%d error(s))' % (nsamples, src, error_count), host=STAT_HOSTNAME, shortname=STAT_SHORTNAME)\n",
    "    else:\n",
    "        Stat.debug('Read %d records from %s (%d error(s))' % (nsamples, src, error_count), host=STAT_HOSTNAME, shortname=STAT_SHORTNAME)\n",
    "\n",
    "    accumulated_files[src] = src_epoch_timestamp"
   ]
  },
  {
   "cell_type": "code",
   "execution_count": 7,
   "metadata": {
    "collapsed": false
   },
   "outputs": [
   ],
   "source": [
    "sites_cached = None\n",
    "def get_site_info(site_id):\n",
    "    global sites_cached\n",
    "    if not sites_cached:\n",
    "        with open(AirnowCommon.DATA_DIRECTORY + '/monitoring_site_locations.json', 'r') as f:\n",
    "            sites_cached = json.load(f)\n",
    "\n",
    "    try:\n",
    "        return sites_cached['sites'][site_id]\n",
    "    except:\n",
    "        return None\n",
    "\n",
    "# print(json.dumps(get_site_info('420030008'), sort_keys=True, indent=3))  # Lawrenceville aka \"BAPC 301 39TH STREET BLDG #7 AirNow\"\n",
    "# print(json.dumps(get_site_info('000050121'), sort_keys=True, indent=3))  # Meteorological Service of Canada\"\n",
    "# print(json.dumps(get_site_info('044201010'), sort_keys=True, indent=3))  # null"
   ]
  },
  {
   "cell_type": "code",
   "execution_count": 8,
   "metadata": {
    "collapsed": false
   },
   "outputs": [
   ],
   "source": [
    "esdr = None\n",
    "airnow_product = None\n",
    "esdr_monitoring_site_devices = None"
   ]
  },
  {
   "cell_type": "code",
   "execution_count": 9,
   "metadata": {
    "collapsed": false
   },
   "outputs": [
   ],
   "source": [
    "def get_airnow_product():\n",
    "    global esdr, airnow_product\n",
    "    if not esdr:\n",
    "        esdr = Esdr('esdr-auth-airnow-uploader.json', user_agent='esdr-library.py['+STAT_SERVICE_NAME+']')\n",
    "    if not airnow_product:\n",
    "        # esdr.create_product('AirNow', 'AirNow', 'EPA and Sonoma Tech', 'Real-time feeds from EPA/STI AirNow')\n",
    "        airnow_product = esdr.get_product_by_name('AirNow')\n",
    "    return airnow_product"
   ]
  },
  {
   "cell_type": "code",
   "execution_count": 10,
   "metadata": {
    "collapsed": false
   },
   "outputs": [
   ],
   "source": [
    "def get_esdr_monitoring_site_device(serialNumber):\n",
    "    global airnow_product, esdr_monitoring_site_devices\n",
    "    if not airnow_product:\n",
    "        airnow_product = get_airnow_product()\n",
    "    if not esdr_monitoring_site_devices:\n",
    "        with open(AirnowCommon.DATA_DIRECTORY + '/' + ESDR_MONITORING_SITE_LOCATION_DEVICES_JSON_FILENAME, 'r') as f:\n",
    "            esdr_monitoring_site_devices = json.load(f)\n",
    "\n",
    "    if serialNumber in esdr_monitoring_site_devices:\n",
    "        # get a copy of the device\n",
    "        device = esdr_monitoring_site_devices[serialNumber].copy()\n",
    "\n",
    "        # add the serial number and product id\n",
    "        device['serialNumber'] = serialNumber\n",
    "        device['productId'] = airnow_product['id']\n",
    "        return device\n",
    "\n",
    "    return None\n",
    "\n",
    "# print(get_esdr_monitoring_site_device('no such site'))  # None\n",
    "# print(get_esdr_monitoring_site_device('010972005'))     # {'id': 2264, 'name': 'BAYROAD', 'serialNumber': '010972005', 'productId': 11}"
   ]
  },
  {
   "cell_type": "code",
   "execution_count": 11,
   "metadata": {
    "collapsed": false
   },
   "outputs": [
   ],
   "source": [
    "def upload_site(site_id):\n",
    "    global esdr, airnow_product\n",
    "    if not esdr:\n",
    "        esdr = Esdr('esdr-auth-airnow-uploader.json', user_agent='esdr-library.py['+STAT_SERVICE_NAME+']')\n",
    "    if not airnow_product:\n",
    "        airnow_product = get_airnow_product()\n",
    "\n",
    "    # try to get the device from the cache\n",
    "    device = get_esdr_monitoring_site_device(site_id)\n",
    "\n",
    "    site_info = get_site_info(site_id)\n",
    "\n",
    "    if not device:\n",
    "        if not site_info:\n",
    "            Stat.warning('Cannot create device for site %s because no information can be found for it.  Skipping.' % (site_id), host=STAT_HOSTNAME, shortname=STAT_SHORTNAME)\n",
    "            return\n",
    "        device = esdr.get_or_create_device(airnow_product, serial_number=site_id, name=site_info['site name'])\n",
    "\n",
    "    # find the feed, but give the lat/lon for the case where the site has moved, because esdr.get_feed()\n",
    "    # will match by lat/lon if there are multiple feeds for the device\n",
    "    lat = float(site_info['latitude']) if site_info else None\n",
    "    lon = float(site_info['longitude']) if site_info else None\n",
    "    feed = esdr.get_feed(device, lat=lat, lon=lon)\n",
    "\n",
    "    if not feed:\n",
    "        if not site_info:\n",
    "            Stat.warning('Cannot create feed for site %s because no information can be found for it.  Skipping.' % (site_id), host=STAT_HOSTNAME, shortname=STAT_SHORTNAME)\n",
    "            return\n",
    "        feed = esdr.get_or_create_feed(device, lat=lat, lon=lon)\n",
    "\n",
    "    if site_id in accumulated:\n",
    "        channels = accumulated[site_id]\n",
    "\n",
    "        for channel in channels:\n",
    "            try:\n",
    "                esdr.upload(feed, {\n",
    "                    'channel_names': [channel],\n",
    "                    'data': channels[channel]\n",
    "                })\n",
    "                Stat.info('%s/%s, %s: Uploaded %d samples.' % (site_id, device['name'], channel, len(channels[channel])), host=STAT_HOSTNAME, shortname=STAT_SHORTNAME)\n",
    "            except requests.HTTPError as e:\n",
    "                Stat.warning('%s/%s, %s: Failed to upload %d samples (HTTP %d).' %\n",
    "                             (site_id, device['name'], channel, len(channels[channel]), e.response.status_code), host=STAT_HOSTNAME, shortname=STAT_SHORTNAME)\n",
    "            except:\n",
    "                Stat.warning('%s/%s, %s: Failed to upload %d samples.' %\n",
    "                             (site_id, device['name'], channel, len(channels[channel])), host=STAT_HOSTNAME, shortname=STAT_SHORTNAME)\n",
    "    else:\n",
    "        Stat.warning('%s/%s: No accumulated data found. Skipping.' %\n",
    "                             (site_id, device['name']), host=STAT_HOSTNAME, shortname=STAT_SHORTNAME)\n",
    "\n",
    "#upload_site('000010401')\n",
    "#upload_site('000051501')"
   ]
  },
  {
   "cell_type": "code",
   "execution_count": 12,
   "metadata": {
    "collapsed": false,
    "scrolled": true
   },
   "outputs": [
    {
     "name": "stdout",
     "output_type": "stream",
     "text": [
      "Stat.log up UploadAirnowToEsdr airnow Beginning upload of hourly Airnow data to ESDR... None\n"
     ]
    },
    {
     "name": "stdout",
     "output_type": "stream",
     "text": [
      "Accumulating airnow file AirNow/2020030302.dat\n",
      "Stat.log debug UploadAirnowToEsdr airnow Read 14688 records from AirNow/2020030302.dat (0 error(s)) None\n"
     ]
    },
    {
     "name": "stdout",
     "output_type": "stream",
     "text": [
      "Accumulating airnow file AirNow/2020030303.dat\n"
     ]
    },
    {
     "name": "stdout",
     "output_type": "stream",
     "text": [
      "Stat.log debug UploadAirnowToEsdr airnow Read 14866 records from AirNow/2020030303.dat (0 error(s)) None\n"
     ]
    },
    {
     "name": "stdout",
     "output_type": "stream",
     "text": [
      "Accumulating airnow file AirNow/2020030304.dat\n",
      "Stat.log debug UploadAirnowToEsdr airnow Read 7387 records from AirNow/2020030304.dat (0 error(s)) None\n"
     ]
    },
    {
     "name": "stdout",
     "output_type": "stream",
     "text": [
      "Accumulating airnow file AirNow/2020030307.dat\n",
      "Stat.log debug UploadAirnowToEsdr airnow Read 14826 records from AirNow/2020030307.dat (0 error(s)) None\n"
     ]
    },
    {
     "name": "stdout",
     "output_type": "stream",
     "text": [
      "Accumulating airnow file AirNow/2020030308.dat\n",
      "Stat.log debug UploadAirnowToEsdr airnow Read 14840 records from AirNow/2020030308.dat (0 error(s)) None\n"
     ]
    },
    {
     "name": "stdout",
     "output_type": "stream",
     "text": [
      "Accumulating airnow file AirNow/2020030309.dat\n"
     ]
    },
    {
     "name": "stdout",
     "output_type": "stream",
     "text": [
      "Stat.log debug UploadAirnowToEsdr airnow Read 14892 records from AirNow/2020030309.dat (0 error(s)) None\n"
     ]
    },
    {
     "name": "stdout",
     "output_type": "stream",
     "text": [
      "Accumulating airnow file AirNow/2020030310.dat\n",
      "Stat.log debug UploadAirnowToEsdr airnow Read 14838 records from AirNow/2020030310.dat (0 error(s)) None\n"
     ]
    },
    {
     "name": "stdout",
     "output_type": "stream",
     "text": [
      "Accumulating airnow file AirNow/2020030311.dat\n",
      "Stat.log debug UploadAirnowToEsdr airnow Read 14859 records from AirNow/2020030311.dat (0 error(s)) None\n"
     ]
    },
    {
     "name": "stdout",
     "output_type": "stream",
     "text": [
      "Accumulating airnow file AirNow/2020030313.dat\n"
     ]
    },
    {
     "name": "stdout",
     "output_type": "stream",
     "text": [
      "Stat.log debug UploadAirnowToEsdr airnow Read 14931 records from AirNow/2020030313.dat (0 error(s)) None\n"
     ]
    },
    {
     "name": "stdout",
     "output_type": "stream",
     "text": [
      "Accumulating airnow file AirNow/2020030314.dat\n",
      "Stat.log debug UploadAirnowToEsdr airnow Read 14758 records from AirNow/2020030314.dat (0 error(s)) None\n"
     ]
    },
    {
     "name": "stdout",
     "output_type": "stream",
     "text": [
      "Accumulating airnow file AirNow/2020030315.dat\n",
      "Stat.log debug UploadAirnowToEsdr airnow Read 7441 records from AirNow/2020030315.dat (0 error(s)) None"
     ]
    },
    {
     "name": "stdout",
     "output_type": "stream",
     "text": [
      "\n"
     ]
    },
    {
     "name": "stdout",
     "output_type": "stream",
     "text": [
      "Accumulating airnow file AirNow/2020030316.dat\n",
      "Stat.log debug UploadAirnowToEsdr airnow Read 14562 records from AirNow/2020030316.dat (0 error(s)) None\n"
     ]
    },
    {
     "name": "stdout",
     "output_type": "stream",
     "text": [
      "Accumulating airnow file AirNow/2020030319.dat\n",
      "Stat.log debug UploadAirnowToEsdr airnow Read 14847 records from AirNow/2020030319.dat (0 error(s)) None"
     ]
    },
    {
     "name": "stdout",
     "output_type": "stream",
     "text": [
      "\n"
     ]
    },
    {
     "name": "stdout",
     "output_type": "stream",
     "text": [
      "Accumulating airnow file AirNow/2020030321.dat\n"
     ]
    },
    {
     "name": "stdout",
     "output_type": "stream",
     "text": [
      "Stat.log debug UploadAirnowToEsdr airnow Read 14897 records from AirNow/2020030321.dat (0 error(s)) None\n"
     ]
    },
    {
     "name": "stdout",
     "output_type": "stream",
     "text": [
      "Accumulating airnow file AirNow/2020030323.dat\n",
      "Stat.log debug UploadAirnowToEsdr airnow Read 14991 records from AirNow/2020030323.dat (0 error(s)) None\n"
     ]
    },
    {
     "name": "stdout",
     "output_type": "stream",
     "text": [
      "Accumulating airnow file AirNow/2020030400.dat\n",
      "Stat.log debug UploadAirnowToEsdr airnow Read 14475 records from AirNow/2020030400.dat (0 error(s)) None\n"
     ]
    },
    {
     "name": "stdout",
     "output_type": "stream",
     "text": [
      "Accumulating airnow file AirNow/2020030401.dat\n",
      "Stat.log debug UploadAirnowToEsdr airnow Read 14794 records from AirNow/2020030401.dat (0 error(s)) None\n"
     ]
    },
    {
     "name": "stdout",
     "output_type": "stream",
     "text": [
      "Accumulating airnow file AirNow/2020030402.dat\n"
     ]
    },
    {
     "name": "stdout",
     "output_type": "stream",
     "text": [
      "Stat.log debug UploadAirnowToEsdr airnow Read 14767 records from AirNow/2020030402.dat (0 error(s)) None\n"
     ]
    },
    {
     "name": "stdout",
     "output_type": "stream",
     "text": [
      "Accumulating airnow file AirNow/2020030403.dat\n"
     ]
    },
    {
     "name": "stdout",
     "output_type": "stream",
     "text": [
      "Stat.log debug UploadAirnowToEsdr airnow Read 14803 records from AirNow/2020030403.dat (0 error(s)) None\n"
     ]
    },
    {
     "name": "stdout",
     "output_type": "stream",
     "text": [
      "Accumulating airnow file AirNow/2020030404.dat\n",
      "Stat.log debug UploadAirnowToEsdr airnow Read 14628 records from AirNow/2020030404.dat (0 error(s)) None\n"
     ]
    },
    {
     "name": "stdout",
     "output_type": "stream",
     "text": [
      "Accumulating airnow file AirNow/2020030405.dat\n"
     ]
    },
    {
     "name": "stdout",
     "output_type": "stream",
     "text": [
      "Stat.log debug UploadAirnowToEsdr airnow Read 14737 records from AirNow/2020030405.dat (0 error(s)) None\n"
     ]
    },
    {
     "name": "stdout",
     "output_type": "stream",
     "text": [
      "Accumulating airnow file AirNow/2020030406.dat\n",
      "Stat.log debug UploadAirnowToEsdr airnow Read 14786 records from AirNow/2020030406.dat (0 error(s)) None\n"
     ]
    },
    {
     "name": "stdout",
     "output_type": "stream",
     "text": [
      "Accumulating airnow file AirNow/2020030407.dat\n"
     ]
    },
    {
     "name": "stdout",
     "output_type": "stream",
     "text": [
      "Stat.log debug UploadAirnowToEsdr airnow Read 14838 records from AirNow/2020030407.dat (0 error(s)) None\n"
     ]
    },
    {
     "name": "stdout",
     "output_type": "stream",
     "text": [
      "Accumulating airnow file AirNow/2020030408.dat\n",
      "Stat.log debug UploadAirnowToEsdr airnow Read 14724 records from AirNow/2020030408.dat (0 error(s)) None\n"
     ]
    },
    {
     "name": "stdout",
     "output_type": "stream",
     "text": [
      "Accumulating airnow file AirNow/2020030409.dat\n",
      "Stat.log debug UploadAirnowToEsdr airnow Read 14662 records from AirNow/2020030409.dat (0 error(s)) None"
     ]
    },
    {
     "name": "stdout",
     "output_type": "stream",
     "text": [
      "\n"
     ]
    },
    {
     "name": "stdout",
     "output_type": "stream",
     "text": [
      "Accumulating airnow file AirNow/2020030410.dat\n",
      "Stat.log debug UploadAirnowToEsdr airnow Read 14632 records from AirNow/2020030410.dat (0 error(s)) None\n"
     ]
    },
    {
     "name": "stdout",
     "output_type": "stream",
     "text": [
      "Accumulating airnow file AirNow/2020030411.dat\n",
      "Stat.log debug UploadAirnowToEsdr airnow Read 7374 records from AirNow/2020030411.dat (0 error(s)) None\n"
     ]
    },
    {
     "name": "stdout",
     "output_type": "stream",
     "text": [
      "Accumulating airnow file AirNow/2020030413.dat\n",
      "Stat.log debug UploadAirnowToEsdr airnow Read 14760 records from AirNow/2020030413.dat (0 error(s)) None\n"
     ]
    },
    {
     "name": "stdout",
     "output_type": "stream",
     "text": [
      "Accumulating airnow file AirNow/2020030414.dat\n",
      "Stat.log debug UploadAirnowToEsdr airnow Read 14609 records from AirNow/2020030414.dat (0 error(s)) None\n"
     ]
    },
    {
     "name": "stdout",
     "output_type": "stream",
     "text": [
      "Accumulating airnow file AirNow/2020030415.dat\n",
      "Stat.log debug UploadAirnowToEsdr airnow Read 7436 records from AirNow/2020030415.dat (0 error(s)) None\n"
     ]
    },
    {
     "name": "stdout",
     "output_type": "stream",
     "text": [
      "Accumulating airnow file AirNow/2020030416.dat\n",
      "Stat.log debug UploadAirnowToEsdr airnow Read 14342 records from AirNow/2020030416.dat (0 error(s)) None\n"
     ]
    },
    {
     "name": "stdout",
     "output_type": "stream",
     "text": [
      "Accumulating airnow file AirNow/2020030417.dat\n",
      "Stat.log debug UploadAirnowToEsdr airnow Read 14512 records from AirNow/2020030417.dat (0 error(s)) None\n"
     ]
    },
    {
     "name": "stdout",
     "output_type": "stream",
     "text": [
      "Accumulating airnow file AirNow/2020030418.dat\n",
      "Stat.log debug UploadAirnowToEsdr airnow Read 14549 records from AirNow/2020030418.dat (0 error(s)) None"
     ]
    },
    {
     "name": "stdout",
     "output_type": "stream",
     "text": [
      "\n"
     ]
    },
    {
     "name": "stdout",
     "output_type": "stream",
     "text": [
      "Accumulating airnow file AirNow/2020030419.dat\n"
     ]
    },
    {
     "name": "stdout",
     "output_type": "stream",
     "text": [
      "Stat.log debug UploadAirnowToEsdr airnow Read 14573 records from AirNow/2020030419.dat (0 error(s)) None\n"
     ]
    },
    {
     "name": "stdout",
     "output_type": "stream",
     "text": [
      "Accumulating airnow file AirNow/2020030420.dat\n",
      "Stat.log debug UploadAirnowToEsdr airnow Read 14585 records from AirNow/2020030420.dat (0 error(s)) None\n"
     ]
    },
    {
     "name": "stdout",
     "output_type": "stream",
     "text": [
      "Accumulating airnow file AirNow/2020030421.dat\n"
     ]
    },
    {
     "name": "stdout",
     "output_type": "stream",
     "text": [
      "Stat.log debug UploadAirnowToEsdr airnow Read 14570 records from AirNow/2020030421.dat (0 error(s)) None\n"
     ]
    },
    {
     "name": "stdout",
     "output_type": "stream",
     "text": [
      "Accumulating airnow file AirNow/2020030422.dat\n",
      "Stat.log debug UploadAirnowToEsdr airnow Read 14658 records from AirNow/2020030422.dat (0 error(s)) None\n"
     ]
    },
    {
     "name": "stdout",
     "output_type": "stream",
     "text": [
      "Accumulating airnow file AirNow/2020030423.dat\n"
     ]
    },
    {
     "name": "stdout",
     "output_type": "stream",
     "text": [
      "Stat.log debug UploadAirnowToEsdr airnow Read 14568 records from AirNow/2020030423.dat (0 error(s)) None\n"
     ]
    },
    {
     "name": "stdout",
     "output_type": "stream",
     "text": [
      "Accumulating airnow file AirNow/2020030500.dat\n",
      "Stat.log debug UploadAirnowToEsdr airnow Read 14806 records from AirNow/2020030500.dat (0 error(s)) None\n"
     ]
    },
    {
     "name": "stdout",
     "output_type": "stream",
     "text": [
      "Accumulating airnow file AirNow/2020030501.dat\n",
      "Stat.log debug UploadAirnowToEsdr airnow Read 6752 records from AirNow/2020030501.dat (0 error(s)) None\n"
     ]
    },
    {
     "name": "stdout",
     "output_type": "stream",
     "text": [
      "Uploading site 0\n"
     ]
    },
    {
     "name": "stdout",
     "output_type": "stream",
     "text": [
      "Stat.log info UploadAirnowToEsdr airnow 000010102/St. John's, OZONE: Uploaded 40 samples. None\n"
     ]
    },
    {
     "name": "stdout",
     "output_type": "stream",
     "text": [
      "Uploading site 1\n"
     ]
    },
    {
     "name": "stdout",
     "output_type": "stream",
     "text": [
      "Stat.log info UploadAirnowToEsdr airnow 000010401/Mount Pearl, OZONE: Uploaded 40 samples. None\n"
     ]
    },
    {
     "name": "stdout",
     "output_type": "stream",
     "text": [
      "Stat.log info UploadAirnowToEsdr airnow 000010401/Mount Pearl, PM2_5: Uploaded 40 samples. None\n"
     ]
    },
    {
     "name": "stdout",
     "output_type": "stream",
     "text": [
      "Uploading site 2\n"
     ]
    },
    {
     "name": "stdout",
     "output_type": "stream",
     "text": [
      "Stat.log info UploadAirnowToEsdr airnow 000010501/Grand Falls Windsor, OZONE: Uploaded 40 samples. None\n"
     ]
    },
    {
     "name": "stdout",
     "output_type": "stream",
     "text": [
      "Uploading site 3\n"
     ]
    },
    {
     "name": "stdout",
     "output_type": "stream",
     "text": [
      "Stat.log info UploadAirnowToEsdr airnow 000010601/Goose Bay, OZONE: Uploaded 40 samples. None\n"
     ]
    },
    {
     "name": "stdout",
     "output_type": "stream",
     "text": [
      "Uploading site 4\n"
     ]
    },
    {
     "name": "stdout",
     "output_type": "stream",
     "text": [
      "Stat.log info UploadAirnowToEsdr airnow 000010602/MacPherson Avenue - Corner Brook, PM2_5: Uploaded 40 samples. None\n"
     ]
    },
    {
     "name": "stdout",
     "output_type": "stream",
     "text": [
      "Uploading site 5\n"
     ]
    },
    {
     "name": "stdout",
     "output_type": "stream",
     "text": [
      "Stat.log info UploadAirnowToEsdr airnow 000010801/Port au Choix, OZONE: Uploaded 40 samples. None\n"
     ]
    },
    {
     "name": "stdout",
     "output_type": "stream",
     "text": [
      "Uploading site 6\n"
     ]
    },
    {
     "name": "stdout",
     "output_type": "stream",
     "text": [
      "Stat.log info UploadAirnowToEsdr airnow 000010901/Marystown/Burin, PM2_5: Uploaded 40 samples. None\n"
     ]
    },
    {
     "name": "stdout",
     "output_type": "stream",
     "text": [
      "Uploading site 7\n"
     ]
    },
    {
     "name": "stdout",
     "output_type": "stream",
     "text": [
      "Stat.log info UploadAirnowToEsdr airnow 000020104/CHARLOTTETOWN, NO: Uploaded 25 samples. None\n"
     ]
    },
    {
     "name": "stdout",
     "output_type": "stream",
     "text": [
      "Stat.log info UploadAirnowToEsdr airnow 000020104/CHARLOTTETOWN, NO2: Uploaded 25 samples. None\n"
     ]
    },
    {
     "name": "stdout",
     "output_type": "stream",
     "text": [
      "Stat.log info UploadAirnowToEsdr airnow 000020104/CHARLOTTETOWN, OZONE: Uploaded 25 samples. None\n"
     ]
    },
    {
     "name": "stdout",
     "output_type": "stream",
     "text": [
      "Stat.log info UploadAirnowToEsdr airnow 000020104/CHARLOTTETOWN, PM2_5: Uploaded 25 samples. None\n"
     ]
    },
    {
     "name": "stdout",
     "output_type": "stream",
     "text": [
      "Stat.log info UploadAirnowToEsdr airnow 000020104/CHARLOTTETOWN, SO2: Uploaded 20 samples. None\n"
     ]
    },
    {
     "name": "stdout",
     "output_type": "stream",
     "text": [
      "Uploading site 8\n"
     ]
    },
    {
     "name": "stdout",
     "output_type": "stream",
     "text": [
      "Stat.log info UploadAirnowToEsdr airnow 000020301/WELLINGTON, NO: Uploaded 25 samples. None\n"
     ]
    },
    {
     "name": "stdout",
     "output_type": "stream",
     "text": [
      "Stat.log info UploadAirnowToEsdr airnow 000020301/WELLINGTON, NO2: Uploaded 23 samples. None\n"
     ]
    },
    {
     "name": "stdout",
     "output_type": "stream",
     "text": [
      "Stat.log info UploadAirnowToEsdr airnow 000020301/WELLINGTON, OZONE: Uploaded 25 samples. None\n"
     ]
    },
    {
     "name": "stdout",
     "output_type": "stream",
     "text": [
      "Stat.log info UploadAirnowToEsdr airnow 000020301/WELLINGTON, PM2_5: Uploaded 25 samples. None\n"
     ]
    },
    {
     "name": "stdout",
     "output_type": "stream",
     "text": [
      "Uploading site 9\n"
     ]
    },
    {
     "name": "stdout",
     "output_type": "stream",
     "text": [
      "Stat.log info UploadAirnowToEsdr airnow 000020401/SOUTHAMPTON, NO: Uploaded 25 samples. None\n"
     ]
    },
    {
     "name": "stdout",
     "output_type": "stream",
     "text": [
      "Stat.log info UploadAirnowToEsdr airnow 000020401/SOUTHAMPTON, NO2: Uploaded 25 samples. None\n"
     ]
    },
    {
     "name": "stdout",
     "output_type": "stream",
     "text": [
      "Stat.log info UploadAirnowToEsdr airnow 000020401/SOUTHAMPTON, OZONE: Uploaded 25 samples. None\n"
     ]
    },
    {
     "name": "stdout",
     "output_type": "stream",
     "text": [
      "Stat.log info UploadAirnowToEsdr airnow 000020401/SOUTHAMPTON, PM2_5: Uploaded 25 samples. None\n"
     ]
    },
    {
     "name": "stdout",
     "output_type": "stream",
     "text": [
      "Uploading site 10\n"
     ]
    },
    {
     "name": "stdout",
     "output_type": "stream",
     "text": [
      "Stat.log info UploadAirnowToEsdr airnow 000030113/JOHNSTON BUILDING -, PM2_5: Uploaded 40 samples. None\n"
     ]
    },
    {
     "name": "stdout",
     "output_type": "stream",
     "text": [
      "Uploading site 11\n"
     ]
    },
    {
     "name": "stdout",
     "output_type": "stream",
     "text": [
      "Stat.log info UploadAirnowToEsdr airnow 000030120/Lake Major, NO: Uploaded 39 samples. None\n"
     ]
    },
    {
     "name": "stdout",
     "output_type": "stream",
     "text": [
      "Stat.log info UploadAirnowToEsdr airnow 000030120/Lake Major, OZONE: Uploaded 34 samples. None\n"
     ]
    },
    {
     "name": "stdout",
     "output_type": "stream",
     "text": [
      "Stat.log info UploadAirnowToEsdr airnow 000030120/Lake Major, PM2_5: Uploaded 39 samples. None\n"
     ]
    },
    {
     "name": "stdout",
     "output_type": "stream",
     "text": [
      "Uploading site 12\n"
     ]
    },
    {
     "name": "stdout",
     "output_type": "stream",
     "text": [
      "Stat.log info UploadAirnowToEsdr airnow 000030201/PORT HAWKESBURY, NO: Uploaded 40 samples. None\n"
     ]
    },
    {
     "name": "stdout",
     "output_type": "stream",
     "text": [
      "Stat.log info UploadAirnowToEsdr airnow 000030201/PORT HAWKESBURY, NO2: Uploaded 40 samples. None\n"
     ]
    },
    {
     "name": "stdout",
     "output_type": "stream",
     "text": [
      "Stat.log info UploadAirnowToEsdr airnow 000030201/PORT HAWKESBURY, OZONE: Uploaded 40 samples. None\n"
     ]
    },
    {
     "name": "stdout",
     "output_type": "stream",
     "text": [
      "Stat.log info UploadAirnowToEsdr airnow 000030201/PORT HAWKESBURY, PM2_5: Uploaded 40 samples. None\n"
     ]
    },
    {
     "name": "stdout",
     "output_type": "stream",
     "text": [
      "Uploading site 13\n"
     ]
    },
    {
     "name": "stdout",
     "output_type": "stream",
     "text": [
      "Stat.log info UploadAirnowToEsdr airnow 000030310/SYDNEY, NO: Uploaded 40 samples. None\n"
     ]
    },
    {
     "name": "stdout",
     "output_type": "stream",
     "text": [
      "Stat.log info UploadAirnowToEsdr airnow 000030310/SYDNEY, NO2: Uploaded 40 samples. None\n"
     ]
    },
    {
     "name": "stdout",
     "output_type": "stream",
     "text": [
      "Stat.log info UploadAirnowToEsdr airnow 000030310/SYDNEY, OZONE: Uploaded 40 samples. None\n"
     ]
    },
    {
     "name": "stdout",
     "output_type": "stream",
     "text": [
      "Stat.log info UploadAirnowToEsdr airnow 000030310/SYDNEY, PM2_5: Uploaded 40 samples. None\n"
     ]
    },
    {
     "name": "stdout",
     "output_type": "stream",
     "text": [
      "Stat.log info UploadAirnowToEsdr airnow 000030310/SYDNEY, SO2: Uploaded 40 samples. None\n"
     ]
    },
    {
     "name": "stdout",
     "output_type": "stream",
     "text": [
      "Uploading site 14\n"
     ]
    },
    {
     "name": "stdout",
     "output_type": "stream",
     "text": [
      "Stat.log info UploadAirnowToEsdr airnow 000030502/Kejimkujik Site B, OZONE: Uploaded 40 samples. None\n"
     ]
    },
    {
     "name": "stdout",
     "output_type": "stream",
     "text": [
      "Uploading site 15\n"
     ]
    },
    {
     "name": "stdout",
     "output_type": "stream",
     "text": [
      "Stat.log info UploadAirnowToEsdr airnow 000030701/AYLESFORD MOUNTAIN, OZONE: Uploaded 40 samples. None\n"
     ]
    },
    {
     "name": "stdout",
     "output_type": "stream",
     "text": [
      "Stat.log info UploadAirnowToEsdr airnow 000030701/AYLESFORD MOUNTAIN, PM2_5: Uploaded 35 samples. None\n"
     ]
    },
    {
     "name": "stdout",
     "output_type": "stream",
     "text": [
      "Uploading site 16\n"
     ]
    },
    {
     "name": "stdout",
     "output_type": "stream",
     "text": [
      "Stat.log info UploadAirnowToEsdr airnow 000030901/PICTOU, NO: Uploaded 40 samples. None\n"
     ]
    },
    {
     "name": "stdout",
     "output_type": "stream",
     "text": [
      "Stat.log info UploadAirnowToEsdr airnow 000030901/PICTOU, NO2: Uploaded 40 samples. None\n"
     ]
    },
    {
     "name": "stdout",
     "output_type": "stream",
     "text": [
      "Stat.log info UploadAirnowToEsdr airnow 000030901/PICTOU, OZONE: Uploaded 40 samples. None\n"
     ]
    },
    {
     "name": "stdout",
     "output_type": "stream",
     "text": [
      "Stat.log info UploadAirnowToEsdr airnow 000030901/PICTOU, PM2_5: Uploaded 40 samples. None\n"
     ]
    },
    {
     "name": "stdout",
     "output_type": "stream",
     "text": [
      "Uploading site 17\n"
     ]
    },
    {
     "name": "stdout",
     "output_type": "stream",
     "text": [
      "Stat.log info UploadAirnowToEsdr airnow 000031101/KENTVILLE, OZONE: Uploaded 40 samples. None\n"
     ]
    },
    {
     "name": "stdout",
     "output_type": "stream",
     "text": [
      "Stat.log info UploadAirnowToEsdr airnow 000031101/KENTVILLE, PM2_5: Uploaded 40 samples. None\n"
     ]
    },
    {
     "name": "stdout",
     "output_type": "stream",
     "text": [
      "Uploading site 18\n"
     ]
    },
    {
     "name": "stdout",
     "output_type": "stream",
     "text": [
      "Stat.log info UploadAirnowToEsdr airnow 000040104/FREDERICTON-NEEDHAM ST., NO2: Uploaded 40 samples. None\n"
     ]
    },
    {
     "name": "stdout",
     "output_type": "stream",
     "text": [
      "Stat.log info UploadAirnowToEsdr airnow 000040104/FREDERICTON-NEEDHAM ST., OZONE: Uploaded 40 samples. None\n"
     ]
    },
    {
     "name": "stdout",
     "output_type": "stream",
     "text": [
      "Stat.log info UploadAirnowToEsdr airnow 000040104/FREDERICTON-NEEDHAM ST., PM2_5: Uploaded 40 samples. None\n"
     ]
    },
    {
     "name": "stdout",
     "output_type": "stream",
     "text": [
      "Uploading site 19\n"
     ]
    },
    {
     "name": "stdout",
     "output_type": "stream",
     "text": [
      "Stat.log info UploadAirnowToEsdr airnow 000040203/FOREST HILLS, OZONE: Uploaded 40 samples. None\n"
     ]
    },
    {
     "name": "stdout",
     "output_type": "stream",
     "text": [
      "Stat.log info UploadAirnowToEsdr airnow 000040203/FOREST HILLS, PM2_5: Uploaded 40 samples. None\n"
     ]
    },
    {
     "name": "stdout",
     "output_type": "stream",
     "text": [
      "Uploading site 20\n"
     ]
    },
    {
     "name": "stdout",
     "output_type": "stream",
     "text": [
      "Stat.log info UploadAirnowToEsdr airnow 000040207/SAINT JOHN WEST, OZONE: Uploaded 40 samples. None\n"
     ]
    },
    {
     "name": "stdout",
     "output_type": "stream",
     "text": [
      "Stat.log info UploadAirnowToEsdr airnow 000040207/SAINT JOHN WEST, PM2_5: Uploaded 40 samples. None\n"
     ]
    },
    {
     "name": "stdout",
     "output_type": "stream",
     "text": [
      "Uploading site 21\n"
     ]
    },
    {
     "name": "stdout",
     "output_type": "stream",
     "text": [
      "Stat.log info UploadAirnowToEsdr airnow 000040209/CASTLE ST. SAINT JO, PM2_5: Uploaded 40 samples. None\n"
     ]
    },
    {
     "name": "stdout",
     "output_type": "stream",
     "text": [
      "Uploading site 22\n"
     ]
    },
    {
     "name": "stdout",
     "output_type": "stream",
     "text": [
      "Stat.log info UploadAirnowToEsdr airnow 000040302/MONCTON, NO2: Uploaded 38 samples. None\n"
     ]
    },
    {
     "name": "stdout",
     "output_type": "stream",
     "text": [
      "Stat.log info UploadAirnowToEsdr airnow 000040302/MONCTON, OZONE: Uploaded 40 samples. None\n"
     ]
    },
    {
     "name": "stdout",
     "output_type": "stream",
     "text": [
      "Stat.log info UploadAirnowToEsdr airnow 000040302/MONCTON, PM2_5: Uploaded 40 samples. None\n"
     ]
    },
    {
     "name": "stdout",
     "output_type": "stream",
     "text": [
      "Uploading site 23\n"
     ]
    },
    {
     "name": "stdout",
     "output_type": "stream",
     "text": [
      "Stat.log info UploadAirnowToEsdr airnow 000040901/ST ANDREWS, OZONE: Uploaded 40 samples. None\n"
     ]
    },
    {
     "name": "stdout",
     "output_type": "stream",
     "text": [
      "Stat.log info UploadAirnowToEsdr airnow 000040901/ST ANDREWS, PM2_5: Uploaded 37 samples. None\n"
     ]
    },
    {
     "name": "stdout",
     "output_type": "stream",
     "text": [
      "Uploading site 24\n"
     ]
    },
    {
     "name": "stdout",
     "output_type": "stream",
     "text": [
      "Stat.log info UploadAirnowToEsdr airnow 000041302/BATHURST, NO2: Uploaded 40 samples. None\n"
     ]
    },
    {
     "name": "stdout",
     "output_type": "stream",
     "text": [
      "Stat.log info UploadAirnowToEsdr airnow 000041302/BATHURST, OZONE: Uploaded 40 samples. None\n"
     ]
    },
    {
     "name": "stdout",
     "output_type": "stream",
     "text": [
      "Stat.log info UploadAirnowToEsdr airnow 000041302/BATHURST, PM2_5: Uploaded 40 samples. None\n"
     ]
    },
    {
     "name": "stdout",
     "output_type": "stream",
     "text": [
      "Uploading site 25\n"
     ]
    },
    {
     "name": "stdout",
     "output_type": "stream",
     "text": [
      "Stat.log info UploadAirnowToEsdr airnow 000041501/EDMUNDSTON QUEEN ST., PM2_5: Uploaded 40 samples. None\n"
     ]
    },
    {
     "name": "stdout",
     "output_type": "stream",
     "text": [
      "Uploading site 26\n"
     ]
    },
    {
     "name": "stdout",
     "output_type": "stream",
     "text": [
      "Stat.log info UploadAirnowToEsdr airnow 000050113/Chomedey, OZONE: Uploaded 40 samples. None\n"
     ]
    },
    {
     "name": "stdout",
     "output_type": "stream",
     "text": [
      "Uploading site 27\n"
     ]
    },
    {
     "name": "stdout",
     "output_type": "stream",
     "text": [
      "Stat.log info UploadAirnowToEsdr airnow 000050119/Bourassa, OZONE: Uploaded 35 samples. None\n"
     ]
    },
    {
     "name": "stdout",
     "output_type": "stream",
     "text": [
      "Uploading site 28\n"
     ]
    },
    {
     "name": "stdout",
     "output_type": "stream",
     "text": [
      "Stat.log info UploadAirnowToEsdr airnow 000050204/Hull (Ile), OZONE: Uploaded 40 samples. None\n"
     ]
    },
    {
     "name": "stdout",
     "output_type": "stream",
     "text": [
      "Uploading site 29\n"
     ]
    },
    {
     "name": "stdout",
     "output_type": "stream",
     "text": [
      "Stat.log info UploadAirnowToEsdr airnow 000050308/Des Sables, OZONE: Uploaded 40 samples. None\n"
     ]
    },
    {
     "name": "stdout",
     "output_type": "stream",
     "text": [
      "Uploading site 30\n"
     ]
    },
    {
     "name": "stdout",
     "output_type": "stream",
     "text": [
      "Stat.log info UploadAirnowToEsdr airnow 000050311/Parc Primavere, NO2: Uploaded 36 samples. None\n"
     ]
    },
    {
     "name": "stdout",
     "output_type": "stream",
     "text": [
      "Stat.log info UploadAirnowToEsdr airnow 000050311/Parc Primavere, OZONE: Uploaded 40 samples. None\n"
     ]
    },
    {
     "name": "stdout",
     "output_type": "stream",
     "text": [
      "Stat.log info UploadAirnowToEsdr airnow 000050311/Parc Primavere, PM2_5: Uploaded 40 samples. None\n"
     ]
    },
    {
     "name": "stdout",
     "output_type": "stream",
     "text": [
      "Uploading site 31\n"
     ]
    },
    {
     "name": "stdout",
     "output_type": "stream",
     "text": [
      "Stat.log info UploadAirnowToEsdr airnow 000050404/Parc Cambron, OZONE: Uploaded 40 samples. None\n"
     ]
    },
    {
     "name": "stdout",
     "output_type": "stream",
     "text": [
      "Uploading site 32\n"
     ]
    },
    {
     "name": "stdout",
     "output_type": "stream",
     "text": [
      "Stat.log info UploadAirnowToEsdr airnow 000050604/Parc Tremblay, OZONE: Uploaded 40 samples. None\n"
     ]
    },
    {
     "name": "stdout",
     "output_type": "stream",
     "text": [
      "Uploading site 33\n"
     ]
    },
    {
     "name": "stdout",
     "output_type": "stream",
     "text": [
      "Stat.log info UploadAirnowToEsdr airnow 000051501/Zéphirin, OZONE: Uploaded 40 samples. None\n"
     ]
    },
    {
     "name": "stdout",
     "output_type": "stream",
     "text": [
      "Stat.log info UploadAirnowToEsdr airnow 000051501/Zéphirin, PM2_5: Uploaded 40 samples. None\n"
     ]
    },
    {
     "name": "stdout",
     "output_type": "stream",
     "text": [
      "Uploading site 34\n"
     ]
    },
    {
     "name": "stdout",
     "output_type": "stream",
     "text": [
      "Stat.log info UploadAirnowToEsdr airnow 000052201/Brossard, OZONE: Uploaded 36 samples. None\n"
     ]
    },
    {
     "name": "stdout",
     "output_type": "stream",
     "text": [
      "Uploading site 35\n"
     ]
    },
    {
     "name": "stdout",
     "output_type": "stream",
     "text": [
      "Stat.log info UploadAirnowToEsdr airnow 000052301/Saint-Faustin, OZONE: Uploaded 40 samples. None\n"
     ]
    },
    {
     "name": "stdout",
     "output_type": "stream",
     "text": [
      "Stat.log info UploadAirnowToEsdr airnow 000052301/Saint-Faustin, PM2_5: Uploaded 40 samples. None\n"
     ]
    },
    {
     "name": "stdout",
     "output_type": "stream",
     "text": [
      "Uploading site 36\n"
     ]
    },
    {
     "name": "stdout",
     "output_type": "stream",
     "text": [
      "Stat.log info UploadAirnowToEsdr airnow 000053201/PÉMONCA, OZONE: Uploaded 40 samples. None\n"
     ]
    },
    {
     "name": "stdout",
     "output_type": "stream",
     "text": [
      "Uploading site 37\n"
     ]
    },
    {
     "name": "stdout",
     "output_type": "stream",
     "text": [
      "Stat.log info UploadAirnowToEsdr airnow 000053301/Deschambault, OZONE: Uploaded 40 samples. None\n"
     ]
    },
    {
     "name": "stdout",
     "output_type": "stream",
     "text": [
      "Uploading site 38\n"
     ]
    },
    {
     "name": "stdout",
     "output_type": "stream",
     "text": [
      "Stat.log info UploadAirnowToEsdr airnow 000053501/François, OZONE: Uploaded 40 samples. None\n"
     ]
    },
    {
     "name": "stdout",
     "output_type": "stream",
     "text": [
      "Uploading site 39\n"
     ]
    },
    {
     "name": "stdout",
     "output_type": "stream",
     "text": [
      "Stat.log info UploadAirnowToEsdr airnow 000053601/N.-D.-du-Rosaire, OZONE: Uploaded 40 samples. None\n"
     ]
    },
    {
     "name": "stdout",
     "output_type": "stream",
     "text": [
      "Uploading site 40\n"
     ]
    },
    {
     "name": "stdout",
     "output_type": "stream",
     "text": [
      "Stat.log info UploadAirnowToEsdr airnow 000053701/HILAIRE, OZONE: Uploaded 39 samples. None\n"
     ]
    },
    {
     "name": "stdout",
     "output_type": "stream",
     "text": [
      "Uploading site 41\n"
     ]
    },
    {
     "name": "stdout",
     "output_type": "stream",
     "text": [
      "Stat.log info UploadAirnowToEsdr airnow 000053801/Tingwick, OZONE: Uploaded 40 samples. None\n"
     ]
    },
    {
     "name": "stdout",
     "output_type": "stream",
     "text": [
      "Uploading site 42\n"
     ]
    },
    {
     "name": "stdout",
     "output_type": "stream",
     "text": [
      "Stat.log info UploadAirnowToEsdr airnow 000053901/Édouard, OZONE: Uploaded 39 samples. None\n"
     ]
    },
    {
     "name": "stdout",
     "output_type": "stream",
     "text": [
      "Uploading site 43\n"
     ]
    },
    {
     "name": "stdout",
     "output_type": "stream",
     "text": [
      "Stat.log info UploadAirnowToEsdr airnow 000054201/Chapais, OZONE: Uploaded 40 samples. None\n"
     ]
    },
    {
     "name": "stdout",
     "output_type": "stream",
     "text": [
      "Uploading site 44\n"
     ]
    },
    {
     "name": "stderr",
     "output_type": "stream",
     "text": [
      "WARNING: Some output was deleted.\n"
     ]
    }
   ],
   "source": [
    "def upload_check_path(src):\n",
    "    return 'upload-airnow-to-esdr/uploaded-' + os.path.basename(src)\n",
    "\n",
    "def upload_accumulated():\n",
    "    i = 0\n",
    "    for site_id in sorted(accumulated.keys()):\n",
    "        print('Uploading site %d' % i)\n",
    "        i += 1\n",
    "        upload_site(site_id)\n",
    "    for src in sorted(accumulated_files):\n",
    "        check_path = upload_check_path(src)\n",
    "        try:\n",
    "            os.makedirs(os.path.dirname(check_path))\n",
    "        except:\n",
    "            pass\n",
    "        open(check_path + '.tmp', 'w').close()\n",
    "        src_epoch_time = accumulated_files[src]\n",
    "        os.utime(check_path + '.tmp', (src_epoch_time, src_epoch_time))\n",
    "        os.rename(check_path + '.tmp', check_path)\n",
    "        Stat.debug('Uploaded %s to ESDR' % (src), host=STAT_HOSTNAME, shortname=STAT_SHORTNAME)\n",
    "    clear_accumulated()\n",
    "    return i\n",
    "\n",
    "def process_all():\n",
    "    Stat.up('Uploading hourly Airnow data to ESDR...', host=STAT_HOSTNAME, shortname=STAT_SHORTNAME)\n",
    "    before = time.time()\n",
    "    clear_accumulated()\n",
    "    for src in sorted(glob.glob('AirNow/[0-9]*.dat')):\n",
    "        if len(accumulated_files) == 1000:\n",
    "            upload_accumulated()\n",
    "        try:\n",
    "            if os.path.getmtime(src) == os.path.getmtime(upload_check_path(src)):\n",
    "                continue\n",
    "        except:\n",
    "            pass\n",
    "\n",
    "        accumulate_airnow_file(src)\n",
    "    nsites = upload_accumulated()\n",
    "    after = time.time()\n",
    "    Stat.up('Done uploading %d sites to ESDR' % nsites, details='Took %.1f minutes' % ((after - before) / 60), host=STAT_HOSTNAME, shortname=STAT_SHORTNAME, valid_for_secs=MIRROR_TIME_PERIOD_SECS*1.5)\n",
    "\n",
    "def process_all_forever():\n",
    "    while True:\n",
    "        process_all()\n",
    "        sleep_until_next_period(MIRROR_TIME_PERIOD_SECS)\n",
    "\n",
    "process_all_forever()"
   ]
  },
  {
   "cell_type": "code",
   "execution_count": 0,
   "metadata": {
    "collapsed": false
   },
   "outputs": [
   ],
   "source": [
   ]
  }
 ],
 "metadata": {
  "kernelspec": {
   "display_name": "Python 3 (Ubuntu Linux)",
   "language": "python",
   "name": "python3"
  },
  "language_info": {
   "codemirror_mode": {
    "name": "ipython",
    "version": 3
   },
   "file_extension": ".py",
   "mimetype": "text/x-python",
   "name": "python",
   "nbconvert_exporter": "python",
   "pygments_lexer": "ipython3",
   "version": "3.6.9"
  }
 },
 "nbformat": 4,
 "nbformat_minor": 0
}