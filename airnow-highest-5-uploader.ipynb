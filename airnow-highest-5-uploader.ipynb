{
 "cells": [
  {
   "cell_type": "markdown",
   "metadata": {
    "collapsed": false
   },
   "source": [
    "# Airnow Highest 5 Uploader\n",
    "\n",
    "Uploads data for Airnow's highest 5 AQI locations to ESDR.\n",
    "\n",
    "Reports to stat.createlab.org as `Airnow Highest Five - Uploader`.\n",
    "\n",
    "Airnow's docs for the highest 5 are here: https://airnow.gov/index.cfm?action=airnow.news_item&newsitemid=103"
   ]
  },
  {
   "cell_type": "code",
   "execution_count": 197,
   "metadata": {
    "collapsed": false
   },
   "outputs": [
   ],
   "source": [
    "import json, os, dateutil, re, requests, subprocess, datetime, glob, stat, urllib.parse\n",
    "\n",
    "from dateutil import rrule, tz, parser\n",
    "from sqlitedict import SqliteDict"
   ]
  },
  {
   "cell_type": "code",
   "execution_count": 198,
   "metadata": {
    "collapsed": false
   },
   "outputs": [
   ],
   "source": [
    "# Boilerplate to load utils.ipynb\n",
    "# See https://github.com/CMU-CREATE-Lab/python-utils/blob/master/utils.ipynb\n",
    "\n",
    "\n",
    "def exec_ipynb(filename_or_url):\n",
    "    nb = (requests.get(filename_or_url).json() if re.match(r'https?:', filename_or_url) else json.load(open(filename_or_url)))\n",
    "    if(nb['nbformat'] >= 4):\n",
    "        src = [''.join(cell['source']) for cell in nb['cells'] if cell['cell_type'] == 'code']\n",
    "    else:\n",
    "        src = [''.join(cell['input']) for cell in nb['worksheets'][0]['cells'] if cell['cell_type'] == 'code']\n",
    "\n",
    "    tmpname = '/tmp/%s-%s-%d.py' % (os.path.basename(filename_or_url),\n",
    "                                    datetime.datetime.now().strftime('%Y%m%d%H%M%S%f'),\n",
    "                                    os.getpid())\n",
    "    src = '\\n\\n\\n'.join(src)\n",
    "    open(tmpname, 'w').write(src)\n",
    "    code = compile(src, tmpname, 'exec')\n",
    "    exec(code, globals())\n",
    "\n",
    "\n",
    "exec_ipynb('./python-utils/utils.ipynb')\n",
    "exec_ipynb('./python-utils/esdr-library.ipynb')\n",
    "exec_ipynb('./airnow-common.ipynb')"
   ]
  },
  {
   "cell_type": "code",
   "execution_count": 199,
   "metadata": {
    "collapsed": false
   },
   "outputs": [
   ],
   "source": [
    "STAT_SERVICE_NAME = 'Airnow Highest Five - Uploader'\n",
    "STAT_HOSTNAME = 'hal21'\n",
    "STAT_SHORTNAME = 'airnow-highest-five-uploader'\n",
    "\n",
    "NUM_FILES_PER_UPLOAD_BATCH = 500\n",
    "\n",
    "RUN_INTERVAL_SECONDS = 60 * 5   # every 5 minutes\n",
    "\n",
    "# This file stores the Geocoding API key named 'airnow-highest-5-uploader.ipynb (hal21)', defined under\n",
    "# the 'Hal21 Cocalc Notebooks' project in the lab admin Google account at https://console.developers.google.com/\n",
    "GOOGLE_API_KEYS_JSON = './google-api-keys.json'\n",
    "\n",
    "# Load the Google API key\n",
    "google_api_keys = {}\n",
    "with open(GOOGLE_API_KEYS_JSON, 'r') as f:\n",
    "    google_api_keys = json.load(f)\n",
    "\n",
    "GEOCODING_API_KEY = google_api_keys['geocoding']\n",
    "GEOCODING_API_URL = 'https://maps.googleapis.com/maps/api/geocode/json?key='+GEOCODING_API_KEY+'&address='"
   ]
  },
  {
   "cell_type": "code",
   "execution_count": 200,
   "metadata": {
    "collapsed": false
   },
   "outputs": [
   ],
   "source": [
    "Stat.set_service(STAT_SERVICE_NAME)"
   ]
  },
  {
   "cell_type": "code",
   "execution_count": 237,
   "metadata": {
    "collapsed": false
   },
   "outputs": [
   ],
   "source": [
    "uploaded_file_timestamps_db = SqliteDict(AirnowCommon.HIGHEST_FIVE_AQI_DIRECTORY + '/uploaded_file_timestamps.db', autocommit=True)"
   ]
  },
  {
   "cell_type": "code",
   "execution_count": 238,
   "metadata": {
    "collapsed": false
   },
   "outputs": [
   ],
   "source": [
    "accumulated_cities = {}\n",
    "accumulated_rankings = {}\n",
    "accumulated_file_timestamps = {}\n",
    "\n",
    "def clear_accumulated():\n",
    "    global accumulated_cities, accumulated_rankings, accumulated_file_timestamps\n",
    "    accumulated_cities = {}\n",
    "    accumulated_rankings = {}\n",
    "    accumulated_file_timestamps = {}\n",
    "\n",
    "# Record format example: 1583863202.348545:1,235,111|2,809,93|3,789,91|4,946,86|5,230,81\n",
    "# A colon separates the Unix timestamp from the rankings.  Rankings are pipe delimited and there should exist 5 per timestamp.\n",
    "# A ranking item consists of three comma-delimited values: the rank index [1-5], the Airnow city ID, and the AQI\n",
    "def process_dat_file(src):\n",
    "    src_epoch_timestamp = os.path.getmtime(src)\n",
    "    dt = datetime.datetime.strptime(os.path.basename(src), '%Y%m%d.dat')\n",
    "    epoch_time = (dt - datetime.datetime(1970, 1, 1)).total_seconds()\n",
    "    Stat.debug('Processing file %s' % src, host=STAT_HOSTNAME, shortname=STAT_SHORTNAME)\n",
    "\n",
    "    num_records_read = 0\n",
    "    with open(src, 'r') as records:\n",
    "        lineno = 0\n",
    "        error_count = 0\n",
    "        for record in records:\n",
    "            lineno += 1\n",
    "            try:\n",
    "                (timestamp, rankings) = record.split(':')\n",
    "                timestamp = float(timestamp)\n",
    "                for ranking in rankings.split('|'):\n",
    "                    (rank, city_id, aqi) = map(int,ranking.split(','))\n",
    "\n",
    "                    if city_id not in accumulated_cities:\n",
    "                        accumulated_cities[city_id] = []\n",
    "                    accumulated_cities[city_id].append([timestamp, rank, aqi])\n",
    "\n",
    "                    if rank not in accumulated_rankings:\n",
    "                        accumulated_rankings[rank] = []\n",
    "                    accumulated_rankings[rank].append([timestamp, city_id, aqi])\n",
    "\n",
    "            except:\n",
    "                Stat.warning('Failed to parse line %d of %s. Skipping.' % (lineno, src), host=STAT_HOSTNAME, shortname=STAT_SHORTNAME)\n",
    "                error_count += 1\n",
    "                continue\n",
    "\n",
    "            num_records_read += 1\n",
    "\n",
    "        if error_count > 5:\n",
    "            raise Exception('Too many parse errors (%d) reading %s, aborting' % (error_count, src))\n",
    "\n",
    "    if error_count > 0:\n",
    "        Stat.warning('Read %d records from %s (%d error(s))' % (num_records_read, src, error_count), host=STAT_HOSTNAME, shortname=STAT_SHORTNAME)\n",
    "    else:\n",
    "        Stat.debug('Read %d records from %s (%d error(s))' % (num_records_read, src, error_count), host=STAT_HOSTNAME, shortname=STAT_SHORTNAME)\n",
    "    accumulated_file_timestamps[src] = src_epoch_timestamp\n",
    "\n",
    "# process_dat_file('../../airnow-data/highest-five-aqi/dat/20200310.dat')\n",
    "# print(json.dumps(accumulated_rankings, sort_keys=True, indent=3))\n",
    "# print(json.dumps(accumulated_cities, sort_keys=True, indent=3))"
   ]
  },
  {
   "cell_type": "code",
   "execution_count": 239,
   "metadata": {
    "collapsed": false
   },
   "outputs": [
   ],
   "source": [
    "cities_cached = None\n",
    "def get_city_info(city_id):\n",
    "    global cities_cached\n",
    "    if not cities_cached:\n",
    "        with open(AirnowCommon.HIGHEST_FIVE_AQI_DIRECTORY + '/airnow_city_id_to_city_info.json', 'r') as f:\n",
    "            cities_cached = json.load(f)\n",
    "\n",
    "    try:\n",
    "        return cities_cached[str(city_id)]\n",
    "    except:\n",
    "        return None\n",
    "\n",
    "# print(json.dumps(get_city_info(164), sort_keys=True, indent=3))  # {\"city\": \"Pittsburgh\", \"state\": \"PA\"}\n",
    "# print(json.dumps(get_city_info('164'), sort_keys=True, indent=3))  # {\"city\": \"Pittsburgh\", \"state\": \"PA\"}\n",
    "# print(json.dumps(get_city_info('-1'), sort_keys=True, indent=3))  # null"
   ]
  },
  {
   "cell_type": "code",
   "execution_count": 240,
   "metadata": {
    "collapsed": false
   },
   "outputs": [
   ],
   "source": [
    "esdr = None\n",
    "highest_five_city_esdr_product = None\n",
    "highest_five_ranking_esdr_product = None"
   ]
  },
  {
   "cell_type": "code",
   "execution_count": 241,
   "metadata": {
    "collapsed": false
   },
   "outputs": [
   ],
   "source": [
    "def get_highest_five_city_esdr_product():\n",
    "    global esdr, highest_five_city_esdr_product\n",
    "    if not esdr:\n",
    "        esdr = Esdr('esdr-auth-airnow-uploader.json', user_agent='esdr-library.py['+STAT_SERVICE_NAME+']')\n",
    "    if not highest_five_city_esdr_product:\n",
    "        highest_five_city_esdr_product = esdr.get_product_by_name('airnow_aqi_highest_five_city')\n",
    "    return highest_five_city_esdr_product\n",
    "\n",
    "def get_highest_five_ranking_esdr_product():\n",
    "    global esdr, highest_five_ranking_esdr_product\n",
    "    if not esdr:\n",
    "        esdr = Esdr('esdr-auth-airnow-uploader.json', user_agent='esdr-library.py['+STAT_SERVICE_NAME+']')\n",
    "    if not highest_five_ranking_esdr_product:\n",
    "        highest_five_ranking_esdr_product = esdr.get_product_by_name('airnow_aqi_highest_five_ranking')\n",
    "    return highest_five_ranking_esdr_product\n",
    "\n",
    "# print(json.dumps(get_highest_five_city_esdr_product(), sort_keys=True, indent=3))  # null\n",
    "# print(json.dumps(get_highest_five_ranking_esdr_product(), sort_keys=True, indent=3))  # null"
   ]
  },
  {
   "cell_type": "code",
   "execution_count": 242,
   "metadata": {
    "collapsed": false
   },
   "outputs": [
   ],
   "source": [
    "# docs at https://developers.google.com/maps/documentation/geocoding/intro\n",
    "def get_lat_lon_for_address(city, state):\n",
    "    try:\n",
    "        address = \"%s, %s\" % (city, state)\n",
    "        response = requests.get(GEOCODING_API_URL + urllib.parse.quote(address))\n",
    "        if (response.status_code >= 200 and response.status_code < 300):\n",
    "            geocode_results = response.json()\n",
    "            if geocode_results and \\\n",
    "                geocode_results['results'] and \\\n",
    "                geocode_results['results'][0] and \\\n",
    "                geocode_results['results'][0]['geometry'] and \\\n",
    "                geocode_results['results'][0]['geometry']['location'] and \\\n",
    "                geocode_results['results'][0]['geometry']['location']['lat'] and \\\n",
    "                geocode_results['results'][0]['geometry']['location']['lng']:\n",
    "                location = geocode_results['results'][0]['geometry']['location']\n",
    "                return {\n",
    "                    \"lat\" : location['lat'],\n",
    "                    \"lon\" : location['lng']\n",
    "                }\n",
    "            else:\n",
    "                Stat.warning(\"Failed to get geocode results for address [%s]\" % (address, response.status_code), host=STAT_HOSTNAME, shortname=STAT_SHORTNAME)\n",
    "        else:\n",
    "            Stat.warning(\"Failed to geocode address [%s] (HTTP %d)\" % (address, response.status_code), host=STAT_HOSTNAME, shortname=STAT_SHORTNAME)\n",
    "    except requests.HTTPError as e:\n",
    "        Stat.warning(\"Failed to geocode address [%s] (HTTP %d)\" % (address, e.response.status_code), host=STAT_HOSTNAME, shortname=STAT_SHORTNAME)\n",
    "    except:\n",
    "        Stat.warning(\"Failed to geocode address [%s]\" % (address), host=STAT_HOSTNAME, shortname=STAT_SHORTNAME)\n",
    "    return None\n",
    "\n",
    "# get_lat_lon_for_address('Pittsburgh','PA')   # {'lat': 40.44062479999999, 'lon': -79.9958864}"
   ]
  },
  {
   "cell_type": "code",
   "execution_count": 243,
   "metadata": {
    "collapsed": false
   },
   "outputs": [
   ],
   "source": [
    "def upload_city(city_id):\n",
    "    global esdr, highest_five_city_esdr_product\n",
    "    if not esdr:\n",
    "        esdr = Esdr('esdr-auth-airnow-uploader.json', user_agent='esdr-library.py['+STAT_SERVICE_NAME+']')\n",
    "    if not highest_five_city_esdr_product:\n",
    "        highest_five_city_esdr_product = get_highest_five_city_esdr_product()\n",
    "\n",
    "    city_info = get_city_info(city_id)\n",
    "\n",
    "    if city_info:\n",
    "        print(\"Uploading city id [%d]\" % city_id)\n",
    "\n",
    "        city_and_state = \"%s, %s [%d]\" % (city_info['city'], city_info['state'], city_id)\n",
    "        device = esdr.get_or_create_device(highest_five_city_esdr_product, serial_number=str(city_id), name=city_and_state)\n",
    "\n",
    "        if device:\n",
    "            feed = esdr.get_feed(device)\n",
    "            if feed == None:\n",
    "                # attempt to geocode\n",
    "                lat_lon = get_lat_lon_for_address(city_info['city'], city_info['state'])\n",
    "                lat = lat_lon['lat'] if lat_lon else None\n",
    "                lon = lat_lon['lon'] if lat_lon else None\n",
    "\n",
    "                # create the feed\n",
    "                feed = esdr.get_or_create_feed(device, lat=lat, lon=lon)\n",
    "                Stat.info('ESDR feed created for city id %d' % (city_id), host=STAT_HOSTNAME, shortname=STAT_SHORTNAME)\n",
    "\n",
    "            if feed:\n",
    "                if city_id in accumulated_cities:\n",
    "                    records = accumulated_cities[city_id]\n",
    "\n",
    "                    try:\n",
    "                        esdr.upload(feed, {\n",
    "                            'channel_names': ['rank', 'aqi'],\n",
    "                            'data': records\n",
    "                        })\n",
    "                        Stat.info('%s: Uploaded %d records' % (device['name'], len(records)), host=STAT_HOSTNAME, shortname=STAT_SHORTNAME)\n",
    "                    except requests.HTTPError as e:\n",
    "                        Stat.warning('%s: Failed to upload %d records (HTTP %d)' % (device['name'], len(records), e.response.status_code), host=STAT_HOSTNAME, shortname=STAT_SHORTNAME)\n",
    "                    except:\n",
    "                        Stat.warning('%s: Failed to upload %d records' % (device['name'], len(records)), host=STAT_HOSTNAME, shortname=STAT_SHORTNAME)\n",
    "                else:\n",
    "                    Stat.warning('%s: No accumulated data found. Skipping.' % (device['name']), host=STAT_HOSTNAME, shortname=STAT_SHORTNAME)\n",
    "            else:\n",
    "                Stat.warning('%s: Failed to find/create the ESDR feed. Skipping.' % (device['name']), host=STAT_HOSTNAME, shortname=STAT_SHORTNAME)\n",
    "        else:\n",
    "            Stat.warning('Failed to find/create the ESDR device for city id %d' % (city_id), host=STAT_HOSTNAME, shortname=STAT_SHORTNAME)\n",
    "    else:\n",
    "        Stat.warning('Skipping upload of unknown city id %d' % (city_id), host=STAT_HOSTNAME, shortname=STAT_SHORTNAME)"
   ]
  },
  {
   "cell_type": "code",
   "execution_count": 244,
   "metadata": {
    "collapsed": false
   },
   "outputs": [
   ],
   "source": [
    "def upload_ranking(ranking):\n",
    "    global esdr, highest_five_ranking_esdr_product\n",
    "    if not esdr:\n",
    "        esdr = Esdr('esdr-auth-airnow-uploader.json', user_agent='esdr-library.py['+STAT_SERVICE_NAME+']')\n",
    "    if not highest_five_ranking_esdr_product:\n",
    "        highest_five_ranking_esdr_product = get_highest_five_ranking_esdr_product()\n",
    "\n",
    "    # TODO...\n",
    "    print(\"Uploading ranking [%d]\" % ranking)"
   ]
  },
  {
   "cell_type": "code",
   "execution_count": 245,
   "metadata": {
    "collapsed": false
   },
   "outputs": [
   ],
   "source": [
    "def upload_accumulated():\n",
    "    global accumulated_cities, accumulated_rankings, uploaded_file_timestamps_db\n",
    "    for city_id in sorted(accumulated_cities.keys()):\n",
    "        upload_city(city_id)\n",
    "    for ranking in sorted(accumulated_rankings.keys()):\n",
    "        upload_ranking(ranking)\n",
    "    for src in sorted(accumulated_file_timestamps):\n",
    "        uploaded_file_timestamps_db[src] = accumulated_file_timestamps[src]\n",
    "        Stat.debug('Uploaded %s to ESDR' % (src), host=STAT_HOSTNAME, shortname=STAT_SHORTNAME)\n",
    "    clear_accumulated()"
   ]
  },
  {
   "cell_type": "code",
   "execution_count": 246,
   "metadata": {
    "collapsed": false
   },
   "outputs": [
   ],
   "source": [
    "def is_unmodified(src):\n",
    "    global uploaded_file_timestamps_db\n",
    "    return os.path.getmtime(src) == uploaded_file_timestamps_db[src]"
   ]
  },
  {
   "cell_type": "code",
   "execution_count": 247,
   "metadata": {
    "collapsed": false,
    "scrolled": true
   },
   "outputs": [
    {
     "name": "stdout",
     "output_type": "stream",
     "text": [
      "Stat.log info Airnow Highest Five - Uploader hal21 Processing 2 data files... None\n"
     ]
    },
    {
     "name": "stdout",
     "output_type": "stream",
     "text": [
      "Stat.log debug Airnow Highest Five - Uploader hal21 Processing file ../../airnow-data/highest-five-aqi/dat/20200310.dat None\n"
     ]
    },
    {
     "name": "stdout",
     "output_type": "stream",
     "text": [
      "Stat.log debug Airnow Highest Five - Uploader hal21 Read 13 records from ../../airnow-data/highest-five-aqi/dat/20200310.dat (0 error(s)) None\n"
     ]
    },
    {
     "name": "stdout",
     "output_type": "stream",
     "text": [
      "Stat.log debug Airnow Highest Five - Uploader hal21 Processing file ../../airnow-data/highest-five-aqi/dat/20200311.dat None\n"
     ]
    },
    {
     "name": "stdout",
     "output_type": "stream",
     "text": [
      "Stat.log debug Airnow Highest Five - Uploader hal21 Read 2 records from ../../airnow-data/highest-five-aqi/dat/20200311.dat (0 error(s)) None\n"
     ]
    },
    {
     "name": "stdout",
     "output_type": "stream",
     "text": [
      "Uploading city id [8]\n",
      "Creating device serialNumber 8, name Lakeland, FL [8]\n"
     ]
    },
    {
     "name": "stdout",
     "output_type": "stream",
     "text": [
      "Creating feed {'name': 'Lakeland, FL [8] airnow_aqi_highest_five_city', 'exposure': 'outdoor', 'isPublic': 1, 'isMobile': 0, 'latitude': 28.0394654, 'longitude': -81.9498042}\n",
      "Stat.log info Airnow Highest Five - Uploader hal21 ESDR feed created for city id 8 None\n"
     ]
    },
    {
     "name": "stdout",
     "output_type": "stream",
     "text": [
      "Stat.log info Airnow Highest Five - Uploader hal21 Lakeland, FL [8]: Uploaded 3 records None\n"
     ]
    },
    {
     "name": "stdout",
     "output_type": "stream",
     "text": [
      "Uploading city id [14]\n",
      "Creating device serialNumber 14, name Tampa, FL [14]\n"
     ]
    },
    {
     "name": "stdout",
     "output_type": "stream",
     "text": [
      "Creating feed {'name': 'Tampa, FL [14] airnow_aqi_highest_five_city', 'exposure': 'outdoor', 'isPublic': 1, 'isMobile': 0, 'latitude': 27.950575, 'longitude': -82.4571776}\n",
      "Stat.log info Airnow Highest Five - Uploader hal21 ESDR feed created for city id 14 None\n"
     ]
    },
    {
     "name": "stdout",
     "output_type": "stream",
     "text": [
      "Stat.log info Airnow Highest Five - Uploader hal21 Tampa, FL [14]: Uploaded 4 records None\n"
     ]
    },
    {
     "name": "stdout",
     "output_type": "stream",
     "text": [
      "Uploading city id [18]\n",
      "Creating device serialNumber 18, name Columbus-Phenix City - GA/AL, GA [18]\n"
     ]
    },
    {
     "name": "stdout",
     "output_type": "stream",
     "text": [
      "Creating feed {'name': 'Columbus-Phenix City - GA/AL, GA [18] airnow_aqi_highest_five_city', 'exposure': 'outdoor', 'isPublic': 1, 'isMobile': 0, 'latitude': 32.4709761, 'longitude': -85.0007653}\n",
      "Stat.log info Airnow Highest Five - Uploader hal21 ESDR feed created for city id 18 None\n"
     ]
    },
    {
     "name": "stdout",
     "output_type": "stream",
     "text": [
      "Stat.log info Airnow Highest Five - Uploader hal21 Columbus-Phenix City - GA/AL, GA [18]: Uploaded 2 records None\n"
     ]
    },
    {
     "name": "stdout",
     "output_type": "stream",
     "text": [
      "Uploading city id [71]\n",
      "Creating device serialNumber 71, name Fall River, MA [71]\n"
     ]
    },
    {
     "name": "stdout",
     "output_type": "stream",
     "text": [
      "Creating feed {'name': 'Fall River, MA [71] airnow_aqi_highest_five_city', 'exposure': 'outdoor', 'isPublic': 1, 'isMobile': 0, 'latitude': 41.7014912, 'longitude': -71.1550451}\n",
      "Stat.log info Airnow Highest Five - Uploader hal21 ESDR feed created for city id 71 None\n"
     ]
    },
    {
     "name": "stdout",
     "output_type": "stream",
     "text": [
      "Stat.log info Airnow Highest Five - Uploader hal21 Fall River, MA [71]: Uploaded 6 records None\n"
     ]
    },
    {
     "name": "stdout",
     "output_type": "stream",
     "text": [
      "Uploading city id [104]\n",
      "Creating device serialNumber 104, name Kansas City, MO [104]\n"
     ]
    },
    {
     "name": "stdout",
     "output_type": "stream",
     "text": [
      "Creating feed {'name': 'Kansas City, MO [104] airnow_aqi_highest_five_city', 'exposure': 'outdoor', 'isPublic': 1, 'isMobile': 0, 'latitude': 39.0997265, 'longitude': -94.5785667}\n",
      "Stat.log info Airnow Highest Five - Uploader hal21 ESDR feed created for city id 104 None\n"
     ]
    },
    {
     "name": "stdout",
     "output_type": "stream",
     "text": [
      "Stat.log info Airnow Highest Five - Uploader hal21 Kansas City, MO [104]: Uploaded 6 records None\n"
     ]
    },
    {
     "name": "stdout",
     "output_type": "stream",
     "text": [
      "Uploading city id [230]\n",
      "Creating device serialNumber 230, name Beaumont-Port Arthur, TX [230]\n"
     ]
    },
    {
     "name": "stdout",
     "output_type": "stream",
     "text": [
      "Creating feed {'name': 'Beaumont-Port Arthur, TX [230] airnow_aqi_highest_five_city', 'exposure': 'outdoor', 'isPublic': 1, 'isMobile': 0, 'latitude': 30.080174, 'longitude': -94.1265562}\n",
      "Stat.log info Airnow Highest Five - Uploader hal21 ESDR feed created for city id 230 None\n"
     ]
    },
    {
     "name": "stdout",
     "output_type": "stream",
     "text": [
      "Stat.log info Airnow Highest Five - Uploader hal21 Beaumont-Port Arthur, TX [230]: Uploaded 3 records None\n"
     ]
    },
    {
     "name": "stdout",
     "output_type": "stream",
     "text": [
      "Uploading city id [232]\n",
      "Creating device serialNumber 232, name Brownsville-McAllen, TX [232]\n"
     ]
    },
    {
     "name": "stdout",
     "output_type": "stream",
     "text": [
      "Creating feed {'name': 'Brownsville-McAllen, TX [232] airnow_aqi_highest_five_city', 'exposure': 'outdoor', 'isPublic': 1, 'isMobile': 0, 'latitude': 25.9017472, 'longitude': -97.4974838}\n",
      "Stat.log info Airnow Highest Five - Uploader hal21 ESDR feed created for city id 232 None\n"
     ]
    },
    {
     "name": "stdout",
     "output_type": "stream",
     "text": [
      "Stat.log info Airnow Highest Five - Uploader hal21 Brownsville-McAllen, TX [232]: Uploaded 3 records None\n"
     ]
    },
    {
     "name": "stdout",
     "output_type": "stream",
     "text": [
      "Uploading city id [234]\n",
      "Creating device serialNumber 234, name Dallas-Fort Worth, TX [234]\n"
     ]
    },
    {
     "name": "stdout",
     "output_type": "stream",
     "text": [
      "Creating feed {'name': 'Dallas-Fort Worth, TX [234] airnow_aqi_highest_five_city', 'exposure': 'outdoor', 'isPublic': 1, 'isMobile': 0, 'latitude': 32.7554883, 'longitude': -97.3307658}\n",
      "Stat.log info Airnow Highest Five - Uploader hal21 ESDR feed created for city id 234 None\n"
     ]
    },
    {
     "name": "stdout",
     "output_type": "stream",
     "text": [
      "Stat.log info Airnow Highest Five - Uploader hal21 Dallas-Fort Worth, TX [234]: Uploaded 1 records None\n"
     ]
    },
    {
     "name": "stdout",
     "output_type": "stream",
     "text": [
      "Uploading city id [235]\n",
      "Creating device serialNumber 235, name El Paso, TX [235]\n"
     ]
    },
    {
     "name": "stdout",
     "output_type": "stream",
     "text": [
      "Creating feed {'name': 'El Paso, TX [235] airnow_aqi_highest_five_city', 'exposure': 'outdoor', 'isPublic': 1, 'isMobile': 0, 'latitude': 31.7618778, 'longitude': -106.4850217}\n"
     ]
    },
    {
     "name": "stdout",
     "output_type": "stream",
     "text": [
      "Stat.log info Airnow Highest Five - Uploader hal21 ESDR feed created for city id 235 None\n"
     ]
    },
    {
     "name": "stdout",
     "output_type": "stream",
     "text": [
      "Stat.log info Airnow Highest Five - Uploader hal21 El Paso, TX [235]: Uploaded 1 records None\n"
     ]
    },
    {
     "name": "stdout",
     "output_type": "stream",
     "text": [
      "Uploading city id [237]\n",
      "Creating device serialNumber 237, name Laredo, TX [237]\n"
     ]
    },
    {
     "name": "stdout",
     "output_type": "stream",
     "text": [
      "Creating feed {'name': 'Laredo, TX [237] airnow_aqi_highest_five_city', 'exposure': 'outdoor', 'isPublic': 1, 'isMobile': 0, 'latitude': 27.5035613, 'longitude': -99.5075519}\n",
      "Stat.log info Airnow Highest Five - Uploader hal21 ESDR feed created for city id 237 None\n"
     ]
    },
    {
     "name": "stdout",
     "output_type": "stream",
     "text": [
      "Stat.log info Airnow Highest Five - Uploader hal21 Laredo, TX [237]: Uploaded 1 records None\n"
     ]
    },
    {
     "name": "stdout",
     "output_type": "stream",
     "text": [
      "Uploading city id [240]\n",
      "Creating device serialNumber 240, name San Antonio, TX [240]\n"
     ]
    },
    {
     "name": "stdout",
     "output_type": "stream",
     "text": [
      "Creating feed {'name': 'San Antonio, TX [240] airnow_aqi_highest_five_city', 'exposure': 'outdoor', 'isPublic': 1, 'isMobile': 0, 'latitude': 29.4241219, 'longitude': -98.49362819999999}\n",
      "Stat.log info Airnow Highest Five - Uploader hal21 ESDR feed created for city id 240 None\n"
     ]
    },
    {
     "name": "stdout",
     "output_type": "stream",
     "text": [
      "Stat.log info Airnow Highest Five - Uploader hal21 San Antonio, TX [240]: Uploaded 6 records None\n"
     ]
    },
    {
     "name": "stdout",
     "output_type": "stream",
     "text": [
      "Uploading city id [243]\n",
      "Creating device serialNumber 243, name Waco-Killeen, TX [243]\n"
     ]
    },
    {
     "name": "stdout",
     "output_type": "stream",
     "text": [
      "Creating feed {'name': 'Waco-Killeen, TX [243] airnow_aqi_highest_five_city', 'exposure': 'outdoor', 'isPublic': 1, 'isMobile': 0, 'latitude': 31.5005289, 'longitude': -97.16554119999999}\n",
      "Stat.log info Airnow Highest Five - Uploader hal21 ESDR feed created for city id 243 None\n"
     ]
    },
    {
     "name": "stdout",
     "output_type": "stream",
     "text": [
      "Stat.log info Airnow Highest Five - Uploader hal21 Waco-Killeen, TX [243]: Uploaded 4 records None\n"
     ]
    },
    {
     "name": "stdout",
     "output_type": "stream",
     "text": [
      "Uploading city id [360]\n",
      "Creating device serialNumber 360, name Fort Lee, NJ [360]\n"
     ]
    },
    {
     "name": "stdout",
     "output_type": "stream",
     "text": [
      "Creating feed {'name': 'Fort Lee, NJ [360] airnow_aqi_highest_five_city', 'exposure': 'outdoor', 'isPublic': 1, 'isMobile': 0, 'latitude': 40.8509333, 'longitude': -73.9701381}\n",
      "Stat.log info Airnow Highest Five - Uploader hal21 ESDR feed created for city id 360 None\n"
     ]
    },
    {
     "name": "stdout",
     "output_type": "stream",
     "text": [
      "Stat.log info Airnow Highest Five - Uploader hal21 Fort Lee, NJ [360]: Uploaded 2 records None\n"
     ]
    },
    {
     "name": "stdout",
     "output_type": "stream",
     "text": [
      "Uploading city id [576]\n",
      "Creating device serialNumber 576, name New Jersey, NJ [576]\n"
     ]
    },
    {
     "name": "stdout",
     "output_type": "stream",
     "text": [
      "Creating feed {'name': 'New Jersey, NJ [576] airnow_aqi_highest_five_city', 'exposure': 'outdoor', 'isPublic': 1, 'isMobile': 0, 'latitude': 40.0583238, 'longitude': -74.4056612}\n",
      "Stat.log info Airnow Highest Five - Uploader hal21 ESDR feed created for city id 576 None\n"
     ]
    },
    {
     "name": "stdout",
     "output_type": "stream",
     "text": [
      "Stat.log info Airnow Highest Five - Uploader hal21 New Jersey, NJ [576]: Uploaded 2 records None\n"
     ]
    },
    {
     "name": "stdout",
     "output_type": "stream",
     "text": [
      "Uploading city id [622]\n",
      "Creating device serialNumber 622, name Colville, WA [622]\n"
     ]
    },
    {
     "name": "stdout",
     "output_type": "stream",
     "text": [
      "Creating feed {'name': 'Colville, WA [622] airnow_aqi_highest_five_city', 'exposure': 'outdoor', 'isPublic': 1, 'isMobile': 0, 'latitude': 48.5449971, 'longitude': -117.9009545}\n",
      "Stat.log info Airnow Highest Five - Uploader hal21 ESDR feed created for city id 622 None\n"
     ]
    },
    {
     "name": "stdout",
     "output_type": "stream",
     "text": [
      "Stat.log info Airnow Highest Five - Uploader hal21 Colville, WA [622]: Uploaded 2 records None\n"
     ]
    },
    {
     "name": "stdout",
     "output_type": "stream",
     "text": [
      "Uploading city id [701]\n",
      "Creating device serialNumber 701, name Fairbanks, AK [701]\n"
     ]
    },
    {
     "name": "stdout",
     "output_type": "stream",
     "text": [
      "Creating feed {'name': 'Fairbanks, AK [701] airnow_aqi_highest_five_city', 'exposure': 'outdoor', 'isPublic': 1, 'isMobile': 0, 'latitude': 64.8377778, 'longitude': -147.7163888}\n"
     ]
    },
    {
     "name": "stdout",
     "output_type": "stream",
     "text": [
      "Stat.log info Airnow Highest Five - Uploader hal21 ESDR feed created for city id 701 None\n"
     ]
    },
    {
     "name": "stdout",
     "output_type": "stream",
     "text": [
      "Stat.log info Airnow Highest Five - Uploader hal21 Fairbanks, AK [701]: Uploaded 2 records None\n"
     ]
    },
    {
     "name": "stdout",
     "output_type": "stream",
     "text": [
      "Uploading city id [757]\n"
     ]
    },
    {
     "name": "stdout",
     "output_type": "stream",
     "text": [
      "Creating device serialNumber 757, name High Elevations of Acadia National Park, ME [757]\n"
     ]
    },
    {
     "name": "stdout",
     "output_type": "stream",
     "text": [
      "Creating feed {'name': 'High Elevations of Acadia National Park, ME [757] airnow_aqi_highest_five_city', 'exposure': 'outdoor', 'isPublic': 1, 'isMobile': 0, 'latitude': 44.3385559, 'longitude': -68.2733346}\n",
      "Stat.log info Airnow Highest Five - Uploader hal21 ESDR feed created for city id 757 None\n"
     ]
    },
    {
     "name": "stdout",
     "output_type": "stream",
     "text": [
      "Stat.log info Airnow Highest Five - Uploader hal21 High Elevations of Acadia National Park, ME [757]: Uploaded 4 records None\n"
     ]
    },
    {
     "name": "stdout",
     "output_type": "stream",
     "text": [
      "Uploading city id [786]\n"
     ]
    },
    {
     "name": "stdout",
     "output_type": "stream",
     "text": [
      "Creating device serialNumber 786, name Lostwood, ND [786]\n"
     ]
    },
    {
     "name": "stdout",
     "output_type": "stream",
     "text": [
      "Creating feed {'name': 'Lostwood, ND [786] airnow_aqi_highest_five_city', 'exposure': 'outdoor', 'isPublic': 1, 'isMobile': 0, 'latitude': 48.4755803, 'longitude': -102.424064}\n"
     ]
    },
    {
     "name": "stdout",
     "output_type": "stream",
     "text": [
      "Stat.log info Airnow Highest Five - Uploader hal21 ESDR feed created for city id 786 None\n"
     ]
    },
    {
     "name": "stdout",
     "output_type": "stream",
     "text": [
      "Stat.log info Airnow Highest Five - Uploader hal21 Lostwood, ND [786]: Uploaded 2 records None\n"
     ]
    },
    {
     "name": "stdout",
     "output_type": "stream",
     "text": [
      "Uploading city id [789]\n",
      "Creating device serialNumber 789, name Chester, CA [789]\n"
     ]
    }
   ],
   "source": [
    "def process_all():\n",
    "    starting_timestamp = time.time()\n",
    "    clear_accumulated()\n",
    "    data_files = sorted(glob.glob(AirnowCommon.HIGHEST_FIVE_AQI_DAT_DIRECTORY + '/[0-9]*.dat'))\n",
    "    Stat.info('Processing %d data files...' % (len(data_files)), host=STAT_HOSTNAME, shortname=STAT_SHORTNAME)\n",
    "\n",
    "    for src in data_files:\n",
    "        if len(accumulated_file_timestamps) == NUM_FILES_PER_UPLOAD_BATCH:\n",
    "            upload_accumulated()\n",
    "        try:\n",
    "            if is_unmodified(src):\n",
    "                continue\n",
    "        except:\n",
    "            pass\n",
    "\n",
    "        process_dat_file(src)\n",
    "    upload_accumulated()\n",
    "    ending_timestamp = time.time()\n",
    "    Stat.up('Done processing %d data files' % (len(data_files)), details='Took %.1f seconds' % (ending_timestamp - starting_timestamp), host=STAT_HOSTNAME, shortname=STAT_SHORTNAME, valid_for_secs=RUN_INTERVAL_SECONDS*1.5)\n",
    "\n",
    "def process_all_forever():\n",
    "    while True:\n",
    "        process_all()\n",
    "        sleep_until_next_period(RUN_INTERVAL_SECONDS, 1*60)  # start at 1 minutes after the hour\n",
    "\n",
    "\n",
    "process_all()\n"
   ]
  },
  {
   "cell_type": "code",
   "execution_count": 0,
   "metadata": {
    "collapsed": false
   },
   "outputs": [
   ],
   "source": [
   ]
  }
 ],
 "metadata": {
  "kernelspec": {
   "display_name": "Anaconda Python 3",
   "language": "python",
   "name": "anaconda3"
  },
  "language_info": {
   "codemirror_mode": {
    "name": "ipython",
    "version": 3
   },
   "file_extension": ".py",
   "mimetype": "text/x-python",
   "name": "python",
   "nbconvert_exporter": "python",
   "pygments_lexer": "ipython3",
   "version": "3.7.4"
  }
 },
 "nbformat": 4,
 "nbformat_minor": 0
}