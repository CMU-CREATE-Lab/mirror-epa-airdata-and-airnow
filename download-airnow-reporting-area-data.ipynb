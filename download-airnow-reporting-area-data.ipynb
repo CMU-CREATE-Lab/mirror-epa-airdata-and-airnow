{
 "cells": [
  {
   "cell_type": "markdown",
   "metadata": {},
   "source": [
    "# Download Airnow Reporting Area Data\n",
    "\n",
    "Downloads Airnow's Reporting Area data files (`reportingarea.dat`), saving them in `airnow-data/reporting-area/dat`.  Airnow says the file is updated sub-hourly, at :25 and :40 past the hour.  This script runs once per hour, at :45 past the hour.\n",
    "\n",
    "Reports to stat.createlab.org as `Airnow Reporting Area Data - Download`.\n",
    "\n",
    "Docs for the data files are here: https://s3-us-west-1.amazonaws.com//files.airnowtech.org/airnow/docs/ReportingAreaFactSheet.pdf"
   ]
  },
  {
   "cell_type": "code",
   "execution_count": null,
   "metadata": {},
   "outputs": [],
   "source": [
    "import json, os, dateutil, re, requests, subprocess, datetime, glob, stat\n",
    "\n",
    "from dateutil import rrule, tz, parser"
   ]
  },
  {
   "cell_type": "code",
   "execution_count": null,
   "metadata": {},
   "outputs": [],
   "source": [
    "# Boilerplate to load utils.ipynb\n",
    "# See https://github.com/CMU-CREATE-Lab/python-utils/blob/master/utils.ipynb\n",
    "\n",
    "def exec_ipynb(filename_or_url):\n",
    "    nb = (requests.get(filename_or_url).json() if re.match(r'https?:', filename_or_url) else json.load(open(filename_or_url)))\n",
    "    if(nb['nbformat'] >= 4):\n",
    "        src = [''.join(cell['source']) for cell in nb['cells'] if cell['cell_type'] == 'code']\n",
    "    else:\n",
    "        src = [''.join(cell['input']) for cell in nb['worksheets'][0]['cells'] if cell['cell_type'] == 'code']\n",
    "\n",
    "    tmpname = '/tmp/%s-%s-%d.py' % (os.path.basename(filename_or_url),\n",
    "                                    datetime.datetime.now().strftime('%Y%m%d%H%M%S%f'),\n",
    "                                    os.getpid())\n",
    "    src = '\\n\\n\\n'.join(src)\n",
    "    open(tmpname, 'w').write(src)\n",
    "    code = compile(src, tmpname, 'exec')\n",
    "    exec(code, globals())\n",
    "\n",
    "exec_ipynb('./python-utils/utils.ipynb')\n",
    "exec_ipynb('./airnow-common.ipynb')"
   ]
  },
  {
   "cell_type": "code",
   "execution_count": null,
   "metadata": {},
   "outputs": [],
   "source": [
    "EARLIEST_DATA_FILE_DATETIME = datetime.datetime(2020, 1, 1)\n",
    "\n",
    "SECONDS_TO_PAUSE_BETWEEN_DOWNLOADS = 0.5\n",
    "\n",
    "NUM_TRAILING_DAYS = 5\n",
    "\n",
    "RUN_INTERVAL_SECONDS = 60 * 60    # every hour\n",
    "\n",
    "DAT_DIRECTORY = AirnowCommon.REPORTING_AREA_DAT_DIRECTORY\n",
    "\n",
    "STAT_SERVICE_NAME = 'Airnow Reporting Area Data - Download'\n",
    "STAT_HOSTNAME = 'hal21'\n",
    "STAT_SHORTNAME = 'airnow-reporting-area-data-download'"
   ]
  },
  {
   "cell_type": "code",
   "execution_count": null,
   "metadata": {},
   "outputs": [],
   "source": [
    "Stat.set_service(STAT_SERVICE_NAME)"
   ]
  },
  {
   "cell_type": "code",
   "execution_count": null,
   "metadata": {},
   "outputs": [],
   "source": [
    "# Mirrors the file for the specified timestamp and, if new, returns the path to the file; otherwise returns None\n",
    "def mirror_timestamp(timestamp):\n",
    "    filename = timestamp.strftime('%Y%m%d.dat')\n",
    "    src = AirnowCommon.directory_from_date(timestamp) + '/reportingarea.dat'\n",
    "    dest = DAT_DIRECTORY + '/' + filename\n",
    "\n",
    "    (is_new, message, status_code, new_records_file) = AirnowCommon.mirror_airnow_file_and_extract_new_records(src, dest)\n",
    "\n",
    "    if is_new:\n",
    "        Stat.info(message, host=STAT_HOSTNAME, shortname=STAT_SHORTNAME)\n",
    "        return dest, new_records_file\n",
    "    else:\n",
    "        if status_code == 304:\n",
    "            print(message) # simply do a print here to reduce noise sent to stat.createlab.org\n",
    "            # Stat.info(message, host=STAT_HOSTNAME, shortname=STAT_SHORTNAME)\n",
    "        elif status_code < 400:\n",
    "            Stat.info(message, host=STAT_HOSTNAME, shortname=STAT_SHORTNAME)\n",
    "        else:\n",
    "            Stat.warning(message, host=STAT_HOSTNAME, shortname=STAT_SHORTNAME)\n",
    "\n",
    "        return None, None\n",
    "\n",
    "#mirror_timestamp(dateutil.parser.parse('2021-07-30 00:00'))"
   ]
  },
  {
   "cell_type": "code",
   "execution_count": null,
   "metadata": {},
   "outputs": [],
   "source": [
    "def compute_first_date_to_check():\n",
    "    files = glob.glob(DAT_DIRECTORY + '/[0-9][0-9][0-9][0-9][0-9][0-9][0-9][0-9].dat') # YYYYMMDD.dat\n",
    "    if len(files) == 0:\n",
    "        return EARLIEST_DATA_FILE_DATETIME\n",
    "    last_file = sorted(files)[-1]\n",
    "    last_date = datetime.datetime.strptime(last_file, DAT_DIRECTORY + \"/%Y%m%d.dat\")\n",
    "    Stat.debug('Most recently mirrored data file is %s (%s)' % (last_file, last_date), host=STAT_HOSTNAME, shortname=STAT_SHORTNAME)\n",
    "    first_date_to_check = last_date - datetime.timedelta(days=NUM_TRAILING_DAYS)\n",
    "    Stat.debug('Checking for updates starting with date %s' % (first_date_to_check), host=STAT_HOSTNAME, shortname=STAT_SHORTNAME)\n",
    "    sys.stdout.flush()\n",
    "    return first_date_to_check\n",
    "\n",
    "# compute_first_date_to_check()"
   ]
  },
  {
   "cell_type": "code",
   "execution_count": null,
   "metadata": {},
   "outputs": [],
   "source": [
    "def mirror():\n",
    "    starting_timestamp = datetime.datetime.now().timestamp()\n",
    "    start = compute_first_date_to_check()\n",
    "    now = datetime.datetime.utcnow()\n",
    "    timestamps_to_mirror = list(rrule.rrule(rrule.DAILY, dtstart=start, until=now))\n",
    "\n",
    "    Stat.info('Mirroring %d data files, starting with %s... (up-to-date files will not be logged here)' % (len(timestamps_to_mirror), start), host=STAT_HOSTNAME, shortname=STAT_SHORTNAME)\n",
    "    for timestamp in timestamps_to_mirror:\n",
    "        (mirrored_file, new_records_file) = mirror_timestamp(timestamp)\n",
    "        time.sleep(SECONDS_TO_PAUSE_BETWEEN_DOWNLOADS)\n",
    "\n",
    "    elapsed_seconds = datetime.datetime.now().timestamp() - starting_timestamp\n",
    "    Stat.up('Done mirroring %d data files (elapsed time: %d seconds)' % (len(timestamps_to_mirror), elapsed_seconds), host=STAT_HOSTNAME, shortname=STAT_SHORTNAME, valid_for_secs=RUN_INTERVAL_SECONDS*1.5)\n",
    "\n",
    "def mirror_forever():\n",
    "    while True:\n",
    "        mirror()\n",
    "        sleep_until_next_period(RUN_INTERVAL_SECONDS, 45*60) # start at 45 minutes after the hour\n",
    "\n",
    "mirror_forever()"
   ]
  }
 ],
 "metadata": {
  "kernelspec": {
   "display_name": "Anaconda Python3",
   "language": "python",
   "name": "anaconda3",
   "resource_dir": "/usr/local/share/jupyter/kernels/anaconda3"
  },
  "language_info": {
   "codemirror_mode": {
    "name": "ipython",
    "version": 3
   },
   "file_extension": ".py",
   "mimetype": "text/x-python",
   "name": "python",
   "nbconvert_exporter": "python",
   "pygments_lexer": "ipython3",
   "version": "3.8.5"
  }
 },
 "nbformat": 4,
 "nbformat_minor": 4
}
