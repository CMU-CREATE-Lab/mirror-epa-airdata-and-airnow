{
 "cells": [
  {
   "cell_type": "markdown",
   "metadata": {
    "collapsed": false
   },
   "source": [
    "# Download Airnow Daily AQI\n",
    "\n",
    "Downloads Airnow's Daily AQI files, saving them in `airnow-data/daily/dat`.\n",
    "\n",
    "Reports to stat.createlab.org as `Airnow Daily AQI - Download`.\n",
    "\n",
    "Docs for the daily data files are here: https://docs.airnowapi.org/docs/DailyDataFactSheet.pdf"
   ]
  },
  {
   "cell_type": "code",
   "execution_count": 1,
   "metadata": {
    "collapsed": false
   },
   "outputs": [
   ],
   "source": [
    "import json, os, dateutil, re, requests, subprocess, datetime, glob, stat\n",
    "\n",
    "from dateutil import rrule, tz, parser"
   ]
  },
  {
   "cell_type": "code",
   "execution_count": 2,
   "metadata": {
    "collapsed": false
   },
   "outputs": [
   ],
   "source": [
    "# Boilerplate to load utils.ipynb\n",
    "# See https://github.com/CMU-CREATE-Lab/python-utils/blob/master/utils.ipynb\n",
    "\n",
    "\n",
    "def exec_ipynb(filename_or_url):\n",
    "    nb = (requests.get(filename_or_url).json() if re.match(r'https?:', filename_or_url) else json.load(open(filename_or_url)))\n",
    "    if(nb['nbformat'] >= 4):\n",
    "        src = [''.join(cell['source']) for cell in nb['cells'] if cell['cell_type'] == 'code']\n",
    "    else:\n",
    "        src = [''.join(cell['input']) for cell in nb['worksheets'][0]['cells'] if cell['cell_type'] == 'code']\n",
    "\n",
    "    tmpname = '/tmp/%s-%s-%d.py' % (os.path.basename(filename_or_url),\n",
    "                                    datetime.datetime.now().strftime('%Y%m%d%H%M%S%f'),\n",
    "                                    os.getpid())\n",
    "    src = '\\n\\n\\n'.join(src)\n",
    "    open(tmpname, 'w').write(src)\n",
    "    code = compile(src, tmpname, 'exec')\n",
    "    exec(code, globals())\n",
    "\n",
    "\n",
    "exec_ipynb('./python-utils/utils.ipynb')\n",
    "exec_ipynb('./airnow-common.ipynb')"
   ]
  },
  {
   "cell_type": "code",
   "execution_count": 3,
   "metadata": {
    "collapsed": false
   },
   "outputs": [
   ],
   "source": [
    "# 2018-07-18 seems to be the earliest daily data file available as of 2020-02-10\n",
    "EARLIEST_DATA_FILE_DATETIME = datetime.datetime(2018, 7, 18)\n",
    "\n",
    "SECONDS_TO_PAUSE_BETWEEN_DOWNLOADS = 0.5\n",
    "\n",
    "NUM_TRAILING_DAYS = 30\n",
    "\n",
    "MIRROR_TIME_PERIOD_SECS = 60 * 60\n",
    "\n",
    "STAT_HOSTNAME = 'airnow'\n",
    "STAT_SHORTNAME = 'airnow-daily-aqi-download'"
   ]
  },
  {
   "cell_type": "code",
   "execution_count": 4,
   "metadata": {
    "collapsed": false
   },
   "outputs": [
   ],
   "source": [
    "Stat.set_service('Airnow Daily AQI - Download (NEW)')"
   ]
  },
  {
   "cell_type": "code",
   "execution_count": 5,
   "metadata": {
    "collapsed": false
   },
   "outputs": [
   ],
   "source": [
    "def mirror_timestamp(timestamp):\n",
    "    filename = timestamp.strftime('%Y%m%d%H.dat')\n",
    "    src = AirnowCommon.directory_from_date(timestamp) + '/daily_data_v2.dat'\n",
    "    dest = AirnowCommon.DAILY_AQI_DAT_DIRECTORY + '/' + filename\n",
    "    (is_new, message, status_code) = AirnowCommon.mirror_airnow_file(src, dest)\n",
    "\n",
    "    if is_new:\n",
    "        Stat.info(message, host=STAT_HOSTNAME, shortname=STAT_SHORTNAME)\n",
    "    else:\n",
    "        if status_code == 304:\n",
    "            print(message) # simply do a print here to reduce noise sent to stat.createlab.org\n",
    "            # Stat.info(message, host=STAT_HOSTNAME, shortname=STAT_SHORTNAME)\n",
    "        elif status_code < 400:\n",
    "            Stat.info(message, host=STAT_HOSTNAME, shortname=STAT_SHORTNAME)\n",
    "        else:\n",
    "            Stat.warning(message, host=STAT_HOSTNAME, shortname=STAT_SHORTNAME)\n",
    "\n",
    "\n",
    "#mirror_timestamp(dateutil.parser.parse('2018-07-18 00:00'))"
   ]
  },
  {
   "cell_type": "code",
   "execution_count": 6,
   "metadata": {
    "collapsed": false
   },
   "outputs": [
   ],
   "source": [
    "def compute_first_date_to_check():\n",
    "    files = glob.glob(AirnowCommon.DAILY_AQI_DAT_DIRECTORY + '/[0-9]*.dat')\n",
    "    if len(files) == 0:\n",
    "        return EARLIEST_DATA_FILE_DATETIME\n",
    "    last_file = sorted(files)[-1]\n",
    "    last_date = datetime.datetime.strptime(last_file, AirnowCommon.DAILY_AQI_DAT_DIRECTORY + \"/%Y%m%d%H.dat\")\n",
    "    Stat.debug('Most recently mirrored data file is %s (%s)' % (last_file, last_date), host=STAT_HOSTNAME, shortname=STAT_SHORTNAME)\n",
    "    first_date_to_check = last_date - datetime.timedelta(days=NUM_TRAILING_DAYS)\n",
    "    Stat.debug('Checking for updates starting with date %s' % (first_date_to_check), host=STAT_HOSTNAME, shortname=STAT_SHORTNAME)\n",
    "    sys.stdout.flush()\n",
    "    return first_date_to_check\n",
    "\n",
    "\n",
    "#compute_first_date_to_check()"
   ]
  },
  {
   "cell_type": "code",
   "execution_count": 7,
   "metadata": {
    "collapsed": false,
    "scrolled": true
   },
   "outputs": [
    {
     "name": "stdout",
     "output_type": "stream",
     "text": [
      "Stat.log debug Airnow Daily AQI - Download (NEW) airnow Most recently mirrored data file is ../../airnow-data/daily-aqi/dat/2020030400.dat (2020-03-04 00:00:00) None\n"
     ]
    },
    {
     "name": "stdout",
     "output_type": "stream",
     "text": [
      "Stat.log debug Airnow Daily AQI - Download (NEW) airnow Checking for updates starting with date 2020-02-03 00:00:00 None\n"
     ]
    },
    {
     "name": "stdout",
     "output_type": "stream",
     "text": [
      "Stat.log info Airnow Daily AQI - Download (NEW) airnow Mirroring 31 data files, starting with 2020-02-03 00:00:00... (up-to-date files will not be logged here) None\n"
     ]
    },
    {
     "name": "stdout",
     "output_type": "stream",
     "text": [
      "Local mirror of https://files.airnowtech.org/airnow/2020/20200203/daily_data_v2.dat is up to date.  Skipping.\n"
     ]
    },
    {
     "name": "stdout",
     "output_type": "stream",
     "text": [
      "Local mirror of https://files.airnowtech.org/airnow/2020/20200204/daily_data_v2.dat is up to date.  Skipping.\n"
     ]
    },
    {
     "name": "stdout",
     "output_type": "stream",
     "text": [
      "Local mirror of https://files.airnowtech.org/airnow/2020/20200205/daily_data_v2.dat is up to date.  Skipping.\n"
     ]
    },
    {
     "name": "stdout",
     "output_type": "stream",
     "text": [
      "Local mirror of https://files.airnowtech.org/airnow/2020/20200206/daily_data_v2.dat is up to date.  Skipping.\n"
     ]
    },
    {
     "name": "stdout",
     "output_type": "stream",
     "text": [
      "Local mirror of https://files.airnowtech.org/airnow/2020/20200207/daily_data_v2.dat is up to date.  Skipping.\n"
     ]
    },
    {
     "name": "stdout",
     "output_type": "stream",
     "text": [
      "Local mirror of https://files.airnowtech.org/airnow/2020/20200208/daily_data_v2.dat is up to date.  Skipping.\n"
     ]
    },
    {
     "name": "stdout",
     "output_type": "stream",
     "text": [
      "Local mirror of https://files.airnowtech.org/airnow/2020/20200209/daily_data_v2.dat is up to date.  Skipping.\n"
     ]
    },
    {
     "name": "stdout",
     "output_type": "stream",
     "text": [
      "Local mirror of https://files.airnowtech.org/airnow/2020/20200210/daily_data_v2.dat is up to date.  Skipping.\n"
     ]
    },
    {
     "name": "stdout",
     "output_type": "stream",
     "text": [
      "Local mirror of https://files.airnowtech.org/airnow/2020/20200211/daily_data_v2.dat is up to date.  Skipping.\n"
     ]
    },
    {
     "name": "stdout",
     "output_type": "stream",
     "text": [
      "Local mirror of https://files.airnowtech.org/airnow/2020/20200212/daily_data_v2.dat is up to date.  Skipping.\n"
     ]
    },
    {
     "name": "stdout",
     "output_type": "stream",
     "text": [
      "Local mirror of https://files.airnowtech.org/airnow/2020/20200213/daily_data_v2.dat is up to date.  Skipping.\n"
     ]
    },
    {
     "name": "stdout",
     "output_type": "stream",
     "text": [
      "Local mirror of https://files.airnowtech.org/airnow/2020/20200214/daily_data_v2.dat is up to date.  Skipping.\n"
     ]
    },
    {
     "name": "stdout",
     "output_type": "stream",
     "text": [
      "Local mirror of https://files.airnowtech.org/airnow/2020/20200215/daily_data_v2.dat is up to date.  Skipping.\n"
     ]
    },
    {
     "name": "stdout",
     "output_type": "stream",
     "text": [
      "Local mirror of https://files.airnowtech.org/airnow/2020/20200216/daily_data_v2.dat is up to date.  Skipping.\n"
     ]
    },
    {
     "name": "stdout",
     "output_type": "stream",
     "text": [
      "Local mirror of https://files.airnowtech.org/airnow/2020/20200217/daily_data_v2.dat is up to date.  Skipping.\n"
     ]
    },
    {
     "name": "stdout",
     "output_type": "stream",
     "text": [
      "Local mirror of https://files.airnowtech.org/airnow/2020/20200218/daily_data_v2.dat is up to date.  Skipping.\n"
     ]
    },
    {
     "name": "stdout",
     "output_type": "stream",
     "text": [
      "Local mirror of https://files.airnowtech.org/airnow/2020/20200219/daily_data_v2.dat is up to date.  Skipping.\n"
     ]
    },
    {
     "name": "stdout",
     "output_type": "stream",
     "text": [
      "Local mirror of https://files.airnowtech.org/airnow/2020/20200220/daily_data_v2.dat is up to date.  Skipping.\n"
     ]
    },
    {
     "name": "stdout",
     "output_type": "stream",
     "text": [
      "Local mirror of https://files.airnowtech.org/airnow/2020/20200221/daily_data_v2.dat is up to date.  Skipping.\n"
     ]
    },
    {
     "name": "stdout",
     "output_type": "stream",
     "text": [
      "Local mirror of https://files.airnowtech.org/airnow/2020/20200222/daily_data_v2.dat is up to date.  Skipping.\n"
     ]
    },
    {
     "name": "stdout",
     "output_type": "stream",
     "text": [
      "Local mirror of https://files.airnowtech.org/airnow/2020/20200223/daily_data_v2.dat is up to date.  Skipping.\n"
     ]
    },
    {
     "name": "stdout",
     "output_type": "stream",
     "text": [
      "Local mirror of https://files.airnowtech.org/airnow/2020/20200224/daily_data_v2.dat is up to date.  Skipping.\n"
     ]
    },
    {
     "name": "stdout",
     "output_type": "stream",
     "text": [
      "Local mirror of https://files.airnowtech.org/airnow/2020/20200225/daily_data_v2.dat is up to date.  Skipping.\n"
     ]
    },
    {
     "name": "stdout",
     "output_type": "stream",
     "text": [
      "Local mirror of https://files.airnowtech.org/airnow/2020/20200226/daily_data_v2.dat is up to date.  Skipping.\n"
     ]
    },
    {
     "name": "stdout",
     "output_type": "stream",
     "text": [
      "Local mirror of https://files.airnowtech.org/airnow/2020/20200227/daily_data_v2.dat is up to date.  Skipping.\n"
     ]
    },
    {
     "name": "stdout",
     "output_type": "stream",
     "text": [
      "Local mirror of https://files.airnowtech.org/airnow/2020/20200228/daily_data_v2.dat is up to date.  Skipping.\n"
     ]
    },
    {
     "name": "stdout",
     "output_type": "stream",
     "text": [
      "Local mirror of https://files.airnowtech.org/airnow/2020/20200229/daily_data_v2.dat is up to date.  Skipping.\n"
     ]
    },
    {
     "name": "stdout",
     "output_type": "stream",
     "text": [
      "Local mirror of https://files.airnowtech.org/airnow/2020/20200301/daily_data_v2.dat is up to date.  Skipping.\n"
     ]
    },
    {
     "name": "stdout",
     "output_type": "stream",
     "text": [
      "Local mirror of https://files.airnowtech.org/airnow/2020/20200302/daily_data_v2.dat is up to date.  Skipping.\n"
     ]
    },
    {
     "name": "stdout",
     "output_type": "stream",
     "text": [
      "Wrote 718869 bytes to ../../airnow-data/daily-aqi/dat/2020030300.dat\n",
      "Stat.log info Airnow Daily AQI - Download (NEW) airnow Successfully mirrored https://files.airnowtech.org/airnow/2020/20200303/daily_data_v2.dat to ../../airnow-data/daily-aqi/dat/2020030300.dat (718869 bytes) None\n"
     ]
    },
    {
     "name": "stdout",
     "output_type": "stream",
     "text": [
      "Wrote 383410 bytes to ../../airnow-data/daily-aqi/dat/2020030400.dat\n",
      "Stat.log info Airnow Daily AQI - Download (NEW) airnow Successfully mirrored https://files.airnowtech.org/airnow/2020/20200304/daily_data_v2.dat to ../../airnow-data/daily-aqi/dat/2020030400.dat (383410 bytes) None\n"
     ]
    },
    {
     "name": "stdout",
     "output_type": "stream",
     "text": [
      "Stat.log up Airnow Daily AQI - Download (NEW) airnow Done mirroring 31 data files None\n"
     ]
    }
   ],
   "source": [
    "def mirror():\n",
    "    start = compute_first_date_to_check()\n",
    "    now = datetime.datetime.utcnow()\n",
    "    timestamps_to_mirror = list(rrule.rrule(rrule.DAILY, dtstart=start, until=now))\n",
    "\n",
    "    Stat.info('Mirroring %d data files, starting with %s... (up-to-date files will not be logged here)' % (len(timestamps_to_mirror), start), host=STAT_HOSTNAME, shortname=STAT_SHORTNAME)\n",
    "    for timestamp in timestamps_to_mirror:\n",
    "        mirror_timestamp(timestamp)\n",
    "        time.sleep(SECONDS_TO_PAUSE_BETWEEN_DOWNLOADS)\n",
    "\n",
    "    Stat.up('Done mirroring %d data files' % (len(timestamps_to_mirror)), host=STAT_HOSTNAME, shortname=STAT_SHORTNAME, valid_for_secs=MIRROR_TIME_PERIOD_SECS*1.5)\n",
    "\n",
    "def mirror_forever():\n",
    "    while True:\n",
    "        mirror()\n",
    "        sleep_until_next_period(MIRROR_TIME_PERIOD_SECS)\n",
    "\n",
    "#mirror_forever()\n",
    "mirror()"
   ]
  },
  {
   "cell_type": "code",
   "execution_count": 0,
   "metadata": {
    "collapsed": false
   },
   "outputs": [
   ],
   "source": [
   ]
  }
 ],
 "metadata": {
  "kernelspec": {
   "display_name": "Anaconda Python 3",
   "language": "python",
   "name": "anaconda3"
  },
  "language_info": {
   "codemirror_mode": {
    "name": "ipython",
    "version": 3
   },
   "file_extension": ".py",
   "mimetype": "text/x-python",
   "name": "python",
   "nbconvert_exporter": "python",
   "pygments_lexer": "ipython3",
   "version": "3.7.4"
  }
 },
 "nbformat": 4,
 "nbformat_minor": 0
}