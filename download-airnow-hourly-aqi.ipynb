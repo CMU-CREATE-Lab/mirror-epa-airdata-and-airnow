{
 "cells": [
  {
   "cell_type": "markdown",
   "metadata": {},
   "source": [
    "# Download Airnow Hourly AQI\n",
    "\n",
    "Downloads Airnow's Hourly AQI files, saving them in `airnow-data/hourly-aqi/dat`.\n",
    "\n",
    "Reports to stat.createlab.org as `Airnow Hourly AQI - Download`.\n",
    "\n",
    "Docs for the hourly data files are here: https://docs.airnowapi.org/docs/HourlyAQObsFactSheet.pdf"
   ]
  },
  {
   "cell_type": "code",
   "execution_count": null,
   "metadata": {},
   "outputs": [],
   "source": [
    "import json, os, dateutil, re, requests, subprocess, datetime, glob, stat\n",
    "\n",
    "from dateutil import rrule, tz, parser"
   ]
  },
  {
   "cell_type": "code",
   "execution_count": null,
   "metadata": {},
   "outputs": [],
   "source": [
    "# Boilerplate to load utils.ipynb\n",
    "# See https://github.com/CMU-CREATE-Lab/python-utils/blob/master/utils.ipynb\n",
    "\n",
    "\n",
    "def exec_ipynb(filename_or_url):\n",
    "    nb = (requests.get(filename_or_url).json() if re.match(r'https?:', filename_or_url) else json.load(open(filename_or_url)))\n",
    "    if(nb['nbformat'] >= 4):\n",
    "        src = [''.join(cell['source']) for cell in nb['cells'] if cell['cell_type'] == 'code']\n",
    "    else:\n",
    "        src = [''.join(cell['input']) for cell in nb['worksheets'][0]['cells'] if cell['cell_type'] == 'code']\n",
    "\n",
    "    tmpname = '/tmp/%s-%s-%d.py' % (os.path.basename(filename_or_url),\n",
    "                                    datetime.datetime.now().strftime('%Y%m%d%H%M%S%f'),\n",
    "                                    os.getpid())\n",
    "    src = '\\n\\n\\n'.join(src)\n",
    "    open(tmpname, 'w').write(src)\n",
    "    code = compile(src, tmpname, 'exec')\n",
    "    exec(code, globals())\n",
    "\n",
    "\n",
    "exec_ipynb('./python-utils/utils.ipynb')\n",
    "exec_ipynb('./airnow-common.ipynb')"
   ]
  },
  {
   "cell_type": "code",
   "execution_count": null,
   "metadata": {},
   "outputs": [],
   "source": [
    "# 2019-05-28 15:00:00 seems to be the earliest hourly data file available as of 2020-05-11 (data file https://files.airnowtech.org/airnow/2019/20190528/HourlyAQObs_2019052815.dat)\n",
    "EARLIEST_DATA_FILE_DATETIME = datetime.datetime(2019, 5, 28, 15, 0, 0)\n",
    "\n",
    "SECONDS_TO_PAUSE_BETWEEN_DOWNLOADS = 0.5\n",
    "\n",
    "NUM_TRAILING_DAYS = 30\n",
    "\n",
    "MIRROR_TIME_PERIOD_SECS = 60 * 30\n",
    "\n",
    "STAT_HOSTNAME = 'hal21'\n",
    "STAT_SHORTNAME = 'airnow-hourly-aqi-download'"
   ]
  },
  {
   "cell_type": "code",
   "execution_count": null,
   "metadata": {},
   "outputs": [],
   "source": [
    "Stat.set_service('Airnow Hourly AQI - Download')"
   ]
  },
  {
   "cell_type": "code",
   "execution_count": null,
   "metadata": {},
   "outputs": [],
   "source": [
    "# make sure data directories exist and are readable to all\n",
    "os.makedirs(AirnowCommon.HOURLY_AQI_DAT_DIRECTORY, exist_ok=True)\n",
    "os.makedirs(AirnowCommon.HOURLY_AQI_JSON_DIRECTORY, exist_ok=True)\n",
    "os.chmod(AirnowCommon.HOURLY_AQI_DIRECTORY, stat.S_IRUSR | stat.S_IWUSR | stat.S_IXUSR | stat.S_IRGRP | stat.S_IXGRP | stat.S_IROTH | stat.S_IXOTH)\n",
    "os.chmod(AirnowCommon.HOURLY_AQI_DAT_DIRECTORY, stat.S_IRUSR | stat.S_IWUSR | stat.S_IXUSR | stat.S_IRGRP | stat.S_IXGRP | stat.S_IROTH | stat.S_IXOTH)\n",
    "os.chmod(AirnowCommon.HOURLY_AQI_JSON_DIRECTORY, stat.S_IRUSR | stat.S_IWUSR | stat.S_IXUSR | stat.S_IRGRP | stat.S_IXGRP | stat.S_IROTH | stat.S_IXOTH)"
   ]
  },
  {
   "cell_type": "code",
   "execution_count": null,
   "metadata": {},
   "outputs": [],
   "source": [
    "def mirror_timestamp(timestamp):\n",
    "    filename = timestamp.strftime('%Y%m%d%H.dat')\n",
    "    src = AirnowCommon.directory_from_date(timestamp) + '/' + timestamp.strftime('HourlyAQObs_%Y%m%d%H.dat')\n",
    "    dest = AirnowCommon.HOURLY_AQI_DAT_DIRECTORY + '/' + timestamp.strftime('%Y%m%d%H.dat')\n",
    "    print(src)\n",
    "    print(dest)\n",
    "    (is_new, message, status_code) = AirnowCommon.mirror_airnow_file(src, dest)\n",
    "\n",
    "    if is_new:\n",
    "        Stat.info(message, host=STAT_HOSTNAME, shortname=STAT_SHORTNAME)\n",
    "    else:\n",
    "        if status_code == 304:\n",
    "            print(message) # simply do a print here to reduce noise sent to stat.createlab.org\n",
    "            # Stat.info(message, host=STAT_HOSTNAME, shortname=STAT_SHORTNAME)\n",
    "        elif status_code < 400:\n",
    "            Stat.info(message, host=STAT_HOSTNAME, shortname=STAT_SHORTNAME)\n",
    "        else:\n",
    "            Stat.warning(message, host=STAT_HOSTNAME, shortname=STAT_SHORTNAME)\n",
    "\n",
    "\n",
    "#mirror_timestamp(EARLIEST_DATA_FILE_DATETIME)"
   ]
  },
  {
   "cell_type": "code",
   "execution_count": null,
   "metadata": {},
   "outputs": [],
   "source": [
    "def compute_first_date_to_check():\n",
    "    files = glob.glob(AirnowCommon.HOURLY_AQI_DAT_DIRECTORY + '/[0-9]*.dat')\n",
    "    if len(files) == 0:\n",
    "        return EARLIEST_DATA_FILE_DATETIME\n",
    "    last_file = sorted(files)[-1]\n",
    "    last_date = datetime.datetime.strptime(last_file, AirnowCommon.HOURLY_AQI_DAT_DIRECTORY + \"/%Y%m%d%H.dat\")\n",
    "    Stat.debug('Most recently mirrored data file is %s (%s)' % (last_file, last_date), host=STAT_HOSTNAME, shortname=STAT_SHORTNAME)\n",
    "    first_date_to_check = last_date - datetime.timedelta(days=NUM_TRAILING_DAYS)\n",
    "    Stat.debug('Checking for updates starting with date %s' % (first_date_to_check), host=STAT_HOSTNAME, shortname=STAT_SHORTNAME)\n",
    "    sys.stdout.flush()\n",
    "    return first_date_to_check\n",
    "\n",
    "\n",
    "#compute_first_date_to_check()"
   ]
  },
  {
   "cell_type": "code",
   "execution_count": null,
   "metadata": {},
   "outputs": [],
   "source": [
    "def mirror():\n",
    "    starting_timestamp = datetime.datetime.now().timestamp()\n",
    "    start = compute_first_date_to_check()\n",
    "    now = datetime.datetime.utcnow()\n",
    "    timestamps_to_mirror = list(rrule.rrule(rrule.HOURLY, dtstart=start, until=now))\n",
    "\n",
    "    Stat.info('Mirroring %d data files, starting with %s... (up-to-date files will not be logged here)' % (len(timestamps_to_mirror), start), host=STAT_HOSTNAME, shortname=STAT_SHORTNAME)\n",
    "    for timestamp in timestamps_to_mirror:\n",
    "        mirror_timestamp(timestamp)\n",
    "        time.sleep(SECONDS_TO_PAUSE_BETWEEN_DOWNLOADS)\n",
    "\n",
    "    elapsed_seconds = datetime.datetime.now().timestamp() - starting_timestamp\n",
    "    Stat.up('Done mirroring %d data files (elapsed time: %d seconds)' % (len(timestamps_to_mirror), elapsed_seconds), host=STAT_HOSTNAME, shortname=STAT_SHORTNAME, valid_for_secs=MIRROR_TIME_PERIOD_SECS*1.5)\n",
    "\n",
    "def mirror_forever():\n",
    "    while True:\n",
    "        mirror()\n",
    "        sleep_until_next_period(MIRROR_TIME_PERIOD_SECS, 10*60)  # start at 10 minutes after the hour\n",
    "\n",
    "mirror_forever()"
   ]
  }
 ],
 "metadata": {
  "kernelspec": {
   "display_name": "Anaconda Python3",
   "language": "python",
   "name": "anaconda3"
  },
  "language_info": {
   "codemirror_mode": {
    "name": "ipython",
    "version": 3
   },
   "file_extension": ".py",
   "mimetype": "text/x-python",
   "name": "python",
   "nbconvert_exporter": "python",
   "pygments_lexer": "ipython3",
   "version": "3.8.5"
  }
 },
 "nbformat": 4,
 "nbformat_minor": 4
}
