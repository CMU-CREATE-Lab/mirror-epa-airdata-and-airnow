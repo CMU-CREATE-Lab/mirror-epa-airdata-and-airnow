{
 "metadata": {
  "name": "",
  "signature": "sha256:d64a27132e5721f2fc39fea8f3d399355ab5654805ad03deba24d500f8349b42"
 },
 "nbformat": 3,
 "nbformat_minor": 0,
 "worksheets": [
  {
   "cells": [
    {
     "cell_type": "markdown",
     "metadata": {},
     "source": [
      "Mirroring AirNow data\n",
      "=====================\n",
      "\n"
     ]
    },
    {
     "cell_type": "code",
     "collapsed": false,
     "input": [
      "import datetime, ftplib, glob, json, os, re, time, socket\n",
      "from dateutil import rrule, tz"
     ],
     "language": "python",
     "metadata": {},
     "outputs": [],
     "prompt_number": 15
    },
    {
     "cell_type": "code",
     "collapsed": false,
     "input": [
      "auth_file = os.path.expanduser('~/.config/airnow-mirror/auth.json')"
     ],
     "language": "python",
     "metadata": {},
     "outputs": [],
     "prompt_number": 2
    },
    {
     "cell_type": "code",
     "collapsed": false,
     "input": [
      "# Write username and password to auth_file\n",
      "# Fill in your username and password below to set the file up.  Ask Randy for login\n",
      "username = ''\n",
      "password = ''\n",
      "\n",
      "if username and password:\n",
      "    try:\n",
      "        os.makedirs(os.path.dirname(auth_file))\n",
      "    except:\n",
      "        pass\n",
      "    json.dump({'username':username, 'password':password}, open(auth_file, 'w'))\n",
      "    print 'Wrote username and password to %s' % auth_file"
     ],
     "language": "python",
     "metadata": {},
     "outputs": [],
     "prompt_number": 3
    },
    {
     "cell_type": "code",
     "collapsed": false,
     "input": [
      "def ftp_reconnect():\n",
      "    global ftp_connection\n",
      "    while True:\n",
      "        try:\n",
      "            ftp_connection.close()\n",
      "        except:\n",
      "            pass\n",
      "        try:\n",
      "            ftp_connection = ftplib.FTP(host, auth['username'], auth['password'], timeout=180)\n",
      "            break\n",
      "        except ftplib.error_temp:\n",
      "            print 'Temporary error connecting, retrying'\n",
      "            time.sleep(30)\n",
      "    print 'Connected to %s' % host\n",
      "\n",
      "def ftp_modtime(path):\n",
      "    global ftp_connection\n",
      "    while True:\n",
      "        try:\n",
      "            modtime = ftp_connection.sendcmd('MDTM %s' % path)\n",
      "        except ftplib.error_perm:\n",
      "            return None\n",
      "        except (socket.timeout, socket.error):\n",
      "            continue\n",
      "        return datetime.datetime.strptime(modtime[4:16], \"%Y%m%d%H%M%S\").replace(tzinfo=tz.tzutc())\n",
      "\n",
      "def ftp_get(path):\n",
      "    global ftp_connection\n",
      "    # Just in case we hit a race and the file is being updated as we fetch, keep\n",
      "    # looping until modtime is the same before and after we fetch.\n",
      "    # Also loop if we hit a timeout\n",
      "    while True:\n",
      "        try:\n",
      "            modtime = ftp_modtime(path)\n",
      "            blocks = []\n",
      "            def append_contents(block):\n",
      "                blocks.append(block)\n",
      "            ftp_connection.retrbinary('RETR %s' % path, append_contents)\n",
      "            modtime_after = ftp_modtime(path)\n",
      "            if modtime == modtime_after:\n",
      "                contents = ''.join(blocks)\n",
      "                print 'Retrieved %d bytes from %s, modtime %s' % (len(contents), path, modtime)\n",
      "                return (modtime, contents)\n",
      "        except (socket.timeout, socket.error):\n",
      "            print 'Timed out;  reconnecting'\n",
      "            ftp_reconnect()"
     ],
     "language": "python",
     "metadata": {},
     "outputs": [],
     "prompt_number": 10
    },
    {
     "cell_type": "code",
     "collapsed": false,
     "input": [
      "def datetime2epoch(dt):\n",
      "    return (dt - datetime.datetime(1970, 1, 1, tzinfo=tz.tzutc())).total_seconds()\n",
      "\n",
      "def mirror_ftp(src, dest):\n",
      "    dest_timestamp = False\n",
      "\n",
      "    try:\n",
      "        if os.path.getmtime(dest) == datetime2epoch(ftp_modtime(src)):\n",
      "            print '%s already exists and has same modification time' % dest\n",
      "            return\n",
      "    except:\n",
      "        pass\n",
      "\n",
      "    try:\n",
      "        os.makedirs(os.path.dirname(dest))\n",
      "    except:\n",
      "        pass\n",
      "    (modtime, contents) = ftp_get(src)\n",
      "    modtime_epoch = datetime2epoch(modtime)\n",
      "    open(dest + '.tmp', 'w').write(contents)\n",
      "    os.utime(dest + '.tmp', (modtime_epoch, modtime_epoch))\n",
      "    os.rename(dest + '.tmp', dest)\n",
      "    print 'Mirrored %s to %s (%d bytes, modtime %s)' % (src, dest, len(contents), modtime)\n",
      "\n",
      "def mirror_timestamp(timestamp):\n",
      "    filename = timestamp.strftime('%Y%m%d%H.dat')\n",
      "    src = None\n",
      "    for subdir in ['', 'Archive/%04d/' % (timestamp.year + 1), 'Archive/%04d/' % timestamp.year]:\n",
      "        test_src = 'HourlyData/' + subdir + filename\n",
      "        modtime = ftp_modtime(test_src)\n",
      "        if modtime:\n",
      "            src = test_src\n",
      "            break\n",
      "\n",
      "    if not src:\n",
      "        print 'Could not find %s' % filename\n",
      "        return\n",
      "\n",
      "    dest = 'AirNow/%s' % filename\n",
      "    modtime_epoch = datetime2epoch(modtime)\n",
      "\n",
      "    try:\n",
      "        stat = os.stat(dest)\n",
      "        if stat.st_mtime != modtime_epoch:\n",
      "            mirror = True\n",
      "            reason = 'modification times do not match'\n",
      "        else:\n",
      "            mirror = False\n",
      "            reason = 'modification times are identical'\n",
      "    except:\n",
      "        mirror = True\n",
      "        reason = 'destination does not exist'\n",
      "\n",
      "    if mirror:\n",
      "        try:\n",
      "            os.makedirs(os.path.dirname(dest))\n",
      "        except:\n",
      "            pass\n",
      "        (modtime, contents) = ftp_get(src)\n",
      "        open(dest + '.tmp', 'w').write(contents)\n",
      "        os.rename(dest + '.tmp', dest)\n",
      "        os.utime(dest, (modtime_epoch, modtime_epoch))\n",
      "        print 'Copied %s (%d bytes, modtime %s) to %s because %s' % (src, len(contents), modtime, dest, reason)\n",
      "    else:\n",
      "        print 'Not copying %s to %s because %s' % (src, dest, reason)"
     ],
     "language": "python",
     "metadata": {},
     "outputs": [],
     "prompt_number": 46
    },
    {
     "cell_type": "code",
     "collapsed": false,
     "input": [
      "def compute_first_date_to_check():\n",
      "    last_file = sorted(glob.glob('AirNow/[0-9]*.dat'))[-1]\n",
      "    last_date = datetime.datetime.strptime(last_file, \"AirNow/%Y%m%d%H.dat\")\n",
      "    print 'Last mirrored file is %s, date %s' % (last_file, last_date)\n",
      "    first_date_to_check = last_date - datetime.timedelta(days = 30)\n",
      "    print 'Check for updates starting at date %s' % first_date_to_check\n",
      "    return first_date_to_check"
     ],
     "language": "python",
     "metadata": {},
     "outputs": [],
     "prompt_number": 49
    },
    {
     "cell_type": "code",
     "collapsed": false,
     "input": [
      "auth = json.load(open(auth_file, 'r'))\n",
      "host = 'ftp.airnowapi.org'\n",
      "ftp_reconnect()\n",
      "mirror_ftp('Locations/monitoring_site_locations.dat', 'AirNow/monitoring_site_locations.dat')\n",
      "\n",
      "start = compute_first_date_to_check()\n",
      "end = datetime.datetime.utcnow()\n",
      "\n",
      "timestamps_to_mirror = list(rrule.rrule(rrule.HOURLY, dtstart=start, until=end))\n",
      "print 'Mirroring %s timestamps, starting %s' % (len(timestamps_to_mirror), start)\n",
      "\n",
      "for timestamp in timestamps_to_mirror:\n",
      "    mirror_timestamp(timestamp)"
     ],
     "language": "python",
     "metadata": {},
     "outputs": [
      {
       "output_type": "stream",
       "stream": "stdout",
       "text": [
        "Connected to ftp.airnowapi.org\n",
        "AirNow/monitoring_site_locations.dat already exists and has same modification time"
       ]
      },
      {
       "output_type": "stream",
       "stream": "stdout",
       "text": [
        "\n",
        "Last mirrored file is AirNow/2014121203.dat, date 2014-12-12 03:00:00\n",
        "Check for updates starting at date 2014-11-12 03:00:00\n",
        "Mirroring 732 timestamps, starting 2014-11-12 03:00:00\n",
        "Not copying HourlyData/Archive/2014/2014111203.dat to AirNow/2014111203.dat because modification times are identical"
       ]
      },
      {
       "output_type": "stream",
       "stream": "stdout",
       "text": [
        "\n",
        "Not copying HourlyData/Archive/2014/2014111204.dat to AirNow/2014111204.dat because modification times are identical"
       ]
      },
      {
       "output_type": "stream",
       "stream": "stdout",
       "text": [
        "\n",
        "Not copying HourlyData/Archive/2014/2014111205.dat to AirNow/2014111205.dat because modification times are identical"
       ]
      },
      {
       "output_type": "stream",
       "stream": "stdout",
       "text": [
        "\n",
        "Not copying HourlyData/Archive/2014/2014111206.dat to AirNow/2014111206.dat because modification times are identical"
       ]
      },
      {
       "output_type": "stream",
       "stream": "stdout",
       "text": [
        "\n",
        "Not copying HourlyData/Archive/2014/2014111207.dat to AirNow/2014111207.dat because modification times are identical"
       ]
      },
      {
       "output_type": "stream",
       "stream": "stdout",
       "text": [
        "\n",
        "Not copying HourlyData/Archive/2014/2014111208.dat to AirNow/2014111208.dat because modification times are identical"
       ]
      },
      {
       "output_type": "stream",
       "stream": "stdout",
       "text": [
        "\n",
        "Not copying HourlyData/Archive/2014/2014111209.dat to AirNow/2014111209.dat because modification times are identical"
       ]
      },
      {
       "output_type": "stream",
       "stream": "stdout",
       "text": [
        "\n",
        "Not copying HourlyData/Archive/2014/2014111210.dat to AirNow/2014111210.dat because modification times are identical"
       ]
      },
      {
       "output_type": "stream",
       "stream": "stdout",
       "text": [
        "\n",
        "Not copying HourlyData/Archive/2014/2014111211.dat to AirNow/2014111211.dat because modification times are identical"
       ]
      },
      {
       "output_type": "stream",
       "stream": "stdout",
       "text": [
        "\n",
        "Not copying HourlyData/Archive/2014/2014111212.dat to AirNow/2014111212.dat because modification times are identical"
       ]
      },
      {
       "output_type": "stream",
       "stream": "stdout",
       "text": [
        "\n",
        "Not copying HourlyData/Archive/2014/2014111213.dat to AirNow/2014111213.dat because modification times are identical"
       ]
      },
      {
       "output_type": "stream",
       "stream": "stdout",
       "text": [
        "\n",
        "Not copying HourlyData/Archive/2014/2014111214.dat to AirNow/2014111214.dat because modification times are identical"
       ]
      },
      {
       "output_type": "stream",
       "stream": "stdout",
       "text": [
        "\n",
        "Not copying HourlyData/Archive/2014/2014111215.dat to AirNow/2014111215.dat because modification times are identical"
       ]
      },
      {
       "output_type": "stream",
       "stream": "stdout",
       "text": [
        "\n",
        "Not copying HourlyData/Archive/2014/2014111216.dat to AirNow/2014111216.dat because modification times are identical"
       ]
      },
      {
       "output_type": "stream",
       "stream": "stdout",
       "text": [
        "\n",
        "Not copying HourlyData/Archive/2014/2014111217.dat to AirNow/2014111217.dat because modification times are identical"
       ]
      },
      {
       "output_type": "stream",
       "stream": "stdout",
       "text": [
        "\n",
        "Not copying HourlyData/Archive/2014/2014111218.dat to AirNow/2014111218.dat because modification times are identical"
       ]
      },
      {
       "output_type": "stream",
       "stream": "stdout",
       "text": [
        "\n",
        "Not copying HourlyData/Archive/2014/2014111219.dat to AirNow/2014111219.dat because modification times are identical"
       ]
      },
      {
       "output_type": "stream",
       "stream": "stdout",
       "text": [
        "\n",
        "Not copying HourlyData/Archive/2014/2014111220.dat to AirNow/2014111220.dat because modification times are identical"
       ]
      },
      {
       "output_type": "stream",
       "stream": "stdout",
       "text": [
        "\n",
        "Not copying HourlyData/Archive/2014/2014111221.dat to AirNow/2014111221.dat because modification times are identical"
       ]
      },
      {
       "output_type": "stream",
       "stream": "stdout",
       "text": [
        "\n",
        "Not copying HourlyData/Archive/2014/2014111222.dat to AirNow/2014111222.dat because modification times are identical"
       ]
      },
      {
       "output_type": "stream",
       "stream": "stdout",
       "text": [
        "\n",
        "Not copying HourlyData/Archive/2014/2014111223.dat to AirNow/2014111223.dat because modification times are identical"
       ]
      },
      {
       "output_type": "stream",
       "stream": "stdout",
       "text": [
        "\n",
        "Not copying HourlyData/Archive/2014/2014111300.dat to AirNow/2014111300.dat because modification times are identical"
       ]
      },
      {
       "output_type": "stream",
       "stream": "stdout",
       "text": [
        "\n",
        "Not copying HourlyData/Archive/2014/2014111301.dat to AirNow/2014111301.dat because modification times are identical"
       ]
      },
      {
       "output_type": "stream",
       "stream": "stdout",
       "text": [
        "\n",
        "Not copying HourlyData/Archive/2014/2014111302.dat to AirNow/2014111302.dat because modification times are identical"
       ]
      },
      {
       "output_type": "stream",
       "stream": "stdout",
       "text": [
        "\n",
        "Not copying HourlyData/Archive/2014/2014111303.dat to AirNow/2014111303.dat because modification times are identical"
       ]
      },
      {
       "output_type": "stream",
       "stream": "stdout",
       "text": [
        "\n",
        "Not copying HourlyData/Archive/2014/2014111304.dat to AirNow/2014111304.dat because modification times are identical"
       ]
      },
      {
       "output_type": "stream",
       "stream": "stdout",
       "text": [
        "\n",
        "Not copying HourlyData/Archive/2014/2014111305.dat to AirNow/2014111305.dat because modification times are identical"
       ]
      },
      {
       "output_type": "stream",
       "stream": "stdout",
       "text": [
        "\n",
        "Not copying HourlyData/Archive/2014/2014111306.dat to AirNow/2014111306.dat because modification times are identical"
       ]
      },
      {
       "output_type": "stream",
       "stream": "stdout",
       "text": [
        "\n",
        "Not copying HourlyData/Archive/2014/2014111307.dat to AirNow/2014111307.dat because modification times are identical"
       ]
      },
      {
       "output_type": "stream",
       "stream": "stdout",
       "text": [
        "\n",
        "Not copying HourlyData/Archive/2014/2014111308.dat to AirNow/2014111308.dat because modification times are identical"
       ]
      },
      {
       "output_type": "stream",
       "stream": "stdout",
       "text": [
        "\n",
        "Not copying HourlyData/Archive/2014/2014111309.dat to AirNow/2014111309.dat because modification times are identical"
       ]
      },
      {
       "output_type": "stream",
       "stream": "stdout",
       "text": [
        "\n",
        "Not copying HourlyData/Archive/2014/2014111310.dat to AirNow/2014111310.dat because modification times are identical"
       ]
      },
      {
       "output_type": "stream",
       "stream": "stdout",
       "text": [
        "\n",
        "Not copying HourlyData/Archive/2014/2014111311.dat to AirNow/2014111311.dat because modification times are identical"
       ]
      },
      {
       "output_type": "stream",
       "stream": "stdout",
       "text": [
        "\n",
        "Not copying HourlyData/Archive/2014/2014111312.dat to AirNow/2014111312.dat because modification times are identical"
       ]
      },
      {
       "output_type": "stream",
       "stream": "stdout",
       "text": [
        "\n",
        "Not copying HourlyData/Archive/2014/2014111313.dat to AirNow/2014111313.dat because modification times are identical"
       ]
      },
      {
       "output_type": "stream",
       "stream": "stdout",
       "text": [
        "\n",
        "Not copying HourlyData/Archive/2014/2014111314.dat to AirNow/2014111314.dat because modification times are identical"
       ]
      },
      {
       "output_type": "stream",
       "stream": "stdout",
       "text": [
        "\n",
        "Not copying HourlyData/Archive/2014/2014111315.dat to AirNow/2014111315.dat because modification times are identical"
       ]
      },
      {
       "output_type": "stream",
       "stream": "stdout",
       "text": [
        "\n",
        "Not copying HourlyData/Archive/2014/2014111316.dat to AirNow/2014111316.dat because modification times are identical"
       ]
      },
      {
       "output_type": "stream",
       "stream": "stdout",
       "text": [
        "\n",
        "Not copying HourlyData/Archive/2014/2014111317.dat to AirNow/2014111317.dat because modification times are identical"
       ]
      },
      {
       "output_type": "stream",
       "stream": "stdout",
       "text": [
        "\n",
        "Not copying HourlyData/Archive/2014/2014111318.dat to AirNow/2014111318.dat because modification times are identical"
       ]
      },
      {
       "output_type": "stream",
       "stream": "stdout",
       "text": [
        "\n",
        "Not copying HourlyData/Archive/2014/2014111319.dat to AirNow/2014111319.dat because modification times are identical"
       ]
      },
      {
       "output_type": "stream",
       "stream": "stdout",
       "text": [
        "\n",
        "Not copying HourlyData/Archive/2014/2014111320.dat to AirNow/2014111320.dat because modification times are identical"
       ]
      },
      {
       "output_type": "stream",
       "stream": "stdout",
       "text": [
        "\n",
        "Not copying HourlyData/Archive/2014/2014111321.dat to AirNow/2014111321.dat because modification times are identical"
       ]
      },
      {
       "output_type": "stream",
       "stream": "stdout",
       "text": [
        "\n",
        "Not copying HourlyData/Archive/2014/2014111322.dat to AirNow/2014111322.dat because modification times are identical"
       ]
      },
      {
       "output_type": "stream",
       "stream": "stdout",
       "text": [
        "\n",
        "Not copying HourlyData/Archive/2014/2014111323.dat to AirNow/2014111323.dat because modification times are identical"
       ]
      },
      {
       "output_type": "stream",
       "stream": "stdout",
       "text": [
        "\n",
        "Not copying HourlyData/Archive/2014/2014111400.dat to AirNow/2014111400.dat because modification times are identical"
       ]
      },
      {
       "output_type": "stream",
       "stream": "stdout",
       "text": [
        "\n",
        "Not copying HourlyData/Archive/2014/2014111401.dat to AirNow/2014111401.dat because modification times are identical"
       ]
      },
      {
       "output_type": "stream",
       "stream": "stdout",
       "text": [
        "\n",
        "Not copying HourlyData/Archive/2014/2014111402.dat to AirNow/2014111402.dat because modification times are identical"
       ]
      },
      {
       "output_type": "stream",
       "stream": "stdout",
       "text": [
        "\n",
        "Not copying HourlyData/Archive/2014/2014111403.dat to AirNow/2014111403.dat because modification times are identical"
       ]
      },
      {
       "output_type": "stream",
       "stream": "stdout",
       "text": [
        "\n",
        "Not copying HourlyData/Archive/2014/2014111404.dat to AirNow/2014111404.dat because modification times are identical"
       ]
      },
      {
       "output_type": "stream",
       "stream": "stdout",
       "text": [
        "\n",
        "Not copying HourlyData/Archive/2014/2014111405.dat to AirNow/2014111405.dat because modification times are identical"
       ]
      },
      {
       "output_type": "stream",
       "stream": "stdout",
       "text": [
        "\n",
        "Not copying HourlyData/Archive/2014/2014111406.dat to AirNow/2014111406.dat because modification times are identical"
       ]
      },
      {
       "output_type": "stream",
       "stream": "stdout",
       "text": [
        "\n",
        "Not copying HourlyData/Archive/2014/2014111407.dat to AirNow/2014111407.dat because modification times are identical"
       ]
      },
      {
       "output_type": "stream",
       "stream": "stdout",
       "text": [
        "\n",
        "Not copying HourlyData/Archive/2014/2014111408.dat to AirNow/2014111408.dat because modification times are identical"
       ]
      },
      {
       "output_type": "stream",
       "stream": "stdout",
       "text": [
        "\n",
        "Not copying HourlyData/Archive/2014/2014111409.dat to AirNow/2014111409.dat because modification times are identical"
       ]
      },
      {
       "output_type": "stream",
       "stream": "stdout",
       "text": [
        "\n",
        "Not copying HourlyData/Archive/2014/2014111410.dat to AirNow/2014111410.dat because modification times are identical"
       ]
      },
      {
       "output_type": "stream",
       "stream": "stdout",
       "text": [
        "\n",
        "Not copying HourlyData/Archive/2014/2014111411.dat to AirNow/2014111411.dat because modification times are identical"
       ]
      },
      {
       "output_type": "stream",
       "stream": "stdout",
       "text": [
        "\n",
        "Not copying HourlyData/Archive/2014/2014111412.dat to AirNow/2014111412.dat because modification times are identical"
       ]
      },
      {
       "output_type": "stream",
       "stream": "stdout",
       "text": [
        "\n",
        "Not copying HourlyData/Archive/2014/2014111413.dat to AirNow/2014111413.dat because modification times are identical"
       ]
      },
      {
       "output_type": "stream",
       "stream": "stdout",
       "text": [
        "\n",
        "Not copying HourlyData/Archive/2014/2014111414.dat to AirNow/2014111414.dat because modification times are identical"
       ]
      },
      {
       "output_type": "stream",
       "stream": "stdout",
       "text": [
        "\n",
        "Not copying HourlyData/Archive/2014/2014111415.dat to AirNow/2014111415.dat because modification times are identical"
       ]
      },
      {
       "output_type": "stream",
       "stream": "stdout",
       "text": [
        "\n",
        "Not copying HourlyData/Archive/2014/2014111416.dat to AirNow/2014111416.dat because modification times are identical"
       ]
      },
      {
       "output_type": "stream",
       "stream": "stdout",
       "text": [
        "\n",
        "Not copying HourlyData/Archive/2014/2014111417.dat to AirNow/2014111417.dat because modification times are identical"
       ]
      },
      {
       "output_type": "stream",
       "stream": "stdout",
       "text": [
        "\n",
        "Not copying HourlyData/Archive/2014/2014111418.dat to AirNow/2014111418.dat because modification times are identical"
       ]
      },
      {
       "output_type": "stream",
       "stream": "stdout",
       "text": [
        "\n",
        "Not copying HourlyData/Archive/2014/2014111419.dat to AirNow/2014111419.dat because modification times are identical"
       ]
      },
      {
       "output_type": "stream",
       "stream": "stdout",
       "text": [
        "\n",
        "Not copying HourlyData/Archive/2014/2014111420.dat to AirNow/2014111420.dat because modification times are identical"
       ]
      },
      {
       "output_type": "stream",
       "stream": "stdout",
       "text": [
        "\n",
        "Not copying HourlyData/Archive/2014/2014111421.dat to AirNow/2014111421.dat because modification times are identical"
       ]
      },
      {
       "output_type": "stream",
       "stream": "stdout",
       "text": [
        "\n",
        "Not copying HourlyData/Archive/2014/2014111422.dat to AirNow/2014111422.dat because modification times are identical"
       ]
      },
      {
       "output_type": "stream",
       "stream": "stdout",
       "text": [
        "\n",
        "Not copying HourlyData/Archive/2014/2014111423.dat to AirNow/2014111423.dat because modification times are identical"
       ]
      },
      {
       "output_type": "stream",
       "stream": "stdout",
       "text": [
        "\n",
        "Not copying HourlyData/Archive/2014/2014111500.dat to AirNow/2014111500.dat because modification times are identical"
       ]
      },
      {
       "output_type": "stream",
       "stream": "stdout",
       "text": [
        "\n",
        "Not copying HourlyData/Archive/2014/2014111501.dat to AirNow/2014111501.dat because modification times are identical"
       ]
      },
      {
       "output_type": "stream",
       "stream": "stdout",
       "text": [
        "\n",
        "Not copying HourlyData/Archive/2014/2014111502.dat to AirNow/2014111502.dat because modification times are identical"
       ]
      },
      {
       "output_type": "stream",
       "stream": "stdout",
       "text": [
        "\n",
        "Not copying HourlyData/Archive/2014/2014111503.dat to AirNow/2014111503.dat because modification times are identical"
       ]
      },
      {
       "output_type": "stream",
       "stream": "stdout",
       "text": [
        "\n",
        "Not copying HourlyData/Archive/2014/2014111504.dat to AirNow/2014111504.dat because modification times are identical"
       ]
      },
      {
       "output_type": "stream",
       "stream": "stdout",
       "text": [
        "\n",
        "Not copying HourlyData/Archive/2014/2014111505.dat to AirNow/2014111505.dat because modification times are identical"
       ]
      },
      {
       "output_type": "stream",
       "stream": "stdout",
       "text": [
        "\n",
        "Not copying HourlyData/Archive/2014/2014111506.dat to AirNow/2014111506.dat because modification times are identical"
       ]
      },
      {
       "output_type": "stream",
       "stream": "stdout",
       "text": [
        "\n",
        "Not copying HourlyData/Archive/2014/2014111507.dat to AirNow/2014111507.dat because modification times are identical"
       ]
      },
      {
       "output_type": "stream",
       "stream": "stdout",
       "text": [
        "\n",
        "Not copying HourlyData/Archive/2014/2014111508.dat to AirNow/2014111508.dat because modification times are identical"
       ]
      },
      {
       "output_type": "stream",
       "stream": "stdout",
       "text": [
        "\n",
        "Not copying HourlyData/Archive/2014/2014111509.dat to AirNow/2014111509.dat because modification times are identical"
       ]
      },
      {
       "output_type": "stream",
       "stream": "stdout",
       "text": [
        "\n",
        "Not copying HourlyData/Archive/2014/2014111510.dat to AirNow/2014111510.dat because modification times are identical"
       ]
      },
      {
       "output_type": "stream",
       "stream": "stdout",
       "text": [
        "\n",
        "Not copying HourlyData/Archive/2014/2014111511.dat to AirNow/2014111511.dat because modification times are identical"
       ]
      },
      {
       "output_type": "stream",
       "stream": "stdout",
       "text": [
        "\n",
        "Not copying HourlyData/Archive/2014/2014111512.dat to AirNow/2014111512.dat because modification times are identical"
       ]
      },
      {
       "output_type": "stream",
       "stream": "stdout",
       "text": [
        "\n",
        "Not copying HourlyData/Archive/2014/2014111513.dat to AirNow/2014111513.dat because modification times are identical"
       ]
      },
      {
       "output_type": "stream",
       "stream": "stdout",
       "text": [
        "\n",
        "Not copying HourlyData/Archive/2014/2014111514.dat to AirNow/2014111514.dat because modification times are identical"
       ]
      },
      {
       "output_type": "stream",
       "stream": "stdout",
       "text": [
        "\n",
        "Not copying HourlyData/Archive/2014/2014111515.dat to AirNow/2014111515.dat because modification times are identical"
       ]
      },
      {
       "output_type": "stream",
       "stream": "stdout",
       "text": [
        "\n",
        "Not copying HourlyData/Archive/2014/2014111516.dat to AirNow/2014111516.dat because modification times are identical"
       ]
      },
      {
       "output_type": "stream",
       "stream": "stdout",
       "text": [
        "\n",
        "Not copying HourlyData/Archive/2014/2014111517.dat to AirNow/2014111517.dat because modification times are identical"
       ]
      },
      {
       "output_type": "stream",
       "stream": "stdout",
       "text": [
        "\n",
        "Not copying HourlyData/Archive/2014/2014111518.dat to AirNow/2014111518.dat because modification times are identical"
       ]
      },
      {
       "output_type": "stream",
       "stream": "stdout",
       "text": [
        "\n",
        "Not copying HourlyData/Archive/2014/2014111519.dat to AirNow/2014111519.dat because modification times are identical"
       ]
      },
      {
       "output_type": "stream",
       "stream": "stdout",
       "text": [
        "\n",
        "Not copying HourlyData/Archive/2014/2014111520.dat to AirNow/2014111520.dat because modification times are identical"
       ]
      },
      {
       "output_type": "stream",
       "stream": "stdout",
       "text": [
        "\n",
        "Not copying HourlyData/Archive/2014/2014111521.dat to AirNow/2014111521.dat because modification times are identical"
       ]
      },
      {
       "output_type": "stream",
       "stream": "stdout",
       "text": [
        "\n",
        "Not copying HourlyData/Archive/2014/2014111522.dat to AirNow/2014111522.dat because modification times are identical"
       ]
      },
      {
       "output_type": "stream",
       "stream": "stdout",
       "text": [
        "\n",
        "Not copying HourlyData/Archive/2014/2014111523.dat to AirNow/2014111523.dat because modification times are identical"
       ]
      },
      {
       "output_type": "stream",
       "stream": "stdout",
       "text": [
        "\n",
        "Not copying HourlyData/Archive/2014/2014111600.dat to AirNow/2014111600.dat because modification times are identical"
       ]
      },
      {
       "output_type": "stream",
       "stream": "stdout",
       "text": [
        "\n",
        "Not copying HourlyData/Archive/2014/2014111601.dat to AirNow/2014111601.dat because modification times are identical"
       ]
      },
      {
       "output_type": "stream",
       "stream": "stdout",
       "text": [
        "\n",
        "Not copying HourlyData/Archive/2014/2014111602.dat to AirNow/2014111602.dat because modification times are identical"
       ]
      },
      {
       "output_type": "stream",
       "stream": "stdout",
       "text": [
        "\n",
        "Not copying HourlyData/Archive/2014/2014111603.dat to AirNow/2014111603.dat because modification times are identical"
       ]
      },
      {
       "output_type": "stream",
       "stream": "stdout",
       "text": [
        "\n",
        "Not copying HourlyData/Archive/2014/2014111604.dat to AirNow/2014111604.dat because modification times are identical"
       ]
      },
      {
       "output_type": "stream",
       "stream": "stdout",
       "text": [
        "\n",
        "Not copying HourlyData/Archive/2014/2014111605.dat to AirNow/2014111605.dat because modification times are identical"
       ]
      },
      {
       "output_type": "stream",
       "stream": "stdout",
       "text": [
        "\n",
        "Not copying HourlyData/Archive/2014/2014111606.dat to AirNow/2014111606.dat because modification times are identical"
       ]
      },
      {
       "output_type": "stream",
       "stream": "stdout",
       "text": [
        "\n",
        "Not copying HourlyData/Archive/2014/2014111607.dat to AirNow/2014111607.dat because modification times are identical"
       ]
      },
      {
       "output_type": "stream",
       "stream": "stdout",
       "text": [
        "\n",
        "Not copying HourlyData/Archive/2014/2014111608.dat to AirNow/2014111608.dat because modification times are identical"
       ]
      },
      {
       "output_type": "stream",
       "stream": "stdout",
       "text": [
        "\n",
        "Not copying HourlyData/Archive/2014/2014111609.dat to AirNow/2014111609.dat because modification times are identical"
       ]
      },
      {
       "output_type": "stream",
       "stream": "stdout",
       "text": [
        "\n",
        "Not copying HourlyData/Archive/2014/2014111610.dat to AirNow/2014111610.dat because modification times are identical"
       ]
      },
      {
       "output_type": "stream",
       "stream": "stdout",
       "text": [
        "\n",
        "Not copying HourlyData/Archive/2014/2014111611.dat to AirNow/2014111611.dat because modification times are identical"
       ]
      },
      {
       "output_type": "stream",
       "stream": "stdout",
       "text": [
        "\n",
        "Not copying HourlyData/Archive/2014/2014111612.dat to AirNow/2014111612.dat because modification times are identical"
       ]
      },
      {
       "output_type": "stream",
       "stream": "stdout",
       "text": [
        "\n",
        "Not copying HourlyData/Archive/2014/2014111613.dat to AirNow/2014111613.dat because modification times are identical"
       ]
      },
      {
       "output_type": "stream",
       "stream": "stdout",
       "text": [
        "\n",
        "Not copying HourlyData/Archive/2014/2014111614.dat to AirNow/2014111614.dat because modification times are identical"
       ]
      },
      {
       "output_type": "stream",
       "stream": "stdout",
       "text": [
        "\n",
        "Not copying HourlyData/Archive/2014/2014111615.dat to AirNow/2014111615.dat because modification times are identical"
       ]
      },
      {
       "output_type": "stream",
       "stream": "stdout",
       "text": [
        "\n",
        "Not copying HourlyData/Archive/2014/2014111616.dat to AirNow/2014111616.dat because modification times are identical"
       ]
      },
      {
       "output_type": "stream",
       "stream": "stdout",
       "text": [
        "\n",
        "Not copying HourlyData/Archive/2014/2014111617.dat to AirNow/2014111617.dat because modification times are identical"
       ]
      },
      {
       "output_type": "stream",
       "stream": "stdout",
       "text": [
        "\n",
        "Not copying HourlyData/Archive/2014/2014111618.dat to AirNow/2014111618.dat because modification times are identical"
       ]
      },
      {
       "output_type": "stream",
       "stream": "stdout",
       "text": [
        "\n",
        "Not copying HourlyData/Archive/2014/2014111619.dat to AirNow/2014111619.dat because modification times are identical"
       ]
      },
      {
       "output_type": "stream",
       "stream": "stdout",
       "text": [
        "\n",
        "Not copying HourlyData/Archive/2014/2014111620.dat to AirNow/2014111620.dat because modification times are identical"
       ]
      },
      {
       "output_type": "stream",
       "stream": "stdout",
       "text": [
        "\n",
        "Not copying HourlyData/Archive/2014/2014111621.dat to AirNow/2014111621.dat because modification times are identical"
       ]
      },
      {
       "output_type": "stream",
       "stream": "stdout",
       "text": [
        "\n",
        "Not copying HourlyData/Archive/2014/2014111622.dat to AirNow/2014111622.dat because modification times are identical"
       ]
      },
      {
       "output_type": "stream",
       "stream": "stdout",
       "text": [
        "\n",
        "Not copying HourlyData/Archive/2014/2014111623.dat to AirNow/2014111623.dat because modification times are identical"
       ]
      },
      {
       "output_type": "stream",
       "stream": "stdout",
       "text": [
        "\n",
        "Not copying HourlyData/Archive/2014/2014111700.dat to AirNow/2014111700.dat because modification times are identical"
       ]
      },
      {
       "output_type": "stream",
       "stream": "stdout",
       "text": [
        "\n",
        "Not copying HourlyData/Archive/2014/2014111701.dat to AirNow/2014111701.dat because modification times are identical"
       ]
      },
      {
       "output_type": "stream",
       "stream": "stdout",
       "text": [
        "\n",
        "Not copying HourlyData/Archive/2014/2014111702.dat to AirNow/2014111702.dat because modification times are identical"
       ]
      },
      {
       "output_type": "stream",
       "stream": "stdout",
       "text": [
        "\n",
        "Not copying HourlyData/Archive/2014/2014111703.dat to AirNow/2014111703.dat because modification times are identical"
       ]
      },
      {
       "output_type": "stream",
       "stream": "stdout",
       "text": [
        "\n",
        "Not copying HourlyData/Archive/2014/2014111704.dat to AirNow/2014111704.dat because modification times are identical"
       ]
      },
      {
       "output_type": "stream",
       "stream": "stdout",
       "text": [
        "\n",
        "Not copying HourlyData/Archive/2014/2014111705.dat to AirNow/2014111705.dat because modification times are identical"
       ]
      },
      {
       "output_type": "stream",
       "stream": "stdout",
       "text": [
        "\n",
        "Not copying HourlyData/Archive/2014/2014111706.dat to AirNow/2014111706.dat because modification times are identical"
       ]
      },
      {
       "output_type": "stream",
       "stream": "stdout",
       "text": [
        "\n",
        "Not copying HourlyData/Archive/2014/2014111707.dat to AirNow/2014111707.dat because modification times are identical"
       ]
      },
      {
       "output_type": "stream",
       "stream": "stdout",
       "text": [
        "\n",
        "Not copying HourlyData/Archive/2014/2014111708.dat to AirNow/2014111708.dat because modification times are identical"
       ]
      },
      {
       "output_type": "stream",
       "stream": "stdout",
       "text": [
        "\n",
        "Not copying HourlyData/Archive/2014/2014111709.dat to AirNow/2014111709.dat because modification times are identical"
       ]
      },
      {
       "output_type": "stream",
       "stream": "stdout",
       "text": [
        "\n",
        "Not copying HourlyData/Archive/2014/2014111710.dat to AirNow/2014111710.dat because modification times are identical"
       ]
      },
      {
       "output_type": "stream",
       "stream": "stdout",
       "text": [
        "\n",
        "Not copying HourlyData/Archive/2014/2014111711.dat to AirNow/2014111711.dat because modification times are identical"
       ]
      },
      {
       "output_type": "stream",
       "stream": "stdout",
       "text": [
        "\n",
        "Not copying HourlyData/Archive/2014/2014111712.dat to AirNow/2014111712.dat because modification times are identical"
       ]
      },
      {
       "output_type": "stream",
       "stream": "stdout",
       "text": [
        "\n",
        "Not copying HourlyData/Archive/2014/2014111713.dat to AirNow/2014111713.dat because modification times are identical"
       ]
      },
      {
       "output_type": "stream",
       "stream": "stdout",
       "text": [
        "\n",
        "Not copying HourlyData/Archive/2014/2014111714.dat to AirNow/2014111714.dat because modification times are identical"
       ]
      },
      {
       "output_type": "stream",
       "stream": "stdout",
       "text": [
        "\n",
        "Not copying HourlyData/Archive/2014/2014111715.dat to AirNow/2014111715.dat because modification times are identical"
       ]
      },
      {
       "output_type": "stream",
       "stream": "stdout",
       "text": [
        "\n",
        "Not copying HourlyData/Archive/2014/2014111716.dat to AirNow/2014111716.dat because modification times are identical"
       ]
      },
      {
       "output_type": "stream",
       "stream": "stdout",
       "text": [
        "\n",
        "Not copying HourlyData/Archive/2014/2014111717.dat to AirNow/2014111717.dat because modification times are identical"
       ]
      },
      {
       "output_type": "stream",
       "stream": "stdout",
       "text": [
        "\n",
        "Not copying HourlyData/Archive/2014/2014111718.dat to AirNow/2014111718.dat because modification times are identical"
       ]
      },
      {
       "output_type": "stream",
       "stream": "stdout",
       "text": [
        "\n",
        "Not copying HourlyData/Archive/2014/2014111719.dat to AirNow/2014111719.dat because modification times are identical"
       ]
      },
      {
       "output_type": "stream",
       "stream": "stdout",
       "text": [
        "\n",
        "Not copying HourlyData/Archive/2014/2014111720.dat to AirNow/2014111720.dat because modification times are identical"
       ]
      },
      {
       "output_type": "stream",
       "stream": "stdout",
       "text": [
        "\n",
        "Not copying HourlyData/Archive/2014/2014111721.dat to AirNow/2014111721.dat because modification times are identical"
       ]
      },
      {
       "output_type": "stream",
       "stream": "stdout",
       "text": [
        "\n",
        "Not copying HourlyData/Archive/2014/2014111722.dat to AirNow/2014111722.dat because modification times are identical"
       ]
      },
      {
       "output_type": "stream",
       "stream": "stdout",
       "text": [
        "\n",
        "Not copying HourlyData/Archive/2014/2014111723.dat to AirNow/2014111723.dat because modification times are identical"
       ]
      },
      {
       "output_type": "stream",
       "stream": "stdout",
       "text": [
        "\n",
        "Not copying HourlyData/Archive/2014/2014111800.dat to AirNow/2014111800.dat because modification times are identical"
       ]
      },
      {
       "output_type": "stream",
       "stream": "stdout",
       "text": [
        "\n",
        "Not copying HourlyData/Archive/2014/2014111801.dat to AirNow/2014111801.dat because modification times are identical"
       ]
      },
      {
       "output_type": "stream",
       "stream": "stdout",
       "text": [
        "\n",
        "Not copying HourlyData/Archive/2014/2014111802.dat to AirNow/2014111802.dat because modification times are identical"
       ]
      },
      {
       "output_type": "stream",
       "stream": "stdout",
       "text": [
        "\n",
        "Not copying HourlyData/Archive/2014/2014111803.dat to AirNow/2014111803.dat because modification times are identical"
       ]
      },
      {
       "output_type": "stream",
       "stream": "stdout",
       "text": [
        "\n",
        "Not copying HourlyData/Archive/2014/2014111804.dat to AirNow/2014111804.dat because modification times are identical"
       ]
      },
      {
       "output_type": "stream",
       "stream": "stdout",
       "text": [
        "\n",
        "Not copying HourlyData/Archive/2014/2014111805.dat to AirNow/2014111805.dat because modification times are identical"
       ]
      },
      {
       "output_type": "stream",
       "stream": "stdout",
       "text": [
        "\n",
        "Not copying HourlyData/Archive/2014/2014111806.dat to AirNow/2014111806.dat because modification times are identical"
       ]
      },
      {
       "output_type": "stream",
       "stream": "stdout",
       "text": [
        "\n",
        "Not copying HourlyData/Archive/2014/2014111807.dat to AirNow/2014111807.dat because modification times are identical"
       ]
      },
      {
       "output_type": "stream",
       "stream": "stdout",
       "text": [
        "\n",
        "Not copying HourlyData/Archive/2014/2014111808.dat to AirNow/2014111808.dat because modification times are identical"
       ]
      },
      {
       "output_type": "stream",
       "stream": "stdout",
       "text": [
        "\n",
        "Not copying HourlyData/Archive/2014/2014111809.dat to AirNow/2014111809.dat because modification times are identical"
       ]
      },
      {
       "output_type": "stream",
       "stream": "stdout",
       "text": [
        "\n",
        "Not copying HourlyData/Archive/2014/2014111810.dat to AirNow/2014111810.dat because modification times are identical"
       ]
      },
      {
       "output_type": "stream",
       "stream": "stdout",
       "text": [
        "\n",
        "Not copying HourlyData/Archive/2014/2014111811.dat to AirNow/2014111811.dat because modification times are identical"
       ]
      },
      {
       "output_type": "stream",
       "stream": "stdout",
       "text": [
        "\n",
        "Not copying HourlyData/Archive/2014/2014111812.dat to AirNow/2014111812.dat because modification times are identical"
       ]
      },
      {
       "output_type": "stream",
       "stream": "stdout",
       "text": [
        "\n",
        "Not copying HourlyData/Archive/2014/2014111813.dat to AirNow/2014111813.dat because modification times are identical"
       ]
      },
      {
       "output_type": "stream",
       "stream": "stdout",
       "text": [
        "\n",
        "Not copying HourlyData/Archive/2014/2014111814.dat to AirNow/2014111814.dat because modification times are identical"
       ]
      },
      {
       "output_type": "stream",
       "stream": "stdout",
       "text": [
        "\n",
        "Not copying HourlyData/Archive/2014/2014111815.dat to AirNow/2014111815.dat because modification times are identical"
       ]
      },
      {
       "output_type": "stream",
       "stream": "stdout",
       "text": [
        "\n",
        "Not copying HourlyData/Archive/2014/2014111816.dat to AirNow/2014111816.dat because modification times are identical"
       ]
      },
      {
       "output_type": "stream",
       "stream": "stdout",
       "text": [
        "\n",
        "Not copying HourlyData/Archive/2014/2014111817.dat to AirNow/2014111817.dat because modification times are identical"
       ]
      },
      {
       "output_type": "stream",
       "stream": "stdout",
       "text": [
        "\n",
        "Not copying HourlyData/Archive/2014/2014111818.dat to AirNow/2014111818.dat because modification times are identical"
       ]
      },
      {
       "output_type": "stream",
       "stream": "stdout",
       "text": [
        "\n",
        "Not copying HourlyData/Archive/2014/2014111819.dat to AirNow/2014111819.dat because modification times are identical"
       ]
      },
      {
       "output_type": "stream",
       "stream": "stdout",
       "text": [
        "\n",
        "Not copying HourlyData/Archive/2014/2014111820.dat to AirNow/2014111820.dat because modification times are identical"
       ]
      },
      {
       "output_type": "stream",
       "stream": "stdout",
       "text": [
        "\n",
        "Not copying HourlyData/Archive/2014/2014111821.dat to AirNow/2014111821.dat because modification times are identical"
       ]
      },
      {
       "output_type": "stream",
       "stream": "stdout",
       "text": [
        "\n",
        "Not copying HourlyData/Archive/2014/2014111822.dat to AirNow/2014111822.dat because modification times are identical"
       ]
      },
      {
       "output_type": "stream",
       "stream": "stdout",
       "text": [
        "\n",
        "Not copying HourlyData/Archive/2014/2014111823.dat to AirNow/2014111823.dat because modification times are identical"
       ]
      },
      {
       "output_type": "stream",
       "stream": "stdout",
       "text": [
        "\n",
        "Not copying HourlyData/Archive/2014/2014111900.dat to AirNow/2014111900.dat because modification times are identical"
       ]
      },
      {
       "output_type": "stream",
       "stream": "stdout",
       "text": [
        "\n",
        "Not copying HourlyData/Archive/2014/2014111901.dat to AirNow/2014111901.dat because modification times are identical"
       ]
      },
      {
       "output_type": "stream",
       "stream": "stdout",
       "text": [
        "\n",
        "Not copying HourlyData/Archive/2014/2014111902.dat to AirNow/2014111902.dat because modification times are identical"
       ]
      },
      {
       "output_type": "stream",
       "stream": "stdout",
       "text": [
        "\n",
        "Not copying HourlyData/Archive/2014/2014111903.dat to AirNow/2014111903.dat because modification times are identical"
       ]
      },
      {
       "output_type": "stream",
       "stream": "stdout",
       "text": [
        "\n",
        "Not copying HourlyData/Archive/2014/2014111904.dat to AirNow/2014111904.dat because modification times are identical"
       ]
      },
      {
       "output_type": "stream",
       "stream": "stdout",
       "text": [
        "\n",
        "Not copying HourlyData/Archive/2014/2014111905.dat to AirNow/2014111905.dat because modification times are identical"
       ]
      },
      {
       "output_type": "stream",
       "stream": "stdout",
       "text": [
        "\n",
        "Not copying HourlyData/Archive/2014/2014111906.dat to AirNow/2014111906.dat because modification times are identical"
       ]
      },
      {
       "output_type": "stream",
       "stream": "stdout",
       "text": [
        "\n",
        "Not copying HourlyData/Archive/2014/2014111907.dat to AirNow/2014111907.dat because modification times are identical"
       ]
      },
      {
       "output_type": "stream",
       "stream": "stdout",
       "text": [
        "\n",
        "Not copying HourlyData/Archive/2014/2014111908.dat to AirNow/2014111908.dat because modification times are identical"
       ]
      },
      {
       "output_type": "stream",
       "stream": "stdout",
       "text": [
        "\n",
        "Not copying HourlyData/Archive/2014/2014111909.dat to AirNow/2014111909.dat because modification times are identical"
       ]
      },
      {
       "output_type": "stream",
       "stream": "stdout",
       "text": [
        "\n",
        "Not copying HourlyData/Archive/2014/2014111910.dat to AirNow/2014111910.dat because modification times are identical"
       ]
      },
      {
       "output_type": "stream",
       "stream": "stdout",
       "text": [
        "\n",
        "Not copying HourlyData/Archive/2014/2014111911.dat to AirNow/2014111911.dat because modification times are identical"
       ]
      },
      {
       "output_type": "stream",
       "stream": "stdout",
       "text": [
        "\n",
        "Not copying HourlyData/Archive/2014/2014111912.dat to AirNow/2014111912.dat because modification times are identical"
       ]
      },
      {
       "output_type": "stream",
       "stream": "stdout",
       "text": [
        "\n",
        "Not copying HourlyData/Archive/2014/2014111913.dat to AirNow/2014111913.dat because modification times are identical"
       ]
      },
      {
       "output_type": "stream",
       "stream": "stdout",
       "text": [
        "\n",
        "Not copying HourlyData/Archive/2014/2014111914.dat to AirNow/2014111914.dat because modification times are identical"
       ]
      },
      {
       "output_type": "stream",
       "stream": "stdout",
       "text": [
        "\n",
        "Not copying HourlyData/Archive/2014/2014111915.dat to AirNow/2014111915.dat because modification times are identical"
       ]
      },
      {
       "output_type": "stream",
       "stream": "stdout",
       "text": [
        "\n",
        "Not copying HourlyData/Archive/2014/2014111916.dat to AirNow/2014111916.dat because modification times are identical"
       ]
      },
      {
       "output_type": "stream",
       "stream": "stdout",
       "text": [
        "\n",
        "Not copying HourlyData/Archive/2014/2014111917.dat to AirNow/2014111917.dat because modification times are identical"
       ]
      },
      {
       "output_type": "stream",
       "stream": "stdout",
       "text": [
        "\n",
        "Not copying HourlyData/Archive/2014/2014111918.dat to AirNow/2014111918.dat because modification times are identical"
       ]
      },
      {
       "output_type": "stream",
       "stream": "stdout",
       "text": [
        "\n",
        "Not copying HourlyData/Archive/2014/2014111919.dat to AirNow/2014111919.dat because modification times are identical"
       ]
      },
      {
       "output_type": "stream",
       "stream": "stdout",
       "text": [
        "\n",
        "Not copying HourlyData/Archive/2014/2014111920.dat to AirNow/2014111920.dat because modification times are identical"
       ]
      },
      {
       "output_type": "stream",
       "stream": "stdout",
       "text": [
        "\n",
        "Not copying HourlyData/Archive/2014/2014111921.dat to AirNow/2014111921.dat because modification times are identical"
       ]
      },
      {
       "output_type": "stream",
       "stream": "stdout",
       "text": [
        "\n",
        "Not copying HourlyData/Archive/2014/2014111922.dat to AirNow/2014111922.dat because modification times are identical"
       ]
      },
      {
       "output_type": "stream",
       "stream": "stdout",
       "text": [
        "\n",
        "Not copying HourlyData/Archive/2014/2014111923.dat to AirNow/2014111923.dat because modification times are identical"
       ]
      },
      {
       "output_type": "stream",
       "stream": "stdout",
       "text": [
        "\n",
        "Not copying HourlyData/Archive/2014/2014112000.dat to AirNow/2014112000.dat because modification times are identical"
       ]
      },
      {
       "output_type": "stream",
       "stream": "stdout",
       "text": [
        "\n",
        "Not copying HourlyData/Archive/2014/2014112001.dat to AirNow/2014112001.dat because modification times are identical"
       ]
      },
      {
       "output_type": "stream",
       "stream": "stdout",
       "text": [
        "\n",
        "Not copying HourlyData/Archive/2014/2014112002.dat to AirNow/2014112002.dat because modification times are identical"
       ]
      },
      {
       "output_type": "stream",
       "stream": "stdout",
       "text": [
        "\n",
        "Not copying HourlyData/Archive/2014/2014112003.dat to AirNow/2014112003.dat because modification times are identical"
       ]
      },
      {
       "output_type": "stream",
       "stream": "stdout",
       "text": [
        "\n",
        "Not copying HourlyData/Archive/2014/2014112004.dat to AirNow/2014112004.dat because modification times are identical"
       ]
      },
      {
       "output_type": "stream",
       "stream": "stdout",
       "text": [
        "\n",
        "Not copying HourlyData/Archive/2014/2014112005.dat to AirNow/2014112005.dat because modification times are identical"
       ]
      },
      {
       "output_type": "stream",
       "stream": "stdout",
       "text": [
        "\n",
        "Not copying HourlyData/Archive/2014/2014112006.dat to AirNow/2014112006.dat because modification times are identical"
       ]
      },
      {
       "output_type": "stream",
       "stream": "stdout",
       "text": [
        "\n",
        "Not copying HourlyData/Archive/2014/2014112007.dat to AirNow/2014112007.dat because modification times are identical"
       ]
      },
      {
       "output_type": "stream",
       "stream": "stdout",
       "text": [
        "\n",
        "Not copying HourlyData/Archive/2014/2014112008.dat to AirNow/2014112008.dat because modification times are identical"
       ]
      },
      {
       "output_type": "stream",
       "stream": "stdout",
       "text": [
        "\n",
        "Not copying HourlyData/Archive/2014/2014112009.dat to AirNow/2014112009.dat because modification times are identical"
       ]
      },
      {
       "output_type": "stream",
       "stream": "stdout",
       "text": [
        "\n",
        "Not copying HourlyData/Archive/2014/2014112010.dat to AirNow/2014112010.dat because modification times are identical"
       ]
      },
      {
       "output_type": "stream",
       "stream": "stdout",
       "text": [
        "\n",
        "Not copying HourlyData/Archive/2014/2014112011.dat to AirNow/2014112011.dat because modification times are identical"
       ]
      },
      {
       "output_type": "stream",
       "stream": "stdout",
       "text": [
        "\n",
        "Not copying HourlyData/Archive/2014/2014112012.dat to AirNow/2014112012.dat because modification times are identical"
       ]
      },
      {
       "output_type": "stream",
       "stream": "stdout",
       "text": [
        "\n",
        "Not copying HourlyData/Archive/2014/2014112013.dat to AirNow/2014112013.dat because modification times are identical"
       ]
      },
      {
       "output_type": "stream",
       "stream": "stdout",
       "text": [
        "\n",
        "Not copying HourlyData/Archive/2014/2014112014.dat to AirNow/2014112014.dat because modification times are identical"
       ]
      },
      {
       "output_type": "stream",
       "stream": "stdout",
       "text": [
        "\n",
        "Not copying HourlyData/Archive/2014/2014112015.dat to AirNow/2014112015.dat because modification times are identical"
       ]
      },
      {
       "output_type": "stream",
       "stream": "stdout",
       "text": [
        "\n",
        "Not copying HourlyData/Archive/2014/2014112016.dat to AirNow/2014112016.dat because modification times are identical"
       ]
      },
      {
       "output_type": "stream",
       "stream": "stdout",
       "text": [
        "\n",
        "Not copying HourlyData/Archive/2014/2014112017.dat to AirNow/2014112017.dat because modification times are identical"
       ]
      },
      {
       "output_type": "stream",
       "stream": "stdout",
       "text": [
        "\n",
        "Not copying HourlyData/Archive/2014/2014112018.dat to AirNow/2014112018.dat because modification times are identical"
       ]
      },
      {
       "output_type": "stream",
       "stream": "stdout",
       "text": [
        "\n",
        "Not copying HourlyData/Archive/2014/2014112019.dat to AirNow/2014112019.dat because modification times are identical"
       ]
      },
      {
       "output_type": "stream",
       "stream": "stdout",
       "text": [
        "\n",
        "Not copying HourlyData/Archive/2014/2014112020.dat to AirNow/2014112020.dat because modification times are identical"
       ]
      },
      {
       "output_type": "stream",
       "stream": "stdout",
       "text": [
        "\n",
        "Not copying HourlyData/Archive/2014/2014112021.dat to AirNow/2014112021.dat because modification times are identical"
       ]
      },
      {
       "output_type": "stream",
       "stream": "stdout",
       "text": [
        "\n",
        "Not copying HourlyData/Archive/2014/2014112022.dat to AirNow/2014112022.dat because modification times are identical"
       ]
      },
      {
       "output_type": "stream",
       "stream": "stdout",
       "text": [
        "\n",
        "Not copying HourlyData/Archive/2014/2014112023.dat to AirNow/2014112023.dat because modification times are identical"
       ]
      },
      {
       "output_type": "stream",
       "stream": "stdout",
       "text": [
        "\n",
        "Not copying HourlyData/Archive/2014/2014112100.dat to AirNow/2014112100.dat because modification times are identical"
       ]
      },
      {
       "output_type": "stream",
       "stream": "stdout",
       "text": [
        "\n",
        "Not copying HourlyData/Archive/2014/2014112101.dat to AirNow/2014112101.dat because modification times are identical"
       ]
      },
      {
       "output_type": "stream",
       "stream": "stdout",
       "text": [
        "\n",
        "Not copying HourlyData/Archive/2014/2014112102.dat to AirNow/2014112102.dat because modification times are identical"
       ]
      },
      {
       "output_type": "stream",
       "stream": "stdout",
       "text": [
        "\n",
        "Not copying HourlyData/Archive/2014/2014112103.dat to AirNow/2014112103.dat because modification times are identical"
       ]
      },
      {
       "output_type": "stream",
       "stream": "stdout",
       "text": [
        "\n",
        "Not copying HourlyData/Archive/2014/2014112104.dat to AirNow/2014112104.dat because modification times are identical"
       ]
      },
      {
       "output_type": "stream",
       "stream": "stdout",
       "text": [
        "\n",
        "Not copying HourlyData/Archive/2014/2014112105.dat to AirNow/2014112105.dat because modification times are identical"
       ]
      },
      {
       "output_type": "stream",
       "stream": "stdout",
       "text": [
        "\n",
        "Not copying HourlyData/Archive/2014/2014112106.dat to AirNow/2014112106.dat because modification times are identical"
       ]
      },
      {
       "output_type": "stream",
       "stream": "stdout",
       "text": [
        "\n",
        "Not copying HourlyData/Archive/2014/2014112107.dat to AirNow/2014112107.dat because modification times are identical"
       ]
      },
      {
       "output_type": "stream",
       "stream": "stdout",
       "text": [
        "\n",
        "Not copying HourlyData/Archive/2014/2014112108.dat to AirNow/2014112108.dat because modification times are identical"
       ]
      },
      {
       "output_type": "stream",
       "stream": "stdout",
       "text": [
        "\n",
        "Not copying HourlyData/Archive/2014/2014112109.dat to AirNow/2014112109.dat because modification times are identical"
       ]
      },
      {
       "output_type": "stream",
       "stream": "stdout",
       "text": [
        "\n",
        "Not copying HourlyData/Archive/2014/2014112110.dat to AirNow/2014112110.dat because modification times are identical"
       ]
      },
      {
       "output_type": "stream",
       "stream": "stdout",
       "text": [
        "\n",
        "Not copying HourlyData/Archive/2014/2014112111.dat to AirNow/2014112111.dat because modification times are identical"
       ]
      },
      {
       "output_type": "stream",
       "stream": "stdout",
       "text": [
        "\n",
        "Not copying HourlyData/Archive/2014/2014112112.dat to AirNow/2014112112.dat because modification times are identical"
       ]
      },
      {
       "output_type": "stream",
       "stream": "stdout",
       "text": [
        "\n",
        "Not copying HourlyData/Archive/2014/2014112113.dat to AirNow/2014112113.dat because modification times are identical"
       ]
      },
      {
       "output_type": "stream",
       "stream": "stdout",
       "text": [
        "\n",
        "Not copying HourlyData/Archive/2014/2014112114.dat to AirNow/2014112114.dat because modification times are identical"
       ]
      },
      {
       "output_type": "stream",
       "stream": "stdout",
       "text": [
        "\n",
        "Not copying HourlyData/Archive/2014/2014112115.dat to AirNow/2014112115.dat because modification times are identical"
       ]
      },
      {
       "output_type": "stream",
       "stream": "stdout",
       "text": [
        "\n",
        "Not copying HourlyData/Archive/2014/2014112116.dat to AirNow/2014112116.dat because modification times are identical"
       ]
      },
      {
       "output_type": "stream",
       "stream": "stdout",
       "text": [
        "\n",
        "Not copying HourlyData/Archive/2014/2014112117.dat to AirNow/2014112117.dat because modification times are identical"
       ]
      },
      {
       "output_type": "stream",
       "stream": "stdout",
       "text": [
        "\n",
        "Not copying HourlyData/Archive/2014/2014112118.dat to AirNow/2014112118.dat because modification times are identical"
       ]
      },
      {
       "output_type": "stream",
       "stream": "stdout",
       "text": [
        "\n",
        "Not copying HourlyData/Archive/2014/2014112119.dat to AirNow/2014112119.dat because modification times are identical"
       ]
      },
      {
       "output_type": "stream",
       "stream": "stdout",
       "text": [
        "\n",
        "Not copying HourlyData/Archive/2014/2014112120.dat to AirNow/2014112120.dat because modification times are identical"
       ]
      },
      {
       "output_type": "stream",
       "stream": "stdout",
       "text": [
        "\n",
        "Not copying HourlyData/Archive/2014/2014112121.dat to AirNow/2014112121.dat because modification times are identical"
       ]
      },
      {
       "output_type": "stream",
       "stream": "stdout",
       "text": [
        "\n",
        "Not copying HourlyData/Archive/2014/2014112122.dat to AirNow/2014112122.dat because modification times are identical"
       ]
      },
      {
       "output_type": "stream",
       "stream": "stdout",
       "text": [
        "\n",
        "Not copying HourlyData/Archive/2014/2014112123.dat to AirNow/2014112123.dat because modification times are identical"
       ]
      },
      {
       "output_type": "stream",
       "stream": "stdout",
       "text": [
        "\n",
        "Not copying HourlyData/Archive/2014/2014112200.dat to AirNow/2014112200.dat because modification times are identical"
       ]
      },
      {
       "output_type": "stream",
       "stream": "stdout",
       "text": [
        "\n",
        "Not copying HourlyData/Archive/2014/2014112201.dat to AirNow/2014112201.dat because modification times are identical"
       ]
      },
      {
       "output_type": "stream",
       "stream": "stdout",
       "text": [
        "\n",
        "Not copying HourlyData/Archive/2014/2014112202.dat to AirNow/2014112202.dat because modification times are identical"
       ]
      },
      {
       "output_type": "stream",
       "stream": "stdout",
       "text": [
        "\n",
        "Not copying HourlyData/Archive/2014/2014112203.dat to AirNow/2014112203.dat because modification times are identical"
       ]
      },
      {
       "output_type": "stream",
       "stream": "stdout",
       "text": [
        "\n",
        "Not copying HourlyData/Archive/2014/2014112204.dat to AirNow/2014112204.dat because modification times are identical"
       ]
      },
      {
       "output_type": "stream",
       "stream": "stdout",
       "text": [
        "\n",
        "Not copying HourlyData/Archive/2014/2014112205.dat to AirNow/2014112205.dat because modification times are identical"
       ]
      },
      {
       "output_type": "stream",
       "stream": "stdout",
       "text": [
        "\n",
        "Not copying HourlyData/Archive/2014/2014112206.dat to AirNow/2014112206.dat because modification times are identical"
       ]
      },
      {
       "output_type": "stream",
       "stream": "stdout",
       "text": [
        "\n",
        "Not copying HourlyData/Archive/2014/2014112207.dat to AirNow/2014112207.dat because modification times are identical"
       ]
      },
      {
       "output_type": "stream",
       "stream": "stdout",
       "text": [
        "\n",
        "Not copying HourlyData/Archive/2014/2014112208.dat to AirNow/2014112208.dat because modification times are identical"
       ]
      },
      {
       "output_type": "stream",
       "stream": "stdout",
       "text": [
        "\n",
        "Not copying HourlyData/Archive/2014/2014112209.dat to AirNow/2014112209.dat because modification times are identical"
       ]
      },
      {
       "output_type": "stream",
       "stream": "stdout",
       "text": [
        "\n",
        "Not copying HourlyData/Archive/2014/2014112210.dat to AirNow/2014112210.dat because modification times are identical"
       ]
      },
      {
       "output_type": "stream",
       "stream": "stdout",
       "text": [
        "\n",
        "Not copying HourlyData/Archive/2014/2014112211.dat to AirNow/2014112211.dat because modification times are identical"
       ]
      },
      {
       "output_type": "stream",
       "stream": "stdout",
       "text": [
        "\n",
        "Not copying HourlyData/Archive/2014/2014112212.dat to AirNow/2014112212.dat because modification times are identical"
       ]
      },
      {
       "output_type": "stream",
       "stream": "stdout",
       "text": [
        "\n",
        "Not copying HourlyData/Archive/2014/2014112213.dat to AirNow/2014112213.dat because modification times are identical"
       ]
      },
      {
       "output_type": "stream",
       "stream": "stdout",
       "text": [
        "\n",
        "Not copying HourlyData/Archive/2014/2014112214.dat to AirNow/2014112214.dat because modification times are identical"
       ]
      },
      {
       "output_type": "stream",
       "stream": "stdout",
       "text": [
        "\n",
        "Not copying HourlyData/Archive/2014/2014112215.dat to AirNow/2014112215.dat because modification times are identical"
       ]
      },
      {
       "output_type": "stream",
       "stream": "stdout",
       "text": [
        "\n",
        "Not copying HourlyData/Archive/2014/2014112216.dat to AirNow/2014112216.dat because modification times are identical"
       ]
      },
      {
       "output_type": "stream",
       "stream": "stdout",
       "text": [
        "\n",
        "Not copying HourlyData/Archive/2014/2014112217.dat to AirNow/2014112217.dat because modification times are identical"
       ]
      },
      {
       "output_type": "stream",
       "stream": "stdout",
       "text": [
        "\n",
        "Not copying HourlyData/Archive/2014/2014112218.dat to AirNow/2014112218.dat because modification times are identical"
       ]
      },
      {
       "output_type": "stream",
       "stream": "stdout",
       "text": [
        "\n",
        "Not copying HourlyData/Archive/2014/2014112219.dat to AirNow/2014112219.dat because modification times are identical"
       ]
      },
      {
       "output_type": "stream",
       "stream": "stdout",
       "text": [
        "\n",
        "Not copying HourlyData/Archive/2014/2014112220.dat to AirNow/2014112220.dat because modification times are identical"
       ]
      },
      {
       "output_type": "stream",
       "stream": "stdout",
       "text": [
        "\n",
        "Not copying HourlyData/Archive/2014/2014112221.dat to AirNow/2014112221.dat because modification times are identical"
       ]
      },
      {
       "output_type": "stream",
       "stream": "stdout",
       "text": [
        "\n",
        "Not copying HourlyData/Archive/2014/2014112222.dat to AirNow/2014112222.dat because modification times are identical"
       ]
      },
      {
       "output_type": "stream",
       "stream": "stdout",
       "text": [
        "\n",
        "Not copying HourlyData/Archive/2014/2014112223.dat to AirNow/2014112223.dat because modification times are identical"
       ]
      },
      {
       "output_type": "stream",
       "stream": "stdout",
       "text": [
        "\n",
        "Not copying HourlyData/Archive/2014/2014112300.dat to AirNow/2014112300.dat because modification times are identical"
       ]
      },
      {
       "output_type": "stream",
       "stream": "stdout",
       "text": [
        "\n",
        "Not copying HourlyData/Archive/2014/2014112301.dat to AirNow/2014112301.dat because modification times are identical"
       ]
      },
      {
       "output_type": "stream",
       "stream": "stdout",
       "text": [
        "\n",
        "Not copying HourlyData/Archive/2014/2014112302.dat to AirNow/2014112302.dat because modification times are identical"
       ]
      },
      {
       "output_type": "stream",
       "stream": "stdout",
       "text": [
        "\n",
        "Not copying HourlyData/Archive/2014/2014112303.dat to AirNow/2014112303.dat because modification times are identical"
       ]
      },
      {
       "output_type": "stream",
       "stream": "stdout",
       "text": [
        "\n",
        "Not copying HourlyData/Archive/2014/2014112304.dat to AirNow/2014112304.dat because modification times are identical"
       ]
      },
      {
       "output_type": "stream",
       "stream": "stdout",
       "text": [
        "\n",
        "Not copying HourlyData/Archive/2014/2014112305.dat to AirNow/2014112305.dat because modification times are identical"
       ]
      },
      {
       "output_type": "stream",
       "stream": "stdout",
       "text": [
        "\n",
        "Not copying HourlyData/Archive/2014/2014112306.dat to AirNow/2014112306.dat because modification times are identical"
       ]
      },
      {
       "output_type": "stream",
       "stream": "stdout",
       "text": [
        "\n",
        "Not copying HourlyData/Archive/2014/2014112307.dat to AirNow/2014112307.dat because modification times are identical"
       ]
      },
      {
       "output_type": "stream",
       "stream": "stdout",
       "text": [
        "\n",
        "Not copying HourlyData/Archive/2014/2014112308.dat to AirNow/2014112308.dat because modification times are identical"
       ]
      },
      {
       "output_type": "stream",
       "stream": "stdout",
       "text": [
        "\n",
        "Not copying HourlyData/Archive/2014/2014112309.dat to AirNow/2014112309.dat because modification times are identical"
       ]
      },
      {
       "output_type": "stream",
       "stream": "stdout",
       "text": [
        "\n",
        "Not copying HourlyData/Archive/2014/2014112310.dat to AirNow/2014112310.dat because modification times are identical"
       ]
      },
      {
       "output_type": "stream",
       "stream": "stdout",
       "text": [
        "\n",
        "Not copying HourlyData/Archive/2014/2014112311.dat to AirNow/2014112311.dat because modification times are identical"
       ]
      },
      {
       "output_type": "stream",
       "stream": "stdout",
       "text": [
        "\n",
        "Not copying HourlyData/Archive/2014/2014112312.dat to AirNow/2014112312.dat because modification times are identical"
       ]
      },
      {
       "output_type": "stream",
       "stream": "stdout",
       "text": [
        "\n",
        "Not copying HourlyData/Archive/2014/2014112313.dat to AirNow/2014112313.dat because modification times are identical"
       ]
      },
      {
       "output_type": "stream",
       "stream": "stdout",
       "text": [
        "\n",
        "Not copying HourlyData/Archive/2014/2014112314.dat to AirNow/2014112314.dat because modification times are identical"
       ]
      },
      {
       "output_type": "stream",
       "stream": "stdout",
       "text": [
        "\n",
        "Not copying HourlyData/Archive/2014/2014112315.dat to AirNow/2014112315.dat because modification times are identical"
       ]
      },
      {
       "output_type": "stream",
       "stream": "stdout",
       "text": [
        "\n",
        "Not copying HourlyData/Archive/2014/2014112316.dat to AirNow/2014112316.dat because modification times are identical"
       ]
      },
      {
       "output_type": "stream",
       "stream": "stdout",
       "text": [
        "\n",
        "Not copying HourlyData/Archive/2014/2014112317.dat to AirNow/2014112317.dat because modification times are identical"
       ]
      },
      {
       "output_type": "stream",
       "stream": "stdout",
       "text": [
        "\n",
        "Not copying HourlyData/Archive/2014/2014112318.dat to AirNow/2014112318.dat because modification times are identical"
       ]
      },
      {
       "output_type": "stream",
       "stream": "stdout",
       "text": [
        "\n",
        "Not copying HourlyData/Archive/2014/2014112319.dat to AirNow/2014112319.dat because modification times are identical"
       ]
      },
      {
       "output_type": "stream",
       "stream": "stdout",
       "text": [
        "\n",
        "Not copying HourlyData/Archive/2014/2014112320.dat to AirNow/2014112320.dat because modification times are identical"
       ]
      },
      {
       "output_type": "stream",
       "stream": "stdout",
       "text": [
        "\n",
        "Not copying HourlyData/Archive/2014/2014112321.dat to AirNow/2014112321.dat because modification times are identical"
       ]
      },
      {
       "output_type": "stream",
       "stream": "stdout",
       "text": [
        "\n",
        "Not copying HourlyData/Archive/2014/2014112322.dat to AirNow/2014112322.dat because modification times are identical"
       ]
      },
      {
       "output_type": "stream",
       "stream": "stdout",
       "text": [
        "\n",
        "Not copying HourlyData/Archive/2014/2014112323.dat to AirNow/2014112323.dat because modification times are identical"
       ]
      },
      {
       "output_type": "stream",
       "stream": "stdout",
       "text": [
        "\n",
        "Not copying HourlyData/Archive/2014/2014112400.dat to AirNow/2014112400.dat because modification times are identical"
       ]
      },
      {
       "output_type": "stream",
       "stream": "stdout",
       "text": [
        "\n",
        "Not copying HourlyData/Archive/2014/2014112401.dat to AirNow/2014112401.dat because modification times are identical"
       ]
      },
      {
       "output_type": "stream",
       "stream": "stdout",
       "text": [
        "\n",
        "Not copying HourlyData/Archive/2014/2014112402.dat to AirNow/2014112402.dat because modification times are identical"
       ]
      },
      {
       "output_type": "stream",
       "stream": "stdout",
       "text": [
        "\n",
        "Not copying HourlyData/Archive/2014/2014112403.dat to AirNow/2014112403.dat because modification times are identical"
       ]
      },
      {
       "output_type": "stream",
       "stream": "stdout",
       "text": [
        "\n",
        "Not copying HourlyData/Archive/2014/2014112404.dat to AirNow/2014112404.dat because modification times are identical"
       ]
      },
      {
       "output_type": "stream",
       "stream": "stdout",
       "text": [
        "\n",
        "Not copying HourlyData/Archive/2014/2014112405.dat to AirNow/2014112405.dat because modification times are identical"
       ]
      },
      {
       "output_type": "stream",
       "stream": "stdout",
       "text": [
        "\n",
        "Not copying HourlyData/Archive/2014/2014112406.dat to AirNow/2014112406.dat because modification times are identical"
       ]
      },
      {
       "output_type": "stream",
       "stream": "stdout",
       "text": [
        "\n",
        "Not copying HourlyData/Archive/2014/2014112407.dat to AirNow/2014112407.dat because modification times are identical"
       ]
      },
      {
       "output_type": "stream",
       "stream": "stdout",
       "text": [
        "\n",
        "Not copying HourlyData/Archive/2014/2014112408.dat to AirNow/2014112408.dat because modification times are identical"
       ]
      },
      {
       "output_type": "stream",
       "stream": "stdout",
       "text": [
        "\n",
        "Not copying HourlyData/Archive/2014/2014112409.dat to AirNow/2014112409.dat because modification times are identical"
       ]
      },
      {
       "output_type": "stream",
       "stream": "stdout",
       "text": [
        "\n",
        "Not copying HourlyData/Archive/2014/2014112410.dat to AirNow/2014112410.dat because modification times are identical"
       ]
      },
      {
       "output_type": "stream",
       "stream": "stdout",
       "text": [
        "\n",
        "Not copying HourlyData/Archive/2014/2014112411.dat to AirNow/2014112411.dat because modification times are identical"
       ]
      },
      {
       "output_type": "stream",
       "stream": "stdout",
       "text": [
        "\n",
        "Not copying HourlyData/Archive/2014/2014112412.dat to AirNow/2014112412.dat because modification times are identical"
       ]
      },
      {
       "output_type": "stream",
       "stream": "stdout",
       "text": [
        "\n",
        "Not copying HourlyData/Archive/2014/2014112413.dat to AirNow/2014112413.dat because modification times are identical"
       ]
      },
      {
       "output_type": "stream",
       "stream": "stdout",
       "text": [
        "\n",
        "Not copying HourlyData/Archive/2014/2014112414.dat to AirNow/2014112414.dat because modification times are identical"
       ]
      },
      {
       "output_type": "stream",
       "stream": "stdout",
       "text": [
        "\n",
        "Not copying HourlyData/Archive/2014/2014112415.dat to AirNow/2014112415.dat because modification times are identical"
       ]
      },
      {
       "output_type": "stream",
       "stream": "stdout",
       "text": [
        "\n",
        "Not copying HourlyData/Archive/2014/2014112416.dat to AirNow/2014112416.dat because modification times are identical"
       ]
      },
      {
       "output_type": "stream",
       "stream": "stdout",
       "text": [
        "\n",
        "Not copying HourlyData/Archive/2014/2014112417.dat to AirNow/2014112417.dat because modification times are identical"
       ]
      },
      {
       "output_type": "stream",
       "stream": "stdout",
       "text": [
        "\n",
        "Not copying HourlyData/Archive/2014/2014112418.dat to AirNow/2014112418.dat because modification times are identical"
       ]
      },
      {
       "output_type": "stream",
       "stream": "stdout",
       "text": [
        "\n",
        "Not copying HourlyData/Archive/2014/2014112419.dat to AirNow/2014112419.dat because modification times are identical"
       ]
      },
      {
       "output_type": "stream",
       "stream": "stdout",
       "text": [
        "\n",
        "Not copying HourlyData/Archive/2014/2014112420.dat to AirNow/2014112420.dat because modification times are identical"
       ]
      },
      {
       "output_type": "stream",
       "stream": "stdout",
       "text": [
        "\n",
        "Not copying HourlyData/Archive/2014/2014112421.dat to AirNow/2014112421.dat because modification times are identical"
       ]
      },
      {
       "output_type": "stream",
       "stream": "stdout",
       "text": [
        "\n",
        "Not copying HourlyData/Archive/2014/2014112422.dat to AirNow/2014112422.dat because modification times are identical"
       ]
      },
      {
       "output_type": "stream",
       "stream": "stdout",
       "text": [
        "\n",
        "Not copying HourlyData/Archive/2014/2014112423.dat to AirNow/2014112423.dat because modification times are identical"
       ]
      },
      {
       "output_type": "stream",
       "stream": "stdout",
       "text": [
        "\n",
        "Not copying HourlyData/Archive/2014/2014112500.dat to AirNow/2014112500.dat because modification times are identical"
       ]
      },
      {
       "output_type": "stream",
       "stream": "stdout",
       "text": [
        "\n",
        "Not copying HourlyData/Archive/2014/2014112501.dat to AirNow/2014112501.dat because modification times are identical"
       ]
      },
      {
       "output_type": "stream",
       "stream": "stdout",
       "text": [
        "\n",
        "Not copying HourlyData/Archive/2014/2014112502.dat to AirNow/2014112502.dat because modification times are identical"
       ]
      },
      {
       "output_type": "stream",
       "stream": "stdout",
       "text": [
        "\n",
        "Not copying HourlyData/Archive/2014/2014112503.dat to AirNow/2014112503.dat because modification times are identical"
       ]
      },
      {
       "output_type": "stream",
       "stream": "stdout",
       "text": [
        "\n",
        "Not copying HourlyData/Archive/2014/2014112504.dat to AirNow/2014112504.dat because modification times are identical"
       ]
      },
      {
       "output_type": "stream",
       "stream": "stdout",
       "text": [
        "\n",
        "Not copying HourlyData/Archive/2014/2014112505.dat to AirNow/2014112505.dat because modification times are identical"
       ]
      },
      {
       "output_type": "stream",
       "stream": "stdout",
       "text": [
        "\n",
        "Not copying HourlyData/Archive/2014/2014112506.dat to AirNow/2014112506.dat because modification times are identical"
       ]
      },
      {
       "output_type": "stream",
       "stream": "stdout",
       "text": [
        "\n",
        "Not copying HourlyData/Archive/2014/2014112507.dat to AirNow/2014112507.dat because modification times are identical"
       ]
      },
      {
       "output_type": "stream",
       "stream": "stdout",
       "text": [
        "\n",
        "Not copying HourlyData/Archive/2014/2014112508.dat to AirNow/2014112508.dat because modification times are identical"
       ]
      },
      {
       "output_type": "stream",
       "stream": "stdout",
       "text": [
        "\n",
        "Not copying HourlyData/Archive/2014/2014112509.dat to AirNow/2014112509.dat because modification times are identical"
       ]
      },
      {
       "output_type": "stream",
       "stream": "stdout",
       "text": [
        "\n",
        "Not copying HourlyData/Archive/2014/2014112510.dat to AirNow/2014112510.dat because modification times are identical"
       ]
      },
      {
       "output_type": "stream",
       "stream": "stdout",
       "text": [
        "\n",
        "Not copying HourlyData/Archive/2014/2014112511.dat to AirNow/2014112511.dat because modification times are identical"
       ]
      },
      {
       "output_type": "stream",
       "stream": "stdout",
       "text": [
        "\n",
        "Not copying HourlyData/Archive/2014/2014112512.dat to AirNow/2014112512.dat because modification times are identical"
       ]
      },
      {
       "output_type": "stream",
       "stream": "stdout",
       "text": [
        "\n",
        "Not copying HourlyData/Archive/2014/2014112513.dat to AirNow/2014112513.dat because modification times are identical"
       ]
      },
      {
       "output_type": "stream",
       "stream": "stdout",
       "text": [
        "\n",
        "Not copying HourlyData/Archive/2014/2014112514.dat to AirNow/2014112514.dat because modification times are identical"
       ]
      },
      {
       "output_type": "stream",
       "stream": "stdout",
       "text": [
        "\n",
        "Not copying HourlyData/Archive/2014/2014112515.dat to AirNow/2014112515.dat because modification times are identical"
       ]
      },
      {
       "output_type": "stream",
       "stream": "stdout",
       "text": [
        "\n",
        "Not copying HourlyData/Archive/2014/2014112516.dat to AirNow/2014112516.dat because modification times are identical"
       ]
      },
      {
       "output_type": "stream",
       "stream": "stdout",
       "text": [
        "\n",
        "Not copying HourlyData/Archive/2014/2014112517.dat to AirNow/2014112517.dat because modification times are identical"
       ]
      },
      {
       "output_type": "stream",
       "stream": "stdout",
       "text": [
        "\n",
        "Not copying HourlyData/Archive/2014/2014112518.dat to AirNow/2014112518.dat because modification times are identical"
       ]
      },
      {
       "output_type": "stream",
       "stream": "stdout",
       "text": [
        "\n",
        "Not copying HourlyData/Archive/2014/2014112519.dat to AirNow/2014112519.dat because modification times are identical"
       ]
      },
      {
       "output_type": "stream",
       "stream": "stdout",
       "text": [
        "\n",
        "Not copying HourlyData/Archive/2014/2014112520.dat to AirNow/2014112520.dat because modification times are identical"
       ]
      },
      {
       "output_type": "stream",
       "stream": "stdout",
       "text": [
        "\n",
        "Not copying HourlyData/Archive/2014/2014112521.dat to AirNow/2014112521.dat because modification times are identical"
       ]
      },
      {
       "output_type": "stream",
       "stream": "stdout",
       "text": [
        "\n",
        "Not copying HourlyData/Archive/2014/2014112522.dat to AirNow/2014112522.dat because modification times are identical"
       ]
      },
      {
       "output_type": "stream",
       "stream": "stdout",
       "text": [
        "\n",
        "Not copying HourlyData/Archive/2014/2014112523.dat to AirNow/2014112523.dat because modification times are identical"
       ]
      },
      {
       "output_type": "stream",
       "stream": "stdout",
       "text": [
        "\n",
        "Not copying HourlyData/Archive/2014/2014112600.dat to AirNow/2014112600.dat because modification times are identical"
       ]
      },
      {
       "output_type": "stream",
       "stream": "stdout",
       "text": [
        "\n",
        "Not copying HourlyData/Archive/2014/2014112601.dat to AirNow/2014112601.dat because modification times are identical"
       ]
      },
      {
       "output_type": "stream",
       "stream": "stdout",
       "text": [
        "\n",
        "Not copying HourlyData/Archive/2014/2014112602.dat to AirNow/2014112602.dat because modification times are identical"
       ]
      },
      {
       "output_type": "stream",
       "stream": "stdout",
       "text": [
        "\n",
        "Not copying HourlyData/Archive/2014/2014112603.dat to AirNow/2014112603.dat because modification times are identical"
       ]
      },
      {
       "output_type": "stream",
       "stream": "stdout",
       "text": [
        "\n",
        "Not copying HourlyData/Archive/2014/2014112604.dat to AirNow/2014112604.dat because modification times are identical"
       ]
      },
      {
       "output_type": "stream",
       "stream": "stdout",
       "text": [
        "\n",
        "Not copying HourlyData/Archive/2014/2014112605.dat to AirNow/2014112605.dat because modification times are identical"
       ]
      },
      {
       "output_type": "stream",
       "stream": "stdout",
       "text": [
        "\n",
        "Not copying HourlyData/Archive/2014/2014112606.dat to AirNow/2014112606.dat because modification times are identical"
       ]
      },
      {
       "output_type": "stream",
       "stream": "stdout",
       "text": [
        "\n",
        "Not copying HourlyData/Archive/2014/2014112607.dat to AirNow/2014112607.dat because modification times are identical"
       ]
      },
      {
       "output_type": "stream",
       "stream": "stdout",
       "text": [
        "\n",
        "Not copying HourlyData/Archive/2014/2014112608.dat to AirNow/2014112608.dat because modification times are identical"
       ]
      },
      {
       "output_type": "stream",
       "stream": "stdout",
       "text": [
        "\n",
        "Not copying HourlyData/Archive/2014/2014112609.dat to AirNow/2014112609.dat because modification times are identical"
       ]
      },
      {
       "output_type": "stream",
       "stream": "stdout",
       "text": [
        "\n",
        "Not copying HourlyData/Archive/2014/2014112610.dat to AirNow/2014112610.dat because modification times are identical"
       ]
      },
      {
       "output_type": "stream",
       "stream": "stdout",
       "text": [
        "\n",
        "Not copying HourlyData/Archive/2014/2014112611.dat to AirNow/2014112611.dat because modification times are identical"
       ]
      },
      {
       "output_type": "stream",
       "stream": "stdout",
       "text": [
        "\n",
        "Not copying HourlyData/Archive/2014/2014112612.dat to AirNow/2014112612.dat because modification times are identical"
       ]
      },
      {
       "output_type": "stream",
       "stream": "stdout",
       "text": [
        "\n",
        "Not copying HourlyData/Archive/2014/2014112613.dat to AirNow/2014112613.dat because modification times are identical"
       ]
      },
      {
       "output_type": "stream",
       "stream": "stdout",
       "text": [
        "\n",
        "Not copying HourlyData/Archive/2014/2014112614.dat to AirNow/2014112614.dat because modification times are identical"
       ]
      },
      {
       "output_type": "stream",
       "stream": "stdout",
       "text": [
        "\n",
        "Not copying HourlyData/Archive/2014/2014112615.dat to AirNow/2014112615.dat because modification times are identical"
       ]
      },
      {
       "output_type": "stream",
       "stream": "stdout",
       "text": [
        "\n",
        "Not copying HourlyData/Archive/2014/2014112616.dat to AirNow/2014112616.dat because modification times are identical"
       ]
      },
      {
       "output_type": "stream",
       "stream": "stdout",
       "text": [
        "\n",
        "Not copying HourlyData/Archive/2014/2014112617.dat to AirNow/2014112617.dat because modification times are identical"
       ]
      },
      {
       "output_type": "stream",
       "stream": "stdout",
       "text": [
        "\n",
        "Not copying HourlyData/Archive/2014/2014112618.dat to AirNow/2014112618.dat because modification times are identical"
       ]
      },
      {
       "output_type": "stream",
       "stream": "stdout",
       "text": [
        "\n",
        "Not copying HourlyData/Archive/2014/2014112619.dat to AirNow/2014112619.dat because modification times are identical"
       ]
      },
      {
       "output_type": "stream",
       "stream": "stdout",
       "text": [
        "\n",
        "Not copying HourlyData/Archive/2014/2014112620.dat to AirNow/2014112620.dat because modification times are identical"
       ]
      },
      {
       "output_type": "stream",
       "stream": "stdout",
       "text": [
        "\n",
        "Not copying HourlyData/Archive/2014/2014112621.dat to AirNow/2014112621.dat because modification times are identical"
       ]
      },
      {
       "output_type": "stream",
       "stream": "stdout",
       "text": [
        "\n",
        "Not copying HourlyData/Archive/2014/2014112622.dat to AirNow/2014112622.dat because modification times are identical"
       ]
      },
      {
       "output_type": "stream",
       "stream": "stdout",
       "text": [
        "\n",
        "Not copying HourlyData/Archive/2014/2014112623.dat to AirNow/2014112623.dat because modification times are identical"
       ]
      },
      {
       "output_type": "stream",
       "stream": "stdout",
       "text": [
        "\n",
        "Not copying HourlyData/Archive/2014/2014112700.dat to AirNow/2014112700.dat because modification times are identical"
       ]
      },
      {
       "output_type": "stream",
       "stream": "stdout",
       "text": [
        "\n",
        "Not copying HourlyData/Archive/2014/2014112701.dat to AirNow/2014112701.dat because modification times are identical"
       ]
      },
      {
       "output_type": "stream",
       "stream": "stdout",
       "text": [
        "\n",
        "Not copying HourlyData/Archive/2014/2014112702.dat to AirNow/2014112702.dat because modification times are identical"
       ]
      },
      {
       "output_type": "stream",
       "stream": "stdout",
       "text": [
        "\n",
        "Not copying HourlyData/Archive/2014/2014112703.dat to AirNow/2014112703.dat because modification times are identical"
       ]
      },
      {
       "output_type": "stream",
       "stream": "stdout",
       "text": [
        "\n",
        "Not copying HourlyData/Archive/2014/2014112704.dat to AirNow/2014112704.dat because modification times are identical"
       ]
      },
      {
       "output_type": "stream",
       "stream": "stdout",
       "text": [
        "\n",
        "Not copying HourlyData/Archive/2014/2014112705.dat to AirNow/2014112705.dat because modification times are identical"
       ]
      },
      {
       "output_type": "stream",
       "stream": "stdout",
       "text": [
        "\n",
        "Not copying HourlyData/Archive/2014/2014112706.dat to AirNow/2014112706.dat because modification times are identical"
       ]
      },
      {
       "output_type": "stream",
       "stream": "stdout",
       "text": [
        "\n",
        "Not copying HourlyData/Archive/2014/2014112707.dat to AirNow/2014112707.dat because modification times are identical"
       ]
      },
      {
       "output_type": "stream",
       "stream": "stdout",
       "text": [
        "\n",
        "Not copying HourlyData/Archive/2014/2014112708.dat to AirNow/2014112708.dat because modification times are identical"
       ]
      },
      {
       "output_type": "stream",
       "stream": "stdout",
       "text": [
        "\n",
        "Not copying HourlyData/Archive/2014/2014112709.dat to AirNow/2014112709.dat because modification times are identical"
       ]
      },
      {
       "output_type": "stream",
       "stream": "stdout",
       "text": [
        "\n",
        "Not copying HourlyData/Archive/2014/2014112710.dat to AirNow/2014112710.dat because modification times are identical"
       ]
      },
      {
       "output_type": "stream",
       "stream": "stdout",
       "text": [
        "\n",
        "Not copying HourlyData/Archive/2014/2014112711.dat to AirNow/2014112711.dat because modification times are identical"
       ]
      },
      {
       "output_type": "stream",
       "stream": "stdout",
       "text": [
        "\n",
        "Not copying HourlyData/Archive/2014/2014112712.dat to AirNow/2014112712.dat because modification times are identical"
       ]
      },
      {
       "output_type": "stream",
       "stream": "stdout",
       "text": [
        "\n",
        "Not copying HourlyData/Archive/2014/2014112713.dat to AirNow/2014112713.dat because modification times are identical"
       ]
      },
      {
       "output_type": "stream",
       "stream": "stdout",
       "text": [
        "\n",
        "Not copying HourlyData/Archive/2014/2014112714.dat to AirNow/2014112714.dat because modification times are identical"
       ]
      },
      {
       "output_type": "stream",
       "stream": "stdout",
       "text": [
        "\n",
        "Not copying HourlyData/Archive/2014/2014112715.dat to AirNow/2014112715.dat because modification times are identical"
       ]
      },
      {
       "output_type": "stream",
       "stream": "stdout",
       "text": [
        "\n",
        "Not copying HourlyData/Archive/2014/2014112716.dat to AirNow/2014112716.dat because modification times are identical"
       ]
      },
      {
       "output_type": "stream",
       "stream": "stdout",
       "text": [
        "\n",
        "Not copying HourlyData/Archive/2014/2014112717.dat to AirNow/2014112717.dat because modification times are identical"
       ]
      },
      {
       "output_type": "stream",
       "stream": "stdout",
       "text": [
        "\n",
        "Not copying HourlyData/Archive/2014/2014112718.dat to AirNow/2014112718.dat because modification times are identical"
       ]
      },
      {
       "output_type": "stream",
       "stream": "stdout",
       "text": [
        "\n",
        "Not copying HourlyData/Archive/2014/2014112719.dat to AirNow/2014112719.dat because modification times are identical"
       ]
      },
      {
       "output_type": "stream",
       "stream": "stdout",
       "text": [
        "\n",
        "Not copying HourlyData/Archive/2014/2014112720.dat to AirNow/2014112720.dat because modification times are identical"
       ]
      },
      {
       "output_type": "stream",
       "stream": "stdout",
       "text": [
        "\n",
        "Not copying HourlyData/Archive/2014/2014112721.dat to AirNow/2014112721.dat because modification times are identical"
       ]
      },
      {
       "output_type": "stream",
       "stream": "stdout",
       "text": [
        "\n",
        "Not copying HourlyData/Archive/2014/2014112722.dat to AirNow/2014112722.dat because modification times are identical"
       ]
      },
      {
       "output_type": "stream",
       "stream": "stdout",
       "text": [
        "\n",
        "Not copying HourlyData/Archive/2014/2014112723.dat to AirNow/2014112723.dat because modification times are identical"
       ]
      },
      {
       "output_type": "stream",
       "stream": "stdout",
       "text": [
        "\n",
        "Not copying HourlyData/Archive/2014/2014112800.dat to AirNow/2014112800.dat because modification times are identical"
       ]
      },
      {
       "output_type": "stream",
       "stream": "stdout",
       "text": [
        "\n",
        "Not copying HourlyData/Archive/2014/2014112801.dat to AirNow/2014112801.dat because modification times are identical"
       ]
      },
      {
       "output_type": "stream",
       "stream": "stdout",
       "text": [
        "\n",
        "Not copying HourlyData/Archive/2014/2014112802.dat to AirNow/2014112802.dat because modification times are identical"
       ]
      },
      {
       "output_type": "stream",
       "stream": "stdout",
       "text": [
        "\n",
        "Not copying HourlyData/Archive/2014/2014112803.dat to AirNow/2014112803.dat because modification times are identical"
       ]
      },
      {
       "output_type": "stream",
       "stream": "stdout",
       "text": [
        "\n",
        "Not copying HourlyData/Archive/2014/2014112804.dat to AirNow/2014112804.dat because modification times are identical"
       ]
      },
      {
       "output_type": "stream",
       "stream": "stdout",
       "text": [
        "\n",
        "Not copying HourlyData/Archive/2014/2014112805.dat to AirNow/2014112805.dat because modification times are identical"
       ]
      }
     ]
    },
    {
     "cell_type": "code",
     "collapsed": false,
     "input": [],
     "language": "python",
     "metadata": {},
     "outputs": []
    }
   ],
   "metadata": {}
  }
 ]
}