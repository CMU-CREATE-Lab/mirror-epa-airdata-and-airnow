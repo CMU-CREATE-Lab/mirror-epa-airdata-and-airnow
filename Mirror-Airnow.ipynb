{
 "cells": [
  {
   "cell_type": "markdown",
   "metadata": {
    "collapsed": false
   },
   "source": [
    "Mirror AirNow data\n",
    "==================\n",
    "\n",
    "Downloads Airnow's hourly data files, saving them in `./AirNow`.\n",
    "\n",
    "Reports to stat.createlab.org as `Airnow Hourly Data - Download`.\n",
    "\n",
    "Docs for the daily data files are here: https://docs.airnowapi.org/docs/HourlyDataFactSheet.pdf"
   ]
  },
  {
   "cell_type": "code",
   "execution_count": 0,
   "metadata": {
    "collapsed": false
   },
   "outputs": [
   ],
   "source": [
    "import datetime, dateutil, email, ftplib, glob, json, os, re, time, requests, socket, subprocess, sys, traceback\n",
    "from dateutil import rrule, tz, parser"
   ]
  },
  {
   "cell_type": "code",
   "execution_count": 0,
   "metadata": {
    "collapsed": false
   },
   "outputs": [
   ],
   "source": [
    "# Boilerplate to load utils.ipynb\n",
    "# See https://github.com/CMU-CREATE-Lab/python-utils/blob/master/utils.ipynb\n",
    "\n",
    "\n",
    "def exec_ipynb(filename_or_url):\n",
    "    nb = (requests.get(filename_or_url).json() if re.match(r'https?:', filename_or_url) else json.load(open(filename_or_url)))\n",
    "    if(nb['nbformat'] >= 4):\n",
    "        src = [''.join(cell['source']) for cell in nb['cells'] if cell['cell_type'] == 'code']\n",
    "    else:\n",
    "        src = [''.join(cell['input']) for cell in nb['worksheets'][0]['cells'] if cell['cell_type'] == 'code']\n",
    "\n",
    "    tmpname = '/tmp/%s-%s-%d.py' % (os.path.basename(filename_or_url),\n",
    "                                    datetime.datetime.now().strftime('%Y%m%d%H%M%S%f'),\n",
    "                                    os.getpid())\n",
    "    src = '\\n\\n\\n'.join(src)\n",
    "    open(tmpname, 'w').write(src)\n",
    "    code = compile(src, tmpname, 'exec')\n",
    "    exec(code, globals())\n",
    "\n",
    "\n",
    "exec_ipynb('./python-utils/utils.ipynb')\n",
    "exec_ipynb('./airnow-common.ipynb')"
   ]
  },
  {
   "cell_type": "code",
   "execution_count": 0,
   "metadata": {
    "collapsed": false
   },
   "outputs": [
   ],
   "source": [
    "STAT_SERVICE_NAME = 'Airnow Hourly Data - Download'\n",
    "STAT_HOSTNAME = 'hal21'\n",
    "STAT_SHORTNAME = 'airnow-hourly-data-download'\n",
    "\n",
    "Stat.set_service(STAT_SERVICE_NAME)"
   ]
  },
  {
   "cell_type": "code",
   "execution_count": 0,
   "metadata": {
    "collapsed": false
   },
   "outputs": [
   ],
   "source": [
    "def mirror_timestamp(timestamp):\n",
    "    filename = timestamp.strftime('%Y%m%d%H.dat')\n",
    "    src = AirnowCommon.directory_from_date(timestamp) + '/HourlyData_' + filename\n",
    "    dest = 'AirNow/' + filename\n",
    "    (is_new, message, status_code) = AirnowCommon.mirror_airnow_file(src, dest)\n",
    "\n",
    "    if is_new:\n",
    "        Stat.info(message, host=STAT_HOSTNAME, shortname=STAT_SHORTNAME)\n",
    "    else:\n",
    "        if status_code == 304:\n",
    "            print(message) # simply do a print here to reduce noise sent to stat.createlab.org\n",
    "            # Stat.info(message, host=STAT_HOSTNAME, shortname=STAT_SHORTNAME)\n",
    "        elif status_code < 400:\n",
    "            Stat.info(message, host=STAT_HOSTNAME, shortname=STAT_SHORTNAME)\n",
    "        else:\n",
    "            Stat.warning(message, host=STAT_HOSTNAME, shortname=STAT_SHORTNAME)\n",
    "\n",
    "\n",
    "#mirror_timestamp(dateutil.parser.parse('2016-12-31 00:00'))"
   ]
  },
  {
   "cell_type": "code",
   "execution_count": 0,
   "metadata": {
    "collapsed": false
   },
   "outputs": [
   ],
   "source": [
    "def compute_first_date_to_check():\n",
    "    files = glob.glob('AirNow/[0-9]*.dat')\n",
    "    if len(files) == 0:\n",
    "        return datetime.datetime(2013, 8, 1)\n",
    "    last_file = sorted(files)[-1]\n",
    "    last_date = datetime.datetime.strptime(last_file, \"AirNow/%Y%m%d%H.dat\")\n",
    "    Stat.debug('Most recently mirrored data file is %s (%s)' % (last_file, last_date), host=STAT_HOSTNAME, shortname=STAT_SHORTNAME)\n",
    "    first_date_to_check = last_date - datetime.timedelta(days = 30)\n",
    "    Stat.debug('Checking for updates starting with date %s' % (first_date_to_check), host=STAT_HOSTNAME, shortname=STAT_SHORTNAME)\n",
    "    return first_date_to_check\n",
    "\n",
    "#compute_first_date_to_check()"
   ]
  },
  {
   "cell_type": "code",
   "execution_count": 0,
   "metadata": {
    "collapsed": false,
    "scrolled": true
   },
   "outputs": [
   ],
   "source": [
    "def mirror():\n",
    "    start = compute_first_date_to_check()\n",
    "    now = datetime.datetime.utcnow()\n",
    "\n",
    "    timestamps_to_mirror = list(rrule.rrule(rrule.HOURLY, dtstart=start, until=now))\n",
    "    Stat.info('Mirroring %d data files, starting with %s... (up-to-date files will not be logged here)' % (len(timestamps_to_mirror), start), host=STAT_HOSTNAME, shortname=STAT_SHORTNAME)\n",
    "\n",
    "    for timestamp in timestamps_to_mirror:\n",
    "        mirror_timestamp(timestamp)\n",
    "\n",
    "try:\n",
    "    starting_timestamp = datetime.datetime.now().timestamp()\n",
    "    mirror()\n",
    "    elapsed_seconds = datetime.datetime.now().timestamp() - starting_timestamp\n",
    "    Stat.up('Mirror completed successfully (elapsed time: %d seconds)' % (elapsed_seconds), host=STAT_HOSTNAME, shortname=STAT_SHORTNAME)\n",
    "except Exception as e:\n",
    "    Stat.down('Exception recorded %s' % e, host=STAT_HOSTNAME, shortname=STAT_SHORTNAME)"
   ]
  }
 ],
 "metadata": {
  "kernelspec": {
   "display_name": "Python 3",
   "language": "python",
   "name": "python3"
  },
  "language_info": {
   "codemirror_mode": {
    "name": "ipython",
    "version": 3
   },
   "file_extension": ".py",
   "mimetype": "text/x-python",
   "name": "python",
   "nbconvert_exporter": "python",
   "pygments_lexer": "ipython3",
   "version": "3.6.9"
  }
 },
 "nbformat": 4,
 "nbformat_minor": 4
}