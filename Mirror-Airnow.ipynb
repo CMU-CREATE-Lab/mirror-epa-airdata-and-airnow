{
 "cells": [
  {
   "cell_type": "markdown",
   "metadata": {
    "collapsed": false
   },
   "source": [
    "Mirror AirNow data\n",
    "==================\n",
    "\n",
    "Downloads Airnow's hourly data files, saving them in `./AirNow`.\n",
    "\n",
    "Reports to stat.createlab.org as `MirrorAirnow`.\n",
    "\n",
    "Docs for the daily data files are here: https://docs.airnowapi.org/docs/HourlyDataFactSheet.pdf"
   ]
  },
  {
   "cell_type": "code",
   "execution_count": 0,
   "metadata": {
    "collapsed": false
   },
   "outputs": [
   ],
   "source": [
    "import datetime, dateutil, email, ftplib, glob, json, os, re, time, requests, socket, subprocess, sys, traceback\n",
    "from dateutil import rrule, tz, parser"
   ]
  },
  {
   "cell_type": "code",
   "execution_count": 0,
   "metadata": {
    "collapsed": false
   },
   "outputs": [
   ],
   "source": [
    "# Boilerplate to load utils.ipynb\n",
    "# See https://github.com/CMU-CREATE-Lab/python-utils/blob/master/utils.ipynb\n",
    "\n",
    "\n",
    "def exec_ipynb(filename_or_url):\n",
    "    nb = (requests.get(filename_or_url).json() if re.match(r'https?:', filename_or_url) else json.load(open(filename_or_url)))\n",
    "    if(nb['nbformat'] >= 4):\n",
    "        src = [''.join(cell['source']) for cell in nb['cells'] if cell['cell_type'] == 'code']\n",
    "    else:\n",
    "        src = [''.join(cell['input']) for cell in nb['worksheets'][0]['cells'] if cell['cell_type'] == 'code']\n",
    "\n",
    "    tmpname = '/tmp/%s-%s-%d.py' % (os.path.basename(filename_or_url),\n",
    "                                    datetime.datetime.now().strftime('%Y%m%d%H%M%S%f'),\n",
    "                                    os.getpid())\n",
    "    src = '\\n\\n\\n'.join(src)\n",
    "    open(tmpname, 'w').write(src)\n",
    "    code = compile(src, tmpname, 'exec')\n",
    "    exec(code, globals())\n",
    "\n",
    "\n",
    "exec_ipynb('python-utils/utils.ipynb')\n"
   ]
  },
  {
   "cell_type": "code",
   "execution_count": 0,
   "metadata": {
    "collapsed": false
   },
   "outputs": [
   ],
   "source": [
    "STAT_SERVICE_NAME = 'MirrorAirnow'\n",
    "STAT_AIRNOW_HOSTNAME = 'airnow'\n",
    "STAT_AIRNOW_SHORTNAME = 'airnow-hourly-data'\n",
    "\n",
    "Stat.set_service(STAT_SERVICE_NAME)"
   ]
  },
  {
   "cell_type": "code",
   "execution_count": 0,
   "metadata": {
    "collapsed": false
   },
   "outputs": [
   ],
   "source": [
    "def datetime2epoch(dt):\n",
    "    return (dt - datetime.datetime(1970, 1, 1, tzinfo=tz.tzutc())).total_seconds()\n",
    "\n",
    "def directory_from_date(dt):\n",
    "    return dt.strftime('%Y/%Y%m%d')\n",
    "\n",
    "# Returns true if the file was actually mirrored (i.e. both newer than the current version, and successfully downloaded), returns false otherwise.\n",
    "def mirror_file_using_modtime(src_url, dest):\n",
    "    headers = {}\n",
    "    # If destination already exists, mirror only if newer\n",
    "    try:\n",
    "        filestat = os.stat(dest)\n",
    "        date = time.strftime('%a, %d %b %Y %H:%M:%S GMT', time.gmtime(filestat.st_mtime))\n",
    "        headers['If-Modified-Since'] = date\n",
    "    except:\n",
    "        pass\n",
    "\n",
    "    response = requests.get(src_url, headers=headers)\n",
    "    if response.status_code == 200:\n",
    "        data = response.content\n",
    "\n",
    "        server_modtime = dateutil.parser.parse(response.headers['Last-Modified'])\n",
    "        server_modtime_epoch = datetime2epoch(server_modtime)\n",
    "        tmp = dest + '.tmp' + str(os.getpid())\n",
    "        os.makedirs(os.path.dirname(tmp), exist_ok=True)\n",
    "        open(tmp, 'wb').write(data)\n",
    "        os.rename(tmp, dest)\n",
    "        os.utime(dest, (server_modtime_epoch, server_modtime_epoch))\n",
    "        print('Wrote %d bytes to %s' % (len(data), dest))\n",
    "        Stat.info('Successfully mirrored %s to %s (%d bytes)' % (src_url, dest, len(data)), host=STAT_AIRNOW_HOSTNAME, shortname=STAT_AIRNOW_SHORTNAME)\n",
    "        return True\n",
    "    elif response.status_code == 304:\n",
    "        print('Local mirror of %s is up to date.  Skipping.' % (src_url))\n",
    "        #Stat.info('Local mirror of %s is up to date.  Skipping.' % (src_url), host=STAT_AIRNOW_HOSTNAME, shortname=STAT_AIRNOW_SHORTNAME)\n",
    "    elif response.status_code == 404:\n",
    "        Stat.warning('File %s not found (HTTP %d). Skipping.' % (src_url, response.status_code), host=STAT_AIRNOW_HOSTNAME, shortname=STAT_AIRNOW_SHORTNAME)\n",
    "    else:\n",
    "        Stat.warning('Received status code %d while fetching %s.  Skipping.' % (response.status_code, src_url), host=STAT_AIRNOW_HOSTNAME, shortname=STAT_AIRNOW_SHORTNAME)\n",
    "    return False\n",
    "\n",
    "\n",
    "# Returns True if the file was actually mirrored (i.e. both newer than the current version, and successfully downloaded), returns False otherwise.\n",
    "def mirror_airnow_file(src, dest):\n",
    "    return mirror_file_using_modtime('https://files.airnowtech.org/airnow/' + src, dest)\n",
    "\n",
    "#mirror_airnow_file('2016/20161231/monitoring_site_locations.dat', 'AirNowTest/monitoring_site_locations.dat')"
   ]
  },
  {
   "cell_type": "code",
   "execution_count": 0,
   "metadata": {
    "collapsed": false
   },
   "outputs": [
   ],
   "source": [
    "def mirror_timestamp(timestamp):\n",
    "    filename = timestamp.strftime('%Y%m%d%H.dat')\n",
    "    src = directory_from_date(timestamp) + '/HourlyData_' + filename\n",
    "    dest = 'AirNow/' + filename\n",
    "    mirror_airnow_file(src, dest)\n",
    "\n",
    "#mirror_timestamp(dateutil.parser.parse('2016-12-31 00:00'))"
   ]
  },
  {
   "cell_type": "code",
   "execution_count": 0,
   "metadata": {
    "collapsed": false
   },
   "outputs": [
   ],
   "source": [
    "def compute_first_date_to_check():\n",
    "    files = glob.glob('AirNow/[0-9]*.dat')\n",
    "    if len(files) == 0:\n",
    "        return datetime.datetime(2013, 8, 1)\n",
    "    last_file = sorted(files)[-1]\n",
    "    last_date = datetime.datetime.strptime(last_file, \"AirNow/%Y%m%d%H.dat\")\n",
    "    Stat.debug('Most recently mirrored data file is %s (%s)' % (last_file, last_date), host=STAT_AIRNOW_HOSTNAME, shortname=STAT_AIRNOW_SHORTNAME)\n",
    "    first_date_to_check = last_date - datetime.timedelta(days = 30)\n",
    "    Stat.debug('Checking for updates starting with date %s' % (first_date_to_check), host=STAT_AIRNOW_HOSTNAME, shortname=STAT_AIRNOW_SHORTNAME)\n",
    "    return first_date_to_check"
   ]
  },
  {
   "cell_type": "code",
   "execution_count": 0,
   "metadata": {
    "collapsed": false,
    "scrolled": true
   },
   "outputs": [
   ],
   "source": [
    "def mirror():\n",
    "    start = compute_first_date_to_check()\n",
    "    now = datetime.datetime.utcnow()\n",
    "\n",
    "    mirror_airnow_file(directory_from_date(now) + '/monitoring_site_locations.dat', 'AirNow/monitoring_site_locations.dat')\n",
    "\n",
    "    timestamps_to_mirror = list(rrule.rrule(rrule.HOURLY, dtstart=start, until=now))\n",
    "    Stat.info('Mirroring %d data files, starting with %s... (up-to-date files will not be logged here)' % (len(timestamps_to_mirror), start), host=STAT_AIRNOW_HOSTNAME, shortname=STAT_AIRNOW_SHORTNAME)\n",
    "\n",
    "    for timestamp in timestamps_to_mirror:\n",
    "        mirror_timestamp(timestamp)\n",
    "\n",
    "try:\n",
    "    mirror()\n",
    "    Stat.up('Mirror completed successfully', host=STAT_AIRNOW_HOSTNAME, shortname=STAT_AIRNOW_SHORTNAME)\n",
    "except Exception as e:\n",
    "    Stat.down('Exception recorded %s' % e, host=STAT_AIRNOW_HOSTNAME, shortname=STAT_AIRNOW_SHORTNAME)"
   ]
  }
 ],
 "metadata": {
  "kernelspec": {
   "display_name": "Python 3 (Ubuntu Linux)",
   "language": "python",
   "name": "python3"
  },
  "language_info": {
   "codemirror_mode": {
    "name": "ipython",
    "version": 3
   },
   "file_extension": ".py",
   "mimetype": "text/x-python",
   "name": "python",
   "nbconvert_exporter": "python",
   "pygments_lexer": "ipython3",
   "version": "3.6.9"
  }
 },
 "nbformat": 4,
 "nbformat_minor": 0
}