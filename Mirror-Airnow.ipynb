{
 "metadata": {
  "name": "",
  "signature": "sha256:b5995cf0ceb6007fdccd8ec513024cb6e0a334c3e611ce35454371cdda7c82ae"
 },
 "nbformat": 3,
 "nbformat_minor": 0,
 "worksheets": [
  {
   "cells": [
    {
     "cell_type": "markdown",
     "metadata": {},
     "source": [
      "Mirroring AirNow data\n",
      "=====================\n",
      "\n"
     ]
    },
    {
     "cell_type": "code",
     "collapsed": false,
     "input": [
      "import datetime, ftplib, glob, json, os, re, time, socket\n",
      "from dateutil import rrule, tz"
     ],
     "language": "python",
     "metadata": {},
     "outputs": [],
     "prompt_number": 2
    },
    {
     "cell_type": "code",
     "collapsed": false,
     "input": [
      "auth_file = os.path.expanduser('~/.config/airnow-mirror/auth.json')"
     ],
     "language": "python",
     "metadata": {},
     "outputs": [],
     "prompt_number": 3
    },
    {
     "cell_type": "code",
     "collapsed": false,
     "input": [
      "# Write username and password to auth_file\n",
      "# Fill in your username and password below to set the file up.  Ask Randy for login\n",
      "username = ''\n",
      "password = ''\n",
      "\n",
      "if username and password:\n",
      "    try:\n",
      "        os.makedirs(os.path.dirname(auth_file))\n",
      "    except:\n",
      "        pass\n",
      "    json.dump({'username':username, 'password':password}, open(auth_file, 'w'))\n",
      "    print 'Wrote username and password to %s' % auth_file"
     ],
     "language": "python",
     "metadata": {},
     "outputs": [],
     "prompt_number": 5
    },
    {
     "cell_type": "code",
     "collapsed": false,
     "input": [
      "def ftp_reconnect():\n",
      "    global ftp_connection\n",
      "    while True:\n",
      "        try:\n",
      "            ftp_connection.close()\n",
      "        except:\n",
      "            pass\n",
      "        try:\n",
      "            ftp_connection = ftplib.FTP(host, auth['username'], auth['password'], timeout=180)\n",
      "            break\n",
      "        except ftplib.error_temp:\n",
      "            print 'Temporary error connecting, retrying'\n",
      "            time.sleep(30)\n",
      "    print 'Connected to %s' % host\n",
      "\n",
      "def ftp_modtime(path):\n",
      "    global ftp_connection\n",
      "    while True:\n",
      "        try:\n",
      "            modtime = ftp_connection.sendcmd('MDTM %s' % path)\n",
      "        except ftplib.error_perm:\n",
      "            return None\n",
      "        except (socket.timeout, socket.error):\n",
      "            continue\n",
      "        return datetime.datetime.strptime(modtime[4:16], \"%Y%m%d%H%M%S\").replace(tzinfo=tz.tzutc())\n",
      "\n",
      "def ftp_get(path):\n",
      "    global ftp_connection\n",
      "    # Just in case we hit a race and the file is being updated as we fetch, keep\n",
      "    # looping until modtime is the same before and after we fetch.\n",
      "    # Also loop if we hit a timeout\n",
      "    while True:\n",
      "        try:\n",
      "            modtime = ftp_modtime(path)\n",
      "            blocks = []\n",
      "            def append_contents(block):\n",
      "                blocks.append(block)\n",
      "            ftp_connection.retrbinary('RETR %s' % path, append_contents)\n",
      "            modtime_after = ftp_modtime(path)\n",
      "            if modtime == modtime_after:\n",
      "                contents = ''.join(blocks)\n",
      "                print 'Retrieved %d bytes from %s, modtime %s' % (len(contents), path, modtime)\n",
      "                sys.stdout.flush()\n",
      "                return (modtime, contents)\n",
      "        except (socket.timeout, socket.error):\n",
      "            print 'Timed out;  reconnecting'\n",
      "            sys.stdout.flush()\n",
      "            ftp_reconnect()"
     ],
     "language": "python",
     "metadata": {},
     "outputs": [],
     "prompt_number": 6
    },
    {
     "cell_type": "code",
     "collapsed": false,
     "input": [
      "def datetime2epoch(dt):\n",
      "    return (dt - datetime.datetime(1970, 1, 1, tzinfo=tz.tzutc())).total_seconds()\n",
      "\n",
      "def mirror_ftp(src, dest):\n",
      "    dest_timestamp = False\n",
      "\n",
      "    try:\n",
      "        if os.path.getmtime(dest) == datetime2epoch(ftp_modtime(src)):\n",
      "            print '%s already exists and has same modification time' % dest\n",
      "            return\n",
      "    except:\n",
      "        pass\n",
      "\n",
      "    try:\n",
      "        os.makedirs(os.path.dirname(dest))\n",
      "    except:\n",
      "        pass\n",
      "    (modtime, contents) = ftp_get(src)\n",
      "    modtime_epoch = datetime2epoch(modtime)\n",
      "    open(dest + '.tmp', 'w').write(contents)\n",
      "    os.utime(dest + '.tmp', (modtime_epoch, modtime_epoch))\n",
      "    os.rename(dest + '.tmp', dest)\n",
      "    print 'Mirrored %s to %s (%d bytes, modtime %s)' % (src, dest, len(contents), modtime)\n",
      "\n",
      "def mirror_timestamp(timestamp):\n",
      "    filename = timestamp.strftime('%Y%m%d%H.dat')\n",
      "    src = None\n",
      "    for subdir in ['', 'Archive/%04d/' % (timestamp.year + 1), 'Archive/%04d/' % timestamp.year]:\n",
      "        test_src = 'HourlyData/' + subdir + filename\n",
      "        modtime = ftp_modtime(test_src)\n",
      "        if modtime:\n",
      "            src = test_src\n",
      "            break\n",
      "\n",
      "    if not src:\n",
      "        print 'Could not find %s' % filename\n",
      "        sys.stdout.flush()\n",
      "        return\n",
      "\n",
      "    dest = 'AirNow/%s' % filename\n",
      "    modtime_epoch = datetime2epoch(modtime)\n",
      "\n",
      "    try:\n",
      "        stat = os.stat(dest)\n",
      "        if stat.st_mtime != modtime_epoch:\n",
      "            mirror = True\n",
      "            reason = 'modification times do not match'\n",
      "        else:\n",
      "            mirror = False\n",
      "            reason = 'modification times are identical'\n",
      "    except:\n",
      "        mirror = True\n",
      "        reason = 'destination does not exist'\n",
      "\n",
      "    if mirror:\n",
      "        try:\n",
      "            os.makedirs(os.path.dirname(dest))\n",
      "        except:\n",
      "            pass\n",
      "        (modtime, contents) = ftp_get(src)\n",
      "        open(dest + '.tmp', 'w').write(contents)\n",
      "        os.rename(dest + '.tmp', dest)\n",
      "        os.utime(dest, (modtime_epoch, modtime_epoch))\n",
      "        print 'Copied %s (%d bytes, modtime %s) to %s because %s' % (src, len(contents), modtime, dest, reason)\n",
      "        sys.stdout.flush()\n",
      "    else:\n",
      "        print 'Not copying %s to %s because %s' % (src, dest, reason)\n",
      "        sys.stdout.flush()"
     ],
     "language": "python",
     "metadata": {},
     "outputs": [],
     "prompt_number": 7
    },
    {
     "cell_type": "code",
     "collapsed": false,
     "input": [
      "def compute_first_date_to_check():\n",
      "    files = glob.glob('AirNow/[0-9]*.dat')\n",
      "    if len(files) == 0:\n",
      "        return datetime.datetime(2013, 8, 1)\n",
      "    last_file = sorted(files)[-1]\n",
      "    last_date = datetime.datetime.strptime(last_file, \"AirNow/%Y%m%d%H.dat\")\n",
      "    print 'Last mirrored file is %s, date %s' % (last_file, last_date)\n",
      "    sys.stdout.flush()\n",
      "    first_date_to_check = last_date - datetime.timedelta(days = 30)\n",
      "    print 'Check for updates starting at date %s' % first_date_to_check\n",
      "    sys.stdout.flush()\n",
      "    return first_date_to_check"
     ],
     "language": "python",
     "metadata": {},
     "outputs": [],
     "prompt_number": 16
    },
    {
     "cell_type": "code",
     "collapsed": false,
     "input": [
      "def mirror():\n",
      "    global auth, host\n",
      "    auth = json.load(open(auth_file, 'r'))\n",
      "    host = 'ftp.airnowapi.org'\n",
      "    ftp_reconnect()\n",
      "    mirror_ftp('Locations/monitoring_site_locations.dat', 'AirNow/monitoring_site_locations.dat')\n",
      "\n",
      "    start = compute_first_date_to_check()\n",
      "    end = datetime.datetime.utcnow()\n",
      "\n",
      "    timestamps_to_mirror = list(rrule.rrule(rrule.HOURLY, dtstart=start, until=end))\n",
      "    print 'Mirroring %s timestamps, starting %s' % (len(timestamps_to_mirror), start)\n",
      "\n",
      "    for timestamp in timestamps_to_mirror:\n",
      "        mirror_timestamp(timestamp)\n",
      "        \n",
      "mirror()"
     ],
     "language": "python",
     "metadata": {},
     "outputs": [
      {
       "output_type": "stream",
       "stream": "stdout",
       "text": [
        "Connected to ftp.airnowapi.org\n",
        "AirNow/monitoring_site_locations.dat already exists and has same modification time"
       ]
      },
      {
       "output_type": "stream",
       "stream": "stdout",
       "text": [
        "\n",
        "Last mirrored file is AirNow/2013080619.dat, date 2013-08-06 19:00:00\n",
        "Check for updates starting at date 2013-07-07 19:00:00\n",
        "Mirroring 12666 timestamps, starting 2013-07-07 19:00:00"
       ]
      },
      {
       "output_type": "stream",
       "stream": "stdout",
       "text": [
        "\n",
        "Could not find 2013070719.dat"
       ]
      },
      {
       "output_type": "stream",
       "stream": "stdout",
       "text": [
        "\n",
        "Could not find 2013070720.dat"
       ]
      },
      {
       "output_type": "stream",
       "stream": "stdout",
       "text": [
        "\n",
        "Could not find 2013070721.dat"
       ]
      },
      {
       "output_type": "stream",
       "stream": "stdout",
       "text": [
        "\n",
        "Could not find 2013070722.dat"
       ]
      },
      {
       "output_type": "stream",
       "stream": "stdout",
       "text": [
        "\n",
        "Could not find 2013070723.dat"
       ]
      },
      {
       "output_type": "stream",
       "stream": "stdout",
       "text": [
        "\n",
        "Could not find 2013070800.dat"
       ]
      },
      {
       "output_type": "stream",
       "stream": "stdout",
       "text": [
        "\n",
        "Could not find 2013070801.dat"
       ]
      },
      {
       "output_type": "stream",
       "stream": "stdout",
       "text": [
        "\n",
        "Could not find 2013070802.dat"
       ]
      },
      {
       "output_type": "stream",
       "stream": "stdout",
       "text": [
        "\n",
        "Could not find 2013070803.dat"
       ]
      },
      {
       "output_type": "stream",
       "stream": "stdout",
       "text": [
        "\n",
        "Could not find 2013070804.dat"
       ]
      },
      {
       "output_type": "stream",
       "stream": "stdout",
       "text": [
        "\n",
        "Could not find 2013070805.dat"
       ]
      },
      {
       "output_type": "stream",
       "stream": "stdout",
       "text": [
        "\n",
        "Could not find 2013070806.dat"
       ]
      },
      {
       "output_type": "stream",
       "stream": "stdout",
       "text": [
        "\n",
        "Could not find 2013070807.dat"
       ]
      },
      {
       "output_type": "stream",
       "stream": "stdout",
       "text": [
        "\n",
        "Could not find 2013070808.dat"
       ]
      },
      {
       "output_type": "stream",
       "stream": "stdout",
       "text": [
        "\n",
        "Could not find 2013070809.dat"
       ]
      },
      {
       "output_type": "stream",
       "stream": "stdout",
       "text": [
        "\n",
        "Could not find 2013070810.dat"
       ]
      },
      {
       "output_type": "stream",
       "stream": "stdout",
       "text": [
        "\n",
        "Could not find 2013070811.dat"
       ]
      },
      {
       "output_type": "stream",
       "stream": "stdout",
       "text": [
        "\n",
        "Could not find 2013070812.dat"
       ]
      },
      {
       "output_type": "stream",
       "stream": "stdout",
       "text": [
        "\n",
        "Could not find 2013070813.dat"
       ]
      },
      {
       "output_type": "stream",
       "stream": "stdout",
       "text": [
        "\n",
        "Could not find 2013070814.dat"
       ]
      },
      {
       "output_type": "stream",
       "stream": "stdout",
       "text": [
        "\n",
        "Could not find 2013070815.dat"
       ]
      },
      {
       "output_type": "stream",
       "stream": "stdout",
       "text": [
        "\n",
        "Could not find 2013070816.dat"
       ]
      },
      {
       "output_type": "stream",
       "stream": "stdout",
       "text": [
        "\n",
        "Could not find 2013070817.dat"
       ]
      },
      {
       "output_type": "stream",
       "stream": "stdout",
       "text": [
        "\n",
        "Could not find 2013070818.dat"
       ]
      },
      {
       "output_type": "stream",
       "stream": "stdout",
       "text": [
        "\n",
        "Could not find 2013070819.dat"
       ]
      },
      {
       "output_type": "stream",
       "stream": "stdout",
       "text": [
        "\n",
        "Could not find 2013070820.dat"
       ]
      },
      {
       "output_type": "stream",
       "stream": "stdout",
       "text": [
        "\n"
       ]
      },
      {
       "ename": "KeyboardInterrupt",
       "evalue": "",
       "output_type": "pyerr",
       "traceback": [
        "\u001b[1;31m---------------------------------------------------------------------------\u001b[0m\n\u001b[1;31mKeyboardInterrupt\u001b[0m                         Traceback (most recent call last)",
        "\u001b[1;32m<ipython-input-17-604fb8b7779d>\u001b[0m in \u001b[0;36m<module>\u001b[1;34m()\u001b[0m\n\u001b[0;32m     11\u001b[0m \u001b[1;33m\u001b[0m\u001b[0m\n\u001b[0;32m     12\u001b[0m \u001b[1;32mfor\u001b[0m \u001b[0mtimestamp\u001b[0m \u001b[1;32min\u001b[0m \u001b[0mtimestamps_to_mirror\u001b[0m\u001b[1;33m:\u001b[0m\u001b[1;33m\u001b[0m\u001b[0m\n\u001b[1;32m---> 13\u001b[1;33m     \u001b[0mmirror_timestamp\u001b[0m\u001b[1;33m(\u001b[0m\u001b[0mtimestamp\u001b[0m\u001b[1;33m)\u001b[0m\u001b[1;33m\u001b[0m\u001b[0m\n\u001b[0m",
        "\u001b[1;32m<ipython-input-7-e29ad284f596>\u001b[0m in \u001b[0;36mmirror_timestamp\u001b[1;34m(timestamp)\u001b[0m\n\u001b[0;32m     28\u001b[0m     \u001b[1;32mfor\u001b[0m \u001b[0msubdir\u001b[0m \u001b[1;32min\u001b[0m \u001b[1;33m[\u001b[0m\u001b[1;34m''\u001b[0m\u001b[1;33m,\u001b[0m \u001b[1;34m'Archive/%04d/'\u001b[0m \u001b[1;33m%\u001b[0m \u001b[1;33m(\u001b[0m\u001b[0mtimestamp\u001b[0m\u001b[1;33m.\u001b[0m\u001b[0myear\u001b[0m \u001b[1;33m+\u001b[0m \u001b[1;36m1\u001b[0m\u001b[1;33m)\u001b[0m\u001b[1;33m,\u001b[0m \u001b[1;34m'Archive/%04d/'\u001b[0m \u001b[1;33m%\u001b[0m \u001b[0mtimestamp\u001b[0m\u001b[1;33m.\u001b[0m\u001b[0myear\u001b[0m\u001b[1;33m]\u001b[0m\u001b[1;33m:\u001b[0m\u001b[1;33m\u001b[0m\u001b[0m\n\u001b[0;32m     29\u001b[0m         \u001b[0mtest_src\u001b[0m \u001b[1;33m=\u001b[0m \u001b[1;34m'HourlyData/'\u001b[0m \u001b[1;33m+\u001b[0m \u001b[0msubdir\u001b[0m \u001b[1;33m+\u001b[0m \u001b[0mfilename\u001b[0m\u001b[1;33m\u001b[0m\u001b[0m\n\u001b[1;32m---> 30\u001b[1;33m         \u001b[0mmodtime\u001b[0m \u001b[1;33m=\u001b[0m \u001b[0mftp_modtime\u001b[0m\u001b[1;33m(\u001b[0m\u001b[0mtest_src\u001b[0m\u001b[1;33m)\u001b[0m\u001b[1;33m\u001b[0m\u001b[0m\n\u001b[0m\u001b[0;32m     31\u001b[0m         \u001b[1;32mif\u001b[0m \u001b[0mmodtime\u001b[0m\u001b[1;33m:\u001b[0m\u001b[1;33m\u001b[0m\u001b[0m\n\u001b[0;32m     32\u001b[0m             \u001b[0msrc\u001b[0m \u001b[1;33m=\u001b[0m \u001b[0mtest_src\u001b[0m\u001b[1;33m\u001b[0m\u001b[0m\n",
        "\u001b[1;32m<ipython-input-6-f52d0dcc39d5>\u001b[0m in \u001b[0;36mftp_modtime\u001b[1;34m(path)\u001b[0m\n\u001b[0;32m     18\u001b[0m     \u001b[1;32mwhile\u001b[0m \u001b[0mTrue\u001b[0m\u001b[1;33m:\u001b[0m\u001b[1;33m\u001b[0m\u001b[0m\n\u001b[0;32m     19\u001b[0m         \u001b[1;32mtry\u001b[0m\u001b[1;33m:\u001b[0m\u001b[1;33m\u001b[0m\u001b[0m\n\u001b[1;32m---> 20\u001b[1;33m             \u001b[0mmodtime\u001b[0m \u001b[1;33m=\u001b[0m \u001b[0mftp_connection\u001b[0m\u001b[1;33m.\u001b[0m\u001b[0msendcmd\u001b[0m\u001b[1;33m(\u001b[0m\u001b[1;34m'MDTM %s'\u001b[0m \u001b[1;33m%\u001b[0m \u001b[0mpath\u001b[0m\u001b[1;33m)\u001b[0m\u001b[1;33m\u001b[0m\u001b[0m\n\u001b[0m\u001b[0;32m     21\u001b[0m         \u001b[1;32mexcept\u001b[0m \u001b[0mftplib\u001b[0m\u001b[1;33m.\u001b[0m\u001b[0merror_perm\u001b[0m\u001b[1;33m:\u001b[0m\u001b[1;33m\u001b[0m\u001b[0m\n\u001b[0;32m     22\u001b[0m             \u001b[1;32mreturn\u001b[0m \u001b[0mNone\u001b[0m\u001b[1;33m\u001b[0m\u001b[0m\n",
        "\u001b[1;32m/home/rsargent/anaconda/lib/python2.7/ftplib.pyc\u001b[0m in \u001b[0;36msendcmd\u001b[1;34m(self, cmd)\u001b[0m\n\u001b[0;32m    247\u001b[0m         \u001b[1;34m'''Send a command and return the response.'''\u001b[0m\u001b[1;33m\u001b[0m\u001b[0m\n\u001b[0;32m    248\u001b[0m         \u001b[0mself\u001b[0m\u001b[1;33m.\u001b[0m\u001b[0mputcmd\u001b[0m\u001b[1;33m(\u001b[0m\u001b[0mcmd\u001b[0m\u001b[1;33m)\u001b[0m\u001b[1;33m\u001b[0m\u001b[0m\n\u001b[1;32m--> 249\u001b[1;33m         \u001b[1;32mreturn\u001b[0m \u001b[0mself\u001b[0m\u001b[1;33m.\u001b[0m\u001b[0mgetresp\u001b[0m\u001b[1;33m(\u001b[0m\u001b[1;33m)\u001b[0m\u001b[1;33m\u001b[0m\u001b[0m\n\u001b[0m\u001b[0;32m    250\u001b[0m \u001b[1;33m\u001b[0m\u001b[0m\n\u001b[0;32m    251\u001b[0m     \u001b[1;32mdef\u001b[0m \u001b[0mvoidcmd\u001b[0m\u001b[1;33m(\u001b[0m\u001b[0mself\u001b[0m\u001b[1;33m,\u001b[0m \u001b[0mcmd\u001b[0m\u001b[1;33m)\u001b[0m\u001b[1;33m:\u001b[0m\u001b[1;33m\u001b[0m\u001b[0m\n",
        "\u001b[1;32m/home/rsargent/anaconda/lib/python2.7/ftplib.pyc\u001b[0m in \u001b[0;36mgetresp\u001b[1;34m(self)\u001b[0m\n\u001b[0;32m    213\u001b[0m     \u001b[1;31m# Raise various errors if the response indicates an error\u001b[0m\u001b[1;33m\u001b[0m\u001b[1;33m\u001b[0m\u001b[0m\n\u001b[0;32m    214\u001b[0m     \u001b[1;32mdef\u001b[0m \u001b[0mgetresp\u001b[0m\u001b[1;33m(\u001b[0m\u001b[0mself\u001b[0m\u001b[1;33m)\u001b[0m\u001b[1;33m:\u001b[0m\u001b[1;33m\u001b[0m\u001b[0m\n\u001b[1;32m--> 215\u001b[1;33m         \u001b[0mresp\u001b[0m \u001b[1;33m=\u001b[0m \u001b[0mself\u001b[0m\u001b[1;33m.\u001b[0m\u001b[0mgetmultiline\u001b[0m\u001b[1;33m(\u001b[0m\u001b[1;33m)\u001b[0m\u001b[1;33m\u001b[0m\u001b[0m\n\u001b[0m\u001b[0;32m    216\u001b[0m         \u001b[1;32mif\u001b[0m \u001b[0mself\u001b[0m\u001b[1;33m.\u001b[0m\u001b[0mdebugging\u001b[0m\u001b[1;33m:\u001b[0m \u001b[1;32mprint\u001b[0m \u001b[1;34m'*resp*'\u001b[0m\u001b[1;33m,\u001b[0m \u001b[0mself\u001b[0m\u001b[1;33m.\u001b[0m\u001b[0msanitize\u001b[0m\u001b[1;33m(\u001b[0m\u001b[0mresp\u001b[0m\u001b[1;33m)\u001b[0m\u001b[1;33m\u001b[0m\u001b[0m\n\u001b[0;32m    217\u001b[0m         \u001b[0mself\u001b[0m\u001b[1;33m.\u001b[0m\u001b[0mlastresp\u001b[0m \u001b[1;33m=\u001b[0m \u001b[0mresp\u001b[0m\u001b[1;33m[\u001b[0m\u001b[1;33m:\u001b[0m\u001b[1;36m3\u001b[0m\u001b[1;33m]\u001b[0m\u001b[1;33m\u001b[0m\u001b[0m\n",
        "\u001b[1;32m/home/rsargent/anaconda/lib/python2.7/ftplib.pyc\u001b[0m in \u001b[0;36mgetmultiline\u001b[1;34m(self)\u001b[0m\n\u001b[0;32m    199\u001b[0m     \u001b[1;31m# these are separated by '\\n' characters in the string\u001b[0m\u001b[1;33m\u001b[0m\u001b[1;33m\u001b[0m\u001b[0m\n\u001b[0;32m    200\u001b[0m     \u001b[1;32mdef\u001b[0m \u001b[0mgetmultiline\u001b[0m\u001b[1;33m(\u001b[0m\u001b[0mself\u001b[0m\u001b[1;33m)\u001b[0m\u001b[1;33m:\u001b[0m\u001b[1;33m\u001b[0m\u001b[0m\n\u001b[1;32m--> 201\u001b[1;33m         \u001b[0mline\u001b[0m \u001b[1;33m=\u001b[0m \u001b[0mself\u001b[0m\u001b[1;33m.\u001b[0m\u001b[0mgetline\u001b[0m\u001b[1;33m(\u001b[0m\u001b[1;33m)\u001b[0m\u001b[1;33m\u001b[0m\u001b[0m\n\u001b[0m\u001b[0;32m    202\u001b[0m         \u001b[1;32mif\u001b[0m \u001b[0mline\u001b[0m\u001b[1;33m[\u001b[0m\u001b[1;36m3\u001b[0m\u001b[1;33m:\u001b[0m\u001b[1;36m4\u001b[0m\u001b[1;33m]\u001b[0m \u001b[1;33m==\u001b[0m \u001b[1;34m'-'\u001b[0m\u001b[1;33m:\u001b[0m\u001b[1;33m\u001b[0m\u001b[0m\n\u001b[0;32m    203\u001b[0m             \u001b[0mcode\u001b[0m \u001b[1;33m=\u001b[0m \u001b[0mline\u001b[0m\u001b[1;33m[\u001b[0m\u001b[1;33m:\u001b[0m\u001b[1;36m3\u001b[0m\u001b[1;33m]\u001b[0m\u001b[1;33m\u001b[0m\u001b[0m\n",
        "\u001b[1;32m/home/rsargent/anaconda/lib/python2.7/ftplib.pyc\u001b[0m in \u001b[0;36mgetline\u001b[1;34m(self)\u001b[0m\n\u001b[0;32m    184\u001b[0m     \u001b[1;31m# Raise EOFError if the connection is closed\u001b[0m\u001b[1;33m\u001b[0m\u001b[1;33m\u001b[0m\u001b[0m\n\u001b[0;32m    185\u001b[0m     \u001b[1;32mdef\u001b[0m \u001b[0mgetline\u001b[0m\u001b[1;33m(\u001b[0m\u001b[0mself\u001b[0m\u001b[1;33m)\u001b[0m\u001b[1;33m:\u001b[0m\u001b[1;33m\u001b[0m\u001b[0m\n\u001b[1;32m--> 186\u001b[1;33m         \u001b[0mline\u001b[0m \u001b[1;33m=\u001b[0m \u001b[0mself\u001b[0m\u001b[1;33m.\u001b[0m\u001b[0mfile\u001b[0m\u001b[1;33m.\u001b[0m\u001b[0mreadline\u001b[0m\u001b[1;33m(\u001b[0m\u001b[0mself\u001b[0m\u001b[1;33m.\u001b[0m\u001b[0mmaxline\u001b[0m \u001b[1;33m+\u001b[0m \u001b[1;36m1\u001b[0m\u001b[1;33m)\u001b[0m\u001b[1;33m\u001b[0m\u001b[0m\n\u001b[0m\u001b[0;32m    187\u001b[0m         \u001b[1;32mif\u001b[0m \u001b[0mlen\u001b[0m\u001b[1;33m(\u001b[0m\u001b[0mline\u001b[0m\u001b[1;33m)\u001b[0m \u001b[1;33m>\u001b[0m \u001b[0mself\u001b[0m\u001b[1;33m.\u001b[0m\u001b[0mmaxline\u001b[0m\u001b[1;33m:\u001b[0m\u001b[1;33m\u001b[0m\u001b[0m\n\u001b[0;32m    188\u001b[0m             \u001b[1;32mraise\u001b[0m \u001b[0mError\u001b[0m\u001b[1;33m(\u001b[0m\u001b[1;34m\"got more than %d bytes\"\u001b[0m \u001b[1;33m%\u001b[0m \u001b[0mself\u001b[0m\u001b[1;33m.\u001b[0m\u001b[0mmaxline\u001b[0m\u001b[1;33m)\u001b[0m\u001b[1;33m\u001b[0m\u001b[0m\n",
        "\u001b[1;32m/home/rsargent/anaconda/lib/python2.7/socket.pyc\u001b[0m in \u001b[0;36mreadline\u001b[1;34m(self, size)\u001b[0m\n\u001b[0;32m    474\u001b[0m             \u001b[1;32mwhile\u001b[0m \u001b[0mTrue\u001b[0m\u001b[1;33m:\u001b[0m\u001b[1;33m\u001b[0m\u001b[0m\n\u001b[0;32m    475\u001b[0m                 \u001b[1;32mtry\u001b[0m\u001b[1;33m:\u001b[0m\u001b[1;33m\u001b[0m\u001b[0m\n\u001b[1;32m--> 476\u001b[1;33m                     \u001b[0mdata\u001b[0m \u001b[1;33m=\u001b[0m \u001b[0mself\u001b[0m\u001b[1;33m.\u001b[0m\u001b[0m_sock\u001b[0m\u001b[1;33m.\u001b[0m\u001b[0mrecv\u001b[0m\u001b[1;33m(\u001b[0m\u001b[0mself\u001b[0m\u001b[1;33m.\u001b[0m\u001b[0m_rbufsize\u001b[0m\u001b[1;33m)\u001b[0m\u001b[1;33m\u001b[0m\u001b[0m\n\u001b[0m\u001b[0;32m    477\u001b[0m                 \u001b[1;32mexcept\u001b[0m \u001b[0merror\u001b[0m\u001b[1;33m,\u001b[0m \u001b[0me\u001b[0m\u001b[1;33m:\u001b[0m\u001b[1;33m\u001b[0m\u001b[0m\n\u001b[0;32m    478\u001b[0m                     \u001b[1;32mif\u001b[0m \u001b[0me\u001b[0m\u001b[1;33m.\u001b[0m\u001b[0margs\u001b[0m\u001b[1;33m[\u001b[0m\u001b[1;36m0\u001b[0m\u001b[1;33m]\u001b[0m \u001b[1;33m==\u001b[0m \u001b[0mEINTR\u001b[0m\u001b[1;33m:\u001b[0m\u001b[1;33m\u001b[0m\u001b[0m\n",
        "\u001b[1;31mKeyboardInterrupt\u001b[0m: "
       ]
      }
     ],
     "prompt_number": 17
    },
    {
     "cell_type": "code",
     "collapsed": false,
     "input": [],
     "language": "python",
     "metadata": {},
     "outputs": []
    }
   ],
   "metadata": {}
  }
 ]
}